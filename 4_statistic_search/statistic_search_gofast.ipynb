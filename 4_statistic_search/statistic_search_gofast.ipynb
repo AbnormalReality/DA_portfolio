{
 "cells": [
  {
   "cell_type": "markdown",
   "id": "6f33cd22",
   "metadata": {},
   "source": [
    "### Описание проекта\n",
    "Нам передали данные сервиса проката электросамокатов GoFast\n",
    "\n",
    "Данные сожержат информацию о  пользователях из нескольких городов, а также об их поездках. \n",
    "Проанализируйте данные и проверьте некоторые гипотезы, которые могут помочь бизнесу вырасти.\n",
    "\n",
    "Чтобы совершать поездки по городу, пользователи сервиса GoFast пользуются мобильным приложением. \n",
    "\n",
    "Сервисом можно пользоваться:\n",
    "**без подписки**\n",
    "абонентская плата отсутствует;\n",
    "стоимость одной минуты поездки — 8 рублей;\n",
    "стоимость старта (начала поездки) — 50 рублей;\n",
    "**с подпиской Ultra**\n",
    "абонентская плата — 199 рублей в месяц;\n",
    "стоимость одной минуты поездки — 6 рублей;\n",
    "стоимость старта — бесплатно."
   ]
  },
  {
   "cell_type": "code",
   "execution_count": 1,
   "id": "3c0d92f3",
   "metadata": {},
   "outputs": [],
   "source": [
    "import pandas as pd\n",
    "import matplotlib.pyplot as plt\n",
    "import seaborn as sns\n",
    "import plotly.express as px\n",
    "import numpy as np\n",
    "import math\n",
    "from math import sqrt\n",
    "from scipy import stats as st\n",
    "from scipy.stats import binom, norm\n",
    "pd.options.display.max_columns = 20"
   ]
  },
  {
   "cell_type": "markdown",
   "id": "878a91ff",
   "metadata": {},
   "source": [
    "#### Шаг 1. Загрузка данных"
   ]
  },
  {
   "cell_type": "code",
   "execution_count": 2,
   "id": "e46daba4",
   "metadata": {},
   "outputs": [],
   "source": [
    "# 1.1 Считайте CSV-файлы с данными с помощью библиотеки pandas и сохраните их в датафреймы.\n",
    "users_go = pd.read_csv('/datasets/users_go.csv')  \n",
    "rides_go = pd.read_csv('/datasets/rides_go.csv')\n",
    "subscriptions_go = pd.read_csv('/datasets/subscriptions_go.csv')"
   ]
  },
  {
   "cell_type": "code",
   "execution_count": 3,
   "id": "c29117df",
   "metadata": {
    "scrolled": false
   },
   "outputs": [
    {
     "data": {
      "text/html": [
       "<div>\n",
       "<style scoped>\n",
       "    .dataframe tbody tr th:only-of-type {\n",
       "        vertical-align: middle;\n",
       "    }\n",
       "\n",
       "    .dataframe tbody tr th {\n",
       "        vertical-align: top;\n",
       "    }\n",
       "\n",
       "    .dataframe thead th {\n",
       "        text-align: right;\n",
       "    }\n",
       "</style>\n",
       "<table border=\"1\" class=\"dataframe\">\n",
       "  <thead>\n",
       "    <tr style=\"text-align: right;\">\n",
       "      <th></th>\n",
       "      <th>user_id</th>\n",
       "      <th>name</th>\n",
       "      <th>age</th>\n",
       "      <th>city</th>\n",
       "      <th>subscription_type</th>\n",
       "    </tr>\n",
       "  </thead>\n",
       "  <tbody>\n",
       "    <tr>\n",
       "      <th>0</th>\n",
       "      <td>1</td>\n",
       "      <td>Кира</td>\n",
       "      <td>22</td>\n",
       "      <td>Тюмень</td>\n",
       "      <td>ultra</td>\n",
       "    </tr>\n",
       "    <tr>\n",
       "      <th>1</th>\n",
       "      <td>2</td>\n",
       "      <td>Станислав</td>\n",
       "      <td>31</td>\n",
       "      <td>Омск</td>\n",
       "      <td>ultra</td>\n",
       "    </tr>\n",
       "    <tr>\n",
       "      <th>2</th>\n",
       "      <td>3</td>\n",
       "      <td>Алексей</td>\n",
       "      <td>20</td>\n",
       "      <td>Москва</td>\n",
       "      <td>ultra</td>\n",
       "    </tr>\n",
       "    <tr>\n",
       "      <th>3</th>\n",
       "      <td>4</td>\n",
       "      <td>Константин</td>\n",
       "      <td>26</td>\n",
       "      <td>Ростов-на-Дону</td>\n",
       "      <td>ultra</td>\n",
       "    </tr>\n",
       "    <tr>\n",
       "      <th>4</th>\n",
       "      <td>5</td>\n",
       "      <td>Адель</td>\n",
       "      <td>28</td>\n",
       "      <td>Омск</td>\n",
       "      <td>ultra</td>\n",
       "    </tr>\n",
       "    <tr>\n",
       "      <th>5</th>\n",
       "      <td>6</td>\n",
       "      <td>Регина</td>\n",
       "      <td>25</td>\n",
       "      <td>Краснодар</td>\n",
       "      <td>ultra</td>\n",
       "    </tr>\n",
       "    <tr>\n",
       "      <th>6</th>\n",
       "      <td>7</td>\n",
       "      <td>Игорь</td>\n",
       "      <td>23</td>\n",
       "      <td>Омск</td>\n",
       "      <td>ultra</td>\n",
       "    </tr>\n",
       "    <tr>\n",
       "      <th>7</th>\n",
       "      <td>8</td>\n",
       "      <td>Юрий</td>\n",
       "      <td>23</td>\n",
       "      <td>Краснодар</td>\n",
       "      <td>ultra</td>\n",
       "    </tr>\n",
       "    <tr>\n",
       "      <th>8</th>\n",
       "      <td>9</td>\n",
       "      <td>Ян</td>\n",
       "      <td>21</td>\n",
       "      <td>Пятигорск</td>\n",
       "      <td>ultra</td>\n",
       "    </tr>\n",
       "    <tr>\n",
       "      <th>9</th>\n",
       "      <td>10</td>\n",
       "      <td>Валерий</td>\n",
       "      <td>18</td>\n",
       "      <td>Екатеринбург</td>\n",
       "      <td>ultra</td>\n",
       "    </tr>\n",
       "  </tbody>\n",
       "</table>\n",
       "</div>"
      ],
      "text/plain": [
       "   user_id        name  age            city subscription_type\n",
       "0        1        Кира   22          Тюмень             ultra\n",
       "1        2   Станислав   31            Омск             ultra\n",
       "2        3     Алексей   20          Москва             ultra\n",
       "3        4  Константин   26  Ростов-на-Дону             ultra\n",
       "4        5       Адель   28            Омск             ultra\n",
       "5        6      Регина   25       Краснодар             ultra\n",
       "6        7       Игорь   23            Омск             ultra\n",
       "7        8        Юрий   23       Краснодар             ultra\n",
       "8        9          Ян   21       Пятигорск             ultra\n",
       "9       10     Валерий   18    Екатеринбург             ultra"
      ]
     },
     "metadata": {},
     "output_type": "display_data"
    },
    {
     "name": "stdout",
     "output_type": "stream",
     "text": [
      "<class 'pandas.core.frame.DataFrame'>\n",
      "RangeIndex: 1565 entries, 0 to 1564\n",
      "Data columns (total 5 columns):\n",
      " #   Column             Non-Null Count  Dtype \n",
      "---  ------             --------------  ----- \n",
      " 0   user_id            1565 non-null   int64 \n",
      " 1   name               1565 non-null   object\n",
      " 2   age                1565 non-null   int64 \n",
      " 3   city               1565 non-null   object\n",
      " 4   subscription_type  1565 non-null   object\n",
      "dtypes: int64(2), object(3)\n",
      "memory usage: 61.3+ KB\n"
     ]
    },
    {
     "data": {
      "text/html": [
       "<div>\n",
       "<style scoped>\n",
       "    .dataframe tbody tr th:only-of-type {\n",
       "        vertical-align: middle;\n",
       "    }\n",
       "\n",
       "    .dataframe tbody tr th {\n",
       "        vertical-align: top;\n",
       "    }\n",
       "\n",
       "    .dataframe thead th {\n",
       "        text-align: right;\n",
       "    }\n",
       "</style>\n",
       "<table border=\"1\" class=\"dataframe\">\n",
       "  <thead>\n",
       "    <tr style=\"text-align: right;\">\n",
       "      <th></th>\n",
       "      <th>user_id</th>\n",
       "      <th>age</th>\n",
       "    </tr>\n",
       "  </thead>\n",
       "  <tbody>\n",
       "    <tr>\n",
       "      <th>count</th>\n",
       "      <td>1565.000000</td>\n",
       "      <td>1565.000000</td>\n",
       "    </tr>\n",
       "    <tr>\n",
       "      <th>mean</th>\n",
       "      <td>762.633866</td>\n",
       "      <td>24.922045</td>\n",
       "    </tr>\n",
       "    <tr>\n",
       "      <th>std</th>\n",
       "      <td>443.260155</td>\n",
       "      <td>4.553496</td>\n",
       "    </tr>\n",
       "    <tr>\n",
       "      <th>min</th>\n",
       "      <td>1.000000</td>\n",
       "      <td>12.000000</td>\n",
       "    </tr>\n",
       "    <tr>\n",
       "      <th>25%</th>\n",
       "      <td>378.000000</td>\n",
       "      <td>22.000000</td>\n",
       "    </tr>\n",
       "    <tr>\n",
       "      <th>50%</th>\n",
       "      <td>762.000000</td>\n",
       "      <td>25.000000</td>\n",
       "    </tr>\n",
       "    <tr>\n",
       "      <th>75%</th>\n",
       "      <td>1146.000000</td>\n",
       "      <td>28.000000</td>\n",
       "    </tr>\n",
       "    <tr>\n",
       "      <th>max</th>\n",
       "      <td>1534.000000</td>\n",
       "      <td>43.000000</td>\n",
       "    </tr>\n",
       "  </tbody>\n",
       "</table>\n",
       "</div>"
      ],
      "text/plain": [
       "           user_id          age\n",
       "count  1565.000000  1565.000000\n",
       "mean    762.633866    24.922045\n",
       "std     443.260155     4.553496\n",
       "min       1.000000    12.000000\n",
       "25%     378.000000    22.000000\n",
       "50%     762.000000    25.000000\n",
       "75%    1146.000000    28.000000\n",
       "max    1534.000000    43.000000"
      ]
     },
     "metadata": {},
     "output_type": "display_data"
    },
    {
     "data": {
      "text/html": [
       "<div>\n",
       "<style scoped>\n",
       "    .dataframe tbody tr th:only-of-type {\n",
       "        vertical-align: middle;\n",
       "    }\n",
       "\n",
       "    .dataframe tbody tr th {\n",
       "        vertical-align: top;\n",
       "    }\n",
       "\n",
       "    .dataframe thead th {\n",
       "        text-align: right;\n",
       "    }\n",
       "</style>\n",
       "<table border=\"1\" class=\"dataframe\">\n",
       "  <thead>\n",
       "    <tr style=\"text-align: right;\">\n",
       "      <th></th>\n",
       "      <th>user_id</th>\n",
       "      <th>distance</th>\n",
       "      <th>duration</th>\n",
       "      <th>date</th>\n",
       "    </tr>\n",
       "  </thead>\n",
       "  <tbody>\n",
       "    <tr>\n",
       "      <th>0</th>\n",
       "      <td>1</td>\n",
       "      <td>4409.919140</td>\n",
       "      <td>25.599769</td>\n",
       "      <td>2021-01-01</td>\n",
       "    </tr>\n",
       "    <tr>\n",
       "      <th>1</th>\n",
       "      <td>1</td>\n",
       "      <td>2617.592153</td>\n",
       "      <td>15.816871</td>\n",
       "      <td>2021-01-18</td>\n",
       "    </tr>\n",
       "    <tr>\n",
       "      <th>2</th>\n",
       "      <td>1</td>\n",
       "      <td>754.159807</td>\n",
       "      <td>6.232113</td>\n",
       "      <td>2021-04-20</td>\n",
       "    </tr>\n",
       "    <tr>\n",
       "      <th>3</th>\n",
       "      <td>1</td>\n",
       "      <td>2694.783254</td>\n",
       "      <td>18.511000</td>\n",
       "      <td>2021-08-11</td>\n",
       "    </tr>\n",
       "    <tr>\n",
       "      <th>4</th>\n",
       "      <td>1</td>\n",
       "      <td>4028.687306</td>\n",
       "      <td>26.265803</td>\n",
       "      <td>2021-08-28</td>\n",
       "    </tr>\n",
       "    <tr>\n",
       "      <th>5</th>\n",
       "      <td>1</td>\n",
       "      <td>2770.890808</td>\n",
       "      <td>16.650138</td>\n",
       "      <td>2021-10-09</td>\n",
       "    </tr>\n",
       "    <tr>\n",
       "      <th>6</th>\n",
       "      <td>1</td>\n",
       "      <td>3039.020292</td>\n",
       "      <td>14.927879</td>\n",
       "      <td>2021-10-19</td>\n",
       "    </tr>\n",
       "    <tr>\n",
       "      <th>7</th>\n",
       "      <td>1</td>\n",
       "      <td>2842.118050</td>\n",
       "      <td>23.117468</td>\n",
       "      <td>2021-11-06</td>\n",
       "    </tr>\n",
       "    <tr>\n",
       "      <th>8</th>\n",
       "      <td>1</td>\n",
       "      <td>3412.690668</td>\n",
       "      <td>15.238072</td>\n",
       "      <td>2021-11-14</td>\n",
       "    </tr>\n",
       "    <tr>\n",
       "      <th>9</th>\n",
       "      <td>1</td>\n",
       "      <td>748.690645</td>\n",
       "      <td>15.041884</td>\n",
       "      <td>2021-11-22</td>\n",
       "    </tr>\n",
       "  </tbody>\n",
       "</table>\n",
       "</div>"
      ],
      "text/plain": [
       "   user_id     distance   duration        date\n",
       "0        1  4409.919140  25.599769  2021-01-01\n",
       "1        1  2617.592153  15.816871  2021-01-18\n",
       "2        1   754.159807   6.232113  2021-04-20\n",
       "3        1  2694.783254  18.511000  2021-08-11\n",
       "4        1  4028.687306  26.265803  2021-08-28\n",
       "5        1  2770.890808  16.650138  2021-10-09\n",
       "6        1  3039.020292  14.927879  2021-10-19\n",
       "7        1  2842.118050  23.117468  2021-11-06\n",
       "8        1  3412.690668  15.238072  2021-11-14\n",
       "9        1   748.690645  15.041884  2021-11-22"
      ]
     },
     "metadata": {},
     "output_type": "display_data"
    },
    {
     "name": "stdout",
     "output_type": "stream",
     "text": [
      "<class 'pandas.core.frame.DataFrame'>\n",
      "RangeIndex: 18068 entries, 0 to 18067\n",
      "Data columns (total 4 columns):\n",
      " #   Column    Non-Null Count  Dtype  \n",
      "---  ------    --------------  -----  \n",
      " 0   user_id   18068 non-null  int64  \n",
      " 1   distance  18068 non-null  float64\n",
      " 2   duration  18068 non-null  float64\n",
      " 3   date      18068 non-null  object \n",
      "dtypes: float64(2), int64(1), object(1)\n",
      "memory usage: 564.8+ KB\n"
     ]
    },
    {
     "data": {
      "text/html": [
       "<div>\n",
       "<style scoped>\n",
       "    .dataframe tbody tr th:only-of-type {\n",
       "        vertical-align: middle;\n",
       "    }\n",
       "\n",
       "    .dataframe tbody tr th {\n",
       "        vertical-align: top;\n",
       "    }\n",
       "\n",
       "    .dataframe thead th {\n",
       "        text-align: right;\n",
       "    }\n",
       "</style>\n",
       "<table border=\"1\" class=\"dataframe\">\n",
       "  <thead>\n",
       "    <tr style=\"text-align: right;\">\n",
       "      <th></th>\n",
       "      <th>user_id</th>\n",
       "      <th>distance</th>\n",
       "      <th>duration</th>\n",
       "    </tr>\n",
       "  </thead>\n",
       "  <tbody>\n",
       "    <tr>\n",
       "      <th>count</th>\n",
       "      <td>18068.000000</td>\n",
       "      <td>18068.000000</td>\n",
       "      <td>18068.000000</td>\n",
       "    </tr>\n",
       "    <tr>\n",
       "      <th>mean</th>\n",
       "      <td>842.869936</td>\n",
       "      <td>3070.659976</td>\n",
       "      <td>17.805011</td>\n",
       "    </tr>\n",
       "    <tr>\n",
       "      <th>std</th>\n",
       "      <td>434.734317</td>\n",
       "      <td>1116.831209</td>\n",
       "      <td>6.091051</td>\n",
       "    </tr>\n",
       "    <tr>\n",
       "      <th>min</th>\n",
       "      <td>1.000000</td>\n",
       "      <td>0.855683</td>\n",
       "      <td>0.500000</td>\n",
       "    </tr>\n",
       "    <tr>\n",
       "      <th>25%</th>\n",
       "      <td>487.000000</td>\n",
       "      <td>2543.226360</td>\n",
       "      <td>13.597563</td>\n",
       "    </tr>\n",
       "    <tr>\n",
       "      <th>50%</th>\n",
       "      <td>889.000000</td>\n",
       "      <td>3133.609994</td>\n",
       "      <td>17.678395</td>\n",
       "    </tr>\n",
       "    <tr>\n",
       "      <th>75%</th>\n",
       "      <td>1213.250000</td>\n",
       "      <td>3776.222735</td>\n",
       "      <td>21.724800</td>\n",
       "    </tr>\n",
       "    <tr>\n",
       "      <th>max</th>\n",
       "      <td>1534.000000</td>\n",
       "      <td>7211.007745</td>\n",
       "      <td>40.823963</td>\n",
       "    </tr>\n",
       "  </tbody>\n",
       "</table>\n",
       "</div>"
      ],
      "text/plain": [
       "            user_id      distance      duration\n",
       "count  18068.000000  18068.000000  18068.000000\n",
       "mean     842.869936   3070.659976     17.805011\n",
       "std      434.734317   1116.831209      6.091051\n",
       "min        1.000000      0.855683      0.500000\n",
       "25%      487.000000   2543.226360     13.597563\n",
       "50%      889.000000   3133.609994     17.678395\n",
       "75%     1213.250000   3776.222735     21.724800\n",
       "max     1534.000000   7211.007745     40.823963"
      ]
     },
     "metadata": {},
     "output_type": "display_data"
    },
    {
     "data": {
      "text/html": [
       "<div>\n",
       "<style scoped>\n",
       "    .dataframe tbody tr th:only-of-type {\n",
       "        vertical-align: middle;\n",
       "    }\n",
       "\n",
       "    .dataframe tbody tr th {\n",
       "        vertical-align: top;\n",
       "    }\n",
       "\n",
       "    .dataframe thead th {\n",
       "        text-align: right;\n",
       "    }\n",
       "</style>\n",
       "<table border=\"1\" class=\"dataframe\">\n",
       "  <thead>\n",
       "    <tr style=\"text-align: right;\">\n",
       "      <th></th>\n",
       "      <th>subscription_type</th>\n",
       "      <th>minute_price</th>\n",
       "      <th>start_ride_price</th>\n",
       "      <th>subscription_fee</th>\n",
       "    </tr>\n",
       "  </thead>\n",
       "  <tbody>\n",
       "    <tr>\n",
       "      <th>0</th>\n",
       "      <td>free</td>\n",
       "      <td>8</td>\n",
       "      <td>50</td>\n",
       "      <td>0</td>\n",
       "    </tr>\n",
       "    <tr>\n",
       "      <th>1</th>\n",
       "      <td>ultra</td>\n",
       "      <td>6</td>\n",
       "      <td>0</td>\n",
       "      <td>199</td>\n",
       "    </tr>\n",
       "  </tbody>\n",
       "</table>\n",
       "</div>"
      ],
      "text/plain": [
       "  subscription_type  minute_price  start_ride_price  subscription_fee\n",
       "0              free             8                50                 0\n",
       "1             ultra             6                 0               199"
      ]
     },
     "metadata": {},
     "output_type": "display_data"
    },
    {
     "name": "stdout",
     "output_type": "stream",
     "text": [
      "<class 'pandas.core.frame.DataFrame'>\n",
      "RangeIndex: 2 entries, 0 to 1\n",
      "Data columns (total 4 columns):\n",
      " #   Column             Non-Null Count  Dtype \n",
      "---  ------             --------------  ----- \n",
      " 0   subscription_type  2 non-null      object\n",
      " 1   minute_price       2 non-null      int64 \n",
      " 2   start_ride_price   2 non-null      int64 \n",
      " 3   subscription_fee   2 non-null      int64 \n",
      "dtypes: int64(3), object(1)\n",
      "memory usage: 192.0+ bytes\n"
     ]
    },
    {
     "data": {
      "text/html": [
       "<div>\n",
       "<style scoped>\n",
       "    .dataframe tbody tr th:only-of-type {\n",
       "        vertical-align: middle;\n",
       "    }\n",
       "\n",
       "    .dataframe tbody tr th {\n",
       "        vertical-align: top;\n",
       "    }\n",
       "\n",
       "    .dataframe thead th {\n",
       "        text-align: right;\n",
       "    }\n",
       "</style>\n",
       "<table border=\"1\" class=\"dataframe\">\n",
       "  <thead>\n",
       "    <tr style=\"text-align: right;\">\n",
       "      <th></th>\n",
       "      <th>minute_price</th>\n",
       "      <th>start_ride_price</th>\n",
       "      <th>subscription_fee</th>\n",
       "    </tr>\n",
       "  </thead>\n",
       "  <tbody>\n",
       "    <tr>\n",
       "      <th>count</th>\n",
       "      <td>2.000000</td>\n",
       "      <td>2.000000</td>\n",
       "      <td>2.000000</td>\n",
       "    </tr>\n",
       "    <tr>\n",
       "      <th>mean</th>\n",
       "      <td>7.000000</td>\n",
       "      <td>25.000000</td>\n",
       "      <td>99.500000</td>\n",
       "    </tr>\n",
       "    <tr>\n",
       "      <th>std</th>\n",
       "      <td>1.414214</td>\n",
       "      <td>35.355339</td>\n",
       "      <td>140.714249</td>\n",
       "    </tr>\n",
       "    <tr>\n",
       "      <th>min</th>\n",
       "      <td>6.000000</td>\n",
       "      <td>0.000000</td>\n",
       "      <td>0.000000</td>\n",
       "    </tr>\n",
       "    <tr>\n",
       "      <th>25%</th>\n",
       "      <td>6.500000</td>\n",
       "      <td>12.500000</td>\n",
       "      <td>49.750000</td>\n",
       "    </tr>\n",
       "    <tr>\n",
       "      <th>50%</th>\n",
       "      <td>7.000000</td>\n",
       "      <td>25.000000</td>\n",
       "      <td>99.500000</td>\n",
       "    </tr>\n",
       "    <tr>\n",
       "      <th>75%</th>\n",
       "      <td>7.500000</td>\n",
       "      <td>37.500000</td>\n",
       "      <td>149.250000</td>\n",
       "    </tr>\n",
       "    <tr>\n",
       "      <th>max</th>\n",
       "      <td>8.000000</td>\n",
       "      <td>50.000000</td>\n",
       "      <td>199.000000</td>\n",
       "    </tr>\n",
       "  </tbody>\n",
       "</table>\n",
       "</div>"
      ],
      "text/plain": [
       "       minute_price  start_ride_price  subscription_fee\n",
       "count      2.000000          2.000000          2.000000\n",
       "mean       7.000000         25.000000         99.500000\n",
       "std        1.414214         35.355339        140.714249\n",
       "min        6.000000          0.000000          0.000000\n",
       "25%        6.500000         12.500000         49.750000\n",
       "50%        7.000000         25.000000         99.500000\n",
       "75%        7.500000         37.500000        149.250000\n",
       "max        8.000000         50.000000        199.000000"
      ]
     },
     "metadata": {},
     "output_type": "display_data"
    }
   ],
   "source": [
    "#1.2 Выведите первые строки каждого набора данных. Изучите общую информацию о каждом датафрейме.\n",
    "for df in [users_go, rides_go, subscriptions_go]:\n",
    "    display(df.head(10))\n",
    "    df.info()\n",
    "    display(df.describe())"
   ]
  },
  {
   "cell_type": "markdown",
   "id": "27f3b3bf",
   "metadata": {},
   "source": [
    "**Датасет о пользователях сервиса**\n",
    "* содержит 1565 строк\n",
    "* в первичных строках данные выглядят корректно\n",
    "\n",
    "**Датасет о поездках ползователей**\n",
    "* содержит 18068 строк\n",
    "* тип столбца с датой object\n",
    "* время и дистанции поездок имеются с малыми значениями, возможно есть аномалии-выбросы, а также большое количество знаков после запятой\n",
    "\n",
    "**Датасет о подписках**\n",
    "* содержит 2 строки собственно потому что 2 вида подписки\n",
    "* в первичных строках данные выглядят корректно\n"
   ]
  },
  {
   "cell_type": "markdown",
   "id": "aeafd2aa",
   "metadata": {},
   "source": [
    "#### Шаг 2. Предобработка данных"
   ]
  },
  {
   "cell_type": "markdown",
   "id": "29b7b872",
   "metadata": {},
   "source": [
    "**Рассмотрим количество пропусков в таблицах**\n"
   ]
  },
  {
   "cell_type": "code",
   "execution_count": 4,
   "id": "6f6365bf",
   "metadata": {},
   "outputs": [
    {
     "data": {
      "text/plain": [
       "user_id              0\n",
       "name                 0\n",
       "age                  0\n",
       "city                 0\n",
       "subscription_type    0\n",
       "dtype: int64"
      ]
     },
     "execution_count": 4,
     "metadata": {},
     "output_type": "execute_result"
    }
   ],
   "source": [
    "#Таблица с пользователями\n",
    "users_go.isna().sum()"
   ]
  },
  {
   "cell_type": "code",
   "execution_count": 5,
   "id": "f276de22",
   "metadata": {},
   "outputs": [
    {
     "data": {
      "text/plain": [
       "user_id     0\n",
       "distance    0\n",
       "duration    0\n",
       "date        0\n",
       "dtype: int64"
      ]
     },
     "execution_count": 5,
     "metadata": {},
     "output_type": "execute_result"
    }
   ],
   "source": [
    "#Таблица с поездками\n",
    "rides_go.isna().sum()"
   ]
  },
  {
   "cell_type": "code",
   "execution_count": 6,
   "id": "26d3c755",
   "metadata": {},
   "outputs": [
    {
     "data": {
      "text/plain": [
       "subscription_type    0\n",
       "minute_price         0\n",
       "start_ride_price     0\n",
       "subscription_fee     0\n",
       "dtype: int64"
      ]
     },
     "execution_count": 6,
     "metadata": {},
     "output_type": "execute_result"
    }
   ],
   "source": [
    "#Таблица с подписками\n",
    "subscriptions_go.isna().sum()"
   ]
  },
  {
   "cell_type": "markdown",
   "id": "ca911251",
   "metadata": {},
   "source": [
    "**Рассмотрим столбцы и поменяем тип данных там, где это возможно**"
   ]
  },
  {
   "cell_type": "code",
   "execution_count": 7,
   "id": "6cec6064",
   "metadata": {},
   "outputs": [],
   "source": [
    "#Приведем столбец date в датасете rides_go к типу даты pandas.\n",
    "rides_go['date'] = pd.to_datetime(rides_go['date'], format = '%Y-%m-%d')"
   ]
  },
  {
   "cell_type": "code",
   "execution_count": 8,
   "id": "ec4731fd",
   "metadata": {},
   "outputs": [
    {
     "data": {
      "text/plain": [
       "0   2021-01-01\n",
       "1   2021-01-18\n",
       "2   2021-04-20\n",
       "3   2021-08-11\n",
       "4   2021-08-28\n",
       "5   2021-10-09\n",
       "6   2021-10-19\n",
       "7   2021-11-06\n",
       "8   2021-11-14\n",
       "9   2021-11-22\n",
       "Name: date, dtype: datetime64[ns]"
      ]
     },
     "execution_count": 8,
     "metadata": {},
     "output_type": "execute_result"
    }
   ],
   "source": [
    "rides_go['date'].head(10)"
   ]
  },
  {
   "cell_type": "markdown",
   "id": "97846cd8",
   "metadata": {},
   "source": [
    "**Создайте новый столбец с номером месяца на основе столбца date.**"
   ]
  },
  {
   "cell_type": "code",
   "execution_count": 9,
   "id": "04beb6a9",
   "metadata": {},
   "outputs": [
    {
     "data": {
      "text/plain": [
       "array([2021])"
      ]
     },
     "execution_count": 9,
     "metadata": {},
     "output_type": "execute_result"
    }
   ],
   "source": [
    "#проверим, за какой период предоставлены данные. Если данные предоставлены за несколько лет, то они могут попасть в один и тот же месяц\n",
    "rides_go['date'].dt.year.unique()"
   ]
  },
  {
   "cell_type": "code",
   "execution_count": 10,
   "id": "c254ba82",
   "metadata": {},
   "outputs": [
    {
     "data": {
      "text/plain": [
       "0     1\n",
       "1     1\n",
       "2     4\n",
       "3     8\n",
       "4     8\n",
       "5    10\n",
       "6    10\n",
       "7    11\n",
       "8    11\n",
       "9    11\n",
       "Name: month, dtype: int64"
      ]
     },
     "execution_count": 10,
     "metadata": {},
     "output_type": "execute_result"
    }
   ],
   "source": [
    "#Данные предоставлены только за один год, соответственно ошибок не будет, добавим номер месяца:\n",
    "rides_go['month'] = rides_go['date'].dt.month\n",
    "rides_go['month'].head(10)"
   ]
  },
  {
   "cell_type": "markdown",
   "id": "31485f3c",
   "metadata": {},
   "source": [
    "**Обработаем дубликаты если имеются**"
   ]
  },
  {
   "cell_type": "code",
   "execution_count": 11,
   "id": "92354e45",
   "metadata": {},
   "outputs": [
    {
     "data": {
      "text/plain": [
       "31"
      ]
     },
     "execution_count": 11,
     "metadata": {},
     "output_type": "execute_result"
    }
   ],
   "source": [
    "#Таблица с пользователями\n",
    "users_go.duplicated().sum()"
   ]
  },
  {
   "cell_type": "code",
   "execution_count": 12,
   "id": "68e49716",
   "metadata": {},
   "outputs": [
    {
     "data": {
      "text/plain": [
       "0"
      ]
     },
     "execution_count": 12,
     "metadata": {},
     "output_type": "execute_result"
    }
   ],
   "source": [
    "users_go.drop_duplicates(inplace=True)\n",
    "users_go.duplicated().sum()"
   ]
  },
  {
   "cell_type": "code",
   "execution_count": 13,
   "id": "00d73c5f",
   "metadata": {},
   "outputs": [
    {
     "data": {
      "text/plain": [
       "0"
      ]
     },
     "execution_count": 13,
     "metadata": {},
     "output_type": "execute_result"
    }
   ],
   "source": [
    "#Таблица с поездками\n",
    "rides_go.duplicated().sum()"
   ]
  },
  {
   "cell_type": "markdown",
   "id": "9e70a515",
   "metadata": {},
   "source": [
    "**Вывод:**\n",
    "\n",
    "Итоги предобработки:\n",
    "\n",
    "* Пропущенных данных в таблицах нет.\n",
    "* Дубликаты имеются среди пользователей, удалили строки-дубликаты.\n",
    "* Добавили столбец month с номер месяца.\n",
    "* Привели столбец date в датасете rides_go к типу даты pandas"
   ]
  },
  {
   "cell_type": "markdown",
   "id": "6ed7c2ff",
   "metadata": {},
   "source": [
    "#### Шаг 3. Исследовательский анализ данных"
   ]
  },
  {
   "cell_type": "markdown",
   "id": "6d901a73",
   "metadata": {},
   "source": [
    "Опишите и визуализируйте общую информацию о пользователях и поездках:"
   ]
  },
  {
   "cell_type": "markdown",
   "id": "cb75dc9f",
   "metadata": {},
   "source": [
    "**Частота встречаемости городов**"
   ]
  },
  {
   "cell_type": "code",
   "execution_count": 14,
   "id": "4625fc4c",
   "metadata": {},
   "outputs": [
    {
     "data": {
      "text/plain": [
       "Пятигорск         219\n",
       "Екатеринбург      204\n",
       "Ростов-на-Дону    198\n",
       "Краснодар         193\n",
       "Сочи              189\n",
       "Омск              183\n",
       "Тюмень            180\n",
       "Москва            168\n",
       "Name: city, dtype: int64"
      ]
     },
     "execution_count": 14,
     "metadata": {},
     "output_type": "execute_result"
    }
   ],
   "source": [
    "count_users_by_city = users_go['city'].value_counts()\n",
    "count_users_by_city"
   ]
  },
  {
   "cell_type": "code",
   "execution_count": 15,
   "id": "5228f6cc",
   "metadata": {},
   "outputs": [
    {
     "data": {
      "image/png": "[encoded data removed]",
      "text/plain": [
       "<Figure size 504x504 with 1 Axes>"
      ]
     },
     "metadata": {
      "needs_background": "light"
     },
     "output_type": "display_data"
    }
   ],
   "source": [
    "users_go['city'].value_counts(ascending=True).plot.barh(\n",
    "    xlabel = 'Города', \n",
    "    ylabel = 'Количество пользователей',\n",
    "    figsize = (7,7),\n",
    "    color = [\"red\", \"green\", \"blue\", \"pink\", \"yellow\", \"black\", \"brown\", \"violet\"],\n",
    "    title = 'Распределение пользователей по городам')\n",
    "plt.show()"
   ]
  },
  {
   "cell_type": "markdown",
   "id": "b80d815e",
   "metadata": {},
   "source": [
    "ТОП-3 городов по пользователям:\n",
    "* Пятигорск         219\n",
    "* Екатеринбург      204\n",
    "* Ростов-на-Дону    198\n",
    "\n",
    "\n",
    "меньше всего в Москве - 168\n",
    "\n",
    "Пятигорск по размерам в несколько раз меньше Москвы (в Пятигорске удобнее брать самокат, чтобы куда-то добраться) и там достаточно теплый климат большую часть года, подходящий для поездок."
   ]
  },
  {
   "cell_type": "markdown",
   "id": "4a5e56fb",
   "metadata": {},
   "source": [
    "**Соотношение пользователей с подпиской и без подписки**"
   ]
  },
  {
   "cell_type": "code",
   "execution_count": 16,
   "id": "30681fda",
   "metadata": {},
   "outputs": [
    {
     "data": {
      "text/plain": [
       "free     835\n",
       "ultra    699\n",
       "Name: subscription_type, dtype: int64"
      ]
     },
     "execution_count": 16,
     "metadata": {},
     "output_type": "execute_result"
    }
   ],
   "source": [
    "users_go['subscription_type'].value_counts()"
   ]
  },
  {
   "cell_type": "code",
   "execution_count": 17,
   "id": "e20c0b1a",
   "metadata": {},
   "outputs": [
    {
     "data": {
      "image/png": "[encoded data removed]",
      "text/plain": [
       "<Figure size 360x360 with 1 Axes>"
      ]
     },
     "metadata": {},
     "output_type": "display_data"
    }
   ],
   "source": [
    "users_go['subscription_type'].value_counts().plot.pie(\n",
    "    autopct = '%1.0f%%', \n",
    "    figsize = (5,5),\n",
    "    title = 'Процентное соотношение пользователей в зависимости от тарифа')\n",
    "plt.ylabel(None)\n",
    "plt.show()"
   ]
  },
  {
   "cell_type": "markdown",
   "id": "2857bb9e",
   "metadata": {},
   "source": [
    "Подпиской пользуется 46% пользователей, без нее - 54%"
   ]
  },
  {
   "cell_type": "markdown",
   "id": "8a735f46",
   "metadata": {},
   "source": [
    "**Возраст пользователей**"
   ]
  },
  {
   "cell_type": "code",
   "execution_count": 18,
   "id": "ecf0cae3",
   "metadata": {},
   "outputs": [
    {
     "data": {
      "text/plain": [
       "664     12\n",
       "66      12\n",
       "727     12\n",
       "34      12\n",
       "235     13\n",
       "1249    13\n",
       "314     13\n",
       "83      13\n",
       "553     13\n",
       "1241    13\n",
       "Name: age, dtype: int64"
      ]
     },
     "execution_count": 18,
     "metadata": {},
     "output_type": "execute_result"
    }
   ],
   "source": [
    "#Самые младшие пользователи\n",
    "users_go['age'].sort_values().head(10)"
   ]
  },
  {
   "cell_type": "code",
   "execution_count": 19,
   "id": "77a507e6",
   "metadata": {},
   "outputs": [
    {
     "data": {
      "text/plain": [
       "1201    43\n",
       "961     39\n",
       "804     38\n",
       "453     38\n",
       "383     38\n",
       "205     37\n",
       "848     37\n",
       "721     36\n",
       "1491    36\n",
       "644     36\n",
       "Name: age, dtype: int64"
      ]
     },
     "execution_count": 19,
     "metadata": {},
     "output_type": "execute_result"
    }
   ],
   "source": [
    "#Самые старшие пользователи\n",
    "users_go['age'].sort_values(ascending=False).head(10)"
   ]
  },
  {
   "cell_type": "code",
   "execution_count": 20,
   "id": "0b754ed6",
   "metadata": {},
   "outputs": [
    {
     "data": {
      "image/png": "[encoded data removed]",
      "text/plain": [
       "<Figure size 432x288 with 1 Axes>"
      ]
     },
     "metadata": {
      "needs_background": "light"
     },
     "output_type": "display_data"
    }
   ],
   "source": [
    "plt.hist(users_go['age'], bins = 30)\n",
    "plt.title('Возраст пользователей')\n",
    "plt.xlabel('Возраст')\n",
    "plt.ylabel('Количество пользователей')\n",
    "plt.grid()\n",
    "plt.show()"
   ]
  },
  {
   "cell_type": "code",
   "execution_count": 21,
   "id": "fe97a47c",
   "metadata": {},
   "outputs": [
    {
     "data": {
      "text/plain": [
       "count    1534.000000\n",
       "mean       24.903520\n",
       "std         4.572367\n",
       "min        12.000000\n",
       "25%        22.000000\n",
       "50%        25.000000\n",
       "75%        28.000000\n",
       "max        43.000000\n",
       "Name: age, dtype: float64"
      ]
     },
     "execution_count": 21,
     "metadata": {},
     "output_type": "execute_result"
    }
   ],
   "source": [
    "users_go['age'].describe()"
   ]
  },
  {
   "cell_type": "markdown",
   "id": "376ce2a2",
   "metadata": {},
   "source": [
    "Примерно можно разделить на 5 групп. В лидерах группа от 23 до 26 лет. Примечательно что самые маленькие 12-16 лет и самые взрослые 37-43 - в группе где количество небольшое.\n",
    "* средний возраст 25 лет\n",
    "* мин 12\n",
    "* макс - 43"
   ]
  },
  {
   "cell_type": "markdown",
   "id": "6a2d1e25",
   "metadata": {},
   "source": [
    "**Расстояние, которое пользователь преодолел за одну поездку**"
   ]
  },
  {
   "cell_type": "code",
   "execution_count": 22,
   "id": "3908f296",
   "metadata": {
    "scrolled": true
   },
   "outputs": [
    {
     "data": {
      "text/plain": [
       "11555     0.855683\n",
       "9541      2.570787\n",
       "13690     4.329506\n",
       "8658      6.784447\n",
       "7841      7.097072\n",
       "8906     11.283615\n",
       "8324     12.233115\n",
       "13940    15.000606\n",
       "15626    15.366168\n",
       "11862    15.630873\n",
       "Name: distance, dtype: float64"
      ]
     },
     "execution_count": 22,
     "metadata": {},
     "output_type": "execute_result"
    }
   ],
   "source": [
    "#Самые короткие дистанции за одну поездку:\n",
    "rides_go['distance'].sort_values().head(10)"
   ]
  },
  {
   "cell_type": "code",
   "execution_count": 23,
   "id": "93d5f14d",
   "metadata": {},
   "outputs": [
    {
     "data": {
      "text/plain": [
       "16309    7211.007745\n",
       "16484    7066.003772\n",
       "15580    6908.491343\n",
       "17171    6760.940067\n",
       "17242    6724.932981\n",
       "10341    6671.969833\n",
       "11385    6601.197575\n",
       "12086    6538.937375\n",
       "10915    6535.386520\n",
       "11319    6503.600402\n",
       "Name: distance, dtype: float64"
      ]
     },
     "execution_count": 23,
     "metadata": {},
     "output_type": "execute_result"
    }
   ],
   "source": [
    "#Самые длинные дистанции за одну поездку:\n",
    "rides_go['distance'].sort_values(ascending=False).head(10)"
   ]
  },
  {
   "cell_type": "code",
   "execution_count": 24,
   "id": "a08a7dab",
   "metadata": {},
   "outputs": [
    {
     "data": {
      "image/png": "[encoded data removed]",
      "text/plain": [
       "<Figure size 432x288 with 1 Axes>"
      ]
     },
     "metadata": {
      "needs_background": "light"
     },
     "output_type": "display_data"
    }
   ],
   "source": [
    "sns.histplot(rides_go['distance'], bins = 50)\n",
    "plt.title(\"Расстояние, которое пользователь преодолел за одну поездку\", size=14)\n",
    "plt.xlabel('Расстояние')\n",
    "plt.ylabel('Количество поездок')\n",
    "plt.show()"
   ]
  },
  {
   "cell_type": "code",
   "execution_count": 25,
   "id": "c1b3279c",
   "metadata": {},
   "outputs": [
    {
     "data": {
      "text/plain": [
       "count    18068.000000\n",
       "mean      3070.659976\n",
       "std       1116.831209\n",
       "min          0.855683\n",
       "25%       2543.226360\n",
       "50%       3133.609994\n",
       "75%       3776.222735\n",
       "max       7211.007745\n",
       "Name: distance, dtype: float64"
      ]
     },
     "execution_count": 25,
     "metadata": {},
     "output_type": "execute_result"
    }
   ],
   "source": [
    "rides_go['distance'].describe()"
   ]
  },
  {
   "cell_type": "markdown",
   "id": "027f79ef",
   "metadata": {},
   "source": [
    "**Итого**\n",
    "* Среднее - 3070 м\n",
    "* мин - менее метра\n",
    "* макс - более 7211 км\n",
    "\n",
    "Думаю целесообразен акцент на СРЕДНЕМ для самокатов-поездок, чем на медиане"
   ]
  },
  {
   "cell_type": "markdown",
   "id": "25d595b7",
   "metadata": {},
   "source": [
    "**Продолжительность поездок**"
   ]
  },
  {
   "cell_type": "code",
   "execution_count": 26,
   "id": "06d49de0",
   "metadata": {},
   "outputs": [
    {
     "data": {
      "text/plain": [
       "12013    0.5\n",
       "17314    0.5\n",
       "15029    0.5\n",
       "7437     0.5\n",
       "12967    0.5\n",
       "15015    0.5\n",
       "13012    0.5\n",
       "7508     0.5\n",
       "16589    0.5\n",
       "9049     0.5\n",
       "Name: duration, dtype: float64"
      ]
     },
     "execution_count": 26,
     "metadata": {},
     "output_type": "execute_result"
    }
   ],
   "source": [
    "#Самые короткие поездки:\n",
    "rides_go['duration'].sort_values().head(10)"
   ]
  },
  {
   "cell_type": "code",
   "execution_count": 27,
   "id": "a496ff07",
   "metadata": {},
   "outputs": [
    {
     "data": {
      "text/plain": [
       "4215    40.823963\n",
       "4709    39.873856\n",
       "2623    39.526602\n",
       "1998    38.352763\n",
       "6453    38.265229\n",
       "143     38.125729\n",
       "3729    37.014141\n",
       "499     36.906491\n",
       "6348    36.809310\n",
       "4653    36.622595\n",
       "Name: duration, dtype: float64"
      ]
     },
     "execution_count": 27,
     "metadata": {},
     "output_type": "execute_result"
    }
   ],
   "source": [
    "#Самые долгие поездки:\n",
    "rides_go['duration'].sort_values(ascending=False).head(10)"
   ]
  },
  {
   "cell_type": "code",
   "execution_count": 28,
   "id": "2759682d",
   "metadata": {},
   "outputs": [
    {
     "data": {
      "image/png": "[encoded data removed]",
      "text/plain": [
       "<Figure size 432x288 with 1 Axes>"
      ]
     },
     "metadata": {
      "needs_background": "light"
     },
     "output_type": "display_data"
    }
   ],
   "source": [
    "sns.histplot(rides_go['duration'], bins = 50)\n",
    "plt.title(\"Продолжительность поездок\", size=14)\n",
    "plt.xlabel('Продолжительность')\n",
    "plt.ylabel('Количество поездок')\n",
    "plt.show()"
   ]
  },
  {
   "cell_type": "code",
   "execution_count": 29,
   "id": "16f1779a",
   "metadata": {},
   "outputs": [
    {
     "data": {
      "text/plain": [
       "count    18068.000000\n",
       "mean        17.805011\n",
       "std          6.091051\n",
       "min          0.500000\n",
       "25%         13.597563\n",
       "50%         17.678395\n",
       "75%         21.724800\n",
       "max         40.823963\n",
       "Name: duration, dtype: float64"
      ]
     },
     "execution_count": 29,
     "metadata": {},
     "output_type": "execute_result"
    }
   ],
   "source": [
    "rides_go['duration'].describe()"
   ]
  },
  {
   "cell_type": "markdown",
   "id": "56a9c020",
   "metadata": {},
   "source": [
    "**Итого:**\n",
    "* минимальное время пол минуты\n",
    "* среднее  - 17,8 минут\n",
    "* максимум - 40,82 минут"
   ]
  },
  {
   "cell_type": "markdown",
   "id": "df4c98c8",
   "metadata": {},
   "source": [
    "#### Шаг 4. Объединение данных"
   ]
  },
  {
   "cell_type": "markdown",
   "id": "4b9cd45c",
   "metadata": {},
   "source": [
    "**Объединим данные о пользователях, поездках и подписках в один датафрейм:**"
   ]
  },
  {
   "cell_type": "code",
   "execution_count": 30,
   "id": "f1fc67c7",
   "metadata": {},
   "outputs": [
    {
     "data": {
      "text/html": [
       "<div>\n",
       "<style scoped>\n",
       "    .dataframe tbody tr th:only-of-type {\n",
       "        vertical-align: middle;\n",
       "    }\n",
       "\n",
       "    .dataframe tbody tr th {\n",
       "        vertical-align: top;\n",
       "    }\n",
       "\n",
       "    .dataframe thead th {\n",
       "        text-align: right;\n",
       "    }\n",
       "</style>\n",
       "<table border=\"1\" class=\"dataframe\">\n",
       "  <thead>\n",
       "    <tr style=\"text-align: right;\">\n",
       "      <th></th>\n",
       "      <th>user_id</th>\n",
       "      <th>name</th>\n",
       "      <th>age</th>\n",
       "      <th>city</th>\n",
       "      <th>subscription_type</th>\n",
       "      <th>distance</th>\n",
       "      <th>duration</th>\n",
       "      <th>date</th>\n",
       "      <th>month</th>\n",
       "      <th>minute_price</th>\n",
       "      <th>start_ride_price</th>\n",
       "      <th>subscription_fee</th>\n",
       "    </tr>\n",
       "  </thead>\n",
       "  <tbody>\n",
       "    <tr>\n",
       "      <th>0</th>\n",
       "      <td>1</td>\n",
       "      <td>Кира</td>\n",
       "      <td>22</td>\n",
       "      <td>Тюмень</td>\n",
       "      <td>ultra</td>\n",
       "      <td>4409.919140</td>\n",
       "      <td>25.599769</td>\n",
       "      <td>2021-01-01</td>\n",
       "      <td>1</td>\n",
       "      <td>6</td>\n",
       "      <td>0</td>\n",
       "      <td>199</td>\n",
       "    </tr>\n",
       "    <tr>\n",
       "      <th>1</th>\n",
       "      <td>1</td>\n",
       "      <td>Кира</td>\n",
       "      <td>22</td>\n",
       "      <td>Тюмень</td>\n",
       "      <td>ultra</td>\n",
       "      <td>2617.592153</td>\n",
       "      <td>15.816871</td>\n",
       "      <td>2021-01-18</td>\n",
       "      <td>1</td>\n",
       "      <td>6</td>\n",
       "      <td>0</td>\n",
       "      <td>199</td>\n",
       "    </tr>\n",
       "    <tr>\n",
       "      <th>2</th>\n",
       "      <td>1</td>\n",
       "      <td>Кира</td>\n",
       "      <td>22</td>\n",
       "      <td>Тюмень</td>\n",
       "      <td>ultra</td>\n",
       "      <td>754.159807</td>\n",
       "      <td>6.232113</td>\n",
       "      <td>2021-04-20</td>\n",
       "      <td>4</td>\n",
       "      <td>6</td>\n",
       "      <td>0</td>\n",
       "      <td>199</td>\n",
       "    </tr>\n",
       "    <tr>\n",
       "      <th>3</th>\n",
       "      <td>1</td>\n",
       "      <td>Кира</td>\n",
       "      <td>22</td>\n",
       "      <td>Тюмень</td>\n",
       "      <td>ultra</td>\n",
       "      <td>2694.783254</td>\n",
       "      <td>18.511000</td>\n",
       "      <td>2021-08-11</td>\n",
       "      <td>8</td>\n",
       "      <td>6</td>\n",
       "      <td>0</td>\n",
       "      <td>199</td>\n",
       "    </tr>\n",
       "    <tr>\n",
       "      <th>4</th>\n",
       "      <td>1</td>\n",
       "      <td>Кира</td>\n",
       "      <td>22</td>\n",
       "      <td>Тюмень</td>\n",
       "      <td>ultra</td>\n",
       "      <td>4028.687306</td>\n",
       "      <td>26.265803</td>\n",
       "      <td>2021-08-28</td>\n",
       "      <td>8</td>\n",
       "      <td>6</td>\n",
       "      <td>0</td>\n",
       "      <td>199</td>\n",
       "    </tr>\n",
       "    <tr>\n",
       "      <th>...</th>\n",
       "      <td>...</td>\n",
       "      <td>...</td>\n",
       "      <td>...</td>\n",
       "      <td>...</td>\n",
       "      <td>...</td>\n",
       "      <td>...</td>\n",
       "      <td>...</td>\n",
       "      <td>...</td>\n",
       "      <td>...</td>\n",
       "      <td>...</td>\n",
       "      <td>...</td>\n",
       "      <td>...</td>\n",
       "    </tr>\n",
       "    <tr>\n",
       "      <th>18063</th>\n",
       "      <td>1534</td>\n",
       "      <td>Альберт</td>\n",
       "      <td>25</td>\n",
       "      <td>Краснодар</td>\n",
       "      <td>free</td>\n",
       "      <td>3781.098080</td>\n",
       "      <td>19.822962</td>\n",
       "      <td>2021-11-04</td>\n",
       "      <td>11</td>\n",
       "      <td>8</td>\n",
       "      <td>50</td>\n",
       "      <td>0</td>\n",
       "    </tr>\n",
       "    <tr>\n",
       "      <th>18064</th>\n",
       "      <td>1534</td>\n",
       "      <td>Альберт</td>\n",
       "      <td>25</td>\n",
       "      <td>Краснодар</td>\n",
       "      <td>free</td>\n",
       "      <td>2840.423057</td>\n",
       "      <td>21.409799</td>\n",
       "      <td>2021-11-16</td>\n",
       "      <td>11</td>\n",
       "      <td>8</td>\n",
       "      <td>50</td>\n",
       "      <td>0</td>\n",
       "    </tr>\n",
       "    <tr>\n",
       "      <th>18065</th>\n",
       "      <td>1534</td>\n",
       "      <td>Альберт</td>\n",
       "      <td>25</td>\n",
       "      <td>Краснодар</td>\n",
       "      <td>free</td>\n",
       "      <td>3826.185507</td>\n",
       "      <td>18.435051</td>\n",
       "      <td>2021-11-18</td>\n",
       "      <td>11</td>\n",
       "      <td>8</td>\n",
       "      <td>50</td>\n",
       "      <td>0</td>\n",
       "    </tr>\n",
       "    <tr>\n",
       "      <th>18066</th>\n",
       "      <td>1534</td>\n",
       "      <td>Альберт</td>\n",
       "      <td>25</td>\n",
       "      <td>Краснодар</td>\n",
       "      <td>free</td>\n",
       "      <td>2902.308661</td>\n",
       "      <td>16.674362</td>\n",
       "      <td>2021-11-27</td>\n",
       "      <td>11</td>\n",
       "      <td>8</td>\n",
       "      <td>50</td>\n",
       "      <td>0</td>\n",
       "    </tr>\n",
       "    <tr>\n",
       "      <th>18067</th>\n",
       "      <td>1534</td>\n",
       "      <td>Альберт</td>\n",
       "      <td>25</td>\n",
       "      <td>Краснодар</td>\n",
       "      <td>free</td>\n",
       "      <td>2371.711192</td>\n",
       "      <td>15.893917</td>\n",
       "      <td>2021-12-29</td>\n",
       "      <td>12</td>\n",
       "      <td>8</td>\n",
       "      <td>50</td>\n",
       "      <td>0</td>\n",
       "    </tr>\n",
       "  </tbody>\n",
       "</table>\n",
       "<p>18068 rows × 12 columns</p>\n",
       "</div>"
      ],
      "text/plain": [
       "       user_id     name  age       city subscription_type     distance  \\\n",
       "0            1     Кира   22     Тюмень             ultra  4409.919140   \n",
       "1            1     Кира   22     Тюмень             ultra  2617.592153   \n",
       "2            1     Кира   22     Тюмень             ultra   754.159807   \n",
       "3            1     Кира   22     Тюмень             ultra  2694.783254   \n",
       "4            1     Кира   22     Тюмень             ultra  4028.687306   \n",
       "...        ...      ...  ...        ...               ...          ...   \n",
       "18063     1534  Альберт   25  Краснодар              free  3781.098080   \n",
       "18064     1534  Альберт   25  Краснодар              free  2840.423057   \n",
       "18065     1534  Альберт   25  Краснодар              free  3826.185507   \n",
       "18066     1534  Альберт   25  Краснодар              free  2902.308661   \n",
       "18067     1534  Альберт   25  Краснодар              free  2371.711192   \n",
       "\n",
       "        duration       date  month  minute_price  start_ride_price  \\\n",
       "0      25.599769 2021-01-01      1             6                 0   \n",
       "1      15.816871 2021-01-18      1             6                 0   \n",
       "2       6.232113 2021-04-20      4             6                 0   \n",
       "3      18.511000 2021-08-11      8             6                 0   \n",
       "4      26.265803 2021-08-28      8             6                 0   \n",
       "...          ...        ...    ...           ...               ...   \n",
       "18063  19.822962 2021-11-04     11             8                50   \n",
       "18064  21.409799 2021-11-16     11             8                50   \n",
       "18065  18.435051 2021-11-18     11             8                50   \n",
       "18066  16.674362 2021-11-27     11             8                50   \n",
       "18067  15.893917 2021-12-29     12             8                50   \n",
       "\n",
       "       subscription_fee  \n",
       "0                   199  \n",
       "1                   199  \n",
       "2                   199  \n",
       "3                   199  \n",
       "4                   199  \n",
       "...                 ...  \n",
       "18063                 0  \n",
       "18064                 0  \n",
       "18065                 0  \n",
       "18066                 0  \n",
       "18067                 0  \n",
       "\n",
       "[18068 rows x 12 columns]"
      ]
     },
     "execution_count": 30,
     "metadata": {},
     "output_type": "execute_result"
    }
   ],
   "source": [
    "full_data = users_go.merge(rides_go)\n",
    "full_data = full_data.merge(subscriptions_go)\n",
    "full_data"
   ]
  },
  {
   "cell_type": "code",
   "execution_count": 31,
   "id": "c54cd8dd",
   "metadata": {},
   "outputs": [
    {
     "data": {
      "text/plain": [
       "95"
      ]
     },
     "execution_count": 31,
     "metadata": {},
     "output_type": "execute_result"
    }
   ],
   "source": [
    "#кратко рассмотрим ультра короткие поездки\n",
    "full_data[(full_data['duration']<2)]['duration'].count()"
   ]
  },
  {
   "cell_type": "code",
   "execution_count": 32,
   "id": "a9f1b6fd",
   "metadata": {},
   "outputs": [
    {
     "data": {
      "text/html": [
       "<div>\n",
       "<style scoped>\n",
       "    .dataframe tbody tr th:only-of-type {\n",
       "        vertical-align: middle;\n",
       "    }\n",
       "\n",
       "    .dataframe tbody tr th {\n",
       "        vertical-align: top;\n",
       "    }\n",
       "\n",
       "    .dataframe thead th {\n",
       "        text-align: right;\n",
       "    }\n",
       "</style>\n",
       "<table border=\"1\" class=\"dataframe\">\n",
       "  <thead>\n",
       "    <tr style=\"text-align: right;\">\n",
       "      <th></th>\n",
       "      <th>user_id</th>\n",
       "      <th>name</th>\n",
       "      <th>age</th>\n",
       "      <th>city</th>\n",
       "      <th>subscription_type</th>\n",
       "      <th>distance</th>\n",
       "      <th>duration</th>\n",
       "      <th>date</th>\n",
       "      <th>month</th>\n",
       "      <th>minute_price</th>\n",
       "      <th>start_ride_price</th>\n",
       "      <th>subscription_fee</th>\n",
       "    </tr>\n",
       "  </thead>\n",
       "  <tbody>\n",
       "    <tr>\n",
       "      <th>6531</th>\n",
       "      <td>701</td>\n",
       "      <td>Иван</td>\n",
       "      <td>31</td>\n",
       "      <td>Екатеринбург</td>\n",
       "      <td>free</td>\n",
       "      <td>4196.445201</td>\n",
       "      <td>0.5</td>\n",
       "      <td>2021-08-31</td>\n",
       "      <td>8</td>\n",
       "      <td>8</td>\n",
       "      <td>50</td>\n",
       "      <td>0</td>\n",
       "    </tr>\n",
       "    <tr>\n",
       "      <th>6570</th>\n",
       "      <td>704</td>\n",
       "      <td>Мирон</td>\n",
       "      <td>29</td>\n",
       "      <td>Ростов-на-Дону</td>\n",
       "      <td>free</td>\n",
       "      <td>4830.824371</td>\n",
       "      <td>0.5</td>\n",
       "      <td>2021-10-14</td>\n",
       "      <td>10</td>\n",
       "      <td>8</td>\n",
       "      <td>50</td>\n",
       "      <td>0</td>\n",
       "    </tr>\n",
       "    <tr>\n",
       "      <th>6680</th>\n",
       "      <td>712</td>\n",
       "      <td>Дарья</td>\n",
       "      <td>28</td>\n",
       "      <td>Москва</td>\n",
       "      <td>free</td>\n",
       "      <td>4684.004397</td>\n",
       "      <td>0.5</td>\n",
       "      <td>2021-03-04</td>\n",
       "      <td>3</td>\n",
       "      <td>8</td>\n",
       "      <td>50</td>\n",
       "      <td>0</td>\n",
       "    </tr>\n",
       "    <tr>\n",
       "      <th>6695</th>\n",
       "      <td>713</td>\n",
       "      <td>Святослав</td>\n",
       "      <td>30</td>\n",
       "      <td>Краснодар</td>\n",
       "      <td>free</td>\n",
       "      <td>5215.642710</td>\n",
       "      <td>0.5</td>\n",
       "      <td>2021-02-25</td>\n",
       "      <td>2</td>\n",
       "      <td>8</td>\n",
       "      <td>50</td>\n",
       "      <td>0</td>\n",
       "    </tr>\n",
       "    <tr>\n",
       "      <th>6768</th>\n",
       "      <td>718</td>\n",
       "      <td>Владислава</td>\n",
       "      <td>31</td>\n",
       "      <td>Москва</td>\n",
       "      <td>free</td>\n",
       "      <td>5197.436649</td>\n",
       "      <td>0.5</td>\n",
       "      <td>2021-02-11</td>\n",
       "      <td>2</td>\n",
       "      <td>8</td>\n",
       "      <td>50</td>\n",
       "      <td>0</td>\n",
       "    </tr>\n",
       "    <tr>\n",
       "      <th>...</th>\n",
       "      <td>...</td>\n",
       "      <td>...</td>\n",
       "      <td>...</td>\n",
       "      <td>...</td>\n",
       "      <td>...</td>\n",
       "      <td>...</td>\n",
       "      <td>...</td>\n",
       "      <td>...</td>\n",
       "      <td>...</td>\n",
       "      <td>...</td>\n",
       "      <td>...</td>\n",
       "      <td>...</td>\n",
       "    </tr>\n",
       "    <tr>\n",
       "      <th>17004</th>\n",
       "      <td>1460</td>\n",
       "      <td>Жанна</td>\n",
       "      <td>27</td>\n",
       "      <td>Пятигорск</td>\n",
       "      <td>free</td>\n",
       "      <td>5531.335845</td>\n",
       "      <td>0.5</td>\n",
       "      <td>2021-01-19</td>\n",
       "      <td>1</td>\n",
       "      <td>8</td>\n",
       "      <td>50</td>\n",
       "      <td>0</td>\n",
       "    </tr>\n",
       "    <tr>\n",
       "      <th>17242</th>\n",
       "      <td>1477</td>\n",
       "      <td>Ян</td>\n",
       "      <td>17</td>\n",
       "      <td>Сочи</td>\n",
       "      <td>free</td>\n",
       "      <td>6724.932981</td>\n",
       "      <td>0.5</td>\n",
       "      <td>2021-01-12</td>\n",
       "      <td>1</td>\n",
       "      <td>8</td>\n",
       "      <td>50</td>\n",
       "      <td>0</td>\n",
       "    </tr>\n",
       "    <tr>\n",
       "      <th>17314</th>\n",
       "      <td>1483</td>\n",
       "      <td>Роберт</td>\n",
       "      <td>26</td>\n",
       "      <td>Екатеринбург</td>\n",
       "      <td>free</td>\n",
       "      <td>4445.481070</td>\n",
       "      <td>0.5</td>\n",
       "      <td>2021-03-06</td>\n",
       "      <td>3</td>\n",
       "      <td>8</td>\n",
       "      <td>50</td>\n",
       "      <td>0</td>\n",
       "    </tr>\n",
       "    <tr>\n",
       "      <th>17505</th>\n",
       "      <td>1496</td>\n",
       "      <td>Яна</td>\n",
       "      <td>19</td>\n",
       "      <td>Москва</td>\n",
       "      <td>free</td>\n",
       "      <td>5722.551787</td>\n",
       "      <td>0.5</td>\n",
       "      <td>2021-02-14</td>\n",
       "      <td>2</td>\n",
       "      <td>8</td>\n",
       "      <td>50</td>\n",
       "      <td>0</td>\n",
       "    </tr>\n",
       "    <tr>\n",
       "      <th>17909</th>\n",
       "      <td>1524</td>\n",
       "      <td>Матвей</td>\n",
       "      <td>32</td>\n",
       "      <td>Москва</td>\n",
       "      <td>free</td>\n",
       "      <td>4103.998874</td>\n",
       "      <td>0.5</td>\n",
       "      <td>2021-06-18</td>\n",
       "      <td>6</td>\n",
       "      <td>8</td>\n",
       "      <td>50</td>\n",
       "      <td>0</td>\n",
       "    </tr>\n",
       "  </tbody>\n",
       "</table>\n",
       "<p>95 rows × 12 columns</p>\n",
       "</div>"
      ],
      "text/plain": [
       "       user_id        name  age            city subscription_type  \\\n",
       "6531       701        Иван   31    Екатеринбург              free   \n",
       "6570       704       Мирон   29  Ростов-на-Дону              free   \n",
       "6680       712       Дарья   28          Москва              free   \n",
       "6695       713   Святослав   30       Краснодар              free   \n",
       "6768       718  Владислава   31          Москва              free   \n",
       "...        ...         ...  ...             ...               ...   \n",
       "17004     1460       Жанна   27       Пятигорск              free   \n",
       "17242     1477          Ян   17            Сочи              free   \n",
       "17314     1483      Роберт   26    Екатеринбург              free   \n",
       "17505     1496         Яна   19          Москва              free   \n",
       "17909     1524      Матвей   32          Москва              free   \n",
       "\n",
       "          distance  duration       date  month  minute_price  \\\n",
       "6531   4196.445201       0.5 2021-08-31      8             8   \n",
       "6570   4830.824371       0.5 2021-10-14     10             8   \n",
       "6680   4684.004397       0.5 2021-03-04      3             8   \n",
       "6695   5215.642710       0.5 2021-02-25      2             8   \n",
       "6768   5197.436649       0.5 2021-02-11      2             8   \n",
       "...            ...       ...        ...    ...           ...   \n",
       "17004  5531.335845       0.5 2021-01-19      1             8   \n",
       "17242  6724.932981       0.5 2021-01-12      1             8   \n",
       "17314  4445.481070       0.5 2021-03-06      3             8   \n",
       "17505  5722.551787       0.5 2021-02-14      2             8   \n",
       "17909  4103.998874       0.5 2021-06-18      6             8   \n",
       "\n",
       "       start_ride_price  subscription_fee  \n",
       "6531                 50                 0  \n",
       "6570                 50                 0  \n",
       "6680                 50                 0  \n",
       "6695                 50                 0  \n",
       "6768                 50                 0  \n",
       "...                 ...               ...  \n",
       "17004                50                 0  \n",
       "17242                50                 0  \n",
       "17314                50                 0  \n",
       "17505                50                 0  \n",
       "17909                50                 0  \n",
       "\n",
       "[95 rows x 12 columns]"
      ]
     },
     "execution_count": 32,
     "metadata": {},
     "output_type": "execute_result"
    }
   ],
   "source": [
    "full_data.query('duration < 2')"
   ]
  },
  {
   "cell_type": "code",
   "execution_count": 33,
   "id": "7ebde01e",
   "metadata": {},
   "outputs": [
    {
     "data": {
      "text/plain": [
       "1"
      ]
     },
     "execution_count": 33,
     "metadata": {},
     "output_type": "execute_result"
    }
   ],
   "source": [
    "full_data[(full_data['distance']<2)]['distance'].count()"
   ]
  },
  {
   "cell_type": "code",
   "execution_count": 34,
   "id": "aa7f5b13",
   "metadata": {},
   "outputs": [
    {
     "data": {
      "text/html": [
       "<div>\n",
       "<style scoped>\n",
       "    .dataframe tbody tr th:only-of-type {\n",
       "        vertical-align: middle;\n",
       "    }\n",
       "\n",
       "    .dataframe tbody tr th {\n",
       "        vertical-align: top;\n",
       "    }\n",
       "\n",
       "    .dataframe thead th {\n",
       "        text-align: right;\n",
       "    }\n",
       "</style>\n",
       "<table border=\"1\" class=\"dataframe\">\n",
       "  <thead>\n",
       "    <tr style=\"text-align: right;\">\n",
       "      <th></th>\n",
       "      <th>user_id</th>\n",
       "      <th>name</th>\n",
       "      <th>age</th>\n",
       "      <th>city</th>\n",
       "      <th>subscription_type</th>\n",
       "      <th>distance</th>\n",
       "      <th>duration</th>\n",
       "      <th>date</th>\n",
       "      <th>month</th>\n",
       "      <th>minute_price</th>\n",
       "      <th>start_ride_price</th>\n",
       "      <th>subscription_fee</th>\n",
       "    </tr>\n",
       "  </thead>\n",
       "  <tbody>\n",
       "    <tr>\n",
       "      <th>11555</th>\n",
       "      <td>1069</td>\n",
       "      <td>Степан</td>\n",
       "      <td>20</td>\n",
       "      <td>Сочи</td>\n",
       "      <td>free</td>\n",
       "      <td>0.855683</td>\n",
       "      <td>10.001902</td>\n",
       "      <td>2021-01-31</td>\n",
       "      <td>1</td>\n",
       "      <td>8</td>\n",
       "      <td>50</td>\n",
       "      <td>0</td>\n",
       "    </tr>\n",
       "  </tbody>\n",
       "</table>\n",
       "</div>"
      ],
      "text/plain": [
       "       user_id    name  age  city subscription_type  distance   duration  \\\n",
       "11555     1069  Степан   20  Сочи              free  0.855683  10.001902   \n",
       "\n",
       "            date  month  minute_price  start_ride_price  subscription_fee  \n",
       "11555 2021-01-31      1             8                50                 0  "
      ]
     },
     "execution_count": 34,
     "metadata": {},
     "output_type": "execute_result"
    }
   ],
   "source": [
    "full_data.query('distance < 2')"
   ]
  },
  {
   "cell_type": "markdown",
   "id": "8389abf4",
   "metadata": {},
   "source": [
    "Получается что из-за тех.ошибки есть 95 поездок менее 2 мин (чаще всего 0.5 мин), но с большим расстоянием которое нельзя проехать за такое время (т.к. учет времени не велся то за него и не заплатили - возможно рекламная или пром поездка). Сообщим о проблеме сервису в выводах. по длине 1 поездка которая реалистична."
   ]
  },
  {
   "cell_type": "markdown",
   "id": "0eb4782c",
   "metadata": {},
   "source": [
    "**Создадим датафрейм с данными о пользователях без подписки:**"
   ]
  },
  {
   "cell_type": "code",
   "execution_count": 35,
   "id": "c1d61ab8",
   "metadata": {},
   "outputs": [
    {
     "data": {
      "text/html": [
       "<div>\n",
       "<style scoped>\n",
       "    .dataframe tbody tr th:only-of-type {\n",
       "        vertical-align: middle;\n",
       "    }\n",
       "\n",
       "    .dataframe tbody tr th {\n",
       "        vertical-align: top;\n",
       "    }\n",
       "\n",
       "    .dataframe thead th {\n",
       "        text-align: right;\n",
       "    }\n",
       "</style>\n",
       "<table border=\"1\" class=\"dataframe\">\n",
       "  <thead>\n",
       "    <tr style=\"text-align: right;\">\n",
       "      <th></th>\n",
       "      <th>user_id</th>\n",
       "      <th>name</th>\n",
       "      <th>age</th>\n",
       "      <th>city</th>\n",
       "      <th>subscription_type</th>\n",
       "      <th>distance</th>\n",
       "      <th>duration</th>\n",
       "      <th>date</th>\n",
       "      <th>month</th>\n",
       "      <th>minute_price</th>\n",
       "      <th>start_ride_price</th>\n",
       "      <th>subscription_fee</th>\n",
       "    </tr>\n",
       "  </thead>\n",
       "  <tbody>\n",
       "    <tr>\n",
       "      <th>6500</th>\n",
       "      <td>700</td>\n",
       "      <td>Айдар</td>\n",
       "      <td>22</td>\n",
       "      <td>Омск</td>\n",
       "      <td>free</td>\n",
       "      <td>2515.690719</td>\n",
       "      <td>14.944286</td>\n",
       "      <td>2021-01-02</td>\n",
       "      <td>1</td>\n",
       "      <td>8</td>\n",
       "      <td>50</td>\n",
       "      <td>0</td>\n",
       "    </tr>\n",
       "    <tr>\n",
       "      <th>6501</th>\n",
       "      <td>700</td>\n",
       "      <td>Айдар</td>\n",
       "      <td>22</td>\n",
       "      <td>Омск</td>\n",
       "      <td>free</td>\n",
       "      <td>846.932642</td>\n",
       "      <td>16.234663</td>\n",
       "      <td>2021-02-01</td>\n",
       "      <td>2</td>\n",
       "      <td>8</td>\n",
       "      <td>50</td>\n",
       "      <td>0</td>\n",
       "    </tr>\n",
       "    <tr>\n",
       "      <th>6502</th>\n",
       "      <td>700</td>\n",
       "      <td>Айдар</td>\n",
       "      <td>22</td>\n",
       "      <td>Омск</td>\n",
       "      <td>free</td>\n",
       "      <td>4004.434142</td>\n",
       "      <td>20.016628</td>\n",
       "      <td>2021-02-04</td>\n",
       "      <td>2</td>\n",
       "      <td>8</td>\n",
       "      <td>50</td>\n",
       "      <td>0</td>\n",
       "    </tr>\n",
       "    <tr>\n",
       "      <th>6503</th>\n",
       "      <td>700</td>\n",
       "      <td>Айдар</td>\n",
       "      <td>22</td>\n",
       "      <td>Омск</td>\n",
       "      <td>free</td>\n",
       "      <td>1205.911290</td>\n",
       "      <td>9.782872</td>\n",
       "      <td>2021-02-10</td>\n",
       "      <td>2</td>\n",
       "      <td>8</td>\n",
       "      <td>50</td>\n",
       "      <td>0</td>\n",
       "    </tr>\n",
       "    <tr>\n",
       "      <th>6504</th>\n",
       "      <td>700</td>\n",
       "      <td>Айдар</td>\n",
       "      <td>22</td>\n",
       "      <td>Омск</td>\n",
       "      <td>free</td>\n",
       "      <td>3047.379435</td>\n",
       "      <td>17.427673</td>\n",
       "      <td>2021-02-14</td>\n",
       "      <td>2</td>\n",
       "      <td>8</td>\n",
       "      <td>50</td>\n",
       "      <td>0</td>\n",
       "    </tr>\n",
       "    <tr>\n",
       "      <th>...</th>\n",
       "      <td>...</td>\n",
       "      <td>...</td>\n",
       "      <td>...</td>\n",
       "      <td>...</td>\n",
       "      <td>...</td>\n",
       "      <td>...</td>\n",
       "      <td>...</td>\n",
       "      <td>...</td>\n",
       "      <td>...</td>\n",
       "      <td>...</td>\n",
       "      <td>...</td>\n",
       "      <td>...</td>\n",
       "    </tr>\n",
       "    <tr>\n",
       "      <th>18063</th>\n",
       "      <td>1534</td>\n",
       "      <td>Альберт</td>\n",
       "      <td>25</td>\n",
       "      <td>Краснодар</td>\n",
       "      <td>free</td>\n",
       "      <td>3781.098080</td>\n",
       "      <td>19.822962</td>\n",
       "      <td>2021-11-04</td>\n",
       "      <td>11</td>\n",
       "      <td>8</td>\n",
       "      <td>50</td>\n",
       "      <td>0</td>\n",
       "    </tr>\n",
       "    <tr>\n",
       "      <th>18064</th>\n",
       "      <td>1534</td>\n",
       "      <td>Альберт</td>\n",
       "      <td>25</td>\n",
       "      <td>Краснодар</td>\n",
       "      <td>free</td>\n",
       "      <td>2840.423057</td>\n",
       "      <td>21.409799</td>\n",
       "      <td>2021-11-16</td>\n",
       "      <td>11</td>\n",
       "      <td>8</td>\n",
       "      <td>50</td>\n",
       "      <td>0</td>\n",
       "    </tr>\n",
       "    <tr>\n",
       "      <th>18065</th>\n",
       "      <td>1534</td>\n",
       "      <td>Альберт</td>\n",
       "      <td>25</td>\n",
       "      <td>Краснодар</td>\n",
       "      <td>free</td>\n",
       "      <td>3826.185507</td>\n",
       "      <td>18.435051</td>\n",
       "      <td>2021-11-18</td>\n",
       "      <td>11</td>\n",
       "      <td>8</td>\n",
       "      <td>50</td>\n",
       "      <td>0</td>\n",
       "    </tr>\n",
       "    <tr>\n",
       "      <th>18066</th>\n",
       "      <td>1534</td>\n",
       "      <td>Альберт</td>\n",
       "      <td>25</td>\n",
       "      <td>Краснодар</td>\n",
       "      <td>free</td>\n",
       "      <td>2902.308661</td>\n",
       "      <td>16.674362</td>\n",
       "      <td>2021-11-27</td>\n",
       "      <td>11</td>\n",
       "      <td>8</td>\n",
       "      <td>50</td>\n",
       "      <td>0</td>\n",
       "    </tr>\n",
       "    <tr>\n",
       "      <th>18067</th>\n",
       "      <td>1534</td>\n",
       "      <td>Альберт</td>\n",
       "      <td>25</td>\n",
       "      <td>Краснодар</td>\n",
       "      <td>free</td>\n",
       "      <td>2371.711192</td>\n",
       "      <td>15.893917</td>\n",
       "      <td>2021-12-29</td>\n",
       "      <td>12</td>\n",
       "      <td>8</td>\n",
       "      <td>50</td>\n",
       "      <td>0</td>\n",
       "    </tr>\n",
       "  </tbody>\n",
       "</table>\n",
       "<p>11568 rows × 12 columns</p>\n",
       "</div>"
      ],
      "text/plain": [
       "       user_id     name  age       city subscription_type     distance  \\\n",
       "6500       700    Айдар   22       Омск              free  2515.690719   \n",
       "6501       700    Айдар   22       Омск              free   846.932642   \n",
       "6502       700    Айдар   22       Омск              free  4004.434142   \n",
       "6503       700    Айдар   22       Омск              free  1205.911290   \n",
       "6504       700    Айдар   22       Омск              free  3047.379435   \n",
       "...        ...      ...  ...        ...               ...          ...   \n",
       "18063     1534  Альберт   25  Краснодар              free  3781.098080   \n",
       "18064     1534  Альберт   25  Краснодар              free  2840.423057   \n",
       "18065     1534  Альберт   25  Краснодар              free  3826.185507   \n",
       "18066     1534  Альберт   25  Краснодар              free  2902.308661   \n",
       "18067     1534  Альберт   25  Краснодар              free  2371.711192   \n",
       "\n",
       "        duration       date  month  minute_price  start_ride_price  \\\n",
       "6500   14.944286 2021-01-02      1             8                50   \n",
       "6501   16.234663 2021-02-01      2             8                50   \n",
       "6502   20.016628 2021-02-04      2             8                50   \n",
       "6503    9.782872 2021-02-10      2             8                50   \n",
       "6504   17.427673 2021-02-14      2             8                50   \n",
       "...          ...        ...    ...           ...               ...   \n",
       "18063  19.822962 2021-11-04     11             8                50   \n",
       "18064  21.409799 2021-11-16     11             8                50   \n",
       "18065  18.435051 2021-11-18     11             8                50   \n",
       "18066  16.674362 2021-11-27     11             8                50   \n",
       "18067  15.893917 2021-12-29     12             8                50   \n",
       "\n",
       "       subscription_fee  \n",
       "6500                  0  \n",
       "6501                  0  \n",
       "6502                  0  \n",
       "6503                  0  \n",
       "6504                  0  \n",
       "...                 ...  \n",
       "18063                 0  \n",
       "18064                 0  \n",
       "18065                 0  \n",
       "18066                 0  \n",
       "18067                 0  \n",
       "\n",
       "[11568 rows x 12 columns]"
      ]
     },
     "execution_count": 35,
     "metadata": {},
     "output_type": "execute_result"
    }
   ],
   "source": [
    "free_sub = full_data.query(\"`subscription_type` == 'free'\")\n",
    "free_sub"
   ]
  },
  {
   "cell_type": "markdown",
   "id": "5205a742",
   "metadata": {},
   "source": [
    "**Визуализируем информацию о расстоянии на бесплатной подписке:**"
   ]
  },
  {
   "cell_type": "code",
   "execution_count": 36,
   "id": "e757fe6d",
   "metadata": {},
   "outputs": [
    {
     "data": {
      "image/png": "[encoded data removed]",
      "text/plain": [
       "<Figure size 432x288 with 1 Axes>"
      ]
     },
     "metadata": {
      "needs_background": "light"
     },
     "output_type": "display_data"
    },
    {
     "data": {
      "text/plain": [
       "<Figure size 1440x1440 with 0 Axes>"
      ]
     },
     "metadata": {},
     "output_type": "display_data"
    }
   ],
   "source": [
    "sns.histplot(free_sub['distance'], bins=30)\n",
    "plt.title('Расстояние, бесплатная подписка')\n",
    "plt.xlabel('Расстояние, м')\n",
    "plt.ylabel('Количество поездок')\n",
    "plt.figure(figsize=(20,20))\n",
    "plt.show()"
   ]
  },
  {
   "cell_type": "code",
   "execution_count": 37,
   "id": "818226ce",
   "metadata": {},
   "outputs": [
    {
     "data": {
      "text/plain": [
       "count    11568.000000\n",
       "mean      3045.495282\n",
       "std       1246.173806\n",
       "min          0.855683\n",
       "25%       2366.562689\n",
       "50%       3114.648465\n",
       "75%       3905.697894\n",
       "max       7211.007745\n",
       "Name: distance, dtype: float64"
      ]
     },
     "execution_count": 37,
     "metadata": {},
     "output_type": "execute_result"
    }
   ],
   "source": [
    "free_sub['distance'].describe()"
   ]
  },
  {
   "cell_type": "markdown",
   "id": "53d20578",
   "metadata": {},
   "source": [
    "* среднее 3045 м\n",
    "* мин - менее метра\n",
    "* макс - 7211 м"
   ]
  },
  {
   "cell_type": "markdown",
   "id": "0d612d02",
   "metadata": {},
   "source": [
    "**Визуализируем информацию о времени на бесплатной подписке:**"
   ]
  },
  {
   "cell_type": "code",
   "execution_count": 38,
   "id": "4b254a8b",
   "metadata": {},
   "outputs": [
    {
     "data": {
      "image/png": "[encoded data removed]",
      "text/plain": [
       "<Figure size 432x288 with 1 Axes>"
      ]
     },
     "metadata": {
      "needs_background": "light"
     },
     "output_type": "display_data"
    },
    {
     "data": {
      "text/plain": [
       "<Figure size 1440x1440 with 0 Axes>"
      ]
     },
     "metadata": {},
     "output_type": "display_data"
    }
   ],
   "source": [
    "sns.histplot(free_sub['duration'], bins=30)\n",
    "plt.title('Время, бесплатная подписка')\n",
    "plt.xlabel('Время поездки, минуты')\n",
    "plt.ylabel('Количество поездок')\n",
    "plt.figure(figsize=(20,20))\n",
    "plt.show()"
   ]
  },
  {
   "cell_type": "code",
   "execution_count": 39,
   "id": "1d8aa110",
   "metadata": {},
   "outputs": [
    {
     "data": {
      "text/plain": [
       "count    11568.000000\n",
       "mean        17.390909\n",
       "std          6.326803\n",
       "min          0.500000\n",
       "25%         12.958437\n",
       "50%         17.326890\n",
       "75%         21.594071\n",
       "max         34.948498\n",
       "Name: duration, dtype: float64"
      ]
     },
     "execution_count": 39,
     "metadata": {},
     "output_type": "execute_result"
    }
   ],
   "source": [
    "free_sub['duration'].describe()"
   ]
  },
  {
   "cell_type": "markdown",
   "id": "9f8bbb84",
   "metadata": {},
   "source": [
    "* среднее время - 17,3 мин\n",
    "* мин- пол минуты\n",
    "* макс - 35 мин"
   ]
  },
  {
   "cell_type": "markdown",
   "id": "7f8bad1a",
   "metadata": {},
   "source": [
    "**Создадим датафрейм с данными о пользователях с подпиской:**"
   ]
  },
  {
   "cell_type": "code",
   "execution_count": 40,
   "id": "c1a145b1",
   "metadata": {},
   "outputs": [
    {
     "data": {
      "text/html": [
       "<div>\n",
       "<style scoped>\n",
       "    .dataframe tbody tr th:only-of-type {\n",
       "        vertical-align: middle;\n",
       "    }\n",
       "\n",
       "    .dataframe tbody tr th {\n",
       "        vertical-align: top;\n",
       "    }\n",
       "\n",
       "    .dataframe thead th {\n",
       "        text-align: right;\n",
       "    }\n",
       "</style>\n",
       "<table border=\"1\" class=\"dataframe\">\n",
       "  <thead>\n",
       "    <tr style=\"text-align: right;\">\n",
       "      <th></th>\n",
       "      <th>user_id</th>\n",
       "      <th>name</th>\n",
       "      <th>age</th>\n",
       "      <th>city</th>\n",
       "      <th>subscription_type</th>\n",
       "      <th>distance</th>\n",
       "      <th>duration</th>\n",
       "      <th>date</th>\n",
       "      <th>month</th>\n",
       "      <th>minute_price</th>\n",
       "      <th>start_ride_price</th>\n",
       "      <th>subscription_fee</th>\n",
       "    </tr>\n",
       "  </thead>\n",
       "  <tbody>\n",
       "    <tr>\n",
       "      <th>0</th>\n",
       "      <td>1</td>\n",
       "      <td>Кира</td>\n",
       "      <td>22</td>\n",
       "      <td>Тюмень</td>\n",
       "      <td>ultra</td>\n",
       "      <td>4409.919140</td>\n",
       "      <td>25.599769</td>\n",
       "      <td>2021-01-01</td>\n",
       "      <td>1</td>\n",
       "      <td>6</td>\n",
       "      <td>0</td>\n",
       "      <td>199</td>\n",
       "    </tr>\n",
       "    <tr>\n",
       "      <th>1</th>\n",
       "      <td>1</td>\n",
       "      <td>Кира</td>\n",
       "      <td>22</td>\n",
       "      <td>Тюмень</td>\n",
       "      <td>ultra</td>\n",
       "      <td>2617.592153</td>\n",
       "      <td>15.816871</td>\n",
       "      <td>2021-01-18</td>\n",
       "      <td>1</td>\n",
       "      <td>6</td>\n",
       "      <td>0</td>\n",
       "      <td>199</td>\n",
       "    </tr>\n",
       "    <tr>\n",
       "      <th>2</th>\n",
       "      <td>1</td>\n",
       "      <td>Кира</td>\n",
       "      <td>22</td>\n",
       "      <td>Тюмень</td>\n",
       "      <td>ultra</td>\n",
       "      <td>754.159807</td>\n",
       "      <td>6.232113</td>\n",
       "      <td>2021-04-20</td>\n",
       "      <td>4</td>\n",
       "      <td>6</td>\n",
       "      <td>0</td>\n",
       "      <td>199</td>\n",
       "    </tr>\n",
       "    <tr>\n",
       "      <th>3</th>\n",
       "      <td>1</td>\n",
       "      <td>Кира</td>\n",
       "      <td>22</td>\n",
       "      <td>Тюмень</td>\n",
       "      <td>ultra</td>\n",
       "      <td>2694.783254</td>\n",
       "      <td>18.511000</td>\n",
       "      <td>2021-08-11</td>\n",
       "      <td>8</td>\n",
       "      <td>6</td>\n",
       "      <td>0</td>\n",
       "      <td>199</td>\n",
       "    </tr>\n",
       "    <tr>\n",
       "      <th>4</th>\n",
       "      <td>1</td>\n",
       "      <td>Кира</td>\n",
       "      <td>22</td>\n",
       "      <td>Тюмень</td>\n",
       "      <td>ultra</td>\n",
       "      <td>4028.687306</td>\n",
       "      <td>26.265803</td>\n",
       "      <td>2021-08-28</td>\n",
       "      <td>8</td>\n",
       "      <td>6</td>\n",
       "      <td>0</td>\n",
       "      <td>199</td>\n",
       "    </tr>\n",
       "    <tr>\n",
       "      <th>...</th>\n",
       "      <td>...</td>\n",
       "      <td>...</td>\n",
       "      <td>...</td>\n",
       "      <td>...</td>\n",
       "      <td>...</td>\n",
       "      <td>...</td>\n",
       "      <td>...</td>\n",
       "      <td>...</td>\n",
       "      <td>...</td>\n",
       "      <td>...</td>\n",
       "      <td>...</td>\n",
       "      <td>...</td>\n",
       "    </tr>\n",
       "    <tr>\n",
       "      <th>6495</th>\n",
       "      <td>699</td>\n",
       "      <td>Оксана</td>\n",
       "      <td>22</td>\n",
       "      <td>Москва</td>\n",
       "      <td>ultra</td>\n",
       "      <td>3973.046497</td>\n",
       "      <td>24.671163</td>\n",
       "      <td>2021-08-29</td>\n",
       "      <td>8</td>\n",
       "      <td>6</td>\n",
       "      <td>0</td>\n",
       "      <td>199</td>\n",
       "    </tr>\n",
       "    <tr>\n",
       "      <th>6496</th>\n",
       "      <td>699</td>\n",
       "      <td>Оксана</td>\n",
       "      <td>22</td>\n",
       "      <td>Москва</td>\n",
       "      <td>ultra</td>\n",
       "      <td>3288.702563</td>\n",
       "      <td>15.892886</td>\n",
       "      <td>2021-09-12</td>\n",
       "      <td>9</td>\n",
       "      <td>6</td>\n",
       "      <td>0</td>\n",
       "      <td>199</td>\n",
       "    </tr>\n",
       "    <tr>\n",
       "      <th>6497</th>\n",
       "      <td>699</td>\n",
       "      <td>Оксана</td>\n",
       "      <td>22</td>\n",
       "      <td>Москва</td>\n",
       "      <td>ultra</td>\n",
       "      <td>3076.159348</td>\n",
       "      <td>14.389525</td>\n",
       "      <td>2021-09-26</td>\n",
       "      <td>9</td>\n",
       "      <td>6</td>\n",
       "      <td>0</td>\n",
       "      <td>199</td>\n",
       "    </tr>\n",
       "    <tr>\n",
       "      <th>6498</th>\n",
       "      <td>699</td>\n",
       "      <td>Оксана</td>\n",
       "      <td>22</td>\n",
       "      <td>Москва</td>\n",
       "      <td>ultra</td>\n",
       "      <td>4707.845501</td>\n",
       "      <td>15.839579</td>\n",
       "      <td>2021-10-17</td>\n",
       "      <td>10</td>\n",
       "      <td>6</td>\n",
       "      <td>0</td>\n",
       "      <td>199</td>\n",
       "    </tr>\n",
       "    <tr>\n",
       "      <th>6499</th>\n",
       "      <td>699</td>\n",
       "      <td>Оксана</td>\n",
       "      <td>22</td>\n",
       "      <td>Москва</td>\n",
       "      <td>ultra</td>\n",
       "      <td>3202.890770</td>\n",
       "      <td>25.217345</td>\n",
       "      <td>2021-12-03</td>\n",
       "      <td>12</td>\n",
       "      <td>6</td>\n",
       "      <td>0</td>\n",
       "      <td>199</td>\n",
       "    </tr>\n",
       "  </tbody>\n",
       "</table>\n",
       "<p>6500 rows × 12 columns</p>\n",
       "</div>"
      ],
      "text/plain": [
       "      user_id    name  age    city subscription_type     distance   duration  \\\n",
       "0           1    Кира   22  Тюмень             ultra  4409.919140  25.599769   \n",
       "1           1    Кира   22  Тюмень             ultra  2617.592153  15.816871   \n",
       "2           1    Кира   22  Тюмень             ultra   754.159807   6.232113   \n",
       "3           1    Кира   22  Тюмень             ultra  2694.783254  18.511000   \n",
       "4           1    Кира   22  Тюмень             ultra  4028.687306  26.265803   \n",
       "...       ...     ...  ...     ...               ...          ...        ...   \n",
       "6495      699  Оксана   22  Москва             ultra  3973.046497  24.671163   \n",
       "6496      699  Оксана   22  Москва             ultra  3288.702563  15.892886   \n",
       "6497      699  Оксана   22  Москва             ultra  3076.159348  14.389525   \n",
       "6498      699  Оксана   22  Москва             ultra  4707.845501  15.839579   \n",
       "6499      699  Оксана   22  Москва             ultra  3202.890770  25.217345   \n",
       "\n",
       "           date  month  minute_price  start_ride_price  subscription_fee  \n",
       "0    2021-01-01      1             6                 0               199  \n",
       "1    2021-01-18      1             6                 0               199  \n",
       "2    2021-04-20      4             6                 0               199  \n",
       "3    2021-08-11      8             6                 0               199  \n",
       "4    2021-08-28      8             6                 0               199  \n",
       "...         ...    ...           ...               ...               ...  \n",
       "6495 2021-08-29      8             6                 0               199  \n",
       "6496 2021-09-12      9             6                 0               199  \n",
       "6497 2021-09-26      9             6                 0               199  \n",
       "6498 2021-10-17     10             6                 0               199  \n",
       "6499 2021-12-03     12             6                 0               199  \n",
       "\n",
       "[6500 rows x 12 columns]"
      ]
     },
     "execution_count": 40,
     "metadata": {},
     "output_type": "execute_result"
    }
   ],
   "source": [
    "ultra_sub = full_data.query(\"`subscription_type` == 'ultra'\")\n",
    "ultra_sub"
   ]
  },
  {
   "cell_type": "markdown",
   "id": "92fb7bd3",
   "metadata": {},
   "source": [
    "**Визуализируем информацию о расстоянии на платном тарифе:**"
   ]
  },
  {
   "cell_type": "code",
   "execution_count": 41,
   "id": "c3ef8256",
   "metadata": {},
   "outputs": [
    {
     "data": {
      "image/png": "[encoded data removed]",
      "text/plain": [
       "<Figure size 432x288 with 1 Axes>"
      ]
     },
     "metadata": {
      "needs_background": "light"
     },
     "output_type": "display_data"
    },
    {
     "data": {
      "text/plain": [
       "<Figure size 1440x1440 with 0 Axes>"
      ]
     },
     "metadata": {},
     "output_type": "display_data"
    }
   ],
   "source": [
    "sns.histplot(ultra_sub['distance'], bins=40)\n",
    "plt.title('Расстояние, платный тариф')\n",
    "plt.xlabel('Расстояние, м')\n",
    "plt.ylabel('Количество поездок')\n",
    "plt.figure(figsize=(20,20))\n",
    "plt.show()"
   ]
  },
  {
   "cell_type": "code",
   "execution_count": 42,
   "id": "6837ade5",
   "metadata": {},
   "outputs": [
    {
     "data": {
      "text/plain": [
       "count    6500.000000\n",
       "mean     3115.445388\n",
       "std       836.895330\n",
       "min       244.210438\n",
       "25%      2785.444017\n",
       "50%      3148.637229\n",
       "75%      3560.574425\n",
       "max      5699.769662\n",
       "Name: distance, dtype: float64"
      ]
     },
     "execution_count": 42,
     "metadata": {},
     "output_type": "execute_result"
    }
   ],
   "source": [
    "ultra_sub['distance'].describe()"
   ]
  },
  {
   "cell_type": "markdown",
   "id": "215243c0",
   "metadata": {},
   "source": [
    "* среднее 3115 м\n",
    "* мин - 244 м\n",
    "* макс - 5699 м"
   ]
  },
  {
   "cell_type": "markdown",
   "id": "a248cc20",
   "metadata": {},
   "source": [
    "**Визуализируем информацию о времени на платном тарифе:**"
   ]
  },
  {
   "cell_type": "code",
   "execution_count": 43,
   "id": "27aca246",
   "metadata": {},
   "outputs": [
    {
     "data": {
      "image/png": "[encoded data removed]",
      "text/plain": [
       "<Figure size 432x288 with 1 Axes>"
      ]
     },
     "metadata": {
      "needs_background": "light"
     },
     "output_type": "display_data"
    },
    {
     "data": {
      "text/plain": [
       "<Figure size 1440x1440 with 0 Axes>"
      ]
     },
     "metadata": {},
     "output_type": "display_data"
    }
   ],
   "source": [
    "sns.histplot(ultra_sub['duration'], bins=30)\n",
    "plt.title('Время, платный тариф')\n",
    "plt.xlabel('Время поездки, минуты')\n",
    "plt.ylabel('Количество поездок')\n",
    "plt.figure(figsize=(20,20))\n",
    "plt.show()"
   ]
  },
  {
   "cell_type": "code",
   "execution_count": 44,
   "id": "a4ca6365",
   "metadata": {},
   "outputs": [
    {
     "data": {
      "text/plain": [
       "count    6500.000000\n",
       "mean       18.541985\n",
       "std         5.572048\n",
       "min         3.760353\n",
       "25%        14.524654\n",
       "50%        18.178153\n",
       "75%        21.884129\n",
       "max        40.823963\n",
       "Name: duration, dtype: float64"
      ]
     },
     "execution_count": 44,
     "metadata": {},
     "output_type": "execute_result"
    }
   ],
   "source": [
    "ultra_sub['duration'].describe()"
   ]
  },
  {
   "cell_type": "markdown",
   "id": "c719e73f",
   "metadata": {},
   "source": [
    "* среднее - 18,5 мин\n",
    "* мин - 3,76 мин\n",
    "* макс - 40,8 мин"
   ]
  },
  {
   "cell_type": "code",
   "execution_count": 45,
   "id": "0588ab41",
   "metadata": {},
   "outputs": [
    {
     "data": {
      "image/png": "[encoded data removed]",
      "text/plain": [
       "<Figure size 432x288 with 1 Axes>"
      ]
     },
     "metadata": {
      "needs_background": "light"
     },
     "output_type": "display_data"
    }
   ],
   "source": [
    "plt.style.use('seaborn-deep')\n",
    "x = free_sub['duration']\n",
    "y = ultra_sub['duration']\n",
    "\n",
    "bins = 30\n",
    "\n",
    "plt.hist([x, y], bins, label=['free_duration_hist', 'ultra_duration_hist'])\n",
    "plt.legend(loc='upper right')\n",
    "plt.xlabel('Время, минуты')\n",
    "plt.ylabel('Количество поездок')\n",
    "plt.title('Совмещенный график времени на 2 тарифах')\n",
    "plt.show()"
   ]
  },
  {
   "cell_type": "markdown",
   "id": "1f798046",
   "metadata": {},
   "source": [
    "На бесплатной подписке больше количество продолжительных поездок."
   ]
  },
  {
   "cell_type": "code",
   "execution_count": 46,
   "id": "18658ae2",
   "metadata": {},
   "outputs": [
    {
     "data": {
      "image/png": "[encoded data removed]",
      "text/plain": [
       "<Figure size 432x288 with 1 Axes>"
      ]
     },
     "metadata": {
      "needs_background": "light"
     },
     "output_type": "display_data"
    }
   ],
   "source": [
    "plt.style.use('seaborn-deep')\n",
    "x = free_sub['distance']\n",
    "y = ultra_sub['distance']\n",
    "\n",
    "bins = 30\n",
    "\n",
    "plt.hist([x, y], bins, label=['free_distance_hist', 'ultra_distance_hist'])\n",
    "plt.legend(loc='upper right')\n",
    "plt.xlabel('Расстояние, м')\n",
    "plt.ylabel('Количество поездок')\n",
    "plt.title('Совмещенный график дистанции поездки на 2 тарифах')\n",
    "plt.show()"
   ]
  },
  {
   "cell_type": "markdown",
   "id": "81a513c2",
   "metadata": {},
   "source": [
    "на бесплатной подписке больше количество более длинных по расстоянию поездок.Но в районе 3 км пользователи с платной подпиской совершают больше поездок."
   ]
  },
  {
   "cell_type": "markdown",
   "id": "d1290366",
   "metadata": {},
   "source": [
    "**Выводы:**\n",
    "\n",
    "* Объединили данные о пользователях, поездках и тарифах в один датафрейм - full_data.\n",
    "\n",
    "* Выделили два датафрейма на основе full_data:\n",
    "\n",
    "  free_sub - Информация о пользователях с бесплатным тарифом\n",
    "  \n",
    "  ultra_sub - Информация о пользователях с платным тарифом\n",
    "  \n",
    "  \n",
    "\n",
    "* Визуализировали информацию о расстоянии и времени для каждого из тарифов.\n",
    "\n",
    "\n",
    "* Интересная ситуация на обоих тарифах около 1 км - предположу что это тестовые заезды в беплатном / экономия денег на платном (до магазина и т.п.)\n",
    "\n",
    "В данном случае радикальных отличий в характеристиках показателей пользователей платной и бесплатной подписке я не наблюдаю, кроме того что на бесплатной больше проезжают длинные расстояния чаще. Самая длинная поездка на бесплатной подписке - более 7 км."
   ]
  },
  {
   "cell_type": "markdown",
   "id": "581ad1e8",
   "metadata": {},
   "source": [
    "#### Шаг 5. Подсчёт выручки"
   ]
  },
  {
   "cell_type": "markdown",
   "id": "8f4a114a",
   "metadata": {},
   "source": [
    "**Найдем суммарное расстояние, количество поeздок и суммарное время для каждого пользователя за каждый месяц**"
   ]
  },
  {
   "cell_type": "code",
   "execution_count": 47,
   "id": "1eadb2f7",
   "metadata": {},
   "outputs": [],
   "source": [
    "#округлим продолжительность до целых чисел\n",
    "full_data['duration'] = np.ceil(full_data['duration'])"
   ]
  },
  {
   "cell_type": "code",
   "execution_count": 48,
   "id": "d3862811",
   "metadata": {},
   "outputs": [],
   "source": [
    "total_data = pd.pivot_table(full_data,\n",
    "                           index=['month', 'user_id'],\n",
    "                           values = ['distance', 'duration', 'name', 'subscription_type'],\n",
    "                           aggfunc = {'distance': sum, \n",
    "                                      'duration' : sum, \n",
    "                                      'name' : len, \n",
    "                                      'subscription_type' : min})"
   ]
  },
  {
   "cell_type": "code",
   "execution_count": 49,
   "id": "fef1d86c",
   "metadata": {},
   "outputs": [],
   "source": [
    "total_data.rename(columns = {'name' : 'count_tips'}, inplace = True)"
   ]
  },
  {
   "cell_type": "code",
   "execution_count": 50,
   "id": "9ee30d5f",
   "metadata": {},
   "outputs": [
    {
     "data": {
      "text/html": [
       "<div>\n",
       "<style scoped>\n",
       "    .dataframe tbody tr th:only-of-type {\n",
       "        vertical-align: middle;\n",
       "    }\n",
       "\n",
       "    .dataframe tbody tr th {\n",
       "        vertical-align: top;\n",
       "    }\n",
       "\n",
       "    .dataframe thead th {\n",
       "        text-align: right;\n",
       "    }\n",
       "</style>\n",
       "<table border=\"1\" class=\"dataframe\">\n",
       "  <thead>\n",
       "    <tr style=\"text-align: right;\">\n",
       "      <th></th>\n",
       "      <th></th>\n",
       "      <th>distance</th>\n",
       "      <th>duration</th>\n",
       "      <th>count_tips</th>\n",
       "      <th>subscription_type</th>\n",
       "    </tr>\n",
       "    <tr>\n",
       "      <th>month</th>\n",
       "      <th>user_id</th>\n",
       "      <th></th>\n",
       "      <th></th>\n",
       "      <th></th>\n",
       "      <th></th>\n",
       "    </tr>\n",
       "  </thead>\n",
       "  <tbody>\n",
       "    <tr>\n",
       "      <th rowspan=\"20\" valign=\"top\">1</th>\n",
       "      <th>1</th>\n",
       "      <td>7027.511294</td>\n",
       "      <td>42.0</td>\n",
       "      <td>2</td>\n",
       "      <td>ultra</td>\n",
       "    </tr>\n",
       "    <tr>\n",
       "      <th>1061</th>\n",
       "      <td>12637.249630</td>\n",
       "      <td>43.0</td>\n",
       "      <td>3</td>\n",
       "      <td>free</td>\n",
       "    </tr>\n",
       "    <tr>\n",
       "      <th>1063</th>\n",
       "      <td>3276.362299</td>\n",
       "      <td>10.0</td>\n",
       "      <td>1</td>\n",
       "      <td>free</td>\n",
       "    </tr>\n",
       "    <tr>\n",
       "      <th>1064</th>\n",
       "      <td>5297.324649</td>\n",
       "      <td>15.0</td>\n",
       "      <td>1</td>\n",
       "      <td>free</td>\n",
       "    </tr>\n",
       "    <tr>\n",
       "      <th>1065</th>\n",
       "      <td>14547.099333</td>\n",
       "      <td>99.0</td>\n",
       "      <td>4</td>\n",
       "      <td>free</td>\n",
       "    </tr>\n",
       "    <tr>\n",
       "      <th>1066</th>\n",
       "      <td>2809.064949</td>\n",
       "      <td>19.0</td>\n",
       "      <td>1</td>\n",
       "      <td>free</td>\n",
       "    </tr>\n",
       "    <tr>\n",
       "      <th>1067</th>\n",
       "      <td>3864.900780</td>\n",
       "      <td>22.0</td>\n",
       "      <td>1</td>\n",
       "      <td>free</td>\n",
       "    </tr>\n",
       "    <tr>\n",
       "      <th>1069</th>\n",
       "      <td>7007.076943</td>\n",
       "      <td>53.0</td>\n",
       "      <td>3</td>\n",
       "      <td>free</td>\n",
       "    </tr>\n",
       "    <tr>\n",
       "      <th>1071</th>\n",
       "      <td>3635.094136</td>\n",
       "      <td>15.0</td>\n",
       "      <td>1</td>\n",
       "      <td>free</td>\n",
       "    </tr>\n",
       "    <tr>\n",
       "      <th>1072</th>\n",
       "      <td>2498.615999</td>\n",
       "      <td>11.0</td>\n",
       "      <td>1</td>\n",
       "      <td>free</td>\n",
       "    </tr>\n",
       "    <tr>\n",
       "      <th>1073</th>\n",
       "      <td>2945.802455</td>\n",
       "      <td>16.0</td>\n",
       "      <td>1</td>\n",
       "      <td>free</td>\n",
       "    </tr>\n",
       "    <tr>\n",
       "      <th>1074</th>\n",
       "      <td>2814.793386</td>\n",
       "      <td>22.0</td>\n",
       "      <td>1</td>\n",
       "      <td>free</td>\n",
       "    </tr>\n",
       "    <tr>\n",
       "      <th>1075</th>\n",
       "      <td>5746.745124</td>\n",
       "      <td>29.0</td>\n",
       "      <td>3</td>\n",
       "      <td>free</td>\n",
       "    </tr>\n",
       "    <tr>\n",
       "      <th>1077</th>\n",
       "      <td>114.036199</td>\n",
       "      <td>13.0</td>\n",
       "      <td>1</td>\n",
       "      <td>free</td>\n",
       "    </tr>\n",
       "    <tr>\n",
       "      <th>1078</th>\n",
       "      <td>3748.219563</td>\n",
       "      <td>19.0</td>\n",
       "      <td>1</td>\n",
       "      <td>free</td>\n",
       "    </tr>\n",
       "    <tr>\n",
       "      <th>1082</th>\n",
       "      <td>7250.124895</td>\n",
       "      <td>30.0</td>\n",
       "      <td>2</td>\n",
       "      <td>free</td>\n",
       "    </tr>\n",
       "    <tr>\n",
       "      <th>1083</th>\n",
       "      <td>5848.881463</td>\n",
       "      <td>31.0</td>\n",
       "      <td>2</td>\n",
       "      <td>free</td>\n",
       "    </tr>\n",
       "    <tr>\n",
       "      <th>1084</th>\n",
       "      <td>4615.097141</td>\n",
       "      <td>25.0</td>\n",
       "      <td>1</td>\n",
       "      <td>free</td>\n",
       "    </tr>\n",
       "    <tr>\n",
       "      <th>1085</th>\n",
       "      <td>11410.546346</td>\n",
       "      <td>63.0</td>\n",
       "      <td>3</td>\n",
       "      <td>free</td>\n",
       "    </tr>\n",
       "    <tr>\n",
       "      <th>1086</th>\n",
       "      <td>4044.280322</td>\n",
       "      <td>18.0</td>\n",
       "      <td>1</td>\n",
       "      <td>free</td>\n",
       "    </tr>\n",
       "  </tbody>\n",
       "</table>\n",
       "</div>"
      ],
      "text/plain": [
       "                   distance  duration  count_tips subscription_type\n",
       "month user_id                                                      \n",
       "1     1         7027.511294      42.0           2             ultra\n",
       "      1061     12637.249630      43.0           3              free\n",
       "      1063      3276.362299      10.0           1              free\n",
       "      1064      5297.324649      15.0           1              free\n",
       "      1065     14547.099333      99.0           4              free\n",
       "      1066      2809.064949      19.0           1              free\n",
       "      1067      3864.900780      22.0           1              free\n",
       "      1069      7007.076943      53.0           3              free\n",
       "      1071      3635.094136      15.0           1              free\n",
       "      1072      2498.615999      11.0           1              free\n",
       "      1073      2945.802455      16.0           1              free\n",
       "      1074      2814.793386      22.0           1              free\n",
       "      1075      5746.745124      29.0           3              free\n",
       "      1077       114.036199      13.0           1              free\n",
       "      1078      3748.219563      19.0           1              free\n",
       "      1082      7250.124895      30.0           2              free\n",
       "      1083      5848.881463      31.0           2              free\n",
       "      1084      4615.097141      25.0           1              free\n",
       "      1085     11410.546346      63.0           3              free\n",
       "      1086      4044.280322      18.0           1              free"
      ]
     },
     "execution_count": 50,
     "metadata": {},
     "output_type": "execute_result"
    }
   ],
   "source": [
    "total_data.sort_values(by='month').head(20)"
   ]
  },
  {
   "cell_type": "code",
   "execution_count": 51,
   "id": "c076f818",
   "metadata": {},
   "outputs": [
    {
     "data": {
      "text/html": [
       "<div>\n",
       "<style scoped>\n",
       "    .dataframe tbody tr th:only-of-type {\n",
       "        vertical-align: middle;\n",
       "    }\n",
       "\n",
       "    .dataframe tbody tr th {\n",
       "        vertical-align: top;\n",
       "    }\n",
       "\n",
       "    .dataframe thead th {\n",
       "        text-align: right;\n",
       "    }\n",
       "</style>\n",
       "<table border=\"1\" class=\"dataframe\">\n",
       "  <thead>\n",
       "    <tr style=\"text-align: right;\">\n",
       "      <th></th>\n",
       "      <th></th>\n",
       "      <th>distance</th>\n",
       "      <th>duration</th>\n",
       "      <th>count_tips</th>\n",
       "      <th>subscription_type</th>\n",
       "    </tr>\n",
       "    <tr>\n",
       "      <th>month</th>\n",
       "      <th>user_id</th>\n",
       "      <th></th>\n",
       "      <th></th>\n",
       "      <th></th>\n",
       "      <th></th>\n",
       "    </tr>\n",
       "  </thead>\n",
       "  <tbody>\n",
       "    <tr>\n",
       "      <th>1</th>\n",
       "      <th>1</th>\n",
       "      <td>7027.511294</td>\n",
       "      <td>42.0</td>\n",
       "      <td>2</td>\n",
       "      <td>ultra</td>\n",
       "    </tr>\n",
       "    <tr>\n",
       "      <th>4</th>\n",
       "      <th>1</th>\n",
       "      <td>754.159807</td>\n",
       "      <td>7.0</td>\n",
       "      <td>1</td>\n",
       "      <td>ultra</td>\n",
       "    </tr>\n",
       "    <tr>\n",
       "      <th>8</th>\n",
       "      <th>1</th>\n",
       "      <td>6723.470560</td>\n",
       "      <td>46.0</td>\n",
       "      <td>2</td>\n",
       "      <td>ultra</td>\n",
       "    </tr>\n",
       "    <tr>\n",
       "      <th>10</th>\n",
       "      <th>1</th>\n",
       "      <td>5809.911100</td>\n",
       "      <td>32.0</td>\n",
       "      <td>2</td>\n",
       "      <td>ultra</td>\n",
       "    </tr>\n",
       "    <tr>\n",
       "      <th>11</th>\n",
       "      <th>1</th>\n",
       "      <td>7003.499363</td>\n",
       "      <td>56.0</td>\n",
       "      <td>3</td>\n",
       "      <td>ultra</td>\n",
       "    </tr>\n",
       "    <tr>\n",
       "      <th>12</th>\n",
       "      <th>1</th>\n",
       "      <td>6751.629942</td>\n",
       "      <td>28.0</td>\n",
       "      <td>2</td>\n",
       "      <td>ultra</td>\n",
       "    </tr>\n",
       "  </tbody>\n",
       "</table>\n",
       "</div>"
      ],
      "text/plain": [
       "                  distance  duration  count_tips subscription_type\n",
       "month user_id                                                     \n",
       "1     1        7027.511294      42.0           2             ultra\n",
       "4     1         754.159807       7.0           1             ultra\n",
       "8     1        6723.470560      46.0           2             ultra\n",
       "10    1        5809.911100      32.0           2             ultra\n",
       "11    1        7003.499363      56.0           3             ultra\n",
       "12    1        6751.629942      28.0           2             ultra"
      ]
     },
     "execution_count": 51,
     "metadata": {},
     "output_type": "execute_result"
    }
   ],
   "source": [
    "total_data.query('user_id == 1')"
   ]
  },
  {
   "cell_type": "markdown",
   "id": "1ee54c41",
   "metadata": {},
   "source": [
    "**Добавим столбец с помесячной выручкой**"
   ]
  },
  {
   "cell_type": "markdown",
   "id": "3b2401c2",
   "metadata": {},
   "source": [
    "**без подписки**\n",
    "* абонентская плата отсутствует;\n",
    "* стоимость одной минуты поездки — 8 рублей;\n",
    "* стоимость старта (начала поездки) — 50 рублей;\n",
    "\n",
    "**с подпиской Ultra**\n",
    "* абонентская плата — 199 рублей в месяц;\n",
    "* стоимость одной минуты поездки — 6 рублей;\n",
    "* стоимость старта — бесплатно."
   ]
  },
  {
   "cell_type": "code",
   "execution_count": 52,
   "id": "1d405c48",
   "metadata": {},
   "outputs": [],
   "source": [
    "#Помесячная выручка считается по формуле: \n",
    "#по формуле: (стоимость старта поездки ×  количество поездок) + стоимость одной минуты поездки × общая продолжительность всех поездок в минутах) + стоимость подписки.\n",
    "def revenue(row):\n",
    "    if row['subscription_type'] == 'ultra':\n",
    "        return 6 * row['duration'] + 199\n",
    "    elif row['subscription_type'] == 'free':\n",
    "        return 8 * row['duration'] + 50 * row['count_tips']\n",
    "    else:\n",
    "        return 'Нет данных о подписке'"
   ]
  },
  {
   "cell_type": "code",
   "execution_count": 53,
   "id": "eceac7ec",
   "metadata": {},
   "outputs": [],
   "source": [
    "total_data['revenue_per_month'] = total_data.apply(revenue, axis=1)"
   ]
  },
  {
   "cell_type": "code",
   "execution_count": 54,
   "id": "07aa3b5f",
   "metadata": {},
   "outputs": [
    {
     "data": {
      "text/plain": [
       "month  user_id\n",
       "1      1          451.0\n",
       "       3          277.0\n",
       "       5          277.0\n",
       "       7          367.0\n",
       "       12         397.0\n",
       "       13         451.0\n",
       "       14         409.0\n",
       "       15         433.0\n",
       "       20         373.0\n",
       "       22         277.0\n",
       "       25         301.0\n",
       "       26         367.0\n",
       "       30         349.0\n",
       "       32         349.0\n",
       "       35         541.0\n",
       "       42         337.0\n",
       "       43         487.0\n",
       "       44         313.0\n",
       "       45         361.0\n",
       "       46         319.0\n",
       "Name: revenue_per_month, dtype: float64"
      ]
     },
     "execution_count": 54,
     "metadata": {},
     "output_type": "execute_result"
    }
   ],
   "source": [
    "total_data['revenue_per_month'].head(20)"
   ]
  },
  {
   "cell_type": "code",
   "execution_count": 55,
   "id": "f80cfce9",
   "metadata": {},
   "outputs": [
    {
     "data": {
      "text/html": [
       "<div>\n",
       "<style scoped>\n",
       "    .dataframe tbody tr th:only-of-type {\n",
       "        vertical-align: middle;\n",
       "    }\n",
       "\n",
       "    .dataframe tbody tr th {\n",
       "        vertical-align: top;\n",
       "    }\n",
       "\n",
       "    .dataframe thead th {\n",
       "        text-align: right;\n",
       "    }\n",
       "</style>\n",
       "<table border=\"1\" class=\"dataframe\">\n",
       "  <thead>\n",
       "    <tr style=\"text-align: right;\">\n",
       "      <th></th>\n",
       "      <th></th>\n",
       "      <th>distance</th>\n",
       "      <th>duration</th>\n",
       "      <th>count_tips</th>\n",
       "      <th>subscription_type</th>\n",
       "      <th>revenue_per_month</th>\n",
       "    </tr>\n",
       "    <tr>\n",
       "      <th>month</th>\n",
       "      <th>user_id</th>\n",
       "      <th></th>\n",
       "      <th></th>\n",
       "      <th></th>\n",
       "      <th></th>\n",
       "      <th></th>\n",
       "    </tr>\n",
       "  </thead>\n",
       "  <tbody>\n",
       "    <tr>\n",
       "      <th>1</th>\n",
       "      <th>1</th>\n",
       "      <td>7027.511294</td>\n",
       "      <td>42.0</td>\n",
       "      <td>2</td>\n",
       "      <td>ultra</td>\n",
       "      <td>451.0</td>\n",
       "    </tr>\n",
       "    <tr>\n",
       "      <th>4</th>\n",
       "      <th>1</th>\n",
       "      <td>754.159807</td>\n",
       "      <td>7.0</td>\n",
       "      <td>1</td>\n",
       "      <td>ultra</td>\n",
       "      <td>241.0</td>\n",
       "    </tr>\n",
       "    <tr>\n",
       "      <th>8</th>\n",
       "      <th>1</th>\n",
       "      <td>6723.470560</td>\n",
       "      <td>46.0</td>\n",
       "      <td>2</td>\n",
       "      <td>ultra</td>\n",
       "      <td>475.0</td>\n",
       "    </tr>\n",
       "    <tr>\n",
       "      <th>10</th>\n",
       "      <th>1</th>\n",
       "      <td>5809.911100</td>\n",
       "      <td>32.0</td>\n",
       "      <td>2</td>\n",
       "      <td>ultra</td>\n",
       "      <td>391.0</td>\n",
       "    </tr>\n",
       "    <tr>\n",
       "      <th>11</th>\n",
       "      <th>1</th>\n",
       "      <td>7003.499363</td>\n",
       "      <td>56.0</td>\n",
       "      <td>3</td>\n",
       "      <td>ultra</td>\n",
       "      <td>535.0</td>\n",
       "    </tr>\n",
       "    <tr>\n",
       "      <th>12</th>\n",
       "      <th>1</th>\n",
       "      <td>6751.629942</td>\n",
       "      <td>28.0</td>\n",
       "      <td>2</td>\n",
       "      <td>ultra</td>\n",
       "      <td>367.0</td>\n",
       "    </tr>\n",
       "  </tbody>\n",
       "</table>\n",
       "</div>"
      ],
      "text/plain": [
       "                  distance  duration  count_tips subscription_type  \\\n",
       "month user_id                                                        \n",
       "1     1        7027.511294      42.0           2             ultra   \n",
       "4     1         754.159807       7.0           1             ultra   \n",
       "8     1        6723.470560      46.0           2             ultra   \n",
       "10    1        5809.911100      32.0           2             ultra   \n",
       "11    1        7003.499363      56.0           3             ultra   \n",
       "12    1        6751.629942      28.0           2             ultra   \n",
       "\n",
       "               revenue_per_month  \n",
       "month user_id                     \n",
       "1     1                    451.0  \n",
       "4     1                    241.0  \n",
       "8     1                    475.0  \n",
       "10    1                    391.0  \n",
       "11    1                    535.0  \n",
       "12    1                    367.0  "
      ]
     },
     "execution_count": 55,
     "metadata": {},
     "output_type": "execute_result"
    }
   ],
   "source": [
    "total_data.query('user_id == 1')"
   ]
  },
  {
   "cell_type": "markdown",
   "id": "bb085272",
   "metadata": {},
   "source": [
    "**Вывод**\n",
    "\n",
    "Создали новый датафрейм с агрегированными данными (total_data) на основе датафрейма с объединенными данными (full_data).\n",
    "\n",
    "Нашли суммарное расстояние, количество поездок и суммарное время для каждого пользователя за каждый месяц. Также добавили столбец с помесячной выручкой, которую принес каждый пользователь."
   ]
  },
  {
   "cell_type": "markdown",
   "id": "609dada4",
   "metadata": {},
   "source": [
    "#### Шаг 6. Проверка гипотез"
   ]
  },
  {
   "cell_type": "markdown",
   "id": "df7285d6",
   "metadata": {},
   "source": [
    "**Гипотеза 1: Пользователи с подпиской тратят больше времени на поездки.**\n",
    "Если да, то пользователи с подпиской могут быть «выгоднее» для компании. Проверим гипотезу используя исходные данные о продолжительности каждой сессии — отдельно для подписчиков и тех, у кого нет подписки."
   ]
  },
  {
   "cell_type": "markdown",
   "id": "ddbae080",
   "metadata": {},
   "source": [
    "Предположим, что:\n",
    "\n",
    "    H_0: Время (duration) пользователей на подписке ultra = время (duration) пользователей на подписке free\n",
    "    H_1: Время (duration) пользователей на подписке ultra > время (duration) пользователей на подписке free\n",
    "\n",
    "Статистическая значимость - alpha = 0.05"
   ]
  },
  {
   "cell_type": "code",
   "execution_count": 56,
   "id": "adfb3474",
   "metadata": {},
   "outputs": [
    {
     "name": "stdout",
     "output_type": "stream",
     "text": [
      "1.2804098316645618e-34\n",
      "Отвергаем нулевую гипотезу\n"
     ]
    }
   ],
   "source": [
    "ultra = ultra_sub['duration'] \n",
    "\n",
    "free = free_sub['duration']\n",
    "\n",
    "results = st.ttest_ind(ultra, \n",
    "                       free,\n",
    "                       alternative = 'greater')\n",
    "\n",
    "alpha = 0.05\n",
    "\n",
    "print(results.pvalue)\n",
    "\n",
    "if results.pvalue < alpha:\n",
    "    print('Отвергаем нулевую гипотезу')\n",
    "else:\n",
    "    print('Не удалось отвергнуть нулевую гипотезу')"
   ]
  },
  {
   "cell_type": "code",
   "execution_count": 57,
   "id": "76857113",
   "metadata": {},
   "outputs": [
    {
     "data": {
      "text/plain": [
       "18.54198516280583"
      ]
     },
     "execution_count": 57,
     "metadata": {},
     "output_type": "execute_result"
    }
   ],
   "source": [
    "ultra.mean()"
   ]
  },
  {
   "cell_type": "code",
   "execution_count": 58,
   "id": "d3633c61",
   "metadata": {},
   "outputs": [
    {
     "data": {
      "text/plain": [
       "17.39090929866399"
      ]
     },
     "execution_count": 58,
     "metadata": {},
     "output_type": "execute_result"
    }
   ],
   "source": [
    "free.mean()"
   ]
  },
  {
   "cell_type": "code",
   "execution_count": 59,
   "id": "d008b1b6",
   "metadata": {},
   "outputs": [
    {
     "data": {
      "image/png": "[encoded data removed]",
      "text/plain": [
       "<Figure size 432x288 with 1 Axes>"
      ]
     },
     "metadata": {
      "needs_background": "light"
     },
     "output_type": "display_data"
    }
   ],
   "source": [
    "ax = sns.barplot(x = 'month',\n",
    "            y = 'duration',\n",
    "            hue = \"subscription_type\",\n",
    "            data = full_data,\n",
    "            palette = ['blue', 'yellow'])\n",
    "ax.set_title('Распределение продолжительности поездок по видам подписок и месяцам')\n",
    "ax.set(xlabel='Номер месяца', ylabel='Продолжительность поездок');"
   ]
  },
  {
   "cell_type": "markdown",
   "id": "c1d925f8",
   "metadata": {},
   "source": [
    "**Вывод**\n",
    "Проверили гипотезу, отвергли гипотезу о том, что время поездки пользователей на тарифе ultra равно времени поездки пользователей на тарифе free.\n",
    "Пользователи с подпиской в пути проводят больше времени."
   ]
  },
  {
   "cell_type": "markdown",
   "id": "e9a7b6fe",
   "metadata": {},
   "source": [
    "**Гипотеза 2:** Расстояние, которое проезжают пользователи с подпиской за одну поездку, не превышает 3130 метров. (Расстояние одной поездки в 3130 метров — оптимальное с точки зрения износа самоката.)"
   ]
  },
  {
   "cell_type": "markdown",
   "id": "f140b22f",
   "metadata": {},
   "source": [
    "H_0: Расстояние (distance) пользователей на подписке ultra = 3130 метров\n",
    "\n",
    "H_1: Расстояние (distance) пользователей на подписке ultra > 3130 метров\n",
    "\n",
    "alpha = 0.05"
   ]
  },
  {
   "cell_type": "code",
   "execution_count": 60,
   "id": "fe43600d",
   "metadata": {},
   "outputs": [
    {
     "name": "stdout",
     "output_type": "stream",
     "text": [
      "0.9195368847849785\n",
      "Не удалось отвергнуть нулевую гипотезу\n"
     ]
    }
   ],
   "source": [
    "ultra_dist = ultra_sub['distance']\n",
    "\n",
    "interested_value = 3130.0\n",
    "\n",
    "alpha = 0.05\n",
    "\n",
    "results = st.ttest_1samp(\n",
    "    ultra_dist, \n",
    "    interested_value,\n",
    "    alternative='greater')\n",
    "    \n",
    "print(results.pvalue)\n",
    "\n",
    "if (results.pvalue < alpha):\n",
    "    print('Отвергаем нулевую гипотезу')\n",
    "else:\n",
    "    print('Не удалось отвергнуть нулевую гипотезу')"
   ]
  },
  {
   "cell_type": "markdown",
   "id": "3dded59f",
   "metadata": {},
   "source": [
    "**Вывод**\n",
    "\n",
    "Проверили гипотезу, и мы не можем утверждать, что расстояние, которое проехали пользователи на тарифе ultra не превышает 3130 метров = расстояние принципиально не отличается от 3130 м"
   ]
  },
  {
   "cell_type": "markdown",
   "id": "ba2a867d",
   "metadata": {},
   "source": [
    "**Гипотеза 3:** помесячная выручка от пользователей с подпиской выше, чем выручка от пользователей без подписки"
   ]
  },
  {
   "cell_type": "markdown",
   "id": "1b13a3ab",
   "metadata": {},
   "source": [
    "H_0: Выручка (revenue_per_month) пользователей на подписке ultra = выручка (revenue_per_month) пользователей на подписке free\n",
    "\n",
    "H_1: Выручка (revenue_per_month) пользователей на подписке ultra > выручка (revenue_per_month) пользователей на подписке free\n",
    "\n",
    "alpha = 0.05"
   ]
  },
  {
   "cell_type": "code",
   "execution_count": 61,
   "id": "0a2d37ff",
   "metadata": {},
   "outputs": [
    {
     "name": "stdout",
     "output_type": "stream",
     "text": [
      "1.8850394384715216e-31\n",
      "Отвергаем нулевую гипотезу\n"
     ]
    }
   ],
   "source": [
    "ultra_per_month = total_data.loc[total_data.subscription_type == 'ultra', 'revenue_per_month'] \n",
    "\n",
    "free_per_month = total_data.loc[total_data.subscription_type == 'free', 'revenue_per_month'] \n",
    "\n",
    "\n",
    "results = st.ttest_ind(ultra_per_month, \n",
    "                       free_per_month,\n",
    "                       alternative = 'greater')\n",
    "\n",
    "alpha = 0.05\n",
    "\n",
    "print(results.pvalue)\n",
    "\n",
    "if results.pvalue < alpha:\n",
    "    print('Отвергаем нулевую гипотезу')\n",
    "else:\n",
    "    print('Не удалось отвергнуть нулевую гипотезу')"
   ]
  },
  {
   "cell_type": "code",
   "execution_count": 62,
   "id": "68b61543",
   "metadata": {},
   "outputs": [
    {
     "data": {
      "text/plain": [
       "362.7921906022502"
      ]
     },
     "execution_count": 62,
     "metadata": {},
     "output_type": "execute_result"
    }
   ],
   "source": [
    "ultra_per_month.mean()"
   ]
  },
  {
   "cell_type": "code",
   "execution_count": 63,
   "id": "8654c655",
   "metadata": {},
   "outputs": [
    {
     "data": {
      "text/plain": [
       "328.6413651073845"
      ]
     },
     "execution_count": 63,
     "metadata": {},
     "output_type": "execute_result"
    }
   ],
   "source": [
    "free_per_month.mean()"
   ]
  },
  {
   "cell_type": "markdown",
   "id": "efbeb70b",
   "metadata": {},
   "source": [
    "**Вывод**\n",
    "\n",
    "Проверили гипотезу, соответственно, мы можем утверждать, что выручка с пользователей на подписке ultra превышает выручку с пользователей на подписке free"
   ]
  },
  {
   "cell_type": "markdown",
   "id": "82d47650",
   "metadata": {},
   "source": [
    "**Гипотеза 4:** техническая команда сервиса обновила сервера, с которыми взаимодействует мобильное приложение. Она надеется, что из-за этого количество обращений в техподдержку значимо снизилось. Некоторый файл содержит для каждого пользователя данные о количестве обращений до обновления и после него. Какой тест вам понадобился бы для проверки этой гипотезы?"
   ]
  },
  {
   "cell_type": "markdown",
   "id": "56064dd0",
   "metadata": {},
   "source": [
    "Будем использовать гипотезу о равенстве средних для зависимых (парных) выборок.\n",
    "\n",
    "Гипотезы будут сформулированы так:\n",
    "\n",
    "H0 : μ1 = μ2\n",
    "\n",
    "H1 : μ1 > μ2\n",
    "где μ1 и μ2 - средние значения количество обращений в техподдержку до и после изменения.\n",
    "\n",
    "Метод, который нужно использовать при сравнении: **scipy.stats.ttest_rel()**"
   ]
  },
  {
   "cell_type": "markdown",
   "id": "d7595214",
   "metadata": {},
   "source": [
    "#### Шаг 7. Распределения (доп.задания)"
   ]
  },
  {
   "cell_type": "markdown",
   "id": "b4f988d5",
   "metadata": {},
   "source": [
    "**7.1.** Отделу маркетинга GoFast поставили задачу: нужно провести акцию с раздачей промокодов на один бесплатный месяц подписки, в рамках которой как минимум 100 существующих клиентов должны продлить эту подписку. То есть по завершении периода действия подписки пользователь может либо отказаться от неё, либо продлить, совершив соответствующий платёж. \n",
    "Эта акция уже проводилась ранее и по итогу выяснилось, что после бесплатного пробного периода подписку продлевают \n",
    "10 % пользователей.\n",
    "Выясните, какое минимальное количество промокодов нужно разослать, чтобы вероятность не выполнить план была примерно 5%\n",
    "Подберите параметры распределения, описывающего эту ситуацию, постройте график распределения и сформулируйте ответ на вопрос о количестве промокодов."
   ]
  },
  {
   "cell_type": "code",
   "execution_count": 64,
   "id": "62e00632",
   "metadata": {},
   "outputs": [
    {
     "name": "stdout",
     "output_type": "stream",
     "text": [
      "min количество промокодов с вероятностью 5% не выполнить план составляет:  1161\n"
     ]
    }
   ],
   "source": [
    "# задаём параметры биномиального распределения\n",
    "n = 0\n",
    "p = 0.1\n",
    "k = 99\n",
    "\n",
    "# используем cdf который вернет нам значени n\n",
    "while st.binom.cdf(k,n,p)>=0.05:\n",
    "    n+=1\n",
    "else:\n",
    "    print('min количество промокодов с вероятностью 5% не выполнить план составляет: ', n)"
   ]
  },
  {
   "cell_type": "markdown",
   "id": "781962e6",
   "metadata": {},
   "source": [
    "**7.2.** Отдел маркетинга рассылает клиентам push-уведомления в мобильном приложении. Клиенты могут открыть его или не открывать. Известно, что уведомления открывают около 40% получивших клиентов. Отдел планирует разослать \n",
    "1 млн уведомлений. С помощью аппроксимации постройте примерный график распределения и оцените вероятность того, что уведомление откроют не более 399,5 тыс. пользователей."
   ]
  },
  {
   "cell_type": "code",
   "execution_count": 65,
   "id": "8f48885c",
   "metadata": {},
   "outputs": [
    {
     "name": "stdout",
     "output_type": "stream",
     "text": [
      "0.15371708296369768\n"
     ]
    }
   ],
   "source": [
    "# задаём параметры биномиального распределения\n",
    "n = 1000000\n",
    "p = 0.4\n",
    "\n",
    "# задаём параметры нормального распределения равными\n",
    "# мат.ожиданию и дисперсии биномиального распределения\n",
    "mu = n * p\n",
    "sigma = sqrt(n * p * (1 - p))\n",
    "\n",
    "# задаём нормальное распределение\n",
    "distr = st.norm(mu, sigma) \n",
    "\n",
    "# считаем вероятность хвоста слева от 399,5 тысяч\n",
    "result = distr.cdf(399500)\n",
    "print(result)"
   ]
  },
  {
   "cell_type": "markdown",
   "id": "8eb5b9af",
   "metadata": {},
   "source": [
    "Вероятность что откроют не более 399,5 тысяч писем из рассылки составляет чуть более 15%."
   ]
  },
  {
   "cell_type": "code",
   "execution_count": 66,
   "id": "3f50b7ee",
   "metadata": {},
   "outputs": [
    {
     "data": {
      "image/png": "[encoded data removed]",
      "text/plain": [
       "<Figure size 432x288 with 1 Axes>"
      ]
     },
     "metadata": {
      "needs_background": "light"
     },
     "output_type": "display_data"
    }
   ],
   "source": [
    "# задаём параметры биномиального распределения\n",
    "n = 1000000\n",
    "p = 0.4\n",
    "\n",
    "# задаём параметры нормального распределения равными\n",
    "# мат.ожиданию и дисперсии биномиального распределения\n",
    "mu = n * p\n",
    "sigma = sqrt(n * p * (1 - p))\n",
    "\n",
    "s = np.random.normal(mu, sigma, 1000) # генерируем значения для нормального распределения\n",
    "\n",
    "\n",
    "plt.hist(s, 30) # строим гистограмму\n",
    "plt.title('График распределения')\n",
    "plt.xlabel('Количество пользователей')\n",
    "\n",
    "plt.show()"
   ]
  },
  {
   "cell_type": "markdown",
   "id": "1be5fb51",
   "metadata": {},
   "source": [
    "**Итоговый вывод:**"
   ]
  },
  {
   "cell_type": "markdown",
   "id": "38fd2194",
   "metadata": {},
   "source": [
    "Получили для анализа 3 датафрейма: с пользователями, информацией о поездках, информацией о подписках.\n",
    "\n",
    "\n",
    "**Прдобработка данных**\n",
    "* Проверили данные на пропуски, их не оказалось ни в одной таблице\n",
    "* Пропущенных данных в таблицах не было.\n",
    "* Дубликаты имелись среди пользователей, удалили строки-дубликаты.\n",
    "* Добавили столбец month с номер месяца.\n",
    "* Привели столбец date в датасете rides_go к типу даты pandas\n",
    "\n",
    "\n",
    "**Исследовательский анализ данных:**\n",
    "\n",
    "**Выводы по пользователям на обоих подписках:**\n",
    "\n",
    "Вывели, что количество пользователей по городам распределено примерно одинаково, нет выдающихся значений. Лидером по количеству пользователей является Пятигорск - 219 пользователей. Меньше всего пользователей в Москве - 168.\n",
    "Пользователей, использующих бесплатную подписку больше - 835 человек, что является ~54% от общего числа пользователей. На платной подписке сидит 699 пользователей, что соответственно является ~46%.\n",
    "\n",
    "**Возраст пользователей:**\n",
    "\n",
    "Примерно можно разделить на 5 групп. В лидерах группа от 23 до 26 лет. Примечательно что самые маленькие 12-16 лет и самые взрослые 37-43 - взрослая группа небольшая.\n",
    "* средний возраст 25 лет\n",
    "* мин 12\n",
    "* макс - 43\n",
    "\n",
    "**Дистанция поездок:**\n",
    "\n",
    "* Среднее - 3070 м\n",
    "* мин - менее метра\n",
    "* макс - более 7211 км\n",
    "\n",
    "**Время поездок:**\n",
    "\n",
    "* минимальное время пол минуты\n",
    "* среднее - 17,8 минут\n",
    "* максимум - 40,82 минут\n",
    "\n",
    "**Обнаружено что из-за тех.ошибки есть 95 поездок менее 2 мин (чаще всего 0.5 мин), но с большим расстоянием которое нельзя проехать за такое время. Т.к. учет времени не велся то за него и не заплатили - возможно рекламная или пром поездка.\n",
    "Сервису необходимо обратить внимание!**\n",
    "\n",
    "**Объединили данные о пользователях, поездках и подписках в один датафрейм. На основе объединенного датафрейма создали еще 2 датафрейма:**\n",
    "\n",
    "* Для пользователей с ultra подпиской\n",
    "* Для пользователей с free подпиской\n",
    "\n",
    "Дальше визуализировали информацию о расстоянии и времени поездки для пользоватей каждого тарифа.\n",
    "\n",
    "**Бесплатная подписка.** \n",
    "\n",
    "Расстояние:\n",
    "* среднее 3045 м\n",
    "* мин - менее метра\n",
    "* макс - 7211 м\n",
    "\n",
    "Время:\n",
    "* среднее время - 17,3 мин\n",
    "* мин- пол минуты\n",
    "* макс - 35 мин\n",
    "\n",
    "**Платная подписка.** \n",
    "\n",
    "Расстояние:\n",
    "* среднее 3115 м\n",
    "* мин - 244 м\n",
    "* макс - 5699 м\n",
    "\n",
    "Время:\n",
    "* среднее - 18,5 мин\n",
    "* мин - 3,76 мин\n",
    "* макс - 40,8 мин\n",
    "\n",
    "\n",
    "**Сравнительно две подписки:**\n",
    "* На бесплатной подписке больше количество продолжительных поездок.\n",
    "* На бесплатной подписке больше количество более длинных по расстоянию поездок.Но в районе 3 км пользователи с платной подпиской совершают больше поездок.\n",
    "* Самая длинная по расстоянию поездка на бесплатной подписке - более 7 км.\n",
    "* Самая продолжительная по времение на платной подписке - 40,8 мин\n",
    "* Интересный ПИК на обоих подписках около 1 км - предположу что это тестовые заезды / экономия денег  (до магазина и т.п.)\n",
    "* средняя выручка в месяц на платной - 362,79 руб , на бесплатной - 328,64\n",
    "\n",
    "\n",
    "Нашли суммарное расстояние, количество поездок и суммарное время для каждого пользователя за каждый месяц - вывели все данные в отдельный датафрейм total_data. Добавили в датафрейм total_data столбец с помесячной выручкой revenue_per_month.\n",
    "\n",
    "**Проверили гипотезы:**\n",
    "\n",
    "Пользователи с платной подпиской тратят больше времени на поездки, чем пользователи на бесплатной подписке\n",
    "\n",
    "**Отвергли нулевую гипотезу**\n",
    "\n",
    "Пользователи с платной подпиской проезжают расстояние, не превышающее 3130 метров за одну поездку \n",
    "\n",
    "**Не удалось отвергнуть нулевую гипотезу**\n",
    "\n",
    "Помесячная выручка от пользователей с платной подпиской выше, чем выручка от пользователей без подписки\n",
    "\n",
    "**Отвергли нулевую гипотезу**"
   ]
  }
 ],
 "metadata": {
  "ExecuteTimeLog": [
   {
    "duration": 1440,
    "start_time": "2023-07-04T13:22:17.965Z"
   },
   {
    "duration": 197,
    "start_time": "2023-07-04T13:22:19.506Z"
   },
   {
    "duration": 89,
    "start_time": "2023-07-04T13:22:20.213Z"
   },
   {
    "duration": 167,
    "start_time": "2023-07-04T13:38:00.225Z"
   },
   {
    "duration": 13,
    "start_time": "2023-07-04T13:38:17.446Z"
   },
   {
    "duration": 12,
    "start_time": "2023-07-04T13:38:44.554Z"
   },
   {
    "duration": 12,
    "start_time": "2023-07-04T13:38:47.025Z"
   },
   {
    "duration": 9,
    "start_time": "2023-07-04T13:38:48.951Z"
   },
   {
    "duration": 12,
    "start_time": "2023-07-04T13:42:25.561Z"
   },
   {
    "duration": 19,
    "start_time": "2023-07-04T13:42:49.315Z"
   },
   {
    "duration": 12,
    "start_time": "2023-07-04T13:42:49.542Z"
   },
   {
    "duration": 9,
    "start_time": "2023-07-04T13:45:41.731Z"
   },
   {
    "duration": 8,
    "start_time": "2023-07-04T13:47:07.299Z"
   },
   {
    "duration": 10,
    "start_time": "2023-07-04T13:47:35.883Z"
   },
   {
    "duration": 9,
    "start_time": "2023-07-04T13:49:23.574Z"
   },
   {
    "duration": 8,
    "start_time": "2023-07-04T13:49:51.286Z"
   },
   {
    "duration": 14,
    "start_time": "2023-07-04T13:50:16.476Z"
   },
   {
    "duration": 10,
    "start_time": "2023-07-04T13:51:04.334Z"
   },
   {
    "duration": 45,
    "start_time": "2023-07-05T14:37:08.626Z"
   },
   {
    "duration": 1407,
    "start_time": "2023-07-05T14:37:19.341Z"
   },
   {
    "duration": 291,
    "start_time": "2023-07-05T14:37:20.749Z"
   },
   {
    "duration": 106,
    "start_time": "2023-07-05T14:37:21.041Z"
   },
   {
    "duration": 22,
    "start_time": "2023-07-05T14:37:21.150Z"
   },
   {
    "duration": 8,
    "start_time": "2023-07-05T14:37:21.174Z"
   },
   {
    "duration": 16,
    "start_time": "2023-07-05T14:37:21.184Z"
   },
   {
    "duration": 12,
    "start_time": "2023-07-05T14:37:21.201Z"
   },
   {
    "duration": 12,
    "start_time": "2023-07-05T14:37:21.214Z"
   },
   {
    "duration": 9,
    "start_time": "2023-07-05T14:37:21.228Z"
   },
   {
    "duration": 8,
    "start_time": "2023-07-05T14:37:21.240Z"
   },
   {
    "duration": 21,
    "start_time": "2023-07-05T14:37:21.250Z"
   },
   {
    "duration": 10,
    "start_time": "2023-07-05T14:37:21.273Z"
   },
   {
    "duration": 11,
    "start_time": "2023-07-05T14:37:21.285Z"
   },
   {
    "duration": 17,
    "start_time": "2023-07-05T14:37:21.299Z"
   },
   {
    "duration": 3,
    "start_time": "2023-07-05T14:37:39.426Z"
   },
   {
    "duration": 5,
    "start_time": "2023-07-05T14:38:16.711Z"
   },
   {
    "duration": 148,
    "start_time": "2023-07-05T14:39:48.836Z"
   },
   {
    "duration": 96,
    "start_time": "2023-07-05T14:42:42.660Z"
   },
   {
    "duration": 14,
    "start_time": "2023-07-05T14:42:59.594Z"
   },
   {
    "duration": 87,
    "start_time": "2023-07-05T14:46:20.388Z"
   },
   {
    "duration": 86,
    "start_time": "2023-07-05T14:47:53.002Z"
   },
   {
    "duration": 107,
    "start_time": "2023-07-05T14:48:12.503Z"
   },
   {
    "duration": 10,
    "start_time": "2023-07-05T14:48:49.835Z"
   },
   {
    "duration": 9,
    "start_time": "2023-07-05T14:50:41.629Z"
   },
   {
    "duration": 138,
    "start_time": "2023-07-05T14:55:00.006Z"
   },
   {
    "duration": 86,
    "start_time": "2023-07-05T14:55:45.939Z"
   },
   {
    "duration": 13,
    "start_time": "2023-07-05T14:57:13.773Z"
   },
   {
    "duration": 164,
    "start_time": "2023-07-05T14:57:22.741Z"
   },
   {
    "duration": 156,
    "start_time": "2023-07-05T14:57:51.118Z"
   },
   {
    "duration": 245,
    "start_time": "2023-07-05T15:00:14.052Z"
   },
   {
    "duration": 152,
    "start_time": "2023-07-05T15:00:42.199Z"
   },
   {
    "duration": 11,
    "start_time": "2023-07-05T15:02:06.894Z"
   },
   {
    "duration": 9,
    "start_time": "2023-07-05T15:04:21.824Z"
   },
   {
    "duration": 142,
    "start_time": "2023-07-05T15:04:36.312Z"
   },
   {
    "duration": 117,
    "start_time": "2023-07-05T15:08:12.417Z"
   },
   {
    "duration": 15,
    "start_time": "2023-07-05T15:08:19.594Z"
   },
   {
    "duration": 12,
    "start_time": "2023-07-05T15:08:39.880Z"
   },
   {
    "duration": 176,
    "start_time": "2023-07-05T15:08:52.507Z"
   },
   {
    "duration": 131,
    "start_time": "2023-07-05T15:11:17.294Z"
   },
   {
    "duration": 141,
    "start_time": "2023-07-05T15:13:32.571Z"
   },
   {
    "duration": 105,
    "start_time": "2023-07-05T15:13:44.823Z"
   },
   {
    "duration": 96,
    "start_time": "2023-07-05T15:13:53.860Z"
   },
   {
    "duration": 86,
    "start_time": "2023-07-05T15:14:38.679Z"
   },
   {
    "duration": 193,
    "start_time": "2023-07-05T15:14:59.201Z"
   },
   {
    "duration": 110,
    "start_time": "2023-07-05T15:15:16.490Z"
   },
   {
    "duration": 87,
    "start_time": "2023-07-05T15:15:43.690Z"
   },
   {
    "duration": 92,
    "start_time": "2023-07-05T15:15:57.498Z"
   },
   {
    "duration": 95,
    "start_time": "2023-07-05T15:16:09.046Z"
   },
   {
    "duration": 85,
    "start_time": "2023-07-05T15:16:20.309Z"
   },
   {
    "duration": 15,
    "start_time": "2023-07-05T15:17:31.333Z"
   },
   {
    "duration": 155,
    "start_time": "2023-07-05T15:17:52.269Z"
   },
   {
    "duration": 88,
    "start_time": "2023-07-05T15:19:03.793Z"
   },
   {
    "duration": 98,
    "start_time": "2023-07-05T15:19:19.986Z"
   },
   {
    "duration": 112,
    "start_time": "2023-07-05T15:21:23.275Z"
   },
   {
    "duration": 1254,
    "start_time": "2023-07-05T15:21:31.892Z"
   },
   {
    "duration": 65,
    "start_time": "2023-07-05T15:21:33.149Z"
   },
   {
    "duration": 77,
    "start_time": "2023-07-05T15:21:33.216Z"
   },
   {
    "duration": 6,
    "start_time": "2023-07-05T15:21:33.295Z"
   },
   {
    "duration": 8,
    "start_time": "2023-07-05T15:21:33.303Z"
   },
   {
    "duration": 7,
    "start_time": "2023-07-05T15:21:33.312Z"
   },
   {
    "duration": 8,
    "start_time": "2023-07-05T15:21:33.321Z"
   },
   {
    "duration": 39,
    "start_time": "2023-07-05T15:21:33.330Z"
   },
   {
    "duration": 33,
    "start_time": "2023-07-05T15:21:33.371Z"
   },
   {
    "duration": 13,
    "start_time": "2023-07-05T15:21:33.406Z"
   },
   {
    "duration": 13,
    "start_time": "2023-07-05T15:21:33.420Z"
   },
   {
    "duration": 22,
    "start_time": "2023-07-05T15:21:33.434Z"
   },
   {
    "duration": 7,
    "start_time": "2023-07-05T15:21:33.458Z"
   },
   {
    "duration": 7,
    "start_time": "2023-07-05T15:21:33.467Z"
   },
   {
    "duration": 100,
    "start_time": "2023-07-05T15:21:33.476Z"
   },
   {
    "duration": 116,
    "start_time": "2023-07-05T15:23:31.184Z"
   },
   {
    "duration": 104,
    "start_time": "2023-07-05T15:23:52.621Z"
   },
   {
    "duration": 108,
    "start_time": "2023-07-05T15:24:23.309Z"
   },
   {
    "duration": 89,
    "start_time": "2023-07-05T15:25:26.528Z"
   },
   {
    "duration": 112,
    "start_time": "2023-07-05T15:26:12.802Z"
   },
   {
    "duration": 85,
    "start_time": "2023-07-05T15:26:26.197Z"
   },
   {
    "duration": 90,
    "start_time": "2023-07-05T15:26:34.194Z"
   },
   {
    "duration": 79,
    "start_time": "2023-07-05T15:26:42.229Z"
   },
   {
    "duration": 104,
    "start_time": "2023-07-05T15:27:49.538Z"
   },
   {
    "duration": 103,
    "start_time": "2023-07-05T15:30:29.242Z"
   },
   {
    "duration": 95,
    "start_time": "2023-07-05T15:32:41.085Z"
   },
   {
    "duration": 9,
    "start_time": "2023-07-05T15:32:49.226Z"
   },
   {
    "duration": 16,
    "start_time": "2023-07-05T15:34:18.778Z"
   },
   {
    "duration": 154,
    "start_time": "2023-07-05T15:35:26.232Z"
   },
   {
    "duration": 101,
    "start_time": "2023-07-05T15:43:27.324Z"
   },
   {
    "duration": 162,
    "start_time": "2023-07-05T15:43:54.071Z"
   },
   {
    "duration": 142,
    "start_time": "2023-07-05T15:56:27.290Z"
   },
   {
    "duration": 150,
    "start_time": "2023-07-05T15:56:49.459Z"
   },
   {
    "duration": 152,
    "start_time": "2023-07-05T15:57:01.769Z"
   },
   {
    "duration": 149,
    "start_time": "2023-07-05T15:57:54.457Z"
   },
   {
    "duration": 149,
    "start_time": "2023-07-05T15:58:24.781Z"
   },
   {
    "duration": 208,
    "start_time": "2023-07-05T15:58:37.518Z"
   },
   {
    "duration": 156,
    "start_time": "2023-07-05T16:05:01.891Z"
   },
   {
    "duration": 162,
    "start_time": "2023-07-05T16:05:14.707Z"
   },
   {
    "duration": 148,
    "start_time": "2023-07-05T16:08:38.326Z"
   },
   {
    "duration": 142,
    "start_time": "2023-07-05T16:09:42.391Z"
   },
   {
    "duration": 150,
    "start_time": "2023-07-05T16:12:12.225Z"
   },
   {
    "duration": 142,
    "start_time": "2023-07-05T16:12:37.500Z"
   },
   {
    "duration": 164,
    "start_time": "2023-07-05T16:12:53.217Z"
   },
   {
    "duration": 152,
    "start_time": "2023-07-05T16:13:24.975Z"
   },
   {
    "duration": 84,
    "start_time": "2023-07-05T16:14:21.550Z"
   },
   {
    "duration": 147,
    "start_time": "2023-07-05T16:14:35.445Z"
   },
   {
    "duration": 143,
    "start_time": "2023-07-05T16:14:41.858Z"
   },
   {
    "duration": 265,
    "start_time": "2023-07-05T16:14:54.089Z"
   },
   {
    "duration": 149,
    "start_time": "2023-07-05T16:15:07.891Z"
   },
   {
    "duration": 157,
    "start_time": "2023-07-05T16:15:24.945Z"
   },
   {
    "duration": 137,
    "start_time": "2023-07-05T16:15:55.085Z"
   },
   {
    "duration": 142,
    "start_time": "2023-07-05T16:16:03.416Z"
   },
   {
    "duration": 96,
    "start_time": "2023-07-05T16:16:19.228Z"
   },
   {
    "duration": 135,
    "start_time": "2023-07-05T16:16:40.622Z"
   },
   {
    "duration": 148,
    "start_time": "2023-07-05T16:17:58.402Z"
   },
   {
    "duration": 175,
    "start_time": "2023-07-05T16:18:53.193Z"
   },
   {
    "duration": 15,
    "start_time": "2023-07-05T16:24:25.063Z"
   },
   {
    "duration": 22,
    "start_time": "2023-07-05T16:26:37.363Z"
   },
   {
    "duration": 165,
    "start_time": "2023-07-05T16:28:26.314Z"
   },
   {
    "duration": 143,
    "start_time": "2023-07-05T16:33:51.739Z"
   },
   {
    "duration": 136,
    "start_time": "2023-07-05T16:34:03.455Z"
   },
   {
    "duration": 5,
    "start_time": "2023-07-05T16:37:47.421Z"
   },
   {
    "duration": 84,
    "start_time": "2023-07-05T16:40:21.119Z"
   },
   {
    "duration": 10,
    "start_time": "2023-07-05T16:40:29.764Z"
   },
   {
    "duration": 173,
    "start_time": "2023-07-05T16:41:11.037Z"
   },
   {
    "duration": 84,
    "start_time": "2023-07-05T16:44:00.769Z"
   },
   {
    "duration": 6,
    "start_time": "2023-07-05T16:46:54.904Z"
   },
   {
    "duration": 6,
    "start_time": "2023-07-05T16:47:34.026Z"
   },
   {
    "duration": 413,
    "start_time": "2023-07-05T16:49:12.681Z"
   },
   {
    "duration": 282,
    "start_time": "2023-07-05T16:50:14.369Z"
   },
   {
    "duration": 250,
    "start_time": "2023-07-05T16:51:19.776Z"
   },
   {
    "duration": 8,
    "start_time": "2023-07-05T17:04:44.704Z"
   },
   {
    "duration": 8,
    "start_time": "2023-07-05T17:06:01.708Z"
   },
   {
    "duration": 237,
    "start_time": "2023-07-05T17:09:29.373Z"
   },
   {
    "duration": 328,
    "start_time": "2023-07-05T17:09:54.489Z"
   },
   {
    "duration": 92,
    "start_time": "2023-07-05T17:10:29.283Z"
   },
   {
    "duration": 99,
    "start_time": "2023-07-05T17:10:40.188Z"
   },
   {
    "duration": 265,
    "start_time": "2023-07-05T17:11:32.401Z"
   },
   {
    "duration": 259,
    "start_time": "2023-07-05T17:14:15.325Z"
   },
   {
    "duration": 25,
    "start_time": "2023-07-05T17:17:38.091Z"
   },
   {
    "duration": 44,
    "start_time": "2023-07-05T17:19:04.884Z"
   },
   {
    "duration": 39,
    "start_time": "2023-07-05T17:19:35.171Z"
   },
   {
    "duration": 194,
    "start_time": "2023-07-05T17:21:21.077Z"
   },
   {
    "duration": 189,
    "start_time": "2023-07-05T17:21:45.897Z"
   },
   {
    "duration": 14,
    "start_time": "2023-07-05T17:22:55.092Z"
   },
   {
    "duration": 8,
    "start_time": "2023-07-05T17:27:19.924Z"
   },
   {
    "duration": 7,
    "start_time": "2023-07-05T17:29:11.908Z"
   },
   {
    "duration": 7,
    "start_time": "2023-07-05T17:29:46.591Z"
   },
   {
    "duration": 9,
    "start_time": "2023-07-05T17:30:40.784Z"
   },
   {
    "duration": 252,
    "start_time": "2023-07-05T17:32:05.609Z"
   },
   {
    "duration": 336,
    "start_time": "2023-07-05T17:32:47.787Z"
   },
   {
    "duration": 211,
    "start_time": "2023-07-05T17:33:08.698Z"
   },
   {
    "duration": 26,
    "start_time": "2023-07-05T17:33:43.707Z"
   },
   {
    "duration": 36,
    "start_time": "2023-07-05T17:34:29.218Z"
   },
   {
    "duration": 195,
    "start_time": "2023-07-05T17:36:59.330Z"
   },
   {
    "duration": 11,
    "start_time": "2023-07-05T17:38:25.460Z"
   },
   {
    "duration": 2790,
    "start_time": "2023-07-05T17:39:23.517Z"
   },
   {
    "duration": 12,
    "start_time": "2023-07-05T17:39:52.469Z"
   },
   {
    "duration": 117,
    "start_time": "2023-07-05T17:51:56.103Z"
   },
   {
    "duration": 125,
    "start_time": "2023-07-05T17:53:14.803Z"
   },
   {
    "duration": 52,
    "start_time": "2023-07-06T12:53:49.824Z"
   },
   {
    "duration": 1489,
    "start_time": "2023-07-06T12:54:02.433Z"
   },
   {
    "duration": 227,
    "start_time": "2023-07-06T12:54:03.924Z"
   },
   {
    "duration": 96,
    "start_time": "2023-07-06T12:54:04.152Z"
   },
   {
    "duration": 8,
    "start_time": "2023-07-06T12:54:04.251Z"
   },
   {
    "duration": 43,
    "start_time": "2023-07-06T12:54:04.261Z"
   },
   {
    "duration": 48,
    "start_time": "2023-07-06T12:54:04.306Z"
   },
   {
    "duration": 36,
    "start_time": "2023-07-06T12:54:04.355Z"
   },
   {
    "duration": 23,
    "start_time": "2023-07-06T12:54:04.392Z"
   },
   {
    "duration": 40,
    "start_time": "2023-07-06T12:54:04.417Z"
   },
   {
    "duration": 21,
    "start_time": "2023-07-06T12:54:04.461Z"
   },
   {
    "duration": 37,
    "start_time": "2023-07-06T12:54:04.484Z"
   },
   {
    "duration": 41,
    "start_time": "2023-07-06T12:54:04.523Z"
   },
   {
    "duration": 25,
    "start_time": "2023-07-06T12:54:04.566Z"
   },
   {
    "duration": 32,
    "start_time": "2023-07-06T12:54:04.593Z"
   },
   {
    "duration": 272,
    "start_time": "2023-07-06T12:54:04.627Z"
   },
   {
    "duration": 8,
    "start_time": "2023-07-06T12:54:04.901Z"
   },
   {
    "duration": 154,
    "start_time": "2023-07-06T12:54:04.911Z"
   },
   {
    "duration": 6,
    "start_time": "2023-07-06T12:54:05.072Z"
   },
   {
    "duration": 19,
    "start_time": "2023-07-06T12:54:05.080Z"
   },
   {
    "duration": 272,
    "start_time": "2023-07-06T12:54:05.100Z"
   },
   {
    "duration": 7,
    "start_time": "2023-07-06T12:54:05.374Z"
   },
   {
    "duration": 9,
    "start_time": "2023-07-06T12:54:05.383Z"
   },
   {
    "duration": 9,
    "start_time": "2023-07-06T12:54:05.394Z"
   },
   {
    "duration": 241,
    "start_time": "2023-07-06T12:54:05.404Z"
   },
   {
    "duration": 126,
    "start_time": "2023-07-06T12:54:05.647Z"
   },
   {
    "duration": 104,
    "start_time": "2023-07-06T12:54:05.775Z"
   },
   {
    "duration": 147,
    "start_time": "2023-07-06T12:54:05.880Z"
   },
   {
    "duration": 220,
    "start_time": "2023-07-06T12:54:06.033Z"
   },
   {
    "duration": 13,
    "start_time": "2023-07-06T12:54:06.255Z"
   },
   {
    "duration": 11,
    "start_time": "2023-07-06T12:54:06.269Z"
   },
   {
    "duration": 21,
    "start_time": "2023-07-06T12:54:06.282Z"
   },
   {
    "duration": 15,
    "start_time": "2023-07-06T12:54:06.305Z"
   },
   {
    "duration": 235,
    "start_time": "2023-07-06T12:54:06.322Z"
   },
   {
    "duration": 122,
    "start_time": "2023-07-06T12:54:06.559Z"
   },
   {
    "duration": 24,
    "start_time": "2023-07-06T12:54:06.683Z"
   },
   {
    "duration": 49,
    "start_time": "2023-07-06T12:54:06.709Z"
   },
   {
    "duration": 203,
    "start_time": "2023-07-06T12:54:06.760Z"
   },
   {
    "duration": 11,
    "start_time": "2023-07-06T12:54:06.964Z"
   },
   {
    "duration": 202,
    "start_time": "2023-07-06T13:05:28.519Z"
   },
   {
    "duration": 16,
    "start_time": "2023-07-06T13:05:59.296Z"
   },
   {
    "duration": 7,
    "start_time": "2023-07-06T13:07:49.119Z"
   },
   {
    "duration": 8,
    "start_time": "2023-07-06T13:08:49.345Z"
   },
   {
    "duration": 1190,
    "start_time": "2023-07-06T13:11:01.485Z"
   },
   {
    "duration": 1363,
    "start_time": "2023-07-06T13:12:00.621Z"
   },
   {
    "duration": 1142,
    "start_time": "2023-07-06T13:12:48.477Z"
   },
   {
    "duration": 78,
    "start_time": "2023-07-06T13:12:49.621Z"
   },
   {
    "duration": 83,
    "start_time": "2023-07-06T13:12:49.701Z"
   },
   {
    "duration": 5,
    "start_time": "2023-07-06T13:12:49.786Z"
   },
   {
    "duration": 16,
    "start_time": "2023-07-06T13:12:49.793Z"
   },
   {
    "duration": 10,
    "start_time": "2023-07-06T13:12:49.811Z"
   },
   {
    "duration": 26,
    "start_time": "2023-07-06T13:12:49.831Z"
   },
   {
    "duration": 17,
    "start_time": "2023-07-06T13:12:49.859Z"
   },
   {
    "duration": 11,
    "start_time": "2023-07-06T13:12:49.878Z"
   },
   {
    "duration": 31,
    "start_time": "2023-07-06T13:12:49.890Z"
   },
   {
    "duration": 28,
    "start_time": "2023-07-06T13:12:49.922Z"
   },
   {
    "duration": 11,
    "start_time": "2023-07-06T13:12:49.952Z"
   },
   {
    "duration": 18,
    "start_time": "2023-07-06T13:12:49.965Z"
   },
   {
    "duration": 20,
    "start_time": "2023-07-06T13:12:49.986Z"
   },
   {
    "duration": 245,
    "start_time": "2023-07-06T13:12:50.008Z"
   },
   {
    "duration": 107,
    "start_time": "2023-07-06T13:12:50.254Z"
   },
   {
    "duration": 27,
    "start_time": "2023-07-06T13:12:50.362Z"
   },
   {
    "duration": 144,
    "start_time": "2023-07-06T13:12:50.391Z"
   },
   {
    "duration": 189,
    "start_time": "2023-07-06T13:12:50.544Z"
   },
   {
    "duration": 12,
    "start_time": "2023-07-06T13:12:50.744Z"
   },
   {
    "duration": 36,
    "start_time": "2023-07-06T13:12:50.757Z"
   },
   {
    "duration": 233,
    "start_time": "2023-07-06T13:12:50.794Z"
   },
   {
    "duration": 172,
    "start_time": "2023-07-06T13:12:51.028Z"
   },
   {
    "duration": 43,
    "start_time": "2023-07-06T13:12:51.201Z"
   },
   {
    "duration": 32,
    "start_time": "2023-07-06T13:12:51.246Z"
   },
   {
    "duration": 199,
    "start_time": "2023-07-06T13:12:51.279Z"
   },
   {
    "duration": 11,
    "start_time": "2023-07-06T13:12:51.480Z"
   },
   {
    "duration": 20,
    "start_time": "2023-07-06T13:12:51.492Z"
   },
   {
    "duration": 175,
    "start_time": "2023-07-06T13:12:51.513Z"
   },
   {
    "duration": 6,
    "start_time": "2023-07-06T13:12:51.690Z"
   },
   {
    "duration": 100,
    "start_time": "2023-07-06T13:12:51.698Z"
   },
   {
    "duration": 5,
    "start_time": "2023-07-06T13:12:51.799Z"
   },
   {
    "duration": 64,
    "start_time": "2023-07-06T13:12:51.805Z"
   },
   {
    "duration": 295,
    "start_time": "2023-07-06T13:12:51.870Z"
   },
   {
    "duration": 1298,
    "start_time": "2023-07-06T13:12:52.167Z"
   },
   {
    "duration": 0,
    "start_time": "2023-07-06T13:12:53.466Z"
   },
   {
    "duration": 0,
    "start_time": "2023-07-06T13:12:53.468Z"
   },
   {
    "duration": 0,
    "start_time": "2023-07-06T13:12:53.469Z"
   },
   {
    "duration": 0,
    "start_time": "2023-07-06T13:12:53.470Z"
   },
   {
    "duration": 0,
    "start_time": "2023-07-06T13:12:53.471Z"
   },
   {
    "duration": 2200,
    "start_time": "2023-07-06T13:15:13.621Z"
   },
   {
    "duration": 11,
    "start_time": "2023-07-06T13:15:47.851Z"
   },
   {
    "duration": 195,
    "start_time": "2023-07-06T13:17:06.182Z"
   },
   {
    "duration": 25,
    "start_time": "2023-07-06T13:17:11.423Z"
   },
   {
    "duration": 218,
    "start_time": "2023-07-06T13:17:21.444Z"
   },
   {
    "duration": 19,
    "start_time": "2023-07-06T13:17:21.664Z"
   },
   {
    "duration": 256,
    "start_time": "2023-07-06T13:18:08.015Z"
   },
   {
    "duration": 14,
    "start_time": "2023-07-06T13:18:11.994Z"
   },
   {
    "duration": 201,
    "start_time": "2023-07-06T13:18:25.146Z"
   },
   {
    "duration": 11,
    "start_time": "2023-07-06T13:18:26.113Z"
   },
   {
    "duration": 40,
    "start_time": "2023-07-06T13:24:59.420Z"
   },
   {
    "duration": 6,
    "start_time": "2023-07-06T13:36:17.620Z"
   },
   {
    "duration": 5,
    "start_time": "2023-07-06T13:39:31.605Z"
   },
   {
    "duration": 1256,
    "start_time": "2023-07-06T13:41:14.172Z"
   },
   {
    "duration": 76,
    "start_time": "2023-07-06T13:41:15.430Z"
   },
   {
    "duration": 93,
    "start_time": "2023-07-06T13:41:15.508Z"
   },
   {
    "duration": 6,
    "start_time": "2023-07-06T13:41:15.602Z"
   },
   {
    "duration": 35,
    "start_time": "2023-07-06T13:41:15.609Z"
   },
   {
    "duration": 10,
    "start_time": "2023-07-06T13:41:15.646Z"
   },
   {
    "duration": 11,
    "start_time": "2023-07-06T13:41:15.657Z"
   },
   {
    "duration": 6,
    "start_time": "2023-07-06T13:41:15.669Z"
   },
   {
    "duration": 12,
    "start_time": "2023-07-06T13:41:15.676Z"
   },
   {
    "duration": 15,
    "start_time": "2023-07-06T13:41:15.690Z"
   },
   {
    "duration": 5,
    "start_time": "2023-07-06T13:41:15.706Z"
   },
   {
    "duration": 30,
    "start_time": "2023-07-06T13:41:15.712Z"
   },
   {
    "duration": 8,
    "start_time": "2023-07-06T13:41:15.745Z"
   },
   {
    "duration": 15,
    "start_time": "2023-07-06T13:41:15.754Z"
   },
   {
    "duration": 233,
    "start_time": "2023-07-06T13:41:15.770Z"
   },
   {
    "duration": 107,
    "start_time": "2023-07-06T13:41:16.005Z"
   },
   {
    "duration": 35,
    "start_time": "2023-07-06T13:41:16.113Z"
   },
   {
    "duration": 16,
    "start_time": "2023-07-06T13:41:16.149Z"
   },
   {
    "duration": 134,
    "start_time": "2023-07-06T13:41:16.167Z"
   },
   {
    "duration": 223,
    "start_time": "2023-07-06T13:41:16.302Z"
   },
   {
    "duration": 14,
    "start_time": "2023-07-06T13:41:16.527Z"
   },
   {
    "duration": 12,
    "start_time": "2023-07-06T13:41:16.542Z"
   },
   {
    "duration": 200,
    "start_time": "2023-07-06T13:41:16.556Z"
   },
   {
    "duration": 110,
    "start_time": "2023-07-06T13:41:16.758Z"
   },
   {
    "duration": 105,
    "start_time": "2023-07-06T13:41:16.869Z"
   },
   {
    "duration": 32,
    "start_time": "2023-07-06T13:41:16.976Z"
   },
   {
    "duration": 219,
    "start_time": "2023-07-06T13:41:17.010Z"
   },
   {
    "duration": 17,
    "start_time": "2023-07-06T13:41:17.233Z"
   },
   {
    "duration": 17,
    "start_time": "2023-07-06T13:41:17.252Z"
   },
   {
    "duration": 158,
    "start_time": "2023-07-06T13:41:17.270Z"
   },
   {
    "duration": 15,
    "start_time": "2023-07-06T13:41:17.430Z"
   },
   {
    "duration": 121,
    "start_time": "2023-07-06T13:41:17.447Z"
   },
   {
    "duration": 5,
    "start_time": "2023-07-06T13:41:17.570Z"
   },
   {
    "duration": 26,
    "start_time": "2023-07-06T13:41:17.576Z"
   },
   {
    "duration": 291,
    "start_time": "2023-07-06T13:41:17.605Z"
   },
   {
    "duration": 211,
    "start_time": "2023-07-06T13:41:17.898Z"
   },
   {
    "duration": 11,
    "start_time": "2023-07-06T13:41:18.111Z"
   },
   {
    "duration": 224,
    "start_time": "2023-07-06T13:41:18.124Z"
   },
   {
    "duration": 11,
    "start_time": "2023-07-06T13:41:18.349Z"
   },
   {
    "duration": 26,
    "start_time": "2023-07-06T13:41:18.362Z"
   },
   {
    "duration": 4,
    "start_time": "2023-07-06T13:41:39.609Z"
   },
   {
    "duration": 9,
    "start_time": "2023-07-06T13:43:08.064Z"
   },
   {
    "duration": 7,
    "start_time": "2023-07-06T13:44:33.947Z"
   },
   {
    "duration": 9,
    "start_time": "2023-07-06T13:44:34.776Z"
   },
   {
    "duration": 4,
    "start_time": "2023-07-06T13:45:45.677Z"
   },
   {
    "duration": 10,
    "start_time": "2023-07-06T13:45:49.930Z"
   },
   {
    "duration": 4,
    "start_time": "2023-07-06T13:46:27.378Z"
   },
   {
    "duration": 13,
    "start_time": "2023-07-06T13:46:29.656Z"
   },
   {
    "duration": 1238,
    "start_time": "2023-07-06T13:48:34.416Z"
   },
   {
    "duration": 69,
    "start_time": "2023-07-06T13:48:35.656Z"
   },
   {
    "duration": 84,
    "start_time": "2023-07-06T13:48:35.726Z"
   },
   {
    "duration": 6,
    "start_time": "2023-07-06T13:48:35.832Z"
   },
   {
    "duration": 36,
    "start_time": "2023-07-06T13:48:35.841Z"
   },
   {
    "duration": 37,
    "start_time": "2023-07-06T13:48:35.878Z"
   },
   {
    "duration": 42,
    "start_time": "2023-07-06T13:48:35.917Z"
   },
   {
    "duration": 11,
    "start_time": "2023-07-06T13:48:35.961Z"
   },
   {
    "duration": 10,
    "start_time": "2023-07-06T13:48:35.973Z"
   },
   {
    "duration": 7,
    "start_time": "2023-07-06T13:48:35.985Z"
   },
   {
    "duration": 14,
    "start_time": "2023-07-06T13:48:35.993Z"
   },
   {
    "duration": 30,
    "start_time": "2023-07-06T13:48:36.009Z"
   },
   {
    "duration": 20,
    "start_time": "2023-07-06T13:48:36.042Z"
   },
   {
    "duration": 16,
    "start_time": "2023-07-06T13:48:36.063Z"
   },
   {
    "duration": 216,
    "start_time": "2023-07-06T13:48:36.081Z"
   },
   {
    "duration": 123,
    "start_time": "2023-07-06T13:48:36.299Z"
   },
   {
    "duration": 33,
    "start_time": "2023-07-06T13:48:36.424Z"
   },
   {
    "duration": 7,
    "start_time": "2023-07-06T13:48:36.458Z"
   },
   {
    "duration": 150,
    "start_time": "2023-07-06T13:48:36.466Z"
   },
   {
    "duration": 218,
    "start_time": "2023-07-06T13:48:36.618Z"
   },
   {
    "duration": 8,
    "start_time": "2023-07-06T13:48:36.838Z"
   },
   {
    "duration": 19,
    "start_time": "2023-07-06T13:48:36.848Z"
   },
   {
    "duration": 19,
    "start_time": "2023-07-06T13:48:36.868Z"
   },
   {
    "duration": 196,
    "start_time": "2023-07-06T13:48:36.888Z"
   },
   {
    "duration": 178,
    "start_time": "2023-07-06T13:48:37.086Z"
   },
   {
    "duration": 24,
    "start_time": "2023-07-06T13:48:37.265Z"
   },
   {
    "duration": 61,
    "start_time": "2023-07-06T13:48:37.290Z"
   },
   {
    "duration": 202,
    "start_time": "2023-07-06T13:48:37.353Z"
   },
   {
    "duration": 11,
    "start_time": "2023-07-06T13:48:37.557Z"
   },
   {
    "duration": 10,
    "start_time": "2023-07-06T13:48:37.569Z"
   },
   {
    "duration": 181,
    "start_time": "2023-07-06T13:48:37.580Z"
   },
   {
    "duration": 7,
    "start_time": "2023-07-06T13:48:37.763Z"
   },
   {
    "duration": 105,
    "start_time": "2023-07-06T13:48:37.773Z"
   },
   {
    "duration": 6,
    "start_time": "2023-07-06T13:48:37.880Z"
   },
   {
    "duration": 91,
    "start_time": "2023-07-06T13:48:37.887Z"
   },
   {
    "duration": 229,
    "start_time": "2023-07-06T13:48:37.980Z"
   },
   {
    "duration": 205,
    "start_time": "2023-07-06T13:48:38.211Z"
   },
   {
    "duration": 28,
    "start_time": "2023-07-06T13:48:38.417Z"
   },
   {
    "duration": 216,
    "start_time": "2023-07-06T13:48:38.448Z"
   },
   {
    "duration": 13,
    "start_time": "2023-07-06T13:48:38.666Z"
   },
   {
    "duration": 37,
    "start_time": "2023-07-06T13:48:38.680Z"
   },
   {
    "duration": 5,
    "start_time": "2023-07-06T13:52:41.504Z"
   },
   {
    "duration": 5,
    "start_time": "2023-07-06T13:54:35.611Z"
   },
   {
    "duration": 1141,
    "start_time": "2023-07-06T13:55:23.493Z"
   },
   {
    "duration": 79,
    "start_time": "2023-07-06T13:55:24.636Z"
   },
   {
    "duration": 94,
    "start_time": "2023-07-06T13:55:24.717Z"
   },
   {
    "duration": 7,
    "start_time": "2023-07-06T13:55:24.832Z"
   },
   {
    "duration": 23,
    "start_time": "2023-07-06T13:55:24.841Z"
   },
   {
    "duration": 13,
    "start_time": "2023-07-06T13:55:24.865Z"
   },
   {
    "duration": 27,
    "start_time": "2023-07-06T13:55:24.879Z"
   },
   {
    "duration": 11,
    "start_time": "2023-07-06T13:55:24.908Z"
   },
   {
    "duration": 9,
    "start_time": "2023-07-06T13:55:24.920Z"
   },
   {
    "duration": 9,
    "start_time": "2023-07-06T13:55:24.930Z"
   },
   {
    "duration": 5,
    "start_time": "2023-07-06T13:55:24.941Z"
   },
   {
    "duration": 7,
    "start_time": "2023-07-06T13:55:24.947Z"
   },
   {
    "duration": 9,
    "start_time": "2023-07-06T13:55:24.955Z"
   },
   {
    "duration": 8,
    "start_time": "2023-07-06T13:55:24.967Z"
   },
   {
    "duration": 231,
    "start_time": "2023-07-06T13:55:24.976Z"
   },
   {
    "duration": 105,
    "start_time": "2023-07-06T13:55:25.208Z"
   },
   {
    "duration": 33,
    "start_time": "2023-07-06T13:55:25.315Z"
   },
   {
    "duration": 7,
    "start_time": "2023-07-06T13:55:25.349Z"
   },
   {
    "duration": 131,
    "start_time": "2023-07-06T13:55:25.357Z"
   },
   {
    "duration": 194,
    "start_time": "2023-07-06T13:55:25.489Z"
   },
   {
    "duration": 6,
    "start_time": "2023-07-06T13:55:25.685Z"
   },
   {
    "duration": 13,
    "start_time": "2023-07-06T13:55:25.692Z"
   },
   {
    "duration": 25,
    "start_time": "2023-07-06T13:55:25.706Z"
   },
   {
    "duration": 192,
    "start_time": "2023-07-06T13:55:25.733Z"
   },
   {
    "duration": 166,
    "start_time": "2023-07-06T13:55:25.927Z"
   },
   {
    "duration": 23,
    "start_time": "2023-07-06T13:55:26.095Z"
   },
   {
    "duration": 41,
    "start_time": "2023-07-06T13:55:26.119Z"
   },
   {
    "duration": 196,
    "start_time": "2023-07-06T13:55:26.161Z"
   },
   {
    "duration": 11,
    "start_time": "2023-07-06T13:55:26.358Z"
   },
   {
    "duration": 5,
    "start_time": "2023-07-06T13:55:26.370Z"
   },
   {
    "duration": 155,
    "start_time": "2023-07-06T13:55:26.376Z"
   },
   {
    "duration": 4,
    "start_time": "2023-07-06T13:55:26.533Z"
   },
   {
    "duration": 94,
    "start_time": "2023-07-06T13:55:26.538Z"
   },
   {
    "duration": 5,
    "start_time": "2023-07-06T13:55:26.633Z"
   },
   {
    "duration": 9,
    "start_time": "2023-07-06T13:55:26.640Z"
   },
   {
    "duration": 233,
    "start_time": "2023-07-06T13:55:26.650Z"
   },
   {
    "duration": 187,
    "start_time": "2023-07-06T13:55:26.885Z"
   },
   {
    "duration": 11,
    "start_time": "2023-07-06T13:55:27.074Z"
   },
   {
    "duration": 217,
    "start_time": "2023-07-06T13:55:27.086Z"
   },
   {
    "duration": 11,
    "start_time": "2023-07-06T13:55:27.305Z"
   },
   {
    "duration": 39,
    "start_time": "2023-07-06T13:55:27.319Z"
   },
   {
    "duration": 5,
    "start_time": "2023-07-06T13:56:38.118Z"
   },
   {
    "duration": 8,
    "start_time": "2023-07-06T13:56:38.894Z"
   },
   {
    "duration": 8,
    "start_time": "2023-07-06T13:57:54.750Z"
   },
   {
    "duration": 397,
    "start_time": "2023-07-06T13:59:17.741Z"
   },
   {
    "duration": 6,
    "start_time": "2023-07-06T13:59:50.392Z"
   },
   {
    "duration": 8,
    "start_time": "2023-07-06T14:02:50.351Z"
   },
   {
    "duration": 5,
    "start_time": "2023-07-06T14:02:58.323Z"
   },
   {
    "duration": 9,
    "start_time": "2023-07-06T14:02:59.062Z"
   },
   {
    "duration": 3,
    "start_time": "2023-07-06T14:08:06.425Z"
   },
   {
    "duration": 6,
    "start_time": "2023-07-06T14:08:34.150Z"
   },
   {
    "duration": 5,
    "start_time": "2023-07-06T14:13:26.864Z"
   },
   {
    "duration": 9,
    "start_time": "2023-07-06T14:13:28.131Z"
   },
   {
    "duration": 1262,
    "start_time": "2023-07-06T14:14:01.632Z"
   },
   {
    "duration": 67,
    "start_time": "2023-07-06T14:14:02.896Z"
   },
   {
    "duration": 75,
    "start_time": "2023-07-06T14:14:02.964Z"
   },
   {
    "duration": 5,
    "start_time": "2023-07-06T14:14:03.041Z"
   },
   {
    "duration": 20,
    "start_time": "2023-07-06T14:14:03.047Z"
   },
   {
    "duration": 46,
    "start_time": "2023-07-06T14:14:03.068Z"
   },
   {
    "duration": 43,
    "start_time": "2023-07-06T14:14:03.115Z"
   },
   {
    "duration": 37,
    "start_time": "2023-07-06T14:14:03.159Z"
   },
   {
    "duration": 16,
    "start_time": "2023-07-06T14:14:03.197Z"
   },
   {
    "duration": 25,
    "start_time": "2023-07-06T14:14:03.215Z"
   },
   {
    "duration": 31,
    "start_time": "2023-07-06T14:14:03.241Z"
   },
   {
    "duration": 22,
    "start_time": "2023-07-06T14:14:03.274Z"
   },
   {
    "duration": 22,
    "start_time": "2023-07-06T14:14:03.297Z"
   },
   {
    "duration": 19,
    "start_time": "2023-07-06T14:14:03.321Z"
   },
   {
    "duration": 15,
    "start_time": "2023-07-06T14:14:03.341Z"
   },
   {
    "duration": 260,
    "start_time": "2023-07-06T14:14:03.358Z"
   },
   {
    "duration": 112,
    "start_time": "2023-07-06T14:14:03.619Z"
   },
   {
    "duration": 25,
    "start_time": "2023-07-06T14:14:03.733Z"
   },
   {
    "duration": 106,
    "start_time": "2023-07-06T14:14:03.760Z"
   },
   {
    "duration": 134,
    "start_time": "2023-07-06T14:14:03.867Z"
   },
   {
    "duration": 185,
    "start_time": "2023-07-06T14:14:04.003Z"
   },
   {
    "duration": 5,
    "start_time": "2023-07-06T14:14:04.190Z"
   },
   {
    "duration": 13,
    "start_time": "2023-07-06T14:14:04.196Z"
   },
   {
    "duration": 25,
    "start_time": "2023-07-06T14:14:04.210Z"
   },
   {
    "duration": 205,
    "start_time": "2023-07-06T14:14:04.237Z"
   },
   {
    "duration": 112,
    "start_time": "2023-07-06T14:14:04.444Z"
   },
   {
    "duration": 120,
    "start_time": "2023-07-06T14:14:04.558Z"
   },
   {
    "duration": 8,
    "start_time": "2023-07-06T14:14:04.682Z"
   },
   {
    "duration": 66,
    "start_time": "2023-07-06T14:14:04.692Z"
   },
   {
    "duration": 189,
    "start_time": "2023-07-06T14:14:04.760Z"
   },
   {
    "duration": 4,
    "start_time": "2023-07-06T14:14:04.951Z"
   },
   {
    "duration": 11,
    "start_time": "2023-07-06T14:14:04.957Z"
   },
   {
    "duration": 31,
    "start_time": "2023-07-06T14:14:04.970Z"
   },
   {
    "duration": 156,
    "start_time": "2023-07-06T14:14:05.002Z"
   },
   {
    "duration": 5,
    "start_time": "2023-07-06T14:14:05.159Z"
   },
   {
    "duration": 107,
    "start_time": "2023-07-06T14:14:05.165Z"
   },
   {
    "duration": 5,
    "start_time": "2023-07-06T14:14:05.273Z"
   },
   {
    "duration": 10,
    "start_time": "2023-07-06T14:14:05.280Z"
   },
   {
    "duration": 236,
    "start_time": "2023-07-06T14:14:05.291Z"
   },
   {
    "duration": 184,
    "start_time": "2023-07-06T14:14:05.529Z"
   },
   {
    "duration": 18,
    "start_time": "2023-07-06T14:14:05.714Z"
   },
   {
    "duration": 185,
    "start_time": "2023-07-06T14:14:05.733Z"
   },
   {
    "duration": 19,
    "start_time": "2023-07-06T14:14:05.919Z"
   },
   {
    "duration": 186,
    "start_time": "2023-07-06T14:14:05.939Z"
   },
   {
    "duration": 1234,
    "start_time": "2023-07-06T14:16:23.609Z"
   },
   {
    "duration": 67,
    "start_time": "2023-07-06T14:16:24.845Z"
   },
   {
    "duration": 83,
    "start_time": "2023-07-06T14:16:24.914Z"
   },
   {
    "duration": 6,
    "start_time": "2023-07-06T14:16:24.999Z"
   },
   {
    "duration": 8,
    "start_time": "2023-07-06T14:16:25.032Z"
   },
   {
    "duration": 6,
    "start_time": "2023-07-06T14:16:25.041Z"
   },
   {
    "duration": 12,
    "start_time": "2023-07-06T14:16:25.048Z"
   },
   {
    "duration": 5,
    "start_time": "2023-07-06T14:16:25.062Z"
   },
   {
    "duration": 13,
    "start_time": "2023-07-06T14:16:25.069Z"
   },
   {
    "duration": 15,
    "start_time": "2023-07-06T14:16:25.083Z"
   },
   {
    "duration": 5,
    "start_time": "2023-07-06T14:16:25.099Z"
   },
   {
    "duration": 31,
    "start_time": "2023-07-06T14:16:25.106Z"
   },
   {
    "duration": 7,
    "start_time": "2023-07-06T14:16:25.138Z"
   },
   {
    "duration": 5,
    "start_time": "2023-07-06T14:16:25.148Z"
   },
   {
    "duration": 20,
    "start_time": "2023-07-06T14:16:25.154Z"
   },
   {
    "duration": 202,
    "start_time": "2023-07-06T14:16:25.175Z"
   },
   {
    "duration": 99,
    "start_time": "2023-07-06T14:16:25.378Z"
   },
   {
    "duration": 24,
    "start_time": "2023-07-06T14:16:25.479Z"
   },
   {
    "duration": 6,
    "start_time": "2023-07-06T14:16:25.504Z"
   },
   {
    "duration": 138,
    "start_time": "2023-07-06T14:16:25.511Z"
   },
   {
    "duration": 194,
    "start_time": "2023-07-06T14:16:25.651Z"
   },
   {
    "duration": 6,
    "start_time": "2023-07-06T14:16:25.847Z"
   },
   {
    "duration": 20,
    "start_time": "2023-07-06T14:16:25.854Z"
   },
   {
    "duration": 12,
    "start_time": "2023-07-06T14:16:25.875Z"
   },
   {
    "duration": 187,
    "start_time": "2023-07-06T14:16:25.889Z"
   },
   {
    "duration": 102,
    "start_time": "2023-07-06T14:16:26.078Z"
   },
   {
    "duration": 104,
    "start_time": "2023-07-06T14:16:26.182Z"
   },
   {
    "duration": 6,
    "start_time": "2023-07-06T14:16:26.288Z"
   },
   {
    "duration": 45,
    "start_time": "2023-07-06T14:16:26.296Z"
   },
   {
    "duration": 191,
    "start_time": "2023-07-06T14:16:26.342Z"
   },
   {
    "duration": 6,
    "start_time": "2023-07-06T14:16:26.534Z"
   },
   {
    "duration": 12,
    "start_time": "2023-07-06T14:16:26.541Z"
   },
   {
    "duration": 12,
    "start_time": "2023-07-06T14:16:26.555Z"
   },
   {
    "duration": 150,
    "start_time": "2023-07-06T14:16:26.568Z"
   },
   {
    "duration": 6,
    "start_time": "2023-07-06T14:16:26.719Z"
   },
   {
    "duration": 81,
    "start_time": "2023-07-06T14:16:26.732Z"
   },
   {
    "duration": 17,
    "start_time": "2023-07-06T14:16:26.815Z"
   },
   {
    "duration": 5,
    "start_time": "2023-07-06T14:16:26.833Z"
   },
   {
    "duration": 233,
    "start_time": "2023-07-06T14:16:26.839Z"
   },
   {
    "duration": 193,
    "start_time": "2023-07-06T14:16:27.074Z"
   },
   {
    "duration": 11,
    "start_time": "2023-07-06T14:16:27.270Z"
   },
   {
    "duration": 196,
    "start_time": "2023-07-06T14:16:27.283Z"
   },
   {
    "duration": 12,
    "start_time": "2023-07-06T14:16:27.481Z"
   },
   {
    "duration": 47,
    "start_time": "2023-07-06T14:16:27.494Z"
   },
   {
    "duration": 4,
    "start_time": "2023-07-06T14:17:03.537Z"
   },
   {
    "duration": 9,
    "start_time": "2023-07-06T14:17:04.228Z"
   },
   {
    "duration": 1214,
    "start_time": "2023-07-06T14:27:03.705Z"
   },
   {
    "duration": 68,
    "start_time": "2023-07-06T14:27:04.921Z"
   },
   {
    "duration": 73,
    "start_time": "2023-07-06T14:27:04.991Z"
   },
   {
    "duration": 5,
    "start_time": "2023-07-06T14:27:05.066Z"
   },
   {
    "duration": 10,
    "start_time": "2023-07-06T14:27:05.072Z"
   },
   {
    "duration": 8,
    "start_time": "2023-07-06T14:27:05.084Z"
   },
   {
    "duration": 17,
    "start_time": "2023-07-06T14:27:05.093Z"
   },
   {
    "duration": 6,
    "start_time": "2023-07-06T14:27:05.111Z"
   },
   {
    "duration": 17,
    "start_time": "2023-07-06T14:27:05.118Z"
   },
   {
    "duration": 7,
    "start_time": "2023-07-06T14:27:05.137Z"
   },
   {
    "duration": 6,
    "start_time": "2023-07-06T14:27:05.145Z"
   },
   {
    "duration": 7,
    "start_time": "2023-07-06T14:27:05.152Z"
   },
   {
    "duration": 6,
    "start_time": "2023-07-06T14:27:05.161Z"
   },
   {
    "duration": 4,
    "start_time": "2023-07-06T14:27:05.168Z"
   },
   {
    "duration": 10,
    "start_time": "2023-07-06T14:27:05.173Z"
   },
   {
    "duration": 237,
    "start_time": "2023-07-06T14:27:05.184Z"
   },
   {
    "duration": 100,
    "start_time": "2023-07-06T14:27:05.422Z"
   },
   {
    "duration": 34,
    "start_time": "2023-07-06T14:27:05.524Z"
   },
   {
    "duration": 13,
    "start_time": "2023-07-06T14:27:05.559Z"
   },
   {
    "duration": 159,
    "start_time": "2023-07-06T14:27:05.573Z"
   },
   {
    "duration": 176,
    "start_time": "2023-07-06T14:27:05.733Z"
   },
   {
    "duration": 4,
    "start_time": "2023-07-06T14:27:05.911Z"
   },
   {
    "duration": 26,
    "start_time": "2023-07-06T14:27:05.917Z"
   },
   {
    "duration": 37,
    "start_time": "2023-07-06T14:27:05.945Z"
   },
   {
    "duration": 214,
    "start_time": "2023-07-06T14:27:05.984Z"
   },
   {
    "duration": 98,
    "start_time": "2023-07-06T14:27:06.200Z"
   },
   {
    "duration": 101,
    "start_time": "2023-07-06T14:27:06.300Z"
   },
   {
    "duration": 5,
    "start_time": "2023-07-06T14:27:06.404Z"
   },
   {
    "duration": 42,
    "start_time": "2023-07-06T14:27:06.411Z"
   },
   {
    "duration": 199,
    "start_time": "2023-07-06T14:27:06.455Z"
   },
   {
    "duration": 5,
    "start_time": "2023-07-06T14:27:06.655Z"
   },
   {
    "duration": 10,
    "start_time": "2023-07-06T14:27:06.662Z"
   },
   {
    "duration": 5,
    "start_time": "2023-07-06T14:27:06.673Z"
   },
   {
    "duration": 161,
    "start_time": "2023-07-06T14:27:06.679Z"
   },
   {
    "duration": 6,
    "start_time": "2023-07-06T14:27:06.841Z"
   },
   {
    "duration": 92,
    "start_time": "2023-07-06T14:27:06.848Z"
   },
   {
    "duration": 6,
    "start_time": "2023-07-06T14:27:06.941Z"
   },
   {
    "duration": 8,
    "start_time": "2023-07-06T14:27:06.949Z"
   },
   {
    "duration": 237,
    "start_time": "2023-07-06T14:27:06.958Z"
   },
   {
    "duration": 170,
    "start_time": "2023-07-06T14:27:07.197Z"
   },
   {
    "duration": 11,
    "start_time": "2023-07-06T14:27:07.369Z"
   },
   {
    "duration": 196,
    "start_time": "2023-07-06T14:27:07.381Z"
   },
   {
    "duration": 13,
    "start_time": "2023-07-06T14:27:07.579Z"
   },
   {
    "duration": 45,
    "start_time": "2023-07-06T14:27:07.594Z"
   },
   {
    "duration": 6,
    "start_time": "2023-07-06T14:28:13.360Z"
   },
   {
    "duration": 34,
    "start_time": "2023-07-06T14:28:14.113Z"
   },
   {
    "duration": 134,
    "start_time": "2023-07-06T14:28:14.913Z"
   },
   {
    "duration": 5,
    "start_time": "2023-07-06T14:28:17.430Z"
   },
   {
    "duration": 1177,
    "start_time": "2023-07-06T14:28:33.008Z"
   },
   {
    "duration": 69,
    "start_time": "2023-07-06T14:28:34.187Z"
   },
   {
    "duration": 76,
    "start_time": "2023-07-06T14:28:34.258Z"
   },
   {
    "duration": 5,
    "start_time": "2023-07-06T14:28:34.336Z"
   },
   {
    "duration": 16,
    "start_time": "2023-07-06T14:28:34.342Z"
   },
   {
    "duration": 13,
    "start_time": "2023-07-06T14:28:34.359Z"
   },
   {
    "duration": 11,
    "start_time": "2023-07-06T14:28:34.373Z"
   },
   {
    "duration": 9,
    "start_time": "2023-07-06T14:28:34.385Z"
   },
   {
    "duration": 14,
    "start_time": "2023-07-06T14:28:34.395Z"
   },
   {
    "duration": 14,
    "start_time": "2023-07-06T14:28:34.412Z"
   },
   {
    "duration": 17,
    "start_time": "2023-07-06T14:28:34.427Z"
   },
   {
    "duration": 13,
    "start_time": "2023-07-06T14:28:34.445Z"
   },
   {
    "duration": 13,
    "start_time": "2023-07-06T14:28:34.460Z"
   },
   {
    "duration": 23,
    "start_time": "2023-07-06T14:28:34.475Z"
   },
   {
    "duration": 17,
    "start_time": "2023-07-06T14:28:34.500Z"
   },
   {
    "duration": 200,
    "start_time": "2023-07-06T14:28:34.519Z"
   },
   {
    "duration": 103,
    "start_time": "2023-07-06T14:28:34.721Z"
   },
   {
    "duration": 33,
    "start_time": "2023-07-06T14:28:34.831Z"
   },
   {
    "duration": 18,
    "start_time": "2023-07-06T14:28:34.866Z"
   },
   {
    "duration": 158,
    "start_time": "2023-07-06T14:28:34.886Z"
   },
   {
    "duration": 192,
    "start_time": "2023-07-06T14:28:35.046Z"
   },
   {
    "duration": 5,
    "start_time": "2023-07-06T14:28:35.239Z"
   },
   {
    "duration": 21,
    "start_time": "2023-07-06T14:28:35.245Z"
   },
   {
    "duration": 10,
    "start_time": "2023-07-06T14:28:35.268Z"
   },
   {
    "duration": 191,
    "start_time": "2023-07-06T14:28:35.279Z"
   },
   {
    "duration": 105,
    "start_time": "2023-07-06T14:28:35.471Z"
   },
   {
    "duration": 99,
    "start_time": "2023-07-06T14:28:35.578Z"
   },
   {
    "duration": 5,
    "start_time": "2023-07-06T14:28:35.681Z"
   },
   {
    "duration": 50,
    "start_time": "2023-07-06T14:28:35.688Z"
   },
   {
    "duration": 193,
    "start_time": "2023-07-06T14:28:35.739Z"
   },
   {
    "duration": 4,
    "start_time": "2023-07-06T14:28:35.934Z"
   },
   {
    "duration": 13,
    "start_time": "2023-07-06T14:28:35.939Z"
   },
   {
    "duration": 4,
    "start_time": "2023-07-06T14:28:35.954Z"
   },
   {
    "duration": 151,
    "start_time": "2023-07-06T14:28:35.960Z"
   },
   {
    "duration": 5,
    "start_time": "2023-07-06T14:28:36.113Z"
   },
   {
    "duration": 88,
    "start_time": "2023-07-06T14:28:36.119Z"
   },
   {
    "duration": 5,
    "start_time": "2023-07-06T14:28:36.208Z"
   },
   {
    "duration": 19,
    "start_time": "2023-07-06T14:28:36.214Z"
   },
   {
    "duration": 237,
    "start_time": "2023-07-06T14:28:36.234Z"
   },
   {
    "duration": 187,
    "start_time": "2023-07-06T14:28:36.473Z"
   },
   {
    "duration": 12,
    "start_time": "2023-07-06T14:28:36.661Z"
   },
   {
    "duration": 194,
    "start_time": "2023-07-06T14:28:36.674Z"
   },
   {
    "duration": 11,
    "start_time": "2023-07-06T14:28:36.870Z"
   },
   {
    "duration": 28,
    "start_time": "2023-07-06T14:28:36.882Z"
   },
   {
    "duration": 7,
    "start_time": "2023-07-06T14:28:58.106Z"
   },
   {
    "duration": 1167,
    "start_time": "2023-07-06T14:29:12.664Z"
   },
   {
    "duration": 70,
    "start_time": "2023-07-06T14:29:13.833Z"
   },
   {
    "duration": 76,
    "start_time": "2023-07-06T14:29:13.904Z"
   },
   {
    "duration": 5,
    "start_time": "2023-07-06T14:29:13.981Z"
   },
   {
    "duration": 10,
    "start_time": "2023-07-06T14:29:13.988Z"
   },
   {
    "duration": 7,
    "start_time": "2023-07-06T14:29:14.000Z"
   },
   {
    "duration": 25,
    "start_time": "2023-07-06T14:29:14.008Z"
   },
   {
    "duration": 8,
    "start_time": "2023-07-06T14:29:14.034Z"
   },
   {
    "duration": 16,
    "start_time": "2023-07-06T14:29:14.043Z"
   },
   {
    "duration": 8,
    "start_time": "2023-07-06T14:29:14.060Z"
   },
   {
    "duration": 5,
    "start_time": "2023-07-06T14:29:14.069Z"
   },
   {
    "duration": 7,
    "start_time": "2023-07-06T14:29:14.076Z"
   },
   {
    "duration": 6,
    "start_time": "2023-07-06T14:29:14.085Z"
   },
   {
    "duration": 5,
    "start_time": "2023-07-06T14:29:14.094Z"
   },
   {
    "duration": 33,
    "start_time": "2023-07-06T14:29:14.100Z"
   },
   {
    "duration": 223,
    "start_time": "2023-07-06T14:29:14.135Z"
   },
   {
    "duration": 107,
    "start_time": "2023-07-06T14:29:14.360Z"
   },
   {
    "duration": 27,
    "start_time": "2023-07-06T14:29:14.469Z"
   },
   {
    "duration": 7,
    "start_time": "2023-07-06T14:29:14.498Z"
   },
   {
    "duration": 164,
    "start_time": "2023-07-06T14:29:14.506Z"
   },
   {
    "duration": 233,
    "start_time": "2023-07-06T14:29:14.672Z"
   },
   {
    "duration": 5,
    "start_time": "2023-07-06T14:29:14.906Z"
   },
   {
    "duration": 15,
    "start_time": "2023-07-06T14:29:14.912Z"
   },
   {
    "duration": 12,
    "start_time": "2023-07-06T14:29:14.932Z"
   },
   {
    "duration": 208,
    "start_time": "2023-07-06T14:29:14.945Z"
   },
   {
    "duration": 109,
    "start_time": "2023-07-06T14:29:15.154Z"
   },
   {
    "duration": 106,
    "start_time": "2023-07-06T14:29:15.264Z"
   },
   {
    "duration": 5,
    "start_time": "2023-07-06T14:29:15.372Z"
   },
   {
    "duration": 39,
    "start_time": "2023-07-06T14:29:15.379Z"
   },
   {
    "duration": 199,
    "start_time": "2023-07-06T14:29:15.420Z"
   },
   {
    "duration": 12,
    "start_time": "2023-07-06T14:29:15.620Z"
   },
   {
    "duration": 11,
    "start_time": "2023-07-06T14:29:15.633Z"
   },
   {
    "duration": 7,
    "start_time": "2023-07-06T14:29:15.645Z"
   },
   {
    "duration": 155,
    "start_time": "2023-07-06T14:29:15.654Z"
   },
   {
    "duration": 6,
    "start_time": "2023-07-06T14:29:15.810Z"
   },
   {
    "duration": 85,
    "start_time": "2023-07-06T14:29:15.817Z"
   },
   {
    "duration": 4,
    "start_time": "2023-07-06T14:29:15.904Z"
   },
   {
    "duration": 20,
    "start_time": "2023-07-06T14:29:15.910Z"
   },
   {
    "duration": 231,
    "start_time": "2023-07-06T14:29:15.931Z"
   },
   {
    "duration": 183,
    "start_time": "2023-07-06T14:29:16.164Z"
   },
   {
    "duration": 12,
    "start_time": "2023-07-06T14:29:16.352Z"
   },
   {
    "duration": 204,
    "start_time": "2023-07-06T14:29:16.366Z"
   },
   {
    "duration": 13,
    "start_time": "2023-07-06T14:29:16.572Z"
   },
   {
    "duration": 46,
    "start_time": "2023-07-06T14:29:16.586Z"
   },
   {
    "duration": 5,
    "start_time": "2023-07-06T14:29:51.825Z"
   },
   {
    "duration": 9,
    "start_time": "2023-07-06T14:29:52.566Z"
   },
   {
    "duration": 8,
    "start_time": "2023-07-06T14:31:22.358Z"
   },
   {
    "duration": 179,
    "start_time": "2023-07-06T14:32:09.047Z"
   },
   {
    "duration": 9,
    "start_time": "2023-07-06T14:32:49.005Z"
   },
   {
    "duration": 186,
    "start_time": "2023-07-06T14:33:31.249Z"
   },
   {
    "duration": 9,
    "start_time": "2023-07-06T14:33:48.207Z"
   },
   {
    "duration": 34,
    "start_time": "2023-07-06T14:35:31.757Z"
   },
   {
    "duration": 6,
    "start_time": "2023-07-06T14:37:44.359Z"
   },
   {
    "duration": 1231,
    "start_time": "2023-07-06T14:37:55.714Z"
   },
   {
    "duration": 70,
    "start_time": "2023-07-06T14:37:56.947Z"
   },
   {
    "duration": 73,
    "start_time": "2023-07-06T14:37:57.019Z"
   },
   {
    "duration": 5,
    "start_time": "2023-07-06T14:37:57.094Z"
   },
   {
    "duration": 31,
    "start_time": "2023-07-06T14:37:57.101Z"
   },
   {
    "duration": 5,
    "start_time": "2023-07-06T14:37:57.133Z"
   },
   {
    "duration": 17,
    "start_time": "2023-07-06T14:37:57.140Z"
   },
   {
    "duration": 14,
    "start_time": "2023-07-06T14:37:57.158Z"
   },
   {
    "duration": 9,
    "start_time": "2023-07-06T14:37:57.174Z"
   },
   {
    "duration": 8,
    "start_time": "2023-07-06T14:37:57.186Z"
   },
   {
    "duration": 8,
    "start_time": "2023-07-06T14:37:57.195Z"
   },
   {
    "duration": 10,
    "start_time": "2023-07-06T14:37:57.205Z"
   },
   {
    "duration": 7,
    "start_time": "2023-07-06T14:37:57.232Z"
   },
   {
    "duration": 8,
    "start_time": "2023-07-06T14:37:57.241Z"
   },
   {
    "duration": 15,
    "start_time": "2023-07-06T14:37:57.251Z"
   },
   {
    "duration": 206,
    "start_time": "2023-07-06T14:37:57.267Z"
   },
   {
    "duration": 111,
    "start_time": "2023-07-06T14:37:57.474Z"
   },
   {
    "duration": 31,
    "start_time": "2023-07-06T14:37:57.586Z"
   },
   {
    "duration": 19,
    "start_time": "2023-07-06T14:37:57.618Z"
   },
   {
    "duration": 151,
    "start_time": "2023-07-06T14:37:57.639Z"
   },
   {
    "duration": 237,
    "start_time": "2023-07-06T14:37:57.791Z"
   },
   {
    "duration": 6,
    "start_time": "2023-07-06T14:37:58.032Z"
   },
   {
    "duration": 16,
    "start_time": "2023-07-06T14:37:58.039Z"
   },
   {
    "duration": 14,
    "start_time": "2023-07-06T14:37:58.057Z"
   },
   {
    "duration": 235,
    "start_time": "2023-07-06T14:37:58.073Z"
   },
   {
    "duration": 116,
    "start_time": "2023-07-06T14:37:58.309Z"
   },
   {
    "duration": 104,
    "start_time": "2023-07-06T14:37:58.432Z"
   },
   {
    "duration": 34,
    "start_time": "2023-07-06T14:37:58.541Z"
   },
   {
    "duration": 47,
    "start_time": "2023-07-06T14:37:58.577Z"
   },
   {
    "duration": 209,
    "start_time": "2023-07-06T14:37:58.626Z"
   },
   {
    "duration": 5,
    "start_time": "2023-07-06T14:37:58.837Z"
   },
   {
    "duration": 18,
    "start_time": "2023-07-06T14:37:58.844Z"
   },
   {
    "duration": 18,
    "start_time": "2023-07-06T14:37:58.863Z"
   },
   {
    "duration": 176,
    "start_time": "2023-07-06T14:37:58.883Z"
   },
   {
    "duration": 6,
    "start_time": "2023-07-06T14:37:59.061Z"
   },
   {
    "duration": 119,
    "start_time": "2023-07-06T14:37:59.068Z"
   },
   {
    "duration": 5,
    "start_time": "2023-07-06T14:37:59.189Z"
   },
   {
    "duration": 31,
    "start_time": "2023-07-06T14:37:59.196Z"
   },
   {
    "duration": 274,
    "start_time": "2023-07-06T14:37:59.229Z"
   },
   {
    "duration": 211,
    "start_time": "2023-07-06T14:37:59.504Z"
   },
   {
    "duration": 16,
    "start_time": "2023-07-06T14:37:59.717Z"
   },
   {
    "duration": 217,
    "start_time": "2023-07-06T14:37:59.735Z"
   },
   {
    "duration": 8,
    "start_time": "2023-07-06T14:37:59.954Z"
   },
   {
    "duration": 49,
    "start_time": "2023-07-06T14:37:59.964Z"
   },
   {
    "duration": 72,
    "start_time": "2023-07-06T14:39:52.725Z"
   },
   {
    "duration": 23,
    "start_time": "2023-07-06T14:42:20.406Z"
   },
   {
    "duration": 172,
    "start_time": "2023-07-06T14:44:05.997Z"
   },
   {
    "duration": 323,
    "start_time": "2023-07-06T14:44:20.024Z"
   },
   {
    "duration": 187,
    "start_time": "2023-07-06T14:44:26.131Z"
   },
   {
    "duration": 178,
    "start_time": "2023-07-06T14:48:33.310Z"
   },
   {
    "duration": 20,
    "start_time": "2023-07-06T14:49:52.849Z"
   },
   {
    "duration": 173,
    "start_time": "2023-07-06T14:51:45.821Z"
   },
   {
    "duration": 153,
    "start_time": "2023-07-06T14:53:51.105Z"
   },
   {
    "duration": 8,
    "start_time": "2023-07-06T14:54:36.985Z"
   },
   {
    "duration": 6,
    "start_time": "2023-07-06T14:56:08.090Z"
   },
   {
    "duration": 74,
    "start_time": "2023-07-07T12:55:16.942Z"
   },
   {
    "duration": 1867,
    "start_time": "2023-07-07T12:55:39.540Z"
   },
   {
    "duration": 203,
    "start_time": "2023-07-07T12:55:41.410Z"
   },
   {
    "duration": 118,
    "start_time": "2023-07-07T12:55:41.617Z"
   },
   {
    "duration": 8,
    "start_time": "2023-07-07T12:55:41.738Z"
   },
   {
    "duration": 21,
    "start_time": "2023-07-07T12:55:41.749Z"
   },
   {
    "duration": 10,
    "start_time": "2023-07-07T12:55:41.773Z"
   },
   {
    "duration": 11,
    "start_time": "2023-07-07T12:55:41.809Z"
   },
   {
    "duration": 22,
    "start_time": "2023-07-07T12:55:41.823Z"
   },
   {
    "duration": 14,
    "start_time": "2023-07-07T12:55:41.847Z"
   },
   {
    "duration": 16,
    "start_time": "2023-07-07T12:55:41.864Z"
   },
   {
    "duration": 37,
    "start_time": "2023-07-07T12:55:41.882Z"
   },
   {
    "duration": 14,
    "start_time": "2023-07-07T12:55:41.921Z"
   },
   {
    "duration": 17,
    "start_time": "2023-07-07T12:55:41.937Z"
   },
   {
    "duration": 17,
    "start_time": "2023-07-07T12:55:41.957Z"
   },
   {
    "duration": 39,
    "start_time": "2023-07-07T12:55:41.976Z"
   },
   {
    "duration": 292,
    "start_time": "2023-07-07T12:55:42.018Z"
   },
   {
    "duration": 152,
    "start_time": "2023-07-07T12:55:42.313Z"
   },
   {
    "duration": 59,
    "start_time": "2023-07-07T12:55:42.467Z"
   },
   {
    "duration": 10,
    "start_time": "2023-07-07T12:55:42.528Z"
   },
   {
    "duration": 180,
    "start_time": "2023-07-07T12:55:42.540Z"
   },
   {
    "duration": 263,
    "start_time": "2023-07-07T12:55:42.723Z"
   },
   {
    "duration": 7,
    "start_time": "2023-07-07T12:55:42.988Z"
   },
   {
    "duration": 14,
    "start_time": "2023-07-07T12:55:43.008Z"
   },
   {
    "duration": 11,
    "start_time": "2023-07-07T12:55:43.025Z"
   },
   {
    "duration": 299,
    "start_time": "2023-07-07T12:55:43.039Z"
   },
   {
    "duration": 248,
    "start_time": "2023-07-07T12:55:43.341Z"
   },
   {
    "duration": 47,
    "start_time": "2023-07-07T12:55:43.591Z"
   },
   {
    "duration": 9,
    "start_time": "2023-07-07T12:55:43.643Z"
   },
   {
    "duration": 99,
    "start_time": "2023-07-07T12:55:43.654Z"
   },
   {
    "duration": 302,
    "start_time": "2023-07-07T12:55:43.756Z"
   },
   {
    "duration": 7,
    "start_time": "2023-07-07T12:55:44.060Z"
   },
   {
    "duration": 18,
    "start_time": "2023-07-07T12:55:44.069Z"
   },
   {
    "duration": 133,
    "start_time": "2023-07-07T12:55:44.089Z"
   },
   {
    "duration": 10,
    "start_time": "2023-07-07T12:55:44.225Z"
   },
   {
    "duration": 209,
    "start_time": "2023-07-07T12:55:44.238Z"
   },
   {
    "duration": 10,
    "start_time": "2023-07-07T12:55:44.450Z"
   },
   {
    "duration": 148,
    "start_time": "2023-07-07T12:55:44.462Z"
   },
   {
    "duration": 7,
    "start_time": "2023-07-07T12:55:44.613Z"
   },
   {
    "duration": 8,
    "start_time": "2023-07-07T12:55:44.622Z"
   },
   {
    "duration": 378,
    "start_time": "2023-07-07T12:55:44.633Z"
   },
   {
    "duration": 12,
    "start_time": "2023-07-07T12:55:45.014Z"
   },
   {
    "duration": 281,
    "start_time": "2023-07-07T12:55:45.029Z"
   },
   {
    "duration": 13,
    "start_time": "2023-07-07T12:55:45.313Z"
   },
   {
    "duration": 328,
    "start_time": "2023-07-07T12:55:45.328Z"
   },
   {
    "duration": 14,
    "start_time": "2023-07-07T12:55:45.659Z"
   },
   {
    "duration": 61,
    "start_time": "2023-07-07T12:55:45.675Z"
   },
   {
    "duration": 36,
    "start_time": "2023-07-07T12:55:45.738Z"
   },
   {
    "duration": 436,
    "start_time": "2023-07-07T12:55:45.776Z"
   },
   {
    "duration": 344,
    "start_time": "2023-07-07T12:55:46.215Z"
   },
   {
    "duration": 29,
    "start_time": "2023-07-07T12:55:46.561Z"
   },
   {
    "duration": 248,
    "start_time": "2023-07-07T12:55:46.592Z"
   },
   {
    "duration": 287,
    "start_time": "2023-07-07T12:55:46.842Z"
   },
   {
    "duration": 9,
    "start_time": "2023-07-07T12:59:16.712Z"
   },
   {
    "duration": 9,
    "start_time": "2023-07-07T12:59:57.696Z"
   },
   {
    "duration": 9,
    "start_time": "2023-07-07T13:00:05.101Z"
   },
   {
    "duration": 15,
    "start_time": "2023-07-07T13:00:14.100Z"
   },
   {
    "duration": 9,
    "start_time": "2023-07-07T13:00:24.627Z"
   },
   {
    "duration": 9,
    "start_time": "2023-07-07T13:01:57.852Z"
   },
   {
    "duration": 9,
    "start_time": "2023-07-07T13:02:01.384Z"
   },
   {
    "duration": 241,
    "start_time": "2023-07-07T13:02:44.320Z"
   },
   {
    "duration": 961,
    "start_time": "2023-07-07T13:06:12.614Z"
   },
   {
    "duration": 5,
    "start_time": "2023-07-07T13:07:08.700Z"
   },
   {
    "duration": 6,
    "start_time": "2023-07-07T13:08:07.943Z"
   },
   {
    "duration": 17,
    "start_time": "2023-07-07T13:08:24.763Z"
   },
   {
    "duration": 18,
    "start_time": "2023-07-07T13:09:47.958Z"
   },
   {
    "duration": 5,
    "start_time": "2023-07-07T13:11:34.214Z"
   },
   {
    "duration": 182,
    "start_time": "2023-07-07T13:11:49.003Z"
   },
   {
    "duration": 10,
    "start_time": "2023-07-07T13:12:06.898Z"
   },
   {
    "duration": 18,
    "start_time": "2023-07-07T13:13:04.607Z"
   },
   {
    "duration": 14,
    "start_time": "2023-07-07T13:19:27.680Z"
   },
   {
    "duration": 27,
    "start_time": "2023-07-07T13:33:05.661Z"
   },
   {
    "duration": 16,
    "start_time": "2023-07-07T13:34:41.449Z"
   },
   {
    "duration": 59,
    "start_time": "2023-07-08T05:46:34.116Z"
   },
   {
    "duration": 1502,
    "start_time": "2023-07-08T05:47:09.080Z"
   },
   {
    "duration": 559,
    "start_time": "2023-07-08T05:47:10.584Z"
   },
   {
    "duration": 114,
    "start_time": "2023-07-08T05:47:11.145Z"
   },
   {
    "duration": 7,
    "start_time": "2023-07-08T05:47:11.262Z"
   },
   {
    "duration": 9,
    "start_time": "2023-07-08T05:47:11.270Z"
   },
   {
    "duration": 6,
    "start_time": "2023-07-08T05:47:11.281Z"
   },
   {
    "duration": 9,
    "start_time": "2023-07-08T05:47:11.288Z"
   },
   {
    "duration": 6,
    "start_time": "2023-07-08T05:47:11.298Z"
   },
   {
    "duration": 8,
    "start_time": "2023-07-08T05:47:11.305Z"
   },
   {
    "duration": 8,
    "start_time": "2023-07-08T05:47:11.359Z"
   },
   {
    "duration": 29,
    "start_time": "2023-07-08T05:47:11.369Z"
   },
   {
    "duration": 9,
    "start_time": "2023-07-08T05:47:11.400Z"
   },
   {
    "duration": 8,
    "start_time": "2023-07-08T05:47:11.411Z"
   },
   {
    "duration": 5,
    "start_time": "2023-07-08T05:47:11.421Z"
   },
   {
    "duration": 32,
    "start_time": "2023-07-08T05:47:11.428Z"
   },
   {
    "duration": 243,
    "start_time": "2023-07-08T05:47:11.463Z"
   },
   {
    "duration": 139,
    "start_time": "2023-07-08T05:47:11.707Z"
   },
   {
    "duration": 36,
    "start_time": "2023-07-08T05:47:11.848Z"
   },
   {
    "duration": 7,
    "start_time": "2023-07-08T05:47:11.886Z"
   },
   {
    "duration": 152,
    "start_time": "2023-07-08T05:47:11.894Z"
   },
   {
    "duration": 332,
    "start_time": "2023-07-08T05:47:12.047Z"
   },
   {
    "duration": 7,
    "start_time": "2023-07-08T05:47:12.382Z"
   },
   {
    "duration": 24,
    "start_time": "2023-07-08T05:47:12.392Z"
   },
   {
    "duration": 14,
    "start_time": "2023-07-08T05:47:12.418Z"
   },
   {
    "duration": 238,
    "start_time": "2023-07-08T05:47:12.433Z"
   },
   {
    "duration": 122,
    "start_time": "2023-07-08T05:47:12.672Z"
   },
   {
    "duration": 128,
    "start_time": "2023-07-08T05:47:12.795Z"
   },
   {
    "duration": 6,
    "start_time": "2023-07-08T05:47:12.927Z"
   },
   {
    "duration": 54,
    "start_time": "2023-07-08T05:47:12.935Z"
   },
   {
    "duration": 229,
    "start_time": "2023-07-08T05:47:12.990Z"
   },
   {
    "duration": 5,
    "start_time": "2023-07-08T05:47:13.221Z"
   },
   {
    "duration": 27,
    "start_time": "2023-07-08T05:47:13.228Z"
   },
   {
    "duration": 303,
    "start_time": "2023-07-08T05:47:13.257Z"
   },
   {
    "duration": 52,
    "start_time": "2023-07-08T05:47:13.562Z"
   },
   {
    "duration": 33,
    "start_time": "2023-07-08T05:47:13.616Z"
   },
   {
    "duration": 198,
    "start_time": "2023-07-08T05:47:13.651Z"
   },
   {
    "duration": 13,
    "start_time": "2023-07-08T05:47:13.851Z"
   },
   {
    "duration": 121,
    "start_time": "2023-07-08T05:47:13.865Z"
   },
   {
    "duration": 8,
    "start_time": "2023-07-08T05:47:13.987Z"
   },
   {
    "duration": 29,
    "start_time": "2023-07-08T05:47:13.998Z"
   },
   {
    "duration": 337,
    "start_time": "2023-07-08T05:47:14.030Z"
   },
   {
    "duration": 8,
    "start_time": "2023-07-08T05:47:14.369Z"
   },
   {
    "duration": 7,
    "start_time": "2023-07-08T05:47:14.379Z"
   },
   {
    "duration": 240,
    "start_time": "2023-07-08T05:47:14.388Z"
   },
   {
    "duration": 10,
    "start_time": "2023-07-08T05:47:14.630Z"
   },
   {
    "duration": 22,
    "start_time": "2023-07-08T05:47:14.642Z"
   },
   {
    "duration": 15,
    "start_time": "2023-07-08T05:47:14.666Z"
   },
   {
    "duration": 245,
    "start_time": "2023-07-08T05:47:14.683Z"
   },
   {
    "duration": 11,
    "start_time": "2023-07-08T05:47:14.930Z"
   },
   {
    "duration": 48,
    "start_time": "2023-07-08T05:47:14.943Z"
   },
   {
    "duration": 25,
    "start_time": "2023-07-08T05:47:14.992Z"
   },
   {
    "duration": 215,
    "start_time": "2023-07-08T05:47:15.018Z"
   },
   {
    "duration": 324,
    "start_time": "2023-07-08T05:47:15.235Z"
   },
   {
    "duration": 23,
    "start_time": "2023-07-08T05:47:15.561Z"
   },
   {
    "duration": 199,
    "start_time": "2023-07-08T05:47:15.586Z"
   },
   {
    "duration": 183,
    "start_time": "2023-07-08T05:47:15.787Z"
   },
   {
    "duration": 843,
    "start_time": "2023-07-08T05:47:15.972Z"
   },
   {
    "duration": 5,
    "start_time": "2023-07-08T05:47:16.817Z"
   },
   {
    "duration": 11,
    "start_time": "2023-07-08T05:47:16.824Z"
   },
   {
    "duration": 30,
    "start_time": "2023-07-08T05:47:16.837Z"
   },
   {
    "duration": 14,
    "start_time": "2023-07-08T05:47:16.870Z"
   },
   {
    "duration": 5,
    "start_time": "2023-07-08T05:47:16.886Z"
   },
   {
    "duration": 163,
    "start_time": "2023-07-08T05:47:16.893Z"
   },
   {
    "duration": 7,
    "start_time": "2023-07-08T05:47:17.059Z"
   },
   {
    "duration": 15,
    "start_time": "2023-07-08T05:47:17.068Z"
   },
   {
    "duration": 6,
    "start_time": "2023-07-08T05:47:17.084Z"
   },
   {
    "duration": 7,
    "start_time": "2023-07-08T05:47:43.537Z"
   },
   {
    "duration": 880,
    "start_time": "2023-07-08T05:59:38.862Z"
   },
   {
    "duration": 841,
    "start_time": "2023-07-08T06:00:22.439Z"
   },
   {
    "duration": 879,
    "start_time": "2023-07-08T06:02:23.094Z"
   },
   {
    "duration": 847,
    "start_time": "2023-07-08T06:02:47.509Z"
   },
   {
    "duration": 86,
    "start_time": "2023-07-08T06:06:01.638Z"
   },
   {
    "duration": 92,
    "start_time": "2023-07-08T06:06:23.736Z"
   },
   {
    "duration": 616,
    "start_time": "2023-07-08T06:06:46.082Z"
   },
   {
    "duration": 886,
    "start_time": "2023-07-08T06:07:30.420Z"
   },
   {
    "duration": 897,
    "start_time": "2023-07-08T06:09:16.898Z"
   },
   {
    "duration": 7,
    "start_time": "2023-07-08T06:12:38.754Z"
   },
   {
    "duration": 7,
    "start_time": "2023-07-08T06:13:01.345Z"
   },
   {
    "duration": 864,
    "start_time": "2023-07-08T06:15:34.159Z"
   },
   {
    "duration": 19,
    "start_time": "2023-07-08T06:30:10.185Z"
   },
   {
    "duration": 10,
    "start_time": "2023-07-08T06:30:23.216Z"
   },
   {
    "duration": 1566,
    "start_time": "2023-07-09T06:25:35.054Z"
   },
   {
    "duration": 197,
    "start_time": "2023-07-09T06:25:36.623Z"
   },
   {
    "duration": 89,
    "start_time": "2023-07-09T06:25:36.822Z"
   },
   {
    "duration": 7,
    "start_time": "2023-07-09T06:25:36.913Z"
   },
   {
    "duration": 8,
    "start_time": "2023-07-09T06:25:36.923Z"
   },
   {
    "duration": 11,
    "start_time": "2023-07-09T06:25:36.933Z"
   },
   {
    "duration": 29,
    "start_time": "2023-07-09T06:25:36.946Z"
   },
   {
    "duration": 5,
    "start_time": "2023-07-09T06:25:36.976Z"
   },
   {
    "duration": 8,
    "start_time": "2023-07-09T06:25:36.983Z"
   },
   {
    "duration": 12,
    "start_time": "2023-07-09T06:25:36.992Z"
   },
   {
    "duration": 6,
    "start_time": "2023-07-09T06:25:37.006Z"
   },
   {
    "duration": 8,
    "start_time": "2023-07-09T06:25:37.013Z"
   },
   {
    "duration": 9,
    "start_time": "2023-07-09T06:25:37.023Z"
   },
   {
    "duration": 7,
    "start_time": "2023-07-09T06:25:37.035Z"
   },
   {
    "duration": 9,
    "start_time": "2023-07-09T06:25:37.075Z"
   },
   {
    "duration": 255,
    "start_time": "2023-07-09T06:25:37.086Z"
   },
   {
    "duration": 106,
    "start_time": "2023-07-09T06:25:37.344Z"
   },
   {
    "duration": 38,
    "start_time": "2023-07-09T06:25:37.452Z"
   },
   {
    "duration": 7,
    "start_time": "2023-07-09T06:25:37.492Z"
   },
   {
    "duration": 148,
    "start_time": "2023-07-09T06:25:37.500Z"
   },
   {
    "duration": 219,
    "start_time": "2023-07-09T06:25:37.650Z"
   },
   {
    "duration": 5,
    "start_time": "2023-07-09T06:25:37.874Z"
   },
   {
    "duration": 24,
    "start_time": "2023-07-09T06:25:37.881Z"
   },
   {
    "duration": 18,
    "start_time": "2023-07-09T06:25:37.907Z"
   },
   {
    "duration": 209,
    "start_time": "2023-07-09T06:25:37.926Z"
   },
   {
    "duration": 111,
    "start_time": "2023-07-09T06:25:38.137Z"
   },
   {
    "duration": 108,
    "start_time": "2023-07-09T06:25:38.249Z"
   },
   {
    "duration": 28,
    "start_time": "2023-07-09T06:25:38.360Z"
   },
   {
    "duration": 44,
    "start_time": "2023-07-09T06:25:38.389Z"
   },
   {
    "duration": 214,
    "start_time": "2023-07-09T06:25:38.435Z"
   },
   {
    "duration": 8,
    "start_time": "2023-07-09T06:25:38.651Z"
   },
   {
    "duration": 32,
    "start_time": "2023-07-09T06:25:38.660Z"
   },
   {
    "duration": 37,
    "start_time": "2023-07-09T06:25:38.694Z"
   },
   {
    "duration": 11,
    "start_time": "2023-07-09T06:25:38.733Z"
   },
   {
    "duration": 24,
    "start_time": "2023-07-09T06:25:38.745Z"
   },
   {
    "duration": 166,
    "start_time": "2023-07-09T06:25:38.771Z"
   },
   {
    "duration": 6,
    "start_time": "2023-07-09T06:25:38.938Z"
   },
   {
    "duration": 109,
    "start_time": "2023-07-09T06:25:38.945Z"
   },
   {
    "duration": 5,
    "start_time": "2023-07-09T06:25:39.056Z"
   },
   {
    "duration": 4,
    "start_time": "2023-07-09T06:25:39.075Z"
   },
   {
    "duration": 260,
    "start_time": "2023-07-09T06:25:39.083Z"
   },
   {
    "duration": 7,
    "start_time": "2023-07-09T06:25:39.345Z"
   },
   {
    "duration": 23,
    "start_time": "2023-07-09T06:25:39.353Z"
   },
   {
    "duration": 194,
    "start_time": "2023-07-09T06:25:39.378Z"
   },
   {
    "duration": 9,
    "start_time": "2023-07-09T06:25:39.575Z"
   },
   {
    "duration": 10,
    "start_time": "2023-07-09T06:25:39.585Z"
   },
   {
    "duration": 22,
    "start_time": "2023-07-09T06:25:39.597Z"
   },
   {
    "duration": 208,
    "start_time": "2023-07-09T06:25:39.620Z"
   },
   {
    "duration": 9,
    "start_time": "2023-07-09T06:25:39.830Z"
   },
   {
    "duration": 63,
    "start_time": "2023-07-09T06:25:39.840Z"
   },
   {
    "duration": 24,
    "start_time": "2023-07-09T06:25:39.905Z"
   },
   {
    "duration": 194,
    "start_time": "2023-07-09T06:25:39.931Z"
   },
   {
    "duration": 265,
    "start_time": "2023-07-09T06:25:40.127Z"
   },
   {
    "duration": 18,
    "start_time": "2023-07-09T06:25:40.394Z"
   },
   {
    "duration": 182,
    "start_time": "2023-07-09T06:25:40.414Z"
   },
   {
    "duration": 161,
    "start_time": "2023-07-09T06:25:40.597Z"
   },
   {
    "duration": 818,
    "start_time": "2023-07-09T06:25:40.760Z"
   },
   {
    "duration": 3,
    "start_time": "2023-07-09T06:25:41.580Z"
   },
   {
    "duration": 12,
    "start_time": "2023-07-09T06:25:41.585Z"
   },
   {
    "duration": 54,
    "start_time": "2023-07-09T06:25:41.599Z"
   },
   {
    "duration": 22,
    "start_time": "2023-07-09T06:25:41.654Z"
   },
   {
    "duration": 9,
    "start_time": "2023-07-09T06:25:41.678Z"
   },
   {
    "duration": 164,
    "start_time": "2023-07-09T06:25:41.688Z"
   },
   {
    "duration": 6,
    "start_time": "2023-07-09T06:25:41.854Z"
   },
   {
    "duration": 29,
    "start_time": "2023-07-09T06:25:41.861Z"
   },
   {
    "duration": 6,
    "start_time": "2023-07-09T06:25:41.891Z"
   },
   {
    "duration": 828,
    "start_time": "2023-07-09T06:25:41.898Z"
   },
   {
    "duration": 5,
    "start_time": "2023-07-09T06:25:42.728Z"
   },
   {
    "duration": 11,
    "start_time": "2023-07-09T06:25:42.735Z"
   },
   {
    "duration": 729,
    "start_time": "2023-07-09T06:27:16.813Z"
   },
   {
    "duration": 709,
    "start_time": "2023-07-09T06:27:52.699Z"
   },
   {
    "duration": 738,
    "start_time": "2023-07-09T06:28:08.184Z"
   },
   {
    "duration": 32489,
    "start_time": "2023-07-09T06:29:50.741Z"
   },
   {
    "duration": 35198,
    "start_time": "2023-07-09T06:31:24.235Z"
   },
   {
    "duration": 32330,
    "start_time": "2023-07-09T06:32:46.110Z"
   },
   {
    "duration": 5,
    "start_time": "2023-07-09T06:34:32.013Z"
   },
   {
    "duration": 37869,
    "start_time": "2023-07-09T06:41:53.968Z"
   },
   {
    "duration": 1270,
    "start_time": "2023-07-09T06:44:06.980Z"
   },
   {
    "duration": 68,
    "start_time": "2023-07-09T06:44:08.252Z"
   },
   {
    "duration": 72,
    "start_time": "2023-07-09T06:44:08.322Z"
   },
   {
    "duration": 15,
    "start_time": "2023-07-09T06:44:08.396Z"
   },
   {
    "duration": 30,
    "start_time": "2023-07-09T06:44:08.412Z"
   },
   {
    "duration": 14,
    "start_time": "2023-07-09T06:44:08.444Z"
   },
   {
    "duration": 36,
    "start_time": "2023-07-09T06:44:08.460Z"
   },
   {
    "duration": 12,
    "start_time": "2023-07-09T06:44:08.497Z"
   },
   {
    "duration": 11,
    "start_time": "2023-07-09T06:44:08.511Z"
   },
   {
    "duration": 20,
    "start_time": "2023-07-09T06:44:08.525Z"
   },
   {
    "duration": 44,
    "start_time": "2023-07-09T06:44:08.547Z"
   },
   {
    "duration": 16,
    "start_time": "2023-07-09T06:44:08.593Z"
   },
   {
    "duration": 15,
    "start_time": "2023-07-09T06:44:08.611Z"
   },
   {
    "duration": 5,
    "start_time": "2023-07-09T06:44:08.628Z"
   },
   {
    "duration": 21,
    "start_time": "2023-07-09T06:44:08.635Z"
   },
   {
    "duration": 229,
    "start_time": "2023-07-09T06:44:08.658Z"
   },
   {
    "duration": 122,
    "start_time": "2023-07-09T06:44:08.889Z"
   },
   {
    "duration": 36,
    "start_time": "2023-07-09T06:44:09.013Z"
   },
   {
    "duration": 24,
    "start_time": "2023-07-09T06:44:09.052Z"
   },
   {
    "duration": 184,
    "start_time": "2023-07-09T06:44:09.078Z"
   },
   {
    "duration": 215,
    "start_time": "2023-07-09T06:44:09.264Z"
   },
   {
    "duration": 5,
    "start_time": "2023-07-09T06:44:09.480Z"
   },
   {
    "duration": 13,
    "start_time": "2023-07-09T06:44:09.486Z"
   },
   {
    "duration": 8,
    "start_time": "2023-07-09T06:44:09.500Z"
   },
   {
    "duration": 202,
    "start_time": "2023-07-09T06:44:09.509Z"
   },
   {
    "duration": 169,
    "start_time": "2023-07-09T06:44:09.713Z"
   },
   {
    "duration": 38,
    "start_time": "2023-07-09T06:44:09.884Z"
   },
   {
    "duration": 8,
    "start_time": "2023-07-09T06:44:09.926Z"
   },
   {
    "duration": 81,
    "start_time": "2023-07-09T06:44:09.936Z"
   },
   {
    "duration": 230,
    "start_time": "2023-07-09T06:44:10.018Z"
   },
   {
    "duration": 7,
    "start_time": "2023-07-09T06:44:10.250Z"
   },
   {
    "duration": 27,
    "start_time": "2023-07-09T06:44:10.258Z"
   },
   {
    "duration": 25,
    "start_time": "2023-07-09T06:44:10.287Z"
   },
   {
    "duration": 13,
    "start_time": "2023-07-09T06:44:10.314Z"
   },
   {
    "duration": 6,
    "start_time": "2023-07-09T06:44:10.329Z"
   },
   {
    "duration": 165,
    "start_time": "2023-07-09T06:44:10.337Z"
   },
   {
    "duration": 6,
    "start_time": "2023-07-09T06:44:10.504Z"
   },
   {
    "duration": 98,
    "start_time": "2023-07-09T06:44:10.512Z"
   },
   {
    "duration": 6,
    "start_time": "2023-07-09T06:44:10.611Z"
   },
   {
    "duration": 15,
    "start_time": "2023-07-09T06:44:10.618Z"
   },
   {
    "duration": 241,
    "start_time": "2023-07-09T06:44:10.635Z"
   },
   {
    "duration": 9,
    "start_time": "2023-07-09T06:44:10.878Z"
   },
   {
    "duration": 32,
    "start_time": "2023-07-09T06:44:10.889Z"
   },
   {
    "duration": 197,
    "start_time": "2023-07-09T06:44:10.923Z"
   },
   {
    "duration": 11,
    "start_time": "2023-07-09T06:44:11.123Z"
   },
   {
    "duration": 16,
    "start_time": "2023-07-09T06:44:11.136Z"
   },
   {
    "duration": 11,
    "start_time": "2023-07-09T06:44:11.154Z"
   },
   {
    "duration": 216,
    "start_time": "2023-07-09T06:44:11.176Z"
   },
   {
    "duration": 8,
    "start_time": "2023-07-09T06:44:11.394Z"
   },
   {
    "duration": 41,
    "start_time": "2023-07-09T06:44:11.404Z"
   },
   {
    "duration": 38,
    "start_time": "2023-07-09T06:44:11.446Z"
   },
   {
    "duration": 288,
    "start_time": "2023-07-09T06:44:11.485Z"
   },
   {
    "duration": 198,
    "start_time": "2023-07-09T06:44:11.777Z"
   },
   {
    "duration": 21,
    "start_time": "2023-07-09T06:44:11.976Z"
   },
   {
    "duration": 186,
    "start_time": "2023-07-09T06:44:11.998Z"
   },
   {
    "duration": 167,
    "start_time": "2023-07-09T06:44:12.186Z"
   },
   {
    "duration": 775,
    "start_time": "2023-07-09T06:44:12.354Z"
   },
   {
    "duration": 3,
    "start_time": "2023-07-09T06:44:13.130Z"
   },
   {
    "duration": 6,
    "start_time": "2023-07-09T06:44:13.135Z"
   },
   {
    "duration": 18,
    "start_time": "2023-07-09T06:44:13.143Z"
   },
   {
    "duration": 20,
    "start_time": "2023-07-09T06:44:13.162Z"
   },
   {
    "duration": 4,
    "start_time": "2023-07-09T06:44:13.184Z"
   },
   {
    "duration": 146,
    "start_time": "2023-07-09T06:44:13.189Z"
   },
   {
    "duration": 7,
    "start_time": "2023-07-09T06:44:13.336Z"
   },
   {
    "duration": 16,
    "start_time": "2023-07-09T06:44:13.344Z"
   },
   {
    "duration": 5,
    "start_time": "2023-07-09T06:44:13.362Z"
   },
   {
    "duration": 782,
    "start_time": "2023-07-09T06:44:13.376Z"
   },
   {
    "duration": 15,
    "start_time": "2023-07-09T06:44:14.160Z"
   },
   {
    "duration": 8,
    "start_time": "2023-07-09T06:44:14.177Z"
   },
   {
    "duration": 35453,
    "start_time": "2023-07-09T06:44:14.187Z"
   },
   {
    "duration": 58,
    "start_time": "2023-07-09T06:57:07.572Z"
   },
   {
    "duration": 1247,
    "start_time": "2023-07-09T06:57:20.314Z"
   },
   {
    "duration": 200,
    "start_time": "2023-07-09T06:57:21.562Z"
   },
   {
    "duration": 80,
    "start_time": "2023-07-09T06:57:21.763Z"
   },
   {
    "duration": 7,
    "start_time": "2023-07-09T06:57:21.845Z"
   },
   {
    "duration": 29,
    "start_time": "2023-07-09T06:57:21.853Z"
   },
   {
    "duration": 53,
    "start_time": "2023-07-09T06:57:21.883Z"
   },
   {
    "duration": 25,
    "start_time": "2023-07-09T06:57:21.938Z"
   },
   {
    "duration": 15,
    "start_time": "2023-07-09T06:57:21.964Z"
   },
   {
    "duration": 22,
    "start_time": "2023-07-09T06:57:21.981Z"
   },
   {
    "duration": 9,
    "start_time": "2023-07-09T06:57:22.006Z"
   },
   {
    "duration": 10,
    "start_time": "2023-07-09T06:57:22.016Z"
   },
   {
    "duration": 30,
    "start_time": "2023-07-09T06:57:22.027Z"
   },
   {
    "duration": 25,
    "start_time": "2023-07-09T06:57:22.058Z"
   },
   {
    "duration": 10,
    "start_time": "2023-07-09T06:57:22.085Z"
   },
   {
    "duration": 50,
    "start_time": "2023-07-09T06:57:22.096Z"
   },
   {
    "duration": 229,
    "start_time": "2023-07-09T06:57:22.148Z"
   },
   {
    "duration": 107,
    "start_time": "2023-07-09T06:57:22.378Z"
   },
   {
    "duration": 24,
    "start_time": "2023-07-09T06:57:22.487Z"
   },
   {
    "duration": 15,
    "start_time": "2023-07-09T06:57:22.512Z"
   },
   {
    "duration": 130,
    "start_time": "2023-07-09T06:57:22.529Z"
   },
   {
    "duration": 196,
    "start_time": "2023-07-09T06:57:22.661Z"
   },
   {
    "duration": 5,
    "start_time": "2023-07-09T06:57:22.858Z"
   },
   {
    "duration": 19,
    "start_time": "2023-07-09T06:57:22.865Z"
   },
   {
    "duration": 26,
    "start_time": "2023-07-09T06:57:22.886Z"
   },
   {
    "duration": 191,
    "start_time": "2023-07-09T06:57:22.914Z"
   },
   {
    "duration": 105,
    "start_time": "2023-07-09T06:57:23.107Z"
   },
   {
    "duration": 104,
    "start_time": "2023-07-09T06:57:23.214Z"
   },
   {
    "duration": 6,
    "start_time": "2023-07-09T06:57:23.322Z"
   },
   {
    "duration": 51,
    "start_time": "2023-07-09T06:57:23.329Z"
   },
   {
    "duration": 199,
    "start_time": "2023-07-09T06:57:23.382Z"
   },
   {
    "duration": 6,
    "start_time": "2023-07-09T06:57:23.583Z"
   },
   {
    "duration": 30,
    "start_time": "2023-07-09T06:57:23.590Z"
   },
   {
    "duration": 26,
    "start_time": "2023-07-09T06:57:23.623Z"
   },
   {
    "duration": 9,
    "start_time": "2023-07-09T06:57:23.651Z"
   },
   {
    "duration": 18,
    "start_time": "2023-07-09T06:57:23.661Z"
   },
   {
    "duration": 174,
    "start_time": "2023-07-09T06:57:23.680Z"
   },
   {
    "duration": 6,
    "start_time": "2023-07-09T06:57:23.856Z"
   },
   {
    "duration": 88,
    "start_time": "2023-07-09T06:57:23.875Z"
   },
   {
    "duration": 13,
    "start_time": "2023-07-09T06:57:23.965Z"
   },
   {
    "duration": 8,
    "start_time": "2023-07-09T06:57:23.980Z"
   },
   {
    "duration": 229,
    "start_time": "2023-07-09T06:57:23.990Z"
   },
   {
    "duration": 8,
    "start_time": "2023-07-09T06:57:24.221Z"
   },
   {
    "duration": 14,
    "start_time": "2023-07-09T06:57:24.231Z"
   },
   {
    "duration": 210,
    "start_time": "2023-07-09T06:57:24.247Z"
   },
   {
    "duration": 20,
    "start_time": "2023-07-09T06:57:24.459Z"
   },
   {
    "duration": 12,
    "start_time": "2023-07-09T06:57:24.481Z"
   },
   {
    "duration": 12,
    "start_time": "2023-07-09T06:57:24.495Z"
   },
   {
    "duration": 190,
    "start_time": "2023-07-09T06:57:24.509Z"
   },
   {
    "duration": 8,
    "start_time": "2023-07-09T06:57:24.701Z"
   },
   {
    "duration": 57,
    "start_time": "2023-07-09T06:57:24.711Z"
   },
   {
    "duration": 51,
    "start_time": "2023-07-09T06:57:24.770Z"
   },
   {
    "duration": 160,
    "start_time": "2023-07-09T06:57:24.822Z"
   },
   {
    "duration": 262,
    "start_time": "2023-07-09T06:57:24.984Z"
   },
   {
    "duration": 32,
    "start_time": "2023-07-09T06:57:25.248Z"
   },
   {
    "duration": 203,
    "start_time": "2023-07-09T06:57:25.282Z"
   },
   {
    "duration": 166,
    "start_time": "2023-07-09T06:57:25.487Z"
   },
   {
    "duration": 807,
    "start_time": "2023-07-09T06:57:25.655Z"
   },
   {
    "duration": 4,
    "start_time": "2023-07-09T06:57:26.464Z"
   },
   {
    "duration": 11,
    "start_time": "2023-07-09T06:57:26.474Z"
   },
   {
    "duration": 21,
    "start_time": "2023-07-09T06:57:26.487Z"
   },
   {
    "duration": 20,
    "start_time": "2023-07-09T06:57:26.509Z"
   },
   {
    "duration": 23,
    "start_time": "2023-07-09T06:57:26.530Z"
   },
   {
    "duration": 135,
    "start_time": "2023-07-09T06:57:26.554Z"
   },
   {
    "duration": 6,
    "start_time": "2023-07-09T06:57:26.690Z"
   },
   {
    "duration": 32,
    "start_time": "2023-07-09T06:57:26.698Z"
   },
   {
    "duration": 15,
    "start_time": "2023-07-09T06:57:26.731Z"
   },
   {
    "duration": 806,
    "start_time": "2023-07-09T06:57:26.747Z"
   },
   {
    "duration": 5,
    "start_time": "2023-07-09T06:57:27.555Z"
   },
   {
    "duration": 18,
    "start_time": "2023-07-09T06:57:27.561Z"
   },
   {
    "duration": 31947,
    "start_time": "2023-07-09T06:57:27.581Z"
   },
   {
    "duration": 5,
    "start_time": "2023-07-09T06:57:59.530Z"
   },
   {
    "duration": 30963,
    "start_time": "2023-07-09T06:58:58.006Z"
   },
   {
    "duration": 31201,
    "start_time": "2023-07-09T07:02:23.004Z"
   },
   {
    "duration": 31444,
    "start_time": "2023-07-09T07:03:45.590Z"
   },
   {
    "duration": 31446,
    "start_time": "2023-07-09T07:10:40.987Z"
   },
   {
    "duration": 222,
    "start_time": "2023-07-09T07:16:46.942Z"
   },
   {
    "duration": 126,
    "start_time": "2023-07-09T07:53:39.250Z"
   },
   {
    "duration": 1280,
    "start_time": "2023-07-09T08:08:55.590Z"
   },
   {
    "duration": 76,
    "start_time": "2023-07-09T08:08:56.872Z"
   },
   {
    "duration": 93,
    "start_time": "2023-07-09T08:08:56.949Z"
   },
   {
    "duration": 7,
    "start_time": "2023-07-09T08:08:57.044Z"
   },
   {
    "duration": 27,
    "start_time": "2023-07-09T08:08:57.053Z"
   },
   {
    "duration": 12,
    "start_time": "2023-07-09T08:08:57.082Z"
   },
   {
    "duration": 18,
    "start_time": "2023-07-09T08:08:57.095Z"
   },
   {
    "duration": 10,
    "start_time": "2023-07-09T08:08:57.114Z"
   },
   {
    "duration": 10,
    "start_time": "2023-07-09T08:08:57.125Z"
   },
   {
    "duration": 7,
    "start_time": "2023-07-09T08:08:57.136Z"
   },
   {
    "duration": 11,
    "start_time": "2023-07-09T08:08:57.144Z"
   },
   {
    "duration": 25,
    "start_time": "2023-07-09T08:08:57.157Z"
   },
   {
    "duration": 11,
    "start_time": "2023-07-09T08:08:57.190Z"
   },
   {
    "duration": 5,
    "start_time": "2023-07-09T08:08:57.205Z"
   },
   {
    "duration": 13,
    "start_time": "2023-07-09T08:08:57.214Z"
   },
   {
    "duration": 275,
    "start_time": "2023-07-09T08:08:57.229Z"
   },
   {
    "duration": 130,
    "start_time": "2023-07-09T08:08:57.506Z"
   },
   {
    "duration": 52,
    "start_time": "2023-07-09T08:08:57.638Z"
   },
   {
    "duration": 8,
    "start_time": "2023-07-09T08:08:57.692Z"
   },
   {
    "duration": 159,
    "start_time": "2023-07-09T08:08:57.702Z"
   },
   {
    "duration": 229,
    "start_time": "2023-07-09T08:08:57.863Z"
   },
   {
    "duration": 6,
    "start_time": "2023-07-09T08:08:58.097Z"
   },
   {
    "duration": 13,
    "start_time": "2023-07-09T08:08:58.105Z"
   },
   {
    "duration": 10,
    "start_time": "2023-07-09T08:08:58.120Z"
   },
   {
    "duration": 228,
    "start_time": "2023-07-09T08:08:58.132Z"
   },
   {
    "duration": 134,
    "start_time": "2023-07-09T08:08:58.362Z"
   },
   {
    "duration": 121,
    "start_time": "2023-07-09T08:08:58.498Z"
   },
   {
    "duration": 7,
    "start_time": "2023-07-09T08:08:58.621Z"
   },
   {
    "duration": 64,
    "start_time": "2023-07-09T08:08:58.630Z"
   },
   {
    "duration": 214,
    "start_time": "2023-07-09T08:08:58.696Z"
   },
   {
    "duration": 5,
    "start_time": "2023-07-09T08:08:58.912Z"
   },
   {
    "duration": 11,
    "start_time": "2023-07-09T08:08:58.919Z"
   },
   {
    "duration": 46,
    "start_time": "2023-07-09T08:08:58.931Z"
   },
   {
    "duration": 20,
    "start_time": "2023-07-09T08:08:58.980Z"
   },
   {
    "duration": 12,
    "start_time": "2023-07-09T08:08:59.004Z"
   },
   {
    "duration": 179,
    "start_time": "2023-07-09T08:08:59.018Z"
   },
   {
    "duration": 6,
    "start_time": "2023-07-09T08:08:59.199Z"
   },
   {
    "duration": 113,
    "start_time": "2023-07-09T08:08:59.207Z"
   },
   {
    "duration": 5,
    "start_time": "2023-07-09T08:08:59.322Z"
   },
   {
    "duration": 19,
    "start_time": "2023-07-09T08:08:59.329Z"
   },
   {
    "duration": 287,
    "start_time": "2023-07-09T08:08:59.355Z"
   },
   {
    "duration": 10,
    "start_time": "2023-07-09T08:08:59.644Z"
   },
   {
    "duration": 9,
    "start_time": "2023-07-09T08:08:59.677Z"
   },
   {
    "duration": 436,
    "start_time": "2023-07-09T08:08:59.687Z"
   },
   {
    "duration": 10,
    "start_time": "2023-07-09T08:09:00.124Z"
   },
   {
    "duration": 10,
    "start_time": "2023-07-09T08:09:00.177Z"
   },
   {
    "duration": 33,
    "start_time": "2023-07-09T08:09:00.189Z"
   },
   {
    "duration": 238,
    "start_time": "2023-07-09T08:09:00.224Z"
   },
   {
    "duration": 19,
    "start_time": "2023-07-09T08:09:00.464Z"
   },
   {
    "duration": 43,
    "start_time": "2023-07-09T08:09:00.491Z"
   },
   {
    "duration": 34,
    "start_time": "2023-07-09T08:09:00.536Z"
   },
   {
    "duration": 210,
    "start_time": "2023-07-09T08:09:00.572Z"
   },
   {
    "duration": 277,
    "start_time": "2023-07-09T08:09:00.791Z"
   },
   {
    "duration": 36,
    "start_time": "2023-07-09T08:09:01.069Z"
   },
   {
    "duration": 228,
    "start_time": "2023-07-09T08:09:01.106Z"
   },
   {
    "duration": 193,
    "start_time": "2023-07-09T08:09:01.336Z"
   },
   {
    "duration": 928,
    "start_time": "2023-07-09T08:09:01.531Z"
   },
   {
    "duration": 4,
    "start_time": "2023-07-09T08:09:02.460Z"
   },
   {
    "duration": 36,
    "start_time": "2023-07-09T08:09:02.465Z"
   },
   {
    "duration": 45,
    "start_time": "2023-07-09T08:09:02.503Z"
   },
   {
    "duration": 29,
    "start_time": "2023-07-09T08:09:02.549Z"
   },
   {
    "duration": 17,
    "start_time": "2023-07-09T08:09:02.580Z"
   },
   {
    "duration": 159,
    "start_time": "2023-07-09T08:09:02.599Z"
   },
   {
    "duration": 6,
    "start_time": "2023-07-09T08:09:02.760Z"
   },
   {
    "duration": 27,
    "start_time": "2023-07-09T08:09:02.768Z"
   },
   {
    "duration": 8,
    "start_time": "2023-07-09T08:09:02.797Z"
   },
   {
    "duration": 835,
    "start_time": "2023-07-09T08:09:02.807Z"
   },
   {
    "duration": 5,
    "start_time": "2023-07-09T08:09:03.644Z"
   },
   {
    "duration": 25,
    "start_time": "2023-07-09T08:09:03.650Z"
   },
   {
    "duration": 297,
    "start_time": "2023-07-09T08:09:03.687Z"
   },
   {
    "duration": 7,
    "start_time": "2023-07-09T08:09:03.985Z"
   },
   {
    "duration": 1234,
    "start_time": "2023-07-09T08:22:49.727Z"
   },
   {
    "duration": 75,
    "start_time": "2023-07-09T08:22:50.963Z"
   },
   {
    "duration": 89,
    "start_time": "2023-07-09T08:22:51.039Z"
   },
   {
    "duration": 5,
    "start_time": "2023-07-09T08:22:51.131Z"
   },
   {
    "duration": 17,
    "start_time": "2023-07-09T08:22:51.137Z"
   },
   {
    "duration": 8,
    "start_time": "2023-07-09T08:22:51.156Z"
   },
   {
    "duration": 45,
    "start_time": "2023-07-09T08:22:51.175Z"
   },
   {
    "duration": 16,
    "start_time": "2023-07-09T08:22:51.222Z"
   },
   {
    "duration": 9,
    "start_time": "2023-07-09T08:22:51.240Z"
   },
   {
    "duration": 8,
    "start_time": "2023-07-09T08:22:51.251Z"
   },
   {
    "duration": 5,
    "start_time": "2023-07-09T08:22:51.261Z"
   },
   {
    "duration": 36,
    "start_time": "2023-07-09T08:22:51.267Z"
   },
   {
    "duration": 8,
    "start_time": "2023-07-09T08:22:51.308Z"
   },
   {
    "duration": 12,
    "start_time": "2023-07-09T08:22:51.317Z"
   },
   {
    "duration": 9,
    "start_time": "2023-07-09T08:22:51.331Z"
   },
   {
    "duration": 252,
    "start_time": "2023-07-09T08:22:51.341Z"
   },
   {
    "duration": 127,
    "start_time": "2023-07-09T08:22:51.595Z"
   },
   {
    "duration": 26,
    "start_time": "2023-07-09T08:22:51.723Z"
   },
   {
    "duration": 7,
    "start_time": "2023-07-09T08:22:51.751Z"
   },
   {
    "duration": 167,
    "start_time": "2023-07-09T08:22:51.775Z"
   },
   {
    "duration": 232,
    "start_time": "2023-07-09T08:22:51.944Z"
   },
   {
    "duration": 11,
    "start_time": "2023-07-09T08:22:52.179Z"
   },
   {
    "duration": 37,
    "start_time": "2023-07-09T08:22:52.193Z"
   },
   {
    "duration": 14,
    "start_time": "2023-07-09T08:22:52.232Z"
   },
   {
    "duration": 239,
    "start_time": "2023-07-09T08:22:52.247Z"
   },
   {
    "duration": 121,
    "start_time": "2023-07-09T08:22:52.490Z"
   },
   {
    "duration": 117,
    "start_time": "2023-07-09T08:22:52.614Z"
   },
   {
    "duration": 7,
    "start_time": "2023-07-09T08:22:52.733Z"
   },
   {
    "duration": 47,
    "start_time": "2023-07-09T08:22:52.742Z"
   },
   {
    "duration": 215,
    "start_time": "2023-07-09T08:22:52.790Z"
   },
   {
    "duration": 6,
    "start_time": "2023-07-09T08:22:53.007Z"
   },
   {
    "duration": 19,
    "start_time": "2023-07-09T08:22:53.015Z"
   },
   {
    "duration": 53,
    "start_time": "2023-07-09T08:22:53.035Z"
   },
   {
    "duration": 11,
    "start_time": "2023-07-09T08:22:53.090Z"
   },
   {
    "duration": 13,
    "start_time": "2023-07-09T08:22:53.103Z"
   },
   {
    "duration": 206,
    "start_time": "2023-07-09T08:22:53.118Z"
   },
   {
    "duration": 6,
    "start_time": "2023-07-09T08:22:53.325Z"
   },
   {
    "duration": 106,
    "start_time": "2023-07-09T08:22:53.332Z"
   },
   {
    "duration": 5,
    "start_time": "2023-07-09T08:22:53.440Z"
   },
   {
    "duration": 9,
    "start_time": "2023-07-09T08:22:53.448Z"
   },
   {
    "duration": 258,
    "start_time": "2023-07-09T08:22:53.459Z"
   },
   {
    "duration": 7,
    "start_time": "2023-07-09T08:22:53.718Z"
   },
   {
    "duration": 20,
    "start_time": "2023-07-09T08:22:53.727Z"
   },
   {
    "duration": 221,
    "start_time": "2023-07-09T08:22:53.748Z"
   },
   {
    "duration": 17,
    "start_time": "2023-07-09T08:22:53.970Z"
   },
   {
    "duration": 35,
    "start_time": "2023-07-09T08:22:53.989Z"
   },
   {
    "duration": 7,
    "start_time": "2023-07-09T08:22:54.026Z"
   },
   {
    "duration": 226,
    "start_time": "2023-07-09T08:22:54.035Z"
   },
   {
    "duration": 24,
    "start_time": "2023-07-09T08:22:54.263Z"
   },
   {
    "duration": 35,
    "start_time": "2023-07-09T08:22:54.293Z"
   },
   {
    "duration": 21,
    "start_time": "2023-07-09T08:22:54.330Z"
   },
   {
    "duration": 203,
    "start_time": "2023-07-09T08:22:54.353Z"
   },
   {
    "duration": 283,
    "start_time": "2023-07-09T08:22:54.557Z"
   },
   {
    "duration": 20,
    "start_time": "2023-07-09T08:22:54.842Z"
   },
   {
    "duration": 204,
    "start_time": "2023-07-09T08:22:54.863Z"
   },
   {
    "duration": 188,
    "start_time": "2023-07-09T08:22:55.069Z"
   },
   {
    "duration": 873,
    "start_time": "2023-07-09T08:22:55.258Z"
   },
   {
    "duration": 3,
    "start_time": "2023-07-09T08:22:56.133Z"
   },
   {
    "duration": 9,
    "start_time": "2023-07-09T08:22:56.138Z"
   },
   {
    "duration": 16,
    "start_time": "2023-07-09T08:22:56.148Z"
   },
   {
    "duration": 23,
    "start_time": "2023-07-09T08:22:56.165Z"
   },
   {
    "duration": 3,
    "start_time": "2023-07-09T08:22:56.191Z"
   },
   {
    "duration": 179,
    "start_time": "2023-07-09T08:22:56.199Z"
   },
   {
    "duration": 7,
    "start_time": "2023-07-09T08:22:56.384Z"
   },
   {
    "duration": 33,
    "start_time": "2023-07-09T08:22:56.392Z"
   },
   {
    "duration": 7,
    "start_time": "2023-07-09T08:22:56.427Z"
   },
   {
    "duration": 892,
    "start_time": "2023-07-09T08:22:56.436Z"
   },
   {
    "duration": 6,
    "start_time": "2023-07-09T08:22:57.329Z"
   },
   {
    "duration": 12,
    "start_time": "2023-07-09T08:22:57.336Z"
   },
   {
    "duration": 5,
    "start_time": "2023-07-09T08:22:57.350Z"
   },
   {
    "duration": 46,
    "start_time": "2023-07-09T08:22:57.357Z"
   },
   {
    "duration": 1260,
    "start_time": "2023-07-09T08:28:24.537Z"
   },
   {
    "duration": 69,
    "start_time": "2023-07-09T08:28:25.800Z"
   },
   {
    "duration": 118,
    "start_time": "2023-07-09T08:28:25.871Z"
   },
   {
    "duration": 8,
    "start_time": "2023-07-09T08:28:25.993Z"
   },
   {
    "duration": 14,
    "start_time": "2023-07-09T08:28:26.003Z"
   },
   {
    "duration": 15,
    "start_time": "2023-07-09T08:28:26.019Z"
   },
   {
    "duration": 20,
    "start_time": "2023-07-09T08:28:26.036Z"
   },
   {
    "duration": 13,
    "start_time": "2023-07-09T08:28:26.058Z"
   },
   {
    "duration": 32,
    "start_time": "2023-07-09T08:28:26.072Z"
   },
   {
    "duration": 8,
    "start_time": "2023-07-09T08:28:26.108Z"
   },
   {
    "duration": 8,
    "start_time": "2023-07-09T08:28:26.118Z"
   },
   {
    "duration": 15,
    "start_time": "2023-07-09T08:28:26.128Z"
   },
   {
    "duration": 16,
    "start_time": "2023-07-09T08:28:26.144Z"
   },
   {
    "duration": 19,
    "start_time": "2023-07-09T08:28:26.162Z"
   },
   {
    "duration": 46,
    "start_time": "2023-07-09T08:28:26.182Z"
   },
   {
    "duration": 277,
    "start_time": "2023-07-09T08:28:26.230Z"
   },
   {
    "duration": 119,
    "start_time": "2023-07-09T08:28:26.511Z"
   },
   {
    "duration": 25,
    "start_time": "2023-07-09T08:28:26.632Z"
   },
   {
    "duration": 26,
    "start_time": "2023-07-09T08:28:26.659Z"
   },
   {
    "duration": 136,
    "start_time": "2023-07-09T08:28:26.689Z"
   },
   {
    "duration": 203,
    "start_time": "2023-07-09T08:28:26.827Z"
   },
   {
    "duration": 5,
    "start_time": "2023-07-09T08:28:27.031Z"
   },
   {
    "duration": 37,
    "start_time": "2023-07-09T08:28:27.037Z"
   },
   {
    "duration": 54,
    "start_time": "2023-07-09T08:28:27.077Z"
   },
   {
    "duration": 288,
    "start_time": "2023-07-09T08:28:27.133Z"
   },
   {
    "duration": 120,
    "start_time": "2023-07-09T08:28:27.423Z"
   },
   {
    "duration": 103,
    "start_time": "2023-07-09T08:28:27.545Z"
   },
   {
    "duration": 6,
    "start_time": "2023-07-09T08:28:27.651Z"
   },
   {
    "duration": 48,
    "start_time": "2023-07-09T08:28:27.658Z"
   },
   {
    "duration": 208,
    "start_time": "2023-07-09T08:28:27.708Z"
   },
   {
    "duration": 5,
    "start_time": "2023-07-09T08:28:27.917Z"
   },
   {
    "duration": 15,
    "start_time": "2023-07-09T08:28:27.923Z"
   },
   {
    "duration": 21,
    "start_time": "2023-07-09T08:28:27.939Z"
   },
   {
    "duration": 31,
    "start_time": "2023-07-09T08:28:27.961Z"
   },
   {
    "duration": 9,
    "start_time": "2023-07-09T08:28:27.994Z"
   },
   {
    "duration": 149,
    "start_time": "2023-07-09T08:28:28.004Z"
   },
   {
    "duration": 5,
    "start_time": "2023-07-09T08:28:28.154Z"
   },
   {
    "duration": 96,
    "start_time": "2023-07-09T08:28:28.160Z"
   },
   {
    "duration": 6,
    "start_time": "2023-07-09T08:28:28.257Z"
   },
   {
    "duration": 11,
    "start_time": "2023-07-09T08:28:28.264Z"
   },
   {
    "duration": 244,
    "start_time": "2023-07-09T08:28:28.284Z"
   },
   {
    "duration": 7,
    "start_time": "2023-07-09T08:28:28.530Z"
   },
   {
    "duration": 7,
    "start_time": "2023-07-09T08:28:28.539Z"
   },
   {
    "duration": 213,
    "start_time": "2023-07-09T08:28:28.548Z"
   },
   {
    "duration": 20,
    "start_time": "2023-07-09T08:28:28.763Z"
   },
   {
    "duration": 11,
    "start_time": "2023-07-09T08:28:28.784Z"
   },
   {
    "duration": 7,
    "start_time": "2023-07-09T08:28:28.797Z"
   },
   {
    "duration": 238,
    "start_time": "2023-07-09T08:28:28.805Z"
   },
   {
    "duration": 8,
    "start_time": "2023-07-09T08:28:29.045Z"
   },
   {
    "duration": 45,
    "start_time": "2023-07-09T08:28:29.055Z"
   },
   {
    "duration": 21,
    "start_time": "2023-07-09T08:28:29.102Z"
   },
   {
    "duration": 183,
    "start_time": "2023-07-09T08:28:29.124Z"
   },
   {
    "duration": 252,
    "start_time": "2023-07-09T08:28:29.308Z"
   },
   {
    "duration": 34,
    "start_time": "2023-07-09T08:28:29.562Z"
   },
   {
    "duration": 184,
    "start_time": "2023-07-09T08:28:29.598Z"
   },
   {
    "duration": 162,
    "start_time": "2023-07-09T08:28:29.784Z"
   },
   {
    "duration": 833,
    "start_time": "2023-07-09T08:28:29.948Z"
   },
   {
    "duration": 3,
    "start_time": "2023-07-09T08:28:30.783Z"
   },
   {
    "duration": 4,
    "start_time": "2023-07-09T08:28:30.787Z"
   },
   {
    "duration": 67,
    "start_time": "2023-07-09T08:28:30.793Z"
   },
   {
    "duration": 232,
    "start_time": "2023-07-09T08:28:30.862Z"
   },
   {
    "duration": 33,
    "start_time": "2023-07-09T08:28:31.096Z"
   },
   {
    "duration": 189,
    "start_time": "2023-07-09T08:28:31.131Z"
   },
   {
    "duration": 6,
    "start_time": "2023-07-09T08:28:31.322Z"
   },
   {
    "duration": 23,
    "start_time": "2023-07-09T08:28:31.330Z"
   },
   {
    "duration": 18,
    "start_time": "2023-07-09T08:28:31.354Z"
   },
   {
    "duration": 845,
    "start_time": "2023-07-09T08:28:31.373Z"
   },
   {
    "duration": 6,
    "start_time": "2023-07-09T08:28:32.221Z"
   },
   {
    "duration": 37,
    "start_time": "2023-07-09T08:28:32.229Z"
   },
   {
    "duration": 40,
    "start_time": "2023-07-09T08:28:32.267Z"
   },
   {
    "duration": 13850,
    "start_time": "2023-07-09T08:28:32.309Z"
   },
   {
    "duration": 14,
    "start_time": "2023-07-09T08:28:46.161Z"
   },
   {
    "duration": 10,
    "start_time": "2023-07-09T08:28:46.187Z"
   },
   {
    "duration": 1469,
    "start_time": "2023-07-09T15:11:50.456Z"
   },
   {
    "duration": 210,
    "start_time": "2023-07-09T15:11:51.927Z"
   },
   {
    "duration": 86,
    "start_time": "2023-07-09T15:11:52.139Z"
   },
   {
    "duration": 66,
    "start_time": "2023-07-09T15:11:52.227Z"
   },
   {
    "duration": 62,
    "start_time": "2023-07-09T15:11:52.295Z"
   },
   {
    "duration": 24,
    "start_time": "2023-07-09T15:11:52.359Z"
   },
   {
    "duration": 9,
    "start_time": "2023-07-09T15:11:52.384Z"
   },
   {
    "duration": 7,
    "start_time": "2023-07-09T15:11:52.395Z"
   },
   {
    "duration": 9,
    "start_time": "2023-07-09T15:11:52.403Z"
   },
   {
    "duration": 20,
    "start_time": "2023-07-09T15:11:52.415Z"
   },
   {
    "duration": 6,
    "start_time": "2023-07-09T15:11:52.437Z"
   },
   {
    "duration": 18,
    "start_time": "2023-07-09T15:11:52.445Z"
   },
   {
    "duration": 15,
    "start_time": "2023-07-09T15:11:52.465Z"
   },
   {
    "duration": 4,
    "start_time": "2023-07-09T15:11:52.482Z"
   },
   {
    "duration": 25,
    "start_time": "2023-07-09T15:11:52.487Z"
   },
   {
    "duration": 258,
    "start_time": "2023-07-09T15:11:52.514Z"
   },
   {
    "duration": 131,
    "start_time": "2023-07-09T15:11:52.774Z"
   },
   {
    "duration": 30,
    "start_time": "2023-07-09T15:11:52.913Z"
   },
   {
    "duration": 6,
    "start_time": "2023-07-09T15:11:52.945Z"
   },
   {
    "duration": 194,
    "start_time": "2023-07-09T15:11:52.953Z"
   },
   {
    "duration": 224,
    "start_time": "2023-07-09T15:11:53.149Z"
   },
   {
    "duration": 5,
    "start_time": "2023-07-09T15:11:53.375Z"
   },
   {
    "duration": 28,
    "start_time": "2023-07-09T15:11:53.381Z"
   },
   {
    "duration": 15,
    "start_time": "2023-07-09T15:11:53.411Z"
   },
   {
    "duration": 243,
    "start_time": "2023-07-09T15:11:53.427Z"
   },
   {
    "duration": 124,
    "start_time": "2023-07-09T15:11:53.672Z"
   },
   {
    "duration": 129,
    "start_time": "2023-07-09T15:11:53.798Z"
   },
   {
    "duration": 8,
    "start_time": "2023-07-09T15:11:53.933Z"
   },
   {
    "duration": 55,
    "start_time": "2023-07-09T15:11:53.943Z"
   },
   {
    "duration": 237,
    "start_time": "2023-07-09T15:11:54.000Z"
   },
   {
    "duration": 5,
    "start_time": "2023-07-09T15:11:54.240Z"
   },
   {
    "duration": 150,
    "start_time": "2023-07-09T15:11:54.246Z"
   },
   {
    "duration": 29,
    "start_time": "2023-07-09T15:11:54.398Z"
   },
   {
    "duration": 10,
    "start_time": "2023-07-09T15:11:54.429Z"
   },
   {
    "duration": 12,
    "start_time": "2023-07-09T15:11:54.442Z"
   },
   {
    "duration": 186,
    "start_time": "2023-07-09T15:11:54.456Z"
   },
   {
    "duration": 7,
    "start_time": "2023-07-09T15:11:54.644Z"
   },
   {
    "duration": 120,
    "start_time": "2023-07-09T15:11:54.653Z"
   },
   {
    "duration": 8,
    "start_time": "2023-07-09T15:11:54.775Z"
   },
   {
    "duration": 8,
    "start_time": "2023-07-09T15:11:54.785Z"
   },
   {
    "duration": 278,
    "start_time": "2023-07-09T15:11:54.795Z"
   },
   {
    "duration": 7,
    "start_time": "2023-07-09T15:11:55.075Z"
   },
   {
    "duration": 13,
    "start_time": "2023-07-09T15:11:55.084Z"
   },
   {
    "duration": 218,
    "start_time": "2023-07-09T15:11:55.098Z"
   },
   {
    "duration": 9,
    "start_time": "2023-07-09T15:11:55.318Z"
   },
   {
    "duration": 10,
    "start_time": "2023-07-09T15:11:55.329Z"
   },
   {
    "duration": 50,
    "start_time": "2023-07-09T15:11:55.341Z"
   },
   {
    "duration": 362,
    "start_time": "2023-07-09T15:11:55.393Z"
   },
   {
    "duration": 10,
    "start_time": "2023-07-09T15:11:55.757Z"
   },
   {
    "duration": 49,
    "start_time": "2023-07-09T15:11:55.768Z"
   },
   {
    "duration": 24,
    "start_time": "2023-07-09T15:11:55.819Z"
   },
   {
    "duration": 218,
    "start_time": "2023-07-09T15:11:55.845Z"
   },
   {
    "duration": 291,
    "start_time": "2023-07-09T15:11:56.065Z"
   },
   {
    "duration": 22,
    "start_time": "2023-07-09T15:11:56.358Z"
   },
   {
    "duration": 224,
    "start_time": "2023-07-09T15:11:56.382Z"
   },
   {
    "duration": 204,
    "start_time": "2023-07-09T15:11:56.613Z"
   },
   {
    "duration": 924,
    "start_time": "2023-07-09T15:11:56.819Z"
   },
   {
    "duration": 4,
    "start_time": "2023-07-09T15:11:57.745Z"
   },
   {
    "duration": 39,
    "start_time": "2023-07-09T15:11:57.751Z"
   },
   {
    "duration": 15,
    "start_time": "2023-07-09T15:11:57.793Z"
   },
   {
    "duration": 13,
    "start_time": "2023-07-09T15:11:57.809Z"
   },
   {
    "duration": 4,
    "start_time": "2023-07-09T15:11:57.823Z"
   },
   {
    "duration": 170,
    "start_time": "2023-07-09T15:11:57.829Z"
   },
   {
    "duration": 6,
    "start_time": "2023-07-09T15:11:58.001Z"
   },
   {
    "duration": 18,
    "start_time": "2023-07-09T15:11:58.009Z"
   },
   {
    "duration": 6,
    "start_time": "2023-07-09T15:11:58.029Z"
   },
   {
    "duration": 860,
    "start_time": "2023-07-09T15:11:58.036Z"
   },
   {
    "duration": 5,
    "start_time": "2023-07-09T15:11:58.898Z"
   },
   {
    "duration": 16,
    "start_time": "2023-07-09T15:11:58.905Z"
   },
   {
    "duration": 24,
    "start_time": "2023-07-09T15:11:58.923Z"
   },
   {
    "duration": 12,
    "start_time": "2023-07-09T15:11:58.950Z"
   },
   {
    "duration": 12,
    "start_time": "2023-07-09T15:11:58.964Z"
   },
   {
    "duration": 6,
    "start_time": "2023-07-09T15:27:32.195Z"
   },
   {
    "duration": 179,
    "start_time": "2023-07-09T15:34:37.230Z"
   },
   {
    "duration": 1387,
    "start_time": "2023-07-09T15:35:29.442Z"
   },
   {
    "duration": 180,
    "start_time": "2023-07-09T15:35:30.832Z"
   },
   {
    "duration": 114,
    "start_time": "2023-07-09T15:35:31.014Z"
   },
   {
    "duration": 9,
    "start_time": "2023-07-09T15:35:31.130Z"
   },
   {
    "duration": 54,
    "start_time": "2023-07-09T15:35:31.141Z"
   },
   {
    "duration": 51,
    "start_time": "2023-07-09T15:35:31.197Z"
   },
   {
    "duration": 57,
    "start_time": "2023-07-09T15:35:31.250Z"
   },
   {
    "duration": 41,
    "start_time": "2023-07-09T15:35:31.309Z"
   },
   {
    "duration": 27,
    "start_time": "2023-07-09T15:35:31.352Z"
   },
   {
    "duration": 24,
    "start_time": "2023-07-09T15:35:31.382Z"
   },
   {
    "duration": 22,
    "start_time": "2023-07-09T15:35:31.408Z"
   },
   {
    "duration": 36,
    "start_time": "2023-07-09T15:35:31.432Z"
   },
   {
    "duration": 22,
    "start_time": "2023-07-09T15:35:31.470Z"
   },
   {
    "duration": 15,
    "start_time": "2023-07-09T15:35:31.494Z"
   },
   {
    "duration": 29,
    "start_time": "2023-07-09T15:35:31.511Z"
   },
   {
    "duration": 277,
    "start_time": "2023-07-09T15:35:31.542Z"
   },
   {
    "duration": 125,
    "start_time": "2023-07-09T15:35:31.821Z"
   },
   {
    "duration": 31,
    "start_time": "2023-07-09T15:35:31.948Z"
   },
   {
    "duration": 7,
    "start_time": "2023-07-09T15:35:31.980Z"
   },
   {
    "duration": 196,
    "start_time": "2023-07-09T15:35:31.989Z"
   },
   {
    "duration": 259,
    "start_time": "2023-07-09T15:35:32.188Z"
   },
   {
    "duration": 5,
    "start_time": "2023-07-09T15:35:32.449Z"
   },
   {
    "duration": 32,
    "start_time": "2023-07-09T15:35:32.456Z"
   },
   {
    "duration": 17,
    "start_time": "2023-07-09T15:35:32.489Z"
   },
   {
    "duration": 270,
    "start_time": "2023-07-09T15:35:32.508Z"
   },
   {
    "duration": 136,
    "start_time": "2023-07-09T15:35:32.780Z"
   },
   {
    "duration": 127,
    "start_time": "2023-07-09T15:35:32.918Z"
   },
   {
    "duration": 8,
    "start_time": "2023-07-09T15:35:33.049Z"
   },
   {
    "duration": 58,
    "start_time": "2023-07-09T15:35:33.059Z"
   },
   {
    "duration": 250,
    "start_time": "2023-07-09T15:35:33.119Z"
   },
   {
    "duration": 6,
    "start_time": "2023-07-09T15:35:33.370Z"
   },
   {
    "duration": 31,
    "start_time": "2023-07-09T15:35:33.377Z"
   },
   {
    "duration": 24,
    "start_time": "2023-07-09T15:35:33.413Z"
   },
   {
    "duration": 24,
    "start_time": "2023-07-09T15:35:33.439Z"
   },
   {
    "duration": 35,
    "start_time": "2023-07-09T15:35:33.465Z"
   },
   {
    "duration": 207,
    "start_time": "2023-07-09T15:35:33.502Z"
   },
   {
    "duration": 7,
    "start_time": "2023-07-09T15:35:33.713Z"
   },
   {
    "duration": 146,
    "start_time": "2023-07-09T15:35:33.723Z"
   },
   {
    "duration": 6,
    "start_time": "2023-07-09T15:35:33.872Z"
   },
   {
    "duration": 13,
    "start_time": "2023-07-09T15:35:33.881Z"
   },
   {
    "duration": 328,
    "start_time": "2023-07-09T15:35:33.897Z"
   },
   {
    "duration": 10,
    "start_time": "2023-07-09T15:35:34.228Z"
   },
   {
    "duration": 39,
    "start_time": "2023-07-09T15:35:34.240Z"
   },
   {
    "duration": 250,
    "start_time": "2023-07-09T15:35:34.281Z"
   },
   {
    "duration": 12,
    "start_time": "2023-07-09T15:35:34.534Z"
   },
   {
    "duration": 10,
    "start_time": "2023-07-09T15:35:34.548Z"
   },
   {
    "duration": 9,
    "start_time": "2023-07-09T15:35:34.561Z"
   },
   {
    "duration": 270,
    "start_time": "2023-07-09T15:35:34.573Z"
   },
   {
    "duration": 9,
    "start_time": "2023-07-09T15:35:34.845Z"
   },
   {
    "duration": 59,
    "start_time": "2023-07-09T15:35:34.856Z"
   },
   {
    "duration": 38,
    "start_time": "2023-07-09T15:35:34.917Z"
   },
   {
    "duration": 233,
    "start_time": "2023-07-09T15:35:34.957Z"
   },
   {
    "duration": 301,
    "start_time": "2023-07-09T15:35:35.192Z"
   },
   {
    "duration": 30,
    "start_time": "2023-07-09T15:35:35.495Z"
   },
   {
    "duration": 211,
    "start_time": "2023-07-09T15:35:35.527Z"
   },
   {
    "duration": 191,
    "start_time": "2023-07-09T15:35:35.740Z"
   },
   {
    "duration": 924,
    "start_time": "2023-07-09T15:35:35.933Z"
   },
   {
    "duration": 3,
    "start_time": "2023-07-09T15:35:36.859Z"
   },
   {
    "duration": 11,
    "start_time": "2023-07-09T15:35:36.864Z"
   },
   {
    "duration": 17,
    "start_time": "2023-07-09T15:35:36.877Z"
   },
   {
    "duration": 26,
    "start_time": "2023-07-09T15:35:36.895Z"
   },
   {
    "duration": 4,
    "start_time": "2023-07-09T15:35:36.922Z"
   },
   {
    "duration": 154,
    "start_time": "2023-07-09T15:35:36.927Z"
   },
   {
    "duration": 7,
    "start_time": "2023-07-09T15:35:37.083Z"
   },
   {
    "duration": 37,
    "start_time": "2023-07-09T15:35:37.092Z"
   },
   {
    "duration": 13,
    "start_time": "2023-07-09T15:35:37.132Z"
   },
   {
    "duration": 880,
    "start_time": "2023-07-09T15:35:37.147Z"
   },
   {
    "duration": 5,
    "start_time": "2023-07-09T15:35:38.029Z"
   },
   {
    "duration": 35,
    "start_time": "2023-07-09T15:35:38.036Z"
   },
   {
    "duration": 20,
    "start_time": "2023-07-09T15:35:38.073Z"
   },
   {
    "duration": 33,
    "start_time": "2023-07-09T15:35:38.096Z"
   },
   {
    "duration": 18,
    "start_time": "2023-07-09T15:35:38.131Z"
   },
   {
    "duration": 180,
    "start_time": "2023-07-09T15:35:38.151Z"
   },
   {
    "duration": 58,
    "start_time": "2023-07-10T15:26:07.243Z"
   },
   {
    "duration": 1711,
    "start_time": "2023-07-10T15:26:19.701Z"
   },
   {
    "duration": 395,
    "start_time": "2023-07-10T15:26:21.414Z"
   },
   {
    "duration": 133,
    "start_time": "2023-07-10T15:26:21.811Z"
   },
   {
    "duration": 7,
    "start_time": "2023-07-10T15:26:21.947Z"
   },
   {
    "duration": 13,
    "start_time": "2023-07-10T15:26:21.956Z"
   },
   {
    "duration": 7,
    "start_time": "2023-07-10T15:26:21.970Z"
   },
   {
    "duration": 8,
    "start_time": "2023-07-10T15:26:21.979Z"
   },
   {
    "duration": 6,
    "start_time": "2023-07-10T15:26:21.988Z"
   },
   {
    "duration": 27,
    "start_time": "2023-07-10T15:26:21.996Z"
   },
   {
    "duration": 23,
    "start_time": "2023-07-10T15:26:22.030Z"
   },
   {
    "duration": 11,
    "start_time": "2023-07-10T15:26:22.055Z"
   },
   {
    "duration": 20,
    "start_time": "2023-07-10T15:26:22.067Z"
   },
   {
    "duration": 24,
    "start_time": "2023-07-10T15:26:22.088Z"
   },
   {
    "duration": 9,
    "start_time": "2023-07-10T15:26:22.118Z"
   },
   {
    "duration": 24,
    "start_time": "2023-07-10T15:26:22.129Z"
   },
   {
    "duration": 279,
    "start_time": "2023-07-10T15:26:22.154Z"
   },
   {
    "duration": 137,
    "start_time": "2023-07-10T15:26:22.435Z"
   },
   {
    "duration": 39,
    "start_time": "2023-07-10T15:26:22.574Z"
   },
   {
    "duration": 10,
    "start_time": "2023-07-10T15:26:22.617Z"
   },
   {
    "duration": 185,
    "start_time": "2023-07-10T15:26:22.628Z"
   },
   {
    "duration": 275,
    "start_time": "2023-07-10T15:26:22.820Z"
   },
   {
    "duration": 5,
    "start_time": "2023-07-10T15:26:23.097Z"
   },
   {
    "duration": 45,
    "start_time": "2023-07-10T15:26:23.104Z"
   },
   {
    "duration": 11,
    "start_time": "2023-07-10T15:26:23.153Z"
   },
   {
    "duration": 301,
    "start_time": "2023-07-10T15:26:23.166Z"
   },
   {
    "duration": 253,
    "start_time": "2023-07-10T15:26:23.469Z"
   },
   {
    "duration": 41,
    "start_time": "2023-07-10T15:26:23.724Z"
   },
   {
    "duration": 6,
    "start_time": "2023-07-10T15:26:23.772Z"
   },
   {
    "duration": 71,
    "start_time": "2023-07-10T15:26:23.780Z"
   },
   {
    "duration": 301,
    "start_time": "2023-07-10T15:26:23.853Z"
   },
   {
    "duration": 6,
    "start_time": "2023-07-10T15:26:24.156Z"
   },
   {
    "duration": 16,
    "start_time": "2023-07-10T15:26:24.167Z"
   },
   {
    "duration": 26,
    "start_time": "2023-07-10T15:26:24.185Z"
   },
   {
    "duration": 16,
    "start_time": "2023-07-10T15:26:24.213Z"
   },
   {
    "duration": 25,
    "start_time": "2023-07-10T15:26:24.231Z"
   },
   {
    "duration": 231,
    "start_time": "2023-07-10T15:26:24.263Z"
   },
   {
    "duration": 5,
    "start_time": "2023-07-10T15:26:24.496Z"
   },
   {
    "duration": 124,
    "start_time": "2023-07-10T15:26:24.503Z"
   },
   {
    "duration": 8,
    "start_time": "2023-07-10T15:26:24.629Z"
   },
   {
    "duration": 27,
    "start_time": "2023-07-10T15:26:24.639Z"
   },
   {
    "duration": 334,
    "start_time": "2023-07-10T15:26:24.670Z"
   },
   {
    "duration": 12,
    "start_time": "2023-07-10T15:26:25.006Z"
   },
   {
    "duration": 28,
    "start_time": "2023-07-10T15:26:25.030Z"
   },
   {
    "duration": 259,
    "start_time": "2023-07-10T15:26:25.062Z"
   },
   {
    "duration": 18,
    "start_time": "2023-07-10T15:26:25.322Z"
   },
   {
    "duration": 27,
    "start_time": "2023-07-10T15:26:25.343Z"
   },
   {
    "duration": 28,
    "start_time": "2023-07-10T15:26:25.372Z"
   },
   {
    "duration": 277,
    "start_time": "2023-07-10T15:26:25.402Z"
   },
   {
    "duration": 22,
    "start_time": "2023-07-10T15:26:25.681Z"
   },
   {
    "duration": 59,
    "start_time": "2023-07-10T15:26:25.705Z"
   },
   {
    "duration": 24,
    "start_time": "2023-07-10T15:26:25.771Z"
   },
   {
    "duration": 365,
    "start_time": "2023-07-10T15:26:25.796Z"
   },
   {
    "duration": 239,
    "start_time": "2023-07-10T15:26:26.163Z"
   },
   {
    "duration": 29,
    "start_time": "2023-07-10T15:26:26.404Z"
   },
   {
    "duration": 246,
    "start_time": "2023-07-10T15:26:26.435Z"
   },
   {
    "duration": 243,
    "start_time": "2023-07-10T15:26:26.683Z"
   },
   {
    "duration": 1044,
    "start_time": "2023-07-10T15:26:26.928Z"
   },
   {
    "duration": 4,
    "start_time": "2023-07-10T15:26:27.978Z"
   },
   {
    "duration": 14,
    "start_time": "2023-07-10T15:26:27.983Z"
   },
   {
    "duration": 50,
    "start_time": "2023-07-10T15:26:27.998Z"
   },
   {
    "duration": 15,
    "start_time": "2023-07-10T15:26:28.049Z"
   },
   {
    "duration": 4,
    "start_time": "2023-07-10T15:26:28.067Z"
   },
   {
    "duration": 217,
    "start_time": "2023-07-10T15:26:28.072Z"
   },
   {
    "duration": 9,
    "start_time": "2023-07-10T15:26:28.291Z"
   },
   {
    "duration": 50,
    "start_time": "2023-07-10T15:26:28.301Z"
   },
   {
    "duration": 7,
    "start_time": "2023-07-10T15:26:28.357Z"
   },
   {
    "duration": 1141,
    "start_time": "2023-07-10T15:26:28.366Z"
   },
   {
    "duration": 7,
    "start_time": "2023-07-10T15:26:29.508Z"
   },
   {
    "duration": 27,
    "start_time": "2023-07-10T15:26:29.526Z"
   },
   {
    "duration": 34,
    "start_time": "2023-07-10T15:26:29.555Z"
   },
   {
    "duration": 0,
    "start_time": "2023-07-10T15:26:29.591Z"
   },
   {
    "duration": 0,
    "start_time": "2023-07-10T15:26:29.593Z"
   },
   {
    "duration": 0,
    "start_time": "2023-07-10T15:26:29.594Z"
   },
   {
    "duration": 193,
    "start_time": "2023-07-10T15:27:37.694Z"
   },
   {
    "duration": 20,
    "start_time": "2023-07-10T15:29:40.340Z"
   },
   {
    "duration": 258,
    "start_time": "2023-07-10T15:33:00.111Z"
   },
   {
    "duration": 255,
    "start_time": "2023-07-10T15:33:43.342Z"
   },
   {
    "duration": 5,
    "start_time": "2023-07-10T15:37:29.912Z"
   },
   {
    "duration": 4,
    "start_time": "2023-07-10T15:37:44.991Z"
   },
   {
    "duration": 115,
    "start_time": "2023-07-10T15:38:12.424Z"
   },
   {
    "duration": 108,
    "start_time": "2023-07-10T15:38:20.199Z"
   },
   {
    "duration": 6,
    "start_time": "2023-07-10T15:39:41.062Z"
   },
   {
    "duration": 11,
    "start_time": "2023-07-10T15:41:33.645Z"
   },
   {
    "duration": 10,
    "start_time": "2023-07-10T15:41:48.110Z"
   },
   {
    "duration": 100,
    "start_time": "2023-07-10T15:50:47.310Z"
   },
   {
    "duration": 23,
    "start_time": "2023-07-10T16:00:32.534Z"
   },
   {
    "duration": 13,
    "start_time": "2023-07-10T16:00:48.869Z"
   },
   {
    "duration": 18,
    "start_time": "2023-07-10T16:04:07.535Z"
   },
   {
    "duration": 10,
    "start_time": "2023-07-10T16:04:24.374Z"
   },
   {
    "duration": 201,
    "start_time": "2023-07-10T16:04:32.129Z"
   },
   {
    "duration": 103,
    "start_time": "2023-07-10T16:09:37.661Z"
   },
   {
    "duration": 1474,
    "start_time": "2023-07-10T16:11:37.433Z"
   },
   {
    "duration": 192,
    "start_time": "2023-07-10T16:11:38.909Z"
   },
   {
    "duration": 129,
    "start_time": "2023-07-10T16:11:39.103Z"
   },
   {
    "duration": 7,
    "start_time": "2023-07-10T16:11:39.242Z"
   },
   {
    "duration": 13,
    "start_time": "2023-07-10T16:11:39.250Z"
   },
   {
    "duration": 7,
    "start_time": "2023-07-10T16:11:39.265Z"
   },
   {
    "duration": 24,
    "start_time": "2023-07-10T16:11:39.274Z"
   },
   {
    "duration": 6,
    "start_time": "2023-07-10T16:11:39.301Z"
   },
   {
    "duration": 23,
    "start_time": "2023-07-10T16:11:39.309Z"
   },
   {
    "duration": 10,
    "start_time": "2023-07-10T16:11:39.335Z"
   },
   {
    "duration": 9,
    "start_time": "2023-07-10T16:11:39.347Z"
   },
   {
    "duration": 8,
    "start_time": "2023-07-10T16:11:39.358Z"
   },
   {
    "duration": 31,
    "start_time": "2023-07-10T16:11:39.368Z"
   },
   {
    "duration": 5,
    "start_time": "2023-07-10T16:11:39.402Z"
   },
   {
    "duration": 30,
    "start_time": "2023-07-10T16:11:39.409Z"
   },
   {
    "duration": 330,
    "start_time": "2023-07-10T16:11:39.447Z"
   },
   {
    "duration": 171,
    "start_time": "2023-07-10T16:11:39.779Z"
   },
   {
    "duration": 38,
    "start_time": "2023-07-10T16:11:39.952Z"
   },
   {
    "duration": 9,
    "start_time": "2023-07-10T16:11:39.992Z"
   },
   {
    "duration": 188,
    "start_time": "2023-07-10T16:11:40.002Z"
   },
   {
    "duration": 264,
    "start_time": "2023-07-10T16:11:40.192Z"
   },
   {
    "duration": 6,
    "start_time": "2023-07-10T16:11:40.457Z"
   },
   {
    "duration": 36,
    "start_time": "2023-07-10T16:11:40.465Z"
   },
   {
    "duration": 20,
    "start_time": "2023-07-10T16:11:40.503Z"
   },
   {
    "duration": 261,
    "start_time": "2023-07-10T16:11:40.529Z"
   },
   {
    "duration": 136,
    "start_time": "2023-07-10T16:11:40.792Z"
   },
   {
    "duration": 126,
    "start_time": "2023-07-10T16:11:40.938Z"
   },
   {
    "duration": 7,
    "start_time": "2023-07-10T16:11:41.069Z"
   },
   {
    "duration": 61,
    "start_time": "2023-07-10T16:11:41.077Z"
   },
   {
    "duration": 250,
    "start_time": "2023-07-10T16:11:41.141Z"
   },
   {
    "duration": 6,
    "start_time": "2023-07-10T16:11:41.393Z"
   },
   {
    "duration": 44,
    "start_time": "2023-07-10T16:11:41.401Z"
   },
   {
    "duration": 37,
    "start_time": "2023-07-10T16:11:41.447Z"
   },
   {
    "duration": 12,
    "start_time": "2023-07-10T16:11:41.486Z"
   },
   {
    "duration": 6,
    "start_time": "2023-07-10T16:11:41.500Z"
   },
   {
    "duration": 199,
    "start_time": "2023-07-10T16:11:41.508Z"
   },
   {
    "duration": 11,
    "start_time": "2023-07-10T16:11:41.710Z"
   },
   {
    "duration": 127,
    "start_time": "2023-07-10T16:11:41.723Z"
   },
   {
    "duration": 7,
    "start_time": "2023-07-10T16:11:41.851Z"
   },
   {
    "duration": 10,
    "start_time": "2023-07-10T16:11:41.859Z"
   },
   {
    "duration": 187,
    "start_time": "2023-07-10T16:11:41.871Z"
   },
   {
    "duration": 9,
    "start_time": "2023-07-10T16:11:42.060Z"
   },
   {
    "duration": 18,
    "start_time": "2023-07-10T16:11:42.071Z"
   },
   {
    "duration": 271,
    "start_time": "2023-07-10T16:11:42.092Z"
   },
   {
    "duration": 10,
    "start_time": "2023-07-10T16:11:42.365Z"
   },
   {
    "duration": 8,
    "start_time": "2023-07-10T16:11:42.377Z"
   },
   {
    "duration": 51,
    "start_time": "2023-07-10T16:11:42.387Z"
   },
   {
    "duration": 250,
    "start_time": "2023-07-10T16:11:42.445Z"
   },
   {
    "duration": 28,
    "start_time": "2023-07-10T16:11:42.697Z"
   },
   {
    "duration": 30,
    "start_time": "2023-07-10T16:11:42.726Z"
   },
   {
    "duration": 0,
    "start_time": "2023-07-10T16:11:42.758Z"
   },
   {
    "duration": 0,
    "start_time": "2023-07-10T16:11:42.759Z"
   },
   {
    "duration": 0,
    "start_time": "2023-07-10T16:11:42.760Z"
   },
   {
    "duration": 0,
    "start_time": "2023-07-10T16:11:42.761Z"
   },
   {
    "duration": 0,
    "start_time": "2023-07-10T16:11:42.762Z"
   },
   {
    "duration": 0,
    "start_time": "2023-07-10T16:11:42.764Z"
   },
   {
    "duration": 0,
    "start_time": "2023-07-10T16:11:42.764Z"
   },
   {
    "duration": 0,
    "start_time": "2023-07-10T16:11:42.766Z"
   },
   {
    "duration": 0,
    "start_time": "2023-07-10T16:11:42.766Z"
   },
   {
    "duration": 0,
    "start_time": "2023-07-10T16:11:42.768Z"
   },
   {
    "duration": 0,
    "start_time": "2023-07-10T16:11:42.769Z"
   },
   {
    "duration": 0,
    "start_time": "2023-07-10T16:11:42.770Z"
   },
   {
    "duration": 0,
    "start_time": "2023-07-10T16:11:42.771Z"
   },
   {
    "duration": 0,
    "start_time": "2023-07-10T16:11:42.772Z"
   },
   {
    "duration": 0,
    "start_time": "2023-07-10T16:11:42.773Z"
   },
   {
    "duration": 0,
    "start_time": "2023-07-10T16:11:42.774Z"
   },
   {
    "duration": 0,
    "start_time": "2023-07-10T16:11:42.775Z"
   },
   {
    "duration": 0,
    "start_time": "2023-07-10T16:11:42.776Z"
   },
   {
    "duration": 0,
    "start_time": "2023-07-10T16:11:42.777Z"
   },
   {
    "duration": 0,
    "start_time": "2023-07-10T16:11:42.822Z"
   },
   {
    "duration": 0,
    "start_time": "2023-07-10T16:11:42.827Z"
   },
   {
    "duration": 1,
    "start_time": "2023-07-10T16:11:42.828Z"
   },
   {
    "duration": 0,
    "start_time": "2023-07-10T16:11:42.830Z"
   },
   {
    "duration": 0,
    "start_time": "2023-07-10T16:11:42.831Z"
   },
   {
    "duration": 0,
    "start_time": "2023-07-10T16:11:42.832Z"
   },
   {
    "duration": 0,
    "start_time": "2023-07-10T16:11:42.833Z"
   },
   {
    "duration": 104,
    "start_time": "2023-07-10T16:14:44.865Z"
   },
   {
    "duration": 103,
    "start_time": "2023-07-10T16:14:54.693Z"
   },
   {
    "duration": 55,
    "start_time": "2023-07-10T16:15:42.313Z"
   },
   {
    "duration": 208,
    "start_time": "2023-07-10T16:22:50.394Z"
   },
   {
    "duration": 11,
    "start_time": "2023-07-10T16:23:27.170Z"
   },
   {
    "duration": 101,
    "start_time": "2023-07-10T16:23:41.239Z"
   },
   {
    "duration": 103,
    "start_time": "2023-07-10T16:23:57.063Z"
   },
   {
    "duration": 103,
    "start_time": "2023-07-10T16:24:03.374Z"
   },
   {
    "duration": 103,
    "start_time": "2023-07-10T16:25:17.138Z"
   },
   {
    "duration": 130,
    "start_time": "2023-07-10T16:55:10.265Z"
   },
   {
    "duration": 20,
    "start_time": "2023-07-10T16:56:28.301Z"
   },
   {
    "duration": 1539,
    "start_time": "2023-07-10T16:56:53.167Z"
   },
   {
    "duration": 392,
    "start_time": "2023-07-10T16:56:54.708Z"
   },
   {
    "duration": 108,
    "start_time": "2023-07-10T16:56:55.101Z"
   },
   {
    "duration": 15,
    "start_time": "2023-07-10T16:56:55.213Z"
   },
   {
    "duration": 17,
    "start_time": "2023-07-10T16:56:55.231Z"
   },
   {
    "duration": 32,
    "start_time": "2023-07-10T16:56:55.252Z"
   },
   {
    "duration": 17,
    "start_time": "2023-07-10T16:56:55.286Z"
   },
   {
    "duration": 14,
    "start_time": "2023-07-10T16:56:55.305Z"
   },
   {
    "duration": 31,
    "start_time": "2023-07-10T16:56:55.321Z"
   },
   {
    "duration": 9,
    "start_time": "2023-07-10T16:56:55.357Z"
   },
   {
    "duration": 13,
    "start_time": "2023-07-10T16:56:55.368Z"
   },
   {
    "duration": 22,
    "start_time": "2023-07-10T16:56:55.382Z"
   },
   {
    "duration": 27,
    "start_time": "2023-07-10T16:56:55.406Z"
   },
   {
    "duration": 18,
    "start_time": "2023-07-10T16:56:55.437Z"
   },
   {
    "duration": 30,
    "start_time": "2023-07-10T16:56:55.459Z"
   },
   {
    "duration": 338,
    "start_time": "2023-07-10T16:56:55.491Z"
   },
   {
    "duration": 161,
    "start_time": "2023-07-10T16:56:55.833Z"
   },
   {
    "duration": 78,
    "start_time": "2023-07-10T16:56:55.996Z"
   },
   {
    "duration": 13,
    "start_time": "2023-07-10T16:56:56.076Z"
   },
   {
    "duration": 242,
    "start_time": "2023-07-10T16:56:56.091Z"
   },
   {
    "duration": 343,
    "start_time": "2023-07-10T16:56:56.338Z"
   },
   {
    "duration": 10,
    "start_time": "2023-07-10T16:56:56.683Z"
   },
   {
    "duration": 16,
    "start_time": "2023-07-10T16:56:56.695Z"
   },
   {
    "duration": 29,
    "start_time": "2023-07-10T16:56:56.714Z"
   },
   {
    "duration": 305,
    "start_time": "2023-07-10T16:56:56.749Z"
   },
   {
    "duration": 141,
    "start_time": "2023-07-10T16:56:57.059Z"
   },
   {
    "duration": 176,
    "start_time": "2023-07-10T16:56:57.201Z"
   },
   {
    "duration": 8,
    "start_time": "2023-07-10T16:56:57.383Z"
   },
   {
    "duration": 112,
    "start_time": "2023-07-10T16:56:57.393Z"
   },
   {
    "duration": 323,
    "start_time": "2023-07-10T16:56:57.506Z"
   },
   {
    "duration": 7,
    "start_time": "2023-07-10T16:56:57.830Z"
   },
   {
    "duration": 12,
    "start_time": "2023-07-10T16:56:57.838Z"
   },
   {
    "duration": 47,
    "start_time": "2023-07-10T16:56:57.851Z"
   },
   {
    "duration": 12,
    "start_time": "2023-07-10T16:56:57.899Z"
   },
   {
    "duration": 29,
    "start_time": "2023-07-10T16:56:57.913Z"
   },
   {
    "duration": 228,
    "start_time": "2023-07-10T16:56:57.949Z"
   },
   {
    "duration": 10,
    "start_time": "2023-07-10T16:56:58.180Z"
   },
   {
    "duration": 160,
    "start_time": "2023-07-10T16:56:58.192Z"
   },
   {
    "duration": 7,
    "start_time": "2023-07-10T16:56:58.354Z"
   },
   {
    "duration": 11,
    "start_time": "2023-07-10T16:56:58.363Z"
   },
   {
    "duration": 272,
    "start_time": "2023-07-10T16:56:58.376Z"
   },
   {
    "duration": 18,
    "start_time": "2023-07-10T16:56:58.651Z"
   },
   {
    "duration": 35,
    "start_time": "2023-07-10T16:56:58.671Z"
   },
   {
    "duration": 328,
    "start_time": "2023-07-10T16:56:58.708Z"
   },
   {
    "duration": 28,
    "start_time": "2023-07-10T16:56:59.038Z"
   },
   {
    "duration": 13,
    "start_time": "2023-07-10T16:56:59.075Z"
   },
   {
    "duration": 10,
    "start_time": "2023-07-10T16:56:59.091Z"
   },
   {
    "duration": 306,
    "start_time": "2023-07-10T16:56:59.103Z"
   },
   {
    "duration": 17,
    "start_time": "2023-07-10T16:56:59.417Z"
   },
   {
    "duration": 67,
    "start_time": "2023-07-10T16:56:59.436Z"
   },
   {
    "duration": 30,
    "start_time": "2023-07-10T16:56:59.505Z"
   },
   {
    "duration": 269,
    "start_time": "2023-07-10T16:56:59.539Z"
   },
   {
    "duration": 293,
    "start_time": "2023-07-10T16:56:59.811Z"
   },
   {
    "duration": 70,
    "start_time": "2023-07-10T16:57:00.107Z"
   },
   {
    "duration": 383,
    "start_time": "2023-07-10T16:57:00.188Z"
   },
   {
    "duration": 278,
    "start_time": "2023-07-10T16:57:00.578Z"
   },
   {
    "duration": 260,
    "start_time": "2023-07-10T16:57:00.859Z"
   },
   {
    "duration": 0,
    "start_time": "2023-07-10T16:57:01.126Z"
   },
   {
    "duration": 0,
    "start_time": "2023-07-10T16:57:01.128Z"
   },
   {
    "duration": 0,
    "start_time": "2023-07-10T16:57:01.136Z"
   },
   {
    "duration": 0,
    "start_time": "2023-07-10T16:57:01.137Z"
   },
   {
    "duration": 0,
    "start_time": "2023-07-10T16:57:01.141Z"
   },
   {
    "duration": 0,
    "start_time": "2023-07-10T16:57:01.142Z"
   },
   {
    "duration": 0,
    "start_time": "2023-07-10T16:57:01.143Z"
   },
   {
    "duration": 0,
    "start_time": "2023-07-10T16:57:01.144Z"
   },
   {
    "duration": 0,
    "start_time": "2023-07-10T16:57:01.152Z"
   },
   {
    "duration": 0,
    "start_time": "2023-07-10T16:57:01.154Z"
   },
   {
    "duration": 0,
    "start_time": "2023-07-10T16:57:01.155Z"
   },
   {
    "duration": 1,
    "start_time": "2023-07-10T16:57:01.156Z"
   },
   {
    "duration": 0,
    "start_time": "2023-07-10T16:57:01.158Z"
   },
   {
    "duration": 0,
    "start_time": "2023-07-10T16:57:01.162Z"
   },
   {
    "duration": 0,
    "start_time": "2023-07-10T16:57:01.163Z"
   },
   {
    "duration": 0,
    "start_time": "2023-07-10T16:57:01.165Z"
   },
   {
    "duration": 0,
    "start_time": "2023-07-10T16:57:01.170Z"
   },
   {
    "duration": 0,
    "start_time": "2023-07-10T16:57:01.172Z"
   },
   {
    "duration": 0,
    "start_time": "2023-07-10T16:57:01.173Z"
   },
   {
    "duration": 0,
    "start_time": "2023-07-10T16:57:01.174Z"
   },
   {
    "duration": 248,
    "start_time": "2023-07-10T16:58:03.425Z"
   },
   {
    "duration": 209,
    "start_time": "2023-07-10T16:58:40.946Z"
   },
   {
    "duration": 260,
    "start_time": "2023-07-10T17:00:14.081Z"
   },
   {
    "duration": 232,
    "start_time": "2023-07-10T17:05:26.271Z"
   },
   {
    "duration": 238,
    "start_time": "2023-07-10T17:06:31.531Z"
   },
   {
    "duration": 1511,
    "start_time": "2023-07-10T17:07:01.672Z"
   },
   {
    "duration": 300,
    "start_time": "2023-07-10T17:07:03.185Z"
   },
   {
    "duration": 129,
    "start_time": "2023-07-10T17:07:03.486Z"
   },
   {
    "duration": 138,
    "start_time": "2023-07-10T17:07:03.623Z"
   },
   {
    "duration": 96,
    "start_time": "2023-07-10T17:07:03.763Z"
   },
   {
    "duration": 23,
    "start_time": "2023-07-10T17:07:03.865Z"
   },
   {
    "duration": 52,
    "start_time": "2023-07-10T17:07:03.889Z"
   },
   {
    "duration": 31,
    "start_time": "2023-07-10T17:07:03.943Z"
   },
   {
    "duration": 45,
    "start_time": "2023-07-10T17:07:03.977Z"
   },
   {
    "duration": 38,
    "start_time": "2023-07-10T17:07:04.029Z"
   },
   {
    "duration": 93,
    "start_time": "2023-07-10T17:07:04.072Z"
   },
   {
    "duration": 88,
    "start_time": "2023-07-10T17:07:04.167Z"
   },
   {
    "duration": 19,
    "start_time": "2023-07-10T17:07:04.256Z"
   },
   {
    "duration": 21,
    "start_time": "2023-07-10T17:07:04.277Z"
   },
   {
    "duration": 46,
    "start_time": "2023-07-10T17:07:04.300Z"
   },
   {
    "duration": 296,
    "start_time": "2023-07-10T17:07:04.355Z"
   },
   {
    "duration": 134,
    "start_time": "2023-07-10T17:07:04.655Z"
   },
   {
    "duration": 50,
    "start_time": "2023-07-10T17:07:04.791Z"
   },
   {
    "duration": 12,
    "start_time": "2023-07-10T17:07:04.846Z"
   },
   {
    "duration": 187,
    "start_time": "2023-07-10T17:07:04.863Z"
   },
   {
    "duration": 273,
    "start_time": "2023-07-10T17:07:05.053Z"
   },
   {
    "duration": 6,
    "start_time": "2023-07-10T17:07:05.328Z"
   },
   {
    "duration": 27,
    "start_time": "2023-07-10T17:07:05.344Z"
   },
   {
    "duration": 15,
    "start_time": "2023-07-10T17:07:05.373Z"
   },
   {
    "duration": 297,
    "start_time": "2023-07-10T17:07:05.390Z"
   },
   {
    "duration": 188,
    "start_time": "2023-07-10T17:07:05.689Z"
   },
   {
    "duration": 143,
    "start_time": "2023-07-10T17:07:05.879Z"
   },
   {
    "duration": 45,
    "start_time": "2023-07-10T17:07:06.032Z"
   },
   {
    "duration": 100,
    "start_time": "2023-07-10T17:07:06.079Z"
   },
   {
    "duration": 308,
    "start_time": "2023-07-10T17:07:06.181Z"
   },
   {
    "duration": 6,
    "start_time": "2023-07-10T17:07:06.492Z"
   },
   {
    "duration": 43,
    "start_time": "2023-07-10T17:07:06.500Z"
   },
   {
    "duration": 41,
    "start_time": "2023-07-10T17:07:06.545Z"
   },
   {
    "duration": 12,
    "start_time": "2023-07-10T17:07:06.588Z"
   },
   {
    "duration": 44,
    "start_time": "2023-07-10T17:07:06.602Z"
   },
   {
    "duration": 228,
    "start_time": "2023-07-10T17:07:06.652Z"
   },
   {
    "duration": 8,
    "start_time": "2023-07-10T17:07:06.882Z"
   },
   {
    "duration": 148,
    "start_time": "2023-07-10T17:07:06.893Z"
   },
   {
    "duration": 16,
    "start_time": "2023-07-10T17:07:07.045Z"
   },
   {
    "duration": 10,
    "start_time": "2023-07-10T17:07:07.071Z"
   },
   {
    "duration": 213,
    "start_time": "2023-07-10T17:07:07.084Z"
   },
   {
    "duration": 9,
    "start_time": "2023-07-10T17:07:07.298Z"
   },
   {
    "duration": 32,
    "start_time": "2023-07-10T17:07:07.309Z"
   },
   {
    "duration": 253,
    "start_time": "2023-07-10T17:07:07.342Z"
   },
   {
    "duration": 34,
    "start_time": "2023-07-10T17:07:07.597Z"
   },
   {
    "duration": 19,
    "start_time": "2023-07-10T17:07:07.633Z"
   },
   {
    "duration": 21,
    "start_time": "2023-07-10T17:07:07.654Z"
   },
   {
    "duration": 280,
    "start_time": "2023-07-10T17:07:07.677Z"
   },
   {
    "duration": 13,
    "start_time": "2023-07-10T17:07:07.962Z"
   },
   {
    "duration": 62,
    "start_time": "2023-07-10T17:07:07.977Z"
   },
   {
    "duration": 39,
    "start_time": "2023-07-10T17:07:08.041Z"
   },
   {
    "duration": 266,
    "start_time": "2023-07-10T17:07:08.081Z"
   },
   {
    "duration": 233,
    "start_time": "2023-07-10T17:07:08.349Z"
   },
   {
    "duration": 50,
    "start_time": "2023-07-10T17:07:08.585Z"
   },
   {
    "duration": 337,
    "start_time": "2023-07-10T17:07:08.640Z"
   },
   {
    "duration": 220,
    "start_time": "2023-07-10T17:07:08.980Z"
   },
   {
    "duration": 229,
    "start_time": "2023-07-10T17:07:09.202Z"
   },
   {
    "duration": 0,
    "start_time": "2023-07-10T17:07:09.433Z"
   },
   {
    "duration": 0,
    "start_time": "2023-07-10T17:07:09.435Z"
   },
   {
    "duration": 0,
    "start_time": "2023-07-10T17:07:09.436Z"
   },
   {
    "duration": 0,
    "start_time": "2023-07-10T17:07:09.437Z"
   },
   {
    "duration": 0,
    "start_time": "2023-07-10T17:07:09.440Z"
   },
   {
    "duration": 0,
    "start_time": "2023-07-10T17:07:09.442Z"
   },
   {
    "duration": 0,
    "start_time": "2023-07-10T17:07:09.443Z"
   },
   {
    "duration": 0,
    "start_time": "2023-07-10T17:07:09.444Z"
   },
   {
    "duration": 0,
    "start_time": "2023-07-10T17:07:09.445Z"
   },
   {
    "duration": 0,
    "start_time": "2023-07-10T17:07:09.448Z"
   },
   {
    "duration": 0,
    "start_time": "2023-07-10T17:07:09.449Z"
   },
   {
    "duration": 0,
    "start_time": "2023-07-10T17:07:09.450Z"
   },
   {
    "duration": 0,
    "start_time": "2023-07-10T17:07:09.451Z"
   },
   {
    "duration": 0,
    "start_time": "2023-07-10T17:07:09.453Z"
   },
   {
    "duration": 0,
    "start_time": "2023-07-10T17:07:09.454Z"
   },
   {
    "duration": 0,
    "start_time": "2023-07-10T17:07:09.455Z"
   },
   {
    "duration": 0,
    "start_time": "2023-07-10T17:07:09.456Z"
   },
   {
    "duration": 0,
    "start_time": "2023-07-10T17:07:09.457Z"
   },
   {
    "duration": 0,
    "start_time": "2023-07-10T17:07:09.458Z"
   },
   {
    "duration": 0,
    "start_time": "2023-07-10T17:07:09.459Z"
   },
   {
    "duration": 216,
    "start_time": "2023-07-10T17:10:34.564Z"
   },
   {
    "duration": 272,
    "start_time": "2023-07-10T17:11:25.637Z"
   },
   {
    "duration": 192,
    "start_time": "2023-07-10T17:12:11.533Z"
   },
   {
    "duration": 344,
    "start_time": "2023-07-10T17:15:59.590Z"
   },
   {
    "duration": 246,
    "start_time": "2023-07-10T17:16:16.345Z"
   },
   {
    "duration": 381,
    "start_time": "2023-07-10T17:17:25.188Z"
   },
   {
    "duration": 136,
    "start_time": "2023-07-10T17:18:03.537Z"
   },
   {
    "duration": 290,
    "start_time": "2023-07-10T17:20:03.040Z"
   },
   {
    "duration": 288,
    "start_time": "2023-07-10T17:21:53.567Z"
   },
   {
    "duration": 242,
    "start_time": "2023-07-10T17:22:46.263Z"
   },
   {
    "duration": 219,
    "start_time": "2023-07-10T17:23:49.046Z"
   },
   {
    "duration": 195,
    "start_time": "2023-07-10T17:27:32.091Z"
   },
   {
    "duration": 190,
    "start_time": "2023-07-10T17:27:56.667Z"
   },
   {
    "duration": 188,
    "start_time": "2023-07-10T17:28:10.708Z"
   },
   {
    "duration": 141,
    "start_time": "2023-07-10T17:33:54.797Z"
   },
   {
    "duration": 203,
    "start_time": "2023-07-10T17:39:34.566Z"
   },
   {
    "duration": 112,
    "start_time": "2023-07-10T17:39:58.836Z"
   },
   {
    "duration": 218,
    "start_time": "2023-07-10T17:44:46.185Z"
   },
   {
    "duration": 238,
    "start_time": "2023-07-10T17:44:58.254Z"
   },
   {
    "duration": 223,
    "start_time": "2023-07-10T17:45:04.448Z"
   },
   {
    "duration": 212,
    "start_time": "2023-07-10T17:45:12.887Z"
   },
   {
    "duration": 231,
    "start_time": "2023-07-10T17:45:18.209Z"
   },
   {
    "duration": 229,
    "start_time": "2023-07-10T17:45:30.401Z"
   },
   {
    "duration": 195,
    "start_time": "2023-07-10T17:45:38.869Z"
   },
   {
    "duration": 232,
    "start_time": "2023-07-10T17:45:46.211Z"
   },
   {
    "duration": 1363,
    "start_time": "2023-07-10T17:46:06.758Z"
   },
   {
    "duration": 268,
    "start_time": "2023-07-10T17:46:08.123Z"
   },
   {
    "duration": 106,
    "start_time": "2023-07-10T17:46:08.393Z"
   },
   {
    "duration": 6,
    "start_time": "2023-07-10T17:46:08.501Z"
   },
   {
    "duration": 21,
    "start_time": "2023-07-10T17:46:08.508Z"
   },
   {
    "duration": 22,
    "start_time": "2023-07-10T17:46:08.531Z"
   },
   {
    "duration": 16,
    "start_time": "2023-07-10T17:46:08.555Z"
   },
   {
    "duration": 5,
    "start_time": "2023-07-10T17:46:08.573Z"
   },
   {
    "duration": 11,
    "start_time": "2023-07-10T17:46:08.580Z"
   },
   {
    "duration": 9,
    "start_time": "2023-07-10T17:46:08.595Z"
   },
   {
    "duration": 39,
    "start_time": "2023-07-10T17:46:08.606Z"
   },
   {
    "duration": 17,
    "start_time": "2023-07-10T17:46:08.647Z"
   },
   {
    "duration": 8,
    "start_time": "2023-07-10T17:46:08.667Z"
   },
   {
    "duration": 10,
    "start_time": "2023-07-10T17:46:08.677Z"
   },
   {
    "duration": 41,
    "start_time": "2023-07-10T17:46:08.690Z"
   },
   {
    "duration": 304,
    "start_time": "2023-07-10T17:46:08.733Z"
   },
   {
    "duration": 12,
    "start_time": "2023-07-10T17:46:09.039Z"
   },
   {
    "duration": 247,
    "start_time": "2023-07-10T17:46:09.058Z"
   },
   {
    "duration": 9,
    "start_time": "2023-07-10T17:46:09.312Z"
   },
   {
    "duration": 177,
    "start_time": "2023-07-10T17:46:09.323Z"
   },
   {
    "duration": 26,
    "start_time": "2023-07-10T17:46:09.502Z"
   },
   {
    "duration": 155,
    "start_time": "2023-07-10T17:46:09.530Z"
   },
   {
    "duration": 7,
    "start_time": "2023-07-10T17:46:09.687Z"
   },
   {
    "duration": 26,
    "start_time": "2023-07-10T17:46:09.696Z"
   },
   {
    "duration": 260,
    "start_time": "2023-07-10T17:46:09.725Z"
   },
   {
    "duration": 9,
    "start_time": "2023-07-10T17:46:09.987Z"
   },
   {
    "duration": 28,
    "start_time": "2023-07-10T17:46:09.998Z"
   },
   {
    "duration": 276,
    "start_time": "2023-07-10T17:46:10.031Z"
   },
   {
    "duration": 23,
    "start_time": "2023-07-10T17:46:10.308Z"
   },
   {
    "duration": 18,
    "start_time": "2023-07-10T17:46:10.335Z"
   },
   {
    "duration": 21,
    "start_time": "2023-07-10T17:46:10.356Z"
   },
   {
    "duration": 367,
    "start_time": "2023-07-10T17:46:10.379Z"
   },
   {
    "duration": 11,
    "start_time": "2023-07-10T17:46:10.748Z"
   },
   {
    "duration": 32,
    "start_time": "2023-07-10T17:46:10.766Z"
   },
   {
    "duration": 46,
    "start_time": "2023-07-10T17:46:10.800Z"
   },
   {
    "duration": 227,
    "start_time": "2023-07-10T17:46:10.848Z"
   },
   {
    "duration": 236,
    "start_time": "2023-07-10T17:46:11.077Z"
   },
   {
    "duration": 36,
    "start_time": "2023-07-10T17:46:11.314Z"
   },
   {
    "duration": 242,
    "start_time": "2023-07-10T17:46:11.352Z"
   },
   {
    "duration": 243,
    "start_time": "2023-07-10T17:46:11.596Z"
   },
   {
    "duration": 262,
    "start_time": "2023-07-10T17:46:11.840Z"
   },
   {
    "duration": 272,
    "start_time": "2023-07-10T17:46:12.104Z"
   },
   {
    "duration": 4,
    "start_time": "2023-07-10T17:46:12.378Z"
   },
   {
    "duration": 1134,
    "start_time": "2023-07-10T17:46:12.384Z"
   },
   {
    "duration": 12,
    "start_time": "2023-07-10T17:46:13.522Z"
   },
   {
    "duration": 25,
    "start_time": "2023-07-10T17:46:13.539Z"
   },
   {
    "duration": 13,
    "start_time": "2023-07-10T17:46:13.566Z"
   },
   {
    "duration": 4,
    "start_time": "2023-07-10T17:46:13.581Z"
   },
   {
    "duration": 206,
    "start_time": "2023-07-10T17:46:13.587Z"
   },
   {
    "duration": 7,
    "start_time": "2023-07-10T17:46:13.795Z"
   },
   {
    "duration": 30,
    "start_time": "2023-07-10T17:46:13.804Z"
   },
   {
    "duration": 9,
    "start_time": "2023-07-10T17:46:13.837Z"
   },
   {
    "duration": 7,
    "start_time": "2023-07-10T17:46:13.855Z"
   },
   {
    "duration": 9,
    "start_time": "2023-07-10T17:46:13.866Z"
   },
   {
    "duration": 1212,
    "start_time": "2023-07-10T17:46:13.877Z"
   },
   {
    "duration": 5,
    "start_time": "2023-07-10T17:46:15.091Z"
   },
   {
    "duration": 12,
    "start_time": "2023-07-10T17:46:15.113Z"
   },
   {
    "duration": 6,
    "start_time": "2023-07-10T17:46:15.127Z"
   },
   {
    "duration": 17,
    "start_time": "2023-07-10T17:46:15.134Z"
   },
   {
    "duration": 184,
    "start_time": "2023-07-10T17:46:15.153Z"
   },
   {
    "duration": 6,
    "start_time": "2023-07-10T17:46:15.340Z"
   },
   {
    "duration": 216,
    "start_time": "2023-07-10T17:46:15.348Z"
   },
   {
    "duration": 9,
    "start_time": "2023-07-10T17:57:33.502Z"
   },
   {
    "duration": 9,
    "start_time": "2023-07-10T18:01:42.366Z"
   },
   {
    "duration": 8,
    "start_time": "2023-07-10T18:02:12.580Z"
   },
   {
    "duration": 12,
    "start_time": "2023-07-10T18:02:35.862Z"
   },
   {
    "duration": 10,
    "start_time": "2023-07-10T18:02:43.863Z"
   },
   {
    "duration": 10,
    "start_time": "2023-07-10T18:03:08.961Z"
   },
   {
    "duration": 84,
    "start_time": "2023-07-11T12:14:31.528Z"
   },
   {
    "duration": 49,
    "start_time": "2023-07-11T12:15:02.395Z"
   },
   {
    "duration": 1663,
    "start_time": "2023-07-11T12:15:19.508Z"
   },
   {
    "duration": 673,
    "start_time": "2023-07-11T12:15:21.174Z"
   },
   {
    "duration": 100,
    "start_time": "2023-07-11T12:15:21.849Z"
   },
   {
    "duration": 7,
    "start_time": "2023-07-11T12:15:21.951Z"
   },
   {
    "duration": 34,
    "start_time": "2023-07-11T12:15:21.960Z"
   },
   {
    "duration": 43,
    "start_time": "2023-07-11T12:15:21.996Z"
   },
   {
    "duration": 63,
    "start_time": "2023-07-11T12:15:22.041Z"
   },
   {
    "duration": 41,
    "start_time": "2023-07-11T12:15:22.107Z"
   },
   {
    "duration": 33,
    "start_time": "2023-07-11T12:15:22.151Z"
   },
   {
    "duration": 40,
    "start_time": "2023-07-11T12:15:22.187Z"
   },
   {
    "duration": 48,
    "start_time": "2023-07-11T12:15:22.229Z"
   },
   {
    "duration": 25,
    "start_time": "2023-07-11T12:15:22.279Z"
   },
   {
    "duration": 11,
    "start_time": "2023-07-11T12:15:22.306Z"
   },
   {
    "duration": 115,
    "start_time": "2023-07-11T12:15:22.320Z"
   },
   {
    "duration": 0,
    "start_time": "2023-07-11T12:15:22.438Z"
   },
   {
    "duration": 0,
    "start_time": "2023-07-11T12:15:22.440Z"
   },
   {
    "duration": 0,
    "start_time": "2023-07-11T12:15:22.441Z"
   },
   {
    "duration": 0,
    "start_time": "2023-07-11T12:15:22.442Z"
   },
   {
    "duration": 0,
    "start_time": "2023-07-11T12:15:22.443Z"
   },
   {
    "duration": 0,
    "start_time": "2023-07-11T12:15:22.444Z"
   },
   {
    "duration": 0,
    "start_time": "2023-07-11T12:15:22.445Z"
   },
   {
    "duration": 0,
    "start_time": "2023-07-11T12:15:22.446Z"
   },
   {
    "duration": 0,
    "start_time": "2023-07-11T12:15:22.447Z"
   },
   {
    "duration": 0,
    "start_time": "2023-07-11T12:15:22.448Z"
   },
   {
    "duration": 0,
    "start_time": "2023-07-11T12:15:22.450Z"
   },
   {
    "duration": 0,
    "start_time": "2023-07-11T12:15:22.451Z"
   },
   {
    "duration": 0,
    "start_time": "2023-07-11T12:15:22.452Z"
   },
   {
    "duration": 0,
    "start_time": "2023-07-11T12:15:22.453Z"
   },
   {
    "duration": 0,
    "start_time": "2023-07-11T12:15:22.454Z"
   },
   {
    "duration": 0,
    "start_time": "2023-07-11T12:15:22.456Z"
   },
   {
    "duration": 0,
    "start_time": "2023-07-11T12:15:22.457Z"
   },
   {
    "duration": 0,
    "start_time": "2023-07-11T12:15:22.458Z"
   },
   {
    "duration": 0,
    "start_time": "2023-07-11T12:15:22.459Z"
   },
   {
    "duration": 0,
    "start_time": "2023-07-11T12:15:22.460Z"
   },
   {
    "duration": 0,
    "start_time": "2023-07-11T12:15:22.461Z"
   },
   {
    "duration": 0,
    "start_time": "2023-07-11T12:15:22.463Z"
   },
   {
    "duration": 0,
    "start_time": "2023-07-11T12:15:22.464Z"
   },
   {
    "duration": 0,
    "start_time": "2023-07-11T12:15:22.464Z"
   },
   {
    "duration": 0,
    "start_time": "2023-07-11T12:15:22.465Z"
   },
   {
    "duration": 0,
    "start_time": "2023-07-11T12:15:22.466Z"
   },
   {
    "duration": 0,
    "start_time": "2023-07-11T12:15:22.467Z"
   },
   {
    "duration": 0,
    "start_time": "2023-07-11T12:15:22.467Z"
   },
   {
    "duration": 0,
    "start_time": "2023-07-11T12:15:22.468Z"
   },
   {
    "duration": 0,
    "start_time": "2023-07-11T12:15:22.508Z"
   },
   {
    "duration": 0,
    "start_time": "2023-07-11T12:15:22.510Z"
   },
   {
    "duration": 1,
    "start_time": "2023-07-11T12:15:22.511Z"
   },
   {
    "duration": 0,
    "start_time": "2023-07-11T12:15:22.512Z"
   },
   {
    "duration": 0,
    "start_time": "2023-07-11T12:15:22.514Z"
   },
   {
    "duration": 0,
    "start_time": "2023-07-11T12:15:22.515Z"
   },
   {
    "duration": 0,
    "start_time": "2023-07-11T12:15:22.516Z"
   },
   {
    "duration": 0,
    "start_time": "2023-07-11T12:15:22.517Z"
   },
   {
    "duration": 0,
    "start_time": "2023-07-11T12:15:22.518Z"
   },
   {
    "duration": 0,
    "start_time": "2023-07-11T12:15:22.519Z"
   },
   {
    "duration": 0,
    "start_time": "2023-07-11T12:15:22.520Z"
   },
   {
    "duration": 0,
    "start_time": "2023-07-11T12:15:22.522Z"
   },
   {
    "duration": 0,
    "start_time": "2023-07-11T12:15:22.523Z"
   },
   {
    "duration": 0,
    "start_time": "2023-07-11T12:15:22.524Z"
   },
   {
    "duration": 0,
    "start_time": "2023-07-11T12:15:22.525Z"
   },
   {
    "duration": 0,
    "start_time": "2023-07-11T12:15:22.526Z"
   },
   {
    "duration": 0,
    "start_time": "2023-07-11T12:15:22.527Z"
   },
   {
    "duration": 0,
    "start_time": "2023-07-11T12:15:22.528Z"
   },
   {
    "duration": 0,
    "start_time": "2023-07-11T12:15:22.530Z"
   },
   {
    "duration": 0,
    "start_time": "2023-07-11T12:15:22.531Z"
   },
   {
    "duration": 0,
    "start_time": "2023-07-11T12:15:22.533Z"
   },
   {
    "duration": 15,
    "start_time": "2023-07-11T12:16:57.942Z"
   },
   {
    "duration": 16,
    "start_time": "2023-07-11T12:17:49.611Z"
   },
   {
    "duration": 40,
    "start_time": "2023-07-11T12:18:28.987Z"
   },
   {
    "duration": 28,
    "start_time": "2023-07-11T12:18:29.785Z"
   },
   {
    "duration": 36,
    "start_time": "2023-07-11T12:19:22.432Z"
   },
   {
    "duration": 15,
    "start_time": "2023-07-11T12:23:25.787Z"
   },
   {
    "duration": 5,
    "start_time": "2023-07-11T12:23:35.680Z"
   },
   {
    "duration": 1106,
    "start_time": "2023-07-11T12:23:36.787Z"
   },
   {
    "duration": 4,
    "start_time": "2023-07-11T12:23:37.895Z"
   },
   {
    "duration": 20,
    "start_time": "2023-07-11T12:23:39.503Z"
   },
   {
    "duration": 29,
    "start_time": "2023-07-11T12:23:39.527Z"
   },
   {
    "duration": 5,
    "start_time": "2023-07-11T12:23:43.395Z"
   },
   {
    "duration": 167,
    "start_time": "2023-07-11T12:23:45.388Z"
   },
   {
    "duration": 9,
    "start_time": "2023-07-11T12:23:46.382Z"
   },
   {
    "duration": 16,
    "start_time": "2023-07-11T12:23:47.856Z"
   },
   {
    "duration": 24,
    "start_time": "2023-07-11T12:24:09.720Z"
   },
   {
    "duration": 12,
    "start_time": "2023-07-11T12:25:27.216Z"
   },
   {
    "duration": 11,
    "start_time": "2023-07-11T12:25:40.895Z"
   },
   {
    "duration": 1434,
    "start_time": "2023-07-11T12:25:54.528Z"
   },
   {
    "duration": 243,
    "start_time": "2023-07-11T12:25:55.964Z"
   },
   {
    "duration": 124,
    "start_time": "2023-07-11T12:25:56.209Z"
   },
   {
    "duration": 7,
    "start_time": "2023-07-11T12:25:56.335Z"
   },
   {
    "duration": 13,
    "start_time": "2023-07-11T12:25:56.344Z"
   },
   {
    "duration": 14,
    "start_time": "2023-07-11T12:25:56.359Z"
   },
   {
    "duration": 42,
    "start_time": "2023-07-11T12:25:56.374Z"
   },
   {
    "duration": 10,
    "start_time": "2023-07-11T12:25:56.419Z"
   },
   {
    "duration": 13,
    "start_time": "2023-07-11T12:25:56.431Z"
   },
   {
    "duration": 17,
    "start_time": "2023-07-11T12:25:56.447Z"
   },
   {
    "duration": 11,
    "start_time": "2023-07-11T12:25:56.466Z"
   },
   {
    "duration": 30,
    "start_time": "2023-07-11T12:25:56.479Z"
   },
   {
    "duration": 17,
    "start_time": "2023-07-11T12:25:56.511Z"
   },
   {
    "duration": 7,
    "start_time": "2023-07-11T12:25:56.530Z"
   },
   {
    "duration": 189,
    "start_time": "2023-07-11T12:25:56.538Z"
   },
   {
    "duration": 8,
    "start_time": "2023-07-11T12:25:56.728Z"
   },
   {
    "duration": 112,
    "start_time": "2023-07-11T12:25:56.738Z"
   },
   {
    "duration": 7,
    "start_time": "2023-07-11T12:25:56.852Z"
   },
   {
    "duration": 36,
    "start_time": "2023-07-11T12:25:56.861Z"
   },
   {
    "duration": 214,
    "start_time": "2023-07-11T12:25:56.900Z"
   },
   {
    "duration": 10,
    "start_time": "2023-07-11T12:25:57.116Z"
   },
   {
    "duration": 28,
    "start_time": "2023-07-11T12:25:57.132Z"
   },
   {
    "duration": 17,
    "start_time": "2023-07-11T12:25:57.163Z"
   },
   {
    "duration": 255,
    "start_time": "2023-07-11T12:25:57.182Z"
   },
   {
    "duration": 11,
    "start_time": "2023-07-11T12:25:57.439Z"
   },
   {
    "duration": 15,
    "start_time": "2023-07-11T12:25:57.452Z"
   },
   {
    "duration": 11,
    "start_time": "2023-07-11T12:25:57.468Z"
   },
   {
    "duration": 271,
    "start_time": "2023-07-11T12:25:57.483Z"
   },
   {
    "duration": 10,
    "start_time": "2023-07-11T12:25:57.755Z"
   },
   {
    "duration": 56,
    "start_time": "2023-07-11T12:25:57.767Z"
   },
   {
    "duration": 9,
    "start_time": "2023-07-11T12:25:57.825Z"
   },
   {
    "duration": 144,
    "start_time": "2023-07-11T12:25:57.836Z"
   },
   {
    "duration": 41,
    "start_time": "2023-07-11T12:25:57.982Z"
   },
   {
    "duration": 217,
    "start_time": "2023-07-11T12:25:58.024Z"
   },
   {
    "duration": 9,
    "start_time": "2023-07-11T12:25:58.243Z"
   },
   {
    "duration": 235,
    "start_time": "2023-07-11T12:25:58.254Z"
   },
   {
    "duration": 23,
    "start_time": "2023-07-11T12:25:58.491Z"
   },
   {
    "duration": 24,
    "start_time": "2023-07-11T12:25:58.516Z"
   },
   {
    "duration": 230,
    "start_time": "2023-07-11T12:25:58.542Z"
   },
   {
    "duration": 10,
    "start_time": "2023-07-11T12:25:58.774Z"
   },
   {
    "duration": 228,
    "start_time": "2023-07-11T12:25:58.786Z"
   },
   {
    "duration": 9,
    "start_time": "2023-07-11T12:25:59.016Z"
   },
   {
    "duration": 283,
    "start_time": "2023-07-11T12:25:59.027Z"
   },
   {
    "duration": 301,
    "start_time": "2023-07-11T12:25:59.312Z"
   },
   {
    "duration": 5,
    "start_time": "2023-07-11T12:25:59.615Z"
   },
   {
    "duration": 942,
    "start_time": "2023-07-11T12:25:59.622Z"
   },
   {
    "duration": 3,
    "start_time": "2023-07-11T12:26:00.566Z"
   },
   {
    "duration": 78,
    "start_time": "2023-07-11T12:26:00.571Z"
   },
   {
    "duration": 60,
    "start_time": "2023-07-11T12:26:00.651Z"
   },
   {
    "duration": 64,
    "start_time": "2023-07-11T12:26:00.713Z"
   },
   {
    "duration": 234,
    "start_time": "2023-07-11T12:26:00.779Z"
   },
   {
    "duration": 8,
    "start_time": "2023-07-11T12:26:01.015Z"
   },
   {
    "duration": 326,
    "start_time": "2023-07-11T12:26:01.025Z"
   },
   {
    "duration": 204,
    "start_time": "2023-07-11T12:26:01.352Z"
   },
   {
    "duration": 319,
    "start_time": "2023-07-11T12:26:01.557Z"
   },
   {
    "duration": 193,
    "start_time": "2023-07-11T12:26:01.878Z"
   },
   {
    "duration": 77,
    "start_time": "2023-07-11T12:26:02.073Z"
   },
   {
    "duration": 49,
    "start_time": "2023-07-11T12:26:02.152Z"
   },
   {
    "duration": 954,
    "start_time": "2023-07-11T12:26:02.204Z"
   },
   {
    "duration": 7,
    "start_time": "2023-07-11T12:26:03.160Z"
   },
   {
    "duration": 169,
    "start_time": "2023-07-11T12:26:03.169Z"
   },
   {
    "duration": 101,
    "start_time": "2023-07-11T12:26:03.340Z"
   },
   {
    "duration": 75,
    "start_time": "2023-07-11T12:26:03.444Z"
   },
   {
    "duration": 253,
    "start_time": "2023-07-11T12:26:03.521Z"
   },
   {
    "duration": 6,
    "start_time": "2023-07-11T12:26:03.776Z"
   },
   {
    "duration": 210,
    "start_time": "2023-07-11T12:26:03.784Z"
   },
   {
    "duration": 8,
    "start_time": "2023-07-11T12:29:05.711Z"
   },
   {
    "duration": 17,
    "start_time": "2023-07-11T12:29:31.238Z"
   },
   {
    "duration": 1493,
    "start_time": "2023-07-11T12:41:09.191Z"
   },
   {
    "duration": 328,
    "start_time": "2023-07-11T12:41:10.687Z"
   },
   {
    "duration": 123,
    "start_time": "2023-07-11T12:41:11.017Z"
   },
   {
    "duration": 7,
    "start_time": "2023-07-11T12:41:11.142Z"
   },
   {
    "duration": 27,
    "start_time": "2023-07-11T12:41:11.152Z"
   },
   {
    "duration": 42,
    "start_time": "2023-07-11T12:41:11.180Z"
   },
   {
    "duration": 23,
    "start_time": "2023-07-11T12:41:11.224Z"
   },
   {
    "duration": 20,
    "start_time": "2023-07-11T12:41:11.250Z"
   },
   {
    "duration": 27,
    "start_time": "2023-07-11T12:41:11.272Z"
   },
   {
    "duration": 19,
    "start_time": "2023-07-11T12:41:11.301Z"
   },
   {
    "duration": 20,
    "start_time": "2023-07-11T12:41:11.322Z"
   },
   {
    "duration": 20,
    "start_time": "2023-07-11T12:41:11.344Z"
   },
   {
    "duration": 14,
    "start_time": "2023-07-11T12:41:11.366Z"
   },
   {
    "duration": 10,
    "start_time": "2023-07-11T12:41:11.384Z"
   },
   {
    "duration": 201,
    "start_time": "2023-07-11T12:41:11.395Z"
   },
   {
    "duration": 12,
    "start_time": "2023-07-11T12:41:11.598Z"
   },
   {
    "duration": 117,
    "start_time": "2023-07-11T12:41:11.611Z"
   },
   {
    "duration": 6,
    "start_time": "2023-07-11T12:41:11.730Z"
   },
   {
    "duration": 41,
    "start_time": "2023-07-11T12:41:11.738Z"
   },
   {
    "duration": 263,
    "start_time": "2023-07-11T12:41:11.781Z"
   },
   {
    "duration": 9,
    "start_time": "2023-07-11T12:41:12.047Z"
   },
   {
    "duration": 46,
    "start_time": "2023-07-11T12:41:12.058Z"
   },
   {
    "duration": 39,
    "start_time": "2023-07-11T12:41:12.106Z"
   },
   {
    "duration": 281,
    "start_time": "2023-07-11T12:41:12.147Z"
   },
   {
    "duration": 10,
    "start_time": "2023-07-11T12:41:12.431Z"
   },
   {
    "duration": 33,
    "start_time": "2023-07-11T12:41:12.443Z"
   },
   {
    "duration": 31,
    "start_time": "2023-07-11T12:41:12.478Z"
   },
   {
    "duration": 264,
    "start_time": "2023-07-11T12:41:12.511Z"
   },
   {
    "duration": 10,
    "start_time": "2023-07-11T12:41:12.777Z"
   },
   {
    "duration": 57,
    "start_time": "2023-07-11T12:41:12.788Z"
   },
   {
    "duration": 12,
    "start_time": "2023-07-11T12:41:12.847Z"
   },
   {
    "duration": 155,
    "start_time": "2023-07-11T12:41:12.862Z"
   },
   {
    "duration": 36,
    "start_time": "2023-07-11T12:41:13.019Z"
   },
   {
    "duration": 42,
    "start_time": "2023-07-11T12:41:13.057Z"
   },
   {
    "duration": 41,
    "start_time": "2023-07-11T12:41:13.101Z"
   },
   {
    "duration": 210,
    "start_time": "2023-07-11T12:41:13.143Z"
   },
   {
    "duration": 11,
    "start_time": "2023-07-11T12:41:13.355Z"
   },
   {
    "duration": 241,
    "start_time": "2023-07-11T12:41:13.367Z"
   },
   {
    "duration": 14,
    "start_time": "2023-07-11T12:41:13.611Z"
   },
   {
    "duration": 23,
    "start_time": "2023-07-11T12:41:13.627Z"
   },
   {
    "duration": 259,
    "start_time": "2023-07-11T12:41:13.655Z"
   },
   {
    "duration": 10,
    "start_time": "2023-07-11T12:41:13.916Z"
   },
   {
    "duration": 230,
    "start_time": "2023-07-11T12:41:13.927Z"
   },
   {
    "duration": 10,
    "start_time": "2023-07-11T12:41:14.159Z"
   },
   {
    "duration": 280,
    "start_time": "2023-07-11T12:41:14.171Z"
   },
   {
    "duration": 261,
    "start_time": "2023-07-11T12:41:14.453Z"
   },
   {
    "duration": 5,
    "start_time": "2023-07-11T12:41:14.716Z"
   },
   {
    "duration": 994,
    "start_time": "2023-07-11T12:41:14.723Z"
   },
   {
    "duration": 4,
    "start_time": "2023-07-11T12:41:15.719Z"
   },
   {
    "duration": 33,
    "start_time": "2023-07-11T12:41:15.725Z"
   },
   {
    "duration": 20,
    "start_time": "2023-07-11T12:41:15.760Z"
   },
   {
    "duration": 5,
    "start_time": "2023-07-11T12:41:15.782Z"
   },
   {
    "duration": 161,
    "start_time": "2023-07-11T12:41:15.789Z"
   },
   {
    "duration": 13,
    "start_time": "2023-07-11T12:41:15.952Z"
   },
   {
    "duration": 96,
    "start_time": "2023-07-11T12:41:15.968Z"
   },
   {
    "duration": 53,
    "start_time": "2023-07-11T12:41:16.067Z"
   },
   {
    "duration": 68,
    "start_time": "2023-07-11T12:41:16.123Z"
   },
   {
    "duration": 34,
    "start_time": "2023-07-11T12:41:16.194Z"
   },
   {
    "duration": 917,
    "start_time": "2023-07-11T12:41:16.231Z"
   },
   {
    "duration": 6,
    "start_time": "2023-07-11T12:41:17.150Z"
   },
   {
    "duration": 31,
    "start_time": "2023-07-11T12:41:17.159Z"
   },
   {
    "duration": 19,
    "start_time": "2023-07-11T12:41:17.193Z"
   },
   {
    "duration": 29,
    "start_time": "2023-07-11T12:41:17.214Z"
   },
   {
    "duration": 260,
    "start_time": "2023-07-11T12:41:17.246Z"
   },
   {
    "duration": 6,
    "start_time": "2023-07-11T12:41:17.508Z"
   },
   {
    "duration": 205,
    "start_time": "2023-07-11T12:41:17.516Z"
   },
   {
    "duration": 1407,
    "start_time": "2023-07-11T13:42:47.849Z"
   },
   {
    "duration": 321,
    "start_time": "2023-07-11T13:42:49.258Z"
   },
   {
    "duration": 86,
    "start_time": "2023-07-11T13:42:49.581Z"
   },
   {
    "duration": 5,
    "start_time": "2023-07-11T13:42:49.669Z"
   },
   {
    "duration": 7,
    "start_time": "2023-07-11T13:42:49.676Z"
   },
   {
    "duration": 7,
    "start_time": "2023-07-11T13:42:49.684Z"
   },
   {
    "duration": 10,
    "start_time": "2023-07-11T13:42:49.693Z"
   },
   {
    "duration": 8,
    "start_time": "2023-07-11T13:42:49.704Z"
   },
   {
    "duration": 10,
    "start_time": "2023-07-11T13:42:49.713Z"
   },
   {
    "duration": 7,
    "start_time": "2023-07-11T13:42:49.755Z"
   },
   {
    "duration": 6,
    "start_time": "2023-07-11T13:42:49.764Z"
   },
   {
    "duration": 8,
    "start_time": "2023-07-11T13:42:49.772Z"
   },
   {
    "duration": 8,
    "start_time": "2023-07-11T13:42:49.781Z"
   },
   {
    "duration": 6,
    "start_time": "2023-07-11T13:42:49.793Z"
   },
   {
    "duration": 207,
    "start_time": "2023-07-11T13:42:49.801Z"
   },
   {
    "duration": 6,
    "start_time": "2023-07-11T13:42:50.011Z"
   },
   {
    "duration": 107,
    "start_time": "2023-07-11T13:42:50.019Z"
   },
   {
    "duration": 6,
    "start_time": "2023-07-11T13:42:50.128Z"
   },
   {
    "duration": 21,
    "start_time": "2023-07-11T13:42:50.137Z"
   },
   {
    "duration": 205,
    "start_time": "2023-07-11T13:42:50.159Z"
   },
   {
    "duration": 8,
    "start_time": "2023-07-11T13:42:50.366Z"
   },
   {
    "duration": 13,
    "start_time": "2023-07-11T13:42:50.376Z"
   },
   {
    "duration": 13,
    "start_time": "2023-07-11T13:42:50.391Z"
   },
   {
    "duration": 258,
    "start_time": "2023-07-11T13:42:50.406Z"
   },
   {
    "duration": 11,
    "start_time": "2023-07-11T13:42:50.666Z"
   },
   {
    "duration": 33,
    "start_time": "2023-07-11T13:42:50.680Z"
   },
   {
    "duration": 25,
    "start_time": "2023-07-11T13:42:50.715Z"
   },
   {
    "duration": 249,
    "start_time": "2023-07-11T13:42:50.742Z"
   },
   {
    "duration": 10,
    "start_time": "2023-07-11T13:42:50.993Z"
   },
   {
    "duration": 58,
    "start_time": "2023-07-11T13:42:51.006Z"
   },
   {
    "duration": 10,
    "start_time": "2023-07-11T13:42:51.065Z"
   },
   {
    "duration": 122,
    "start_time": "2023-07-11T13:42:51.077Z"
   },
   {
    "duration": 6,
    "start_time": "2023-07-11T13:42:51.201Z"
   },
   {
    "duration": 17,
    "start_time": "2023-07-11T13:42:51.209Z"
   },
   {
    "duration": 37,
    "start_time": "2023-07-11T13:42:51.228Z"
   },
   {
    "duration": 203,
    "start_time": "2023-07-11T13:42:51.267Z"
   },
   {
    "duration": 8,
    "start_time": "2023-07-11T13:42:51.472Z"
   },
   {
    "duration": 217,
    "start_time": "2023-07-11T13:42:51.482Z"
   },
   {
    "duration": 9,
    "start_time": "2023-07-11T13:42:51.701Z"
   },
   {
    "duration": 21,
    "start_time": "2023-07-11T13:42:51.712Z"
   },
   {
    "duration": 219,
    "start_time": "2023-07-11T13:42:51.753Z"
   },
   {
    "duration": 10,
    "start_time": "2023-07-11T13:42:51.974Z"
   },
   {
    "duration": 219,
    "start_time": "2023-07-11T13:42:51.986Z"
   },
   {
    "duration": 9,
    "start_time": "2023-07-11T13:42:52.207Z"
   },
   {
    "duration": 273,
    "start_time": "2023-07-11T13:42:52.218Z"
   },
   {
    "duration": 245,
    "start_time": "2023-07-11T13:42:52.493Z"
   },
   {
    "duration": 4,
    "start_time": "2023-07-11T13:42:52.740Z"
   },
   {
    "duration": 958,
    "start_time": "2023-07-11T13:42:52.754Z"
   },
   {
    "duration": 4,
    "start_time": "2023-07-11T13:42:53.713Z"
   },
   {
    "duration": 20,
    "start_time": "2023-07-11T13:42:53.719Z"
   },
   {
    "duration": 24,
    "start_time": "2023-07-11T13:42:53.741Z"
   },
   {
    "duration": 5,
    "start_time": "2023-07-11T13:42:53.767Z"
   },
   {
    "duration": 159,
    "start_time": "2023-07-11T13:42:53.773Z"
   },
   {
    "duration": 7,
    "start_time": "2023-07-11T13:42:53.933Z"
   },
   {
    "duration": 24,
    "start_time": "2023-07-11T13:42:53.942Z"
   },
   {
    "duration": 8,
    "start_time": "2023-07-11T13:42:53.968Z"
   },
   {
    "duration": 11,
    "start_time": "2023-07-11T13:42:53.979Z"
   },
   {
    "duration": 6,
    "start_time": "2023-07-11T13:42:53.992Z"
   },
   {
    "duration": 929,
    "start_time": "2023-07-11T13:42:54.000Z"
   },
   {
    "duration": 5,
    "start_time": "2023-07-11T13:42:54.931Z"
   },
   {
    "duration": 24,
    "start_time": "2023-07-11T13:42:54.955Z"
   },
   {
    "duration": 9,
    "start_time": "2023-07-11T13:42:54.981Z"
   },
   {
    "duration": 26,
    "start_time": "2023-07-11T13:42:54.992Z"
   },
   {
    "duration": 270,
    "start_time": "2023-07-11T13:42:55.021Z"
   },
   {
    "duration": 6,
    "start_time": "2023-07-11T13:42:55.292Z"
   },
   {
    "duration": 193,
    "start_time": "2023-07-11T13:42:55.299Z"
   },
   {
    "duration": 158,
    "start_time": "2023-07-11T13:49:39.967Z"
   },
   {
    "duration": 1576,
    "start_time": "2023-07-12T13:25:57.934Z"
   },
   {
    "duration": 378,
    "start_time": "2023-07-12T13:25:59.512Z"
   },
   {
    "duration": 89,
    "start_time": "2023-07-12T13:25:59.892Z"
   },
   {
    "duration": 7,
    "start_time": "2023-07-12T13:25:59.983Z"
   },
   {
    "duration": 39,
    "start_time": "2023-07-12T13:25:59.991Z"
   },
   {
    "duration": 25,
    "start_time": "2023-07-12T13:26:00.032Z"
   },
   {
    "duration": 27,
    "start_time": "2023-07-12T13:26:00.059Z"
   },
   {
    "duration": 51,
    "start_time": "2023-07-12T13:26:00.088Z"
   },
   {
    "duration": 45,
    "start_time": "2023-07-12T13:26:00.141Z"
   },
   {
    "duration": 51,
    "start_time": "2023-07-12T13:26:00.189Z"
   },
   {
    "duration": 25,
    "start_time": "2023-07-12T13:26:00.241Z"
   },
   {
    "duration": 30,
    "start_time": "2023-07-12T13:26:00.268Z"
   },
   {
    "duration": 59,
    "start_time": "2023-07-12T13:26:00.299Z"
   },
   {
    "duration": 44,
    "start_time": "2023-07-12T13:26:00.359Z"
   },
   {
    "duration": 242,
    "start_time": "2023-07-12T13:26:00.405Z"
   },
   {
    "duration": 7,
    "start_time": "2023-07-12T13:26:00.649Z"
   },
   {
    "duration": 118,
    "start_time": "2023-07-12T13:26:00.669Z"
   },
   {
    "duration": 6,
    "start_time": "2023-07-12T13:26:00.789Z"
   },
   {
    "duration": 44,
    "start_time": "2023-07-12T13:26:00.796Z"
   },
   {
    "duration": 240,
    "start_time": "2023-07-12T13:26:00.843Z"
   },
   {
    "duration": 12,
    "start_time": "2023-07-12T13:26:01.085Z"
   },
   {
    "duration": 42,
    "start_time": "2023-07-12T13:26:01.099Z"
   },
   {
    "duration": 53,
    "start_time": "2023-07-12T13:26:01.144Z"
   },
   {
    "duration": 329,
    "start_time": "2023-07-12T13:26:01.199Z"
   },
   {
    "duration": 9,
    "start_time": "2023-07-12T13:26:01.530Z"
   },
   {
    "duration": 106,
    "start_time": "2023-07-12T13:26:01.541Z"
   },
   {
    "duration": 74,
    "start_time": "2023-07-12T13:26:01.650Z"
   },
   {
    "duration": 262,
    "start_time": "2023-07-12T13:26:01.728Z"
   },
   {
    "duration": 10,
    "start_time": "2023-07-12T13:26:01.992Z"
   },
   {
    "duration": 94,
    "start_time": "2023-07-12T13:26:02.004Z"
   },
   {
    "duration": 37,
    "start_time": "2023-07-12T13:26:02.100Z"
   },
   {
    "duration": 167,
    "start_time": "2023-07-12T13:26:02.139Z"
   },
   {
    "duration": 47,
    "start_time": "2023-07-12T13:26:02.309Z"
   },
   {
    "duration": 42,
    "start_time": "2023-07-12T13:26:02.359Z"
   },
   {
    "duration": 75,
    "start_time": "2023-07-12T13:26:02.403Z"
   },
   {
    "duration": 249,
    "start_time": "2023-07-12T13:26:02.480Z"
   },
   {
    "duration": 12,
    "start_time": "2023-07-12T13:26:02.730Z"
   },
   {
    "duration": 295,
    "start_time": "2023-07-12T13:26:02.744Z"
   },
   {
    "duration": 10,
    "start_time": "2023-07-12T13:26:03.041Z"
   },
   {
    "duration": 98,
    "start_time": "2023-07-12T13:26:03.052Z"
   },
   {
    "duration": 239,
    "start_time": "2023-07-12T13:26:03.152Z"
   },
   {
    "duration": 8,
    "start_time": "2023-07-12T13:26:03.393Z"
   },
   {
    "duration": 218,
    "start_time": "2023-07-12T13:26:03.403Z"
   },
   {
    "duration": 10,
    "start_time": "2023-07-12T13:26:03.623Z"
   },
   {
    "duration": 265,
    "start_time": "2023-07-12T13:26:03.635Z"
   },
   {
    "duration": 315,
    "start_time": "2023-07-12T13:26:03.902Z"
   },
   {
    "duration": 5,
    "start_time": "2023-07-12T13:26:04.219Z"
   },
   {
    "duration": 1003,
    "start_time": "2023-07-12T13:26:04.226Z"
   },
   {
    "duration": 4,
    "start_time": "2023-07-12T13:26:05.231Z"
   },
   {
    "duration": 43,
    "start_time": "2023-07-12T13:26:05.237Z"
   },
   {
    "duration": 34,
    "start_time": "2023-07-12T13:26:05.281Z"
   },
   {
    "duration": 46,
    "start_time": "2023-07-12T13:26:05.317Z"
   },
   {
    "duration": 179,
    "start_time": "2023-07-12T13:26:05.365Z"
   },
   {
    "duration": 7,
    "start_time": "2023-07-12T13:26:05.546Z"
   },
   {
    "duration": 35,
    "start_time": "2023-07-12T13:26:05.554Z"
   },
   {
    "duration": 22,
    "start_time": "2023-07-12T13:26:05.591Z"
   },
   {
    "duration": 26,
    "start_time": "2023-07-12T13:26:05.615Z"
   },
   {
    "duration": 37,
    "start_time": "2023-07-12T13:26:05.643Z"
   },
   {
    "duration": 955,
    "start_time": "2023-07-12T13:26:05.681Z"
   },
   {
    "duration": 6,
    "start_time": "2023-07-12T13:26:06.638Z"
   },
   {
    "duration": 41,
    "start_time": "2023-07-12T13:26:06.646Z"
   },
   {
    "duration": 14,
    "start_time": "2023-07-12T13:26:06.689Z"
   },
   {
    "duration": 9,
    "start_time": "2023-07-12T13:26:06.704Z"
   },
   {
    "duration": 235,
    "start_time": "2023-07-12T13:26:06.714Z"
   },
   {
    "duration": 5,
    "start_time": "2023-07-12T13:26:06.951Z"
   },
   {
    "duration": 193,
    "start_time": "2023-07-12T13:26:06.958Z"
   }
  ],
  "kernelspec": {
   "display_name": "Python 3 (ipykernel)",
   "language": "python",
   "name": "python3"
  },
  "language_info": {
   "codemirror_mode": {
    "name": "ipython",
    "version": 3
   },
   "file_extension": ".py",
   "mimetype": "text/x-python",
   "name": "python",
   "nbconvert_exporter": "python",
   "pygments_lexer": "ipython3",
   "version": "3.10.9"
  },
  "toc": {
   "base_numbering": 1,
   "nav_menu": {},
   "number_sections": true,
   "sideBar": true,
   "skip_h1_title": true,
   "title_cell": "Table of Contents",
   "title_sidebar": "Contents",
   "toc_cell": false,
   "toc_position": {},
   "toc_section_display": true,
   "toc_window_display": false
  }
 },
 "nbformat": 4,
 "nbformat_minor": 5
}
