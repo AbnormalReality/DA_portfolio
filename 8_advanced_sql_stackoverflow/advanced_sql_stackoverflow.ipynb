{
 "cells": [
  {
   "cell_type": "markdown",
   "id": "00593eec",
   "metadata": {},
   "source": [
    "В самостоятельном проекте вы будете работать с базой данных StackOverflow — сервиса вопросов и ответов о программировании. StackOverflow похож на социальную сеть — пользователи сервиса задают вопросы, отвечают на посты, оставляют комментарии и ставят оценки другим ответам.\n",
    "Вы будете работать с версией базы, где хранятся данные о постах за 2008 год, но в таблицах вы найдёте информацию и о более поздних оценках, которые эти посты получили. \n",
    "\n",
    "\n",
    "Проект выполнялся в интерактивном тренажере на платформе Яндекс.Практикума.\n",
    "Состоит из двух частей на 20 задач на составление запросов к базе данных (PostgreSQL) StackOverFlow за 2008 год."
   ]
  },
  {
   "cell_type": "markdown",
   "id": "8dd9a095",
   "metadata": {},
   "source": [
    "### Часть 1:"
   ]
  },
  {
   "cell_type": "code",
   "execution_count": null,
   "id": "d3e6600c",
   "metadata": {},
   "outputs": [],
   "source": [
    "#1.Найдите количество вопросов, которые набрали больше 300 очков или как минимум 100 раз были добавлены в «Закладки».\n",
    "SELECT COUNT(id)\n",
    "FROM stackoverflow.posts\n",
    "WHERE post_type_id = 1 AND (score > 300 OR favorites_count >= 100)\n",
    "GROUP BY post_type_id;"
   ]
  },
  {
   "cell_type": "code",
   "execution_count": null,
   "id": "945ef6c0",
   "metadata": {},
   "outputs": [],
   "source": [
    "#2.Сколько в среднем в день задавали вопросов с 1 по 18 ноября 2008 включительно? Результат округлите до целого числа.\n",
    "SELECT ROUND(AVG(questions_cnt), 0)\n",
    "FROM\n",
    "    (SELECT p.creation_date::date,\n",
    "           COUNT(p.id) AS questions_cnt\n",
    "    FROM stackoverflow.posts AS p\n",
    "    LEFT JOIN stackoverflow.post_types AS pt ON p.post_type_id = pt.id\n",
    "    WHERE pt.type = 'Question' AND p.creation_date::date BETWEEN '2008-11-01' AND '2008-11-18'\n",
    "    GROUP BY 1) AS q "
   ]
  },
  {
   "cell_type": "code",
   "execution_count": null,
   "id": "f178fdfd",
   "metadata": {},
   "outputs": [],
   "source": [
    "#3.Сколько пользователей получили значки сразу в день регистрации? Выведите количество уникальных пользователей.\n",
    "SELECT COUNT(DISTINCT(u.id))\n",
    "FROM stackoverflow.users AS u \n",
    "LEFT JOIN stackoverflow.badges AS b ON u.id = b.user_id\n",
    "WHERE u.creation_date::date = b.creation_date::date"
   ]
  },
  {
   "cell_type": "code",
   "execution_count": null,
   "id": "1e65df5a",
   "metadata": {},
   "outputs": [],
   "source": [
    "#4.Сколько уникальных постов пользователя с именем Joel Coehoorn получили хотя бы один голос?\n",
    "SELECT COUNT(cv.id)\n",
    "FROM (SELECT ps.id\n",
    "      FROM stackoverflow.posts AS ps\n",
    "      JOIN stackoverflow.votes AS v ON ps.id=v.post_id\n",
    "      JOIN stackoverflow.users AS u ON ps.user_id=u.id\n",
    "      WHERE u.display_name LIKE 'Joel Coehoorn' AND v.id > 0\n",
    "      GROUP BY ps.id) AS cv;"
   ]
  },
  {
   "cell_type": "code",
   "execution_count": null,
   "id": "3ca6fda4",
   "metadata": {},
   "outputs": [],
   "source": [
    "#5.Выгрузите все поля таблицы vote_types. Добавьте к таблице поле rank, в которое войдут номера записей в обратном порядке. Таблица должна быть отсортирована по полю id.\n",
    "SELECT *,\n",
    "       RANK() OVER (ORDER BY id DESC)\n",
    "FROM stackoverflow.vote_types \n",
    "ORDER BY id"
   ]
  },
  {
   "cell_type": "code",
   "execution_count": null,
   "id": "b29ee65e",
   "metadata": {},
   "outputs": [],
   "source": [
    "#6.Отберите 10 пользователей, которые поставили больше всего голосов типа Close. Отобразите таблицу из двух полей: идентификатором пользователя и количеством голосов. Отсортируйте данные сначала по убыванию количества голосов, потом по убыванию значения идентификатора пользователя.\n",
    "SELECT u.id AS user_id,\n",
    "       COUNT(v.id) AS votes_cnt\n",
    "FROM stackoverflow.users AS u\n",
    "JOIN stackoverflow.votes AS v ON u.id = v.user_id\n",
    "JOIN stackoverflow.vote_types AS vt ON v.vote_type_id = vt.id\n",
    "WHERE vt.name = 'Close'\n",
    "GROUP BY u.id\n",
    "ORDER BY votes_cnt DESC, user_id DESC\n",
    "LIMIT 10"
   ]
  },
  {
   "cell_type": "code",
   "execution_count": null,
   "id": "a66909f8",
   "metadata": {},
   "outputs": [],
   "source": [
    "#7.Отберите 10 пользователей по количеству значков, полученных в период с 15 ноября по 15 декабря 2008 года включительно.\n",
    "#Отобразите несколько полей:\n",
    "#идентификатор пользователя;\n",
    "#число значков;\n",
    "#место в рейтинге — чем больше значков, тем выше рейтинг.\n",
    "#Пользователям, которые набрали одинаковое количество значков, присвойте одно и то же место в рейтинге.\n",
    "#Отсортируйте записи по количеству значков по убыванию, а затем по возрастанию значения идентификатора пользователя.\n",
    "SELECT user_id,\n",
    "       COUNT(id) AS b_cnt,\n",
    "       DENSE_RANK() OVER (ORDER BY COUNT(id) DESC)\n",
    "FROM stackoverflow.badges\n",
    "WHERE creation_date::date BETWEEN '2008-11-15' AND '2008-12-15'\n",
    "GROUP BY user_id\n",
    "ORDER BY b_cnt DESC, user_id\n",
    "LIMIT 10"
   ]
  },
  {
   "cell_type": "code",
   "execution_count": null,
   "id": "ae52b524",
   "metadata": {},
   "outputs": [],
   "source": [
    "#8.Сколько в среднем очков получает пост каждого пользователя?\n",
    "#Сформируйте таблицу из следующих полей:\n",
    "#заголовок поста;\n",
    "#идентификатор пользователя;\n",
    "#число очков поста;\n",
    "#среднее число очков пользователя за пост, округлённое до целого числа.\n",
    "#Не учитывайте посты без заголовка, а также те, что набрали ноль очков.\n",
    "SELECT title,\n",
    "       user_id,\n",
    "       score,\n",
    "       ROUND(AVG(score) OVER (PARTITION BY user_id))\n",
    "FROM stackoverflow.posts\n",
    "WHERE title != '' AND score != 0"
   ]
  },
  {
   "cell_type": "code",
   "execution_count": null,
   "id": "417dac9f",
   "metadata": {},
   "outputs": [],
   "source": [
    "#9.Отобразите заголовки постов, которые были написаны пользователями, получившими более 1000 значков. Посты без заголовков не должны попасть в список.\n",
    "SELECT title\n",
    "FROM stackoverflow.posts\n",
    "WHERE user_id IN\n",
    "    (SELECT user_id\n",
    "    FROM stackoverflow.badges\n",
    "    GROUP BY user_id\n",
    "    HAVING COUNT(id) > 1000)\n",
    "AND title IS NOT NULL"
   ]
  },
  {
   "cell_type": "code",
   "execution_count": null,
   "id": "19aadf4b",
   "metadata": {},
   "outputs": [],
   "source": [
    "#10.Напишите запрос, который выгрузит данные о пользователях из Канады (англ. Canada). Разделите пользователей на три группы в зависимости от количества просмотров их профилей:\n",
    "#пользователям с числом просмотров больше либо равным 350 присвойте группу 1;\n",
    "#пользователям с числом просмотров меньше 350, но больше либо равно 100 — группу 2;\n",
    "#пользователям с числом просмотров меньше 100 — группу 3.\n",
    "#Отобразите в итоговой таблице идентификатор пользователя, количество просмотров профиля и группу. Пользователи с нулевым количеством просмотров не должны войти в итоговую таблицу.\n",
    "SELECT id,\n",
    "       views,\n",
    "       CASE\n",
    "           WHEN views >= 350 THEN 1\n",
    "           WHEN views < 350 AND views >= 100 THEN 2\n",
    "           WHEN views < 100 THEN 3\n",
    "           END AS group_number\n",
    "FROM stackoverflow.users\n",
    "WHERE location LIKE '%Canada%' AND views != 0\n",
    "ORDER BY views DESC"
   ]
  },
  {
   "cell_type": "code",
   "execution_count": null,
   "id": "9321b75b",
   "metadata": {},
   "outputs": [],
   "source": [
    "#11.Дополните предыдущий запрос. Отобразите лидеров каждой группы — пользователей, которые набрали максимальное число просмотров в своей группе. Выведите поля с идентификатором пользователя, группой и количеством просмотров. Отсортируйте таблицу по убыванию просмотров, а затем по возрастанию значения идентификатора.\n",
    "WITH users_us AS\n",
    "    (\n",
    "    SELECT id,\n",
    "           views,\n",
    "           CASE\n",
    "               WHEN views >= 350 THEN 1\n",
    "               WHEN views < 350 AND views >= 100 THEN 2\n",
    "               WHEN views < 100 THEN 3\n",
    "               END AS group_number\n",
    "    FROM stackoverflow.users\n",
    "    WHERE location LIKE '%Canada%' AND views != 0\n",
    "    ORDER BY views DESC\n",
    "    )\n",
    "\n",
    "SELECT id,\n",
    "       group_number,\n",
    "       views\n",
    "FROM       \n",
    "    (SELECT *,\n",
    "           MAX(views) OVER (PARTITION BY group_number ORDER BY views DESC) AS max_views\n",
    "    FROM users_us) AS top_us\n",
    "WHERE views = max_views\n",
    "ORDER BY views DESC, id"
   ]
  },
  {
   "cell_type": "code",
   "execution_count": null,
   "id": "5cf5bfe3",
   "metadata": {},
   "outputs": [],
   "source": [
    "#12.Посчитайте ежедневный прирост новых пользователей в ноябре 2008 года. Сформируйте таблицу с полями:\n",
    "#номер дня;\n",
    "#число пользователей, зарегистрированных в этот день;\n",
    "#сумму пользователей с накоплением.\n",
    "WITH users_cnt_nov AS (\n",
    "    SELECT EXTRACT(DAY FROM creation_date) AS day,\n",
    "           COUNT(id) AS users_cnt\n",
    "    FROM stackoverflow.users\n",
    "    WHERE creation_date::date BETWEEN '2008-11-01' AND '2008-11-30'\n",
    "    GROUP BY EXTRACT(DAY FROM creation_date)\n",
    "    )\n",
    "SELECT day,\n",
    "       users_cnt,\n",
    "       SUM(users_cnt) OVER (ORDER BY day)\n",
    "FROM users_cnt_nov "
   ]
  },
  {
   "cell_type": "code",
   "execution_count": null,
   "id": "cc80dc18",
   "metadata": {},
   "outputs": [],
   "source": [
    "#13.Для каждого пользователя, который написал хотя бы один пост, найдите интервал между регистрацией и временем создания первого поста. Отобразите:\n",
    "#идентификатор пользователя;\n",
    "#разницу во времени между регистрацией и первым постом.\n",
    "SELECT DISTINCT(p.user_id),\n",
    "       MIN(p.creation_date) OVER (PARTITION BY p.user_id) - u.creation_date AS interval\n",
    "FROM stackoverflow.posts AS p\n",
    "LEFT JOIN stackoverflow.users AS u ON p.user_id = u.id"
   ]
  },
  {
   "cell_type": "markdown",
   "id": "92338c7d",
   "metadata": {},
   "source": [
    "### Часть 2:"
   ]
  },
  {
   "cell_type": "code",
   "execution_count": null,
   "id": "cbbf201b",
   "metadata": {},
   "outputs": [],
   "source": [
    "#1.Выведите общую сумму просмотров у постов, опубликованных в каждый месяц 2008 года. Если данных за какой-либо месяц в базе нет, такой месяц можно пропустить. Результат отсортируйте по убыванию общего количества просмотров.\n",
    "SELECT DATE_TRUNC('month', creation_date)::date,\n",
    "       SUM(views_count)\n",
    "FROM stackoverflow.posts\n",
    "WHERE EXTRACT(YEAR FROM creation_date) = 2008\n",
    "GROUP BY 1\n",
    "ORDER BY 2 DESC"
   ]
  },
  {
   "cell_type": "code",
   "execution_count": null,
   "id": "59fa7547",
   "metadata": {},
   "outputs": [],
   "source": [
    "#2.Выведите имена самых активных пользователей, которые в первый месяц после регистрации (включая день регистрации) дали больше 100 ответов. Вопросы, которые задавали пользователи, не учитывайте. Для каждого имени пользователя выведите количество уникальных значений user_id. Отсортируйте результат по полю с именами в лексикографическом порядке.\n",
    "SELECT u.display_name,\n",
    "       COUNT(DISTINCT p.user_id)\n",
    "FROM stackoverflow.users AS u\n",
    "JOIN stackoverflow.posts AS p ON u.id = p.user_id\n",
    "JOIN stackoverflow.post_types AS pt ON p.post_type_id = pt.id\n",
    "WHERE p.creation_date::date BETWEEN u.creation_date::date AND u.creation_date::date + INTERVAL '1 month'\n",
    "AND pt.type = 'Answer'\n",
    "GROUP BY u.display_name\n",
    "HAVING COUNT(DISTINCT p.id) > 100"
   ]
  },
  {
   "cell_type": "code",
   "execution_count": null,
   "id": "6964a9a2",
   "metadata": {},
   "outputs": [],
   "source": [
    "#3.Выведите количество постов за 2008 год по месяцам. Отберите посты от пользователей, которые зарегистрировались в сентябре 2008 года и сделали хотя бы один пост в декабре того же года. Отсортируйте таблицу по значению месяца по убыванию.\n",
    "SELECT DATE_TRUNC('month', creation_date)::date AS post_month,\n",
    "       COUNT(DISTINCT id) post_cnt\n",
    "FROM stackoverflow.posts\n",
    "WHERE user_id IN (\n",
    "    SELECT DISTINCT u.id\n",
    "    FROM stackoverflow.users AS u\n",
    "    JOIN stackoverflow.posts AS p ON u.id = p.user_id\n",
    "    WHERE u.creation_date::date BETWEEN '2008-09-01' AND '2008-09-30'\n",
    "    AND p.creation_date::date BETWEEN '2008-12-01' AND '2008-12-31'\n",
    "    )\n",
    "AND EXTRACT(YEAR FROM creation_date) = 2008\n",
    "GROUP BY 1\n",
    "ORDER BY 1 DESC"
   ]
  },
  {
   "cell_type": "code",
   "execution_count": null,
   "id": "a6f00a0c",
   "metadata": {},
   "outputs": [],
   "source": [
    "#4.Используя данные о постах, выведите несколько полей:\n",
    "#идентификатор пользователя, который написал пост;\n",
    "#дата создания поста;\n",
    "#количество просмотров у текущего поста;\n",
    "#сумма просмотров постов автора с накоплением.\n",
    "#Данные в таблице должны быть отсортированы по возрастанию идентификаторов пользователей, а данные об одном и том же пользователе — по возрастанию даты создания поста.\n",
    "SELECT user_id,\n",
    "       creation_date,\n",
    "       views_count,\n",
    "       SUM(views_count) OVER (PARTITION BY user_id ORDER BY creation_date)\n",
    "FROM stackoverflow.posts\n",
    "ORDER BY 1, 2"
   ]
  },
  {
   "cell_type": "code",
   "execution_count": null,
   "id": "3cb1c23d",
   "metadata": {},
   "outputs": [],
   "source": [
    "#5.Сколько в среднем дней в период с 1 по 7 декабря 2008 года включительно пользователи взаимодействовали с платформой? Для каждого пользователя отберите дни, в которые он или она опубликовали хотя бы один пост. Нужно получить одно целое число — не забудьте округлить результат.\n",
    "SELECT ROUND(AVG(days_cnt))\n",
    "FROM \n",
    "    (SELECT user_id,\n",
    "           COUNT(DISTINCT creation_date::date) days_cnt\n",
    "    FROM stackoverflow.posts\n",
    "    WHERE creation_date::date BETWEEN '2008-12-01' AND '2008-12-07'\n",
    "    GROUP BY user_id) AS active_days"
   ]
  },
  {
   "cell_type": "code",
   "execution_count": null,
   "id": "678809a8",
   "metadata": {},
   "outputs": [],
   "source": [
    "#6.На сколько процентов менялось количество постов ежемесячно с 1 сентября по 31 декабря 2008 года? Отобразите таблицу со следующими полями:\n",
    "#Номер месяца.\n",
    "#Количество постов за месяц.\n",
    "#Процент, который показывает, насколько изменилось количество постов в текущем месяце по сравнению с предыдущим.\n",
    "#Если постов стало меньше, значение процента должно быть отрицательным, если больше — положительным. Округлите значение процента до двух знаков после запятой.\n",
    "#Напомним, что при делении одного целого числа на другое в PostgreSQL в результате получится целое число, округлённое до ближайшего целого вниз. Чтобы этого избежать, переведите делимое в тип numeric.\n",
    "SELECT posts_month,\n",
    "       posts_cnt,\n",
    "       ROUND( (posts_cnt - LAG(posts_cnt) OVER () )* 100/ LAG(posts_cnt) OVER () :: numeric, 2)\n",
    "FROM       \n",
    "    (SELECT EXTRACT(MONTH FROM creation_date::date) AS posts_month,\n",
    "           COUNT(id) AS posts_cnt\n",
    "    FROM stackoverflow.posts\n",
    "    WHERE creation_date::date BETWEEN '2008-09-01' AND '2008-12-31'\n",
    "    GROUP BY EXTRACT(MONTH FROM creation_date::date)\n",
    "     ) AS raw"
   ]
  },
  {
   "cell_type": "code",
   "execution_count": null,
   "id": "5064c703",
   "metadata": {},
   "outputs": [],
   "source": [
    "#7.Найдите пользователя, который опубликовал больше всего постов за всё время с момента регистрации. Выведите данные его активности за октябрь 2008 года в таком виде:\n",
    "#номер недели;\n",
    "#дата и время последнего поста, опубликованного на этой неделе.\n",
    "WITH week AS (   \n",
    "      SELECT EXTRACT(WEEK FROM creation_date) AS week_number,\n",
    "             MAX(creation_date) OVER (ORDER BY EXTRACT(WEEK FROM creation_date))\n",
    "        FROM stackoverflow.posts \n",
    "       WHERE user_id = (\n",
    "                 SELECT user_id\n",
    "                   FROM stackoverflow.posts \n",
    "               GROUP BY user_id \n",
    "               ORDER BY COUNT(id) DESC\n",
    "                  LIMIT 1\n",
    "                     ) \n",
    "        AND creation_date::date BETWEEN '2008-10-01' AND '2008-10-31'          \n",
    "   ORDER BY creation_date\n",
    "             )\n",
    "   \n",
    "SELECT DISTINCT *\n",
    "FROM week\n",
    "ORDER BY week_number"
   ]
  }
 ],
 "metadata": {
  "kernelspec": {
   "display_name": "Python 3 (ipykernel)",
   "language": "python",
   "name": "python3"
  },
  "language_info": {
   "codemirror_mode": {
    "name": "ipython",
    "version": 3
   },
   "file_extension": ".py",
   "mimetype": "text/x-python",
   "name": "python",
   "nbconvert_exporter": "python",
   "pygments_lexer": "ipython3",
   "version": "3.10.9"
  }
 },
 "nbformat": 4,
 "nbformat_minor": 5
}
