{
 "cells": [
  {
   "cell_type": "markdown",
   "metadata": {
    "deletable": false,
    "editable": false,
    "id": "E0vqbgi9ay0H"
   },
   "source": [
    "# Яндекс.Музыка"
   ]
  },
  {
   "cell_type": "markdown",
   "metadata": {
    "deletable": false,
    "editable": false,
    "id": "VUC88oWjTJw2"
   },
   "source": [
    "Сравнение Москвы и Петербурга окружено мифами. Например:\n",
    " * Москва — мегаполис, подчинённый жёсткому ритму рабочей недели;\n",
    " * Петербург — культурная столица, со своими вкусами.\n",
    "\n",
    "На данных Яндекс Музыки вы сравните поведение пользователей двух столиц.\n",
    "\n",
    "**Цель исследования** — проверьте три гипотезы:\n",
    "1. Активность пользователей зависит от дня недели. Причём в Москве и Петербурге это проявляется по-разному.\n",
    "2. В понедельник утром в Москве преобладают одни жанры, а в Петербурге — другие. Так же и вечером пятницы преобладают разные жанры — в зависимости от города. \n",
    "3. Москва и Петербург предпочитают разные жанры музыки. В Москве чаще слушают поп-музыку, в Петербурге — русский рэп.\n",
    "\n",
    "**Ход исследования**\n",
    "\n",
    "Данные о поведении пользователей вы получите из файла `yandex_music_project.csv`. О качестве данных ничего не известно. Поэтому перед проверкой гипотез понадобится обзор данных. \n",
    "\n",
    "Вы проверите данные на ошибки и оцените их влияние на исследование. Затем, на этапе предобработки вы поищете возможность исправить самые критичные ошибки данных.\n",
    " \n",
    "Таким образом, исследование пройдёт в три этапа:\n",
    " 1. Обзор данных.\n",
    " 2. Предобработка данных.\n",
    " 3. Проверка гипотез.\n",
    "\n"
   ]
  },
  {
   "cell_type": "markdown",
   "metadata": {
    "deletable": false,
    "editable": false,
    "id": "Ml1hmfXC_Zcs"
   },
   "source": [
    "## Обзор данных\n",
    "\n",
    "Составьте первое представление о данных Яндекс Музыки.\n",
    "\n",
    "\n"
   ]
  },
  {
   "cell_type": "markdown",
   "metadata": {
    "deletable": false,
    "editable": false,
    "id": "57eAOGIz_Zcs",
    "tags": [
     "start_task"
    ]
   },
   "source": [
    "**Задание 1**\n",
    "\n",
    "Основной инструмент аналитика — `pandas`. Импортируйте эту библиотеку."
   ]
  },
  {
   "cell_type": "code",
   "execution_count": 1,
   "metadata": {
    "deletable": false,
    "id": "AXN7PHPN_Zcs"
   },
   "outputs": [],
   "source": [
    "import pandas as pd # импорт библиотеки pandas"
   ]
  },
  {
   "cell_type": "markdown",
   "metadata": {
    "deletable": false,
    "editable": false,
    "id": "SG23P8tt_Zcs",
    "tags": [
     "start_task"
    ]
   },
   "source": [
    "**Задание 2**\n",
    "\n",
    "Прочитайте файл `yandex_music_project.csv` из папки `/datasets` и сохраните его в переменной `df`:"
   ]
  },
  {
   "cell_type": "code",
   "execution_count": 2,
   "metadata": {
    "deletable": false,
    "id": "fFVu7vqh_Zct"
   },
   "outputs": [],
   "source": [
    "df = pd.read_csv('/datasets/yandex_music_project.csv') # чтение файла с данными и сохранение в df"
   ]
  },
  {
   "cell_type": "markdown",
   "metadata": {
    "deletable": false,
    "editable": false,
    "id": "rDoOMd3uTqnZ",
    "tags": [
     "start_task"
    ]
   },
   "source": [
    "**Задание 3**\n",
    "\n",
    "\n",
    "Выведите на экран первые десять строк таблицы:"
   ]
  },
  {
   "cell_type": "code",
   "execution_count": 3,
   "metadata": {
    "deletable": false,
    "id": "oWTVX3gW_Zct"
   },
   "outputs": [
    {
     "name": "stdout",
     "output_type": "stream",
     "text": [
      "     userID                        Track            artist   genre  \\\n",
      "0  FFB692EC            Kamigata To Boots  The Mass Missile    rock   \n",
      "1  55204538  Delayed Because of Accident  Andreas Rönnberg    rock   \n",
      "2    20EC38            Funiculì funiculà       Mario Lanza     pop   \n",
      "3  A3DD03C9        Dragons in the Sunset        Fire + Ice    folk   \n",
      "4  E2DC1FAE                  Soul People        Space Echo   dance   \n",
      "5  842029A1                    Преданная         IMPERVTOR  rusrap   \n",
      "6  4CB90AA5                         True      Roman Messer   dance   \n",
      "7  F03E1C1F             Feeling This Way   Polina Griffith   dance   \n",
      "8  8FA1D3BE     И вновь продолжается бой               NaN  ruspop   \n",
      "9  E772D5C0                    Pessimist               NaN   dance   \n",
      "\n",
      "             City        time        Day  \n",
      "0  Saint-Petersburg  20:28:33  Wednesday  \n",
      "1            Moscow  14:07:09     Friday  \n",
      "2  Saint-Petersburg  20:58:07  Wednesday  \n",
      "3  Saint-Petersburg  08:37:09     Monday  \n",
      "4            Moscow  08:34:34     Monday  \n",
      "5  Saint-Petersburg  13:09:41     Friday  \n",
      "6            Moscow  13:00:07  Wednesday  \n",
      "7            Moscow  20:47:49  Wednesday  \n",
      "8            Moscow  09:17:40     Friday  \n",
      "9  Saint-Petersburg  21:20:49  Wednesday  \n"
     ]
    }
   ],
   "source": [
    "print(df.head(10)) # получение первых 10 строк таблицы df"
   ]
  },
  {
   "cell_type": "markdown",
   "metadata": {
    "deletable": false,
    "editable": false,
    "id": "EO73Kwic_Zct",
    "tags": [
     "start_task"
    ]
   },
   "source": [
    "**Задание 4**\n",
    "\n",
    "\n",
    "Одной командой получить общую информацию о таблице c помощью метода `info()`:"
   ]
  },
  {
   "cell_type": "code",
   "execution_count": 4,
   "metadata": {
    "deletable": false,
    "id": "DSf2kIb-_Zct"
   },
   "outputs": [
    {
     "name": "stdout",
     "output_type": "stream",
     "text": [
      "<class 'pandas.core.frame.DataFrame'>\n",
      "RangeIndex: 65079 entries, 0 to 65078\n",
      "Data columns (total 7 columns):\n",
      " #   Column    Non-Null Count  Dtype \n",
      "---  ------    --------------  ----- \n",
      " 0     userID  65079 non-null  object\n",
      " 1   Track     63848 non-null  object\n",
      " 2   artist    57876 non-null  object\n",
      " 3   genre     63881 non-null  object\n",
      " 4     City    65079 non-null  object\n",
      " 5   time      65079 non-null  object\n",
      " 6   Day       65079 non-null  object\n",
      "dtypes: object(7)\n",
      "memory usage: 3.5+ MB\n"
     ]
    }
   ],
   "source": [
    "df.info() # получение общей информации о данных в таблице df"
   ]
  },
  {
   "cell_type": "markdown",
   "metadata": {
    "deletable": false,
    "editable": false,
    "id": "TaQ2Iwbr_Zct"
   },
   "source": [
    "Итак, в таблице семь столбцов. Тип данных во всех столбцах — `object`.\n",
    "\n",
    "Согласно документации к данным:\n",
    "* `userID` — идентификатор пользователя;\n",
    "* `Track` — название трека;  \n",
    "* `artist` — имя исполнителя;\n",
    "* `genre` — название жанра;\n",
    "* `City` — город пользователя;\n",
    "* `time` — время начала прослушивания;\n",
    "* `Day` — день недели.\n",
    "\n",
    "Количество значений в столбцах различается. Значит, в данных есть пропущенные значения."
   ]
  },
  {
   "cell_type": "markdown",
   "metadata": {
    "deletable": false,
    "editable": false,
    "id": "4P0UCWzswgEm",
    "tags": [
     "start_task"
    ]
   },
   "source": [
    "**Задание 5**\n",
    "\n",
    "**Вопрос со свободной формой ответа**\n",
    "\n",
    "В названиях колонок видны три нарушения стиля:\n",
    "1. Строчные буквы сочетаются с прописными.\n",
    "2. Встречаются пробелы."
   ]
  },
  {
   "cell_type": "markdown",
   "metadata": {
    "deletable": false,
    "editable": false,
    "id": "MCB6-dXG_Zct"
   },
   "source": [
    "**Выводы**\n",
    "\n",
    "В каждой строке таблицы — данные о прослушанном треке. Часть колонок описывает саму композицию: название, исполнителя и жанр. Остальные данные рассказывают о пользователе: из какого он города, когда он слушал музыку. \n",
    "\n",
    "Предварительно можно утверждать, что, данных достаточно для проверки гипотез. Но встречаются пропуски в данных, а в названиях колонок — расхождения с хорошим стилем.\n",
    "\n",
    "Чтобы двигаться дальше, нужно устранить проблемы в данных."
   ]
  },
  {
   "cell_type": "markdown",
   "metadata": {
    "deletable": false,
    "editable": false,
    "id": "SjYF6Ub9_Zct"
   },
   "source": [
    "## Предобработка данных\n",
    "Исправьте стиль в заголовках столбцов, исключите пропуски. Затем проверьте данные на дубликаты."
   ]
  },
  {
   "cell_type": "markdown",
   "metadata": {
    "deletable": false,
    "editable": false,
    "id": "dIaKXr29_Zct",
    "tags": [
     "start_task"
    ]
   },
   "source": [
    "### Стиль заголовков\n",
    "\n",
    "**Задание 6**\n",
    "\n",
    "Выведите на экран названия столбцов:"
   ]
  },
  {
   "cell_type": "code",
   "execution_count": 6,
   "metadata": {
    "deletable": false,
    "id": "oKOTdF_Q_Zct"
   },
   "outputs": [
    {
     "name": "stdout",
     "output_type": "stream",
     "text": [
      "Index(['  userID', 'Track', 'artist', 'genre', '  City  ', 'time', 'Day'], dtype='object')\n"
     ]
    }
   ],
   "source": [
    "print(df.columns) # перечень названий столбцов таблицы df"
   ]
  },
  {
   "cell_type": "markdown",
   "metadata": {
    "deletable": false,
    "editable": false,
    "id": "zj5534cv_Zct",
    "tags": [
     "start_task"
    ]
   },
   "source": [
    "**Задание 7**\n",
    "\n",
    "\n",
    "Приведите названия в соответствие с хорошим стилем:\n",
    "* несколько слов в названии запишите в «змеином_регистре»,\n",
    "* все символы сделайте строчными,\n",
    "* устраните пробелы.\n",
    "\n",
    "Для этого переименуйте колонки так:\n",
    "* `'  userID'` → `'user_id'`;\n",
    "* `'Track'` → `'track'`;\n",
    "* `'  City  '` → `'city'`;\n",
    "* `'Day'` → `'day'`."
   ]
  },
  {
   "cell_type": "code",
   "execution_count": 7,
   "metadata": {
    "deletable": false,
    "id": "ISlFqs5y_Zct"
   },
   "outputs": [],
   "source": [
    "df = df.rename(columns = {'  userID':'user_id', 'Track':'track', '  City  ':'city', 'Day':'day'}) # переименование столбцов"
   ]
  },
  {
   "cell_type": "markdown",
   "metadata": {
    "deletable": false,
    "editable": false,
    "id": "1dqbh00J_Zct",
    "tags": [
     "start_task"
    ]
   },
   "source": [
    "**Задание 8**\n",
    "\n",
    "\n",
    "Проверьте результат. Для этого ещё раз выведите на экран названия столбцов:"
   ]
  },
  {
   "cell_type": "code",
   "execution_count": 8,
   "metadata": {
    "deletable": false,
    "id": "d4NOAmTW_Zct"
   },
   "outputs": [
    {
     "name": "stdout",
     "output_type": "stream",
     "text": [
      "Index(['user_id', 'track', 'artist', 'genre', 'city', 'time', 'day'], dtype='object')\n"
     ]
    }
   ],
   "source": [
    "print(df.columns) # проверка результатов - перечень названий столбцов"
   ]
  },
  {
   "cell_type": "markdown",
   "metadata": {
    "deletable": false,
    "editable": false,
    "id": "5ISfbcfY_Zct",
    "tags": [
     "start_task"
    ]
   },
   "source": [
    "### Пропуски значений\n",
    "\n",
    "**Задание 9**\n",
    "\n",
    "Сначала посчитайте, сколько в таблице пропущенных значений. Для этого достаточно двух методов `pandas`:"
   ]
  },
  {
   "cell_type": "code",
   "execution_count": 9,
   "metadata": {
    "deletable": false,
    "id": "RskX29qr_Zct"
   },
   "outputs": [
    {
     "name": "stdout",
     "output_type": "stream",
     "text": [
      "user_id       0\n",
      "track      1231\n",
      "artist     7203\n",
      "genre      1198\n",
      "city          0\n",
      "time          0\n",
      "day           0\n",
      "dtype: int64\n"
     ]
    }
   ],
   "source": [
    "print(df.isna().sum()) # подсчёт пропусков"
   ]
  },
  {
   "cell_type": "markdown",
   "metadata": {
    "deletable": false,
    "editable": false,
    "id": "qubhgnlO_Zct"
   },
   "source": [
    "Не все пропущенные значения влияют на исследование. Так в `track` и `artist` пропуски не важны для вашей работы. Достаточно заменить их явными обозначениями.\n",
    "\n",
    "Но пропуски в `genre` могут помешать сравнению музыкальных вкусов в Москве и Санкт-Петербурге. На практике было бы правильно установить причину пропусков и восстановить данные. Такой возможности нет в учебном проекте. Придётся:\n",
    "* заполнить и эти пропуски явными обозначениями,\n",
    "* оценить, насколько они повредят расчётам. "
   ]
  },
  {
   "cell_type": "markdown",
   "metadata": {
    "deletable": false,
    "editable": false,
    "id": "fSv2laPA_Zct",
    "tags": [
     "start_task"
    ]
   },
   "source": [
    "**Задание 10**\n",
    "\n",
    "Замените пропущенные значения в столбцах `track`, `artist` и `genre` на строку `'unknown'`. Для этого создайте список `columns_to_replace`, переберите его элементы циклом `for` и для каждого столбца выполните замену пропущенных значений:"
   ]
  },
  {
   "cell_type": "code",
   "execution_count": 10,
   "metadata": {
    "deletable": false,
    "id": "KplB5qWs_Zct"
   },
   "outputs": [],
   "source": [
    "# перебор названий столбцов в цикле и замена пропущенных значений на 'unknown'\n",
    "columns_to_replace = ['track', 'artist', 'genre']\n",
    "for column in columns_to_replace:\n",
    "    df[column] = df[column].fillna('unknown')"
   ]
  },
  {
   "cell_type": "markdown",
   "metadata": {
    "deletable": false,
    "editable": false,
    "id": "Ilsm-MZo_Zct",
    "tags": [
     "start_task"
    ]
   },
   "source": [
    "**Задание 11**\n",
    "\n",
    "Убедитесь, что в таблице не осталось пропусков. Для этого ещё раз посчитайте пропущенные значения."
   ]
  },
  {
   "cell_type": "code",
   "execution_count": 11,
   "metadata": {
    "deletable": false,
    "id": "Tq4nYRX4_Zct"
   },
   "outputs": [
    {
     "name": "stdout",
     "output_type": "stream",
     "text": [
      "user_id    0\n",
      "track      0\n",
      "artist     0\n",
      "genre      0\n",
      "city       0\n",
      "time       0\n",
      "day        0\n",
      "dtype: int64\n"
     ]
    }
   ],
   "source": [
    "print(df.isna().sum()) # подсчёт пропусков"
   ]
  },
  {
   "cell_type": "markdown",
   "metadata": {
    "deletable": false,
    "editable": false,
    "id": "BWKRtBJ3_Zct",
    "tags": [
     "start_task"
    ]
   },
   "source": [
    "### Дубликаты\n",
    "\n",
    "**Задание 12**\n",
    "\n",
    "Посчитайте явные дубликаты в таблице одной командой:"
   ]
  },
  {
   "cell_type": "code",
   "execution_count": 12,
   "metadata": {
    "deletable": false,
    "id": "36eES_S0_Zct"
   },
   "outputs": [
    {
     "name": "stdout",
     "output_type": "stream",
     "text": [
      "3826\n"
     ]
    }
   ],
   "source": [
    "print(df.duplicated().sum())  #подсчёт явных дубликатов"
   ]
  },
  {
   "cell_type": "markdown",
   "metadata": {
    "deletable": false,
    "editable": false,
    "id": "Ot25h6XR_Zct",
    "tags": [
     "start_task"
    ]
   },
   "source": [
    "**Задание 13**\n",
    "\n",
    "Вызовите специальный метод `pandas`, чтобы удалить явные дубликаты:"
   ]
  },
  {
   "cell_type": "code",
   "execution_count": 13,
   "metadata": {
    "deletable": false,
    "id": "exFHq6tt_Zct"
   },
   "outputs": [],
   "source": [
    "df=df.drop_duplicates() # удаление явных дубликатов (с удалением старых индексов и формированием новых)"
   ]
  },
  {
   "cell_type": "markdown",
   "metadata": {
    "deletable": false,
    "editable": false,
    "id": "Im2YwBEG_Zct",
    "tags": [
     "start_task"
    ]
   },
   "source": [
    "**Задание 14**\n",
    "\n",
    "Ещё раз посчитайте явные дубликаты в таблице — убедитесь, что полностью от них избавились:"
   ]
  },
  {
   "cell_type": "code",
   "execution_count": 14,
   "metadata": {
    "deletable": false,
    "id": "-8PuNWQ0_Zct"
   },
   "outputs": [
    {
     "data": {
      "text/plain": [
       "0"
      ]
     },
     "execution_count": 14,
     "metadata": {},
     "output_type": "execute_result"
    }
   ],
   "source": [
    "df.duplicated().sum() # проверка на отсутствие дубликатов"
   ]
  },
  {
   "cell_type": "markdown",
   "metadata": {
    "deletable": false,
    "editable": false,
    "id": "QlFBsxAr_Zct"
   },
   "source": [
    "Теперь избавьтесь от неявных дубликатов в колонке `genre`. Например, название одного и того же жанра может быть записано немного по-разному. Такие ошибки тоже повлияют на результат исследования."
   ]
  },
  {
   "cell_type": "markdown",
   "metadata": {
    "deletable": false,
    "editable": false,
    "id": "eSjWwsOh_Zct",
    "tags": [
     "start_task"
    ]
   },
   "source": [
    "**Задание 15**\n",
    "\n",
    "Выведите на экран список уникальных названий жанров, отсортированный в алфавитном порядке. Для этого:\n",
    "* извлеките нужный столбец датафрейма, \n",
    "* примените к нему метод сортировки,\n",
    "* для отсортированного столбца вызовите метод, который вернёт уникальные значения из столбца."
   ]
  },
  {
   "cell_type": "code",
   "execution_count": 15,
   "metadata": {
    "deletable": false,
    "id": "JIUcqzZN_Zct"
   },
   "outputs": [
    {
     "name": "stdout",
     "output_type": "stream",
     "text": [
      "['acid' 'acoustic' 'action' 'adult' 'africa' 'afrikaans' 'alternative'\n",
      " 'alternativepunk' 'ambient' 'americana' 'animated' 'anime' 'arabesk'\n",
      " 'arabic' 'arena' 'argentinetango' 'art' 'audiobook' 'author' 'avantgarde'\n",
      " 'axé' 'baile' 'balkan' 'beats' 'bigroom' 'black' 'bluegrass' 'blues'\n",
      " 'bollywood' 'bossa' 'brazilian' 'breakbeat' 'breaks' 'broadway'\n",
      " 'cantautori' 'cantopop' 'canzone' 'caribbean' 'caucasian' 'celtic'\n",
      " 'chamber' 'chanson' 'children' 'chill' 'chinese' 'choral' 'christian'\n",
      " 'christmas' 'classical' 'classicmetal' 'club' 'colombian' 'comedy'\n",
      " 'conjazz' 'contemporary' 'country' 'cuban' 'dance' 'dancehall' 'dancepop'\n",
      " 'dark' 'death' 'deep' 'deutschrock' 'deutschspr' 'dirty' 'disco' 'dnb'\n",
      " 'documentary' 'downbeat' 'downtempo' 'drum' 'dub' 'dubstep' 'eastern'\n",
      " 'easy' 'electronic' 'electropop' 'emo' 'entehno' 'epicmetal' 'estrada'\n",
      " 'ethnic' 'eurofolk' 'european' 'experimental' 'extrememetal' 'fado'\n",
      " 'fairytail' 'film' 'fitness' 'flamenco' 'folk' 'folklore' 'folkmetal'\n",
      " 'folkrock' 'folktronica' 'forró' 'frankreich' 'französisch' 'french'\n",
      " 'funk' 'future' 'gangsta' 'garage' 'german' 'ghazal' 'gitarre' 'glitch'\n",
      " 'gospel' 'gothic' 'grime' 'grunge' 'gypsy' 'handsup' \"hard'n'heavy\"\n",
      " 'hardcore' 'hardstyle' 'hardtechno' 'hip' 'hip-hop' 'hiphop' 'historisch'\n",
      " 'holiday' 'hop' 'horror' 'house' 'hymn' 'idm' 'independent' 'indian'\n",
      " 'indie' 'indipop' 'industrial' 'inspirational' 'instrumental'\n",
      " 'international' 'irish' 'jam' 'japanese' 'jazz' 'jewish' 'jpop' 'jungle'\n",
      " 'k-pop' 'karadeniz' 'karaoke' 'kayokyoku' 'korean' 'laiko' 'latin'\n",
      " 'latino' 'leftfield' 'local' 'lounge' 'loungeelectronic' 'lovers'\n",
      " 'malaysian' 'mandopop' 'marschmusik' 'meditative' 'mediterranean'\n",
      " 'melodic' 'metal' 'metalcore' 'mexican' 'middle' 'minimal'\n",
      " 'miscellaneous' 'modern' 'mood' 'mpb' 'muslim' 'native' 'neoklassik'\n",
      " 'neue' 'new' 'newage' 'newwave' 'nu' 'nujazz' 'numetal' 'oceania' 'old'\n",
      " 'opera' 'orchestral' 'other' 'piano' 'podcasts' 'pop' 'popdance'\n",
      " 'popelectronic' 'popeurodance' 'poprussian' 'post' 'posthardcore'\n",
      " 'postrock' 'power' 'progmetal' 'progressive' 'psychedelic' 'punjabi'\n",
      " 'punk' 'quebecois' 'ragga' 'ram' 'rancheras' 'rap' 'rave' 'reggae'\n",
      " 'reggaeton' 'regional' 'relax' 'religious' 'retro' 'rhythm' 'rnb' 'rnr'\n",
      " 'rock' 'rockabilly' 'rockalternative' 'rockindie' 'rockother' 'romance'\n",
      " 'roots' 'ruspop' 'rusrap' 'rusrock' 'russian' 'salsa' 'samba' 'scenic'\n",
      " 'schlager' 'self' 'sertanejo' 'shanson' 'shoegazing' 'showtunes' 'singer'\n",
      " 'ska' 'skarock' 'slow' 'smooth' 'soft' 'soul' 'soulful' 'sound'\n",
      " 'soundtrack' 'southern' 'specialty' 'speech' 'spiritual' 'sport'\n",
      " 'stonerrock' 'surf' 'swing' 'synthpop' 'synthrock' 'sängerportrait'\n",
      " 'tango' 'tanzorchester' 'taraftar' 'tatar' 'tech' 'techno' 'teen'\n",
      " 'thrash' 'top' 'traditional' 'tradjazz' 'trance' 'tribal' 'trip'\n",
      " 'triphop' 'tropical' 'türk' 'türkçe' 'ukrrock' 'unknown' 'urban' 'uzbek'\n",
      " 'variété' 'vi' 'videogame' 'vocal' 'western' 'world' 'worldbeat' 'ïîï'\n",
      " 'электроника']\n"
     ]
    }
   ],
   "source": [
    "# Просмотр уникальных названий жанров\n",
    "print(df['genre'].sort_values().unique()) "
   ]
  },
  {
   "cell_type": "markdown",
   "metadata": {
    "deletable": false,
    "editable": false,
    "id": "qej-Qmuo_Zct",
    "tags": [
     "start_task"
    ]
   },
   "source": [
    "**Задание 16**\n",
    "\n",
    "Просмотрите список и найдите неявные дубликаты названия `hiphop`. Это могут быть названия с ошибками или альтернативные названия того же жанра.\n",
    "\n",
    "Вы увидите следующие неявные дубликаты:\n",
    "* *hip*,\n",
    "* *hop*,\n",
    "* *hip-hop*.\n",
    "\n",
    "Чтобы очистить от них таблицу используйте метод `replace()` с двумя аргументами: списком строк-дубликатов (включащий *hip*, *hop* и *hip-hop*) и строкой с правильным значением. Вам нужно исправить колонку `genre` в таблице `df`: заменить каждое значение из списка дубликатов на верное. Вместо `hip`, `hop` и `hip-hop` в таблице должно быть значение `hiphop`:"
   ]
  },
  {
   "cell_type": "code",
   "execution_count": 16,
   "metadata": {
    "deletable": false,
    "id": "ErNDkmns_Zct"
   },
   "outputs": [],
   "source": [
    "# Устранение неявных дубликатов\n",
    "duplicates = ['hip', 'hop', 'hip-hop'] # список неправильных имён\n",
    "name = 'hiphop' # правильное имя\n",
    "df['genre'] = df['genre'].replace(duplicates, name) # замена всех значений из duplicates на name"
   ]
  },
  {
   "cell_type": "markdown",
   "metadata": {
    "deletable": false,
    "editable": false,
    "id": "zQKF16_RG15m",
    "tags": [
     "start_task"
    ]
   },
   "source": [
    "**Задание 17**\n",
    "\n",
    "Проверьте, что заменили неправильные названия:\n",
    "\n",
    "*   hip\n",
    "*   hop\n",
    "*   hip-hop\n",
    "\n",
    "Выведите отсортированный список уникальных значений столбца `genre`:"
   ]
  },
  {
   "cell_type": "code",
   "execution_count": 17,
   "metadata": {
    "deletable": false,
    "id": "wvixALnFG15m"
   },
   "outputs": [
    {
     "name": "stdout",
     "output_type": "stream",
     "text": [
      "['acid' 'acoustic' 'action' 'adult' 'africa' 'afrikaans' 'alternative'\n",
      " 'alternativepunk' 'ambient' 'americana' 'animated' 'anime' 'arabesk'\n",
      " 'arabic' 'arena' 'argentinetango' 'art' 'audiobook' 'author' 'avantgarde'\n",
      " 'axé' 'baile' 'balkan' 'beats' 'bigroom' 'black' 'bluegrass' 'blues'\n",
      " 'bollywood' 'bossa' 'brazilian' 'breakbeat' 'breaks' 'broadway'\n",
      " 'cantautori' 'cantopop' 'canzone' 'caribbean' 'caucasian' 'celtic'\n",
      " 'chamber' 'chanson' 'children' 'chill' 'chinese' 'choral' 'christian'\n",
      " 'christmas' 'classical' 'classicmetal' 'club' 'colombian' 'comedy'\n",
      " 'conjazz' 'contemporary' 'country' 'cuban' 'dance' 'dancehall' 'dancepop'\n",
      " 'dark' 'death' 'deep' 'deutschrock' 'deutschspr' 'dirty' 'disco' 'dnb'\n",
      " 'documentary' 'downbeat' 'downtempo' 'drum' 'dub' 'dubstep' 'eastern'\n",
      " 'easy' 'electronic' 'electropop' 'emo' 'entehno' 'epicmetal' 'estrada'\n",
      " 'ethnic' 'eurofolk' 'european' 'experimental' 'extrememetal' 'fado'\n",
      " 'fairytail' 'film' 'fitness' 'flamenco' 'folk' 'folklore' 'folkmetal'\n",
      " 'folkrock' 'folktronica' 'forró' 'frankreich' 'französisch' 'french'\n",
      " 'funk' 'future' 'gangsta' 'garage' 'german' 'ghazal' 'gitarre' 'glitch'\n",
      " 'gospel' 'gothic' 'grime' 'grunge' 'gypsy' 'handsup' \"hard'n'heavy\"\n",
      " 'hardcore' 'hardstyle' 'hardtechno' 'hiphop' 'historisch' 'holiday'\n",
      " 'horror' 'house' 'hymn' 'idm' 'independent' 'indian' 'indie' 'indipop'\n",
      " 'industrial' 'inspirational' 'instrumental' 'international' 'irish' 'jam'\n",
      " 'japanese' 'jazz' 'jewish' 'jpop' 'jungle' 'k-pop' 'karadeniz' 'karaoke'\n",
      " 'kayokyoku' 'korean' 'laiko' 'latin' 'latino' 'leftfield' 'local'\n",
      " 'lounge' 'loungeelectronic' 'lovers' 'malaysian' 'mandopop' 'marschmusik'\n",
      " 'meditative' 'mediterranean' 'melodic' 'metal' 'metalcore' 'mexican'\n",
      " 'middle' 'minimal' 'miscellaneous' 'modern' 'mood' 'mpb' 'muslim'\n",
      " 'native' 'neoklassik' 'neue' 'new' 'newage' 'newwave' 'nu' 'nujazz'\n",
      " 'numetal' 'oceania' 'old' 'opera' 'orchestral' 'other' 'piano' 'podcasts'\n",
      " 'pop' 'popdance' 'popelectronic' 'popeurodance' 'poprussian' 'post'\n",
      " 'posthardcore' 'postrock' 'power' 'progmetal' 'progressive' 'psychedelic'\n",
      " 'punjabi' 'punk' 'quebecois' 'ragga' 'ram' 'rancheras' 'rap' 'rave'\n",
      " 'reggae' 'reggaeton' 'regional' 'relax' 'religious' 'retro' 'rhythm'\n",
      " 'rnb' 'rnr' 'rock' 'rockabilly' 'rockalternative' 'rockindie' 'rockother'\n",
      " 'romance' 'roots' 'ruspop' 'rusrap' 'rusrock' 'russian' 'salsa' 'samba'\n",
      " 'scenic' 'schlager' 'self' 'sertanejo' 'shanson' 'shoegazing' 'showtunes'\n",
      " 'singer' 'ska' 'skarock' 'slow' 'smooth' 'soft' 'soul' 'soulful' 'sound'\n",
      " 'soundtrack' 'southern' 'specialty' 'speech' 'spiritual' 'sport'\n",
      " 'stonerrock' 'surf' 'swing' 'synthpop' 'synthrock' 'sängerportrait'\n",
      " 'tango' 'tanzorchester' 'taraftar' 'tatar' 'tech' 'techno' 'teen'\n",
      " 'thrash' 'top' 'traditional' 'tradjazz' 'trance' 'tribal' 'trip'\n",
      " 'triphop' 'tropical' 'türk' 'türkçe' 'ukrrock' 'unknown' 'urban' 'uzbek'\n",
      " 'variété' 'vi' 'videogame' 'vocal' 'western' 'world' 'worldbeat' 'ïîï'\n",
      " 'электроника']\n"
     ]
    }
   ],
   "source": [
    "print(df['genre'].sort_values().unique())  # Проверка на неявные дубликаты"
   ]
  },
  {
   "cell_type": "markdown",
   "metadata": {
    "deletable": false,
    "editable": false,
    "id": "jz6a9-7HQUDd"
   },
   "source": [
    "**Выводы**\n",
    "\n",
    "Предобработка обнаружила три проблемы в данных:\n",
    "\n",
    "- нарушения в стиле заголовков,\n",
    "- пропущенные значения,\n",
    "- дубликаты — явные и неявные.\n",
    "\n",
    "Вы исправили заголовки, чтобы упростить работу с таблицей. Без дубликатов исследование станет более точным.\n",
    "\n",
    "Пропущенные значения вы заменили на `'unknown'`. Ещё предстоит увидеть, не повредят ли исследованию пропуски в колонке `genre`.\n",
    "\n",
    "Теперь можно перейти к проверке гипотез. "
   ]
  },
  {
   "cell_type": "markdown",
   "metadata": {
    "deletable": false,
    "editable": false,
    "id": "WttZHXH0SqKk"
   },
   "source": [
    "## Проверка гипотез"
   ]
  },
  {
   "cell_type": "markdown",
   "metadata": {
    "deletable": false,
    "editable": false,
    "id": "Im936VVi_Zcu"
   },
   "source": [
    "### Сравнение поведения пользователей двух столиц"
   ]
  },
  {
   "cell_type": "markdown",
   "metadata": {
    "deletable": false,
    "editable": false,
    "id": "nwt_MuaL_Zcu"
   },
   "source": [
    "Первая гипотеза утверждает, что пользователи по-разному слушают музыку в Москве и Санкт-Петербурге. Проверьте это предположение по данным о трёх днях недели — понедельнике, среде и пятнице. Для этого:\n",
    "\n",
    "* Разделите пользователей Москвы и Санкт-Петербурга\n",
    "* Сравните, сколько треков послушала каждая группа пользователей в понедельник, среду и пятницу.\n"
   ]
  },
  {
   "cell_type": "markdown",
   "metadata": {
    "deletable": false,
    "editable": false,
    "id": "8Dw_YMmT_Zcu",
    "tags": [
     "start_task"
    ]
   },
   "source": [
    "**Задание 18**\n",
    "\n",
    "Для тренировки сначала выполните каждый из расчётов по отдельности. \n",
    "\n",
    "Оцените активность пользователей в каждом городе. Сгруппируйте данные по городу и посчитайте прослушивания в каждой группе.\n",
    "\n"
   ]
  },
  {
   "cell_type": "code",
   "execution_count": 18,
   "metadata": {
    "deletable": false,
    "id": "0_Qs96oh_Zcu"
   },
   "outputs": [
    {
     "data": {
      "text/plain": [
       "city\n",
       "Moscow              42741\n",
       "Saint-Petersburg    18512\n",
       "Name: genre, dtype: int64"
      ]
     },
     "execution_count": 18,
     "metadata": {},
     "output_type": "execute_result"
    }
   ],
   "source": [
    "# Подсчёт прослушиваний в каждом городе\n",
    "df.groupby('city')['genre'].count()"
   ]
  },
  {
   "cell_type": "markdown",
   "metadata": {
    "deletable": false,
    "editable": false,
    "id": "dzli3w8o_Zcu",
    "tags": [
     "start_task"
    ]
   },
   "source": [
    "В Москве прослушиваний больше, чем в Петербурге. Из этого не следует, что московские пользователи чаще слушают музыку. Просто самих пользователей в Москве больше.\n",
    "\n",
    "**Задание 19**\n",
    "\n",
    "Теперь сгруппируйте данные по дню недели и подсчитайте прослушивания в понедельник, среду и пятницу. Учтите, что в данных есть информация только о прослушиваниях только за эти дни.\n"
   ]
  },
  {
   "cell_type": "code",
   "execution_count": 19,
   "metadata": {
    "deletable": false,
    "id": "uZMKjiJz_Zcu"
   },
   "outputs": [
    {
     "data": {
      "text/plain": [
       "day\n",
       "Friday       21840\n",
       "Monday       21354\n",
       "Wednesday    18059\n",
       "Name: genre, dtype: int64"
      ]
     },
     "execution_count": 19,
     "metadata": {},
     "output_type": "execute_result"
    }
   ],
   "source": [
    "df.groupby('day')['genre'].count() # Подсчёт прослушиваний в каждый из трёх дней"
   ]
  },
  {
   "cell_type": "markdown",
   "metadata": {
    "deletable": false,
    "editable": false,
    "id": "cC2tNrlL_Zcu"
   },
   "source": [
    "В среднем пользователи из двух городов менее активны по средам. Но картина может измениться, если рассмотреть каждый город в отдельности."
   ]
  },
  {
   "cell_type": "markdown",
   "metadata": {
    "deletable": false,
    "editable": false,
    "id": "POzs8bGa_Zcu",
    "tags": [
     "start_task"
    ]
   },
   "source": [
    "**Задание 20**\n",
    "\n",
    "\n",
    "Вы видели, как работает группировка по городу и по дням недели. Теперь напишите функцию, которая объединит два эти расчёта.\n",
    "\n",
    "Создайте функцию `number_tracks()`, которая посчитает прослушивания для заданного дня и города. Ей понадобятся два параметра:\n",
    "* день недели,\n",
    "* название города.\n",
    "\n",
    "В функции сохраните в переменную строки исходной таблицы, у которых значение:\n",
    "  * в колонке `day` равно параметру `day`,\n",
    "  * в колонке `city` равно параметру `city`.\n",
    "\n",
    "Для этого примените последовательную фильтрацию с логической индексацией (или сложные логические выражения в одну строку, если вы уже знакомы с ними).\n",
    "\n",
    "Затем посчитайте значения в столбце `user_id` получившейся таблицы. Результат сохраните в новую переменную. Верните эту переменную из функции."
   ]
  },
  {
   "cell_type": "code",
   "execution_count": 20,
   "metadata": {
    "deletable": false,
    "id": "Nz3GdQB1_Zcu"
   },
   "outputs": [],
   "source": [
    "# <создание функции number_tracks()>\n",
    "# Объявляется функция с двумя параметрами: day, city.\n",
    "# В переменной track_list сохраняются те строки таблицы df, для которых \n",
    "# значение в столбце 'day' равно параметру day и одновременно значение\n",
    "# в столбце 'city' равно параметру city (используйте последовательную фильтрацию\n",
    "# с помощью логической индексации или сложные логические выражения в одну строку, если вы уже знакомы с ними).\n",
    "# В переменной track_list_count сохраняется число значений столбца 'user_id',\n",
    "# рассчитанное методом count() для таблицы track_list.\n",
    "# Функция возвращает число - значение track_list_count.\n",
    "\n",
    "def number_tracks(day, city):\n",
    "    track_list = df[(df['day']==day) & (df['city']==city)]\n",
    "    track_list_count = track_list['user_id'].count()\n",
    "    return track_list_count\n",
    "\n",
    "# Функция для подсчёта прослушиваний для конкретного города и дня.\n",
    "# С помощью последовательной фильтрации с логической индексацией она \n",
    "# сначала получит из исходной таблицы строки с нужным днём,\n",
    "# затем из результата отфильтрует строки с нужным городом,\n",
    "# методом count() посчитает количество значений в колонке user_id. \n",
    "# Это количество функция вернёт в качестве результата\n",
    "\n",
    "\n",
    "\n",
    "\n",
    "\n",
    "\n"
   ]
  },
  {
   "cell_type": "markdown",
   "metadata": {
    "deletable": false,
    "editable": false,
    "id": "ytf7xFrFJQ2r",
    "tags": [
     "start_task"
    ]
   },
   "source": [
    "**Задание 21**\n",
    "\n",
    "Вызовите `number_tracks()` шесть раз, меняя значение параметров — так, чтобы получить данные для каждого города в каждый из трёх дней."
   ]
  },
  {
   "cell_type": "code",
   "execution_count": 21,
   "metadata": {
    "deletable": false,
    "id": "rJcRATNQ_Zcu"
   },
   "outputs": [
    {
     "data": {
      "text/plain": [
       "15740"
      ]
     },
     "execution_count": 21,
     "metadata": {},
     "output_type": "execute_result"
    }
   ],
   "source": [
    "number_tracks('Monday', 'Moscow') # количество прослушиваний в Москве по понедельникам"
   ]
  },
  {
   "cell_type": "code",
   "execution_count": 22,
   "metadata": {
    "deletable": false,
    "id": "hq_ncZ5T_Zcu"
   },
   "outputs": [
    {
     "data": {
      "text/plain": [
       "5614"
      ]
     },
     "execution_count": 22,
     "metadata": {},
     "output_type": "execute_result"
    }
   ],
   "source": [
    "number_tracks('Monday', 'Saint-Petersburg') # количество прослушиваний в Санкт-Петербурге по понедельникам"
   ]
  },
  {
   "cell_type": "code",
   "execution_count": 23,
   "metadata": {
    "deletable": false,
    "id": "_NTy2VPU_Zcu"
   },
   "outputs": [
    {
     "data": {
      "text/plain": [
       "11056"
      ]
     },
     "execution_count": 23,
     "metadata": {},
     "output_type": "execute_result"
    }
   ],
   "source": [
    "number_tracks('Wednesday', 'Moscow') # количество прослушиваний в Москве по средам"
   ]
  },
  {
   "cell_type": "code",
   "execution_count": 24,
   "metadata": {
    "deletable": false,
    "id": "j2y3TAwo_Zcu"
   },
   "outputs": [
    {
     "data": {
      "text/plain": [
       "7003"
      ]
     },
     "execution_count": 24,
     "metadata": {},
     "output_type": "execute_result"
    }
   ],
   "source": [
    "number_tracks('Wednesday', 'Saint-Petersburg') # количество прослушиваний в Санкт-Петербурге по средам"
   ]
  },
  {
   "cell_type": "code",
   "execution_count": 25,
   "metadata": {
    "deletable": false,
    "id": "vYDw5u_K_Zcu"
   },
   "outputs": [
    {
     "data": {
      "text/plain": [
       "15945"
      ]
     },
     "execution_count": 25,
     "metadata": {},
     "output_type": "execute_result"
    }
   ],
   "source": [
    "number_tracks('Friday', 'Moscow') # количество прослушиваний в Москве по пятницам"
   ]
  },
  {
   "cell_type": "code",
   "execution_count": 26,
   "metadata": {
    "deletable": false,
    "id": "8_yzFtW3_Zcu"
   },
   "outputs": [
    {
     "data": {
      "text/plain": [
       "5895"
      ]
     },
     "execution_count": 26,
     "metadata": {},
     "output_type": "execute_result"
    }
   ],
   "source": [
    "number_tracks('Friday', 'Saint-Petersburg') # количество прослушиваний в Санкт-Петербурге по пятницам"
   ]
  },
  {
   "cell_type": "markdown",
   "metadata": {
    "deletable": false,
    "editable": false,
    "id": "7QXffbO-_Zcu",
    "tags": [
     "start_task"
    ]
   },
   "source": [
    "**Задание 22**\n",
    "\n",
    "Создайте c помощью конструктора `pd.DataFrame` таблицу, где\n",
    "* названия колонок — `['city', 'monday', 'wednesday', 'friday']`;\n",
    "* данные — результаты, которые вы получили с помощью `number_tracks`."
   ]
  },
  {
   "cell_type": "code",
   "execution_count": 27,
   "metadata": {
    "deletable": false,
    "id": "APAcLpOr_Zcu"
   },
   "outputs": [
    {
     "data": {
      "text/html": [
       "<div>\n",
       "<style scoped>\n",
       "    .dataframe tbody tr th:only-of-type {\n",
       "        vertical-align: middle;\n",
       "    }\n",
       "\n",
       "    .dataframe tbody tr th {\n",
       "        vertical-align: top;\n",
       "    }\n",
       "\n",
       "    .dataframe thead th {\n",
       "        text-align: right;\n",
       "    }\n",
       "</style>\n",
       "<table border=\"1\" class=\"dataframe\">\n",
       "  <thead>\n",
       "    <tr style=\"text-align: right;\">\n",
       "      <th></th>\n",
       "      <th>city</th>\n",
       "      <th>monday</th>\n",
       "      <th>wednesday</th>\n",
       "      <th>friday</th>\n",
       "    </tr>\n",
       "  </thead>\n",
       "  <tbody>\n",
       "    <tr>\n",
       "      <th>0</th>\n",
       "      <td>Moscow</td>\n",
       "      <td>15740</td>\n",
       "      <td>11056</td>\n",
       "      <td>15945</td>\n",
       "    </tr>\n",
       "    <tr>\n",
       "      <th>1</th>\n",
       "      <td>Saint-Petersburg</td>\n",
       "      <td>5614</td>\n",
       "      <td>7003</td>\n",
       "      <td>5895</td>\n",
       "    </tr>\n",
       "  </tbody>\n",
       "</table>\n",
       "</div>"
      ],
      "text/plain": [
       "               city  monday  wednesday  friday\n",
       "0            Moscow   15740      11056   15945\n",
       "1  Saint-Petersburg    5614       7003    5895"
      ]
     },
     "execution_count": 27,
     "metadata": {},
     "output_type": "execute_result"
    }
   ],
   "source": [
    "# Таблица с результатами\n",
    "data = [['Moscow', 15740, 11056, 15945],\n",
    "       ['Saint-Petersburg', 5614, 7003, 5895]]\n",
    "columns = ['city','monday','wednesday','friday']\n",
    "info = pd.DataFrame(data = data, columns = columns)\n",
    "info "
   ]
  },
  {
   "cell_type": "markdown",
   "metadata": {
    "deletable": false,
    "editable": false,
    "id": "-EgPIHYu_Zcu"
   },
   "source": [
    "**Выводы**\n",
    "\n",
    "Данные показывают разницу поведения пользователей:\n",
    "\n",
    "- В Москве пик прослушиваний приходится на понедельник и пятницу, а в среду заметен спад.\n",
    "- В Петербурге, наоборот, больше слушают музыку по средам. Активность в понедельник и пятницу здесь почти в равной мере уступает среде.\n",
    "\n",
    "Значит, данные говорят в пользу первой гипотезы."
   ]
  },
  {
   "cell_type": "markdown",
   "metadata": {
    "deletable": false,
    "editable": false,
    "id": "atZAxtq4_Zcu"
   },
   "source": [
    "### Музыка в начале и в конце недели"
   ]
  },
  {
   "cell_type": "markdown",
   "metadata": {
    "deletable": false,
    "editable": false,
    "id": "eXrQqXFH_Zcu"
   },
   "source": [
    "Согласно второй гипотезе, утром в понедельник в Москве преобладают одни жанры, а в Петербурге — другие. Так же и вечером пятницы преобладают разные жанры — в зависимости от города."
   ]
  },
  {
   "cell_type": "markdown",
   "metadata": {
    "deletable": false,
    "editable": false,
    "id": "S8UcW6Hw_Zcu",
    "tags": [
     "start_task"
    ]
   },
   "source": [
    "**Задание 23**\n",
    "\n",
    "Сохраните таблицы с данными в две переменные:\n",
    "* по Москве — в `moscow_general`;\n",
    "* по Санкт-Петербургу — в `spb_general`."
   ]
  },
  {
   "cell_type": "code",
   "execution_count": 28,
   "metadata": {
    "deletable": false,
    "id": "qeaFfM_P_Zcu"
   },
   "outputs": [],
   "source": [
    "# получение таблицы moscow_general из тех строк таблицы df, \n",
    "# для которых значение в столбце 'city' равно 'Moscow'\n",
    "moscow_general = df[df['city'] == 'Moscow']"
   ]
  },
  {
   "cell_type": "code",
   "execution_count": 29,
   "metadata": {
    "deletable": false,
    "id": "ORaVRKto_Zcu"
   },
   "outputs": [],
   "source": [
    "# получение таблицы spb_general из тех строк таблицы df,\n",
    "# для которых значение в столбце 'city' равно 'Saint-Petersburg'\n",
    "spb_general = df[df['city'] == 'Saint-Petersburg']"
   ]
  },
  {
   "cell_type": "markdown",
   "metadata": {
    "deletable": false,
    "id": "MEJV-CX2_Zcu",
    "tags": [
     "start_task"
    ]
   },
   "source": [
    "**Задание 24**\n",
    "\n",
    "Создайте функцию `genre_weekday()` с четырьмя параметрами:\n",
    "* таблица (датафрейм) с данными,\n",
    "* день недели,\n",
    "* начальная временная метка в формате 'hh:mm', \n",
    "* последняя временная метка в формате 'hh:mm'.\n",
    "\n",
    "Функция должна вернуть информацию о топ-10 жанров тех треков, которые прослушивали в указанный день, в промежутке между двумя отметками времени."
   ]
  },
  {
   "cell_type": "code",
   "execution_count": 30,
   "metadata": {
    "deletable": false,
    "id": "laJT9BYl_Zcu"
   },
   "outputs": [],
   "source": [
    "# Объявление функции genre_weekday() с параметрами table, day, time1, time2,\n",
    "# которая возвращает информацию о самых популярных жанрах в указанный день в\n",
    "# заданное время:\n",
    "# 1) в переменную genre_df сохраняются те строки переданного датафрейма table, для\n",
    "#    которых одновременно:\n",
    "#    - значение в столбце day равно значению аргумента day\n",
    "#    - значение в столбце time больше значения аргумента time1\n",
    "#    - значение в столбце time меньше значения аргумента time2\n",
    "#    Используйте последовательную фильтрацию с помощью логической индексации.\n",
    "# 2) сгруппировать датафрейм genre_df по столбцу genre, взять один из его\n",
    "#    столбцов и посчитать методом count() количество записей для каждого из\n",
    "#    присутствующих жанров, получившийся Series записать в переменную\n",
    "#    genre_df_grouped\n",
    "# 3) отсортировать genre_df_grouped по убыванию встречаемости и сохранить\n",
    "#    в переменную genre_df_sorted\n",
    "# 4) вернуть Series из 10 первых значений genre_df_sorted, это будут топ-10\n",
    "#    популярных жанров (в указанный день, в заданное время)\n",
    "\n",
    "def genre_weekday(df, day, time1, time2):\n",
    "    # последовательная фильтрация\n",
    "    # оставляем в genre_df только те строки df, у которых день равен day\n",
    "    genre_df = df[df['day']==day] # ваш код здесь\n",
    "    # оставляем в genre_df только те строки genre_df, у которых время меньше time2\n",
    "    genre_df = genre_df[genre_df['time']<time2] # ваш код здесь\n",
    "    # оставляем в genre_df только те строки genre_df, у которых время больше time1\n",
    "    genre_df = genre_df[genre_df['time']>time1] # ваш код здесь\n",
    "    # сгруппируем отфильтрованный датафрейм по столбцу с названиями жанров, возьмём столбец genre и посчитаем кол-во строк для каждого жанра методом count()\n",
    "    genre_df_grouped = genre_df.groupby('genre')['genre'].count() # ваш код здесь\n",
    "    # отсортируем результат по убыванию (чтобы в начале Series оказались самые популярные жанры)\n",
    "    genre_df_sorted = genre_df_grouped.sort_values(ascending=False) # ваш код здесь\n",
    "    # вернём Series с 10 самыми популярными жанрами в указанный отрезок времени заданного дня\n",
    "    return genre_df_sorted[:10]"
   ]
  },
  {
   "cell_type": "markdown",
   "metadata": {
    "deletable": false,
    "editable": false,
    "id": "la2s2_PF_Zcu",
    "tags": [
     "start_task"
    ]
   },
   "source": [
    "**Задание 25**\n",
    "\n",
    "\n",
    "Cравните результаты функции `genre_weekday()` для Москвы и Санкт-Петербурга в понедельник утром (с 7:00 до 11:00) и в пятницу вечером (с 17:00 до 23:00):"
   ]
  },
  {
   "cell_type": "code",
   "execution_count": 31,
   "metadata": {
    "deletable": false,
    "id": "yz7itPUQ_Zcu"
   },
   "outputs": [
    {
     "data": {
      "text/plain": [
       "genre\n",
       "pop            781\n",
       "dance          549\n",
       "electronic     480\n",
       "rock           474\n",
       "hiphop         286\n",
       "ruspop         186\n",
       "world          181\n",
       "rusrap         175\n",
       "alternative    164\n",
       "unknown        161\n",
       "Name: genre, dtype: int64"
      ]
     },
     "execution_count": 31,
     "metadata": {},
     "output_type": "execute_result"
    }
   ],
   "source": [
    "# вызов функции для утра понедельника в Москве (вместо df — таблица moscow_general)\n",
    "# объекты, хранящие время, являются строками и сравниваются как строки\n",
    "# пример вызова: genre_weekday(moscow_general, 'Monday', '07:00', '11:00')\n",
    "genre_weekday(moscow_general, 'Monday', '07:00', '11:00')"
   ]
  },
  {
   "cell_type": "code",
   "execution_count": 32,
   "metadata": {
    "deletable": false,
    "id": "kwUcHPdy_Zcu"
   },
   "outputs": [
    {
     "data": {
      "text/plain": [
       "genre\n",
       "pop            218\n",
       "dance          182\n",
       "rock           162\n",
       "electronic     147\n",
       "hiphop          80\n",
       "ruspop          64\n",
       "alternative     58\n",
       "rusrap          55\n",
       "jazz            44\n",
       "classical       40\n",
       "Name: genre, dtype: int64"
      ]
     },
     "execution_count": 32,
     "metadata": {},
     "output_type": "execute_result"
    }
   ],
   "source": [
    "# вызов функции для утра понедельника в Петербурге (вместо df — таблица spb_general)\n",
    "genre_weekday(spb_general, 'Monday', '07:00', '11:00')"
   ]
  },
  {
   "cell_type": "code",
   "execution_count": 33,
   "metadata": {
    "deletable": false,
    "id": "EzXVRE1o_Zcu",
    "scrolled": true
   },
   "outputs": [
    {
     "data": {
      "text/plain": [
       "genre\n",
       "pop            713\n",
       "rock           517\n",
       "dance          495\n",
       "electronic     482\n",
       "hiphop         273\n",
       "world          208\n",
       "ruspop         170\n",
       "alternative    163\n",
       "classical      163\n",
       "rusrap         142\n",
       "Name: genre, dtype: int64"
      ]
     },
     "execution_count": 33,
     "metadata": {},
     "output_type": "execute_result"
    }
   ],
   "source": [
    "# вызов функции для вечера пятницы в Москве\n",
    "genre_weekday(moscow_general, 'Friday', '17:00', '23:00')"
   ]
  },
  {
   "cell_type": "code",
   "execution_count": 34,
   "metadata": {
    "deletable": false,
    "id": "JZaEKu5v_Zcu"
   },
   "outputs": [
    {
     "data": {
      "text/plain": [
       "genre\n",
       "pop            256\n",
       "electronic     216\n",
       "rock           216\n",
       "dance          210\n",
       "hiphop          97\n",
       "alternative     63\n",
       "jazz            61\n",
       "classical       60\n",
       "rusrap          59\n",
       "world           54\n",
       "Name: genre, dtype: int64"
      ]
     },
     "execution_count": 34,
     "metadata": {},
     "output_type": "execute_result"
    }
   ],
   "source": [
    "# вызов функции для вечера пятницы в Петербурге\n",
    "genre_weekday(spb_general, 'Friday', '17:00', '23:00')"
   ]
  },
  {
   "cell_type": "markdown",
   "metadata": {
    "deletable": false,
    "editable": false,
    "id": "wrCe4MNX_Zcu"
   },
   "source": [
    "**Выводы**\n",
    "\n",
    "Если сравнить топ-10 жанров в понедельник утром, можно сделать такие выводы:\n",
    "\n",
    "1. В Москве и Петербурге слушают похожую музыку. Единственное отличие — в московский рейтинг вошёл жанр “world”, а в петербургский — джаз и классика.\n",
    "\n",
    "2. В Москве пропущенных значений оказалось так много, что значение `'unknown'` заняло десятое место среди самых популярных жанров. Значит, пропущенные значения занимают существенную долю в данных и угрожают достоверности исследования.\n",
    "\n",
    "Вечер пятницы не меняет эту картину. Некоторые жанры поднимаются немного выше, другие спускаются, но в целом топ-10 остаётся тем же самым.\n",
    "\n",
    "Таким образом, вторая гипотеза подтвердилась лишь частично:\n",
    "* Пользователи слушают похожую музыку в начале недели и в конце.\n",
    "* Разница между Москвой и Петербургом не слишком выражена. В Москве чаще слушают русскую популярную музыку, в Петербурге — джаз.\n",
    "\n",
    "Однако пропуски в данных ставят под сомнение этот результат. В Москве их так много, что рейтинг топ-10 мог бы выглядеть иначе, если бы не утерянные  данные о жанрах."
   ]
  },
  {
   "cell_type": "markdown",
   "metadata": {
    "deletable": false,
    "editable": false,
    "id": "JolODAqr_Zcu"
   },
   "source": [
    "### Жанровые предпочтения в Москве и Петербурге\n",
    "\n",
    "Гипотеза: Петербург — столица рэпа, музыку этого жанра там слушают чаще, чем в Москве.  А Москва — город контрастов, в котором, тем не менее, преобладает поп-музыка."
   ]
  },
  {
   "cell_type": "markdown",
   "metadata": {
    "deletable": false,
    "editable": false,
    "id": "DlegSvaT_Zcu",
    "tags": [
     "start_task"
    ]
   },
   "source": [
    "**Задание 26**\n",
    "\n",
    "Сгруппируйте таблицу `moscow_general` по жанру и посчитайте прослушивания треков каждого жанра методом `count()`. Затем отсортируйте результат в порядке убывания и сохраните его в таблице `moscow_genres`."
   ]
  },
  {
   "cell_type": "code",
   "execution_count": 35,
   "metadata": {
    "deletable": false,
    "id": "r19lIPke_Zcu"
   },
   "outputs": [],
   "source": [
    "# одной строкой: группировка таблицы moscow_general по столбцу 'genre', \n",
    "# подсчёт числа значений 'genre' в этой группировке методом count(), \n",
    "# сортировка получившегося Series в порядке убывания и сохранение в moscow_genres\n",
    "\n",
    "moscow_genres = moscow_general.groupby('genre')['genre'].count().sort_values(ascending = False)"
   ]
  },
  {
   "cell_type": "markdown",
   "metadata": {
    "deletable": false,
    "editable": false,
    "id": "6kMuomxTiIr8",
    "tags": [
     "start_task"
    ]
   },
   "source": [
    "**Задание 27**\n",
    "\n",
    "Выведите на экран первые десять строк `moscow_genres`:"
   ]
  },
  {
   "cell_type": "code",
   "execution_count": 36,
   "metadata": {
    "deletable": false,
    "id": "WhCSooF8_Zcv"
   },
   "outputs": [
    {
     "name": "stdout",
     "output_type": "stream",
     "text": [
      "genre\n",
      "pop            5892\n",
      "dance          4435\n",
      "rock           3965\n",
      "electronic     3786\n",
      "hiphop         2096\n",
      "classical      1616\n",
      "world          1432\n",
      "alternative    1379\n",
      "ruspop         1372\n",
      "rusrap         1161\n",
      "Name: genre, dtype: int64\n"
     ]
    }
   ],
   "source": [
    "# просмотр первых 10 строк moscow_genres\n",
    "print(moscow_genres[:10]) "
   ]
  },
  {
   "cell_type": "markdown",
   "metadata": {
    "deletable": false,
    "editable": false,
    "id": "cnPG2vnN_Zcv",
    "tags": [
     "start_task"
    ]
   },
   "source": [
    "**Задание 28**\n",
    "\n",
    "\n",
    "Теперь повторите то же и для Петербурга.\n",
    "\n",
    "Сгруппируйте таблицу `spb_general` по жанру. Посчитайте прослушивания треков каждого жанра. Результат отсортируйте в порядке убывания и сохраните в таблице `spb_genres`:\n"
   ]
  },
  {
   "cell_type": "code",
   "execution_count": 37,
   "metadata": {
    "deletable": false,
    "id": "gluLIpE7_Zcv"
   },
   "outputs": [],
   "source": [
    "# одной строкой: группировка таблицы spb_general по столбцу 'genre', \n",
    "# подсчёт числа значений 'genre' в этой группировке методом count(), \n",
    "# сортировка получившегося Series в порядке убывания и сохранение в spb_genres\n",
    "spb_genres = spb_general.groupby('genre')['genre'].count().sort_values(ascending = False)"
   ]
  },
  {
   "cell_type": "markdown",
   "metadata": {
    "deletable": false,
    "editable": false,
    "id": "5Doha_ODgyQ8",
    "tags": [
     "start_task"
    ]
   },
   "source": [
    "**Задание 29**\n",
    "\n",
    "Выведите на экран первые десять строк `spb_genres`:"
   ]
  },
  {
   "cell_type": "code",
   "execution_count": 38,
   "metadata": {
    "deletable": false,
    "id": "uaGJHjVU_Zcv"
   },
   "outputs": [
    {
     "name": "stdout",
     "output_type": "stream",
     "text": [
      "genre\n",
      "pop            2431\n",
      "dance          1932\n",
      "rock           1879\n",
      "electronic     1736\n",
      "hiphop          960\n",
      "alternative     649\n",
      "classical       646\n",
      "rusrap          564\n",
      "ruspop          538\n",
      "world           515\n",
      "Name: genre, dtype: int64\n"
     ]
    }
   ],
   "source": [
    "# просмотр первых 10 строк spb_genres\n",
    "print(spb_genres[:10])"
   ]
  },
  {
   "cell_type": "markdown",
   "metadata": {
    "deletable": false,
    "editable": false,
    "id": "RY51YJYu_Zcv"
   },
   "source": [
    "**Выводы**"
   ]
  },
  {
   "cell_type": "markdown",
   "metadata": {
    "deletable": false,
    "editable": false,
    "id": "nVhnJEm__Zcv"
   },
   "source": [
    "Гипотеза частично подтвердилась:\n",
    "* Поп-музыка — самый популярный жанр в Москве, как и предполагала гипотеза. Более того, в топ-10 жанров встречается близкий жанр — русская популярная музыка.\n",
    "* Вопреки ожиданиям, рэп одинаково популярен в Москве и Петербурге. \n"
   ]
  },
  {
   "cell_type": "markdown",
   "metadata": {
    "deletable": false,
    "editable": false,
    "id": "ykKQ0N65_Zcv"
   },
   "source": [
    "## Итоги исследования"
   ]
  },
  {
   "cell_type": "markdown",
   "metadata": {
    "deletable": false,
    "editable": false,
    "id": "tjUwbHb3_Zcv"
   },
   "source": [
    "Вы проверили три гипотезы и установили:\n",
    "\n",
    "1. День недели по-разному влияет на активность пользователей в Москве и Петербурге. \n",
    "\n",
    "Первая гипотеза полностью подтвердилась.\n",
    "\n",
    "2. Музыкальные предпочтения не сильно меняются в течение недели — будь то Москва или Петербург. Небольшие различия заметны в начале недели, по понедельникам:\n",
    "* в Москве слушают музыку жанра “world”,\n",
    "* в Петербурге — джаз и классику.\n",
    "\n",
    "Таким образом, вторая гипотеза подтвердилась лишь отчасти. Этот результат мог оказаться иным, если бы не пропуски в данных.\n",
    "\n",
    "3. Во вкусах пользователей Москвы и Петербурга больше общего чем различий. Вопреки ожиданиям, предпочтения жанров в Петербурге напоминают московские.\n",
    "\n",
    "Третья гипотеза не подтвердилась. Если различия в предпочтениях и существуют, на основной массе пользователей они незаметны.\n",
    "\n",
    "**На практике исследования содержат проверки статистических гипотез.**\n",
    "Из данных одного сервиса не всегда можно сделать вывод о всех жителях города.\n",
    "Проверки статистических гипотез покажут, насколько они достоверны, исходя из имеющихся данных. \n",
    "С методами проверок гипотез вы ещё познакомитесь в следующих темах."
   ]
  }
 ],
 "metadata": {
  "ExecuteTimeLog": [
   {
    "duration": 49,
    "start_time": "2023-05-23T13:44:58.559Z"
   },
   {
    "duration": 8,
    "start_time": "2023-05-23T13:52:54.175Z"
   },
   {
    "duration": 417,
    "start_time": "2023-05-23T13:53:09.391Z"
   },
   {
    "duration": 473,
    "start_time": "2023-05-23T13:53:09.810Z"
   },
   {
    "duration": 9,
    "start_time": "2023-05-23T13:53:10.286Z"
   },
   {
    "duration": 38,
    "start_time": "2023-05-23T13:53:10.297Z"
   },
   {
    "duration": 3,
    "start_time": "2023-05-23T13:53:10.338Z"
   },
   {
    "duration": 3,
    "start_time": "2023-05-23T13:53:10.343Z"
   },
   {
    "duration": 4,
    "start_time": "2023-05-23T13:53:10.348Z"
   },
   {
    "duration": 3,
    "start_time": "2023-05-23T13:53:10.354Z"
   },
   {
    "duration": 31,
    "start_time": "2023-05-23T13:53:10.359Z"
   },
   {
    "duration": 6,
    "start_time": "2023-05-23T13:53:10.393Z"
   },
   {
    "duration": 4,
    "start_time": "2023-05-23T13:53:10.401Z"
   },
   {
    "duration": 4,
    "start_time": "2023-05-23T13:53:10.406Z"
   },
   {
    "duration": 16,
    "start_time": "2023-05-23T13:53:10.412Z"
   },
   {
    "duration": 5,
    "start_time": "2023-05-23T13:53:10.431Z"
   },
   {
    "duration": 5,
    "start_time": "2023-05-23T13:53:10.437Z"
   },
   {
    "duration": 5,
    "start_time": "2023-05-23T13:53:10.443Z"
   },
   {
    "duration": 3,
    "start_time": "2023-05-23T13:53:10.449Z"
   },
   {
    "duration": 3,
    "start_time": "2023-05-23T13:53:10.454Z"
   },
   {
    "duration": 4,
    "start_time": "2023-05-23T13:53:10.458Z"
   },
   {
    "duration": 5,
    "start_time": "2023-05-23T13:53:10.463Z"
   },
   {
    "duration": 6,
    "start_time": "2023-05-23T13:53:10.489Z"
   },
   {
    "duration": 4,
    "start_time": "2023-05-23T13:53:10.497Z"
   },
   {
    "duration": 3,
    "start_time": "2023-05-23T13:53:10.503Z"
   },
   {
    "duration": 4,
    "start_time": "2023-05-23T13:53:10.507Z"
   },
   {
    "duration": 7,
    "start_time": "2023-05-23T13:53:10.513Z"
   },
   {
    "duration": 9,
    "start_time": "2023-05-23T13:53:10.521Z"
   },
   {
    "duration": 4,
    "start_time": "2023-05-23T13:53:10.531Z"
   },
   {
    "duration": 12,
    "start_time": "2023-05-23T13:53:10.536Z"
   },
   {
    "duration": 6,
    "start_time": "2023-05-23T13:53:10.550Z"
   },
   {
    "duration": 100,
    "start_time": "2023-05-23T13:53:10.557Z"
   },
   {
    "duration": 0,
    "start_time": "2023-05-23T13:53:10.658Z"
   },
   {
    "duration": 0,
    "start_time": "2023-05-23T13:53:10.659Z"
   },
   {
    "duration": 0,
    "start_time": "2023-05-23T13:53:10.661Z"
   },
   {
    "duration": 0,
    "start_time": "2023-05-23T13:53:10.662Z"
   },
   {
    "duration": 0,
    "start_time": "2023-05-23T13:53:10.663Z"
   },
   {
    "duration": 0,
    "start_time": "2023-05-23T13:53:10.665Z"
   },
   {
    "duration": 0,
    "start_time": "2023-05-23T13:53:10.666Z"
   },
   {
    "duration": 0,
    "start_time": "2023-05-23T13:53:10.667Z"
   },
   {
    "duration": 7,
    "start_time": "2023-05-23T13:53:49.641Z"
   },
   {
    "duration": 3,
    "start_time": "2023-05-23T14:10:51.283Z"
   },
   {
    "duration": 220,
    "start_time": "2023-05-23T14:10:51.294Z"
   },
   {
    "duration": 7,
    "start_time": "2023-05-23T14:10:51.517Z"
   },
   {
    "duration": 37,
    "start_time": "2023-05-23T14:10:51.526Z"
   },
   {
    "duration": 94,
    "start_time": "2023-05-23T14:10:51.565Z"
   },
   {
    "duration": 0,
    "start_time": "2023-05-23T14:10:51.661Z"
   },
   {
    "duration": 0,
    "start_time": "2023-05-23T14:10:51.662Z"
   },
   {
    "duration": 0,
    "start_time": "2023-05-23T14:10:51.663Z"
   },
   {
    "duration": 4,
    "start_time": "2023-05-23T14:11:52.292Z"
   },
   {
    "duration": 192,
    "start_time": "2023-05-23T14:11:52.307Z"
   },
   {
    "duration": 12,
    "start_time": "2023-05-23T14:11:52.507Z"
   },
   {
    "duration": 32,
    "start_time": "2023-05-23T14:11:52.521Z"
   },
   {
    "duration": 83,
    "start_time": "2023-05-23T14:11:52.555Z"
   },
   {
    "duration": 0,
    "start_time": "2023-05-23T14:11:52.639Z"
   },
   {
    "duration": 0,
    "start_time": "2023-05-23T14:11:52.640Z"
   },
   {
    "duration": 0,
    "start_time": "2023-05-23T14:11:52.641Z"
   },
   {
    "duration": 2,
    "start_time": "2023-05-23T14:12:00.500Z"
   },
   {
    "duration": 195,
    "start_time": "2023-05-23T14:12:00.552Z"
   },
   {
    "duration": 7,
    "start_time": "2023-05-23T14:12:00.749Z"
   },
   {
    "duration": 71,
    "start_time": "2023-05-23T14:12:00.757Z"
   },
   {
    "duration": 101,
    "start_time": "2023-05-23T14:12:00.830Z"
   },
   {
    "duration": 0,
    "start_time": "2023-05-23T14:12:00.933Z"
   },
   {
    "duration": 0,
    "start_time": "2023-05-23T14:12:00.934Z"
   },
   {
    "duration": 0,
    "start_time": "2023-05-23T14:12:00.935Z"
   },
   {
    "duration": 0,
    "start_time": "2023-05-23T14:12:00.936Z"
   },
   {
    "duration": 0,
    "start_time": "2023-05-23T14:12:00.937Z"
   },
   {
    "duration": 0,
    "start_time": "2023-05-23T14:12:00.938Z"
   },
   {
    "duration": 0,
    "start_time": "2023-05-23T14:12:00.939Z"
   },
   {
    "duration": 0,
    "start_time": "2023-05-23T14:12:00.940Z"
   },
   {
    "duration": 0,
    "start_time": "2023-05-23T14:12:00.941Z"
   },
   {
    "duration": 0,
    "start_time": "2023-05-23T14:12:00.943Z"
   },
   {
    "duration": 0,
    "start_time": "2023-05-23T14:12:00.944Z"
   },
   {
    "duration": 0,
    "start_time": "2023-05-23T14:12:00.944Z"
   },
   {
    "duration": 0,
    "start_time": "2023-05-23T14:12:00.947Z"
   },
   {
    "duration": 0,
    "start_time": "2023-05-23T14:12:00.949Z"
   },
   {
    "duration": 0,
    "start_time": "2023-05-23T14:12:00.950Z"
   },
   {
    "duration": 0,
    "start_time": "2023-05-23T14:12:00.951Z"
   },
   {
    "duration": 0,
    "start_time": "2023-05-23T14:12:00.953Z"
   },
   {
    "duration": 0,
    "start_time": "2023-05-23T14:12:00.954Z"
   },
   {
    "duration": 0,
    "start_time": "2023-05-23T14:12:00.956Z"
   },
   {
    "duration": 0,
    "start_time": "2023-05-23T14:12:00.957Z"
   },
   {
    "duration": 0,
    "start_time": "2023-05-23T14:12:00.959Z"
   },
   {
    "duration": 0,
    "start_time": "2023-05-23T14:12:00.961Z"
   },
   {
    "duration": 0,
    "start_time": "2023-05-23T14:12:00.962Z"
   },
   {
    "duration": 0,
    "start_time": "2023-05-23T14:12:00.964Z"
   },
   {
    "duration": 0,
    "start_time": "2023-05-23T14:12:00.966Z"
   },
   {
    "duration": 0,
    "start_time": "2023-05-23T14:12:00.988Z"
   },
   {
    "duration": 0,
    "start_time": "2023-05-23T14:12:00.989Z"
   },
   {
    "duration": 0,
    "start_time": "2023-05-23T14:12:00.991Z"
   },
   {
    "duration": 0,
    "start_time": "2023-05-23T14:12:00.992Z"
   },
   {
    "duration": 3,
    "start_time": "2023-05-23T14:12:00.995Z"
   },
   {
    "duration": 61,
    "start_time": "2023-05-23T14:12:00.999Z"
   },
   {
    "duration": 41,
    "start_time": "2023-05-23T14:12:01.062Z"
   },
   {
    "duration": 29,
    "start_time": "2023-05-23T14:12:01.105Z"
   },
   {
    "duration": 4,
    "start_time": "2023-05-23T14:15:50.300Z"
   },
   {
    "duration": 220,
    "start_time": "2023-05-23T14:15:50.312Z"
   },
   {
    "duration": 9,
    "start_time": "2023-05-23T14:15:50.535Z"
   },
   {
    "duration": 68,
    "start_time": "2023-05-23T14:15:50.546Z"
   },
   {
    "duration": 4,
    "start_time": "2023-05-23T14:15:50.617Z"
   },
   {
    "duration": 10,
    "start_time": "2023-05-23T14:15:50.623Z"
   },
   {
    "duration": 23,
    "start_time": "2023-05-23T14:15:50.636Z"
   },
   {
    "duration": 4,
    "start_time": "2023-05-23T14:15:50.662Z"
   },
   {
    "duration": 23,
    "start_time": "2023-05-23T14:15:50.668Z"
   },
   {
    "duration": 6,
    "start_time": "2023-05-23T14:15:50.694Z"
   },
   {
    "duration": 4,
    "start_time": "2023-05-23T14:15:50.705Z"
   },
   {
    "duration": 6,
    "start_time": "2023-05-23T14:15:50.710Z"
   },
   {
    "duration": 10,
    "start_time": "2023-05-23T14:15:50.718Z"
   },
   {
    "duration": 5,
    "start_time": "2023-05-23T14:15:50.729Z"
   },
   {
    "duration": 17,
    "start_time": "2023-05-23T14:15:50.736Z"
   },
   {
    "duration": 11,
    "start_time": "2023-05-23T14:15:50.755Z"
   },
   {
    "duration": 6,
    "start_time": "2023-05-23T14:15:50.768Z"
   },
   {
    "duration": 7,
    "start_time": "2023-05-23T14:15:50.790Z"
   },
   {
    "duration": 4,
    "start_time": "2023-05-23T14:15:50.799Z"
   },
   {
    "duration": 8,
    "start_time": "2023-05-23T14:15:50.806Z"
   },
   {
    "duration": 20,
    "start_time": "2023-05-23T14:15:50.815Z"
   },
   {
    "duration": 12,
    "start_time": "2023-05-23T14:15:50.837Z"
   },
   {
    "duration": 16,
    "start_time": "2023-05-23T14:15:50.851Z"
   },
   {
    "duration": 17,
    "start_time": "2023-05-23T14:15:50.868Z"
   },
   {
    "duration": 7,
    "start_time": "2023-05-23T14:15:50.887Z"
   },
   {
    "duration": 5,
    "start_time": "2023-05-23T14:15:50.895Z"
   },
   {
    "duration": 4,
    "start_time": "2023-05-23T14:15:50.901Z"
   },
   {
    "duration": 7,
    "start_time": "2023-05-23T14:15:50.906Z"
   },
   {
    "duration": 7,
    "start_time": "2023-05-23T14:15:50.919Z"
   },
   {
    "duration": 84,
    "start_time": "2023-05-23T14:15:50.928Z"
   },
   {
    "duration": 0,
    "start_time": "2023-05-23T14:15:51.015Z"
   },
   {
    "duration": 0,
    "start_time": "2023-05-23T14:15:51.016Z"
   },
   {
    "duration": 0,
    "start_time": "2023-05-23T14:15:51.017Z"
   },
   {
    "duration": 1,
    "start_time": "2023-05-23T14:15:51.018Z"
   },
   {
    "duration": 0,
    "start_time": "2023-05-23T14:15:51.020Z"
   },
   {
    "duration": 0,
    "start_time": "2023-05-23T14:15:51.022Z"
   },
   {
    "duration": 0,
    "start_time": "2023-05-23T14:15:51.023Z"
   },
   {
    "duration": 0,
    "start_time": "2023-05-23T14:15:51.024Z"
   },
   {
    "duration": 26,
    "start_time": "2023-05-23T14:20:40.343Z"
   },
   {
    "duration": 29,
    "start_time": "2023-05-23T14:30:58.029Z"
   },
   {
    "duration": 2,
    "start_time": "2023-05-23T14:32:48.244Z"
   },
   {
    "duration": 215,
    "start_time": "2023-05-23T14:32:48.248Z"
   },
   {
    "duration": 8,
    "start_time": "2023-05-23T14:32:48.464Z"
   },
   {
    "duration": 45,
    "start_time": "2023-05-23T14:32:48.493Z"
   },
   {
    "duration": 3,
    "start_time": "2023-05-23T14:32:48.541Z"
   },
   {
    "duration": 9,
    "start_time": "2023-05-23T14:32:48.545Z"
   },
   {
    "duration": 10,
    "start_time": "2023-05-23T14:32:48.556Z"
   },
   {
    "duration": 7,
    "start_time": "2023-05-23T14:32:48.589Z"
   },
   {
    "duration": 32,
    "start_time": "2023-05-23T14:32:48.598Z"
   },
   {
    "duration": 21,
    "start_time": "2023-05-23T14:32:48.632Z"
   },
   {
    "duration": 64,
    "start_time": "2023-05-23T14:32:48.656Z"
   },
   {
    "duration": 90,
    "start_time": "2023-05-23T14:32:48.721Z"
   },
   {
    "duration": 105,
    "start_time": "2023-05-23T14:32:48.813Z"
   },
   {
    "duration": 2,
    "start_time": "2023-05-23T14:32:48.920Z"
   },
   {
    "duration": 14,
    "start_time": "2023-05-23T14:32:48.923Z"
   },
   {
    "duration": 13,
    "start_time": "2023-05-23T14:32:48.939Z"
   },
   {
    "duration": 6,
    "start_time": "2023-05-23T14:32:48.954Z"
   },
   {
    "duration": 7,
    "start_time": "2023-05-23T14:32:48.961Z"
   },
   {
    "duration": 5,
    "start_time": "2023-05-23T14:32:48.970Z"
   },
   {
    "duration": 17,
    "start_time": "2023-05-23T14:32:48.977Z"
   },
   {
    "duration": 11,
    "start_time": "2023-05-23T14:32:48.997Z"
   },
   {
    "duration": 5,
    "start_time": "2023-05-23T14:32:49.011Z"
   },
   {
    "duration": 15,
    "start_time": "2023-05-23T14:32:49.018Z"
   },
   {
    "duration": 8,
    "start_time": "2023-05-23T14:32:49.035Z"
   },
   {
    "duration": 24,
    "start_time": "2023-05-23T14:32:49.045Z"
   },
   {
    "duration": 9,
    "start_time": "2023-05-23T14:32:49.070Z"
   },
   {
    "duration": 15,
    "start_time": "2023-05-23T14:32:49.080Z"
   },
   {
    "duration": 22,
    "start_time": "2023-05-23T14:32:49.098Z"
   },
   {
    "duration": 7,
    "start_time": "2023-05-23T14:32:49.124Z"
   },
   {
    "duration": 88,
    "start_time": "2023-05-23T14:32:49.133Z"
   },
   {
    "duration": 0,
    "start_time": "2023-05-23T14:32:49.223Z"
   },
   {
    "duration": 0,
    "start_time": "2023-05-23T14:32:49.224Z"
   },
   {
    "duration": 0,
    "start_time": "2023-05-23T14:32:49.225Z"
   },
   {
    "duration": 0,
    "start_time": "2023-05-23T14:32:49.226Z"
   },
   {
    "duration": 0,
    "start_time": "2023-05-23T14:32:49.227Z"
   },
   {
    "duration": 0,
    "start_time": "2023-05-23T14:32:49.229Z"
   },
   {
    "duration": 0,
    "start_time": "2023-05-23T14:32:49.230Z"
   },
   {
    "duration": 0,
    "start_time": "2023-05-23T14:32:49.231Z"
   },
   {
    "duration": 3,
    "start_time": "2023-05-23T14:42:09.101Z"
   },
   {
    "duration": 185,
    "start_time": "2023-05-23T14:42:09.117Z"
   },
   {
    "duration": 8,
    "start_time": "2023-05-23T14:42:09.304Z"
   },
   {
    "duration": 36,
    "start_time": "2023-05-23T14:42:09.313Z"
   },
   {
    "duration": 3,
    "start_time": "2023-05-23T14:42:09.352Z"
   },
   {
    "duration": 8,
    "start_time": "2023-05-23T14:42:09.357Z"
   },
   {
    "duration": 10,
    "start_time": "2023-05-23T14:42:09.389Z"
   },
   {
    "duration": 12,
    "start_time": "2023-05-23T14:42:09.401Z"
   },
   {
    "duration": 42,
    "start_time": "2023-05-23T14:42:09.416Z"
   },
   {
    "duration": 42,
    "start_time": "2023-05-23T14:42:09.460Z"
   },
   {
    "duration": 24,
    "start_time": "2023-05-23T14:42:09.505Z"
   },
   {
    "duration": 96,
    "start_time": "2023-05-23T14:42:09.530Z"
   },
   {
    "duration": 93,
    "start_time": "2023-05-23T14:42:09.628Z"
   },
   {
    "duration": 80,
    "start_time": "2023-05-23T14:42:09.723Z"
   },
   {
    "duration": 3,
    "start_time": "2023-05-23T14:42:09.804Z"
   },
   {
    "duration": 6,
    "start_time": "2023-05-23T14:42:09.809Z"
   },
   {
    "duration": 8,
    "start_time": "2023-05-23T14:42:09.817Z"
   },
   {
    "duration": 4,
    "start_time": "2023-05-23T14:42:09.827Z"
   },
   {
    "duration": 5,
    "start_time": "2023-05-23T14:42:09.832Z"
   },
   {
    "duration": 5,
    "start_time": "2023-05-23T14:42:09.839Z"
   },
   {
    "duration": 6,
    "start_time": "2023-05-23T14:42:09.846Z"
   },
   {
    "duration": 5,
    "start_time": "2023-05-23T14:42:09.854Z"
   },
   {
    "duration": 17,
    "start_time": "2023-05-23T14:42:09.860Z"
   },
   {
    "duration": 6,
    "start_time": "2023-05-23T14:42:09.878Z"
   },
   {
    "duration": 7,
    "start_time": "2023-05-23T14:42:09.888Z"
   },
   {
    "duration": 5,
    "start_time": "2023-05-23T14:42:09.897Z"
   },
   {
    "duration": 7,
    "start_time": "2023-05-23T14:42:09.903Z"
   },
   {
    "duration": 10,
    "start_time": "2023-05-23T14:42:09.912Z"
   },
   {
    "duration": 10,
    "start_time": "2023-05-23T14:42:09.925Z"
   },
   {
    "duration": 78,
    "start_time": "2023-05-23T14:42:09.936Z"
   },
   {
    "duration": 0,
    "start_time": "2023-05-23T14:42:10.015Z"
   },
   {
    "duration": 0,
    "start_time": "2023-05-23T14:42:10.017Z"
   },
   {
    "duration": 0,
    "start_time": "2023-05-23T14:42:10.017Z"
   },
   {
    "duration": 0,
    "start_time": "2023-05-23T14:42:10.018Z"
   },
   {
    "duration": 0,
    "start_time": "2023-05-23T14:42:10.019Z"
   },
   {
    "duration": 0,
    "start_time": "2023-05-23T14:42:10.020Z"
   },
   {
    "duration": 0,
    "start_time": "2023-05-23T14:42:10.021Z"
   },
   {
    "duration": 0,
    "start_time": "2023-05-23T14:42:10.022Z"
   },
   {
    "duration": 3,
    "start_time": "2023-05-23T14:59:17.998Z"
   },
   {
    "duration": 175,
    "start_time": "2023-05-23T14:59:18.009Z"
   },
   {
    "duration": 8,
    "start_time": "2023-05-23T14:59:18.186Z"
   },
   {
    "duration": 28,
    "start_time": "2023-05-23T14:59:18.195Z"
   },
   {
    "duration": 4,
    "start_time": "2023-05-23T14:59:18.225Z"
   },
   {
    "duration": 5,
    "start_time": "2023-05-23T14:59:18.230Z"
   },
   {
    "duration": 8,
    "start_time": "2023-05-23T14:59:18.236Z"
   },
   {
    "duration": 3,
    "start_time": "2023-05-23T14:59:18.246Z"
   },
   {
    "duration": 56,
    "start_time": "2023-05-23T14:59:18.251Z"
   },
   {
    "duration": 29,
    "start_time": "2023-05-23T14:59:18.308Z"
   },
   {
    "duration": 23,
    "start_time": "2023-05-23T14:59:18.340Z"
   },
   {
    "duration": 80,
    "start_time": "2023-05-23T14:59:18.364Z"
   },
   {
    "duration": 95,
    "start_time": "2023-05-23T14:59:18.445Z"
   },
   {
    "duration": 68,
    "start_time": "2023-05-23T14:59:18.542Z"
   },
   {
    "duration": 46,
    "start_time": "2023-05-23T14:59:18.612Z"
   },
   {
    "duration": 3,
    "start_time": "2023-05-23T14:59:18.660Z"
   },
   {
    "duration": 23,
    "start_time": "2023-05-23T14:59:18.665Z"
   },
   {
    "duration": 2,
    "start_time": "2023-05-23T14:59:18.690Z"
   },
   {
    "duration": 5,
    "start_time": "2023-05-23T14:59:18.694Z"
   },
   {
    "duration": 7,
    "start_time": "2023-05-23T14:59:18.701Z"
   },
   {
    "duration": 8,
    "start_time": "2023-05-23T14:59:18.710Z"
   },
   {
    "duration": 5,
    "start_time": "2023-05-23T14:59:18.719Z"
   },
   {
    "duration": 5,
    "start_time": "2023-05-23T14:59:18.725Z"
   },
   {
    "duration": 4,
    "start_time": "2023-05-23T14:59:18.732Z"
   },
   {
    "duration": 15,
    "start_time": "2023-05-23T14:59:18.737Z"
   },
   {
    "duration": 26,
    "start_time": "2023-05-23T14:59:18.755Z"
   },
   {
    "duration": 5,
    "start_time": "2023-05-23T14:59:18.784Z"
   },
   {
    "duration": 9,
    "start_time": "2023-05-23T14:59:18.790Z"
   },
   {
    "duration": 5,
    "start_time": "2023-05-23T14:59:18.801Z"
   },
   {
    "duration": 96,
    "start_time": "2023-05-23T14:59:18.808Z"
   },
   {
    "duration": 0,
    "start_time": "2023-05-23T14:59:18.906Z"
   },
   {
    "duration": 0,
    "start_time": "2023-05-23T14:59:18.907Z"
   },
   {
    "duration": 0,
    "start_time": "2023-05-23T14:59:18.908Z"
   },
   {
    "duration": 0,
    "start_time": "2023-05-23T14:59:18.909Z"
   },
   {
    "duration": 0,
    "start_time": "2023-05-23T14:59:18.910Z"
   },
   {
    "duration": 0,
    "start_time": "2023-05-23T14:59:18.911Z"
   },
   {
    "duration": 0,
    "start_time": "2023-05-23T14:59:18.912Z"
   },
   {
    "duration": 0,
    "start_time": "2023-05-23T14:59:18.912Z"
   },
   {
    "duration": 3,
    "start_time": "2023-05-23T15:08:04.214Z"
   },
   {
    "duration": 168,
    "start_time": "2023-05-23T15:08:04.236Z"
   },
   {
    "duration": 6,
    "start_time": "2023-05-23T15:08:04.406Z"
   },
   {
    "duration": 29,
    "start_time": "2023-05-23T15:08:04.413Z"
   },
   {
    "duration": 2,
    "start_time": "2023-05-23T15:08:04.444Z"
   },
   {
    "duration": 4,
    "start_time": "2023-05-23T15:08:04.448Z"
   },
   {
    "duration": 34,
    "start_time": "2023-05-23T15:08:04.454Z"
   },
   {
    "duration": 3,
    "start_time": "2023-05-23T15:08:04.490Z"
   },
   {
    "duration": 23,
    "start_time": "2023-05-23T15:08:04.495Z"
   },
   {
    "duration": 16,
    "start_time": "2023-05-23T15:08:04.520Z"
   },
   {
    "duration": 51,
    "start_time": "2023-05-23T15:08:04.539Z"
   },
   {
    "duration": 61,
    "start_time": "2023-05-23T15:08:04.592Z"
   },
   {
    "duration": 92,
    "start_time": "2023-05-23T15:08:04.655Z"
   },
   {
    "duration": 76,
    "start_time": "2023-05-23T15:08:04.748Z"
   },
   {
    "duration": 63,
    "start_time": "2023-05-23T15:08:04.827Z"
   },
   {
    "duration": 12,
    "start_time": "2023-05-23T15:08:04.891Z"
   },
   {
    "duration": 7,
    "start_time": "2023-05-23T15:08:04.904Z"
   },
   {
    "duration": 7,
    "start_time": "2023-05-23T15:08:04.912Z"
   },
   {
    "duration": 4,
    "start_time": "2023-05-23T15:08:04.920Z"
   },
   {
    "duration": 4,
    "start_time": "2023-05-23T15:08:04.925Z"
   },
   {
    "duration": 4,
    "start_time": "2023-05-23T15:08:04.932Z"
   },
   {
    "duration": 6,
    "start_time": "2023-05-23T15:08:04.938Z"
   },
   {
    "duration": 4,
    "start_time": "2023-05-23T15:08:04.945Z"
   },
   {
    "duration": 4,
    "start_time": "2023-05-23T15:08:04.950Z"
   },
   {
    "duration": 33,
    "start_time": "2023-05-23T15:08:04.955Z"
   },
   {
    "duration": 2,
    "start_time": "2023-05-23T15:08:04.990Z"
   },
   {
    "duration": 5,
    "start_time": "2023-05-23T15:08:04.993Z"
   },
   {
    "duration": 4,
    "start_time": "2023-05-23T15:08:05.000Z"
   },
   {
    "duration": 4,
    "start_time": "2023-05-23T15:08:05.006Z"
   },
   {
    "duration": 72,
    "start_time": "2023-05-23T15:08:05.012Z"
   },
   {
    "duration": 0,
    "start_time": "2023-05-23T15:08:05.085Z"
   },
   {
    "duration": 0,
    "start_time": "2023-05-23T15:08:05.086Z"
   },
   {
    "duration": 0,
    "start_time": "2023-05-23T15:08:05.088Z"
   },
   {
    "duration": 0,
    "start_time": "2023-05-23T15:08:05.089Z"
   },
   {
    "duration": 0,
    "start_time": "2023-05-23T15:08:05.090Z"
   },
   {
    "duration": 0,
    "start_time": "2023-05-23T15:08:05.092Z"
   },
   {
    "duration": 0,
    "start_time": "2023-05-23T15:08:05.093Z"
   },
   {
    "duration": 0,
    "start_time": "2023-05-23T15:08:05.094Z"
   },
   {
    "duration": 3,
    "start_time": "2023-05-23T15:09:45.900Z"
   },
   {
    "duration": 186,
    "start_time": "2023-05-23T15:09:45.908Z"
   },
   {
    "duration": 8,
    "start_time": "2023-05-23T15:09:46.096Z"
   },
   {
    "duration": 30,
    "start_time": "2023-05-23T15:09:46.105Z"
   },
   {
    "duration": 3,
    "start_time": "2023-05-23T15:09:46.137Z"
   },
   {
    "duration": 18,
    "start_time": "2023-05-23T15:09:46.141Z"
   },
   {
    "duration": 28,
    "start_time": "2023-05-23T15:09:46.160Z"
   },
   {
    "duration": 4,
    "start_time": "2023-05-23T15:09:46.190Z"
   },
   {
    "duration": 25,
    "start_time": "2023-05-23T15:09:46.195Z"
   },
   {
    "duration": 18,
    "start_time": "2023-05-23T15:09:46.222Z"
   },
   {
    "duration": 48,
    "start_time": "2023-05-23T15:09:46.243Z"
   },
   {
    "duration": 74,
    "start_time": "2023-05-23T15:09:46.292Z"
   },
   {
    "duration": 89,
    "start_time": "2023-05-23T15:09:46.368Z"
   },
   {
    "duration": 74,
    "start_time": "2023-05-23T15:09:46.458Z"
   },
   {
    "duration": 59,
    "start_time": "2023-05-23T15:09:46.534Z"
   },
   {
    "duration": 11,
    "start_time": "2023-05-23T15:09:46.594Z"
   },
   {
    "duration": 29,
    "start_time": "2023-05-23T15:09:46.606Z"
   },
   {
    "duration": 9,
    "start_time": "2023-05-23T15:09:46.637Z"
   },
   {
    "duration": 15,
    "start_time": "2023-05-23T15:09:46.648Z"
   },
   {
    "duration": 39,
    "start_time": "2023-05-23T15:09:46.664Z"
   },
   {
    "duration": 16,
    "start_time": "2023-05-23T15:09:46.705Z"
   },
   {
    "duration": 32,
    "start_time": "2023-05-23T15:09:46.724Z"
   },
   {
    "duration": 13,
    "start_time": "2023-05-23T15:09:46.757Z"
   },
   {
    "duration": 8,
    "start_time": "2023-05-23T15:09:46.772Z"
   },
   {
    "duration": 22,
    "start_time": "2023-05-23T15:09:46.782Z"
   },
   {
    "duration": 21,
    "start_time": "2023-05-23T15:09:46.806Z"
   },
   {
    "duration": 10,
    "start_time": "2023-05-23T15:09:46.828Z"
   },
   {
    "duration": 5,
    "start_time": "2023-05-23T15:09:46.840Z"
   },
   {
    "duration": 6,
    "start_time": "2023-05-23T15:09:46.848Z"
   },
   {
    "duration": 71,
    "start_time": "2023-05-23T15:09:46.856Z"
   },
   {
    "duration": 0,
    "start_time": "2023-05-23T15:09:46.928Z"
   },
   {
    "duration": 0,
    "start_time": "2023-05-23T15:09:46.930Z"
   },
   {
    "duration": 0,
    "start_time": "2023-05-23T15:09:46.931Z"
   },
   {
    "duration": 0,
    "start_time": "2023-05-23T15:09:46.932Z"
   },
   {
    "duration": 0,
    "start_time": "2023-05-23T15:09:46.933Z"
   },
   {
    "duration": 0,
    "start_time": "2023-05-23T15:09:46.934Z"
   },
   {
    "duration": 0,
    "start_time": "2023-05-23T15:09:46.936Z"
   },
   {
    "duration": 0,
    "start_time": "2023-05-23T15:09:46.937Z"
   },
   {
    "duration": 3,
    "start_time": "2023-05-23T15:31:07.967Z"
   },
   {
    "duration": 203,
    "start_time": "2023-05-23T15:31:07.978Z"
   },
   {
    "duration": 9,
    "start_time": "2023-05-23T15:31:08.193Z"
   },
   {
    "duration": 34,
    "start_time": "2023-05-23T15:31:08.204Z"
   },
   {
    "duration": 4,
    "start_time": "2023-05-23T15:31:08.240Z"
   },
   {
    "duration": 5,
    "start_time": "2023-05-23T15:31:08.246Z"
   },
   {
    "duration": 9,
    "start_time": "2023-05-23T15:31:08.253Z"
   },
   {
    "duration": 25,
    "start_time": "2023-05-23T15:31:08.263Z"
   },
   {
    "duration": 29,
    "start_time": "2023-05-23T15:31:08.290Z"
   },
   {
    "duration": 18,
    "start_time": "2023-05-23T15:31:08.320Z"
   },
   {
    "duration": 50,
    "start_time": "2023-05-23T15:31:08.341Z"
   },
   {
    "duration": 68,
    "start_time": "2023-05-23T15:31:08.393Z"
   },
   {
    "duration": 96,
    "start_time": "2023-05-23T15:31:08.462Z"
   },
   {
    "duration": 80,
    "start_time": "2023-05-23T15:31:08.560Z"
   },
   {
    "duration": 52,
    "start_time": "2023-05-23T15:31:08.642Z"
   },
   {
    "duration": 15,
    "start_time": "2023-05-23T15:31:08.696Z"
   },
   {
    "duration": 39,
    "start_time": "2023-05-23T15:31:08.713Z"
   },
   {
    "duration": 2,
    "start_time": "2023-05-23T15:31:08.754Z"
   },
   {
    "duration": 13,
    "start_time": "2023-05-23T15:31:08.758Z"
   },
   {
    "duration": 40,
    "start_time": "2023-05-23T15:31:08.773Z"
   },
   {
    "duration": 12,
    "start_time": "2023-05-23T15:31:08.814Z"
   },
   {
    "duration": 4,
    "start_time": "2023-05-23T15:31:08.827Z"
   },
   {
    "duration": 15,
    "start_time": "2023-05-23T15:31:08.833Z"
   },
   {
    "duration": 4,
    "start_time": "2023-05-23T15:31:08.850Z"
   },
   {
    "duration": 25,
    "start_time": "2023-05-23T15:31:08.856Z"
   },
   {
    "duration": 25,
    "start_time": "2023-05-23T15:31:08.883Z"
   },
   {
    "duration": 5,
    "start_time": "2023-05-23T15:31:08.909Z"
   },
   {
    "duration": 14,
    "start_time": "2023-05-23T15:31:08.916Z"
   },
   {
    "duration": 10,
    "start_time": "2023-05-23T15:31:08.933Z"
   },
   {
    "duration": 97,
    "start_time": "2023-05-23T15:31:08.944Z"
   },
   {
    "duration": 0,
    "start_time": "2023-05-23T15:31:09.043Z"
   },
   {
    "duration": 0,
    "start_time": "2023-05-23T15:31:09.044Z"
   },
   {
    "duration": 0,
    "start_time": "2023-05-23T15:31:09.045Z"
   },
   {
    "duration": 0,
    "start_time": "2023-05-23T15:31:09.046Z"
   },
   {
    "duration": 0,
    "start_time": "2023-05-23T15:31:09.047Z"
   },
   {
    "duration": 0,
    "start_time": "2023-05-23T15:31:09.048Z"
   },
   {
    "duration": 0,
    "start_time": "2023-05-23T15:31:09.049Z"
   },
   {
    "duration": 0,
    "start_time": "2023-05-23T15:31:09.050Z"
   },
   {
    "duration": 3,
    "start_time": "2023-05-23T15:41:04.335Z"
   },
   {
    "duration": 196,
    "start_time": "2023-05-23T15:41:04.341Z"
   },
   {
    "duration": 8,
    "start_time": "2023-05-23T15:41:04.539Z"
   },
   {
    "duration": 47,
    "start_time": "2023-05-23T15:41:04.548Z"
   },
   {
    "duration": 3,
    "start_time": "2023-05-23T15:41:04.602Z"
   },
   {
    "duration": 7,
    "start_time": "2023-05-23T15:41:04.606Z"
   },
   {
    "duration": 12,
    "start_time": "2023-05-23T15:41:04.614Z"
   },
   {
    "duration": 4,
    "start_time": "2023-05-23T15:41:04.627Z"
   },
   {
    "duration": 24,
    "start_time": "2023-05-23T15:41:04.632Z"
   },
   {
    "duration": 41,
    "start_time": "2023-05-23T15:41:04.658Z"
   },
   {
    "duration": 22,
    "start_time": "2023-05-23T15:41:04.702Z"
   },
   {
    "duration": 75,
    "start_time": "2023-05-23T15:41:04.726Z"
   },
   {
    "duration": 89,
    "start_time": "2023-05-23T15:41:04.802Z"
   },
   {
    "duration": 66,
    "start_time": "2023-05-23T15:41:04.895Z"
   },
   {
    "duration": 57,
    "start_time": "2023-05-23T15:41:04.963Z"
   },
   {
    "duration": 12,
    "start_time": "2023-05-23T15:41:05.021Z"
   },
   {
    "duration": 55,
    "start_time": "2023-05-23T15:41:05.035Z"
   },
   {
    "duration": 3,
    "start_time": "2023-05-23T15:41:05.092Z"
   },
   {
    "duration": 14,
    "start_time": "2023-05-23T15:41:05.096Z"
   },
   {
    "duration": 8,
    "start_time": "2023-05-23T15:41:05.112Z"
   },
   {
    "duration": 10,
    "start_time": "2023-05-23T15:41:05.121Z"
   },
   {
    "duration": 6,
    "start_time": "2023-05-23T15:41:05.133Z"
   },
   {
    "duration": 14,
    "start_time": "2023-05-23T15:41:05.140Z"
   },
   {
    "duration": 5,
    "start_time": "2023-05-23T15:41:05.155Z"
   },
   {
    "duration": 15,
    "start_time": "2023-05-23T15:41:05.161Z"
   },
   {
    "duration": 17,
    "start_time": "2023-05-23T15:41:05.177Z"
   },
   {
    "duration": 8,
    "start_time": "2023-05-23T15:41:05.196Z"
   },
   {
    "duration": 6,
    "start_time": "2023-05-23T15:41:05.206Z"
   },
   {
    "duration": 5,
    "start_time": "2023-05-23T15:41:05.214Z"
   },
   {
    "duration": 82,
    "start_time": "2023-05-23T15:41:05.220Z"
   },
   {
    "duration": 0,
    "start_time": "2023-05-23T15:41:05.303Z"
   },
   {
    "duration": 0,
    "start_time": "2023-05-23T15:41:05.304Z"
   },
   {
    "duration": 0,
    "start_time": "2023-05-23T15:41:05.305Z"
   },
   {
    "duration": 0,
    "start_time": "2023-05-23T15:41:05.306Z"
   },
   {
    "duration": 0,
    "start_time": "2023-05-23T15:41:05.308Z"
   },
   {
    "duration": 0,
    "start_time": "2023-05-23T15:41:05.309Z"
   },
   {
    "duration": 0,
    "start_time": "2023-05-23T15:41:05.309Z"
   },
   {
    "duration": 0,
    "start_time": "2023-05-23T15:41:05.310Z"
   },
   {
    "duration": 3,
    "start_time": "2023-05-23T15:43:34.966Z"
   },
   {
    "duration": 201,
    "start_time": "2023-05-23T15:43:34.972Z"
   },
   {
    "duration": 8,
    "start_time": "2023-05-23T15:43:35.175Z"
   },
   {
    "duration": 43,
    "start_time": "2023-05-23T15:43:35.184Z"
   },
   {
    "duration": 14,
    "start_time": "2023-05-23T15:43:35.230Z"
   },
   {
    "duration": 6,
    "start_time": "2023-05-23T15:43:35.246Z"
   },
   {
    "duration": 37,
    "start_time": "2023-05-23T15:43:35.254Z"
   },
   {
    "duration": 10,
    "start_time": "2023-05-23T15:43:35.293Z"
   },
   {
    "duration": 31,
    "start_time": "2023-05-23T15:43:35.305Z"
   },
   {
    "duration": 21,
    "start_time": "2023-05-23T15:43:35.338Z"
   },
   {
    "duration": 43,
    "start_time": "2023-05-23T15:43:35.361Z"
   },
   {
    "duration": 72,
    "start_time": "2023-05-23T15:43:35.411Z"
   },
   {
    "duration": 85,
    "start_time": "2023-05-23T15:43:35.491Z"
   },
   {
    "duration": 77,
    "start_time": "2023-05-23T15:43:35.622Z"
   },
   {
    "duration": 38,
    "start_time": "2023-05-23T15:43:35.702Z"
   },
   {
    "duration": 18,
    "start_time": "2023-05-23T15:43:35.742Z"
   },
   {
    "duration": 58,
    "start_time": "2023-05-23T15:43:35.762Z"
   },
   {
    "duration": 2,
    "start_time": "2023-05-23T15:43:35.822Z"
   },
   {
    "duration": 28,
    "start_time": "2023-05-23T15:43:35.826Z"
   },
   {
    "duration": 43,
    "start_time": "2023-05-23T15:43:35.855Z"
   },
   {
    "duration": 3,
    "start_time": "2023-05-23T15:43:35.901Z"
   },
   {
    "duration": 19,
    "start_time": "2023-05-23T15:43:35.905Z"
   },
   {
    "duration": 8,
    "start_time": "2023-05-23T15:43:35.926Z"
   },
   {
    "duration": 13,
    "start_time": "2023-05-23T15:43:35.935Z"
   },
   {
    "duration": 11,
    "start_time": "2023-05-23T15:43:35.949Z"
   },
   {
    "duration": 13,
    "start_time": "2023-05-23T15:43:35.962Z"
   },
   {
    "duration": 24,
    "start_time": "2023-05-23T15:43:35.976Z"
   },
   {
    "duration": 17,
    "start_time": "2023-05-23T15:43:36.001Z"
   },
   {
    "duration": 10,
    "start_time": "2023-05-23T15:43:36.019Z"
   },
   {
    "duration": 80,
    "start_time": "2023-05-23T15:43:36.031Z"
   },
   {
    "duration": 0,
    "start_time": "2023-05-23T15:43:36.112Z"
   },
   {
    "duration": 0,
    "start_time": "2023-05-23T15:43:36.114Z"
   },
   {
    "duration": 0,
    "start_time": "2023-05-23T15:43:36.115Z"
   },
   {
    "duration": 0,
    "start_time": "2023-05-23T15:43:36.116Z"
   },
   {
    "duration": 0,
    "start_time": "2023-05-23T15:43:36.117Z"
   },
   {
    "duration": 0,
    "start_time": "2023-05-23T15:43:36.118Z"
   },
   {
    "duration": 0,
    "start_time": "2023-05-23T15:43:36.119Z"
   },
   {
    "duration": 0,
    "start_time": "2023-05-23T15:43:36.120Z"
   },
   {
    "duration": 441,
    "start_time": "2023-05-23T15:47:57.367Z"
   },
   {
    "duration": 176,
    "start_time": "2023-05-23T15:47:57.811Z"
   },
   {
    "duration": 12,
    "start_time": "2023-05-23T15:47:57.992Z"
   },
   {
    "duration": 28,
    "start_time": "2023-05-23T15:47:58.007Z"
   },
   {
    "duration": 8,
    "start_time": "2023-05-23T15:47:58.037Z"
   },
   {
    "duration": 8,
    "start_time": "2023-05-23T15:47:58.046Z"
   },
   {
    "duration": 21,
    "start_time": "2023-05-23T15:47:58.056Z"
   },
   {
    "duration": 15,
    "start_time": "2023-05-23T15:47:58.079Z"
   },
   {
    "duration": 28,
    "start_time": "2023-05-23T15:47:58.096Z"
   },
   {
    "duration": 19,
    "start_time": "2023-05-23T15:47:58.128Z"
   },
   {
    "duration": 40,
    "start_time": "2023-05-23T15:47:58.149Z"
   },
   {
    "duration": 75,
    "start_time": "2023-05-23T15:47:58.192Z"
   },
   {
    "duration": 120,
    "start_time": "2023-05-23T15:47:58.269Z"
   },
   {
    "duration": 68,
    "start_time": "2023-05-23T15:47:58.391Z"
   },
   {
    "duration": 60,
    "start_time": "2023-05-23T15:47:58.460Z"
   },
   {
    "duration": 11,
    "start_time": "2023-05-23T15:47:58.522Z"
   },
   {
    "duration": 40,
    "start_time": "2023-05-23T15:47:58.535Z"
   },
   {
    "duration": 13,
    "start_time": "2023-05-23T15:47:58.576Z"
   },
   {
    "duration": 3,
    "start_time": "2023-05-23T15:47:58.591Z"
   },
   {
    "duration": 10,
    "start_time": "2023-05-23T15:47:58.595Z"
   },
   {
    "duration": 6,
    "start_time": "2023-05-23T15:47:58.608Z"
   },
   {
    "duration": 7,
    "start_time": "2023-05-23T15:47:58.615Z"
   },
   {
    "duration": 4,
    "start_time": "2023-05-23T15:47:58.624Z"
   },
   {
    "duration": 6,
    "start_time": "2023-05-23T15:47:58.630Z"
   },
   {
    "duration": 7,
    "start_time": "2023-05-23T15:47:58.637Z"
   },
   {
    "duration": 7,
    "start_time": "2023-05-23T15:47:58.646Z"
   },
   {
    "duration": 6,
    "start_time": "2023-05-23T15:47:58.654Z"
   },
   {
    "duration": 25,
    "start_time": "2023-05-23T15:47:58.663Z"
   },
   {
    "duration": 8,
    "start_time": "2023-05-23T15:47:58.690Z"
   },
   {
    "duration": 78,
    "start_time": "2023-05-23T15:47:58.700Z"
   },
   {
    "duration": 0,
    "start_time": "2023-05-23T15:47:58.781Z"
   },
   {
    "duration": 0,
    "start_time": "2023-05-23T15:47:58.782Z"
   },
   {
    "duration": 0,
    "start_time": "2023-05-23T15:47:58.784Z"
   },
   {
    "duration": 0,
    "start_time": "2023-05-23T15:47:58.785Z"
   },
   {
    "duration": 0,
    "start_time": "2023-05-23T15:47:58.786Z"
   },
   {
    "duration": 0,
    "start_time": "2023-05-23T15:47:58.788Z"
   },
   {
    "duration": 0,
    "start_time": "2023-05-23T15:47:58.789Z"
   },
   {
    "duration": 0,
    "start_time": "2023-05-23T15:47:58.790Z"
   },
   {
    "duration": 427,
    "start_time": "2023-05-23T15:49:47.855Z"
   },
   {
    "duration": 194,
    "start_time": "2023-05-23T15:49:48.284Z"
   },
   {
    "duration": 8,
    "start_time": "2023-05-23T15:49:48.480Z"
   },
   {
    "duration": 43,
    "start_time": "2023-05-23T15:49:48.490Z"
   },
   {
    "duration": 3,
    "start_time": "2023-05-23T15:49:48.535Z"
   },
   {
    "duration": 8,
    "start_time": "2023-05-23T15:49:48.539Z"
   },
   {
    "duration": 15,
    "start_time": "2023-05-23T15:49:48.549Z"
   },
   {
    "duration": 10,
    "start_time": "2023-05-23T15:49:48.565Z"
   },
   {
    "duration": 41,
    "start_time": "2023-05-23T15:49:48.576Z"
   },
   {
    "duration": 21,
    "start_time": "2023-05-23T15:49:48.618Z"
   },
   {
    "duration": 23,
    "start_time": "2023-05-23T15:49:48.641Z"
   },
   {
    "duration": 95,
    "start_time": "2023-05-23T15:49:48.666Z"
   },
   {
    "duration": 147,
    "start_time": "2023-05-23T15:49:48.763Z"
   },
   {
    "duration": 74,
    "start_time": "2023-05-23T15:49:48.914Z"
   },
   {
    "duration": 43,
    "start_time": "2023-05-23T15:49:48.990Z"
   },
   {
    "duration": 11,
    "start_time": "2023-05-23T15:49:49.035Z"
   },
   {
    "duration": 62,
    "start_time": "2023-05-23T15:49:49.048Z"
   },
   {
    "duration": 2,
    "start_time": "2023-05-23T15:49:49.112Z"
   },
   {
    "duration": 16,
    "start_time": "2023-05-23T15:49:49.116Z"
   },
   {
    "duration": 25,
    "start_time": "2023-05-23T15:49:49.133Z"
   },
   {
    "duration": 6,
    "start_time": "2023-05-23T15:49:49.160Z"
   },
   {
    "duration": 14,
    "start_time": "2023-05-23T15:49:49.167Z"
   },
   {
    "duration": 15,
    "start_time": "2023-05-23T15:49:49.183Z"
   },
   {
    "duration": 3,
    "start_time": "2023-05-23T15:49:49.203Z"
   },
   {
    "duration": 14,
    "start_time": "2023-05-23T15:49:49.207Z"
   },
   {
    "duration": 16,
    "start_time": "2023-05-23T15:49:49.223Z"
   },
   {
    "duration": 4,
    "start_time": "2023-05-23T15:49:49.240Z"
   },
   {
    "duration": 10,
    "start_time": "2023-05-23T15:49:49.246Z"
   },
   {
    "duration": 8,
    "start_time": "2023-05-23T15:49:49.259Z"
   },
   {
    "duration": 76,
    "start_time": "2023-05-23T15:49:49.269Z"
   },
   {
    "duration": 0,
    "start_time": "2023-05-23T15:49:49.347Z"
   },
   {
    "duration": 0,
    "start_time": "2023-05-23T15:49:49.348Z"
   },
   {
    "duration": 0,
    "start_time": "2023-05-23T15:49:49.350Z"
   },
   {
    "duration": 0,
    "start_time": "2023-05-23T15:49:49.351Z"
   },
   {
    "duration": 0,
    "start_time": "2023-05-23T15:49:49.352Z"
   },
   {
    "duration": 0,
    "start_time": "2023-05-23T15:49:49.353Z"
   },
   {
    "duration": 0,
    "start_time": "2023-05-23T15:49:49.354Z"
   },
   {
    "duration": 0,
    "start_time": "2023-05-23T15:49:49.355Z"
   },
   {
    "duration": 3,
    "start_time": "2023-05-23T15:50:24.673Z"
   },
   {
    "duration": 194,
    "start_time": "2023-05-23T15:50:24.680Z"
   },
   {
    "duration": 17,
    "start_time": "2023-05-23T15:50:24.876Z"
   },
   {
    "duration": 35,
    "start_time": "2023-05-23T15:50:24.896Z"
   },
   {
    "duration": 3,
    "start_time": "2023-05-23T15:50:24.933Z"
   },
   {
    "duration": 6,
    "start_time": "2023-05-23T15:50:24.937Z"
   },
   {
    "duration": 20,
    "start_time": "2023-05-23T15:50:24.944Z"
   },
   {
    "duration": 4,
    "start_time": "2023-05-23T15:50:24.966Z"
   },
   {
    "duration": 27,
    "start_time": "2023-05-23T15:50:24.989Z"
   },
   {
    "duration": 41,
    "start_time": "2023-05-23T15:50:25.018Z"
   },
   {
    "duration": 23,
    "start_time": "2023-05-23T15:50:25.062Z"
   },
   {
    "duration": 94,
    "start_time": "2023-05-23T15:50:25.086Z"
   },
   {
    "duration": 74,
    "start_time": "2023-05-23T15:50:25.182Z"
   },
   {
    "duration": 69,
    "start_time": "2023-05-23T15:50:25.258Z"
   },
   {
    "duration": 38,
    "start_time": "2023-05-23T15:50:25.329Z"
   },
   {
    "duration": 27,
    "start_time": "2023-05-23T15:50:25.368Z"
   },
   {
    "duration": 49,
    "start_time": "2023-05-23T15:50:25.396Z"
   },
   {
    "duration": 2,
    "start_time": "2023-05-23T15:50:25.447Z"
   },
   {
    "duration": 14,
    "start_time": "2023-05-23T15:50:25.451Z"
   },
   {
    "duration": 8,
    "start_time": "2023-05-23T15:50:25.467Z"
   },
   {
    "duration": 33,
    "start_time": "2023-05-23T15:50:25.476Z"
   },
   {
    "duration": 14,
    "start_time": "2023-05-23T15:50:25.510Z"
   },
   {
    "duration": 9,
    "start_time": "2023-05-23T15:50:25.525Z"
   },
   {
    "duration": 4,
    "start_time": "2023-05-23T15:50:25.535Z"
   },
   {
    "duration": 15,
    "start_time": "2023-05-23T15:50:25.541Z"
   },
   {
    "duration": 6,
    "start_time": "2023-05-23T15:50:25.558Z"
   },
   {
    "duration": 13,
    "start_time": "2023-05-23T15:50:25.565Z"
   },
   {
    "duration": 21,
    "start_time": "2023-05-23T15:50:25.579Z"
   },
   {
    "duration": 22,
    "start_time": "2023-05-23T15:50:25.603Z"
   },
   {
    "duration": 92,
    "start_time": "2023-05-23T15:50:25.626Z"
   },
   {
    "duration": 0,
    "start_time": "2023-05-23T15:50:25.720Z"
   },
   {
    "duration": 0,
    "start_time": "2023-05-23T15:50:25.721Z"
   },
   {
    "duration": 0,
    "start_time": "2023-05-23T15:50:25.722Z"
   },
   {
    "duration": 0,
    "start_time": "2023-05-23T15:50:25.723Z"
   },
   {
    "duration": 0,
    "start_time": "2023-05-23T15:50:25.725Z"
   },
   {
    "duration": 0,
    "start_time": "2023-05-23T15:50:25.726Z"
   },
   {
    "duration": 0,
    "start_time": "2023-05-23T15:50:25.727Z"
   },
   {
    "duration": 0,
    "start_time": "2023-05-23T15:50:25.728Z"
   },
   {
    "duration": 73,
    "start_time": "2023-05-23T15:50:54.713Z"
   },
   {
    "duration": 3,
    "start_time": "2023-05-23T15:52:15.065Z"
   },
   {
    "duration": 206,
    "start_time": "2023-05-23T15:52:15.070Z"
   },
   {
    "duration": 9,
    "start_time": "2023-05-23T15:52:15.287Z"
   },
   {
    "duration": 52,
    "start_time": "2023-05-23T15:52:15.298Z"
   },
   {
    "duration": 8,
    "start_time": "2023-05-23T15:52:15.352Z"
   },
   {
    "duration": 6,
    "start_time": "2023-05-23T15:52:15.362Z"
   },
   {
    "duration": 35,
    "start_time": "2023-05-23T15:52:15.369Z"
   },
   {
    "duration": 4,
    "start_time": "2023-05-23T15:52:15.407Z"
   },
   {
    "duration": 31,
    "start_time": "2023-05-23T15:52:15.413Z"
   },
   {
    "duration": 26,
    "start_time": "2023-05-23T15:52:15.447Z"
   },
   {
    "duration": 41,
    "start_time": "2023-05-23T15:52:15.487Z"
   },
   {
    "duration": 87,
    "start_time": "2023-05-23T15:52:15.530Z"
   },
   {
    "duration": 154,
    "start_time": "2023-05-23T15:52:15.619Z"
   },
   {
    "duration": 0,
    "start_time": "2023-05-23T15:52:15.775Z"
   },
   {
    "duration": 0,
    "start_time": "2023-05-23T15:52:15.777Z"
   },
   {
    "duration": 0,
    "start_time": "2023-05-23T15:52:15.778Z"
   },
   {
    "duration": 0,
    "start_time": "2023-05-23T15:52:15.788Z"
   },
   {
    "duration": 1,
    "start_time": "2023-05-23T15:52:15.789Z"
   },
   {
    "duration": 0,
    "start_time": "2023-05-23T15:52:15.791Z"
   },
   {
    "duration": 0,
    "start_time": "2023-05-23T15:52:15.792Z"
   },
   {
    "duration": 0,
    "start_time": "2023-05-23T15:52:15.793Z"
   },
   {
    "duration": 0,
    "start_time": "2023-05-23T15:52:15.795Z"
   },
   {
    "duration": 0,
    "start_time": "2023-05-23T15:52:15.796Z"
   },
   {
    "duration": 0,
    "start_time": "2023-05-23T15:52:15.797Z"
   },
   {
    "duration": 0,
    "start_time": "2023-05-23T15:52:15.799Z"
   },
   {
    "duration": 0,
    "start_time": "2023-05-23T15:52:15.800Z"
   },
   {
    "duration": 0,
    "start_time": "2023-05-23T15:52:15.801Z"
   },
   {
    "duration": 0,
    "start_time": "2023-05-23T15:52:15.802Z"
   },
   {
    "duration": 0,
    "start_time": "2023-05-23T15:52:15.803Z"
   },
   {
    "duration": 0,
    "start_time": "2023-05-23T15:52:15.804Z"
   },
   {
    "duration": 0,
    "start_time": "2023-05-23T15:52:15.805Z"
   },
   {
    "duration": 0,
    "start_time": "2023-05-23T15:52:15.806Z"
   },
   {
    "duration": 0,
    "start_time": "2023-05-23T15:52:15.807Z"
   },
   {
    "duration": 0,
    "start_time": "2023-05-23T15:52:15.808Z"
   },
   {
    "duration": 0,
    "start_time": "2023-05-23T15:52:15.809Z"
   },
   {
    "duration": 0,
    "start_time": "2023-05-23T15:52:15.811Z"
   },
   {
    "duration": 0,
    "start_time": "2023-05-23T15:52:15.812Z"
   },
   {
    "duration": 0,
    "start_time": "2023-05-23T15:52:15.813Z"
   },
   {
    "duration": 3,
    "start_time": "2023-05-23T15:52:35.519Z"
   },
   {
    "duration": 196,
    "start_time": "2023-05-23T15:52:35.544Z"
   },
   {
    "duration": 7,
    "start_time": "2023-05-23T15:52:35.742Z"
   },
   {
    "duration": 55,
    "start_time": "2023-05-23T15:52:35.751Z"
   },
   {
    "duration": 14,
    "start_time": "2023-05-23T15:52:35.809Z"
   },
   {
    "duration": 15,
    "start_time": "2023-05-23T15:52:35.826Z"
   },
   {
    "duration": 16,
    "start_time": "2023-05-23T15:52:35.843Z"
   },
   {
    "duration": 8,
    "start_time": "2023-05-23T15:52:35.861Z"
   },
   {
    "duration": 35,
    "start_time": "2023-05-23T15:52:35.871Z"
   },
   {
    "duration": 28,
    "start_time": "2023-05-23T15:52:35.908Z"
   },
   {
    "duration": 25,
    "start_time": "2023-05-23T15:52:35.938Z"
   },
   {
    "duration": 75,
    "start_time": "2023-05-23T15:52:35.965Z"
   },
   {
    "duration": 89,
    "start_time": "2023-05-23T15:52:36.041Z"
   },
   {
    "duration": 78,
    "start_time": "2023-05-23T15:52:36.132Z"
   },
   {
    "duration": 38,
    "start_time": "2023-05-23T15:52:36.213Z"
   },
   {
    "duration": 11,
    "start_time": "2023-05-23T15:52:36.253Z"
   },
   {
    "duration": 64,
    "start_time": "2023-05-23T15:52:36.265Z"
   },
   {
    "duration": 2,
    "start_time": "2023-05-23T15:52:36.331Z"
   },
   {
    "duration": 19,
    "start_time": "2023-05-23T15:52:36.334Z"
   },
   {
    "duration": 14,
    "start_time": "2023-05-23T15:52:36.354Z"
   },
   {
    "duration": 23,
    "start_time": "2023-05-23T15:52:36.370Z"
   },
   {
    "duration": 27,
    "start_time": "2023-05-23T15:52:36.395Z"
   },
   {
    "duration": 9,
    "start_time": "2023-05-23T15:52:36.424Z"
   },
   {
    "duration": 17,
    "start_time": "2023-05-23T15:52:36.435Z"
   },
   {
    "duration": 8,
    "start_time": "2023-05-23T15:52:36.454Z"
   },
   {
    "duration": 8,
    "start_time": "2023-05-23T15:52:36.464Z"
   },
   {
    "duration": 18,
    "start_time": "2023-05-23T15:52:36.473Z"
   },
   {
    "duration": 22,
    "start_time": "2023-05-23T15:52:36.493Z"
   },
   {
    "duration": 17,
    "start_time": "2023-05-23T15:52:36.517Z"
   },
   {
    "duration": 75,
    "start_time": "2023-05-23T15:52:36.536Z"
   },
   {
    "duration": 0,
    "start_time": "2023-05-23T15:52:36.613Z"
   },
   {
    "duration": 0,
    "start_time": "2023-05-23T15:52:36.614Z"
   },
   {
    "duration": 0,
    "start_time": "2023-05-23T15:52:36.615Z"
   },
   {
    "duration": 0,
    "start_time": "2023-05-23T15:52:36.615Z"
   },
   {
    "duration": 0,
    "start_time": "2023-05-23T15:52:36.616Z"
   },
   {
    "duration": 0,
    "start_time": "2023-05-23T15:52:36.618Z"
   },
   {
    "duration": 0,
    "start_time": "2023-05-23T15:52:36.619Z"
   },
   {
    "duration": 0,
    "start_time": "2023-05-23T15:52:36.620Z"
   },
   {
    "duration": 3,
    "start_time": "2023-05-23T15:59:06.483Z"
   },
   {
    "duration": 204,
    "start_time": "2023-05-23T15:59:06.491Z"
   },
   {
    "duration": 8,
    "start_time": "2023-05-23T15:59:06.698Z"
   },
   {
    "duration": 35,
    "start_time": "2023-05-23T15:59:06.708Z"
   },
   {
    "duration": 3,
    "start_time": "2023-05-23T15:59:06.745Z"
   },
   {
    "duration": 6,
    "start_time": "2023-05-23T15:59:06.749Z"
   },
   {
    "duration": 32,
    "start_time": "2023-05-23T15:59:06.756Z"
   },
   {
    "duration": 5,
    "start_time": "2023-05-23T15:59:06.791Z"
   },
   {
    "duration": 27,
    "start_time": "2023-05-23T15:59:06.797Z"
   },
   {
    "duration": 18,
    "start_time": "2023-05-23T15:59:06.826Z"
   },
   {
    "duration": 45,
    "start_time": "2023-05-23T15:59:06.847Z"
   },
   {
    "duration": 66,
    "start_time": "2023-05-23T15:59:06.894Z"
   },
   {
    "duration": 102,
    "start_time": "2023-05-23T15:59:06.961Z"
   },
   {
    "duration": 76,
    "start_time": "2023-05-23T15:59:07.065Z"
   },
   {
    "duration": 56,
    "start_time": "2023-05-23T15:59:07.143Z"
   },
   {
    "duration": 12,
    "start_time": "2023-05-23T15:59:07.200Z"
   },
   {
    "duration": 39,
    "start_time": "2023-05-23T15:59:07.214Z"
   },
   {
    "duration": 3,
    "start_time": "2023-05-23T15:59:07.255Z"
   },
   {
    "duration": 41,
    "start_time": "2023-05-23T15:59:07.260Z"
   },
   {
    "duration": 10,
    "start_time": "2023-05-23T15:59:07.303Z"
   },
   {
    "duration": 7,
    "start_time": "2023-05-23T15:59:07.315Z"
   },
   {
    "duration": 12,
    "start_time": "2023-05-23T15:59:07.324Z"
   },
   {
    "duration": 7,
    "start_time": "2023-05-23T15:59:07.338Z"
   },
   {
    "duration": 6,
    "start_time": "2023-05-23T15:59:07.346Z"
   },
   {
    "duration": 4,
    "start_time": "2023-05-23T15:59:07.354Z"
   },
   {
    "duration": 28,
    "start_time": "2023-05-23T15:59:07.359Z"
   },
   {
    "duration": 13,
    "start_time": "2023-05-23T15:59:07.388Z"
   },
   {
    "duration": 54,
    "start_time": "2023-05-23T15:59:07.403Z"
   },
   {
    "duration": 47,
    "start_time": "2023-05-23T15:59:07.460Z"
   },
   {
    "duration": 98,
    "start_time": "2023-05-23T15:59:07.509Z"
   },
   {
    "duration": 0,
    "start_time": "2023-05-23T15:59:07.608Z"
   },
   {
    "duration": 0,
    "start_time": "2023-05-23T15:59:07.610Z"
   },
   {
    "duration": 0,
    "start_time": "2023-05-23T15:59:07.611Z"
   },
   {
    "duration": 0,
    "start_time": "2023-05-23T15:59:07.612Z"
   },
   {
    "duration": 0,
    "start_time": "2023-05-23T15:59:07.613Z"
   },
   {
    "duration": 0,
    "start_time": "2023-05-23T15:59:07.614Z"
   },
   {
    "duration": 0,
    "start_time": "2023-05-23T15:59:07.615Z"
   },
   {
    "duration": 0,
    "start_time": "2023-05-23T15:59:07.616Z"
   },
   {
    "duration": 71,
    "start_time": "2023-05-23T15:59:44.676Z"
   },
   {
    "duration": 445,
    "start_time": "2023-05-23T16:00:20.708Z"
   },
   {
    "duration": 197,
    "start_time": "2023-05-23T16:00:21.155Z"
   },
   {
    "duration": 8,
    "start_time": "2023-05-23T16:00:21.354Z"
   },
   {
    "duration": 41,
    "start_time": "2023-05-23T16:00:21.364Z"
   },
   {
    "duration": 2,
    "start_time": "2023-05-23T16:00:21.407Z"
   },
   {
    "duration": 6,
    "start_time": "2023-05-23T16:00:21.411Z"
   },
   {
    "duration": 14,
    "start_time": "2023-05-23T16:00:21.419Z"
   },
   {
    "duration": 8,
    "start_time": "2023-05-23T16:00:21.435Z"
   },
   {
    "duration": 28,
    "start_time": "2023-05-23T16:00:21.444Z"
   },
   {
    "duration": 22,
    "start_time": "2023-05-23T16:00:21.489Z"
   },
   {
    "duration": 23,
    "start_time": "2023-05-23T16:00:21.513Z"
   },
   {
    "duration": 93,
    "start_time": "2023-05-23T16:00:21.538Z"
   },
   {
    "duration": 103,
    "start_time": "2023-05-23T16:00:21.633Z"
   },
   {
    "duration": 76,
    "start_time": "2023-05-23T16:00:21.738Z"
   },
   {
    "duration": 40,
    "start_time": "2023-05-23T16:00:21.815Z"
   },
   {
    "duration": 12,
    "start_time": "2023-05-23T16:00:21.856Z"
   },
   {
    "duration": 58,
    "start_time": "2023-05-23T16:00:21.869Z"
   },
   {
    "duration": 3,
    "start_time": "2023-05-23T16:00:21.928Z"
   },
   {
    "duration": 7,
    "start_time": "2023-05-23T16:00:21.932Z"
   },
   {
    "duration": 15,
    "start_time": "2023-05-23T16:00:21.940Z"
   },
   {
    "duration": 7,
    "start_time": "2023-05-23T16:00:21.956Z"
   },
   {
    "duration": 9,
    "start_time": "2023-05-23T16:00:21.964Z"
   },
   {
    "duration": 13,
    "start_time": "2023-05-23T16:00:21.975Z"
   },
   {
    "duration": 3,
    "start_time": "2023-05-23T16:00:21.990Z"
   },
   {
    "duration": 13,
    "start_time": "2023-05-23T16:00:21.994Z"
   },
   {
    "duration": 4,
    "start_time": "2023-05-23T16:00:22.009Z"
   },
   {
    "duration": 4,
    "start_time": "2023-05-23T16:00:22.014Z"
   },
   {
    "duration": 15,
    "start_time": "2023-05-23T16:00:22.021Z"
   },
   {
    "duration": 5,
    "start_time": "2023-05-23T16:00:22.038Z"
   },
   {
    "duration": 81,
    "start_time": "2023-05-23T16:00:22.044Z"
   },
   {
    "duration": 0,
    "start_time": "2023-05-23T16:00:22.126Z"
   },
   {
    "duration": 0,
    "start_time": "2023-05-23T16:00:22.128Z"
   },
   {
    "duration": 0,
    "start_time": "2023-05-23T16:00:22.129Z"
   },
   {
    "duration": 0,
    "start_time": "2023-05-23T16:00:22.130Z"
   },
   {
    "duration": 0,
    "start_time": "2023-05-23T16:00:22.131Z"
   },
   {
    "duration": 0,
    "start_time": "2023-05-23T16:00:22.133Z"
   },
   {
    "duration": 0,
    "start_time": "2023-05-23T16:00:22.134Z"
   },
   {
    "duration": 0,
    "start_time": "2023-05-23T16:00:22.135Z"
   },
   {
    "duration": 432,
    "start_time": "2023-05-23T16:03:14.202Z"
   },
   {
    "duration": 206,
    "start_time": "2023-05-23T16:03:14.636Z"
   },
   {
    "duration": 12,
    "start_time": "2023-05-23T16:03:14.844Z"
   },
   {
    "duration": 70,
    "start_time": "2023-05-23T16:03:14.858Z"
   },
   {
    "duration": 3,
    "start_time": "2023-05-23T16:03:14.930Z"
   },
   {
    "duration": 6,
    "start_time": "2023-05-23T16:03:14.934Z"
   },
   {
    "duration": 18,
    "start_time": "2023-05-23T16:03:14.941Z"
   },
   {
    "duration": 15,
    "start_time": "2023-05-23T16:03:14.960Z"
   },
   {
    "duration": 39,
    "start_time": "2023-05-23T16:03:14.976Z"
   },
   {
    "duration": 39,
    "start_time": "2023-05-23T16:03:15.017Z"
   },
   {
    "duration": 24,
    "start_time": "2023-05-23T16:03:15.058Z"
   },
   {
    "duration": 81,
    "start_time": "2023-05-23T16:03:15.084Z"
   },
   {
    "duration": 111,
    "start_time": "2023-05-23T16:03:15.166Z"
   },
   {
    "duration": 79,
    "start_time": "2023-05-23T16:03:15.278Z"
   },
   {
    "duration": 62,
    "start_time": "2023-05-23T16:03:15.359Z"
   },
   {
    "duration": 11,
    "start_time": "2023-05-23T16:03:15.423Z"
   },
   {
    "duration": 57,
    "start_time": "2023-05-23T16:03:15.435Z"
   },
   {
    "duration": 3,
    "start_time": "2023-05-23T16:03:15.495Z"
   },
   {
    "duration": 5,
    "start_time": "2023-05-23T16:03:15.500Z"
   },
   {
    "duration": 4,
    "start_time": "2023-05-23T16:03:15.507Z"
   },
   {
    "duration": 3,
    "start_time": "2023-05-23T16:03:15.513Z"
   },
   {
    "duration": 4,
    "start_time": "2023-05-23T16:03:15.518Z"
   },
   {
    "duration": 7,
    "start_time": "2023-05-23T16:03:15.524Z"
   },
   {
    "duration": 4,
    "start_time": "2023-05-23T16:03:15.533Z"
   },
   {
    "duration": 5,
    "start_time": "2023-05-23T16:03:15.539Z"
   },
   {
    "duration": 5,
    "start_time": "2023-05-23T16:03:15.546Z"
   },
   {
    "duration": 3,
    "start_time": "2023-05-23T16:03:15.553Z"
   },
   {
    "duration": 2,
    "start_time": "2023-05-23T16:03:15.559Z"
   },
   {
    "duration": 26,
    "start_time": "2023-05-23T16:03:15.563Z"
   },
   {
    "duration": 79,
    "start_time": "2023-05-23T16:03:15.592Z"
   },
   {
    "duration": 0,
    "start_time": "2023-05-23T16:03:15.673Z"
   },
   {
    "duration": 0,
    "start_time": "2023-05-23T16:03:15.674Z"
   },
   {
    "duration": 0,
    "start_time": "2023-05-23T16:03:15.675Z"
   },
   {
    "duration": 0,
    "start_time": "2023-05-23T16:03:15.677Z"
   },
   {
    "duration": 0,
    "start_time": "2023-05-23T16:03:15.678Z"
   },
   {
    "duration": 0,
    "start_time": "2023-05-23T16:03:15.679Z"
   },
   {
    "duration": 0,
    "start_time": "2023-05-23T16:03:15.680Z"
   },
   {
    "duration": 0,
    "start_time": "2023-05-23T16:03:15.681Z"
   },
   {
    "duration": 431,
    "start_time": "2023-05-23T16:04:41.276Z"
   },
   {
    "duration": 179,
    "start_time": "2023-05-23T16:04:41.709Z"
   },
   {
    "duration": 10,
    "start_time": "2023-05-23T16:04:41.890Z"
   },
   {
    "duration": 43,
    "start_time": "2023-05-23T16:04:41.902Z"
   },
   {
    "duration": 10,
    "start_time": "2023-05-23T16:04:41.947Z"
   },
   {
    "duration": 13,
    "start_time": "2023-05-23T16:04:41.958Z"
   },
   {
    "duration": 19,
    "start_time": "2023-05-23T16:04:41.972Z"
   },
   {
    "duration": 10,
    "start_time": "2023-05-23T16:04:41.992Z"
   },
   {
    "duration": 36,
    "start_time": "2023-05-23T16:04:42.004Z"
   },
   {
    "duration": 20,
    "start_time": "2023-05-23T16:04:42.043Z"
   },
   {
    "duration": 42,
    "start_time": "2023-05-23T16:04:42.064Z"
   },
   {
    "duration": 67,
    "start_time": "2023-05-23T16:04:42.108Z"
   },
   {
    "duration": 96,
    "start_time": "2023-05-23T16:04:42.177Z"
   },
   {
    "duration": 80,
    "start_time": "2023-05-23T16:04:42.275Z"
   },
   {
    "duration": 56,
    "start_time": "2023-05-23T16:04:42.357Z"
   },
   {
    "duration": 10,
    "start_time": "2023-05-23T16:04:42.415Z"
   },
   {
    "duration": 60,
    "start_time": "2023-05-23T16:04:42.427Z"
   },
   {
    "duration": 3,
    "start_time": "2023-05-23T16:04:42.496Z"
   },
   {
    "duration": 19,
    "start_time": "2023-05-23T16:04:42.500Z"
   },
   {
    "duration": 20,
    "start_time": "2023-05-23T16:04:42.521Z"
   },
   {
    "duration": 19,
    "start_time": "2023-05-23T16:04:42.543Z"
   },
   {
    "duration": 15,
    "start_time": "2023-05-23T16:04:42.564Z"
   },
   {
    "duration": 5,
    "start_time": "2023-05-23T16:04:42.580Z"
   },
   {
    "duration": 9,
    "start_time": "2023-05-23T16:04:42.588Z"
   },
   {
    "duration": 20,
    "start_time": "2023-05-23T16:04:42.598Z"
   },
   {
    "duration": 19,
    "start_time": "2023-05-23T16:04:42.620Z"
   },
   {
    "duration": 13,
    "start_time": "2023-05-23T16:04:42.640Z"
   },
   {
    "duration": 21,
    "start_time": "2023-05-23T16:04:42.656Z"
   },
   {
    "duration": 30,
    "start_time": "2023-05-23T16:04:42.679Z"
   },
   {
    "duration": 74,
    "start_time": "2023-05-23T16:04:42.711Z"
   },
   {
    "duration": 0,
    "start_time": "2023-05-23T16:04:42.787Z"
   },
   {
    "duration": 0,
    "start_time": "2023-05-23T16:04:42.788Z"
   },
   {
    "duration": 0,
    "start_time": "2023-05-23T16:04:42.789Z"
   },
   {
    "duration": 0,
    "start_time": "2023-05-23T16:04:42.791Z"
   },
   {
    "duration": 0,
    "start_time": "2023-05-23T16:04:42.792Z"
   },
   {
    "duration": 0,
    "start_time": "2023-05-23T16:04:42.793Z"
   },
   {
    "duration": 0,
    "start_time": "2023-05-23T16:04:42.794Z"
   },
   {
    "duration": 0,
    "start_time": "2023-05-23T16:04:42.795Z"
   },
   {
    "duration": 439,
    "start_time": "2023-05-23T16:05:20.481Z"
   },
   {
    "duration": 185,
    "start_time": "2023-05-23T16:05:20.921Z"
   },
   {
    "duration": 11,
    "start_time": "2023-05-23T16:05:21.108Z"
   },
   {
    "duration": 46,
    "start_time": "2023-05-23T16:05:21.121Z"
   },
   {
    "duration": 25,
    "start_time": "2023-05-23T16:05:21.169Z"
   },
   {
    "duration": 14,
    "start_time": "2023-05-23T16:05:21.196Z"
   },
   {
    "duration": 30,
    "start_time": "2023-05-23T16:05:21.212Z"
   },
   {
    "duration": 15,
    "start_time": "2023-05-23T16:05:21.244Z"
   },
   {
    "duration": 35,
    "start_time": "2023-05-23T16:05:21.261Z"
   },
   {
    "duration": 30,
    "start_time": "2023-05-23T16:05:21.300Z"
   },
   {
    "duration": 42,
    "start_time": "2023-05-23T16:05:21.332Z"
   },
   {
    "duration": 76,
    "start_time": "2023-05-23T16:05:21.376Z"
   },
   {
    "duration": 87,
    "start_time": "2023-05-23T16:05:21.454Z"
   },
   {
    "duration": 83,
    "start_time": "2023-05-23T16:05:21.543Z"
   },
   {
    "duration": 36,
    "start_time": "2023-05-23T16:05:21.628Z"
   },
   {
    "duration": 24,
    "start_time": "2023-05-23T16:05:21.666Z"
   },
   {
    "duration": 40,
    "start_time": "2023-05-23T16:05:21.692Z"
   },
   {
    "duration": 3,
    "start_time": "2023-05-23T16:05:21.733Z"
   },
   {
    "duration": 10,
    "start_time": "2023-05-23T16:05:21.737Z"
   },
   {
    "duration": 6,
    "start_time": "2023-05-23T16:05:21.748Z"
   },
   {
    "duration": 8,
    "start_time": "2023-05-23T16:05:21.756Z"
   },
   {
    "duration": 9,
    "start_time": "2023-05-23T16:05:21.766Z"
   },
   {
    "duration": 2,
    "start_time": "2023-05-23T16:05:21.788Z"
   },
   {
    "duration": 5,
    "start_time": "2023-05-23T16:05:21.792Z"
   },
   {
    "duration": 13,
    "start_time": "2023-05-23T16:05:21.800Z"
   },
   {
    "duration": 12,
    "start_time": "2023-05-23T16:05:21.815Z"
   },
   {
    "duration": 7,
    "start_time": "2023-05-23T16:05:21.829Z"
   },
   {
    "duration": 15,
    "start_time": "2023-05-23T16:05:21.838Z"
   },
   {
    "duration": 17,
    "start_time": "2023-05-23T16:05:21.855Z"
   },
   {
    "duration": 128,
    "start_time": "2023-05-23T16:05:21.874Z"
   },
   {
    "duration": 0,
    "start_time": "2023-05-23T16:05:22.004Z"
   },
   {
    "duration": 0,
    "start_time": "2023-05-23T16:05:22.005Z"
   },
   {
    "duration": 0,
    "start_time": "2023-05-23T16:05:22.006Z"
   },
   {
    "duration": 0,
    "start_time": "2023-05-23T16:05:22.007Z"
   },
   {
    "duration": 0,
    "start_time": "2023-05-23T16:05:22.008Z"
   },
   {
    "duration": 0,
    "start_time": "2023-05-23T16:05:22.009Z"
   },
   {
    "duration": 0,
    "start_time": "2023-05-23T16:05:22.011Z"
   },
   {
    "duration": 0,
    "start_time": "2023-05-23T16:05:22.012Z"
   },
   {
    "duration": 3,
    "start_time": "2023-05-23T16:23:51.279Z"
   },
   {
    "duration": 204,
    "start_time": "2023-05-23T16:23:51.286Z"
   },
   {
    "duration": 7,
    "start_time": "2023-05-23T16:23:51.492Z"
   },
   {
    "duration": 29,
    "start_time": "2023-05-23T16:23:51.501Z"
   },
   {
    "duration": 3,
    "start_time": "2023-05-23T16:23:51.533Z"
   },
   {
    "duration": 17,
    "start_time": "2023-05-23T16:23:51.537Z"
   },
   {
    "duration": 34,
    "start_time": "2023-05-23T16:23:51.556Z"
   },
   {
    "duration": 4,
    "start_time": "2023-05-23T16:23:51.592Z"
   },
   {
    "duration": 26,
    "start_time": "2023-05-23T16:23:51.597Z"
   },
   {
    "duration": 20,
    "start_time": "2023-05-23T16:23:51.625Z"
   },
   {
    "duration": 41,
    "start_time": "2023-05-23T16:23:51.647Z"
   },
   {
    "duration": 61,
    "start_time": "2023-05-23T16:23:51.690Z"
   },
   {
    "duration": 84,
    "start_time": "2023-05-23T16:23:51.752Z"
   },
   {
    "duration": 70,
    "start_time": "2023-05-23T16:23:51.838Z"
   },
   {
    "duration": 36,
    "start_time": "2023-05-23T16:23:51.909Z"
   },
   {
    "duration": 10,
    "start_time": "2023-05-23T16:23:51.947Z"
   },
   {
    "duration": 55,
    "start_time": "2023-05-23T16:23:51.959Z"
   },
   {
    "duration": 11,
    "start_time": "2023-05-23T16:23:52.016Z"
   },
   {
    "duration": 6,
    "start_time": "2023-05-23T16:23:52.028Z"
   },
   {
    "duration": 25,
    "start_time": "2023-05-23T16:23:52.035Z"
   },
   {
    "duration": 18,
    "start_time": "2023-05-23T16:23:52.062Z"
   },
   {
    "duration": 10,
    "start_time": "2023-05-23T16:23:52.082Z"
   },
   {
    "duration": 11,
    "start_time": "2023-05-23T16:23:52.094Z"
   },
   {
    "duration": 10,
    "start_time": "2023-05-23T16:23:52.106Z"
   },
   {
    "duration": 28,
    "start_time": "2023-05-23T16:23:52.117Z"
   },
   {
    "duration": 10,
    "start_time": "2023-05-23T16:23:52.146Z"
   },
   {
    "duration": 15,
    "start_time": "2023-05-23T16:23:52.157Z"
   },
   {
    "duration": 7,
    "start_time": "2023-05-23T16:23:52.174Z"
   },
   {
    "duration": 15,
    "start_time": "2023-05-23T16:23:52.184Z"
   },
   {
    "duration": 71,
    "start_time": "2023-05-23T16:23:52.201Z"
   },
   {
    "duration": 0,
    "start_time": "2023-05-23T16:23:52.273Z"
   },
   {
    "duration": 0,
    "start_time": "2023-05-23T16:23:52.274Z"
   },
   {
    "duration": 0,
    "start_time": "2023-05-23T16:23:52.275Z"
   },
   {
    "duration": 0,
    "start_time": "2023-05-23T16:23:52.276Z"
   },
   {
    "duration": 0,
    "start_time": "2023-05-23T16:23:52.277Z"
   },
   {
    "duration": 0,
    "start_time": "2023-05-23T16:23:52.278Z"
   },
   {
    "duration": 0,
    "start_time": "2023-05-23T16:23:52.279Z"
   },
   {
    "duration": 0,
    "start_time": "2023-05-23T16:23:52.280Z"
   },
   {
    "duration": 2,
    "start_time": "2023-05-23T16:26:23.224Z"
   },
   {
    "duration": 165,
    "start_time": "2023-05-23T16:26:23.251Z"
   },
   {
    "duration": 7,
    "start_time": "2023-05-23T16:26:23.418Z"
   },
   {
    "duration": 30,
    "start_time": "2023-05-23T16:26:23.426Z"
   },
   {
    "duration": 2,
    "start_time": "2023-05-23T16:26:23.458Z"
   },
   {
    "duration": 4,
    "start_time": "2023-05-23T16:26:23.462Z"
   },
   {
    "duration": 31,
    "start_time": "2023-05-23T16:26:23.468Z"
   },
   {
    "duration": 8,
    "start_time": "2023-05-23T16:26:23.501Z"
   },
   {
    "duration": 30,
    "start_time": "2023-05-23T16:26:23.511Z"
   },
   {
    "duration": 23,
    "start_time": "2023-05-23T16:26:23.543Z"
   },
   {
    "duration": 39,
    "start_time": "2023-05-23T16:26:23.568Z"
   },
   {
    "duration": 60,
    "start_time": "2023-05-23T16:26:23.609Z"
   },
   {
    "duration": 79,
    "start_time": "2023-05-23T16:26:23.671Z"
   },
   {
    "duration": 72,
    "start_time": "2023-05-23T16:26:23.752Z"
   },
   {
    "duration": 36,
    "start_time": "2023-05-23T16:26:23.828Z"
   },
   {
    "duration": 27,
    "start_time": "2023-05-23T16:26:23.866Z"
   },
   {
    "duration": 36,
    "start_time": "2023-05-23T16:26:23.895Z"
   },
   {
    "duration": 12,
    "start_time": "2023-05-23T16:26:23.933Z"
   },
   {
    "duration": 12,
    "start_time": "2023-05-23T16:26:23.947Z"
   },
   {
    "duration": 29,
    "start_time": "2023-05-23T16:26:23.960Z"
   },
   {
    "duration": 3,
    "start_time": "2023-05-23T16:26:23.991Z"
   },
   {
    "duration": 6,
    "start_time": "2023-05-23T16:26:23.995Z"
   },
   {
    "duration": 6,
    "start_time": "2023-05-23T16:26:24.002Z"
   },
   {
    "duration": 6,
    "start_time": "2023-05-23T16:26:24.010Z"
   },
   {
    "duration": 5,
    "start_time": "2023-05-23T16:26:24.018Z"
   },
   {
    "duration": 7,
    "start_time": "2023-05-23T16:26:24.025Z"
   },
   {
    "duration": 6,
    "start_time": "2023-05-23T16:26:24.034Z"
   },
   {
    "duration": 5,
    "start_time": "2023-05-23T16:26:24.042Z"
   },
   {
    "duration": 7,
    "start_time": "2023-05-23T16:26:24.048Z"
   },
   {
    "duration": 78,
    "start_time": "2023-05-23T16:26:24.056Z"
   },
   {
    "duration": 0,
    "start_time": "2023-05-23T16:26:24.135Z"
   },
   {
    "duration": 0,
    "start_time": "2023-05-23T16:26:24.136Z"
   },
   {
    "duration": 0,
    "start_time": "2023-05-23T16:26:24.138Z"
   },
   {
    "duration": 0,
    "start_time": "2023-05-23T16:26:24.139Z"
   },
   {
    "duration": 0,
    "start_time": "2023-05-23T16:26:24.140Z"
   },
   {
    "duration": 0,
    "start_time": "2023-05-23T16:26:24.141Z"
   },
   {
    "duration": 0,
    "start_time": "2023-05-23T16:26:24.142Z"
   },
   {
    "duration": 0,
    "start_time": "2023-05-23T16:26:24.143Z"
   },
   {
    "duration": 65,
    "start_time": "2023-05-24T13:37:16.379Z"
   },
   {
    "duration": 66,
    "start_time": "2023-05-24T13:42:45.759Z"
   },
   {
    "duration": 81,
    "start_time": "2023-05-24T13:43:22.804Z"
   },
   {
    "duration": 69,
    "start_time": "2023-05-24T13:45:09.963Z"
   },
   {
    "duration": 71,
    "start_time": "2023-05-24T13:45:35.954Z"
   },
   {
    "duration": 431,
    "start_time": "2023-05-24T13:47:36.699Z"
   },
   {
    "duration": 189,
    "start_time": "2023-05-24T13:47:37.132Z"
   },
   {
    "duration": 10,
    "start_time": "2023-05-24T13:47:37.323Z"
   },
   {
    "duration": 33,
    "start_time": "2023-05-24T13:47:37.335Z"
   },
   {
    "duration": 2,
    "start_time": "2023-05-24T13:47:37.370Z"
   },
   {
    "duration": 5,
    "start_time": "2023-05-24T13:47:37.387Z"
   },
   {
    "duration": 16,
    "start_time": "2023-05-24T13:47:37.394Z"
   },
   {
    "duration": 17,
    "start_time": "2023-05-24T13:47:37.412Z"
   },
   {
    "duration": 26,
    "start_time": "2023-05-24T13:47:37.431Z"
   },
   {
    "duration": 40,
    "start_time": "2023-05-24T13:47:37.461Z"
   },
   {
    "duration": 23,
    "start_time": "2023-05-24T13:47:37.503Z"
   },
   {
    "duration": 90,
    "start_time": "2023-05-24T13:47:37.528Z"
   },
   {
    "duration": 93,
    "start_time": "2023-05-24T13:47:37.620Z"
   },
   {
    "duration": 78,
    "start_time": "2023-05-24T13:47:37.715Z"
   },
   {
    "duration": 36,
    "start_time": "2023-05-24T13:47:37.795Z"
   },
   {
    "duration": 56,
    "start_time": "2023-05-24T13:47:37.832Z"
   },
   {
    "duration": 53,
    "start_time": "2023-05-24T13:47:37.890Z"
   },
   {
    "duration": 22,
    "start_time": "2023-05-24T13:47:37.945Z"
   },
   {
    "duration": 14,
    "start_time": "2023-05-24T13:47:37.969Z"
   },
   {
    "duration": 8,
    "start_time": "2023-05-24T13:47:37.985Z"
   },
   {
    "duration": 26,
    "start_time": "2023-05-24T13:47:37.994Z"
   },
   {
    "duration": 14,
    "start_time": "2023-05-24T13:47:38.022Z"
   },
   {
    "duration": 52,
    "start_time": "2023-05-24T13:47:38.037Z"
   },
   {
    "duration": 21,
    "start_time": "2023-05-24T13:47:38.091Z"
   },
   {
    "duration": 18,
    "start_time": "2023-05-24T13:47:38.114Z"
   },
   {
    "duration": 57,
    "start_time": "2023-05-24T13:47:38.133Z"
   },
   {
    "duration": 6,
    "start_time": "2023-05-24T13:47:38.192Z"
   },
   {
    "duration": 5,
    "start_time": "2023-05-24T13:47:38.203Z"
   },
   {
    "duration": 25,
    "start_time": "2023-05-24T13:47:38.210Z"
   },
   {
    "duration": 71,
    "start_time": "2023-05-24T13:47:38.237Z"
   },
   {
    "duration": 0,
    "start_time": "2023-05-24T13:47:38.310Z"
   },
   {
    "duration": 0,
    "start_time": "2023-05-24T13:47:38.311Z"
   },
   {
    "duration": 0,
    "start_time": "2023-05-24T13:47:38.313Z"
   },
   {
    "duration": 0,
    "start_time": "2023-05-24T13:47:38.314Z"
   },
   {
    "duration": 0,
    "start_time": "2023-05-24T13:47:38.315Z"
   },
   {
    "duration": 0,
    "start_time": "2023-05-24T13:47:38.316Z"
   },
   {
    "duration": 0,
    "start_time": "2023-05-24T13:47:38.317Z"
   },
   {
    "duration": 0,
    "start_time": "2023-05-24T13:47:38.318Z"
   },
   {
    "duration": 5,
    "start_time": "2023-05-24T14:12:55.983Z"
   },
   {
    "duration": 423,
    "start_time": "2023-05-24T14:13:16.722Z"
   },
   {
    "duration": 194,
    "start_time": "2023-05-24T14:13:17.147Z"
   },
   {
    "duration": 8,
    "start_time": "2023-05-24T14:13:17.343Z"
   },
   {
    "duration": 50,
    "start_time": "2023-05-24T14:13:17.353Z"
   },
   {
    "duration": 4,
    "start_time": "2023-05-24T14:13:17.406Z"
   },
   {
    "duration": 14,
    "start_time": "2023-05-24T14:13:17.411Z"
   },
   {
    "duration": 40,
    "start_time": "2023-05-24T14:13:17.427Z"
   },
   {
    "duration": 23,
    "start_time": "2023-05-24T14:13:17.469Z"
   },
   {
    "duration": 45,
    "start_time": "2023-05-24T14:13:17.495Z"
   },
   {
    "duration": 25,
    "start_time": "2023-05-24T14:13:17.542Z"
   },
   {
    "duration": 35,
    "start_time": "2023-05-24T14:13:17.569Z"
   },
   {
    "duration": 70,
    "start_time": "2023-05-24T14:13:17.607Z"
   },
   {
    "duration": 85,
    "start_time": "2023-05-24T14:13:17.678Z"
   },
   {
    "duration": 86,
    "start_time": "2023-05-24T14:13:17.765Z"
   },
   {
    "duration": 50,
    "start_time": "2023-05-24T14:13:17.853Z"
   },
   {
    "duration": 14,
    "start_time": "2023-05-24T14:13:17.906Z"
   },
   {
    "duration": 35,
    "start_time": "2023-05-24T14:13:17.922Z"
   },
   {
    "duration": 31,
    "start_time": "2023-05-24T14:13:17.959Z"
   },
   {
    "duration": 22,
    "start_time": "2023-05-24T14:13:17.992Z"
   },
   {
    "duration": 5,
    "start_time": "2023-05-24T14:13:18.015Z"
   },
   {
    "duration": 32,
    "start_time": "2023-05-24T14:13:18.021Z"
   },
   {
    "duration": 14,
    "start_time": "2023-05-24T14:13:18.054Z"
   },
   {
    "duration": 38,
    "start_time": "2023-05-24T14:13:18.070Z"
   },
   {
    "duration": 15,
    "start_time": "2023-05-24T14:13:18.111Z"
   },
   {
    "duration": 16,
    "start_time": "2023-05-24T14:13:18.128Z"
   },
   {
    "duration": 51,
    "start_time": "2023-05-24T14:13:18.145Z"
   },
   {
    "duration": 13,
    "start_time": "2023-05-24T14:13:18.199Z"
   },
   {
    "duration": 15,
    "start_time": "2023-05-24T14:13:18.217Z"
   },
   {
    "duration": 19,
    "start_time": "2023-05-24T14:13:18.234Z"
   },
   {
    "duration": 11,
    "start_time": "2023-05-24T14:13:18.254Z"
   },
   {
    "duration": 19,
    "start_time": "2023-05-24T14:13:18.266Z"
   },
   {
    "duration": 12,
    "start_time": "2023-05-24T14:13:18.286Z"
   },
   {
    "duration": 11,
    "start_time": "2023-05-24T14:13:18.300Z"
   },
   {
    "duration": 15,
    "start_time": "2023-05-24T14:13:18.313Z"
   },
   {
    "duration": 10,
    "start_time": "2023-05-24T14:13:18.330Z"
   },
   {
    "duration": 18,
    "start_time": "2023-05-24T14:13:18.342Z"
   },
   {
    "duration": 9,
    "start_time": "2023-05-24T14:13:18.362Z"
   },
   {
    "duration": 6,
    "start_time": "2023-05-24T14:13:18.373Z"
   },
   {
    "duration": 97,
    "start_time": "2023-05-24T14:14:25.118Z"
   },
   {
    "duration": 76,
    "start_time": "2023-05-24T14:17:08.695Z"
   },
   {
    "duration": 434,
    "start_time": "2023-05-24T14:17:34.794Z"
   },
   {
    "duration": 180,
    "start_time": "2023-05-24T14:17:35.230Z"
   },
   {
    "duration": 8,
    "start_time": "2023-05-24T14:17:35.412Z"
   },
   {
    "duration": 45,
    "start_time": "2023-05-24T14:17:35.422Z"
   },
   {
    "duration": 3,
    "start_time": "2023-05-24T14:17:35.469Z"
   },
   {
    "duration": 11,
    "start_time": "2023-05-24T14:17:35.474Z"
   },
   {
    "duration": 18,
    "start_time": "2023-05-24T14:17:35.486Z"
   },
   {
    "duration": 21,
    "start_time": "2023-05-24T14:17:35.506Z"
   },
   {
    "duration": 53,
    "start_time": "2023-05-24T14:17:35.528Z"
   },
   {
    "duration": 27,
    "start_time": "2023-05-24T14:17:35.584Z"
   },
   {
    "duration": 32,
    "start_time": "2023-05-24T14:17:35.612Z"
   },
   {
    "duration": 83,
    "start_time": "2023-05-24T14:17:35.645Z"
   },
   {
    "duration": 74,
    "start_time": "2023-05-24T14:17:35.729Z"
   },
   {
    "duration": 68,
    "start_time": "2023-05-24T14:17:35.805Z"
   },
   {
    "duration": 46,
    "start_time": "2023-05-24T14:17:35.874Z"
   },
   {
    "duration": 11,
    "start_time": "2023-05-24T14:17:35.922Z"
   },
   {
    "duration": 62,
    "start_time": "2023-05-24T14:17:35.935Z"
   },
   {
    "duration": 11,
    "start_time": "2023-05-24T14:17:35.999Z"
   },
   {
    "duration": 12,
    "start_time": "2023-05-24T14:17:36.012Z"
   },
   {
    "duration": 12,
    "start_time": "2023-05-24T14:17:36.026Z"
   },
   {
    "duration": 24,
    "start_time": "2023-05-24T14:17:36.040Z"
   },
   {
    "duration": 30,
    "start_time": "2023-05-24T14:17:36.066Z"
   },
   {
    "duration": 45,
    "start_time": "2023-05-24T14:17:36.098Z"
   },
   {
    "duration": 14,
    "start_time": "2023-05-24T14:17:36.144Z"
   },
   {
    "duration": 18,
    "start_time": "2023-05-24T14:17:36.160Z"
   },
   {
    "duration": 13,
    "start_time": "2023-05-24T14:17:36.180Z"
   },
   {
    "duration": 46,
    "start_time": "2023-05-24T14:17:36.195Z"
   },
   {
    "duration": 50,
    "start_time": "2023-05-24T14:17:36.244Z"
   },
   {
    "duration": 25,
    "start_time": "2023-05-24T14:17:36.296Z"
   },
   {
    "duration": 73,
    "start_time": "2023-05-24T14:17:36.323Z"
   },
   {
    "duration": 0,
    "start_time": "2023-05-24T14:17:36.398Z"
   },
   {
    "duration": 0,
    "start_time": "2023-05-24T14:17:36.399Z"
   },
   {
    "duration": 0,
    "start_time": "2023-05-24T14:17:36.400Z"
   },
   {
    "duration": 0,
    "start_time": "2023-05-24T14:17:36.401Z"
   },
   {
    "duration": 0,
    "start_time": "2023-05-24T14:17:36.402Z"
   },
   {
    "duration": 0,
    "start_time": "2023-05-24T14:17:36.403Z"
   },
   {
    "duration": 0,
    "start_time": "2023-05-24T14:17:36.404Z"
   },
   {
    "duration": 0,
    "start_time": "2023-05-24T14:17:36.405Z"
   },
   {
    "duration": 76,
    "start_time": "2023-05-24T14:18:17.371Z"
   },
   {
    "duration": 82,
    "start_time": "2023-05-24T14:19:21.551Z"
   },
   {
    "duration": 6,
    "start_time": "2023-05-24T14:20:39.295Z"
   },
   {
    "duration": 434,
    "start_time": "2023-05-24T14:24:08.004Z"
   },
   {
    "duration": 180,
    "start_time": "2023-05-24T14:24:08.440Z"
   },
   {
    "duration": 9,
    "start_time": "2023-05-24T14:24:08.621Z"
   },
   {
    "duration": 49,
    "start_time": "2023-05-24T14:24:08.632Z"
   },
   {
    "duration": 2,
    "start_time": "2023-05-24T14:24:08.683Z"
   },
   {
    "duration": 11,
    "start_time": "2023-05-24T14:24:08.687Z"
   },
   {
    "duration": 17,
    "start_time": "2023-05-24T14:24:08.700Z"
   },
   {
    "duration": 5,
    "start_time": "2023-05-24T14:24:08.719Z"
   },
   {
    "duration": 27,
    "start_time": "2023-05-24T14:24:08.725Z"
   },
   {
    "duration": 33,
    "start_time": "2023-05-24T14:24:08.755Z"
   },
   {
    "duration": 23,
    "start_time": "2023-05-24T14:24:08.790Z"
   },
   {
    "duration": 81,
    "start_time": "2023-05-24T14:24:08.815Z"
   },
   {
    "duration": 73,
    "start_time": "2023-05-24T14:24:08.898Z"
   },
   {
    "duration": 82,
    "start_time": "2023-05-24T14:24:08.973Z"
   },
   {
    "duration": 47,
    "start_time": "2023-05-24T14:24:09.057Z"
   },
   {
    "duration": 14,
    "start_time": "2023-05-24T14:24:09.107Z"
   },
   {
    "duration": 37,
    "start_time": "2023-05-24T14:24:09.123Z"
   },
   {
    "duration": 35,
    "start_time": "2023-05-24T14:24:09.161Z"
   },
   {
    "duration": 12,
    "start_time": "2023-05-24T14:24:09.198Z"
   },
   {
    "duration": 6,
    "start_time": "2023-05-24T14:24:09.212Z"
   },
   {
    "duration": 27,
    "start_time": "2023-05-24T14:24:09.220Z"
   },
   {
    "duration": 40,
    "start_time": "2023-05-24T14:24:09.249Z"
   },
   {
    "duration": 18,
    "start_time": "2023-05-24T14:24:09.291Z"
   },
   {
    "duration": 15,
    "start_time": "2023-05-24T14:24:09.311Z"
   },
   {
    "duration": 19,
    "start_time": "2023-05-24T14:24:09.328Z"
   },
   {
    "duration": 40,
    "start_time": "2023-05-24T14:24:09.349Z"
   },
   {
    "duration": 13,
    "start_time": "2023-05-24T14:24:09.391Z"
   },
   {
    "duration": 12,
    "start_time": "2023-05-24T14:24:09.409Z"
   },
   {
    "duration": 13,
    "start_time": "2023-05-24T14:24:09.423Z"
   },
   {
    "duration": 12,
    "start_time": "2023-05-24T14:24:09.438Z"
   },
   {
    "duration": 71,
    "start_time": "2023-05-24T14:24:09.452Z"
   },
   {
    "duration": 17,
    "start_time": "2023-05-24T14:24:09.526Z"
   },
   {
    "duration": 28,
    "start_time": "2023-05-24T14:24:09.545Z"
   },
   {
    "duration": 28,
    "start_time": "2023-05-24T14:24:09.575Z"
   },
   {
    "duration": 2,
    "start_time": "2023-05-24T14:24:09.605Z"
   },
   {
    "duration": 24,
    "start_time": "2023-05-24T14:24:09.609Z"
   },
   {
    "duration": 12,
    "start_time": "2023-05-24T14:24:09.635Z"
   },
   {
    "duration": 7,
    "start_time": "2023-05-24T14:24:09.649Z"
   },
   {
    "duration": 2,
    "start_time": "2023-05-24T14:25:16.888Z"
   },
   {
    "duration": 187,
    "start_time": "2023-05-24T14:25:16.893Z"
   },
   {
    "duration": 8,
    "start_time": "2023-05-24T14:25:17.082Z"
   },
   {
    "duration": 37,
    "start_time": "2023-05-24T14:25:17.092Z"
   },
   {
    "duration": 6,
    "start_time": "2023-05-24T14:25:17.132Z"
   },
   {
    "duration": 4,
    "start_time": "2023-05-24T14:25:17.141Z"
   },
   {
    "duration": 12,
    "start_time": "2023-05-24T14:25:17.147Z"
   },
   {
    "duration": 5,
    "start_time": "2023-05-24T14:25:17.161Z"
   },
   {
    "duration": 46,
    "start_time": "2023-05-24T14:25:17.167Z"
   },
   {
    "duration": 22,
    "start_time": "2023-05-24T14:25:17.215Z"
   },
   {
    "duration": 30,
    "start_time": "2023-05-24T14:25:17.239Z"
   },
   {
    "duration": 65,
    "start_time": "2023-05-24T14:25:17.271Z"
   },
   {
    "duration": 66,
    "start_time": "2023-05-24T14:25:17.338Z"
   },
   {
    "duration": 62,
    "start_time": "2023-05-24T14:25:17.407Z"
   },
   {
    "duration": 53,
    "start_time": "2023-05-24T14:25:17.471Z"
   },
   {
    "duration": 10,
    "start_time": "2023-05-24T14:25:17.526Z"
   },
   {
    "duration": 55,
    "start_time": "2023-05-24T14:25:17.537Z"
   },
   {
    "duration": 11,
    "start_time": "2023-05-24T14:25:17.594Z"
   },
   {
    "duration": 13,
    "start_time": "2023-05-24T14:25:17.607Z"
   },
   {
    "duration": 3,
    "start_time": "2023-05-24T14:25:17.622Z"
   },
   {
    "duration": 20,
    "start_time": "2023-05-24T14:25:17.627Z"
   },
   {
    "duration": 14,
    "start_time": "2023-05-24T14:25:17.648Z"
   },
   {
    "duration": 15,
    "start_time": "2023-05-24T14:25:17.688Z"
   },
   {
    "duration": 14,
    "start_time": "2023-05-24T14:25:17.705Z"
   },
   {
    "duration": 16,
    "start_time": "2023-05-24T14:25:17.721Z"
   },
   {
    "duration": 14,
    "start_time": "2023-05-24T14:25:17.738Z"
   },
   {
    "duration": 39,
    "start_time": "2023-05-24T14:25:17.753Z"
   },
   {
    "duration": 17,
    "start_time": "2023-05-24T14:25:17.793Z"
   },
   {
    "duration": 17,
    "start_time": "2023-05-24T14:25:17.812Z"
   },
   {
    "duration": 5,
    "start_time": "2023-05-24T14:25:17.830Z"
   },
   {
    "duration": 27,
    "start_time": "2023-05-24T14:25:17.837Z"
   },
   {
    "duration": 32,
    "start_time": "2023-05-24T14:25:17.866Z"
   },
   {
    "duration": 23,
    "start_time": "2023-05-24T14:25:17.899Z"
   },
   {
    "duration": 15,
    "start_time": "2023-05-24T14:25:17.923Z"
   },
   {
    "duration": 2,
    "start_time": "2023-05-24T14:25:17.940Z"
   },
   {
    "duration": 18,
    "start_time": "2023-05-24T14:25:17.944Z"
   },
   {
    "duration": 16,
    "start_time": "2023-05-24T14:25:17.964Z"
   },
   {
    "duration": 6,
    "start_time": "2023-05-24T14:25:17.988Z"
   },
   {
    "duration": 421,
    "start_time": "2023-05-24T14:35:25.553Z"
   },
   {
    "duration": 176,
    "start_time": "2023-05-24T14:35:25.976Z"
   },
   {
    "duration": 9,
    "start_time": "2023-05-24T14:35:26.154Z"
   },
   {
    "duration": 36,
    "start_time": "2023-05-24T14:35:26.165Z"
   },
   {
    "duration": 3,
    "start_time": "2023-05-24T14:35:26.203Z"
   },
   {
    "duration": 5,
    "start_time": "2023-05-24T14:35:26.207Z"
   },
   {
    "duration": 20,
    "start_time": "2023-05-24T14:35:26.213Z"
   },
   {
    "duration": 12,
    "start_time": "2023-05-24T14:35:26.234Z"
   },
   {
    "duration": 30,
    "start_time": "2023-05-24T14:35:26.247Z"
   },
   {
    "duration": 18,
    "start_time": "2023-05-24T14:35:26.289Z"
   },
   {
    "duration": 27,
    "start_time": "2023-05-24T14:35:26.309Z"
   },
   {
    "duration": 83,
    "start_time": "2023-05-24T14:35:26.338Z"
   },
   {
    "duration": 84,
    "start_time": "2023-05-24T14:35:26.423Z"
   },
   {
    "duration": 68,
    "start_time": "2023-05-24T14:35:26.509Z"
   },
   {
    "duration": 37,
    "start_time": "2023-05-24T14:35:26.587Z"
   },
   {
    "duration": 12,
    "start_time": "2023-05-24T14:35:26.626Z"
   },
   {
    "duration": 55,
    "start_time": "2023-05-24T14:35:26.640Z"
   },
   {
    "duration": 11,
    "start_time": "2023-05-24T14:35:26.697Z"
   },
   {
    "duration": 21,
    "start_time": "2023-05-24T14:35:26.710Z"
   },
   {
    "duration": 5,
    "start_time": "2023-05-24T14:35:26.733Z"
   },
   {
    "duration": 37,
    "start_time": "2023-05-24T14:35:26.740Z"
   },
   {
    "duration": 13,
    "start_time": "2023-05-24T14:35:26.779Z"
   },
   {
    "duration": 15,
    "start_time": "2023-05-24T14:35:26.794Z"
   },
   {
    "duration": 14,
    "start_time": "2023-05-24T14:35:26.810Z"
   },
   {
    "duration": 16,
    "start_time": "2023-05-24T14:35:26.826Z"
   },
   {
    "duration": 17,
    "start_time": "2023-05-24T14:35:26.844Z"
   },
   {
    "duration": 10,
    "start_time": "2023-05-24T14:35:26.889Z"
   },
   {
    "duration": 16,
    "start_time": "2023-05-24T14:35:26.902Z"
   },
   {
    "duration": 9,
    "start_time": "2023-05-24T14:35:26.919Z"
   },
   {
    "duration": 5,
    "start_time": "2023-05-24T14:35:26.930Z"
   },
   {
    "duration": 54,
    "start_time": "2023-05-24T14:35:26.936Z"
   },
   {
    "duration": 25,
    "start_time": "2023-05-24T14:35:26.992Z"
   },
   {
    "duration": 28,
    "start_time": "2023-05-24T14:35:27.018Z"
   },
   {
    "duration": 48,
    "start_time": "2023-05-24T14:35:27.047Z"
   },
   {
    "duration": 2,
    "start_time": "2023-05-24T14:35:27.097Z"
   },
   {
    "duration": 7,
    "start_time": "2023-05-24T14:35:27.102Z"
   },
   {
    "duration": 3,
    "start_time": "2023-05-24T14:35:27.111Z"
   },
   {
    "duration": 4,
    "start_time": "2023-05-24T14:35:27.116Z"
   },
   {
    "duration": 483,
    "start_time": "2023-05-24T14:43:49.889Z"
   },
   {
    "duration": 206,
    "start_time": "2023-05-24T14:43:50.374Z"
   },
   {
    "duration": 16,
    "start_time": "2023-05-24T14:43:50.582Z"
   },
   {
    "duration": 41,
    "start_time": "2023-05-24T14:43:50.601Z"
   },
   {
    "duration": 5,
    "start_time": "2023-05-24T14:43:50.643Z"
   },
   {
    "duration": 10,
    "start_time": "2023-05-24T14:43:50.650Z"
   },
   {
    "duration": 28,
    "start_time": "2023-05-24T14:43:50.662Z"
   },
   {
    "duration": 6,
    "start_time": "2023-05-24T14:43:50.699Z"
   },
   {
    "duration": 36,
    "start_time": "2023-05-24T14:43:50.706Z"
   },
   {
    "duration": 42,
    "start_time": "2023-05-24T14:43:50.745Z"
   },
   {
    "duration": 28,
    "start_time": "2023-05-24T14:43:50.793Z"
   },
   {
    "duration": 103,
    "start_time": "2023-05-24T14:43:50.823Z"
   },
   {
    "duration": 82,
    "start_time": "2023-05-24T14:43:50.927Z"
   },
   {
    "duration": 69,
    "start_time": "2023-05-24T14:43:51.010Z"
   },
   {
    "duration": 37,
    "start_time": "2023-05-24T14:43:51.102Z"
   },
   {
    "duration": 11,
    "start_time": "2023-05-24T14:43:51.140Z"
   },
   {
    "duration": 54,
    "start_time": "2023-05-24T14:43:51.153Z"
   },
   {
    "duration": 11,
    "start_time": "2023-05-24T14:43:51.209Z"
   },
   {
    "duration": 15,
    "start_time": "2023-05-24T14:43:51.223Z"
   },
   {
    "duration": 5,
    "start_time": "2023-05-24T14:43:51.240Z"
   },
   {
    "duration": 60,
    "start_time": "2023-05-24T14:43:51.246Z"
   },
   {
    "duration": 21,
    "start_time": "2023-05-24T14:43:51.308Z"
   },
   {
    "duration": 18,
    "start_time": "2023-05-24T14:43:51.330Z"
   },
   {
    "duration": 21,
    "start_time": "2023-05-24T14:43:51.350Z"
   },
   {
    "duration": 37,
    "start_time": "2023-05-24T14:43:51.373Z"
   },
   {
    "duration": 29,
    "start_time": "2023-05-24T14:43:51.412Z"
   },
   {
    "duration": 35,
    "start_time": "2023-05-24T14:43:51.442Z"
   },
   {
    "duration": 29,
    "start_time": "2023-05-24T14:43:51.480Z"
   },
   {
    "duration": 17,
    "start_time": "2023-05-24T14:43:51.510Z"
   },
   {
    "duration": 17,
    "start_time": "2023-05-24T14:43:51.529Z"
   },
   {
    "duration": 55,
    "start_time": "2023-05-24T14:43:51.547Z"
   },
   {
    "duration": 14,
    "start_time": "2023-05-24T14:43:51.604Z"
   },
   {
    "duration": 24,
    "start_time": "2023-05-24T14:43:51.620Z"
   },
   {
    "duration": 15,
    "start_time": "2023-05-24T14:43:51.646Z"
   },
   {
    "duration": 8,
    "start_time": "2023-05-24T14:43:51.690Z"
   },
   {
    "duration": 28,
    "start_time": "2023-05-24T14:43:51.702Z"
   },
   {
    "duration": 24,
    "start_time": "2023-05-24T14:43:51.732Z"
   },
   {
    "duration": 67,
    "start_time": "2023-05-24T14:43:51.758Z"
   },
   {
    "duration": 405,
    "start_time": "2023-05-24T14:44:35.349Z"
   },
   {
    "duration": 179,
    "start_time": "2023-05-24T14:44:35.756Z"
   },
   {
    "duration": 9,
    "start_time": "2023-05-24T14:44:35.937Z"
   },
   {
    "duration": 39,
    "start_time": "2023-05-24T14:44:35.949Z"
   },
   {
    "duration": 2,
    "start_time": "2023-05-24T14:44:35.990Z"
   },
   {
    "duration": 5,
    "start_time": "2023-05-24T14:44:35.993Z"
   },
   {
    "duration": 22,
    "start_time": "2023-05-24T14:44:36.000Z"
   },
   {
    "duration": 6,
    "start_time": "2023-05-24T14:44:36.023Z"
   },
   {
    "duration": 30,
    "start_time": "2023-05-24T14:44:36.030Z"
   },
   {
    "duration": 36,
    "start_time": "2023-05-24T14:44:36.063Z"
   },
   {
    "duration": 22,
    "start_time": "2023-05-24T14:44:36.101Z"
   },
   {
    "duration": 81,
    "start_time": "2023-05-24T14:44:36.125Z"
   },
   {
    "duration": 71,
    "start_time": "2023-05-24T14:44:36.208Z"
   },
   {
    "duration": 71,
    "start_time": "2023-05-24T14:44:36.289Z"
   },
   {
    "duration": 50,
    "start_time": "2023-05-24T14:44:36.361Z"
   },
   {
    "duration": 24,
    "start_time": "2023-05-24T14:44:36.412Z"
   },
   {
    "duration": 49,
    "start_time": "2023-05-24T14:44:36.437Z"
   },
   {
    "duration": 12,
    "start_time": "2023-05-24T14:44:36.487Z"
   },
   {
    "duration": 26,
    "start_time": "2023-05-24T14:44:36.500Z"
   },
   {
    "duration": 27,
    "start_time": "2023-05-24T14:44:36.528Z"
   },
   {
    "duration": 39,
    "start_time": "2023-05-24T14:44:36.556Z"
   },
   {
    "duration": 32,
    "start_time": "2023-05-24T14:44:36.596Z"
   },
   {
    "duration": 31,
    "start_time": "2023-05-24T14:44:36.630Z"
   },
   {
    "duration": 21,
    "start_time": "2023-05-24T14:44:36.662Z"
   },
   {
    "duration": 36,
    "start_time": "2023-05-24T14:44:36.685Z"
   },
   {
    "duration": 16,
    "start_time": "2023-05-24T14:44:36.722Z"
   },
   {
    "duration": 18,
    "start_time": "2023-05-24T14:44:36.739Z"
   },
   {
    "duration": 11,
    "start_time": "2023-05-24T14:44:36.760Z"
   },
   {
    "duration": 14,
    "start_time": "2023-05-24T14:44:36.773Z"
   },
   {
    "duration": 6,
    "start_time": "2023-05-24T14:44:36.789Z"
   },
   {
    "duration": 23,
    "start_time": "2023-05-24T14:44:36.797Z"
   },
   {
    "duration": 13,
    "start_time": "2023-05-24T14:44:36.821Z"
   },
   {
    "duration": 22,
    "start_time": "2023-05-24T14:44:36.835Z"
   },
   {
    "duration": 39,
    "start_time": "2023-05-24T14:44:36.859Z"
   },
   {
    "duration": 3,
    "start_time": "2023-05-24T14:44:36.899Z"
   },
   {
    "duration": 7,
    "start_time": "2023-05-24T14:44:36.903Z"
   },
   {
    "duration": 4,
    "start_time": "2023-05-24T14:44:36.911Z"
   },
   {
    "duration": 4,
    "start_time": "2023-05-24T14:44:36.917Z"
   },
   {
    "duration": 434,
    "start_time": "2023-05-24T14:49:55.493Z"
   },
   {
    "duration": 175,
    "start_time": "2023-05-24T14:49:55.930Z"
   },
   {
    "duration": 9,
    "start_time": "2023-05-24T14:49:56.107Z"
   },
   {
    "duration": 40,
    "start_time": "2023-05-24T14:49:56.118Z"
   },
   {
    "duration": 13,
    "start_time": "2023-05-24T14:49:56.159Z"
   },
   {
    "duration": 15,
    "start_time": "2023-05-24T14:49:56.174Z"
   },
   {
    "duration": 24,
    "start_time": "2023-05-24T14:49:56.191Z"
   },
   {
    "duration": 8,
    "start_time": "2023-05-24T14:49:56.217Z"
   },
   {
    "duration": 44,
    "start_time": "2023-05-24T14:49:56.227Z"
   },
   {
    "duration": 35,
    "start_time": "2023-05-24T14:49:56.273Z"
   },
   {
    "duration": 25,
    "start_time": "2023-05-24T14:49:56.309Z"
   },
   {
    "duration": 76,
    "start_time": "2023-05-24T14:49:56.336Z"
   },
   {
    "duration": 69,
    "start_time": "2023-05-24T14:49:56.413Z"
   },
   {
    "duration": 70,
    "start_time": "2023-05-24T14:49:56.488Z"
   },
   {
    "duration": 48,
    "start_time": "2023-05-24T14:49:56.559Z"
   },
   {
    "duration": 10,
    "start_time": "2023-05-24T14:49:56.609Z"
   },
   {
    "duration": 42,
    "start_time": "2023-05-24T14:49:56.621Z"
   },
   {
    "duration": 25,
    "start_time": "2023-05-24T14:49:56.666Z"
   },
   {
    "duration": 12,
    "start_time": "2023-05-24T14:49:56.692Z"
   },
   {
    "duration": 6,
    "start_time": "2023-05-24T14:49:56.706Z"
   },
   {
    "duration": 36,
    "start_time": "2023-05-24T14:49:56.713Z"
   },
   {
    "duration": 19,
    "start_time": "2023-05-24T14:49:56.751Z"
   },
   {
    "duration": 29,
    "start_time": "2023-05-24T14:49:56.772Z"
   },
   {
    "duration": 14,
    "start_time": "2023-05-24T14:49:56.803Z"
   },
   {
    "duration": 28,
    "start_time": "2023-05-24T14:49:56.818Z"
   },
   {
    "duration": 19,
    "start_time": "2023-05-24T14:49:56.848Z"
   },
   {
    "duration": 22,
    "start_time": "2023-05-24T14:49:56.869Z"
   },
   {
    "duration": 24,
    "start_time": "2023-05-24T14:49:56.895Z"
   },
   {
    "duration": 16,
    "start_time": "2023-05-24T14:49:56.921Z"
   },
   {
    "duration": 6,
    "start_time": "2023-05-24T14:49:56.939Z"
   },
   {
    "duration": 53,
    "start_time": "2023-05-24T14:49:56.947Z"
   },
   {
    "duration": 12,
    "start_time": "2023-05-24T14:49:57.002Z"
   },
   {
    "duration": 19,
    "start_time": "2023-05-24T14:49:57.015Z"
   },
   {
    "duration": 12,
    "start_time": "2023-05-24T14:49:57.035Z"
   },
   {
    "duration": 10,
    "start_time": "2023-05-24T14:49:57.048Z"
   },
   {
    "duration": 30,
    "start_time": "2023-05-24T14:49:57.059Z"
   },
   {
    "duration": 11,
    "start_time": "2023-05-24T14:49:57.092Z"
   },
   {
    "duration": 7,
    "start_time": "2023-05-24T14:49:57.105Z"
   },
   {
    "duration": 456,
    "start_time": "2023-05-24T14:51:45.077Z"
   },
   {
    "duration": 178,
    "start_time": "2023-05-24T14:51:45.535Z"
   },
   {
    "duration": 8,
    "start_time": "2023-05-24T14:51:45.715Z"
   },
   {
    "duration": 32,
    "start_time": "2023-05-24T14:51:45.726Z"
   },
   {
    "duration": 5,
    "start_time": "2023-05-24T14:51:45.760Z"
   },
   {
    "duration": 21,
    "start_time": "2023-05-24T14:51:45.767Z"
   },
   {
    "duration": 18,
    "start_time": "2023-05-24T14:51:45.791Z"
   },
   {
    "duration": 8,
    "start_time": "2023-05-24T14:51:45.811Z"
   },
   {
    "duration": 40,
    "start_time": "2023-05-24T14:51:45.821Z"
   },
   {
    "duration": 27,
    "start_time": "2023-05-24T14:51:45.863Z"
   },
   {
    "duration": 22,
    "start_time": "2023-05-24T14:51:45.892Z"
   },
   {
    "duration": 85,
    "start_time": "2023-05-24T14:51:45.917Z"
   },
   {
    "duration": 69,
    "start_time": "2023-05-24T14:51:46.004Z"
   },
   {
    "duration": 67,
    "start_time": "2023-05-24T14:51:46.087Z"
   },
   {
    "duration": 54,
    "start_time": "2023-05-24T14:51:46.155Z"
   },
   {
    "duration": 11,
    "start_time": "2023-05-24T14:51:46.210Z"
   },
   {
    "duration": 35,
    "start_time": "2023-05-24T14:51:46.223Z"
   },
   {
    "duration": 31,
    "start_time": "2023-05-24T14:51:46.261Z"
   },
   {
    "duration": 11,
    "start_time": "2023-05-24T14:51:46.294Z"
   },
   {
    "duration": 4,
    "start_time": "2023-05-24T14:51:46.307Z"
   },
   {
    "duration": 35,
    "start_time": "2023-05-24T14:51:46.313Z"
   },
   {
    "duration": 15,
    "start_time": "2023-05-24T14:51:46.349Z"
   },
   {
    "duration": 36,
    "start_time": "2023-05-24T14:51:46.365Z"
   },
   {
    "duration": 14,
    "start_time": "2023-05-24T14:51:46.403Z"
   },
   {
    "duration": 34,
    "start_time": "2023-05-24T14:51:46.419Z"
   },
   {
    "duration": 37,
    "start_time": "2023-05-24T14:51:46.455Z"
   },
   {
    "duration": 35,
    "start_time": "2023-05-24T14:51:46.493Z"
   },
   {
    "duration": 53,
    "start_time": "2023-05-24T14:51:46.532Z"
   },
   {
    "duration": 40,
    "start_time": "2023-05-24T14:51:46.587Z"
   },
   {
    "duration": 33,
    "start_time": "2023-05-24T14:51:46.630Z"
   },
   {
    "duration": 84,
    "start_time": "2023-05-24T14:51:46.665Z"
   },
   {
    "duration": 60,
    "start_time": "2023-05-24T14:51:46.751Z"
   },
   {
    "duration": 61,
    "start_time": "2023-05-24T14:51:46.813Z"
   },
   {
    "duration": 15,
    "start_time": "2023-05-24T14:51:46.876Z"
   },
   {
    "duration": 22,
    "start_time": "2023-05-24T14:51:46.893Z"
   },
   {
    "duration": 12,
    "start_time": "2023-05-24T14:51:46.917Z"
   },
   {
    "duration": 21,
    "start_time": "2023-05-24T14:51:46.931Z"
   },
   {
    "duration": 17,
    "start_time": "2023-05-24T14:51:46.954Z"
   }
  ],
  "colab": {
   "collapsed_sections": [
    "E0vqbgi9ay0H",
    "VUC88oWjTJw2"
   ],
   "provenance": []
  },
  "kernelspec": {
   "display_name": "Python 3 (ipykernel)",
   "language": "python",
   "name": "python3"
  },
  "language_info": {
   "codemirror_mode": {
    "name": "ipython",
    "version": 3
   },
   "file_extension": ".py",
   "mimetype": "text/x-python",
   "name": "python",
   "nbconvert_exporter": "python",
   "pygments_lexer": "ipython3",
   "version": "3.10.9"
  },
  "toc": {
   "base_numbering": 1,
   "nav_menu": {
    "height": "215px",
    "width": "403px"
   },
   "number_sections": true,
   "sideBar": true,
   "skip_h1_title": true,
   "title_cell": "Table of Contents",
   "title_sidebar": "Contents",
   "toc_cell": false,
   "toc_position": {
    "height": "calc(100% - 180px)",
    "left": "10px",
    "top": "150px",
    "width": "285.825px"
   },
   "toc_section_display": true,
   "toc_window_display": false
  }
 },
 "nbformat": 4,
 "nbformat_minor": 1
}
