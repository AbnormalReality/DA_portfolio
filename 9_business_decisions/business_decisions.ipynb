{
 "cells": [
  {
   "cell_type": "markdown",
   "id": "928edc38",
   "metadata": {},
   "source": [
    "# Проект: Принятие решений в бизнесе"
   ]
  },
  {
   "cell_type": "markdown",
   "id": "c843591f",
   "metadata": {},
   "source": [
    "## Введение"
   ]
  },
  {
   "cell_type": "markdown",
   "id": "062a0c50",
   "metadata": {},
   "source": [
    "### Контекст\n",
    "\n",
    "Я — аналитик крупного интернет-магазина. Вместе с отделом маркетинга я подготовил список гипотез для увеличения выручки.\n",
    "\n",
    "### Цели проекта\n",
    "\n",
    "Проект состоит из двух частей и имеет следующие цели:\n",
    "\n",
    "**Часть 1. Приоритизация гипотез.**\n",
    "* В файле /datasets/hypothesis.csv 9 гипотез по увеличению выручки интернет-магазина с указанными параметрами Reach, Impact, Confidence, Effort.\n",
    "\n",
    "**Задача**\n",
    "* Примените фреймворк ICE для приоритизации гипотез. Отсортируйте их по убыванию приоритета.\n",
    "* Примените фреймворк RICE для приоритизации гипотез. Отсортируйте их по убыванию приоритета.\n",
    "* Укажите, как изменилась приоритизация гипотез при применении RICE вместо ICE. Объясните, почему так произошло.\n",
    "\n",
    "**Часть 2. Анализ A/B-теста**\n",
    "* Вы провели A/B-тест и получили результаты, которые описаны в файлах /datasets/orders.csv и /datasets/visitors.csv.\n",
    "\n",
    "**Задача**\n",
    "Проанализируйте A/B-тест:\n",
    "* Постройте график кумулятивной выручки по группам. Сделайте выводы и предположения.\n",
    "* Постройте график кумулятивного среднего чека по группам. Сделайте выводы и предположения.\n",
    "* Постройте график относительного изменения кумулятивного среднего чека группы B к группе A. Сделайте выводы и предположения.\n",
    "* Постройте график кумулятивного среднего количества заказов на посетителя по группам. Сделайте выводы и предположения.\n",
    "* Постройте график относительного изменения кумулятивного среднего количества заказов на посетителя группы B к группе A. Сделайте выводы и предположения.\n",
    "* Постройте точечный график количества заказов по пользователям. Сделайте выводы и предположения.\n",
    "* Посчитайте 95-й и 99-й перцентили количества заказов на пользователя. Выберите границу для определения аномальных пользователей.\n",
    "* Постройте точечный график стоимостей заказов. Сделайте выводы и предположения.\n",
    "* Посчитайте 95-й и 99-й перцентили стоимости заказов. Выберите границу для определения аномальных заказов.\n",
    "* Посчитайте статистическую значимость различий в среднем количестве заказов на посетителя между группами по «сырым» данным. Сделайте выводы и предположения.\n",
    "* Посчитайте статистическую значимость различий в среднем чеке заказа между группами по «сырым» данным. Сделайте выводы и предположения.\n",
    "* Посчитайте статистическую значимость различий в среднем количестве заказов на посетителя между группами по «очищенным» данным. Сделайте выводы и предположения.\n",
    "* Посчитайте статистическую значимость различий в среднем чеке заказа между группами по «очищенным» данным. Сделайте выводы и предположения.\n",
    "* Примите решение по результатам теста и объясните его. Варианты решений:\n",
    "1. Остановить тест, зафиксировать победу одной из групп.\n",
    "2. Остановить тест, зафиксировать отсутствие различий между группами.\n",
    "3. Продолжить тест.\n"
   ]
  },
  {
   "cell_type": "markdown",
   "id": "ab56581b",
   "metadata": {},
   "source": [
    "### Загрузка данных"
   ]
  },
  {
   "cell_type": "code",
   "execution_count": 1,
   "id": "cf17029a",
   "metadata": {},
   "outputs": [],
   "source": [
    "# Импорт библиотек\n",
    "import pandas as pd\n",
    "from pandas.plotting import register_matplotlib_converters\n",
    "import datetime as dt\n",
    "from datetime import datetime, timedelta\n",
    "import numpy as np\n",
    "import matplotlib as mp\n",
    "import matplotlib.pyplot as plt\n",
    "import scipy.stats as stats\n",
    "import warnings\n",
    "warnings.filterwarnings(\"ignore\")\n",
    "# Настройка формата отображения чисел с типом  float в pandas\n",
    "pd.set_option(\"display.float_format\", \"{:.2f}\".format)\n",
    "register_matplotlib_converters()\n",
    "pd.options.display.max_colwidth = 130 # изменяем максимальную ширину колонки до 130"
   ]
  },
  {
   "cell_type": "code",
   "execution_count": 2,
   "id": "28211d60",
   "metadata": {},
   "outputs": [],
   "source": [
    "#Загрузка файлов с данными в датафреймы pandas\n",
    "hypothesis = pd.read_csv('/datasets/hypothesis.csv')\n",
    "orders = pd.read_csv('/datasets/orders.csv')\n",
    "visitors = pd.read_csv('/datasets/visitors.csv')"
   ]
  },
  {
   "cell_type": "markdown",
   "id": "fae3fa6f",
   "metadata": {},
   "source": [
    "### Предобработка данных"
   ]
  },
  {
   "cell_type": "code",
   "execution_count": 3,
   "id": "2b35c2fa",
   "metadata": {},
   "outputs": [],
   "source": [
    "#Функция для визуализации пропусков и дубликатов в данных\n",
    "def vis_nan_dup(df):\n",
    "    # вывод информации о \n",
    "    for col in df.columns:\n",
    "        pct_missing = np.mean(df[col].isnull())\n",
    "        print('Пропуски в процентах по столбцу:','{} - {}%'.format(col, round(pct_missing*100)))\n",
    "        print('Количество явных дубликатов:',df.duplicated().sum())"
   ]
  },
  {
   "cell_type": "code",
   "execution_count": 4,
   "id": "d73b880d",
   "metadata": {},
   "outputs": [],
   "source": [
    "#Функция для вывода всей общей информации\n",
    "def full_info(df):\n",
    "    return display(df.sample(9)), \\\n",
    "    display(df.describe()), \\\n",
    "    display(df.info()), \\\n",
    "    display(df.shape), \\\n",
    "    display(vis_nan_dup(df))"
   ]
  },
  {
   "cell_type": "code",
   "execution_count": 5,
   "id": "607b3a0f",
   "metadata": {},
   "outputs": [
    {
     "data": {
      "text/html": [
       "<div>\n",
       "<style scoped>\n",
       "    .dataframe tbody tr th:only-of-type {\n",
       "        vertical-align: middle;\n",
       "    }\n",
       "\n",
       "    .dataframe tbody tr th {\n",
       "        vertical-align: top;\n",
       "    }\n",
       "\n",
       "    .dataframe thead th {\n",
       "        text-align: right;\n",
       "    }\n",
       "</style>\n",
       "<table border=\"1\" class=\"dataframe\">\n",
       "  <thead>\n",
       "    <tr style=\"text-align: right;\">\n",
       "      <th></th>\n",
       "      <th>Hypothesis</th>\n",
       "      <th>Reach</th>\n",
       "      <th>Impact</th>\n",
       "      <th>Confidence</th>\n",
       "      <th>Efforts</th>\n",
       "    </tr>\n",
       "  </thead>\n",
       "  <tbody>\n",
       "    <tr>\n",
       "      <th>1</th>\n",
       "      <td>Запустить собственную службу доставки, что сократит срок доставки заказов</td>\n",
       "      <td>2</td>\n",
       "      <td>5</td>\n",
       "      <td>4</td>\n",
       "      <td>10</td>\n",
       "    </tr>\n",
       "    <tr>\n",
       "      <th>4</th>\n",
       "      <td>Изменить цвет фона главной страницы, чтобы увеличить вовлеченность пользователей</td>\n",
       "      <td>3</td>\n",
       "      <td>1</td>\n",
       "      <td>1</td>\n",
       "      <td>1</td>\n",
       "    </tr>\n",
       "    <tr>\n",
       "      <th>2</th>\n",
       "      <td>Добавить блоки рекомендаций товаров на сайт интернет магазина, чтобы повысить конверсию и средний чек заказа</td>\n",
       "      <td>8</td>\n",
       "      <td>3</td>\n",
       "      <td>7</td>\n",
       "      <td>3</td>\n",
       "    </tr>\n",
       "    <tr>\n",
       "      <th>7</th>\n",
       "      <td>Добавить форму подписки на все основные страницы, чтобы собрать базу клиентов для email-рассылок</td>\n",
       "      <td>10</td>\n",
       "      <td>7</td>\n",
       "      <td>8</td>\n",
       "      <td>5</td>\n",
       "    </tr>\n",
       "    <tr>\n",
       "      <th>5</th>\n",
       "      <td>Добавить страницу отзывов клиентов о магазине, что позволит увеличить количество заказов</td>\n",
       "      <td>3</td>\n",
       "      <td>2</td>\n",
       "      <td>2</td>\n",
       "      <td>3</td>\n",
       "    </tr>\n",
       "    <tr>\n",
       "      <th>8</th>\n",
       "      <td>Запустить акцию, дающую скидку на товар в день рождения</td>\n",
       "      <td>1</td>\n",
       "      <td>9</td>\n",
       "      <td>9</td>\n",
       "      <td>5</td>\n",
       "    </tr>\n",
       "    <tr>\n",
       "      <th>3</th>\n",
       "      <td>Изменить структура категорий, что увеличит конверсию, т.к. пользователи быстрее найдут нужный товар</td>\n",
       "      <td>8</td>\n",
       "      <td>3</td>\n",
       "      <td>3</td>\n",
       "      <td>8</td>\n",
       "    </tr>\n",
       "    <tr>\n",
       "      <th>0</th>\n",
       "      <td>Добавить два новых канала привлечения трафика, что позволит привлекать на 30% больше пользователей</td>\n",
       "      <td>3</td>\n",
       "      <td>10</td>\n",
       "      <td>8</td>\n",
       "      <td>6</td>\n",
       "    </tr>\n",
       "    <tr>\n",
       "      <th>6</th>\n",
       "      <td>Показать на главной странице баннеры с актуальными акциями и распродажами, чтобы увеличить конверсию</td>\n",
       "      <td>5</td>\n",
       "      <td>3</td>\n",
       "      <td>8</td>\n",
       "      <td>3</td>\n",
       "    </tr>\n",
       "  </tbody>\n",
       "</table>\n",
       "</div>"
      ],
      "text/plain": [
       "                                                                                                     Hypothesis  \\\n",
       "1                                     Запустить собственную службу доставки, что сократит срок доставки заказов   \n",
       "4                              Изменить цвет фона главной страницы, чтобы увеличить вовлеченность пользователей   \n",
       "2  Добавить блоки рекомендаций товаров на сайт интернет магазина, чтобы повысить конверсию и средний чек заказа   \n",
       "7              Добавить форму подписки на все основные страницы, чтобы собрать базу клиентов для email-рассылок   \n",
       "5                      Добавить страницу отзывов клиентов о магазине, что позволит увеличить количество заказов   \n",
       "8                                                       Запустить акцию, дающую скидку на товар в день рождения   \n",
       "3           Изменить структура категорий, что увеличит конверсию, т.к. пользователи быстрее найдут нужный товар   \n",
       "0            Добавить два новых канала привлечения трафика, что позволит привлекать на 30% больше пользователей   \n",
       "6          Показать на главной странице баннеры с актуальными акциями и распродажами, чтобы увеличить конверсию   \n",
       "\n",
       "   Reach  Impact  Confidence  Efforts  \n",
       "1      2       5           4       10  \n",
       "4      3       1           1        1  \n",
       "2      8       3           7        3  \n",
       "7     10       7           8        5  \n",
       "5      3       2           2        3  \n",
       "8      1       9           9        5  \n",
       "3      8       3           3        8  \n",
       "0      3      10           8        6  \n",
       "6      5       3           8        3  "
      ]
     },
     "metadata": {},
     "output_type": "display_data"
    },
    {
     "data": {
      "text/html": [
       "<div>\n",
       "<style scoped>\n",
       "    .dataframe tbody tr th:only-of-type {\n",
       "        vertical-align: middle;\n",
       "    }\n",
       "\n",
       "    .dataframe tbody tr th {\n",
       "        vertical-align: top;\n",
       "    }\n",
       "\n",
       "    .dataframe thead th {\n",
       "        text-align: right;\n",
       "    }\n",
       "</style>\n",
       "<table border=\"1\" class=\"dataframe\">\n",
       "  <thead>\n",
       "    <tr style=\"text-align: right;\">\n",
       "      <th></th>\n",
       "      <th>Reach</th>\n",
       "      <th>Impact</th>\n",
       "      <th>Confidence</th>\n",
       "      <th>Efforts</th>\n",
       "    </tr>\n",
       "  </thead>\n",
       "  <tbody>\n",
       "    <tr>\n",
       "      <th>count</th>\n",
       "      <td>9.00</td>\n",
       "      <td>9.00</td>\n",
       "      <td>9.00</td>\n",
       "      <td>9.00</td>\n",
       "    </tr>\n",
       "    <tr>\n",
       "      <th>mean</th>\n",
       "      <td>4.78</td>\n",
       "      <td>4.78</td>\n",
       "      <td>5.56</td>\n",
       "      <td>4.89</td>\n",
       "    </tr>\n",
       "    <tr>\n",
       "      <th>std</th>\n",
       "      <td>3.15</td>\n",
       "      <td>3.19</td>\n",
       "      <td>3.05</td>\n",
       "      <td>2.80</td>\n",
       "    </tr>\n",
       "    <tr>\n",
       "      <th>min</th>\n",
       "      <td>1.00</td>\n",
       "      <td>1.00</td>\n",
       "      <td>1.00</td>\n",
       "      <td>1.00</td>\n",
       "    </tr>\n",
       "    <tr>\n",
       "      <th>25%</th>\n",
       "      <td>3.00</td>\n",
       "      <td>3.00</td>\n",
       "      <td>3.00</td>\n",
       "      <td>3.00</td>\n",
       "    </tr>\n",
       "    <tr>\n",
       "      <th>50%</th>\n",
       "      <td>3.00</td>\n",
       "      <td>3.00</td>\n",
       "      <td>7.00</td>\n",
       "      <td>5.00</td>\n",
       "    </tr>\n",
       "    <tr>\n",
       "      <th>75%</th>\n",
       "      <td>8.00</td>\n",
       "      <td>7.00</td>\n",
       "      <td>8.00</td>\n",
       "      <td>6.00</td>\n",
       "    </tr>\n",
       "    <tr>\n",
       "      <th>max</th>\n",
       "      <td>10.00</td>\n",
       "      <td>10.00</td>\n",
       "      <td>9.00</td>\n",
       "      <td>10.00</td>\n",
       "    </tr>\n",
       "  </tbody>\n",
       "</table>\n",
       "</div>"
      ],
      "text/plain": [
       "       Reach  Impact  Confidence  Efforts\n",
       "count   9.00    9.00        9.00     9.00\n",
       "mean    4.78    4.78        5.56     4.89\n",
       "std     3.15    3.19        3.05     2.80\n",
       "min     1.00    1.00        1.00     1.00\n",
       "25%     3.00    3.00        3.00     3.00\n",
       "50%     3.00    3.00        7.00     5.00\n",
       "75%     8.00    7.00        8.00     6.00\n",
       "max    10.00   10.00        9.00    10.00"
      ]
     },
     "metadata": {},
     "output_type": "display_data"
    },
    {
     "name": "stdout",
     "output_type": "stream",
     "text": [
      "<class 'pandas.core.frame.DataFrame'>\n",
      "RangeIndex: 9 entries, 0 to 8\n",
      "Data columns (total 5 columns):\n",
      " #   Column      Non-Null Count  Dtype \n",
      "---  ------      --------------  ----- \n",
      " 0   Hypothesis  9 non-null      object\n",
      " 1   Reach       9 non-null      int64 \n",
      " 2   Impact      9 non-null      int64 \n",
      " 3   Confidence  9 non-null      int64 \n",
      " 4   Efforts     9 non-null      int64 \n",
      "dtypes: int64(4), object(1)\n",
      "memory usage: 488.0+ bytes\n"
     ]
    },
    {
     "data": {
      "text/plain": [
       "None"
      ]
     },
     "metadata": {},
     "output_type": "display_data"
    },
    {
     "data": {
      "text/plain": [
       "(9, 5)"
      ]
     },
     "metadata": {},
     "output_type": "display_data"
    },
    {
     "name": "stdout",
     "output_type": "stream",
     "text": [
      "Пропуски в процентах по столбцу: Hypothesis - 0%\n",
      "Количество явных дубликатов: 0\n",
      "Пропуски в процентах по столбцу: Reach - 0%\n",
      "Количество явных дубликатов: 0\n",
      "Пропуски в процентах по столбцу: Impact - 0%\n",
      "Количество явных дубликатов: 0\n",
      "Пропуски в процентах по столбцу: Confidence - 0%\n",
      "Количество явных дубликатов: 0\n",
      "Пропуски в процентах по столбцу: Efforts - 0%\n",
      "Количество явных дубликатов: 0\n"
     ]
    },
    {
     "data": {
      "text/plain": [
       "None"
      ]
     },
     "metadata": {},
     "output_type": "display_data"
    },
    {
     "data": {
      "text/plain": [
       "(None, None, None, None, None)"
      ]
     },
     "execution_count": 5,
     "metadata": {},
     "output_type": "execute_result"
    }
   ],
   "source": [
    "full_info(hypothesis)"
   ]
  },
  {
   "cell_type": "code",
   "execution_count": 6,
   "id": "f1da8118",
   "metadata": {},
   "outputs": [],
   "source": [
    "#Переведем названия столбцов в нижний регистр.\n",
    "hypothesis.columns = [name.lower() for name in hypothesis.columns]"
   ]
  },
  {
   "cell_type": "markdown",
   "id": "d7c7051b",
   "metadata": {},
   "source": [
    "<div style=\"border:solid Blue 2px; padding: 20px\">\n",
    "    \n",
    "Файл с гипотезами в порядке, нет ни пропусков, ни дубликатов. Привели название столбцов в нижний регистр.\n",
    "    \n",
    "    Содержание файла следующее:\n",
    " \n",
    "- Hypothesis — описание гипотезы;\n",
    "- Reach — охват пользователей по 10-балльной шкале;\n",
    "- Impact — влияние на пользователей по 10-балльной шкале;\n",
    "- Confidence — уверенность в гипотезе по 10-балльной шкале;\n",
    "- Efforts — затраты ресурсов на проверку гипотезы по 10-балльной шкале.\n",
    "</div>"
   ]
  },
  {
   "cell_type": "code",
   "execution_count": 7,
   "id": "73ec6e86",
   "metadata": {},
   "outputs": [
    {
     "data": {
      "text/html": [
       "<div>\n",
       "<style scoped>\n",
       "    .dataframe tbody tr th:only-of-type {\n",
       "        vertical-align: middle;\n",
       "    }\n",
       "\n",
       "    .dataframe tbody tr th {\n",
       "        vertical-align: top;\n",
       "    }\n",
       "\n",
       "    .dataframe thead th {\n",
       "        text-align: right;\n",
       "    }\n",
       "</style>\n",
       "<table border=\"1\" class=\"dataframe\">\n",
       "  <thead>\n",
       "    <tr style=\"text-align: right;\">\n",
       "      <th></th>\n",
       "      <th>transactionId</th>\n",
       "      <th>visitorId</th>\n",
       "      <th>date</th>\n",
       "      <th>revenue</th>\n",
       "      <th>group</th>\n",
       "    </tr>\n",
       "  </thead>\n",
       "  <tbody>\n",
       "    <tr>\n",
       "      <th>1064</th>\n",
       "      <td>606354126</td>\n",
       "      <td>3115684948</td>\n",
       "      <td>2019-08-11</td>\n",
       "      <td>18350</td>\n",
       "      <td>A</td>\n",
       "    </tr>\n",
       "    <tr>\n",
       "      <th>265</th>\n",
       "      <td>3743515850</td>\n",
       "      <td>2579882178</td>\n",
       "      <td>2019-08-18</td>\n",
       "      <td>1922</td>\n",
       "      <td>A</td>\n",
       "    </tr>\n",
       "    <tr>\n",
       "      <th>377</th>\n",
       "      <td>42506358</td>\n",
       "      <td>535857429</td>\n",
       "      <td>2019-08-25</td>\n",
       "      <td>3450</td>\n",
       "      <td>B</td>\n",
       "    </tr>\n",
       "    <tr>\n",
       "      <th>50</th>\n",
       "      <td>2236784294</td>\n",
       "      <td>1690383497</td>\n",
       "      <td>2019-08-16</td>\n",
       "      <td>2970</td>\n",
       "      <td>B</td>\n",
       "    </tr>\n",
       "    <tr>\n",
       "      <th>162</th>\n",
       "      <td>2634363174</td>\n",
       "      <td>2892265953</td>\n",
       "      <td>2019-08-17</td>\n",
       "      <td>1990</td>\n",
       "      <td>A</td>\n",
       "    </tr>\n",
       "    <tr>\n",
       "      <th>198</th>\n",
       "      <td>2206098194</td>\n",
       "      <td>2880866577</td>\n",
       "      <td>2019-08-02</td>\n",
       "      <td>1690</td>\n",
       "      <td>A</td>\n",
       "    </tr>\n",
       "    <tr>\n",
       "      <th>41</th>\n",
       "      <td>2594268419</td>\n",
       "      <td>237748145</td>\n",
       "      <td>2019-08-15</td>\n",
       "      <td>1090</td>\n",
       "      <td>A</td>\n",
       "    </tr>\n",
       "    <tr>\n",
       "      <th>741</th>\n",
       "      <td>2142284513</td>\n",
       "      <td>1438226485</td>\n",
       "      <td>2019-08-09</td>\n",
       "      <td>3354</td>\n",
       "      <td>B</td>\n",
       "    </tr>\n",
       "    <tr>\n",
       "      <th>637</th>\n",
       "      <td>1869578588</td>\n",
       "      <td>195530970</td>\n",
       "      <td>2019-08-09</td>\n",
       "      <td>17030</td>\n",
       "      <td>B</td>\n",
       "    </tr>\n",
       "  </tbody>\n",
       "</table>\n",
       "</div>"
      ],
      "text/plain": [
       "      transactionId   visitorId        date  revenue group\n",
       "1064      606354126  3115684948  2019-08-11    18350     A\n",
       "265      3743515850  2579882178  2019-08-18     1922     A\n",
       "377        42506358   535857429  2019-08-25     3450     B\n",
       "50       2236784294  1690383497  2019-08-16     2970     B\n",
       "162      2634363174  2892265953  2019-08-17     1990     A\n",
       "198      2206098194  2880866577  2019-08-02     1690     A\n",
       "41       2594268419   237748145  2019-08-15     1090     A\n",
       "741      2142284513  1438226485  2019-08-09     3354     B\n",
       "637      1869578588   195530970  2019-08-09    17030     B"
      ]
     },
     "metadata": {},
     "output_type": "display_data"
    },
    {
     "data": {
      "text/html": [
       "<div>\n",
       "<style scoped>\n",
       "    .dataframe tbody tr th:only-of-type {\n",
       "        vertical-align: middle;\n",
       "    }\n",
       "\n",
       "    .dataframe tbody tr th {\n",
       "        vertical-align: top;\n",
       "    }\n",
       "\n",
       "    .dataframe thead th {\n",
       "        text-align: right;\n",
       "    }\n",
       "</style>\n",
       "<table border=\"1\" class=\"dataframe\">\n",
       "  <thead>\n",
       "    <tr style=\"text-align: right;\">\n",
       "      <th></th>\n",
       "      <th>transactionId</th>\n",
       "      <th>visitorId</th>\n",
       "      <th>revenue</th>\n",
       "    </tr>\n",
       "  </thead>\n",
       "  <tbody>\n",
       "    <tr>\n",
       "      <th>count</th>\n",
       "      <td>1197.00</td>\n",
       "      <td>1197.00</td>\n",
       "      <td>1197.00</td>\n",
       "    </tr>\n",
       "    <tr>\n",
       "      <th>mean</th>\n",
       "      <td>2155621385.53</td>\n",
       "      <td>2165960143.10</td>\n",
       "      <td>8348.01</td>\n",
       "    </tr>\n",
       "    <tr>\n",
       "      <th>std</th>\n",
       "      <td>1229084904.76</td>\n",
       "      <td>1236014192.15</td>\n",
       "      <td>39191.13</td>\n",
       "    </tr>\n",
       "    <tr>\n",
       "      <th>min</th>\n",
       "      <td>1062393.00</td>\n",
       "      <td>5114589.00</td>\n",
       "      <td>50.00</td>\n",
       "    </tr>\n",
       "    <tr>\n",
       "      <th>25%</th>\n",
       "      <td>1166775572.00</td>\n",
       "      <td>1111826046.00</td>\n",
       "      <td>1220.00</td>\n",
       "    </tr>\n",
       "    <tr>\n",
       "      <th>50%</th>\n",
       "      <td>2145193898.00</td>\n",
       "      <td>2217984702.00</td>\n",
       "      <td>2978.00</td>\n",
       "    </tr>\n",
       "    <tr>\n",
       "      <th>75%</th>\n",
       "      <td>3237740112.00</td>\n",
       "      <td>3177606451.00</td>\n",
       "      <td>8290.00</td>\n",
       "    </tr>\n",
       "    <tr>\n",
       "      <th>max</th>\n",
       "      <td>4293855558.00</td>\n",
       "      <td>4283872382.00</td>\n",
       "      <td>1294500.00</td>\n",
       "    </tr>\n",
       "  </tbody>\n",
       "</table>\n",
       "</div>"
      ],
      "text/plain": [
       "       transactionId     visitorId    revenue\n",
       "count        1197.00       1197.00    1197.00\n",
       "mean   2155621385.53 2165960143.10    8348.01\n",
       "std    1229084904.76 1236014192.15   39191.13\n",
       "min       1062393.00    5114589.00      50.00\n",
       "25%    1166775572.00 1111826046.00    1220.00\n",
       "50%    2145193898.00 2217984702.00    2978.00\n",
       "75%    3237740112.00 3177606451.00    8290.00\n",
       "max    4293855558.00 4283872382.00 1294500.00"
      ]
     },
     "metadata": {},
     "output_type": "display_data"
    },
    {
     "name": "stdout",
     "output_type": "stream",
     "text": [
      "<class 'pandas.core.frame.DataFrame'>\n",
      "RangeIndex: 1197 entries, 0 to 1196\n",
      "Data columns (total 5 columns):\n",
      " #   Column         Non-Null Count  Dtype \n",
      "---  ------         --------------  ----- \n",
      " 0   transactionId  1197 non-null   int64 \n",
      " 1   visitorId      1197 non-null   int64 \n",
      " 2   date           1197 non-null   object\n",
      " 3   revenue        1197 non-null   int64 \n",
      " 4   group          1197 non-null   object\n",
      "dtypes: int64(3), object(2)\n",
      "memory usage: 46.9+ KB\n"
     ]
    },
    {
     "data": {
      "text/plain": [
       "None"
      ]
     },
     "metadata": {},
     "output_type": "display_data"
    },
    {
     "data": {
      "text/plain": [
       "(1197, 5)"
      ]
     },
     "metadata": {},
     "output_type": "display_data"
    },
    {
     "name": "stdout",
     "output_type": "stream",
     "text": [
      "Пропуски в процентах по столбцу: transactionId - 0%\n",
      "Количество явных дубликатов: 0\n",
      "Пропуски в процентах по столбцу: visitorId - 0%\n",
      "Количество явных дубликатов: 0\n",
      "Пропуски в процентах по столбцу: date - 0%\n",
      "Количество явных дубликатов: 0\n",
      "Пропуски в процентах по столбцу: revenue - 0%\n",
      "Количество явных дубликатов: 0\n",
      "Пропуски в процентах по столбцу: group - 0%\n",
      "Количество явных дубликатов: 0\n"
     ]
    },
    {
     "data": {
      "text/plain": [
       "None"
      ]
     },
     "metadata": {},
     "output_type": "display_data"
    },
    {
     "data": {
      "text/plain": [
       "(None, None, None, None, None)"
      ]
     },
     "execution_count": 7,
     "metadata": {},
     "output_type": "execute_result"
    }
   ],
   "source": [
    "full_info(orders)"
   ]
  },
  {
   "cell_type": "markdown",
   "id": "02092c6e",
   "metadata": {},
   "source": [
    "<div style=\"border:solid Blue 2px; padding: 20px\">\n",
    "    \n",
    "Файл с заказами в порядке, нет ни пропусков, ни дубликатов, но требуется изменить тип данных в столбце date\n",
    "    \n",
    "Содержание файла следующее:\n",
    "- transactionId — идентификатор заказа;\n",
    "- visitorId — идентификатор пользователя, совершившего заказ;\n",
    "- date — дата, когда был совершён заказ;\n",
    "- revenue — выручка заказа;\n",
    "- group — группа A/B-теста, в которую попал заказ.\n",
    "</div>"
   ]
  },
  {
   "cell_type": "code",
   "execution_count": 8,
   "id": "bd28841c",
   "metadata": {},
   "outputs": [
    {
     "data": {
      "text/html": [
       "<div>\n",
       "<style scoped>\n",
       "    .dataframe tbody tr th:only-of-type {\n",
       "        vertical-align: middle;\n",
       "    }\n",
       "\n",
       "    .dataframe tbody tr th {\n",
       "        vertical-align: top;\n",
       "    }\n",
       "\n",
       "    .dataframe thead th {\n",
       "        text-align: right;\n",
       "    }\n",
       "</style>\n",
       "<table border=\"1\" class=\"dataframe\">\n",
       "  <thead>\n",
       "    <tr style=\"text-align: right;\">\n",
       "      <th></th>\n",
       "      <th>date</th>\n",
       "      <th>group</th>\n",
       "      <th>visitors</th>\n",
       "    </tr>\n",
       "  </thead>\n",
       "  <tbody>\n",
       "    <tr>\n",
       "      <th>0</th>\n",
       "      <td>2019-08-01</td>\n",
       "      <td>A</td>\n",
       "      <td>719</td>\n",
       "    </tr>\n",
       "    <tr>\n",
       "      <th>17</th>\n",
       "      <td>2019-08-18</td>\n",
       "      <td>A</td>\n",
       "      <td>668</td>\n",
       "    </tr>\n",
       "    <tr>\n",
       "      <th>48</th>\n",
       "      <td>2019-08-18</td>\n",
       "      <td>B</td>\n",
       "      <td>737</td>\n",
       "    </tr>\n",
       "    <tr>\n",
       "      <th>43</th>\n",
       "      <td>2019-08-13</td>\n",
       "      <td>B</td>\n",
       "      <td>769</td>\n",
       "    </tr>\n",
       "    <tr>\n",
       "      <th>6</th>\n",
       "      <td>2019-08-07</td>\n",
       "      <td>A</td>\n",
       "      <td>644</td>\n",
       "    </tr>\n",
       "    <tr>\n",
       "      <th>26</th>\n",
       "      <td>2019-08-27</td>\n",
       "      <td>A</td>\n",
       "      <td>711</td>\n",
       "    </tr>\n",
       "    <tr>\n",
       "      <th>49</th>\n",
       "      <td>2019-08-19</td>\n",
       "      <td>B</td>\n",
       "      <td>487</td>\n",
       "    </tr>\n",
       "    <tr>\n",
       "      <th>10</th>\n",
       "      <td>2019-08-11</td>\n",
       "      <td>A</td>\n",
       "      <td>718</td>\n",
       "    </tr>\n",
       "    <tr>\n",
       "      <th>54</th>\n",
       "      <td>2019-08-24</td>\n",
       "      <td>B</td>\n",
       "      <td>378</td>\n",
       "    </tr>\n",
       "  </tbody>\n",
       "</table>\n",
       "</div>"
      ],
      "text/plain": [
       "          date group  visitors\n",
       "0   2019-08-01     A       719\n",
       "17  2019-08-18     A       668\n",
       "48  2019-08-18     B       737\n",
       "43  2019-08-13     B       769\n",
       "6   2019-08-07     A       644\n",
       "26  2019-08-27     A       711\n",
       "49  2019-08-19     B       487\n",
       "10  2019-08-11     A       718\n",
       "54  2019-08-24     B       378"
      ]
     },
     "metadata": {},
     "output_type": "display_data"
    },
    {
     "data": {
      "text/html": [
       "<div>\n",
       "<style scoped>\n",
       "    .dataframe tbody tr th:only-of-type {\n",
       "        vertical-align: middle;\n",
       "    }\n",
       "\n",
       "    .dataframe tbody tr th {\n",
       "        vertical-align: top;\n",
       "    }\n",
       "\n",
       "    .dataframe thead th {\n",
       "        text-align: right;\n",
       "    }\n",
       "</style>\n",
       "<table border=\"1\" class=\"dataframe\">\n",
       "  <thead>\n",
       "    <tr style=\"text-align: right;\">\n",
       "      <th></th>\n",
       "      <th>visitors</th>\n",
       "    </tr>\n",
       "  </thead>\n",
       "  <tbody>\n",
       "    <tr>\n",
       "      <th>count</th>\n",
       "      <td>62.00</td>\n",
       "    </tr>\n",
       "    <tr>\n",
       "      <th>mean</th>\n",
       "      <td>607.29</td>\n",
       "    </tr>\n",
       "    <tr>\n",
       "      <th>std</th>\n",
       "      <td>114.40</td>\n",
       "    </tr>\n",
       "    <tr>\n",
       "      <th>min</th>\n",
       "      <td>361.00</td>\n",
       "    </tr>\n",
       "    <tr>\n",
       "      <th>25%</th>\n",
       "      <td>534.00</td>\n",
       "    </tr>\n",
       "    <tr>\n",
       "      <th>50%</th>\n",
       "      <td>624.50</td>\n",
       "    </tr>\n",
       "    <tr>\n",
       "      <th>75%</th>\n",
       "      <td>710.50</td>\n",
       "    </tr>\n",
       "    <tr>\n",
       "      <th>max</th>\n",
       "      <td>770.00</td>\n",
       "    </tr>\n",
       "  </tbody>\n",
       "</table>\n",
       "</div>"
      ],
      "text/plain": [
       "       visitors\n",
       "count     62.00\n",
       "mean     607.29\n",
       "std      114.40\n",
       "min      361.00\n",
       "25%      534.00\n",
       "50%      624.50\n",
       "75%      710.50\n",
       "max      770.00"
      ]
     },
     "metadata": {},
     "output_type": "display_data"
    },
    {
     "name": "stdout",
     "output_type": "stream",
     "text": [
      "<class 'pandas.core.frame.DataFrame'>\n",
      "RangeIndex: 62 entries, 0 to 61\n",
      "Data columns (total 3 columns):\n",
      " #   Column    Non-Null Count  Dtype \n",
      "---  ------    --------------  ----- \n",
      " 0   date      62 non-null     object\n",
      " 1   group     62 non-null     object\n",
      " 2   visitors  62 non-null     int64 \n",
      "dtypes: int64(1), object(2)\n",
      "memory usage: 1.6+ KB\n"
     ]
    },
    {
     "data": {
      "text/plain": [
       "None"
      ]
     },
     "metadata": {},
     "output_type": "display_data"
    },
    {
     "data": {
      "text/plain": [
       "(62, 3)"
      ]
     },
     "metadata": {},
     "output_type": "display_data"
    },
    {
     "name": "stdout",
     "output_type": "stream",
     "text": [
      "Пропуски в процентах по столбцу: date - 0%\n",
      "Количество явных дубликатов: 0\n",
      "Пропуски в процентах по столбцу: group - 0%\n",
      "Количество явных дубликатов: 0\n",
      "Пропуски в процентах по столбцу: visitors - 0%\n",
      "Количество явных дубликатов: 0\n"
     ]
    },
    {
     "data": {
      "text/plain": [
       "None"
      ]
     },
     "metadata": {},
     "output_type": "display_data"
    },
    {
     "data": {
      "text/plain": [
       "(None, None, None, None, None)"
      ]
     },
     "execution_count": 8,
     "metadata": {},
     "output_type": "execute_result"
    }
   ],
   "source": [
    "full_info(visitors)"
   ]
  },
  {
   "cell_type": "markdown",
   "id": "c9bc67ed",
   "metadata": {},
   "source": [
    "<div style=\"border:solid Blue 2px; padding: 20px\">\n",
    "    \n",
    "Файл с посетителями в порядке, нет ни пропусков, ни дубликатов, но требуется изменить тип данных в столбце date\n",
    "    \n",
    "Содержание файла следующее:\n",
    "- date — дата;\n",
    "- group — группа A/B-теста;\n",
    "- visitors — количество пользователей в указанную дату в указанной группе A/B-теста\n",
    "</div>"
   ]
  },
  {
   "cell_type": "code",
   "execution_count": 9,
   "id": "ce54e07e",
   "metadata": {},
   "outputs": [],
   "source": [
    "#Изменение типов данных\n",
    "orders['date'] = pd.to_datetime(orders['date'])\n",
    "visitors['date'] = pd.to_datetime(visitors['date'])"
   ]
  },
  {
   "cell_type": "markdown",
   "id": "e9a424f3",
   "metadata": {},
   "source": [
    "### Дополнительные проверки:"
   ]
  },
  {
   "cell_type": "code",
   "execution_count": 10,
   "id": "8715fd51",
   "metadata": {},
   "outputs": [
    {
     "data": {
      "text/plain": [
       "'Период заказов'"
      ]
     },
     "metadata": {},
     "output_type": "display_data"
    },
    {
     "data": {
      "text/plain": [
       "Timestamp('2019-08-01 00:00:00')"
      ]
     },
     "metadata": {},
     "output_type": "display_data"
    },
    {
     "data": {
      "text/plain": [
       "Timestamp('2019-08-31 00:00:00')"
      ]
     },
     "metadata": {},
     "output_type": "display_data"
    },
    {
     "data": {
      "text/plain": [
       "'Период пользователей'"
      ]
     },
     "metadata": {},
     "output_type": "display_data"
    },
    {
     "data": {
      "text/plain": [
       "Timestamp('2019-08-01 00:00:00')"
      ]
     },
     "metadata": {},
     "output_type": "display_data"
    },
    {
     "data": {
      "text/plain": [
       "Timestamp('2019-08-31 00:00:00')"
      ]
     },
     "metadata": {},
     "output_type": "display_data"
    }
   ],
   "source": [
    "#Проверим совпадают ли даты в файлах\n",
    "display('Период заказов', orders['date'].min(), orders['date'].max(),\n",
    "'Период пользователей', visitors['date'].min(), visitors['date'].max())"
   ]
  },
  {
   "cell_type": "code",
   "execution_count": 11,
   "id": "d9ce1a49",
   "metadata": {},
   "outputs": [
    {
     "data": {
      "text/plain": [
       "array(['B', 'A'], dtype=object)"
      ]
     },
     "execution_count": 11,
     "metadata": {},
     "output_type": "execute_result"
    }
   ],
   "source": [
    "#Посмотрим сколько у нас групп в АВ-тесте:\n",
    "orders['group'].unique()"
   ]
  },
  {
   "cell_type": "markdown",
   "id": "caf639c0",
   "metadata": {},
   "source": [
    "Данные для АВ-теста представлены двумя группами - А и В."
   ]
  },
  {
   "cell_type": "code",
   "execution_count": 12,
   "id": "e1cfcffe",
   "metadata": {},
   "outputs": [
    {
     "data": {
      "text/html": [
       "<div>\n",
       "<style scoped>\n",
       "    .dataframe tbody tr th:only-of-type {\n",
       "        vertical-align: middle;\n",
       "    }\n",
       "\n",
       "    .dataframe tbody tr th {\n",
       "        vertical-align: top;\n",
       "    }\n",
       "\n",
       "    .dataframe thead th {\n",
       "        text-align: right;\n",
       "    }\n",
       "</style>\n",
       "<table border=\"1\" class=\"dataframe\">\n",
       "  <thead>\n",
       "    <tr style=\"text-align: right;\">\n",
       "      <th></th>\n",
       "      <th>groups</th>\n",
       "      <th>group_name</th>\n",
       "    </tr>\n",
       "    <tr>\n",
       "      <th>visitorId</th>\n",
       "      <th></th>\n",
       "      <th></th>\n",
       "    </tr>\n",
       "  </thead>\n",
       "  <tbody>\n",
       "    <tr>\n",
       "      <th>8300375</th>\n",
       "      <td>2</td>\n",
       "      <td>[B, A]</td>\n",
       "    </tr>\n",
       "    <tr>\n",
       "      <th>199603092</th>\n",
       "      <td>2</td>\n",
       "      <td>[A, B]</td>\n",
       "    </tr>\n",
       "    <tr>\n",
       "      <th>232979603</th>\n",
       "      <td>2</td>\n",
       "      <td>[B, A]</td>\n",
       "    </tr>\n",
       "    <tr>\n",
       "      <th>237748145</th>\n",
       "      <td>2</td>\n",
       "      <td>[B, A]</td>\n",
       "    </tr>\n",
       "    <tr>\n",
       "      <th>276558944</th>\n",
       "      <td>2</td>\n",
       "      <td>[B, A]</td>\n",
       "    </tr>\n",
       "  </tbody>\n",
       "</table>\n",
       "</div>"
      ],
      "text/plain": [
       "           groups group_name\n",
       "visitorId                   \n",
       "8300375         2     [B, A]\n",
       "199603092       2     [A, B]\n",
       "232979603       2     [B, A]\n",
       "237748145       2     [B, A]\n",
       "276558944       2     [B, A]"
      ]
     },
     "metadata": {},
     "output_type": "display_data"
    },
    {
     "name": "stdout",
     "output_type": "stream",
     "text": [
      "Общее количество пользователей: 1031\n",
      "Количество пользователей в группе А: 503\n",
      "Количество пользователей в группе В: 586\n",
      "Количество пользователей, попавших в обе группы: 58\n"
     ]
    }
   ],
   "source": [
    "#Проверим также выборки на наличие пользователей, попавших в обе группы и узнаем Количество пользователей в группах:\n",
    "ab_users = orders.groupby('visitorId').agg({'group': ['nunique', 'unique']})\n",
    "ab_users.columns = ['groups', 'group_name']\n",
    "ab_users = ab_users.query('groups > 1')\n",
    "display(ab_users.head())\n",
    "print('Общее количество пользователей:', orders['visitorId'].nunique())\n",
    "print('Количество пользователей в группе А:', orders.query('group == \"A\"')['visitorId'].nunique())\n",
    "print('Количество пользователей в группе В:', orders.query('group == \"B\"')['visitorId'].nunique())\n",
    "print('Количество пользователей, попавших в обе группы:',len(ab_users))"
   ]
  },
  {
   "cell_type": "markdown",
   "id": "df617641",
   "metadata": {},
   "source": [
    "Пользователей, находящихся сразу в обеих группах, - 58, это почти по 10% в каждой группе. Их участие сразу в обоих группах может субъективно исказить результаты, а также повлиять на расчет выбросов. Можно было бы попробовать исключить этих пользователей из заказов, но корректно исключить их  не получится, так как данные в этом датасете агрегированы. Поэтому оставим, как есть."
   ]
  },
  {
   "cell_type": "code",
   "execution_count": 13,
   "id": "92c6b39c",
   "metadata": {},
   "outputs": [
    {
     "data": {
      "image/png": "[encoded data removed]",
      "text/plain": [
       "<Figure size 1080x288 with 1 Axes>"
      ]
     },
     "metadata": {
      "needs_background": "light"
     },
     "output_type": "display_data"
    }
   ],
   "source": [
    "#Посмотрим динамику посетителей по дням по группам:\n",
    "plt.figure(figsize=(15, 4))\n",
    "visitors_A = visitors[visitors['group']=='A']\n",
    "visitors_B = visitors[visitors['group']=='B']\n",
    "plt.plot(visitors_A['date'], visitors_A['visitors'], label='A')\n",
    "plt.plot(visitors_B['date'], visitors_B['visitors'], label='B')\n",
    "plt.legend()\n",
    "plt.xticks(rotation=45)\n",
    "plt.title(\"Динамика посетителей по дням по группам\")\n",
    "plt.ylabel(\"Количество посетителей\")\n",
    "plt.xlabel(\"Дата\")\n",
    "\n",
    "plt.show()"
   ]
  },
  {
   "cell_type": "markdown",
   "id": "4841c92f",
   "metadata": {},
   "source": [
    "Как видно из графика, динамика посетителей по дням совпадает в обеих группах, находится в диапазоне от 350 до 750 посетителей в день и имеет ярко выраженную цикличность."
   ]
  },
  {
   "cell_type": "markdown",
   "id": "b2675484",
   "metadata": {},
   "source": [
    "<div style=\"border:solid Blue 2px; padding: 20px\">\n",
    "    <b>Вывод:</b> данные готовы к анализу, были изменены типы данных в столбцах date, дубликаты и пропуски не обнаружены; названия столбцов в датасете гипотез приведены к нижнему регистру.\n",
    "</div>"
   ]
  },
  {
   "cell_type": "markdown",
   "id": "5cb21ab4",
   "metadata": {},
   "source": [
    "## Часть 1. Приоритизация гипотез"
   ]
  },
  {
   "cell_type": "markdown",
   "id": "afe4fcaf",
   "metadata": {},
   "source": [
    "### Применим фреймворк ICE для приоритизации гипотез. Отсортируем их по убыванию приоритета."
   ]
  },
  {
   "cell_type": "code",
   "execution_count": 14,
   "id": "67243f89",
   "metadata": {},
   "outputs": [
    {
     "data": {
      "text/html": [
       "<div>\n",
       "<style scoped>\n",
       "    .dataframe tbody tr th:only-of-type {\n",
       "        vertical-align: middle;\n",
       "    }\n",
       "\n",
       "    .dataframe tbody tr th {\n",
       "        vertical-align: top;\n",
       "    }\n",
       "\n",
       "    .dataframe thead th {\n",
       "        text-align: right;\n",
       "    }\n",
       "</style>\n",
       "<table border=\"1\" class=\"dataframe\">\n",
       "  <thead>\n",
       "    <tr style=\"text-align: right;\">\n",
       "      <th></th>\n",
       "      <th>hypothesis</th>\n",
       "      <th>reach</th>\n",
       "      <th>impact</th>\n",
       "      <th>confidence</th>\n",
       "      <th>efforts</th>\n",
       "      <th>ICE</th>\n",
       "    </tr>\n",
       "  </thead>\n",
       "  <tbody>\n",
       "    <tr>\n",
       "      <th>8</th>\n",
       "      <td>Запустить акцию, дающую скидку на товар в день рождения</td>\n",
       "      <td>1</td>\n",
       "      <td>9</td>\n",
       "      <td>9</td>\n",
       "      <td>5</td>\n",
       "      <td>16.20</td>\n",
       "    </tr>\n",
       "    <tr>\n",
       "      <th>0</th>\n",
       "      <td>Добавить два новых канала привлечения трафика, что позволит привлекать на 30% больше пользователей</td>\n",
       "      <td>3</td>\n",
       "      <td>10</td>\n",
       "      <td>8</td>\n",
       "      <td>6</td>\n",
       "      <td>13.33</td>\n",
       "    </tr>\n",
       "    <tr>\n",
       "      <th>7</th>\n",
       "      <td>Добавить форму подписки на все основные страницы, чтобы собрать базу клиентов для email-рассылок</td>\n",
       "      <td>10</td>\n",
       "      <td>7</td>\n",
       "      <td>8</td>\n",
       "      <td>5</td>\n",
       "      <td>11.20</td>\n",
       "    </tr>\n",
       "    <tr>\n",
       "      <th>6</th>\n",
       "      <td>Показать на главной странице баннеры с актуальными акциями и распродажами, чтобы увеличить конверсию</td>\n",
       "      <td>5</td>\n",
       "      <td>3</td>\n",
       "      <td>8</td>\n",
       "      <td>3</td>\n",
       "      <td>8.00</td>\n",
       "    </tr>\n",
       "    <tr>\n",
       "      <th>2</th>\n",
       "      <td>Добавить блоки рекомендаций товаров на сайт интернет магазина, чтобы повысить конверсию и средний чек заказа</td>\n",
       "      <td>8</td>\n",
       "      <td>3</td>\n",
       "      <td>7</td>\n",
       "      <td>3</td>\n",
       "      <td>7.00</td>\n",
       "    </tr>\n",
       "    <tr>\n",
       "      <th>1</th>\n",
       "      <td>Запустить собственную службу доставки, что сократит срок доставки заказов</td>\n",
       "      <td>2</td>\n",
       "      <td>5</td>\n",
       "      <td>4</td>\n",
       "      <td>10</td>\n",
       "      <td>2.00</td>\n",
       "    </tr>\n",
       "    <tr>\n",
       "      <th>5</th>\n",
       "      <td>Добавить страницу отзывов клиентов о магазине, что позволит увеличить количество заказов</td>\n",
       "      <td>3</td>\n",
       "      <td>2</td>\n",
       "      <td>2</td>\n",
       "      <td>3</td>\n",
       "      <td>1.33</td>\n",
       "    </tr>\n",
       "    <tr>\n",
       "      <th>3</th>\n",
       "      <td>Изменить структура категорий, что увеличит конверсию, т.к. пользователи быстрее найдут нужный товар</td>\n",
       "      <td>8</td>\n",
       "      <td>3</td>\n",
       "      <td>3</td>\n",
       "      <td>8</td>\n",
       "      <td>1.12</td>\n",
       "    </tr>\n",
       "    <tr>\n",
       "      <th>4</th>\n",
       "      <td>Изменить цвет фона главной страницы, чтобы увеличить вовлеченность пользователей</td>\n",
       "      <td>3</td>\n",
       "      <td>1</td>\n",
       "      <td>1</td>\n",
       "      <td>1</td>\n",
       "      <td>1.00</td>\n",
       "    </tr>\n",
       "  </tbody>\n",
       "</table>\n",
       "</div>"
      ],
      "text/plain": [
       "                                                                                                     hypothesis  \\\n",
       "8                                                       Запустить акцию, дающую скидку на товар в день рождения   \n",
       "0            Добавить два новых канала привлечения трафика, что позволит привлекать на 30% больше пользователей   \n",
       "7              Добавить форму подписки на все основные страницы, чтобы собрать базу клиентов для email-рассылок   \n",
       "6          Показать на главной странице баннеры с актуальными акциями и распродажами, чтобы увеличить конверсию   \n",
       "2  Добавить блоки рекомендаций товаров на сайт интернет магазина, чтобы повысить конверсию и средний чек заказа   \n",
       "1                                     Запустить собственную службу доставки, что сократит срок доставки заказов   \n",
       "5                      Добавить страницу отзывов клиентов о магазине, что позволит увеличить количество заказов   \n",
       "3           Изменить структура категорий, что увеличит конверсию, т.к. пользователи быстрее найдут нужный товар   \n",
       "4                              Изменить цвет фона главной страницы, чтобы увеличить вовлеченность пользователей   \n",
       "\n",
       "   reach  impact  confidence  efforts   ICE  \n",
       "8      1       9           9        5 16.20  \n",
       "0      3      10           8        6 13.33  \n",
       "7     10       7           8        5 11.20  \n",
       "6      5       3           8        3  8.00  \n",
       "2      8       3           7        3  7.00  \n",
       "1      2       5           4       10  2.00  \n",
       "5      3       2           2        3  1.33  \n",
       "3      8       3           3        8  1.12  \n",
       "4      3       1           1        1  1.00  "
      ]
     },
     "execution_count": 14,
     "metadata": {},
     "output_type": "execute_result"
    }
   ],
   "source": [
    "hypothesis['ICE'] = round((hypothesis['impact'] * hypothesis['confidence']) / hypothesis['efforts'], 2)\n",
    "hypothesis.sort_values(by = 'ICE', ascending = False)"
   ]
  },
  {
   "cell_type": "markdown",
   "id": "b3db0644",
   "metadata": {},
   "source": [
    "Исходя из фреймворка ICE, мы видим, что наиболее перспективные гипотезы под номера 8, 0 и 7."
   ]
  },
  {
   "cell_type": "markdown",
   "id": "c46cb2ce",
   "metadata": {},
   "source": [
    "### Применим фреймворк RICE для приоритизации гипотез. Отсортируем их по убыванию приоритета."
   ]
  },
  {
   "cell_type": "code",
   "execution_count": 15,
   "id": "814c8add",
   "metadata": {},
   "outputs": [
    {
     "data": {
      "text/html": [
       "<div>\n",
       "<style scoped>\n",
       "    .dataframe tbody tr th:only-of-type {\n",
       "        vertical-align: middle;\n",
       "    }\n",
       "\n",
       "    .dataframe tbody tr th {\n",
       "        vertical-align: top;\n",
       "    }\n",
       "\n",
       "    .dataframe thead th {\n",
       "        text-align: right;\n",
       "    }\n",
       "</style>\n",
       "<table border=\"1\" class=\"dataframe\">\n",
       "  <thead>\n",
       "    <tr style=\"text-align: right;\">\n",
       "      <th></th>\n",
       "      <th>hypothesis</th>\n",
       "      <th>reach</th>\n",
       "      <th>impact</th>\n",
       "      <th>confidence</th>\n",
       "      <th>efforts</th>\n",
       "      <th>ICE</th>\n",
       "      <th>RICE</th>\n",
       "    </tr>\n",
       "  </thead>\n",
       "  <tbody>\n",
       "    <tr>\n",
       "      <th>7</th>\n",
       "      <td>Добавить форму подписки на все основные страницы, чтобы собрать базу клиентов для email-рассылок</td>\n",
       "      <td>10</td>\n",
       "      <td>7</td>\n",
       "      <td>8</td>\n",
       "      <td>5</td>\n",
       "      <td>11.20</td>\n",
       "      <td>112.00</td>\n",
       "    </tr>\n",
       "    <tr>\n",
       "      <th>2</th>\n",
       "      <td>Добавить блоки рекомендаций товаров на сайт интернет магазина, чтобы повысить конверсию и средний чек заказа</td>\n",
       "      <td>8</td>\n",
       "      <td>3</td>\n",
       "      <td>7</td>\n",
       "      <td>3</td>\n",
       "      <td>7.00</td>\n",
       "      <td>56.00</td>\n",
       "    </tr>\n",
       "    <tr>\n",
       "      <th>0</th>\n",
       "      <td>Добавить два новых канала привлечения трафика, что позволит привлекать на 30% больше пользователей</td>\n",
       "      <td>3</td>\n",
       "      <td>10</td>\n",
       "      <td>8</td>\n",
       "      <td>6</td>\n",
       "      <td>13.33</td>\n",
       "      <td>40.00</td>\n",
       "    </tr>\n",
       "    <tr>\n",
       "      <th>6</th>\n",
       "      <td>Показать на главной странице баннеры с актуальными акциями и распродажами, чтобы увеличить конверсию</td>\n",
       "      <td>5</td>\n",
       "      <td>3</td>\n",
       "      <td>8</td>\n",
       "      <td>3</td>\n",
       "      <td>8.00</td>\n",
       "      <td>40.00</td>\n",
       "    </tr>\n",
       "    <tr>\n",
       "      <th>8</th>\n",
       "      <td>Запустить акцию, дающую скидку на товар в день рождения</td>\n",
       "      <td>1</td>\n",
       "      <td>9</td>\n",
       "      <td>9</td>\n",
       "      <td>5</td>\n",
       "      <td>16.20</td>\n",
       "      <td>16.20</td>\n",
       "    </tr>\n",
       "    <tr>\n",
       "      <th>3</th>\n",
       "      <td>Изменить структура категорий, что увеличит конверсию, т.к. пользователи быстрее найдут нужный товар</td>\n",
       "      <td>8</td>\n",
       "      <td>3</td>\n",
       "      <td>3</td>\n",
       "      <td>8</td>\n",
       "      <td>1.12</td>\n",
       "      <td>9.00</td>\n",
       "    </tr>\n",
       "    <tr>\n",
       "      <th>1</th>\n",
       "      <td>Запустить собственную службу доставки, что сократит срок доставки заказов</td>\n",
       "      <td>2</td>\n",
       "      <td>5</td>\n",
       "      <td>4</td>\n",
       "      <td>10</td>\n",
       "      <td>2.00</td>\n",
       "      <td>4.00</td>\n",
       "    </tr>\n",
       "    <tr>\n",
       "      <th>5</th>\n",
       "      <td>Добавить страницу отзывов клиентов о магазине, что позволит увеличить количество заказов</td>\n",
       "      <td>3</td>\n",
       "      <td>2</td>\n",
       "      <td>2</td>\n",
       "      <td>3</td>\n",
       "      <td>1.33</td>\n",
       "      <td>4.00</td>\n",
       "    </tr>\n",
       "    <tr>\n",
       "      <th>4</th>\n",
       "      <td>Изменить цвет фона главной страницы, чтобы увеличить вовлеченность пользователей</td>\n",
       "      <td>3</td>\n",
       "      <td>1</td>\n",
       "      <td>1</td>\n",
       "      <td>1</td>\n",
       "      <td>1.00</td>\n",
       "      <td>3.00</td>\n",
       "    </tr>\n",
       "  </tbody>\n",
       "</table>\n",
       "</div>"
      ],
      "text/plain": [
       "                                                                                                     hypothesis  \\\n",
       "7              Добавить форму подписки на все основные страницы, чтобы собрать базу клиентов для email-рассылок   \n",
       "2  Добавить блоки рекомендаций товаров на сайт интернет магазина, чтобы повысить конверсию и средний чек заказа   \n",
       "0            Добавить два новых канала привлечения трафика, что позволит привлекать на 30% больше пользователей   \n",
       "6          Показать на главной странице баннеры с актуальными акциями и распродажами, чтобы увеличить конверсию   \n",
       "8                                                       Запустить акцию, дающую скидку на товар в день рождения   \n",
       "3           Изменить структура категорий, что увеличит конверсию, т.к. пользователи быстрее найдут нужный товар   \n",
       "1                                     Запустить собственную службу доставки, что сократит срок доставки заказов   \n",
       "5                      Добавить страницу отзывов клиентов о магазине, что позволит увеличить количество заказов   \n",
       "4                              Изменить цвет фона главной страницы, чтобы увеличить вовлеченность пользователей   \n",
       "\n",
       "   reach  impact  confidence  efforts   ICE   RICE  \n",
       "7     10       7           8        5 11.20 112.00  \n",
       "2      8       3           7        3  7.00  56.00  \n",
       "0      3      10           8        6 13.33  40.00  \n",
       "6      5       3           8        3  8.00  40.00  \n",
       "8      1       9           9        5 16.20  16.20  \n",
       "3      8       3           3        8  1.12   9.00  \n",
       "1      2       5           4       10  2.00   4.00  \n",
       "5      3       2           2        3  1.33   4.00  \n",
       "4      3       1           1        1  1.00   3.00  "
      ]
     },
     "execution_count": 15,
     "metadata": {},
     "output_type": "execute_result"
    }
   ],
   "source": [
    "hypothesis['RICE'] = round((hypothesis['reach'] * hypothesis['impact'] * hypothesis['confidence']) / hypothesis['efforts'], 2)\n",
    "hypothesis.sort_values(by = 'RICE', ascending = False) "
   ]
  },
  {
   "cell_type": "markdown",
   "id": "026ffbf3",
   "metadata": {},
   "source": [
    "Исходя из фреймоврка RICE, мы видим, что наиболее перспективные гипотезы идут под номерами 7, 2, 0."
   ]
  },
  {
   "cell_type": "markdown",
   "id": "e2260418",
   "metadata": {},
   "source": [
    "### Отличия результатов приоритизации гипотез при применении RICE вместо ICE."
   ]
  },
  {
   "cell_type": "markdown",
   "id": "c2514c4c",
   "metadata": {},
   "source": [
    "<div style=\"border:solid Blue 2px; padding: 20px\">\n",
    "\n",
    "**Вывод:**\n",
    "        \n",
    "Отличия результатов связаны с одни важным отличием в учитываемых параметрах, которые фреймворки используют для приоритизации:\n",
    "    \n",
    "    Фреймворк ICE приоритизирует гипотезы с учетом следующих параметров:\n",
    "\n",
    "Impact — насколько сильно изменение повлияет на пользователей, их опыт и удовлетворение от продукта;\n",
    "Confidence — насколько вы уверены, что это изменение повлияет на пользователей именно так;\n",
    "Efforts — сколько стоит протестировать эту гипотезу.\n",
    "    \n",
    "    Фреймворк RICE приоритизирует гипотезы с учетом следующих параметров:\n",
    "\n",
    "Impact — насколько сильно изменение повлияет на пользователей, их опыт и удовлетворение от продукта;\n",
    "Confidence — насколько вы уверены, что это изменение повлияет на пользователей именно так;\n",
    "Efforts — сколько стоит протестировать эту гипотезу;\n",
    "Reach — скольких пользователей затронет изменение, которое вы хотите внести.\n",
    "    \n",
    "    В отличии от ICE, фреймворк RICE использует в качестве параметра также и охват количества пользователей, которых затронет предполагаемое изменение - REACH.\n",
    "    \n",
    "    По этой причине гипотеза ТОП-1 фрейма ICE - Запустить акцию, дающую скидку на товар в день рождения c первого места в ICE переместилась в RICE в середину списка т.к. имеет REACH всего 1. Тогда как гипотеза ТОП-1 RICE - Добавить форму подписки на все основные страницы, чтобы собрать базу клиентов для email-рассылок имеет REACH - 10 максимальный и общий рейтинг с большим отрывом опережающий другие гипотезы.\n",
    "    \n",
    "**За наиболее приоритетную гипотезу предлагаю взять - ТОП-1 RICE - Добавить форму подписки на все основные страницы, чтобы собрать базу клиентов для email-рассылок. Как запасную можно взять - Добавить два новых канала привлечения трафика, что позволит привлекать на 30% больше пользователей\tт.к. она показала хорошие результаты в обоих фреймах**\n",
    "    \n",
    "</div>"
   ]
  },
  {
   "cell_type": "markdown",
   "id": "c3e0f1d9",
   "metadata": {},
   "source": [
    "## Часть 2. Анализ A/B-теста\n"
   ]
  },
  {
   "cell_type": "markdown",
   "id": "7ac86950",
   "metadata": {},
   "source": [
    "#### Постройте график кумулятивной выручки по группам. Сделайте выводы и предположения."
   ]
  },
  {
   "cell_type": "code",
   "execution_count": 16,
   "id": "21e4bf02",
   "metadata": {},
   "outputs": [
    {
     "data": {
      "image/png": "[encoded data removed]",
      "text/plain": [
       "<Figure size 1296x576 with 1 Axes>"
      ]
     },
     "metadata": {
      "needs_background": "light"
     },
     "output_type": "display_data"
    }
   ],
   "source": [
    "datesGroups = orders[['date', 'group']].drop_duplicates()\n",
    "\n",
    "ordersAggregated = datesGroups.apply(\n",
    "    lambda x: orders[\n",
    "        np.logical_and(\n",
    "            orders['date'] <= x['date'], orders['group'] == x['group']\n",
    "        )\n",
    "    ].agg(\n",
    "        {\n",
    "            'date': 'max',\n",
    "            'group': 'max',\n",
    "            'transactionId': 'nunique',\n",
    "            'visitorId': 'nunique',\n",
    "            'revenue': 'sum',\n",
    "        }\n",
    "    ),\n",
    "    axis=1,\n",
    ").sort_values(by=['date', 'group'])\n",
    "\n",
    "visitorsAggregated = datesGroups.apply(\n",
    "    lambda x: visitors[\n",
    "        np.logical_and(\n",
    "            visitors['date'] <= x['date'], visitors['group'] == x['group']\n",
    "        )\n",
    "    ].agg({'date': 'max', 'group': 'max', 'visitors': 'sum'}),\n",
    "    axis=1,\n",
    ").sort_values(by=['date', 'group'])\n",
    "\n",
    "cumulativeData = ordersAggregated.merge(\n",
    "    visitorsAggregated, left_on=['date', 'group'], right_on=['date', 'group']\n",
    ")\n",
    "cumulativeData.columns = [\n",
    "    'date',\n",
    "    'group',\n",
    "    'orders',\n",
    "    'buyers',\n",
    "    'revenue',\n",
    "    'visitors',\n",
    "]\n",
    "\n",
    "plt.figure(figsize=(18,8))\n",
    "plt.grid()\n",
    "plt.title('График кумулятивной выручки по группам')\n",
    "plt.xlabel('Дата')\n",
    "plt.ylabel('Выручка')\n",
    "\n",
    "plt.ticklabel_format(style='plain') # предотвращает \"научное\" обозначение на осях\n",
    "cumulativeRevenueA = cumulativeData[cumulativeData['group']=='A'][['date','revenue', 'orders']]\n",
    "cumulativeRevenueB = cumulativeData[cumulativeData['group']=='B'][['date','revenue', 'orders']]\n",
    "plt.plot(cumulativeRevenueA['date'], cumulativeRevenueA['revenue'], label='A')\n",
    "plt.plot(cumulativeRevenueB['date'], cumulativeRevenueB['revenue'], label='B')\n",
    "plt.xticks(rotation = 90)\n",
    "plt.legend();"
   ]
  },
  {
   "cell_type": "markdown",
   "id": "70b65f8f",
   "metadata": {},
   "source": [
    "По графикам можно наблюдать, что выручка группы В стабильно выше выручки группы А. Также заметен резкий скачок группы В с 18 по 19 августа, скорее всего из-за какого-то крупного заказа. В принципе виден рост выручки - причинами также могут быть что мог увеличится средний чек, а могло увеличится среднее количество заказов на посетителя."
   ]
  },
  {
   "cell_type": "markdown",
   "id": "6dd48d01",
   "metadata": {},
   "source": [
    "#### Постройте график кумулятивного среднего чека по группам. Сделайте выводы и предположения."
   ]
  },
  {
   "cell_type": "code",
   "execution_count": 17,
   "id": "2dff6209",
   "metadata": {},
   "outputs": [
    {
     "data": {
      "image/png": "[encoded data removed]",
      "text/plain": [
       "<Figure size 1296x576 with 1 Axes>"
      ]
     },
     "metadata": {
      "needs_background": "light"
     },
     "output_type": "display_data"
    }
   ],
   "source": [
    "plt.figure(figsize=(18,8))\n",
    "plt.grid()\n",
    "plt.title('График кумулятивного среднего чека по группам')\n",
    "plt.xlabel('Дата')\n",
    "plt.ylabel('Средний чек')\n",
    "plt.plot(cumulativeRevenueA['date'], cumulativeRevenueA['revenue']/cumulativeRevenueA['orders'], label='A')\n",
    "plt.plot(cumulativeRevenueB['date'], cumulativeRevenueB['revenue']/cumulativeRevenueB['orders'], label='B')\n",
    "plt.xticks(rotation = 90)\n",
    "plt.legend();"
   ]
  },
  {
   "cell_type": "markdown",
   "id": "4c28d0ed",
   "metadata": {},
   "source": [
    "Здесь мы так же видим очень резкий скачек среднего чека с последующим снижением в группе В в то время и резкое движение чека группы В вверх 18 августа, как у группы А средний чек держится на одном уровне с середины месяца, что только подтвержает нашу догадку о появлении какого-то количества слишком больших заказов."
   ]
  },
  {
   "cell_type": "markdown",
   "id": "c92662ee",
   "metadata": {},
   "source": [
    "#### Постройте график относительного изменения кумулятивного среднего чека группы B к группе A. Сделайте выводы и предположения."
   ]
  },
  {
   "cell_type": "code",
   "execution_count": 18,
   "id": "960c50de",
   "metadata": {},
   "outputs": [
    {
     "data": {
      "image/png": "[encoded data removed]",
      "text/plain": [
       "<Figure size 1296x576 with 1 Axes>"
      ]
     },
     "metadata": {
      "needs_background": "light"
     },
     "output_type": "display_data"
    }
   ],
   "source": [
    "plt.figure(figsize=(18,8))\n",
    "plt.grid()\n",
    "plt.title('График относительного различия в среднем чеке между группами')\n",
    "plt.xlabel('Дата')\n",
    "plt.ylabel('Относительное изменение среднего чека группы В к А в %')\n",
    "mergedCumulativeRevenue = cumulativeRevenueA.merge(cumulativeRevenueB, left_on='date', right_on='date', how='left', suffixes=['A', 'B'])\n",
    "plt.plot(mergedCumulativeRevenue['date'], (mergedCumulativeRevenue['revenueB']/mergedCumulativeRevenue['ordersB'])/(mergedCumulativeRevenue['revenueA']/mergedCumulativeRevenue['ordersA'])*100-100)\n",
    "plt.axhline(y=0, color='black', linestyle='--')\n",
    "plt.xticks(rotation = 90);"
   ]
  },
  {
   "cell_type": "markdown",
   "id": "01e67f42",
   "metadata": {},
   "source": [
    "Средний чек пользователей группы В существенно превышает аналогичный показатель группы А. Однако неизвестно, не является ли это следствием единичных аномально крупных покупок или пользователи группы В просто более состоятельны и т.п."
   ]
  },
  {
   "cell_type": "markdown",
   "id": "1d74a157",
   "metadata": {},
   "source": [
    "#### Постройте график кумулятивного среднего количества заказов на посетителя по группам. Сделайте выводы и предположения."
   ]
  },
  {
   "cell_type": "code",
   "execution_count": 19,
   "id": "99bccda5",
   "metadata": {},
   "outputs": [
    {
     "data": {
      "image/png": "[encoded data removed]",
      "text/plain": [
       "<Figure size 1296x576 with 1 Axes>"
      ]
     },
     "metadata": {
      "needs_background": "light"
     },
     "output_type": "display_data"
    }
   ],
   "source": [
    "plt.figure(figsize=(18,8))\n",
    "plt.grid()\n",
    "plt.title('График кумулятивного среднего количества заказов на посетителя по группам')\n",
    "plt.xlabel('Дата')\n",
    "plt.ylabel('Среднее количество заказов')\n",
    "cumulativeData['conversion'] = cumulativeData['orders']/cumulativeData['visitors']\n",
    "cumulativeDataA = cumulativeData[cumulativeData['group']=='A']\n",
    "cumulativeDataB = cumulativeData[cumulativeData['group']=='B']\n",
    "plt.plot(cumulativeDataA['date'], cumulativeDataA['conversion']*100, label='A')\n",
    "plt.plot(cumulativeDataB['date'], cumulativeDataB['conversion']*100, label='B')\n",
    "plt.xticks(rotation = 90)\n",
    "plt.legend();"
   ]
  },
  {
   "cell_type": "markdown",
   "id": "b38550bb",
   "metadata": {},
   "source": [
    "В начале теста группа А имела большее среднее количество заказов на посетителя (3,7 в пике),чем В, но уже после 2019-08-05 графики пересеклись и среднее количество заказов на посетителя группы B стало выше и сохраняла свое превосходство  до конца теста (3,4 в группе B против 3 в группе A)"
   ]
  },
  {
   "cell_type": "markdown",
   "id": "fc86b48f",
   "metadata": {},
   "source": [
    "#### Постройте график относительного изменения кумулятивного среднего количества заказов на посетителя группы B к группе A. Сделайте выводы и предположения."
   ]
  },
  {
   "cell_type": "code",
   "execution_count": 20,
   "id": "9cb524d8",
   "metadata": {},
   "outputs": [
    {
     "data": {
      "image/png": "[encoded data removed]",
      "text/plain": [
       "<Figure size 1296x576 with 1 Axes>"
      ]
     },
     "metadata": {
      "needs_background": "light"
     },
     "output_type": "display_data"
    }
   ],
   "source": [
    "plt.figure(figsize=(18,8))\n",
    "plt.grid()\n",
    "plt.title('График относительного изменения кумулятивного среднего количества заказов на посетителя группы B к группе A')\n",
    "plt.xlabel('Дата')\n",
    "plt.ylabel('Изменение кумулятивного среднего в %')\n",
    "mergedCumulativeConversions = cumulativeDataA[['date', 'conversion']].merge(cumulativeDataB[['date','conversion']], left_on='date', right_on='date', how='left', suffixes=['A', 'B'])\n",
    "plt.plot(mergedCumulativeConversions['date'], mergedCumulativeConversions['conversionB']/mergedCumulativeConversions['conversionA']*100-100, label=\"Относительный прирост среднего количества заказов на посетителя группы B относительно группы A\")\n",
    "plt.xticks(rotation = 90)\n",
    "plt.axhline(y=0, color='red', linestyle='--')\n",
    "plt.axhline(y=15, color='grey', linestyle='--')\n",
    "plt.legend();"
   ]
  },
  {
   "cell_type": "markdown",
   "id": "b657dcf7",
   "metadata": {},
   "source": [
    "Почти с самого начала теста группа B лидирует по среднему количеству заказов на посетителя и достигает пика 2019-08-17. Начиная с этой даты среднее количество заказов на посетителя снижается с 20% в пике до ~15%. С десятого дня месяца среднее количество заказов на посетителя у группы В на уровне 15% выше аналогичного параметра группы А. Относительное изменение кумулятивного среднего чека группы В повторяет поведение графика кумулятивного среднего чека."
   ]
  },
  {
   "cell_type": "markdown",
   "id": "ac10d0c5",
   "metadata": {},
   "source": [
    "#### Постройте точечный график количества заказов по пользователям. Сделайте выводы и предположения."
   ]
  },
  {
   "cell_type": "code",
   "execution_count": 21,
   "id": "8bcc889e",
   "metadata": {},
   "outputs": [
    {
     "data": {
      "image/png": "[encoded data removed]",
      "text/plain": [
       "<Figure size 432x288 with 1 Axes>"
      ]
     },
     "metadata": {
      "needs_background": "light"
     },
     "output_type": "display_data"
    }
   ],
   "source": [
    "ordersByUsers = (\n",
    "    orders.groupby('visitorId', as_index=False)\n",
    "    .agg({'transactionId': 'nunique'})\n",
    ")\n",
    "ordersByUsers.columns = ['visitorId', 'transactions']\n",
    "\n",
    "x_values = pd.Series(range(0, len(ordersByUsers)))\n",
    "plt.title('График количества заказов по пользователям')\n",
    "plt.xlabel('Количество пользователей')\n",
    "plt.ylabel('Число заказов на пользователя')\n",
    "plt.scatter(x_values, ordersByUsers['transactions']); "
   ]
  },
  {
   "cell_type": "markdown",
   "id": "3ab4ad08",
   "metadata": {},
   "source": [
    "Пользователей, заказавших более 2-х раз мало. Можно считать таких пользователей аномальными. Но более точный ответ дадут перцентили."
   ]
  },
  {
   "cell_type": "markdown",
   "id": "54ae711d",
   "metadata": {},
   "source": [
    "#### Посчитайте 95-й и 99-й перцентили количества заказов на пользователя. Выберите границу для определения аномальных пользователей."
   ]
  },
  {
   "cell_type": "code",
   "execution_count": 22,
   "id": "9bf01b91",
   "metadata": {},
   "outputs": [
    {
     "data": {
      "text/plain": [
       "array([2., 4.])"
      ]
     },
     "execution_count": 22,
     "metadata": {},
     "output_type": "execute_result"
    }
   ],
   "source": [
    "np.percentile(ordersByUsers['transactions'], [95, 99])"
   ]
  },
  {
   "cell_type": "markdown",
   "id": "f64ff034",
   "metadata": {},
   "source": [
    "Не более 5% пользователей совершали больше 2-х заказов и не более 1% пользователей больше 4-х. В качестве границы для аномальных пользователей выберем 95-ый перцентиль: всех пользователей, у которых более 2-х транзакций будем считать аномальными."
   ]
  },
  {
   "cell_type": "markdown",
   "id": "c59f8754",
   "metadata": {},
   "source": [
    "#### Постройте точечный график стоимостей заказов. Сделайте выводы и предположения."
   ]
  },
  {
   "cell_type": "code",
   "execution_count": 23,
   "id": "003b1d02",
   "metadata": {},
   "outputs": [
    {
     "data": {
      "image/png": "[encoded data removed]",
      "text/plain": [
       "<Figure size 432x288 with 1 Axes>"
      ]
     },
     "metadata": {
      "needs_background": "light"
     },
     "output_type": "display_data"
    }
   ],
   "source": [
    "x_values = pd.Series(range(0, len(orders['revenue'])))\n",
    "plt.scatter(x_values, orders['revenue'], alpha=0.2)\n",
    "plt.ticklabel_format(useOffset=False, style='plain'); # предотвращает \"научное\" обозначение на осях\n",
    "plt.yticks(np.arange(min(orders['revenue']), max(orders['revenue']), 100000)); # изменяет частоту отметок по оси y (каждые 100 тыс.)\n",
    "plt.title('График стоимостей заказов')\n",
    "plt.xlabel('Пользователи')\n",
    "plt.ylabel('Сумма заказа')\n",
    "plt.show()"
   ]
  },
  {
   "cell_type": "markdown",
   "id": "adad4a2a",
   "metadata": {},
   "source": [
    "Заказов стоимостью больше 100 тыс. почти нет. Виден 1 заказ размером более 1.2 млн - вот он тот самый выброс в группе В"
   ]
  },
  {
   "cell_type": "code",
   "execution_count": 24,
   "id": "e49ba4c3",
   "metadata": {},
   "outputs": [
    {
     "data": {
      "image/png": "[encoded data removed]",
      "text/plain": [
       "<Figure size 1224x504 with 1 Axes>"
      ]
     },
     "metadata": {
      "needs_background": "light"
     },
     "output_type": "display_data"
    }
   ],
   "source": [
    "# выведем точечный график распределение стоимости заказов до 100 тысяч\n",
    "plt.figure(figsize=(17,7))\n",
    "plt.scatter(pd.Series(range(0,len(orders['revenue']))), orders['revenue'])\n",
    "plt.title('Распределение стоимости заказов до 100 тыс.')\n",
    "plt.ylabel('Сумма заказа')\n",
    "plt.xlabel('Пользователи')\n",
    "plt.ylim(0,100000)\n",
    "plt.show()"
   ]
  },
  {
   "cell_type": "markdown",
   "id": "c721ffc5",
   "metadata": {},
   "source": [
    "На графиках распределения мы видим, что основная масса сумм заказов располагаются на уровне до 25-28 тыс. При это  встречаются заказы до 60 тысяч и есть единичные заказы от 75 тыс до более 1.2 млн."
   ]
  },
  {
   "cell_type": "markdown",
   "id": "f4757b91",
   "metadata": {},
   "source": [
    "#### Посчитайте 95-й и 99-й перцентили стоимости заказов. Выберите границу для определения аномальных заказов.## Посчитайте 95-й и 99-й перцентили стоимости заказов. Выберите границу для определения аномальных заказов."
   ]
  },
  {
   "cell_type": "code",
   "execution_count": 25,
   "id": "845ecf96",
   "metadata": {},
   "outputs": [
    {
     "data": {
      "text/plain": [
       "array([28000. , 58233.2])"
      ]
     },
     "execution_count": 25,
     "metadata": {},
     "output_type": "execute_result"
    }
   ],
   "source": [
    "np.percentile(orders['revenue'], [95, 99])"
   ]
  },
  {
   "cell_type": "markdown",
   "id": "b613f8e5",
   "metadata": {},
   "source": [
    "Не более 5% заказов стоят дороже 28 тыс., и не более 1% стоят дороже 58 тыс. В качестве границы для аномальных покупок выберем 95-ый перцентиль: покупки дороже 28 тыс. будем считать аномальными."
   ]
  },
  {
   "cell_type": "markdown",
   "id": "ad5d9f60",
   "metadata": {},
   "source": [
    "### Изучение статистических значимостей"
   ]
  },
  {
   "cell_type": "markdown",
   "id": "fc996124",
   "metadata": {},
   "source": [
    "#### Подготовка сырых данных"
   ]
  },
  {
   "cell_type": "code",
   "execution_count": 26,
   "id": "f50d665e",
   "metadata": {},
   "outputs": [],
   "source": [
    "# создадим таблицы ежедневного количества пользователей по группам\n",
    "# и таблицы с кумулятивным количеством пользователей к дате по группам\n",
    "visitors_daily_A = visitors[visitors['group']=='A'][['date', 'visitors']]\n",
    "visitors_daily_A.columns = ['date', 'visitors_per_date_A']\n",
    "\n",
    "visitors_daily_B = visitors[visitors['group']=='B'][['date', 'visitors']]\n",
    "visitors_daily_B.columns = ['date', 'visitors_per_date_B']\n",
    "\n",
    "\n",
    "visitors_cummulative_A = visitors_daily_A.apply(lambda x: \n",
    "                            visitors_daily_A[visitors_daily_A['date'] <= x['date']].agg({\n",
    "                                'date' : 'max', 'visitors_per_date_A' : 'sum'}), axis=1)\n",
    "visitors_cummulative_A.columns = ['date', 'visitors_cummulative_A']\n",
    "\n",
    "visitors_cummulative_B = visitors_daily_B.apply(lambda x: \n",
    "                            visitors_daily_B[visitors_daily_B['date'] <= x['date']].agg({\n",
    "                                'date' : 'max', 'visitors_per_date_B' : 'sum'}), axis=1)\n",
    "visitors_cummulative_B.columns = ['date', 'visitors_cummulative_B']"
   ]
  },
  {
   "cell_type": "code",
   "execution_count": 27,
   "id": "cecef2a1",
   "metadata": {},
   "outputs": [],
   "source": [
    "# создадим таблицы с количеством заказов и размером выручки по группам\n",
    "# и затем создадим таблицы с кумулятивным количеством заказов и выручки\n",
    "orders_daily_A = orders[orders['group']=='A'][['date', 'transactionId','visitorId', \n",
    "                                               'revenue']].groupby(\n",
    "    'date', as_index=False).agg({'transactionId' : pd.Series.nunique, 'revenue' : 'sum'})\n",
    "orders_daily_A.columns = ['date', 'orders_per_date_A', 'revenue_per_date_A']\n",
    "\n",
    "orders_daily_B = orders[orders['group']=='B'][['date', 'transactionId','visitorId', \n",
    "                                               'revenue']].groupby(\n",
    "    'date', as_index=False).agg({'transactionId' : pd.Series.nunique, 'revenue' : 'sum'})\n",
    "orders_daily_B.columns = ['date', 'orders_per_date_B', 'revenue_per_date_B']\n",
    "\n",
    "\n",
    "orders_cummulative_A = orders_daily_A.apply(\n",
    "    lambda x: orders_daily_A[orders_daily_A['date'] <= x['date']].agg({\n",
    "                'date' : 'max',\n",
    "                'orders_per_date_A' : 'sum',\n",
    "                'revenue_per_date_A' : 'sum'}), axis=1).sort_values(by=['date'])\n",
    "orders_cummulative_A.columns = ['date', 'orders_сummulative_A', 'revenue_сummulative_A']\n",
    "\n",
    "orders_cummulative_B = orders_daily_B.apply(\n",
    "    lambda x: orders_daily_B[orders_daily_B['date'] <= x['date']].agg({\n",
    "                'date' : 'max',\n",
    "                'orders_per_date_B' : 'sum',\n",
    "                'revenue_per_date_B' : 'sum'}), axis=1).sort_values(by=['date'])\n",
    "orders_cummulative_B.columns = ['date', 'orders_сummulative_B', 'revenue_сummulative_B']"
   ]
  },
  {
   "cell_type": "code",
   "execution_count": 28,
   "id": "61e50368",
   "metadata": {},
   "outputs": [],
   "source": [
    "# объединим все созданные таблицы в одну по дате\n",
    "data = (visitors_daily_A\n",
    "        .merge(visitors_daily_B, left_on='date', right_on='date', how='left')\n",
    "        .merge(visitors_cummulative_A, left_on='date', right_on='date', how='left')\n",
    "        .merge(visitors_cummulative_B, left_on='date', right_on='date', how='left')\n",
    "        .merge(orders_daily_A, left_on='date', right_on='date', how='left')\n",
    "        .merge(orders_daily_B, left_on='date', right_on='date', how='left')\n",
    "        .merge(orders_cummulative_A, left_on='date', right_on='date', how='left')\n",
    "        .merge(orders_cummulative_B, left_on='date', right_on='date', how='left')\n",
    "       )"
   ]
  },
  {
   "cell_type": "code",
   "execution_count": 29,
   "id": "ff92f1b5",
   "metadata": {},
   "outputs": [],
   "source": [
    "# создадим таблицы с количеством заказов по пользователям для каждой группы\n",
    "orders_by_visitors_A = orders[orders['group']=='A'].groupby(\n",
    "    'visitorId', as_index=False).agg({'transactionId' : pd.Series.nunique})\n",
    "\n",
    "orders_by_visitors_A.columns = ['visitorId', 'orders']\n",
    "\n",
    "orders_by_visitors_B = orders[orders['group']=='B'].groupby(\n",
    "    'visitorId', as_index=False).agg({'transactionId' : pd.Series.nunique})\n",
    "\n",
    "orders_by_visitors_B.columns = ['visitorId', 'orders']\n",
    "\n",
    "sample_A = pd.concat([orders_by_visitors_A['orders'],\n",
    "                     pd.Series(0, index=np.arange(\n",
    "                         data['visitors_per_date_A'].sum() -\n",
    "                         len(orders_by_visitors_A['orders'])),\n",
    "                               name='orders')],axis=0)\n",
    "\n",
    "sample_B = pd.concat([orders_by_visitors_B['orders'],\n",
    "                     pd.Series(0, index=np.arange(\n",
    "                         data['visitors_per_date_B'].sum() -\n",
    "                         len(orders_by_visitors_B['orders'])), \n",
    "                               name='orders')],axis=0)"
   ]
  },
  {
   "cell_type": "markdown",
   "id": "861d28e7",
   "metadata": {},
   "source": [
    "#### Посчитайте статистическую значимость различий в среднем количестве заказов на посетителя между группами по «сырым» данным. Сделайте выводы и предположения."
   ]
  },
  {
   "cell_type": "markdown",
   "id": "af048604",
   "metadata": {},
   "source": [
    "Для определения статистической значимости используем Критерий Манна-Уитни т.к.:\n",
    "- он проверяет гипотезу о том, что две генеральные совокупности, из которых были отобраны выборки, эквивалентны по расположению.\n",
    "- это непараметрический статистический критерий, используемый для оценки различий между двумя независимыми выборками по уровню какого-либо признака, измеренного количественно. Позволяет выявлять различия в значении параметра между малыми выборками.\n"
   ]
  },
  {
   "cell_type": "markdown",
   "id": "cf47e085",
   "metadata": {},
   "source": [
    "Сформулируем гипотезы:\n",
    "\n",
    "Н0 : статистически значимых различий в количестве заказов на посетителя между группами нет\n",
    "\n",
    "Н1 : статистически значимые различия в количестве заказов на посетителя между группами есть\n",
    "\n",
    "уровень статистической значимости alpha мы возьмем 0.05."
   ]
  },
  {
   "cell_type": "code",
   "execution_count": 30,
   "id": "fcbbf7c6",
   "metadata": {},
   "outputs": [
    {
     "name": "stdout",
     "output_type": "stream",
     "text": [
      "Значение p-value для среднего количества заказов на посетителя: 0.017\n",
      "Отвергаем нулевую гипотезу\n",
      "Относительный прирост среднего количества заказов на посетителя группы B: 13.81%\n"
     ]
    }
   ],
   "source": [
    "# посчитаем критерий Манна-Уитни к среднему количеству заказов на посетителя\n",
    "# и относительный прирост данного параметра для группы B\n",
    "\n",
    "print('Значение p-value для среднего количества заказов на посетителя: {:.3f}'.format(stats.mannwhitneyu(sample_A, sample_B)[1]))\n",
    "\n",
    "if stats.mannwhitneyu(sample_A, sample_B)[1] < 0.05:\n",
    "    print(\"Отвергаем нулевую гипотезу\")\n",
    "else:\n",
    "    print(\"Не получилось отвергнуть нулевую гипотезу\")\n",
    "    \n",
    "print('Относительный прирост среднего количества заказов на посетителя группы B: {:.2%}'.format((sample_B.mean()/sample_A.mean()) - 1))"
   ]
  },
  {
   "cell_type": "markdown",
   "id": "ae51e9c8",
   "metadata": {},
   "source": [
    "<div style=\"border:solid Blue 2px; padding: 20px\">\n",
    "    \n",
    "**Вывод**\n",
    "Нулевую гипотезу о том, что статистически значимых различий в среднем количестве заказов на посетителя между группами нет - отвергаем. \n",
    "Поэтому мы придерживаемся альтернативной гипотезе, что различая в среднем количестве заказов на посетителя есть, а относительный прирост среднего количество заказов на посетителя группы В составляет 13.81%. \n",
    "Однако в этих выборках есть выбросы.\n",
    "    \n",
    "</div>"
   ]
  },
  {
   "cell_type": "markdown",
   "id": "473ed873",
   "metadata": {},
   "source": [
    "#### Посчитайте статистическую значимость различий в среднем чеке заказа между группами по «сырым» данным. Сделайте выводы и предположения."
   ]
  },
  {
   "cell_type": "markdown",
   "id": "ab468f50",
   "metadata": {},
   "source": [
    "Сформулируем гипотезы:\n",
    "\n",
    "Н0 : статистически значимых различий в среднем чеке между группами нет\n",
    "\n",
    "Н1 : статистически значимые различия в среднем чеке между группами есть\n",
    "\n",
    "уровень статистической значимости alpha мы возьмем 0.05."
   ]
  },
  {
   "cell_type": "code",
   "execution_count": 31,
   "id": "efdc8d63",
   "metadata": {},
   "outputs": [
    {
     "name": "stdout",
     "output_type": "stream",
     "text": [
      "Значение p-value для среднего чека: 0.729\n",
      "Не получилось отвергнуть нулевую гипотезу\n",
      "Относительный прирост среднего чека группы B: 25.87%\n"
     ]
    }
   ],
   "source": [
    "# посчитаем критерий Манна-Уитни к среднему чеку\n",
    "# и относительный прирост среднего чека группы B\n",
    "\n",
    "pvalue_mean_check = stats.mannwhitneyu(orders.query('group == \"A\"')['revenue'], orders.query('group == \"B\"')['revenue'])[1]\n",
    "\n",
    "print('Значение p-value для среднего чека: {:.3f}'.format(pvalue_mean_check))\n",
    "\n",
    "if pvalue_mean_check < 0.05:\n",
    "    print(\"Отвергаем нулевую гипотезу\")\n",
    "else:\n",
    "    print(\"Не получилось отвергнуть нулевую гипотезу\")\n",
    "\n",
    "print('Относительный прирост среднего чека группы B: {:.2%}'\n",
    "        .format((orders.query('group == \"B\"')['revenue'].mean() / orders.query('group == \"A\"')['revenue'].mean()) - 1))"
   ]
  },
  {
   "cell_type": "markdown",
   "id": "18f8bb9f",
   "metadata": {},
   "source": [
    "<div style=\"border:solid Blue 2px; padding: 20px\">\n",
    "    \n",
    "**Вывод**\n",
    "Отвергнуть нулевую гипотезу о том, что нету значимых различий в среднем чеке групп не удалось, но при этом относительный прирост среднего чека в группе В составляет 25.87%, что может означать сильное влияние аномальных заказов.\n",
    "    \n",
    "</div>"
   ]
  },
  {
   "cell_type": "markdown",
   "id": "cbf0d1ab",
   "metadata": {},
   "source": [
    "#### Подготовка очищенных данных"
   ]
  },
  {
   "cell_type": "code",
   "execution_count": 32,
   "id": "3d4c0cbe",
   "metadata": {},
   "outputs": [
    {
     "name": "stdout",
     "output_type": "stream",
     "text": [
      "Количество аномальных пользователей: 74\n",
      "Доля аномальных пользователей 7.18%\n"
     ]
    }
   ],
   "source": [
    "# создадим таблицы с аномальными пользователей и выведем их количество и долю\n",
    "visitors_many_orders = pd.concat(\n",
    "    [\n",
    "        orders_by_visitors_A[orders_by_visitors_A['orders'] > np.percentile(ordersByUsers['transactions'], [95])[0]]['visitorId'], \n",
    "        orders_by_visitors_B[orders_by_visitors_B['orders'] > np.percentile(ordersByUsers['transactions'], [95])[0]]['visitorId'],\n",
    "    ], \n",
    "    axis = 0\n",
    ")\n",
    "visitors_expensive_orders = orders[orders['revenue'] > np.percentile(orders['revenue'], [95])[0]]['visitorId']\n",
    "\n",
    "\n",
    "abnormal_visitors = (pd.concat([visitors_many_orders, visitors_expensive_orders], axis = 0)\n",
    "                     .drop_duplicates()\n",
    "                     .sort_values()\n",
    "                    )\n",
    "\n",
    "print('Количество аномальных пользователей:',len(abnormal_visitors))\n",
    "print('Доля аномальных пользователей {:.2%}'.format(len(abnormal_visitors) / len(orders['visitorId'].unique())))"
   ]
  },
  {
   "cell_type": "code",
   "execution_count": 33,
   "id": "f4dda63e",
   "metadata": {},
   "outputs": [],
   "source": [
    "# создадим таблицы с количеством заказов по пользователям для каждой группы без аномальных пользователей\n",
    "sample_A_filt = pd.concat(\n",
    "                    [orders_by_visitors_A[np.logical_not(orders_by_visitors_A['visitorId']\n",
    "                            .isin(abnormal_visitors))]['orders'],\n",
    "                            pd.Series(0, index=np.arange(data['visitors_per_date_A'].sum() - \n",
    "                            len(orders_by_visitors_A['orders'])),\n",
    "                            name='orders')],\n",
    "                            axis=0\n",
    "                         )\n",
    "\n",
    "sample_B_filt = pd.concat(\n",
    "                    [orders_by_visitors_B[np.logical_not(orders_by_visitors_B['visitorId']\n",
    "                           .isin(abnormal_visitors))]['orders'],\n",
    "                           pd.Series(0, index=np.arange(data['visitors_per_date_B'].sum() - \n",
    "                           len(orders_by_visitors_B['orders'])),\n",
    "                           name='orders')],\n",
    "                           axis=0\n",
    "                         )"
   ]
  },
  {
   "cell_type": "markdown",
   "id": "f2770a8e",
   "metadata": {},
   "source": [
    "<div style=\"border:solid Blue 2px; padding: 20px\">\n",
    "    \n",
    "**Вывод**\n",
    "Доля аномальных пользоваателей, которые совершили более 2 заказов и на сумму больше 28 тыс. составляет 7.18%, \n",
    "что достаточно много/ далее посмотрим ситуацию по очищенным данным.\n",
    "    \n",
    "</div>"
   ]
  },
  {
   "cell_type": "markdown",
   "id": "1ba10ecc",
   "metadata": {},
   "source": [
    "#### Посчитайте статистическую значимость различий в среднем количестве заказов на посетителя между группами по «очищенным» данным. Сделайте выводы и предположения."
   ]
  },
  {
   "cell_type": "markdown",
   "id": "cc9fb7b5",
   "metadata": {},
   "source": [
    "Сформулируем гипотезы:\n",
    "\n",
    "Н0 : статистически значимых различий в количестве заказов на посетителя между группами нет\n",
    "\n",
    "Н1 : статистически значимые различия в количестве заказов на посетителя между группами есть\n",
    "\n",
    "уровень статистической значимости alpha мы возьмем 0.05."
   ]
  },
  {
   "cell_type": "code",
   "execution_count": 34,
   "id": "f58a8bd4",
   "metadata": {},
   "outputs": [
    {
     "name": "stdout",
     "output_type": "stream",
     "text": [
      "Значение p-value для среднего количество заказов на посетителя: 0.013\n",
      "Отвергаем нулевую гипотезу\n",
      "Относительный прирост среднего количества заказов на посетителя группы B: 17.27%\n"
     ]
    }
   ],
   "source": [
    "# посчитаем критерий Манна-Уитни к среднему количеству заказов на посетителя для \"очищенных\" данных\n",
    "# и относительный прирост данного параметра для группы B\n",
    "print('Значение p-value для среднего количество заказов на посетителя: {:.3f}'.format(stats.mannwhitneyu(sample_A_filt, sample_B_filt)[1]))\n",
    "\n",
    "if stats.mannwhitneyu(sample_A_filt, sample_B_filt)[1] < 0.05:\n",
    "    print(\"Отвергаем нулевую гипотезу\")\n",
    "else:\n",
    "    print(\"Не получилось отвергнуть нулевую гипотезу\")\n",
    "\n",
    "print('Относительный прирост среднего количества заказов на посетителя группы B: {:.2%}'.format((sample_B_filt.mean() / sample_A_filt.mean()) - 1))"
   ]
  },
  {
   "cell_type": "markdown",
   "id": "92e6a2b9",
   "metadata": {},
   "source": [
    "<div style=\"border:solid Blue 2px; padding: 20px\">\n",
    "    \n",
    "**Вывод**\n",
    "По очищенным данным результат такой же - различия в среднем количестве заказов на посетителя между группами есть. \n",
    "А прирост среднего количество заказов на посетителя у группы В составляет 17.27%.\n",
    "    \n",
    "</div>"
   ]
  },
  {
   "cell_type": "markdown",
   "id": "d78cafb9",
   "metadata": {},
   "source": [
    "#### Посчитайте статистическую значимость различий в среднем чеке заказа между группами по «очищенным» данным. Сделайте выводы и предположения."
   ]
  },
  {
   "cell_type": "markdown",
   "id": "4664aaf5",
   "metadata": {},
   "source": [
    "Сформулируем гипотезы:\n",
    "\n",
    "Н0 : по очищенным данным статистически значимых различий в среднем чеке между группами нет\n",
    "\n",
    "Н1 : статистически значимые различия в среднем чеке между группами есть\n",
    "\n",
    "уровень статистической значимости alpha мы возьмем 0.05."
   ]
  },
  {
   "cell_type": "code",
   "execution_count": 35,
   "id": "a49384ec",
   "metadata": {},
   "outputs": [
    {
     "name": "stdout",
     "output_type": "stream",
     "text": [
      "Значение p-value для среднего чека: 0.738\n",
      "Не получилось отвергнуть нулевую гипотезу\n",
      "Относительный прирост среднего чека группы B: -1.96%\n"
     ]
    }
   ],
   "source": [
    "# посчитаем критерий Манна-Уитни к среднему чеку для очищенных данных \n",
    "# и относительный прирост среднего чека группы В\n",
    "\n",
    "filtered_pvalue_mean_check = stats.mannwhitneyu(\n",
    "    orders[np.logical_and(orders['group'] == \"A\", np.logical_not(orders['visitorId'].isin(abnormal_visitors)))]['revenue'],\n",
    "    orders[np.logical_and(orders['group'] == \"B\", np.logical_not(orders['visitorId'].isin(abnormal_visitors)))]['revenue'])[1]\n",
    "\n",
    "print('Значение p-value для среднего чека: {:.3f}'.format(filtered_pvalue_mean_check))\n",
    "\n",
    "\n",
    "if filtered_pvalue_mean_check < 0.05:\n",
    "    print(\"Отвергаем нулевую гипотезу\")\n",
    "else:\n",
    "    print(\"Не получилось отвергнуть нулевую гипотезу\")\n",
    "\n",
    "    \n",
    "print('Относительный прирост среднего чека группы B: {:.2%}'.format(\n",
    "    (orders[np.logical_and(orders['group']=='B', np.logical_not(orders['visitorId'].isin(abnormal_visitors)))]['revenue'].mean()/\n",
    "     orders[np.logical_and(orders['group']=='A', np.logical_not(orders['visitorId'].isin(abnormal_visitors)))]['revenue']\n",
    "     .mean()) - 1))"
   ]
  },
  {
   "cell_type": "markdown",
   "id": "219fd4e8",
   "metadata": {},
   "source": [
    "<div style=\"border:solid Blue 2px; padding: 20px\">\n",
    "    \n",
    "**Вывод**\n",
    "Здесь так же мы не можем отвергнуть нулевую гипотезу, а значит статистически значимых различий в среднем чеке нету между группами. Однако относительный прирост среднего чека группы В на очищенных данных изменился до -1.96%. Но это может быть вызвано тем, что количество заказов у группы B больше, чем у группы A, за счет чего средний чек становится меньше.\n",
    "    \n",
    "</div>"
   ]
  },
  {
   "cell_type": "markdown",
   "id": "dc32c512",
   "metadata": {},
   "source": [
    "#### Примите решение по результатам теста и объясните его. Варианты решений:\n",
    "1. Остановить тест, зафиксировать победу одной из групп.\n",
    "2. Остановить тест, зафиксировать отсутствие различий между группами.\n",
    "3. Продолжить тест."
   ]
  },
  {
   "cell_type": "markdown",
   "id": "d41e9aca",
   "metadata": {},
   "source": [
    "## Итоговый вывод"
   ]
  },
  {
   "cell_type": "markdown",
   "id": "0cd414e0",
   "metadata": {},
   "source": [
    "**Предобработка данных:**\n",
    "\n",
    "На данном этапе получили следующую информацию:\n",
    "\n",
    "* Общее количество пользователей в тесте: 1031\n",
    "* Количество пользователей в группе А: 503\n",
    "* Количество пользователей в группе В: 586\n",
    "* Количество пользователей, попавших в обе группы: 58\n",
    "\n",
    "Пользователей, находящихся сразу в обеих группах, - 58, это почти по 10% в каждой группе. Их участие сразу в обоих группах может субъективно исказить результаты, а также повлиять на расчет выбросов. Рекомендуется проверить корректность обработки показа сайта для пользователей и пересмотреть систему тестирования на наличие ошибок.\n",
    "\n",
    "\n",
    "**Гипотезы**\n",
    "\n",
    "Перед запуском A/B-теста, нам предстояло выбрать наиболее перспективную гипотезу. У нас сформировался список из 8 гипотез, приоритеты которых мы определили с помощью фреймоворков для приоритезации гипотез - ICE и RICE.\n",
    "\n",
    "Так как фреймворк ICE не учитывает охват изменений, а наши гипотезы требуют взаимодейтсвия с как можно большим количеством пользователей - мы отказались от фреймоврка ICE и использовали фреймворк RICE. Благодаря этому мы определили, что наиболее приоритетной гипотезой - с наивысшим охватом, хорошими показателями влияния и уверенности при средних затратах на внедрение- является гипотеза **«Добавить форму подписки на все основные страницы, чтобы собрать базу клиентов для email-рассылок».** Как запасную можно взять - Добавить два новых канала привлечения трафика, что позволит привлекать на 30% больше пользователей т.к. она показала хорошие результаты в обоих фреймах.\n",
    "\n",
    "\n",
    "\n",
    "**Анализ результатов A/B-теста:**\n",
    "\n",
    "мы пришли к следующим выводам:\n",
    "\n",
    "* Кумулятивная выручка и средний чек группы  В  выше выручки группы А. \n",
    "\n",
    "* Прирост кумулятивного среднего количество заказов на посетителя у группы В по факту превышает группу А (на +15-20%)\n",
    "\n",
    "* В начале теста группа А имела большее среднее количество заказов на посетителя (3,7 в пике),чем В, но уже после 2019-08-05  среднее количество заказов на посетителя группы B стало выше и сохраняла свое превосходство до конца теста (3,4 в группе B против 3 в группе A)\n",
    "\n",
    "* В группе В оказались пользователи, которые совершили крупные заказы (до 1,2 млн руб), что подняло средний чек группы. Учитывая то, что в группе А такого поведения не наблюдалось.\n",
    "\n",
    "* Не более 5% пользователей совершали больше 2-х заказов и не более 1% пользователей больше 4-х. В качестве границы для аномальных пользователей выберем 95-ый перцентиль: всех пользователей, у которых более 2-х транзакций будем считать аномальными.\n",
    "\n",
    "* Встречаются заказы до 60 тысяч и есть единичные заказы от 75 тыс до более 1.2 млн.\n",
    "\n",
    "* Не более 5% заказов стоят дороже 28 тыс., и не более 1% стоят дороже 58 тыс. В качестве границы для аномальных покупок выберем 95-ый перцентиль: покупки дороже 28 тыс. будем считать аномальными.\n",
    "\n",
    "**Статистический анализ результатов теста**:\n",
    "\n",
    "мы пришли к выводам:\n",
    "\n",
    "Доля аномальных пользоваателей, которые совершили более 2 заказов и на сумму больше 28 тыс. составляет 7.18%, что достаточно много.\n",
    "\n",
    "**Сырые данные**\n",
    "\n",
    "Нулевую гипотезу о том, что статистически значимых различий в среднем количестве заказов на посетителя между группами нет - отвергаем. Поэтому мы придерживаемся альтернативной гипотезе, что различая в среднем количестве заказов на посетителя есть, а относительный прирост среднего количества заказов на посетителя группы В составляет 13.81%. Однако в этих выборках есть выбросы.\n",
    "\n",
    "\n",
    "Отвергнуть нулевую гипотезу о том, что нету значимых различий в среднем чеке групп не удалось, но при этом относительный прирост среднего чека в группе В составляет 25.87%, что может означать сильное влияние аномальных заказов.\n",
    "\n",
    "**Очищенные данные**\n",
    "\n",
    "По очищенным данным результат такой же - различия в среднем количестве заказов на посетителя между группами есть. А прирост среднем количестве заказов на посетителя у группы В составляет 17.27%.\n",
    "\n",
    "Не удалось отвергнуть нулевую гипотезу, а значит статистически значимых различий в среднем чеке нету между группами. Однако относительный прирост среднего чека группы В на очищенных данных изменился до -1.96%. Но это может быть вызвано тем, что количество заказов у группы B больше, чем у группы A, за счет чего средний чек становится меньше/также нивелировано влияние выбросов-аномалий.\n",
    "\n",
    "\n",
    "**Итогово**\n",
    "- Среднее количество заказов на посетителя в группе B статистически значимо и превышает аналогичный показатель группы А. \n",
    "- В то же время, средний чек по группам одинаков.\n",
    "\n",
    "**Исходя из вышеперечисленого, предлагаю остановить тест и зафиксировать победу группы В.**\n"
   ]
  },
  {
   "cell_type": "markdown",
   "id": "0d9094ef",
   "metadata": {},
   "source": [
    "![gif](https://media.giphy.com/media/l0HlIXTDRpzRFG0xy/giphy.gif)"
   ]
  }
 ],
 "metadata": {
  "ExecuteTimeLog": [
   {
    "duration": 1998,
    "start_time": "2023-09-17T10:22:21.641Z"
   },
   {
    "duration": 317,
    "start_time": "2023-09-17T10:22:23.642Z"
   },
   {
    "duration": 3,
    "start_time": "2023-09-17T10:22:23.961Z"
   },
   {
    "duration": 7,
    "start_time": "2023-09-17T10:22:23.966Z"
   },
   {
    "duration": 49,
    "start_time": "2023-09-17T10:22:23.974Z"
   },
   {
    "duration": 5,
    "start_time": "2023-09-17T10:22:24.025Z"
   },
   {
    "duration": 49,
    "start_time": "2023-09-17T10:22:24.035Z"
   },
   {
    "duration": 63,
    "start_time": "2023-09-17T10:22:24.085Z"
   },
   {
    "duration": 6,
    "start_time": "2023-09-17T10:22:24.150Z"
   },
   {
    "duration": 30,
    "start_time": "2023-09-17T10:22:24.159Z"
   },
   {
    "duration": 4,
    "start_time": "2023-09-17T10:22:24.191Z"
   },
   {
    "duration": 104,
    "start_time": "2023-09-17T10:22:24.197Z"
   },
   {
    "duration": 375,
    "start_time": "2023-09-17T10:22:24.303Z"
   },
   {
    "duration": 12,
    "start_time": "2023-09-17T10:22:24.680Z"
   },
   {
    "duration": 50,
    "start_time": "2023-09-17T10:22:24.693Z"
   },
   {
    "duration": 560,
    "start_time": "2023-09-17T10:22:24.745Z"
   },
   {
    "duration": 271,
    "start_time": "2023-09-17T10:22:25.307Z"
   },
   {
    "duration": 436,
    "start_time": "2023-09-17T10:22:25.579Z"
   },
   {
    "duration": 279,
    "start_time": "2023-09-17T10:22:26.025Z"
   },
   {
    "duration": 412,
    "start_time": "2023-09-17T10:22:26.305Z"
   },
   {
    "duration": 225,
    "start_time": "2023-09-17T10:22:26.719Z"
   },
   {
    "duration": 5,
    "start_time": "2023-09-17T10:22:26.946Z"
   },
   {
    "duration": 164,
    "start_time": "2023-09-17T10:22:26.953Z"
   },
   {
    "duration": 191,
    "start_time": "2023-09-17T10:22:27.119Z"
   },
   {
    "duration": 13,
    "start_time": "2023-09-17T10:22:27.311Z"
   },
   {
    "duration": 109,
    "start_time": "2023-09-17T10:22:27.327Z"
   },
   {
    "duration": 144,
    "start_time": "2023-09-17T10:22:27.438Z"
   },
   {
    "duration": 20,
    "start_time": "2023-09-17T10:22:27.586Z"
   },
   {
    "duration": 165,
    "start_time": "2023-09-17T10:22:27.608Z"
   },
   {
    "duration": 64,
    "start_time": "2023-09-17T10:22:27.775Z"
   },
   {
    "duration": 15,
    "start_time": "2023-09-17T10:22:27.841Z"
   },
   {
    "duration": 61,
    "start_time": "2023-09-17T10:22:27.857Z"
   },
   {
    "duration": 56,
    "start_time": "2023-09-17T10:22:27.920Z"
   },
   {
    "duration": 95,
    "start_time": "2023-09-17T10:22:27.978Z"
   },
   {
    "duration": 43,
    "start_time": "2023-09-17T10:22:28.075Z"
   },
   {
    "duration": 1271,
    "start_time": "2023-09-17T14:25:09.744Z"
   },
   {
    "duration": 280,
    "start_time": "2023-09-17T14:25:11.017Z"
   },
   {
    "duration": 3,
    "start_time": "2023-09-17T14:25:11.299Z"
   },
   {
    "duration": 5,
    "start_time": "2023-09-17T14:25:11.304Z"
   },
   {
    "duration": 50,
    "start_time": "2023-09-17T14:25:11.311Z"
   },
   {
    "duration": 2,
    "start_time": "2023-09-17T14:25:11.363Z"
   },
   {
    "duration": 44,
    "start_time": "2023-09-17T14:25:11.366Z"
   },
   {
    "duration": 33,
    "start_time": "2023-09-17T14:25:11.444Z"
   },
   {
    "duration": 6,
    "start_time": "2023-09-17T14:25:11.479Z"
   },
   {
    "duration": 14,
    "start_time": "2023-09-17T14:25:11.487Z"
   },
   {
    "duration": 43,
    "start_time": "2023-09-17T14:25:11.503Z"
   },
   {
    "duration": 77,
    "start_time": "2023-09-17T14:25:11.548Z"
   },
   {
    "duration": 363,
    "start_time": "2023-09-17T14:25:11.627Z"
   },
   {
    "duration": 11,
    "start_time": "2023-09-17T14:25:11.995Z"
   },
   {
    "duration": 21,
    "start_time": "2023-09-17T14:25:12.008Z"
   },
   {
    "duration": 509,
    "start_time": "2023-09-17T14:25:12.030Z"
   },
   {
    "duration": 235,
    "start_time": "2023-09-17T14:25:12.543Z"
   },
   {
    "duration": 355,
    "start_time": "2023-09-17T14:25:12.779Z"
   },
   {
    "duration": 259,
    "start_time": "2023-09-17T14:25:13.136Z"
   },
   {
    "duration": 395,
    "start_time": "2023-09-17T14:25:13.397Z"
   },
   {
    "duration": 126,
    "start_time": "2023-09-17T14:25:13.794Z"
   },
   {
    "duration": 5,
    "start_time": "2023-09-17T14:25:13.923Z"
   },
   {
    "duration": 276,
    "start_time": "2023-09-17T14:25:13.945Z"
   },
   {
    "duration": 197,
    "start_time": "2023-09-17T14:25:14.223Z"
   },
   {
    "duration": 4,
    "start_time": "2023-09-17T14:25:14.422Z"
   },
   {
    "duration": 94,
    "start_time": "2023-09-17T14:25:14.428Z"
   },
   {
    "duration": 106,
    "start_time": "2023-09-17T14:25:14.524Z"
   },
   {
    "duration": 24,
    "start_time": "2023-09-17T14:25:14.632Z"
   },
   {
    "duration": 133,
    "start_time": "2023-09-17T14:25:14.657Z"
   },
   {
    "duration": 42,
    "start_time": "2023-09-17T14:25:14.791Z"
   },
   {
    "duration": 15,
    "start_time": "2023-09-17T14:25:14.843Z"
   },
   {
    "duration": 9,
    "start_time": "2023-09-17T14:25:14.859Z"
   },
   {
    "duration": 6,
    "start_time": "2023-09-17T14:25:14.870Z"
   },
   {
    "duration": 45,
    "start_time": "2023-09-17T14:25:14.877Z"
   },
   {
    "duration": 13,
    "start_time": "2023-09-17T14:25:14.945Z"
   },
   {
    "duration": 76,
    "start_time": "2023-09-18T13:05:05.340Z"
   },
   {
    "duration": 1504,
    "start_time": "2023-09-18T13:06:25.323Z"
   },
   {
    "duration": 150,
    "start_time": "2023-09-18T13:06:26.829Z"
   },
   {
    "duration": 4,
    "start_time": "2023-09-18T13:06:26.981Z"
   },
   {
    "duration": 34,
    "start_time": "2023-09-18T13:06:26.987Z"
   },
   {
    "duration": 72,
    "start_time": "2023-09-18T13:06:27.024Z"
   },
   {
    "duration": 3,
    "start_time": "2023-09-18T13:06:27.098Z"
   },
   {
    "duration": 76,
    "start_time": "2023-09-18T13:06:27.103Z"
   },
   {
    "duration": 47,
    "start_time": "2023-09-18T13:06:27.181Z"
   },
   {
    "duration": 6,
    "start_time": "2023-09-18T13:06:27.230Z"
   },
   {
    "duration": 20,
    "start_time": "2023-09-18T13:06:27.239Z"
   },
   {
    "duration": 15,
    "start_time": "2023-09-18T13:06:27.261Z"
   },
   {
    "duration": 125,
    "start_time": "2023-09-18T13:06:27.277Z"
   },
   {
    "duration": 395,
    "start_time": "2023-09-18T13:06:27.411Z"
   },
   {
    "duration": 15,
    "start_time": "2023-09-18T13:06:27.808Z"
   },
   {
    "duration": 40,
    "start_time": "2023-09-18T13:06:27.825Z"
   },
   {
    "duration": 609,
    "start_time": "2023-09-18T13:06:27.867Z"
   },
   {
    "duration": 304,
    "start_time": "2023-09-18T13:06:28.478Z"
   },
   {
    "duration": 450,
    "start_time": "2023-09-18T13:06:28.784Z"
   },
   {
    "duration": 319,
    "start_time": "2023-09-18T13:06:29.236Z"
   },
   {
    "duration": 500,
    "start_time": "2023-09-18T13:06:29.557Z"
   },
   {
    "duration": 170,
    "start_time": "2023-09-18T13:06:30.058Z"
   },
   {
    "duration": 5,
    "start_time": "2023-09-18T13:06:30.231Z"
   },
   {
    "duration": 306,
    "start_time": "2023-09-18T13:06:30.237Z"
   },
   {
    "duration": 216,
    "start_time": "2023-09-18T13:06:30.545Z"
   },
   {
    "duration": 6,
    "start_time": "2023-09-18T13:06:30.763Z"
   },
   {
    "duration": 213,
    "start_time": "2023-09-18T13:06:30.770Z"
   },
   {
    "duration": 150,
    "start_time": "2023-09-18T13:06:30.985Z"
   },
   {
    "duration": 25,
    "start_time": "2023-09-18T13:06:31.140Z"
   },
   {
    "duration": 186,
    "start_time": "2023-09-18T13:06:31.166Z"
   },
   {
    "duration": 130,
    "start_time": "2023-09-18T13:06:31.354Z"
   },
   {
    "duration": 17,
    "start_time": "2023-09-18T13:06:31.486Z"
   },
   {
    "duration": 33,
    "start_time": "2023-09-18T13:06:31.505Z"
   },
   {
    "duration": 48,
    "start_time": "2023-09-18T13:06:31.541Z"
   },
   {
    "duration": 78,
    "start_time": "2023-09-18T13:06:31.592Z"
   },
   {
    "duration": 17,
    "start_time": "2023-09-18T13:06:31.672Z"
   }
  ],
  "kernelspec": {
   "display_name": "Python 3 (ipykernel)",
   "language": "python",
   "name": "python3"
  },
  "language_info": {
   "codemirror_mode": {
    "name": "ipython",
    "version": 3
   },
   "file_extension": ".py",
   "mimetype": "text/x-python",
   "name": "python",
   "nbconvert_exporter": "python",
   "pygments_lexer": "ipython3",
   "version": "3.10.9"
  },
  "toc": {
   "base_numbering": 1,
   "nav_menu": {},
   "number_sections": true,
   "sideBar": true,
   "skip_h1_title": true,
   "title_cell": "Table of Contents",
   "title_sidebar": "Contents",
   "toc_cell": false,
   "toc_position": {},
   "toc_section_display": true,
   "toc_window_display": false
  }
 },
 "nbformat": 4,
 "nbformat_minor": 5
}
