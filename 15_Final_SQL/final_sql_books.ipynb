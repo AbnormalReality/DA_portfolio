{
 "cells": [
  {
   "cell_type": "markdown",
   "id": "a2f420bb",
   "metadata": {},
   "source": [
    "# Описание данных и задание SQL"
   ]
  },
  {
   "cell_type": "markdown",
   "id": "7509599e",
   "metadata": {},
   "source": [
    "**Таблица books**\n",
    "\n",
    "Содержит данные о книгах:\n",
    "\n",
    "* book_id — идентификатор книги;\n",
    "* author_id — идентификатор автора;\n",
    "* title — название книги;\n",
    "* num_pages — количество страниц;\n",
    "* publication_date — дата публикации книги;\n",
    "* publisher_id — идентификатор издателя.\n",
    "\n",
    "**Таблица authors**\n",
    "\n",
    "Содержит данные об авторах:\n",
    "\n",
    "* author_id — идентификатор автора;\n",
    "* author — имя автора.\n",
    "\n",
    "**Таблица publishers**\n",
    "\n",
    "Содержит данные об издательствах:\n",
    "\n",
    "* publisher_id — идентификатор издательства;\n",
    "* publisher — название издательства;\n",
    "\n",
    "**Таблица ratings**\n",
    "\n",
    "Содержит данные о пользовательских оценках книг:\n",
    "\n",
    "* rating_id — идентификатор оценки;book_id — идентификатор книги;\n",
    "* username — имя пользователя, оставившего оценку;\n",
    "* rating — оценка книги.\n",
    "\n",
    "**Таблица reviews**\n",
    "\n",
    "Содержит данные о пользовательских обзорах на книги:\n",
    "\n",
    "* review_id — идентификатор обзора;\n",
    "* book_id — идентификатор книги;\n",
    "* username — имя пользователя, написавшего обзор;\n",
    "* text — текст обзора.\n"
   ]
  },
  {
   "cell_type": "markdown",
   "id": "31e164ee",
   "metadata": {},
   "source": [
    "# Задания"
   ]
  },
  {
   "cell_type": "markdown",
   "id": "65817b8e",
   "metadata": {},
   "source": [
    "* Посчитайте, сколько книг вышло после 1 января 2000 года;\n",
    "* Для каждой книги посчитайте количество обзоров и среднюю оценку;\n",
    "* Определите издательство, которое выпустило наибольшее число книг толще 50 страниц — так вы исключите из анализа брошюры;\n",
    "* Определите автора с самой высокой средней оценкой книг — учитывайте только книги с 50 и более оценками;\n",
    "* Посчитайте среднее количество обзоров от пользователей, которые поставили больше 48 оценок."
   ]
  },
  {
   "cell_type": "markdown",
   "id": "3de840dc",
   "metadata": {},
   "source": [
    "# План выполнения\n",
    "\n",
    "* Опишите цели исследования;\n",
    "* Исследуйте таблицы — выведите первые строки, посчитайте количество строк в каждой таблице;\n",
    "* Сделайте по одному SQL-запросу для решения каждого задания;\n",
    "* Выведите результат каждого запроса в тетрадке;\n",
    "* Опишите выводы по каждой из решённых задач."
   ]
  },
  {
   "cell_type": "markdown",
   "id": "4fcdda08",
   "metadata": {},
   "source": [
    "# Доступ к базе данных"
   ]
  },
  {
   "cell_type": "code",
   "execution_count": 1,
   "id": "99c01d35",
   "metadata": {},
   "outputs": [],
   "source": [
    "# импортируем библиотеки\n",
    "import pandas as pd\n",
    "import sqlalchemy as sa\n",
    "from sqlalchemy import text, create_engine\n",
    "# устанавливаем параметры\n",
    "db_config = {\n",
    "'user': 'praktikum_student', # имя пользователя\n",
    "'pwd': 'Sdf4$2;d-d30pp', # пароль\n",
    "'host': 'rc1b-wcoijxj3yxfsf3fs.mdb.yandexcloud.net',\n",
    "'port': 6432, # порт подключения\n",
    "'db': 'data-analyst-final-project-db' # название базы данных\n",
    "}\n",
    "connection_string = 'postgresql://{user}:{pwd}@{host}:{port}/{db}'.format(**db_config)\n",
    "# сохраняем коннектор\n",
    "engine = sa.create_engine(connection_string, connect_args={'sslmode':'require'})"
   ]
  },
  {
   "cell_type": "markdown",
   "id": "425737bc",
   "metadata": {},
   "source": [
    "## Таблица books"
   ]
  },
  {
   "cell_type": "code",
   "execution_count": 2,
   "id": "2215be51",
   "metadata": {},
   "outputs": [
    {
     "data": {
      "text/html": [
       "<div>\n",
       "<style scoped>\n",
       "    .dataframe tbody tr th:only-of-type {\n",
       "        vertical-align: middle;\n",
       "    }\n",
       "\n",
       "    .dataframe tbody tr th {\n",
       "        vertical-align: top;\n",
       "    }\n",
       "\n",
       "    .dataframe thead th {\n",
       "        text-align: right;\n",
       "    }\n",
       "</style>\n",
       "<table border=\"1\" class=\"dataframe\">\n",
       "  <thead>\n",
       "    <tr style=\"text-align: right;\">\n",
       "      <th></th>\n",
       "      <th>book_id</th>\n",
       "      <th>author_id</th>\n",
       "      <th>title</th>\n",
       "      <th>num_pages</th>\n",
       "      <th>publication_date</th>\n",
       "      <th>publisher_id</th>\n",
       "    </tr>\n",
       "  </thead>\n",
       "  <tbody>\n",
       "    <tr>\n",
       "      <th>0</th>\n",
       "      <td>1</td>\n",
       "      <td>546</td>\n",
       "      <td>'Salem's Lot</td>\n",
       "      <td>594</td>\n",
       "      <td>2005-11-01</td>\n",
       "      <td>93</td>\n",
       "    </tr>\n",
       "    <tr>\n",
       "      <th>1</th>\n",
       "      <td>2</td>\n",
       "      <td>465</td>\n",
       "      <td>1 000 Places to See Before You Die</td>\n",
       "      <td>992</td>\n",
       "      <td>2003-05-22</td>\n",
       "      <td>336</td>\n",
       "    </tr>\n",
       "    <tr>\n",
       "      <th>2</th>\n",
       "      <td>3</td>\n",
       "      <td>407</td>\n",
       "      <td>13 Little Blue Envelopes (Little Blue Envelope...</td>\n",
       "      <td>322</td>\n",
       "      <td>2010-12-21</td>\n",
       "      <td>135</td>\n",
       "    </tr>\n",
       "    <tr>\n",
       "      <th>3</th>\n",
       "      <td>4</td>\n",
       "      <td>82</td>\n",
       "      <td>1491: New Revelations of the Americas Before C...</td>\n",
       "      <td>541</td>\n",
       "      <td>2006-10-10</td>\n",
       "      <td>309</td>\n",
       "    </tr>\n",
       "    <tr>\n",
       "      <th>4</th>\n",
       "      <td>5</td>\n",
       "      <td>125</td>\n",
       "      <td>1776</td>\n",
       "      <td>386</td>\n",
       "      <td>2006-07-04</td>\n",
       "      <td>268</td>\n",
       "    </tr>\n",
       "  </tbody>\n",
       "</table>\n",
       "</div>"
      ],
      "text/plain": [
       "   book_id  author_id                                              title  \\\n",
       "0        1        546                                       'Salem's Lot   \n",
       "1        2        465                 1 000 Places to See Before You Die   \n",
       "2        3        407  13 Little Blue Envelopes (Little Blue Envelope...   \n",
       "3        4         82  1491: New Revelations of the Americas Before C...   \n",
       "4        5        125                                               1776   \n",
       "\n",
       "   num_pages publication_date  publisher_id  \n",
       "0        594       2005-11-01            93  \n",
       "1        992       2003-05-22           336  \n",
       "2        322       2010-12-21           135  \n",
       "3        541       2006-10-10           309  \n",
       "4        386       2006-07-04           268  "
      ]
     },
     "execution_count": 2,
     "metadata": {},
     "output_type": "execute_result"
    }
   ],
   "source": [
    "query = '''\n",
    "            SELECT * \n",
    "            FROM books\n",
    "        '''\n",
    "books = pd.io.sql.read_sql(query, con = engine)\n",
    "books.head()"
   ]
  },
  {
   "cell_type": "code",
   "execution_count": 3,
   "id": "de1af839",
   "metadata": {},
   "outputs": [
    {
     "name": "stdout",
     "output_type": "stream",
     "text": [
      "<class 'pandas.core.frame.DataFrame'>\n",
      "RangeIndex: 1000 entries, 0 to 999\n",
      "Data columns (total 6 columns):\n",
      " #   Column            Non-Null Count  Dtype \n",
      "---  ------            --------------  ----- \n",
      " 0   book_id           1000 non-null   int64 \n",
      " 1   author_id         1000 non-null   int64 \n",
      " 2   title             1000 non-null   object\n",
      " 3   num_pages         1000 non-null   int64 \n",
      " 4   publication_date  1000 non-null   object\n",
      " 5   publisher_id      1000 non-null   int64 \n",
      "dtypes: int64(4), object(2)\n",
      "memory usage: 47.0+ KB\n"
     ]
    }
   ],
   "source": [
    "books.info()"
   ]
  },
  {
   "cell_type": "markdown",
   "id": "6974c6df",
   "metadata": {},
   "source": [
    "Таблица содержит 1000 строк"
   ]
  },
  {
   "cell_type": "markdown",
   "id": "4c1b0d0d",
   "metadata": {},
   "source": [
    "## Таблица authors"
   ]
  },
  {
   "cell_type": "code",
   "execution_count": 4,
   "id": "b0f348c9",
   "metadata": {},
   "outputs": [
    {
     "data": {
      "text/html": [
       "<div>\n",
       "<style scoped>\n",
       "    .dataframe tbody tr th:only-of-type {\n",
       "        vertical-align: middle;\n",
       "    }\n",
       "\n",
       "    .dataframe tbody tr th {\n",
       "        vertical-align: top;\n",
       "    }\n",
       "\n",
       "    .dataframe thead th {\n",
       "        text-align: right;\n",
       "    }\n",
       "</style>\n",
       "<table border=\"1\" class=\"dataframe\">\n",
       "  <thead>\n",
       "    <tr style=\"text-align: right;\">\n",
       "      <th></th>\n",
       "      <th>author_id</th>\n",
       "      <th>author</th>\n",
       "    </tr>\n",
       "  </thead>\n",
       "  <tbody>\n",
       "    <tr>\n",
       "      <th>0</th>\n",
       "      <td>1</td>\n",
       "      <td>A.S. Byatt</td>\n",
       "    </tr>\n",
       "    <tr>\n",
       "      <th>1</th>\n",
       "      <td>2</td>\n",
       "      <td>Aesop/Laura Harris/Laura Gibbs</td>\n",
       "    </tr>\n",
       "    <tr>\n",
       "      <th>2</th>\n",
       "      <td>3</td>\n",
       "      <td>Agatha Christie</td>\n",
       "    </tr>\n",
       "    <tr>\n",
       "      <th>3</th>\n",
       "      <td>4</td>\n",
       "      <td>Alan Brennert</td>\n",
       "    </tr>\n",
       "    <tr>\n",
       "      <th>4</th>\n",
       "      <td>5</td>\n",
       "      <td>Alan Moore/David   Lloyd</td>\n",
       "    </tr>\n",
       "  </tbody>\n",
       "</table>\n",
       "</div>"
      ],
      "text/plain": [
       "   author_id                          author\n",
       "0          1                      A.S. Byatt\n",
       "1          2  Aesop/Laura Harris/Laura Gibbs\n",
       "2          3                 Agatha Christie\n",
       "3          4                   Alan Brennert\n",
       "4          5        Alan Moore/David   Lloyd"
      ]
     },
     "execution_count": 4,
     "metadata": {},
     "output_type": "execute_result"
    }
   ],
   "source": [
    "query = '''\n",
    "            SELECT * \n",
    "            FROM authors\n",
    "        '''\n",
    "authors = pd.io.sql.read_sql(query, con = engine)\n",
    "authors.head()"
   ]
  },
  {
   "cell_type": "code",
   "execution_count": 5,
   "id": "bf993660",
   "metadata": {},
   "outputs": [
    {
     "name": "stdout",
     "output_type": "stream",
     "text": [
      "<class 'pandas.core.frame.DataFrame'>\n",
      "RangeIndex: 636 entries, 0 to 635\n",
      "Data columns (total 2 columns):\n",
      " #   Column     Non-Null Count  Dtype \n",
      "---  ------     --------------  ----- \n",
      " 0   author_id  636 non-null    int64 \n",
      " 1   author     636 non-null    object\n",
      "dtypes: int64(1), object(1)\n",
      "memory usage: 10.1+ KB\n"
     ]
    }
   ],
   "source": [
    "authors.info()"
   ]
  },
  {
   "cell_type": "markdown",
   "id": "701c79e1",
   "metadata": {},
   "source": [
    "Таблица содержит 636 строк"
   ]
  },
  {
   "cell_type": "markdown",
   "id": "457a9774",
   "metadata": {},
   "source": [
    "## Таблица publishers"
   ]
  },
  {
   "cell_type": "code",
   "execution_count": 6,
   "id": "ae71ed25",
   "metadata": {},
   "outputs": [
    {
     "data": {
      "text/html": [
       "<div>\n",
       "<style scoped>\n",
       "    .dataframe tbody tr th:only-of-type {\n",
       "        vertical-align: middle;\n",
       "    }\n",
       "\n",
       "    .dataframe tbody tr th {\n",
       "        vertical-align: top;\n",
       "    }\n",
       "\n",
       "    .dataframe thead th {\n",
       "        text-align: right;\n",
       "    }\n",
       "</style>\n",
       "<table border=\"1\" class=\"dataframe\">\n",
       "  <thead>\n",
       "    <tr style=\"text-align: right;\">\n",
       "      <th></th>\n",
       "      <th>publisher_id</th>\n",
       "      <th>publisher</th>\n",
       "    </tr>\n",
       "  </thead>\n",
       "  <tbody>\n",
       "    <tr>\n",
       "      <th>0</th>\n",
       "      <td>1</td>\n",
       "      <td>Ace</td>\n",
       "    </tr>\n",
       "    <tr>\n",
       "      <th>1</th>\n",
       "      <td>2</td>\n",
       "      <td>Ace Book</td>\n",
       "    </tr>\n",
       "    <tr>\n",
       "      <th>2</th>\n",
       "      <td>3</td>\n",
       "      <td>Ace Books</td>\n",
       "    </tr>\n",
       "    <tr>\n",
       "      <th>3</th>\n",
       "      <td>4</td>\n",
       "      <td>Ace Hardcover</td>\n",
       "    </tr>\n",
       "    <tr>\n",
       "      <th>4</th>\n",
       "      <td>5</td>\n",
       "      <td>Addison Wesley Publishing Company</td>\n",
       "    </tr>\n",
       "  </tbody>\n",
       "</table>\n",
       "</div>"
      ],
      "text/plain": [
       "   publisher_id                          publisher\n",
       "0             1                                Ace\n",
       "1             2                           Ace Book\n",
       "2             3                          Ace Books\n",
       "3             4                      Ace Hardcover\n",
       "4             5  Addison Wesley Publishing Company"
      ]
     },
     "execution_count": 6,
     "metadata": {},
     "output_type": "execute_result"
    }
   ],
   "source": [
    "query = '''\n",
    "            SELECT * \n",
    "            FROM publishers\n",
    "        '''\n",
    "publishers = pd.io.sql.read_sql(query, con = engine)\n",
    "publishers.head()"
   ]
  },
  {
   "cell_type": "code",
   "execution_count": 7,
   "id": "585d019e",
   "metadata": {},
   "outputs": [
    {
     "name": "stdout",
     "output_type": "stream",
     "text": [
      "<class 'pandas.core.frame.DataFrame'>\n",
      "RangeIndex: 340 entries, 0 to 339\n",
      "Data columns (total 2 columns):\n",
      " #   Column        Non-Null Count  Dtype \n",
      "---  ------        --------------  ----- \n",
      " 0   publisher_id  340 non-null    int64 \n",
      " 1   publisher     340 non-null    object\n",
      "dtypes: int64(1), object(1)\n",
      "memory usage: 5.4+ KB\n"
     ]
    }
   ],
   "source": [
    "publishers.info()"
   ]
  },
  {
   "cell_type": "markdown",
   "id": "a8c3b1f5",
   "metadata": {},
   "source": [
    "Таблица содержит 340 строк"
   ]
  },
  {
   "cell_type": "markdown",
   "id": "dc7ca184",
   "metadata": {},
   "source": [
    "## Таблица ratings"
   ]
  },
  {
   "cell_type": "code",
   "execution_count": 8,
   "id": "619aadfd",
   "metadata": {},
   "outputs": [
    {
     "data": {
      "text/html": [
       "<div>\n",
       "<style scoped>\n",
       "    .dataframe tbody tr th:only-of-type {\n",
       "        vertical-align: middle;\n",
       "    }\n",
       "\n",
       "    .dataframe tbody tr th {\n",
       "        vertical-align: top;\n",
       "    }\n",
       "\n",
       "    .dataframe thead th {\n",
       "        text-align: right;\n",
       "    }\n",
       "</style>\n",
       "<table border=\"1\" class=\"dataframe\">\n",
       "  <thead>\n",
       "    <tr style=\"text-align: right;\">\n",
       "      <th></th>\n",
       "      <th>rating_id</th>\n",
       "      <th>book_id</th>\n",
       "      <th>username</th>\n",
       "      <th>rating</th>\n",
       "    </tr>\n",
       "  </thead>\n",
       "  <tbody>\n",
       "    <tr>\n",
       "      <th>0</th>\n",
       "      <td>1</td>\n",
       "      <td>1</td>\n",
       "      <td>ryanfranco</td>\n",
       "      <td>4</td>\n",
       "    </tr>\n",
       "    <tr>\n",
       "      <th>1</th>\n",
       "      <td>2</td>\n",
       "      <td>1</td>\n",
       "      <td>grantpatricia</td>\n",
       "      <td>2</td>\n",
       "    </tr>\n",
       "    <tr>\n",
       "      <th>2</th>\n",
       "      <td>3</td>\n",
       "      <td>1</td>\n",
       "      <td>brandtandrea</td>\n",
       "      <td>5</td>\n",
       "    </tr>\n",
       "    <tr>\n",
       "      <th>3</th>\n",
       "      <td>4</td>\n",
       "      <td>2</td>\n",
       "      <td>lorichen</td>\n",
       "      <td>3</td>\n",
       "    </tr>\n",
       "    <tr>\n",
       "      <th>4</th>\n",
       "      <td>5</td>\n",
       "      <td>2</td>\n",
       "      <td>mariokeller</td>\n",
       "      <td>2</td>\n",
       "    </tr>\n",
       "  </tbody>\n",
       "</table>\n",
       "</div>"
      ],
      "text/plain": [
       "   rating_id  book_id       username  rating\n",
       "0          1        1     ryanfranco       4\n",
       "1          2        1  grantpatricia       2\n",
       "2          3        1   brandtandrea       5\n",
       "3          4        2       lorichen       3\n",
       "4          5        2    mariokeller       2"
      ]
     },
     "execution_count": 8,
     "metadata": {},
     "output_type": "execute_result"
    }
   ],
   "source": [
    "query = '''\n",
    "            SELECT * \n",
    "            FROM ratings\n",
    "        '''\n",
    "ratings = pd.io.sql.read_sql(query, con = engine)\n",
    "ratings.head()"
   ]
  },
  {
   "cell_type": "code",
   "execution_count": 9,
   "id": "1c2fbeee",
   "metadata": {},
   "outputs": [
    {
     "name": "stdout",
     "output_type": "stream",
     "text": [
      "<class 'pandas.core.frame.DataFrame'>\n",
      "RangeIndex: 6456 entries, 0 to 6455\n",
      "Data columns (total 4 columns):\n",
      " #   Column     Non-Null Count  Dtype \n",
      "---  ------     --------------  ----- \n",
      " 0   rating_id  6456 non-null   int64 \n",
      " 1   book_id    6456 non-null   int64 \n",
      " 2   username   6456 non-null   object\n",
      " 3   rating     6456 non-null   int64 \n",
      "dtypes: int64(3), object(1)\n",
      "memory usage: 201.9+ KB\n"
     ]
    }
   ],
   "source": [
    "ratings.info()"
   ]
  },
  {
   "cell_type": "markdown",
   "id": "54a5104c",
   "metadata": {},
   "source": [
    "Таблица содержит 6456 строк"
   ]
  },
  {
   "cell_type": "markdown",
   "id": "bba59a2b",
   "metadata": {},
   "source": [
    "## Таблица reviews"
   ]
  },
  {
   "cell_type": "code",
   "execution_count": 10,
   "id": "3e30efad",
   "metadata": {},
   "outputs": [
    {
     "name": "stdout",
     "output_type": "stream",
     "text": [
      "<class 'pandas.core.frame.DataFrame'>\n",
      "RangeIndex: 2793 entries, 0 to 2792\n",
      "Data columns (total 4 columns):\n",
      " #   Column     Non-Null Count  Dtype \n",
      "---  ------     --------------  ----- \n",
      " 0   review_id  2793 non-null   int64 \n",
      " 1   book_id    2793 non-null   int64 \n",
      " 2   username   2793 non-null   object\n",
      " 3   text       2793 non-null   object\n",
      "dtypes: int64(2), object(2)\n",
      "memory usage: 87.4+ KB\n"
     ]
    }
   ],
   "source": [
    "query = '''\n",
    "            SELECT * \n",
    "            FROM reviews\n",
    "        '''\n",
    "reviews = pd.io.sql.read_sql(query, con = engine)\n",
    "reviews.info()"
   ]
  },
  {
   "cell_type": "markdown",
   "id": "252c653f",
   "metadata": {},
   "source": [
    "Таблица содержит 2793 строки"
   ]
  },
  {
   "cell_type": "markdown",
   "id": "150f0cd2",
   "metadata": {},
   "source": [
    "## Решение заданий"
   ]
  },
  {
   "cell_type": "markdown",
   "id": "af3b50a5",
   "metadata": {},
   "source": [
    "### Посчитайте, сколько книг вышло после 1 января 2000 года;"
   ]
  },
  {
   "cell_type": "code",
   "execution_count": 11,
   "id": "e2ad9964",
   "metadata": {},
   "outputs": [
    {
     "data": {
      "text/html": [
       "<div>\n",
       "<style scoped>\n",
       "    .dataframe tbody tr th:only-of-type {\n",
       "        vertical-align: middle;\n",
       "    }\n",
       "\n",
       "    .dataframe tbody tr th {\n",
       "        vertical-align: top;\n",
       "    }\n",
       "\n",
       "    .dataframe thead th {\n",
       "        text-align: right;\n",
       "    }\n",
       "</style>\n",
       "<table border=\"1\" class=\"dataframe\">\n",
       "  <thead>\n",
       "    <tr style=\"text-align: right;\">\n",
       "      <th></th>\n",
       "      <th>count_of_books</th>\n",
       "    </tr>\n",
       "  </thead>\n",
       "  <tbody>\n",
       "    <tr>\n",
       "      <th>0</th>\n",
       "      <td>819</td>\n",
       "    </tr>\n",
       "  </tbody>\n",
       "</table>\n",
       "</div>"
      ],
      "text/plain": [
       "   count_of_books\n",
       "0             819"
      ]
     },
     "execution_count": 11,
     "metadata": {},
     "output_type": "execute_result"
    }
   ],
   "source": [
    "query = '''\n",
    "            SELECT COUNT(book_id) count_of_books\n",
    "            FROM books \n",
    "            WHERE publication_date > '01-01-2000'\n",
    "        '''\n",
    "pd.io.sql.read_sql(query, con = engine)"
   ]
  },
  {
   "cell_type": "markdown",
   "id": "bf1c20fd",
   "metadata": {},
   "source": [
    "**После 1 января 2000 года было выпущено 819 книг.**"
   ]
  },
  {
   "cell_type": "markdown",
   "id": "648e9f62",
   "metadata": {},
   "source": [
    "### Для каждой книги посчитайте количество обзоров и среднюю оценку;"
   ]
  },
  {
   "cell_type": "code",
   "execution_count": 12,
   "id": "7caabd2a",
   "metadata": {},
   "outputs": [
    {
     "data": {
      "text/html": [
       "<div>\n",
       "<style scoped>\n",
       "    .dataframe tbody tr th:only-of-type {\n",
       "        vertical-align: middle;\n",
       "    }\n",
       "\n",
       "    .dataframe tbody tr th {\n",
       "        vertical-align: top;\n",
       "    }\n",
       "\n",
       "    .dataframe thead th {\n",
       "        text-align: right;\n",
       "    }\n",
       "</style>\n",
       "<table border=\"1\" class=\"dataframe\">\n",
       "  <thead>\n",
       "    <tr style=\"text-align: right;\">\n",
       "      <th></th>\n",
       "      <th>title</th>\n",
       "      <th>reviews_count</th>\n",
       "      <th>avg_rating</th>\n",
       "    </tr>\n",
       "  </thead>\n",
       "  <tbody>\n",
       "    <tr>\n",
       "      <th>0</th>\n",
       "      <td>Twilight (Twilight  #1)</td>\n",
       "      <td>7</td>\n",
       "      <td>3.66</td>\n",
       "    </tr>\n",
       "    <tr>\n",
       "      <th>1</th>\n",
       "      <td>Harry Potter and the Prisoner of Azkaban (Harr...</td>\n",
       "      <td>6</td>\n",
       "      <td>4.41</td>\n",
       "    </tr>\n",
       "    <tr>\n",
       "      <th>2</th>\n",
       "      <td>Harry Potter and the Chamber of Secrets (Harry...</td>\n",
       "      <td>6</td>\n",
       "      <td>4.29</td>\n",
       "    </tr>\n",
       "    <tr>\n",
       "      <th>3</th>\n",
       "      <td>The Book Thief</td>\n",
       "      <td>6</td>\n",
       "      <td>4.26</td>\n",
       "    </tr>\n",
       "    <tr>\n",
       "      <th>4</th>\n",
       "      <td>The Glass Castle</td>\n",
       "      <td>6</td>\n",
       "      <td>4.21</td>\n",
       "    </tr>\n",
       "    <tr>\n",
       "      <th>...</th>\n",
       "      <td>...</td>\n",
       "      <td>...</td>\n",
       "      <td>...</td>\n",
       "    </tr>\n",
       "    <tr>\n",
       "      <th>995</th>\n",
       "      <td>Disney's Beauty and the Beast (A Little Golden...</td>\n",
       "      <td>0</td>\n",
       "      <td>4.00</td>\n",
       "    </tr>\n",
       "    <tr>\n",
       "      <th>996</th>\n",
       "      <td>Leonardo's Notebooks</td>\n",
       "      <td>0</td>\n",
       "      <td>4.00</td>\n",
       "    </tr>\n",
       "    <tr>\n",
       "      <th>997</th>\n",
       "      <td>Essential Tales and Poems</td>\n",
       "      <td>0</td>\n",
       "      <td>4.00</td>\n",
       "    </tr>\n",
       "    <tr>\n",
       "      <th>998</th>\n",
       "      <td>Anne Rice's The Vampire Lestat: A Graphic Novel</td>\n",
       "      <td>0</td>\n",
       "      <td>3.67</td>\n",
       "    </tr>\n",
       "    <tr>\n",
       "      <th>999</th>\n",
       "      <td>The Natural Way to Draw</td>\n",
       "      <td>0</td>\n",
       "      <td>3.00</td>\n",
       "    </tr>\n",
       "  </tbody>\n",
       "</table>\n",
       "<p>1000 rows × 3 columns</p>\n",
       "</div>"
      ],
      "text/plain": [
       "                                                 title  reviews_count  \\\n",
       "0                              Twilight (Twilight  #1)              7   \n",
       "1    Harry Potter and the Prisoner of Azkaban (Harr...              6   \n",
       "2    Harry Potter and the Chamber of Secrets (Harry...              6   \n",
       "3                                       The Book Thief              6   \n",
       "4                                     The Glass Castle              6   \n",
       "..                                                 ...            ...   \n",
       "995  Disney's Beauty and the Beast (A Little Golden...              0   \n",
       "996                               Leonardo's Notebooks              0   \n",
       "997                          Essential Tales and Poems              0   \n",
       "998    Anne Rice's The Vampire Lestat: A Graphic Novel              0   \n",
       "999                            The Natural Way to Draw              0   \n",
       "\n",
       "     avg_rating  \n",
       "0          3.66  \n",
       "1          4.41  \n",
       "2          4.29  \n",
       "3          4.26  \n",
       "4          4.21  \n",
       "..          ...  \n",
       "995        4.00  \n",
       "996        4.00  \n",
       "997        4.00  \n",
       "998        3.67  \n",
       "999        3.00  \n",
       "\n",
       "[1000 rows x 3 columns]"
      ]
     },
     "metadata": {},
     "output_type": "display_data"
    }
   ],
   "source": [
    "query = '''\n",
    "        SELECT title,\n",
    "               COUNT(DISTINCT(review_id)) AS reviews_count,\n",
    "               ROUND(AVG(rating), 2) AS avg_rating\n",
    "        FROM books AS b\n",
    "        LEFT JOIN reviews AS rev ON b.book_id = rev.book_id\n",
    "        LEFT JOIN ratings AS rat ON b.book_id = rat.book_id\n",
    "        GROUP BY b.book_id\n",
    "        ORDER BY reviews_count DESC, avg_rating DESC\n",
    "        '''\n",
    "\n",
    "display(pd.io.sql.read_sql(sql=text(query), con = engine))"
   ]
  },
  {
   "cell_type": "markdown",
   "id": "c1771ef4",
   "metadata": {},
   "source": [
    "По данным, для большинства книг было написано несколько обзоров и средние оценки варьируются."
   ]
  },
  {
   "cell_type": "markdown",
   "id": "8ad78dbb",
   "metadata": {},
   "source": [
    "### Определите издательство, которое выпустило наибольшее число книг толще 50 страниц — так вы исключите из анализа брошюры;"
   ]
  },
  {
   "cell_type": "code",
   "execution_count": 13,
   "id": "2886d998",
   "metadata": {},
   "outputs": [
    {
     "data": {
      "text/html": [
       "<div>\n",
       "<style scoped>\n",
       "    .dataframe tbody tr th:only-of-type {\n",
       "        vertical-align: middle;\n",
       "    }\n",
       "\n",
       "    .dataframe tbody tr th {\n",
       "        vertical-align: top;\n",
       "    }\n",
       "\n",
       "    .dataframe thead th {\n",
       "        text-align: right;\n",
       "    }\n",
       "</style>\n",
       "<table border=\"1\" class=\"dataframe\">\n",
       "  <thead>\n",
       "    <tr style=\"text-align: right;\">\n",
       "      <th></th>\n",
       "      <th>publisher_id</th>\n",
       "      <th>publisher</th>\n",
       "      <th>count_books</th>\n",
       "    </tr>\n",
       "  </thead>\n",
       "  <tbody>\n",
       "    <tr>\n",
       "      <th>0</th>\n",
       "      <td>212</td>\n",
       "      <td>Penguin Books</td>\n",
       "      <td>42</td>\n",
       "    </tr>\n",
       "  </tbody>\n",
       "</table>\n",
       "</div>"
      ],
      "text/plain": [
       "   publisher_id      publisher  count_books\n",
       "0           212  Penguin Books           42"
      ]
     },
     "execution_count": 13,
     "metadata": {},
     "output_type": "execute_result"
    }
   ],
   "source": [
    "query = '''\n",
    "            SELECT b.publisher_id, p.publisher, COUNT(*) count_books\n",
    "            FROM books b\n",
    "            LEFT JOIN publishers p ON b.publisher_id = p.publisher_id\n",
    "            WHERE num_pages > 50\n",
    "            GROUP BY b.publisher_id, p.publisher\n",
    "            ORDER BY COUNT(*) DESC\n",
    "            LIMIT 1\n",
    "        '''\n",
    "pd.io.sql.read_sql(query, con = engine)"
   ]
  },
  {
   "cell_type": "markdown",
   "id": "f1460f7c",
   "metadata": {},
   "source": [
    "Издательство \"Penguin Books\" выпустило 42 книги толще 50 страниц. Это около 4% от всех книг в данных. Основано в 1935 году в Англии."
   ]
  },
  {
   "cell_type": "markdown",
   "id": "dd881ddc",
   "metadata": {},
   "source": [
    "### Определите автора с самой высокой средней оценкой книг — учитывайте только книги с 50 и более оценками;"
   ]
  },
  {
   "cell_type": "code",
   "execution_count": 14,
   "id": "92418868",
   "metadata": {
    "scrolled": true
   },
   "outputs": [
    {
     "data": {
      "text/html": [
       "<div>\n",
       "<style scoped>\n",
       "    .dataframe tbody tr th:only-of-type {\n",
       "        vertical-align: middle;\n",
       "    }\n",
       "\n",
       "    .dataframe tbody tr th {\n",
       "        vertical-align: top;\n",
       "    }\n",
       "\n",
       "    .dataframe thead th {\n",
       "        text-align: right;\n",
       "    }\n",
       "</style>\n",
       "<table border=\"1\" class=\"dataframe\">\n",
       "  <thead>\n",
       "    <tr style=\"text-align: right;\">\n",
       "      <th></th>\n",
       "      <th>автор</th>\n",
       "      <th>средний_рейтинг</th>\n",
       "    </tr>\n",
       "  </thead>\n",
       "  <tbody>\n",
       "    <tr>\n",
       "      <th>0</th>\n",
       "      <td>J.K. Rowling/Mary GrandPré</td>\n",
       "      <td>4.287097</td>\n",
       "    </tr>\n",
       "  </tbody>\n",
       "</table>\n",
       "</div>"
      ],
      "text/plain": [
       "                        автор  средний_рейтинг\n",
       "0  J.K. Rowling/Mary GrandPré         4.287097"
      ]
     },
     "execution_count": 14,
     "metadata": {},
     "output_type": "execute_result"
    }
   ],
   "source": [
    "query = '''\n",
    "SELECT\n",
    "    authors.author AS автор,\n",
    "    AVG(ratings.rating) AS средний_рейтинг\n",
    "    FROM ratings\n",
    "    JOIN books ON books.book_id = ratings.book_id\n",
    "    JOIN authors ON books.author_id = authors.author_id\n",
    "    WHERE ratings.book_id IN (\n",
    "       SELECT ratings.book_id\n",
    "       FROM ratings\n",
    "       GROUP BY ratings.book_id\n",
    "       HAVING COUNT(ratings.book_id) >= 50)\n",
    "    GROUP BY authors.author_id\n",
    "    ORDER BY AVG(ratings.rating) DESC\n",
    "    LIMIT 1'''\n",
    "pd.io.sql.read_sql(query, con = engine)"
   ]
  },
  {
   "cell_type": "markdown",
   "id": "463ddadf",
   "metadata": {},
   "source": [
    "Самый высокий рейтинг у Джоан Роулинг (Гарри Поттер) совместно с американским иллюстратором Mary GrandPré"
   ]
  },
  {
   "cell_type": "markdown",
   "id": "7cf36af1",
   "metadata": {},
   "source": [
    "### Посчитайте среднее количество обзоров от пользователей, которые поставили больше 48 оценок."
   ]
  },
  {
   "cell_type": "code",
   "execution_count": 15,
   "id": "c8fbe441",
   "metadata": {},
   "outputs": [
    {
     "data": {
      "text/html": [
       "<div>\n",
       "<style scoped>\n",
       "    .dataframe tbody tr th:only-of-type {\n",
       "        vertical-align: middle;\n",
       "    }\n",
       "\n",
       "    .dataframe tbody tr th {\n",
       "        vertical-align: top;\n",
       "    }\n",
       "\n",
       "    .dataframe thead th {\n",
       "        text-align: right;\n",
       "    }\n",
       "</style>\n",
       "<table border=\"1\" class=\"dataframe\">\n",
       "  <thead>\n",
       "    <tr style=\"text-align: right;\">\n",
       "      <th></th>\n",
       "      <th>avg_reviews_count</th>\n",
       "    </tr>\n",
       "  </thead>\n",
       "  <tbody>\n",
       "    <tr>\n",
       "      <th>0</th>\n",
       "      <td>24.0</td>\n",
       "    </tr>\n",
       "  </tbody>\n",
       "</table>\n",
       "</div>"
      ],
      "text/plain": [
       "   avg_reviews_count\n",
       "0               24.0"
      ]
     },
     "execution_count": 15,
     "metadata": {},
     "output_type": "execute_result"
    }
   ],
   "source": [
    "query = '''\n",
    "            WITH reviews_count_table AS \n",
    "            (SELECT username,\n",
    "                   COUNT(review_id) AS reviews_count\n",
    "            FROM reviews \n",
    "            WHERE username IN (SELECT username\n",
    "                               FROM ratings\n",
    "                               GROUP BY username\n",
    "                               HAVING COUNT(rating_id) > 48)\n",
    "            GROUP BY username)\n",
    "            \n",
    "            SELECT AVG(reviews_count) AS avg_reviews_count\n",
    "            FROM reviews_count_table\n",
    "        '''\n",
    "pd.io.sql.read_sql(query, con = engine)"
   ]
  },
  {
   "cell_type": "markdown",
   "id": "cf537abc",
   "metadata": {},
   "source": [
    "## Вывод:\n",
    "* После 1 января 2000 года вышло 819 книг\n",
    "* Больше всего обзоров у Twilight (Сумерки) - 7\n",
    "* Издательство, которое выпустило наибольшее число книг толще 50 страниц, - Penguin Books - 42 шт\n",
    "* Самая высокая средняя оценка книг у J.K. Rowling/Mary GrandPré\n",
    "* Среднее количество обзоров на пользователя, который поставил более 48 оценок - 24."
   ]
  }
 ],
 "metadata": {
  "ExecuteTimeLog": [
   {
    "duration": 21383,
    "start_time": "2023-11-23T16:04:07.187Z"
   },
   {
    "duration": 285,
    "start_time": "2023-11-23T16:04:28.574Z"
   },
   {
    "duration": 11,
    "start_time": "2023-11-23T16:04:28.861Z"
   },
   {
    "duration": 78,
    "start_time": "2023-11-23T16:04:28.873Z"
   },
   {
    "duration": 10,
    "start_time": "2023-11-23T16:04:28.952Z"
   },
   {
    "duration": 76,
    "start_time": "2023-11-23T16:04:28.963Z"
   },
   {
    "duration": 9,
    "start_time": "2023-11-23T16:04:29.040Z"
   },
   {
    "duration": 110,
    "start_time": "2023-11-23T16:04:29.051Z"
   },
   {
    "duration": 11,
    "start_time": "2023-11-23T16:04:29.163Z"
   },
   {
    "duration": 94,
    "start_time": "2023-11-23T16:04:29.175Z"
   },
   {
    "duration": 74,
    "start_time": "2023-11-23T16:04:29.270Z"
   },
   {
    "duration": 89,
    "start_time": "2023-11-23T16:04:29.345Z"
   },
   {
    "duration": 75,
    "start_time": "2023-11-23T16:04:29.435Z"
   },
   {
    "duration": 79,
    "start_time": "2023-11-23T16:04:29.512Z"
   },
   {
    "duration": 76,
    "start_time": "2023-11-23T16:04:29.593Z"
   }
  ],
  "kernelspec": {
   "display_name": "Python 3 (ipykernel)",
   "language": "python",
   "name": "python3"
  },
  "language_info": {
   "codemirror_mode": {
    "name": "ipython",
    "version": 3
   },
   "file_extension": ".py",
   "mimetype": "text/x-python",
   "name": "python",
   "nbconvert_exporter": "python",
   "pygments_lexer": "ipython3",
   "version": "3.10.9"
  },
  "toc": {
   "base_numbering": 1,
   "nav_menu": {},
   "number_sections": true,
   "sideBar": true,
   "skip_h1_title": true,
   "title_cell": "Table of Contents",
   "title_sidebar": "Contents",
   "toc_cell": false,
   "toc_position": {},
   "toc_section_display": true,
   "toc_window_display": false
  }
 },
 "nbformat": 4,
 "nbformat_minor": 5
}
