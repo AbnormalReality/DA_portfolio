{
 "cells": [
  {
   "cell_type": "markdown",
   "id": "386f2ae7",
   "metadata": {
    "deletable": false,
    "editable": false,
    "id": "386f2ae7"
   },
   "source": [
    "# Исследование надежности заемщиков\n"
   ]
  },
  {
   "cell_type": "markdown",
   "id": "ffe86f65",
   "metadata": {
    "deletable": false,
    "editable": false,
    "id": "ffe86f65"
   },
   "source": [
    "Во второй части проекта вы выполните шаги 3 и 4. Их вручную проверит ревьюер.\n",
    "Чтобы вам не пришлось писать код заново для шагов 1 и 2, мы добавили авторские решения в ячейки с кодом. \n",
    "\n"
   ]
  },
  {
   "cell_type": "markdown",
   "id": "6c1afe28",
   "metadata": {},
   "source": [
    "# Описание проекта"
   ]
  },
  {
   "cell_type": "markdown",
   "id": "1ca237a7",
   "metadata": {},
   "source": [
    "Заказчик — кредитный отдел банка. Нужно разобраться, влияет ли семейное положение и количество детей клиента на факт погашения кредита в срок. Входные данные от банка — статистика о платёжеспособности клиентов.\n",
    "Результаты исследования будут учтены при построении модели кредитного скоринга — специальной системы, которая оценивает способность потенциального заёмщика вернуть кредит банку.\n",
    "Итогом проекта явлются ответы на вопросы:\n",
    "\n",
    "* Есть ли зависимость между количеством детей и возвратом кредита в срок?\n",
    "* Есть ли зависимость между семейным положением и возвратом кредита в срок?\n",
    "* Есть ли зависимость между уровнем дохода и возвратом кредита в срок?\n",
    "* Как разные цели кредита влияют на его возврат в срок?\n",
    "* Приведите возможные причины появления пропусков в исходных данных.\n",
    "* Объясните, почему заполнить пропуски медианным значением — лучшее решение для количественных переменных.\n",
    "* Общий вывод и рекомендации"
   ]
  },
  {
   "cell_type": "markdown",
   "id": "26613308",
   "metadata": {
    "deletable": false,
    "editable": false,
    "id": "26613308"
   },
   "source": [
    "## Откройте таблицу и изучите общую информацию о данных"
   ]
  },
  {
   "cell_type": "markdown",
   "id": "3c9f838e",
   "metadata": {
    "deletable": false,
    "editable": false,
    "id": "3c9f838e"
   },
   "source": [
    "**Задание 1. Импортируйте библиотеку pandas. Считайте данные из csv-файла в датафрейм и сохраните в переменную `data`. Путь к файлу:**\n",
    "\n",
    "`/datasets/data.csv`"
   ]
  },
  {
   "cell_type": "code",
   "execution_count": 1,
   "id": "77a68a90",
   "metadata": {
    "deletable": false,
    "id": "77a68a90"
   },
   "outputs": [],
   "source": [
    "import pandas as pd\n",
    "import seaborn as sns\n",
    "\n",
    "\n",
    "data = pd.read_csv('/datasets/data.csv')"
   ]
  },
  {
   "cell_type": "markdown",
   "id": "45365635",
   "metadata": {
    "deletable": false,
    "editable": false,
    "id": "45365635"
   },
   "source": [
    "**Задание 2. Выведите первые 20 строчек датафрейма `data` на экран.**"
   ]
  },
  {
   "cell_type": "code",
   "execution_count": 2,
   "id": "b0451a9a",
   "metadata": {
    "deletable": false,
    "id": "b0451a9a",
    "outputId": "1a8f3ef2-d323-4ec2-ddf7-89670b5944c4"
   },
   "outputs": [
    {
     "data": {
      "text/html": [
       "<div>\n",
       "<style scoped>\n",
       "    .dataframe tbody tr th:only-of-type {\n",
       "        vertical-align: middle;\n",
       "    }\n",
       "\n",
       "    .dataframe tbody tr th {\n",
       "        vertical-align: top;\n",
       "    }\n",
       "\n",
       "    .dataframe thead th {\n",
       "        text-align: right;\n",
       "    }\n",
       "</style>\n",
       "<table border=\"1\" class=\"dataframe\">\n",
       "  <thead>\n",
       "    <tr style=\"text-align: right;\">\n",
       "      <th></th>\n",
       "      <th>children</th>\n",
       "      <th>days_employed</th>\n",
       "      <th>dob_years</th>\n",
       "      <th>education</th>\n",
       "      <th>education_id</th>\n",
       "      <th>family_status</th>\n",
       "      <th>family_status_id</th>\n",
       "      <th>gender</th>\n",
       "      <th>income_type</th>\n",
       "      <th>debt</th>\n",
       "      <th>total_income</th>\n",
       "      <th>purpose</th>\n",
       "    </tr>\n",
       "  </thead>\n",
       "  <tbody>\n",
       "    <tr>\n",
       "      <th>0</th>\n",
       "      <td>1</td>\n",
       "      <td>-8437.673028</td>\n",
       "      <td>42</td>\n",
       "      <td>высшее</td>\n",
       "      <td>0</td>\n",
       "      <td>женат / замужем</td>\n",
       "      <td>0</td>\n",
       "      <td>F</td>\n",
       "      <td>сотрудник</td>\n",
       "      <td>0</td>\n",
       "      <td>253875.639453</td>\n",
       "      <td>покупка жилья</td>\n",
       "    </tr>\n",
       "    <tr>\n",
       "      <th>1</th>\n",
       "      <td>1</td>\n",
       "      <td>-4024.803754</td>\n",
       "      <td>36</td>\n",
       "      <td>среднее</td>\n",
       "      <td>1</td>\n",
       "      <td>женат / замужем</td>\n",
       "      <td>0</td>\n",
       "      <td>F</td>\n",
       "      <td>сотрудник</td>\n",
       "      <td>0</td>\n",
       "      <td>112080.014102</td>\n",
       "      <td>приобретение автомобиля</td>\n",
       "    </tr>\n",
       "    <tr>\n",
       "      <th>2</th>\n",
       "      <td>0</td>\n",
       "      <td>-5623.422610</td>\n",
       "      <td>33</td>\n",
       "      <td>Среднее</td>\n",
       "      <td>1</td>\n",
       "      <td>женат / замужем</td>\n",
       "      <td>0</td>\n",
       "      <td>M</td>\n",
       "      <td>сотрудник</td>\n",
       "      <td>0</td>\n",
       "      <td>145885.952297</td>\n",
       "      <td>покупка жилья</td>\n",
       "    </tr>\n",
       "    <tr>\n",
       "      <th>3</th>\n",
       "      <td>3</td>\n",
       "      <td>-4124.747207</td>\n",
       "      <td>32</td>\n",
       "      <td>среднее</td>\n",
       "      <td>1</td>\n",
       "      <td>женат / замужем</td>\n",
       "      <td>0</td>\n",
       "      <td>M</td>\n",
       "      <td>сотрудник</td>\n",
       "      <td>0</td>\n",
       "      <td>267628.550329</td>\n",
       "      <td>дополнительное образование</td>\n",
       "    </tr>\n",
       "    <tr>\n",
       "      <th>4</th>\n",
       "      <td>0</td>\n",
       "      <td>340266.072047</td>\n",
       "      <td>53</td>\n",
       "      <td>среднее</td>\n",
       "      <td>1</td>\n",
       "      <td>гражданский брак</td>\n",
       "      <td>1</td>\n",
       "      <td>F</td>\n",
       "      <td>пенсионер</td>\n",
       "      <td>0</td>\n",
       "      <td>158616.077870</td>\n",
       "      <td>сыграть свадьбу</td>\n",
       "    </tr>\n",
       "    <tr>\n",
       "      <th>5</th>\n",
       "      <td>0</td>\n",
       "      <td>-926.185831</td>\n",
       "      <td>27</td>\n",
       "      <td>высшее</td>\n",
       "      <td>0</td>\n",
       "      <td>гражданский брак</td>\n",
       "      <td>1</td>\n",
       "      <td>M</td>\n",
       "      <td>компаньон</td>\n",
       "      <td>0</td>\n",
       "      <td>255763.565419</td>\n",
       "      <td>покупка жилья</td>\n",
       "    </tr>\n",
       "    <tr>\n",
       "      <th>6</th>\n",
       "      <td>0</td>\n",
       "      <td>-2879.202052</td>\n",
       "      <td>43</td>\n",
       "      <td>высшее</td>\n",
       "      <td>0</td>\n",
       "      <td>женат / замужем</td>\n",
       "      <td>0</td>\n",
       "      <td>F</td>\n",
       "      <td>компаньон</td>\n",
       "      <td>0</td>\n",
       "      <td>240525.971920</td>\n",
       "      <td>операции с жильем</td>\n",
       "    </tr>\n",
       "    <tr>\n",
       "      <th>7</th>\n",
       "      <td>0</td>\n",
       "      <td>-152.779569</td>\n",
       "      <td>50</td>\n",
       "      <td>СРЕДНЕЕ</td>\n",
       "      <td>1</td>\n",
       "      <td>женат / замужем</td>\n",
       "      <td>0</td>\n",
       "      <td>M</td>\n",
       "      <td>сотрудник</td>\n",
       "      <td>0</td>\n",
       "      <td>135823.934197</td>\n",
       "      <td>образование</td>\n",
       "    </tr>\n",
       "    <tr>\n",
       "      <th>8</th>\n",
       "      <td>2</td>\n",
       "      <td>-6929.865299</td>\n",
       "      <td>35</td>\n",
       "      <td>ВЫСШЕЕ</td>\n",
       "      <td>0</td>\n",
       "      <td>гражданский брак</td>\n",
       "      <td>1</td>\n",
       "      <td>F</td>\n",
       "      <td>сотрудник</td>\n",
       "      <td>0</td>\n",
       "      <td>95856.832424</td>\n",
       "      <td>на проведение свадьбы</td>\n",
       "    </tr>\n",
       "    <tr>\n",
       "      <th>9</th>\n",
       "      <td>0</td>\n",
       "      <td>-2188.756445</td>\n",
       "      <td>41</td>\n",
       "      <td>среднее</td>\n",
       "      <td>1</td>\n",
       "      <td>женат / замужем</td>\n",
       "      <td>0</td>\n",
       "      <td>M</td>\n",
       "      <td>сотрудник</td>\n",
       "      <td>0</td>\n",
       "      <td>144425.938277</td>\n",
       "      <td>покупка жилья для семьи</td>\n",
       "    </tr>\n",
       "    <tr>\n",
       "      <th>10</th>\n",
       "      <td>2</td>\n",
       "      <td>-4171.483647</td>\n",
       "      <td>36</td>\n",
       "      <td>высшее</td>\n",
       "      <td>0</td>\n",
       "      <td>женат / замужем</td>\n",
       "      <td>0</td>\n",
       "      <td>M</td>\n",
       "      <td>компаньон</td>\n",
       "      <td>0</td>\n",
       "      <td>113943.491460</td>\n",
       "      <td>покупка недвижимости</td>\n",
       "    </tr>\n",
       "    <tr>\n",
       "      <th>11</th>\n",
       "      <td>0</td>\n",
       "      <td>-792.701887</td>\n",
       "      <td>40</td>\n",
       "      <td>среднее</td>\n",
       "      <td>1</td>\n",
       "      <td>женат / замужем</td>\n",
       "      <td>0</td>\n",
       "      <td>F</td>\n",
       "      <td>сотрудник</td>\n",
       "      <td>0</td>\n",
       "      <td>77069.234271</td>\n",
       "      <td>покупка коммерческой недвижимости</td>\n",
       "    </tr>\n",
       "    <tr>\n",
       "      <th>12</th>\n",
       "      <td>0</td>\n",
       "      <td>NaN</td>\n",
       "      <td>65</td>\n",
       "      <td>среднее</td>\n",
       "      <td>1</td>\n",
       "      <td>гражданский брак</td>\n",
       "      <td>1</td>\n",
       "      <td>M</td>\n",
       "      <td>пенсионер</td>\n",
       "      <td>0</td>\n",
       "      <td>NaN</td>\n",
       "      <td>сыграть свадьбу</td>\n",
       "    </tr>\n",
       "    <tr>\n",
       "      <th>13</th>\n",
       "      <td>0</td>\n",
       "      <td>-1846.641941</td>\n",
       "      <td>54</td>\n",
       "      <td>неоконченное высшее</td>\n",
       "      <td>2</td>\n",
       "      <td>женат / замужем</td>\n",
       "      <td>0</td>\n",
       "      <td>F</td>\n",
       "      <td>сотрудник</td>\n",
       "      <td>0</td>\n",
       "      <td>130458.228857</td>\n",
       "      <td>приобретение автомобиля</td>\n",
       "    </tr>\n",
       "    <tr>\n",
       "      <th>14</th>\n",
       "      <td>0</td>\n",
       "      <td>-1844.956182</td>\n",
       "      <td>56</td>\n",
       "      <td>высшее</td>\n",
       "      <td>0</td>\n",
       "      <td>гражданский брак</td>\n",
       "      <td>1</td>\n",
       "      <td>F</td>\n",
       "      <td>компаньон</td>\n",
       "      <td>1</td>\n",
       "      <td>165127.911772</td>\n",
       "      <td>покупка жилой недвижимости</td>\n",
       "    </tr>\n",
       "    <tr>\n",
       "      <th>15</th>\n",
       "      <td>1</td>\n",
       "      <td>-972.364419</td>\n",
       "      <td>26</td>\n",
       "      <td>среднее</td>\n",
       "      <td>1</td>\n",
       "      <td>женат / замужем</td>\n",
       "      <td>0</td>\n",
       "      <td>F</td>\n",
       "      <td>сотрудник</td>\n",
       "      <td>0</td>\n",
       "      <td>116820.904450</td>\n",
       "      <td>строительство собственной недвижимости</td>\n",
       "    </tr>\n",
       "    <tr>\n",
       "      <th>16</th>\n",
       "      <td>0</td>\n",
       "      <td>-1719.934226</td>\n",
       "      <td>35</td>\n",
       "      <td>среднее</td>\n",
       "      <td>1</td>\n",
       "      <td>женат / замужем</td>\n",
       "      <td>0</td>\n",
       "      <td>F</td>\n",
       "      <td>сотрудник</td>\n",
       "      <td>0</td>\n",
       "      <td>289202.704229</td>\n",
       "      <td>недвижимость</td>\n",
       "    </tr>\n",
       "    <tr>\n",
       "      <th>17</th>\n",
       "      <td>0</td>\n",
       "      <td>-2369.999720</td>\n",
       "      <td>33</td>\n",
       "      <td>высшее</td>\n",
       "      <td>0</td>\n",
       "      <td>гражданский брак</td>\n",
       "      <td>1</td>\n",
       "      <td>M</td>\n",
       "      <td>сотрудник</td>\n",
       "      <td>0</td>\n",
       "      <td>90410.586745</td>\n",
       "      <td>строительство недвижимости</td>\n",
       "    </tr>\n",
       "    <tr>\n",
       "      <th>18</th>\n",
       "      <td>0</td>\n",
       "      <td>400281.136913</td>\n",
       "      <td>53</td>\n",
       "      <td>среднее</td>\n",
       "      <td>1</td>\n",
       "      <td>вдовец / вдова</td>\n",
       "      <td>2</td>\n",
       "      <td>F</td>\n",
       "      <td>пенсионер</td>\n",
       "      <td>0</td>\n",
       "      <td>56823.777243</td>\n",
       "      <td>на покупку подержанного автомобиля</td>\n",
       "    </tr>\n",
       "    <tr>\n",
       "      <th>19</th>\n",
       "      <td>0</td>\n",
       "      <td>-10038.818549</td>\n",
       "      <td>48</td>\n",
       "      <td>СРЕДНЕЕ</td>\n",
       "      <td>1</td>\n",
       "      <td>в разводе</td>\n",
       "      <td>3</td>\n",
       "      <td>F</td>\n",
       "      <td>сотрудник</td>\n",
       "      <td>0</td>\n",
       "      <td>242831.107982</td>\n",
       "      <td>на покупку своего автомобиля</td>\n",
       "    </tr>\n",
       "  </tbody>\n",
       "</table>\n",
       "</div>"
      ],
      "text/plain": [
       "    children  days_employed  dob_years            education  education_id  \\\n",
       "0          1   -8437.673028         42               высшее             0   \n",
       "1          1   -4024.803754         36              среднее             1   \n",
       "2          0   -5623.422610         33              Среднее             1   \n",
       "3          3   -4124.747207         32              среднее             1   \n",
       "4          0  340266.072047         53              среднее             1   \n",
       "5          0    -926.185831         27               высшее             0   \n",
       "6          0   -2879.202052         43               высшее             0   \n",
       "7          0    -152.779569         50              СРЕДНЕЕ             1   \n",
       "8          2   -6929.865299         35               ВЫСШЕЕ             0   \n",
       "9          0   -2188.756445         41              среднее             1   \n",
       "10         2   -4171.483647         36               высшее             0   \n",
       "11         0    -792.701887         40              среднее             1   \n",
       "12         0            NaN         65              среднее             1   \n",
       "13         0   -1846.641941         54  неоконченное высшее             2   \n",
       "14         0   -1844.956182         56               высшее             0   \n",
       "15         1    -972.364419         26              среднее             1   \n",
       "16         0   -1719.934226         35              среднее             1   \n",
       "17         0   -2369.999720         33               высшее             0   \n",
       "18         0  400281.136913         53              среднее             1   \n",
       "19         0  -10038.818549         48              СРЕДНЕЕ             1   \n",
       "\n",
       "       family_status  family_status_id gender income_type  debt  \\\n",
       "0    женат / замужем                 0      F   сотрудник     0   \n",
       "1    женат / замужем                 0      F   сотрудник     0   \n",
       "2    женат / замужем                 0      M   сотрудник     0   \n",
       "3    женат / замужем                 0      M   сотрудник     0   \n",
       "4   гражданский брак                 1      F   пенсионер     0   \n",
       "5   гражданский брак                 1      M   компаньон     0   \n",
       "6    женат / замужем                 0      F   компаньон     0   \n",
       "7    женат / замужем                 0      M   сотрудник     0   \n",
       "8   гражданский брак                 1      F   сотрудник     0   \n",
       "9    женат / замужем                 0      M   сотрудник     0   \n",
       "10   женат / замужем                 0      M   компаньон     0   \n",
       "11   женат / замужем                 0      F   сотрудник     0   \n",
       "12  гражданский брак                 1      M   пенсионер     0   \n",
       "13   женат / замужем                 0      F   сотрудник     0   \n",
       "14  гражданский брак                 1      F   компаньон     1   \n",
       "15   женат / замужем                 0      F   сотрудник     0   \n",
       "16   женат / замужем                 0      F   сотрудник     0   \n",
       "17  гражданский брак                 1      M   сотрудник     0   \n",
       "18    вдовец / вдова                 2      F   пенсионер     0   \n",
       "19         в разводе                 3      F   сотрудник     0   \n",
       "\n",
       "     total_income                                 purpose  \n",
       "0   253875.639453                           покупка жилья  \n",
       "1   112080.014102                 приобретение автомобиля  \n",
       "2   145885.952297                           покупка жилья  \n",
       "3   267628.550329              дополнительное образование  \n",
       "4   158616.077870                         сыграть свадьбу  \n",
       "5   255763.565419                           покупка жилья  \n",
       "6   240525.971920                       операции с жильем  \n",
       "7   135823.934197                             образование  \n",
       "8    95856.832424                   на проведение свадьбы  \n",
       "9   144425.938277                 покупка жилья для семьи  \n",
       "10  113943.491460                    покупка недвижимости  \n",
       "11   77069.234271       покупка коммерческой недвижимости  \n",
       "12            NaN                         сыграть свадьбу  \n",
       "13  130458.228857                 приобретение автомобиля  \n",
       "14  165127.911772              покупка жилой недвижимости  \n",
       "15  116820.904450  строительство собственной недвижимости  \n",
       "16  289202.704229                            недвижимость  \n",
       "17   90410.586745              строительство недвижимости  \n",
       "18   56823.777243      на покупку подержанного автомобиля  \n",
       "19  242831.107982            на покупку своего автомобиля  "
      ]
     },
     "execution_count": 2,
     "metadata": {},
     "output_type": "execute_result"
    }
   ],
   "source": [
    "data.head(20)"
   ]
  },
  {
   "cell_type": "markdown",
   "id": "0ed8f27f",
   "metadata": {
    "deletable": false,
    "editable": false,
    "id": "0ed8f27f"
   },
   "source": [
    "**Задание 3. Выведите основную информацию о датафрейме с помощью метода `info()`.**"
   ]
  },
  {
   "cell_type": "code",
   "execution_count": 3,
   "id": "ab3f863b",
   "metadata": {
    "deletable": false,
    "id": "ab3f863b",
    "outputId": "15376089-8dad-46c9-b520-c05248d43158"
   },
   "outputs": [
    {
     "name": "stdout",
     "output_type": "stream",
     "text": [
      "<class 'pandas.core.frame.DataFrame'>\n",
      "RangeIndex: 21525 entries, 0 to 21524\n",
      "Data columns (total 12 columns):\n",
      " #   Column            Non-Null Count  Dtype  \n",
      "---  ------            --------------  -----  \n",
      " 0   children          21525 non-null  int64  \n",
      " 1   days_employed     19351 non-null  float64\n",
      " 2   dob_years         21525 non-null  int64  \n",
      " 3   education         21525 non-null  object \n",
      " 4   education_id      21525 non-null  int64  \n",
      " 5   family_status     21525 non-null  object \n",
      " 6   family_status_id  21525 non-null  int64  \n",
      " 7   gender            21525 non-null  object \n",
      " 8   income_type       21525 non-null  object \n",
      " 9   debt              21525 non-null  int64  \n",
      " 10  total_income      19351 non-null  float64\n",
      " 11  purpose           21525 non-null  object \n",
      "dtypes: float64(2), int64(5), object(5)\n",
      "memory usage: 2.0+ MB\n"
     ]
    }
   ],
   "source": [
    "data.info()"
   ]
  },
  {
   "cell_type": "markdown",
   "id": "60e3e22d",
   "metadata": {
    "deletable": false,
    "editable": false,
    "id": "60e3e22d"
   },
   "source": [
    "## Предобработка данных"
   ]
  },
  {
   "cell_type": "markdown",
   "id": "03dc170c",
   "metadata": {
    "deletable": false,
    "editable": false,
    "id": "03dc170c"
   },
   "source": [
    "### Удаление пропусков"
   ]
  },
  {
   "cell_type": "markdown",
   "id": "a4f54eef",
   "metadata": {
    "deletable": false,
    "editable": false,
    "id": "a4f54eef"
   },
   "source": [
    "**Задание 4. Выведите количество пропущенных значений для каждого столбца. Используйте комбинацию двух методов.**"
   ]
  },
  {
   "cell_type": "code",
   "execution_count": 4,
   "id": "2dc372b2",
   "metadata": {
    "deletable": false,
    "id": "2dc372b2",
    "outputId": "81f4d817-781c-465c-ed15-91ce4446810d"
   },
   "outputs": [
    {
     "data": {
      "text/plain": [
       "children               0\n",
       "days_employed       2174\n",
       "dob_years              0\n",
       "education              0\n",
       "education_id           0\n",
       "family_status          0\n",
       "family_status_id       0\n",
       "gender                 0\n",
       "income_type            0\n",
       "debt                   0\n",
       "total_income        2174\n",
       "purpose                0\n",
       "dtype: int64"
      ]
     },
     "execution_count": 4,
     "metadata": {},
     "output_type": "execute_result"
    }
   ],
   "source": [
    "data.isna().sum()"
   ]
  },
  {
   "cell_type": "markdown",
   "id": "14f011b1",
   "metadata": {
    "deletable": false,
    "editable": false,
    "id": "14f011b1"
   },
   "source": [
    "**Задание 5. В двух столбцах есть пропущенные значения. Один из них — `days_employed`. Пропуски в этом столбце вы обработаете на следующем этапе. Другой столбец с пропущенными значениями — `total_income` — хранит данные о доходах. На сумму дохода сильнее всего влияет тип занятости, поэтому заполнить пропуски в этом столбце нужно медианным значением по каждому типу из столбца `income_type`. Например, у человека с типом занятости `сотрудник` пропуск в столбце `total_income` должен быть заполнен медианным доходом среди всех записей с тем же типом.**"
   ]
  },
  {
   "cell_type": "code",
   "execution_count": 5,
   "id": "bdabfb6e",
   "metadata": {
    "deletable": false,
    "id": "bdabfb6e"
   },
   "outputs": [],
   "source": [
    "for t in data['income_type'].unique():\n",
    "    data.loc[(data['income_type'] == t) & (data['total_income'].isna()), 'total_income'] = \\\n",
    "    data.loc[(data['income_type'] == t), 'total_income'].median()"
   ]
  },
  {
   "cell_type": "markdown",
   "id": "5be34059",
   "metadata": {
    "deletable": false,
    "editable": false,
    "id": "5be34059"
   },
   "source": [
    "### Обработка аномальных значений"
   ]
  },
  {
   "cell_type": "markdown",
   "id": "a87606cb",
   "metadata": {
    "deletable": false,
    "editable": false,
    "id": "a87606cb"
   },
   "source": [
    "**Задание 6. В данных могут встречаться артефакты (аномалии) — значения, которые не отражают действительность и появились по какой-то ошибке. таким артефактом будет отрицательное количество дней трудового стажа в столбце `days_employed`. Для реальных данных это нормально. Обработайте значения в этом столбце: замените все отрицательные значения положительными с помощью метода `abs()`.**"
   ]
  },
  {
   "cell_type": "code",
   "execution_count": 6,
   "id": "020c46cc",
   "metadata": {
    "deletable": false,
    "id": "020c46cc"
   },
   "outputs": [],
   "source": [
    "data['days_employed'] = data['days_employed'].abs()"
   ]
  },
  {
   "cell_type": "markdown",
   "id": "45538a3a",
   "metadata": {
    "deletable": false,
    "editable": false,
    "id": "45538a3a"
   },
   "source": [
    "**Задание 7. Для каждого типа занятости выведите медианное значение трудового стажа `days_employed` в днях.**"
   ]
  },
  {
   "cell_type": "code",
   "execution_count": 7,
   "id": "cd3e6328",
   "metadata": {
    "deletable": false,
    "id": "cd3e6328",
    "outputId": "801ef80e-522b-4668-f34e-565af7432bcf"
   },
   "outputs": [
    {
     "data": {
      "text/plain": [
       "income_type\n",
       "безработный        366413.652744\n",
       "в декрете            3296.759962\n",
       "госслужащий          2689.368353\n",
       "компаньон            1547.382223\n",
       "пенсионер          365213.306266\n",
       "предприниматель       520.848083\n",
       "сотрудник            1574.202821\n",
       "студент               578.751554\n",
       "Name: days_employed, dtype: float64"
      ]
     },
     "execution_count": 7,
     "metadata": {},
     "output_type": "execute_result"
    }
   ],
   "source": [
    "data.groupby('income_type')['days_employed'].agg('median')"
   ]
  },
  {
   "cell_type": "markdown",
   "id": "90c5f058",
   "metadata": {
    "deletable": false,
    "editable": false,
    "id": "90c5f058"
   },
   "source": [
    "У двух типов (безработные и пенсионеры) получатся аномально большие значения. Исправить такие значения сложно, поэтому оставьте их как есть."
   ]
  },
  {
   "cell_type": "markdown",
   "id": "9652e50d",
   "metadata": {
    "deletable": false,
    "editable": false,
    "id": "9652e50d"
   },
   "source": [
    "**Задание 8. Выведите перечень уникальных значений столбца `children`.**"
   ]
  },
  {
   "cell_type": "code",
   "execution_count": 8,
   "id": "dbb37b8e",
   "metadata": {
    "deletable": false,
    "id": "dbb37b8e",
    "outputId": "6975b15c-7f95-4697-d16d-a0c79b657b03"
   },
   "outputs": [
    {
     "data": {
      "text/plain": [
       "array([ 1,  0,  3,  2, -1,  4, 20,  5])"
      ]
     },
     "execution_count": 8,
     "metadata": {},
     "output_type": "execute_result"
    }
   ],
   "source": [
    "data['children'].unique()"
   ]
  },
  {
   "cell_type": "markdown",
   "id": "2b8b0715",
   "metadata": {
    "deletable": false,
    "editable": false,
    "id": "2b8b0715"
   },
   "source": [
    "**Задание 9. В столбце `children` есть два аномальных значения. Удалите строки, в которых встречаются такие аномальные значения из датафрейма `data`.**"
   ]
  },
  {
   "cell_type": "code",
   "execution_count": 9,
   "id": "20009df8",
   "metadata": {
    "deletable": false,
    "id": "20009df8"
   },
   "outputs": [],
   "source": [
    "data = data[(data['children'] != -1) & (data['children'] != 20)]"
   ]
  },
  {
   "cell_type": "markdown",
   "id": "8c6ac9f1",
   "metadata": {
    "deletable": false,
    "editable": false,
    "id": "8c6ac9f1"
   },
   "source": [
    "**Задание 10. Ещё раз выведите перечень уникальных значений столбца `children`, чтобы убедиться, что артефакты удалены.**"
   ]
  },
  {
   "cell_type": "code",
   "execution_count": 10,
   "id": "07337b81",
   "metadata": {
    "deletable": false,
    "id": "07337b81",
    "outputId": "b2097101-d49d-44d9-901b-32a65c9463d1"
   },
   "outputs": [
    {
     "data": {
      "text/plain": [
       "array([1, 0, 3, 2, 4, 5])"
      ]
     },
     "execution_count": 10,
     "metadata": {},
     "output_type": "execute_result"
    }
   ],
   "source": [
    "data['children'].unique()"
   ]
  },
  {
   "cell_type": "markdown",
   "id": "ee3f52d4",
   "metadata": {
    "deletable": false,
    "editable": false,
    "id": "ee3f52d4"
   },
   "source": [
    "### Удаление пропусков (продолжение)"
   ]
  },
  {
   "cell_type": "markdown",
   "id": "a700b0e4",
   "metadata": {
    "deletable": false,
    "editable": false,
    "id": "a700b0e4"
   },
   "source": [
    "**Задание 11. Заполните пропуски в столбце `days_employed` медианными значениями по каждого типа занятости `income_type`.**"
   ]
  },
  {
   "cell_type": "code",
   "execution_count": 11,
   "id": "61946b83",
   "metadata": {
    "deletable": false,
    "id": "61946b83"
   },
   "outputs": [],
   "source": [
    "for t in data['income_type'].unique():\n",
    "    data.loc[(data['income_type'] == t) & (data['days_employed'].isna()), 'days_employed'] = \\\n",
    "    data.loc[(data['income_type'] == t), 'days_employed'].median()"
   ]
  },
  {
   "cell_type": "markdown",
   "id": "550dcd9b",
   "metadata": {
    "deletable": false,
    "editable": false,
    "id": "550dcd9b"
   },
   "source": [
    "**Задание 12. Убедитесь, что все пропуски заполнены. Проверьте себя и ещё раз выведите количество пропущенных значений для каждого столбца с помощью двух методов.**"
   ]
  },
  {
   "cell_type": "code",
   "execution_count": 12,
   "id": "937c7014",
   "metadata": {
    "deletable": false,
    "id": "937c7014",
    "outputId": "8da1e4e1-358e-4e87-98c9-f261bce0a7b2"
   },
   "outputs": [
    {
     "data": {
      "text/plain": [
       "children            0\n",
       "days_employed       0\n",
       "dob_years           0\n",
       "education           0\n",
       "education_id        0\n",
       "family_status       0\n",
       "family_status_id    0\n",
       "gender              0\n",
       "income_type         0\n",
       "debt                0\n",
       "total_income        0\n",
       "purpose             0\n",
       "dtype: int64"
      ]
     },
     "execution_count": 12,
     "metadata": {},
     "output_type": "execute_result"
    }
   ],
   "source": [
    "data.isna().sum()"
   ]
  },
  {
   "cell_type": "markdown",
   "id": "d522e295",
   "metadata": {
    "deletable": false,
    "editable": false,
    "id": "d522e295"
   },
   "source": [
    "### Изменение типов данных"
   ]
  },
  {
   "cell_type": "markdown",
   "id": "c229c581",
   "metadata": {
    "deletable": false,
    "editable": false,
    "id": "c229c581"
   },
   "source": [
    "**Задание 13. Замените вещественный тип данных в столбце `total_income` на целочисленный с помощью метода `astype()`.**"
   ]
  },
  {
   "cell_type": "code",
   "execution_count": 13,
   "id": "31036462",
   "metadata": {
    "deletable": false,
    "id": "31036462"
   },
   "outputs": [],
   "source": [
    "data['total_income'] = data['total_income'].astype(int)"
   ]
  },
  {
   "cell_type": "markdown",
   "id": "b8e3d1d9",
   "metadata": {
    "deletable": false,
    "editable": false,
    "id": "b8e3d1d9"
   },
   "source": [
    "### Обработка дубликатов"
   ]
  },
  {
   "cell_type": "markdown",
   "id": "9be53c49",
   "metadata": {
    "deletable": false,
    "editable": false,
    "id": "9be53c49"
   },
   "source": [
    "**Задание 14. Обработайте неявные дубликаты в столбце `education`. В этом столбце есть одни и те же значения, но записанные по-разному: с использованием заглавных и строчных букв. Приведите их к нижнему регистру.**"
   ]
  },
  {
   "cell_type": "code",
   "execution_count": 14,
   "id": "d89e73e1",
   "metadata": {
    "deletable": false,
    "id": "d89e73e1"
   },
   "outputs": [],
   "source": [
    "data['education'] = data['education'].str.lower()"
   ]
  },
  {
   "cell_type": "markdown",
   "id": "01d4500e",
   "metadata": {
    "deletable": false,
    "editable": false,
    "id": "01d4500e"
   },
   "source": [
    "**Задание 15. Выведите на экран количество строк-дубликатов в данных. Если такие строки присутствуют, удалите их.**"
   ]
  },
  {
   "cell_type": "code",
   "execution_count": 15,
   "id": "e10efb23",
   "metadata": {
    "deletable": false,
    "id": "e10efb23",
    "outputId": "9684deba-1934-42d1-99e1-cda61740f822"
   },
   "outputs": [
    {
     "data": {
      "text/plain": [
       "71"
      ]
     },
     "execution_count": 15,
     "metadata": {},
     "output_type": "execute_result"
    }
   ],
   "source": [
    "data.duplicated().sum()"
   ]
  },
  {
   "cell_type": "code",
   "execution_count": 16,
   "id": "df853f20",
   "metadata": {
    "deletable": false,
    "id": "df853f20"
   },
   "outputs": [],
   "source": [
    "data = data.drop_duplicates()"
   ]
  },
  {
   "cell_type": "markdown",
   "id": "627be38f",
   "metadata": {
    "deletable": false,
    "editable": false,
    "id": "627be38f"
   },
   "source": [
    "### Категоризация данных"
   ]
  },
  {
   "cell_type": "markdown",
   "id": "4684c3e0",
   "metadata": {
    "deletable": false,
    "editable": false,
    "id": "4684c3e0"
   },
   "source": [
    "**Задание 16. На основании диапазонов, указанных ниже, создайте в датафрейме `data` столбец `total_income_category` с категориями:**\n",
    "\n",
    "- 0–30000 — `'E'`;\n",
    "- 30001–50000 — `'D'`;\n",
    "- 50001–200000 — `'C'`;\n",
    "- 200001–1000000 — `'B'`;\n",
    "- 1000001 и выше — `'A'`.\n",
    "\n",
    "\n",
    "**Например, кредитополучателю с доходом 25000 нужно назначить категорию `'E'`, а клиенту, получающему 235000, — `'B'`. Используйте собственную функцию с именем `categorize_income()` и метод `apply()`.**"
   ]
  },
  {
   "cell_type": "code",
   "execution_count": 17,
   "id": "78965238",
   "metadata": {
    "deletable": false,
    "id": "78965238"
   },
   "outputs": [],
   "source": [
    "def categorize_income(income):\n",
    "    try:\n",
    "        if 0 <= income <= 30000:\n",
    "            return 'E'\n",
    "        elif 30001 <= income <= 50000:\n",
    "            return 'D'\n",
    "        elif 50001 <= income <= 200000:\n",
    "            return 'C'\n",
    "        elif 200001 <= income <= 1000000:\n",
    "            return 'B'\n",
    "        elif income >= 1000001:\n",
    "            return 'A'\n",
    "    except:\n",
    "        pass"
   ]
  },
  {
   "cell_type": "code",
   "execution_count": 18,
   "id": "0980ada1",
   "metadata": {
    "deletable": false,
    "id": "0980ada1"
   },
   "outputs": [],
   "source": [
    "data['total_income_category'] = data['total_income'].apply(categorize_income)"
   ]
  },
  {
   "cell_type": "markdown",
   "id": "9917bba0",
   "metadata": {
    "deletable": false,
    "editable": false,
    "id": "9917bba0"
   },
   "source": [
    "**Задание 17. Выведите на экран перечень уникальных целей взятия кредита из столбца `purpose`.**"
   ]
  },
  {
   "cell_type": "code",
   "execution_count": 19,
   "id": "ee07b65e",
   "metadata": {
    "deletable": false,
    "id": "ee07b65e",
    "outputId": "673c12d9-7d7e-4ae0-9812-c622c89dd244"
   },
   "outputs": [
    {
     "data": {
      "text/plain": [
       "array(['покупка жилья', 'приобретение автомобиля',\n",
       "       'дополнительное образование', 'сыграть свадьбу',\n",
       "       'операции с жильем', 'образование', 'на проведение свадьбы',\n",
       "       'покупка жилья для семьи', 'покупка недвижимости',\n",
       "       'покупка коммерческой недвижимости', 'покупка жилой недвижимости',\n",
       "       'строительство собственной недвижимости', 'недвижимость',\n",
       "       'строительство недвижимости', 'на покупку подержанного автомобиля',\n",
       "       'на покупку своего автомобиля',\n",
       "       'операции с коммерческой недвижимостью',\n",
       "       'строительство жилой недвижимости', 'жилье',\n",
       "       'операции со своей недвижимостью', 'автомобили',\n",
       "       'заняться образованием', 'сделка с подержанным автомобилем',\n",
       "       'получение образования', 'автомобиль', 'свадьба',\n",
       "       'получение дополнительного образования', 'покупка своего жилья',\n",
       "       'операции с недвижимостью', 'получение высшего образования',\n",
       "       'свой автомобиль', 'сделка с автомобилем',\n",
       "       'профильное образование', 'высшее образование',\n",
       "       'покупка жилья для сдачи', 'на покупку автомобиля', 'ремонт жилью',\n",
       "       'заняться высшим образованием'], dtype=object)"
      ]
     },
     "execution_count": 19,
     "metadata": {},
     "output_type": "execute_result"
    }
   ],
   "source": [
    "data['purpose'].unique()"
   ]
  },
  {
   "cell_type": "markdown",
   "id": "52b79d56",
   "metadata": {
    "deletable": false,
    "editable": false,
    "id": "52b79d56"
   },
   "source": [
    "**Задание 18. Создайте функцию, которая на основании данных из столбца `purpose` сформирует новый столбец `purpose_category`, в который войдут следующие категории:**\n",
    "\n",
    "- `'операции с автомобилем'`,\n",
    "- `'операции с недвижимостью'`,\n",
    "- `'проведение свадьбы'`,\n",
    "- `'получение образования'`.\n",
    "\n",
    "**Например, если в столбце `purpose` находится подстрока `'на покупку автомобиля'`, то в столбце `purpose_category` должна появиться строка `'операции с автомобилем'`.**\n",
    "\n",
    "**Используйте собственную функцию с именем `categorize_purpose()` и метод `apply()`. Изучите данные в столбце `purpose` и определите, какие подстроки помогут вам правильно определить категорию.**"
   ]
  },
  {
   "cell_type": "code",
   "execution_count": 20,
   "id": "be41da5d",
   "metadata": {
    "deletable": false,
    "id": "be41da5d"
   },
   "outputs": [],
   "source": [
    "def categorize_purpose(row):\n",
    "    try:\n",
    "        if 'автом' in row:\n",
    "            return 'операции с автомобилем'\n",
    "        elif 'жил' in row or 'недвиж' in row:\n",
    "            return 'операции с недвижимостью'\n",
    "        elif 'свад' in row:\n",
    "            return 'проведение свадьбы'\n",
    "        elif 'образов' in row:\n",
    "            return 'получение образования'\n",
    "    except:\n",
    "        return 'нет категории'"
   ]
  },
  {
   "cell_type": "code",
   "execution_count": 21,
   "id": "94c4a19a",
   "metadata": {
    "deletable": false,
    "id": "94c4a19a"
   },
   "outputs": [],
   "source": [
    "data['purpose_category'] = data['purpose'].apply(categorize_purpose)"
   ]
  },
  {
   "cell_type": "markdown",
   "id": "3d596c34",
   "metadata": {
    "deletable": false,
    "editable": false,
    "id": "3d596c34"
   },
   "source": [
    "### Шаг 3. Исследуйте данные и ответьте на вопросы"
   ]
  },
  {
   "cell_type": "markdown",
   "id": "cbe3917c",
   "metadata": {},
   "source": [
    "<a id='step_3'></a>"
   ]
  },
  {
   "cell_type": "markdown",
   "id": "648db036",
   "metadata": {
    "deletable": false,
    "editable": false,
    "id": "648db036"
   },
   "source": [
    "#### 3.1 Есть ли зависимость между количеством детей и возвратом кредита в срок?"
   ]
  },
  {
   "cell_type": "markdown",
   "id": "a1f2c0f7",
   "metadata": {
    "deletable": false,
    "id": "7fcff25e"
   },
   "source": [
    "В задании будут использоваться однотипные операции для анализа данных, поэтому я сделаю функцию, которая составляет таблицу с данными для анализа и буду ее использовать в дальнейших шагах. Функция будет получать на вход датафрейм и категорию для анализа, на выход будет возвращать массив данных для анализа:\n",
    "\n",
    "* группа, по которой ведем анализ;\n",
    "* абсолютное количество просрочек по группам;\n",
    "* количество клиентов в группах;\n",
    "* процент просрочек в группах."
   ]
  },
  {
   "cell_type": "code",
   "execution_count": 22,
   "id": "239e4814",
   "metadata": {},
   "outputs": [],
   "source": [
    "def rate(row,param):\n",
    "    data = row.groupby(param).agg({'debt':'sum'})\n",
    "    data['count'] = row.groupby(param)['debt'].count()\n",
    "    data['%'] = round((data['debt'] / data['count']) * 100,2)\n",
    "    return data"
   ]
  },
  {
   "cell_type": "code",
   "execution_count": 23,
   "id": "5230c3ca",
   "metadata": {},
   "outputs": [
    {
     "data": {
      "text/html": [
       "<div>\n",
       "<style scoped>\n",
       "    .dataframe tbody tr th:only-of-type {\n",
       "        vertical-align: middle;\n",
       "    }\n",
       "\n",
       "    .dataframe tbody tr th {\n",
       "        vertical-align: top;\n",
       "    }\n",
       "\n",
       "    .dataframe thead th {\n",
       "        text-align: right;\n",
       "    }\n",
       "</style>\n",
       "<table border=\"1\" class=\"dataframe\">\n",
       "  <thead>\n",
       "    <tr style=\"text-align: right;\">\n",
       "      <th></th>\n",
       "      <th>Количество просрочников</th>\n",
       "      <th>Общее количество заемщиков</th>\n",
       "      <th>%</th>\n",
       "    </tr>\n",
       "    <tr>\n",
       "      <th>children</th>\n",
       "      <th></th>\n",
       "      <th></th>\n",
       "      <th></th>\n",
       "    </tr>\n",
       "  </thead>\n",
       "  <tbody>\n",
       "    <tr>\n",
       "      <th>0</th>\n",
       "      <td>1063</td>\n",
       "      <td>14091</td>\n",
       "      <td>7.54</td>\n",
       "    </tr>\n",
       "    <tr>\n",
       "      <th>1</th>\n",
       "      <td>444</td>\n",
       "      <td>4808</td>\n",
       "      <td>9.23</td>\n",
       "    </tr>\n",
       "    <tr>\n",
       "      <th>2</th>\n",
       "      <td>194</td>\n",
       "      <td>2052</td>\n",
       "      <td>9.45</td>\n",
       "    </tr>\n",
       "    <tr>\n",
       "      <th>3</th>\n",
       "      <td>27</td>\n",
       "      <td>330</td>\n",
       "      <td>8.18</td>\n",
       "    </tr>\n",
       "    <tr>\n",
       "      <th>4</th>\n",
       "      <td>4</td>\n",
       "      <td>41</td>\n",
       "      <td>9.76</td>\n",
       "    </tr>\n",
       "    <tr>\n",
       "      <th>5</th>\n",
       "      <td>0</td>\n",
       "      <td>9</td>\n",
       "      <td>0.00</td>\n",
       "    </tr>\n",
       "  </tbody>\n",
       "</table>\n",
       "</div>"
      ],
      "text/plain": [
       "          Количество просрочников  Общее количество заемщиков     %\n",
       "children                                                           \n",
       "0                            1063                       14091  7.54\n",
       "1                             444                        4808  9.23\n",
       "2                             194                        2052  9.45\n",
       "3                              27                         330  8.18\n",
       "4                               4                          41  9.76\n",
       "5                               0                           9  0.00"
      ]
     },
     "execution_count": 23,
     "metadata": {},
     "output_type": "execute_result"
    }
   ],
   "source": [
    "children_debt = rate(data,'children')\n",
    "children_debt.columns = ['Количество просрочников', 'Общее количество заемщиков', '%']\n",
    "children_debt.sort_values('children')  #Есть ли зависимость между количеством детей и возвратом кредита в срок"
   ]
  },
  {
   "cell_type": "code",
   "execution_count": 26,
   "id": "d2aaa25f",
   "metadata": {},
   "outputs": [
    {
     "data": {
      "image/png": "[encoded data removed]",
      "text/plain": [
       "<Figure size 432x288 with 1 Axes>"
      ]
     },
     "metadata": {
      "needs_background": "light"
     },
     "output_type": "display_data"
    }
   ],
   "source": [
    "# итоговый вариант \n",
    "import matplotlib.pyplot as plt\n",
    "sns.barplot(x=x, y=y)\n",
    "plt.title('Зависимость между количеством детей и возвратом кредита в срок')\n",
    "plt.xlabel('Количество детей')\n",
    "plt.ylabel('Доля просрочки в %')\n",
    "plt.show()"
   ]
  },
  {
   "cell_type": "markdown",
   "id": "2eb9088e",
   "metadata": {
    "deletable": false,
    "id": "2eb9088e"
   },
   "source": [
    "**Вывод:** Заемщики без детей выплачивают кредиты исправнее, чем заемщики с детьми.Несмотря на максимальное количество клиентов с просроченными кредитами у которых нет детей, доля их в сравнении с иными категориями клиентов меньшая и составляет 7,54 %, в то время как доли просроченных кредитов у клиентов имеющих от 1 до 4 детей - от 8,18 % до 9,76 %. В силу малого количества попавших в выборку клиентов с 5-ю детьми, данные по ним можно нивелировать."
   ]
  },
  {
   "cell_type": "markdown",
   "id": "74c9b3a7",
   "metadata": {
    "deletable": false,
    "editable": false,
    "id": "74c9b3a7"
   },
   "source": [
    "#### 3.2 Есть ли зависимость между семейным положением и возвратом кредита в срок?"
   ]
  },
  {
   "cell_type": "code",
   "execution_count": 27,
   "id": "8098ab3b",
   "metadata": {
    "deletable": false,
    "id": "8098ab3b"
   },
   "outputs": [
    {
     "data": {
      "text/html": [
       "<div>\n",
       "<style scoped>\n",
       "    .dataframe tbody tr th:only-of-type {\n",
       "        vertical-align: middle;\n",
       "    }\n",
       "\n",
       "    .dataframe tbody tr th {\n",
       "        vertical-align: top;\n",
       "    }\n",
       "\n",
       "    .dataframe thead th {\n",
       "        text-align: right;\n",
       "    }\n",
       "</style>\n",
       "<table border=\"1\" class=\"dataframe\">\n",
       "  <thead>\n",
       "    <tr style=\"text-align: right;\">\n",
       "      <th></th>\n",
       "      <th>Количество просрочников</th>\n",
       "      <th>Общее количество заемщиков</th>\n",
       "      <th>%</th>\n",
       "    </tr>\n",
       "    <tr>\n",
       "      <th>family_status</th>\n",
       "      <th></th>\n",
       "      <th></th>\n",
       "      <th></th>\n",
       "    </tr>\n",
       "  </thead>\n",
       "  <tbody>\n",
       "    <tr>\n",
       "      <th>Не женат / не замужем</th>\n",
       "      <td>273</td>\n",
       "      <td>2796</td>\n",
       "      <td>9.76</td>\n",
       "    </tr>\n",
       "    <tr>\n",
       "      <th>гражданский брак</th>\n",
       "      <td>385</td>\n",
       "      <td>4134</td>\n",
       "      <td>9.31</td>\n",
       "    </tr>\n",
       "    <tr>\n",
       "      <th>женат / замужем</th>\n",
       "      <td>927</td>\n",
       "      <td>12261</td>\n",
       "      <td>7.56</td>\n",
       "    </tr>\n",
       "    <tr>\n",
       "      <th>в разводе</th>\n",
       "      <td>84</td>\n",
       "      <td>1189</td>\n",
       "      <td>7.06</td>\n",
       "    </tr>\n",
       "    <tr>\n",
       "      <th>вдовец / вдова</th>\n",
       "      <td>63</td>\n",
       "      <td>951</td>\n",
       "      <td>6.62</td>\n",
       "    </tr>\n",
       "  </tbody>\n",
       "</table>\n",
       "</div>"
      ],
      "text/plain": [
       "                       Количество просрочников  Общее количество заемщиков  \\\n",
       "family_status                                                                \n",
       "Не женат / не замужем                      273                        2796   \n",
       "гражданский брак                           385                        4134   \n",
       "женат / замужем                            927                       12261   \n",
       "в разводе                                   84                        1189   \n",
       "вдовец / вдова                              63                         951   \n",
       "\n",
       "                          %  \n",
       "family_status                \n",
       "Не женат / не замужем  9.76  \n",
       "гражданский брак       9.31  \n",
       "женат / замужем        7.56  \n",
       "в разводе              7.06  \n",
       "вдовец / вдова         6.62  "
      ]
     },
     "execution_count": 27,
     "metadata": {},
     "output_type": "execute_result"
    }
   ],
   "source": [
    "data_family = rate(data,'family_status')\n",
    "data_family.columns = ['Количество просрочников', 'Общее количество заемщиков', '%']\n",
    "data_family.sort_values(by='%', ascending=False)\n",
    "# Ваш код будет здесь. Вы можете создавать новые ячейки."
   ]
  },
  {
   "cell_type": "markdown",
   "id": "c389ca63",
   "metadata": {
    "deletable": false,
    "id": "c389ca63"
   },
   "source": [
    "**Вывод:** Наименьшие задолженности по платежам принадлежат группе вдов и вдовцов, в то время как у клиентов, которые не находятся в отношениях в 1.5 раза выше, чем у вдов/вдовцов. В большей степени просрочку допускают заемщики, не обремененные семейными узами,но также недалеко отстают от них лица, живущие в гражданском браке."
   ]
  },
  {
   "cell_type": "code",
   "execution_count": 30,
   "id": "f6491313",
   "metadata": {},
   "outputs": [
    {
     "data": {
      "image/png": "[encoded data removed]",
      "text/plain": [
       "<Figure size 432x288 with 1 Axes>"
      ]
     },
     "metadata": {
      "needs_background": "light"
     },
     "output_type": "display_data"
    }
   ],
   "source": [
    "sns.barplot(x=data_family.index, y=data_family['%'])\n",
    "plt.xticks(rotation=45, ha='right')\n",
    "plt.title('Зависимость между семейным положением и возвратом кредита в срок')\n",
    "plt.xlabel('Семейный статус')\n",
    "plt.ylabel('Доля просрочки в %')\n",
    "plt.show()"
   ]
  },
  {
   "cell_type": "markdown",
   "id": "9529de68",
   "metadata": {
    "deletable": false,
    "editable": false,
    "id": "9529de68"
   },
   "source": [
    "#### 3.3 Есть ли зависимость между уровнем дохода и возвратом кредита в срок?"
   ]
  },
  {
   "cell_type": "code",
   "execution_count": 31,
   "id": "8787f44a",
   "metadata": {
    "deletable": false,
    "id": "8787f44a"
   },
   "outputs": [
    {
     "data": {
      "text/html": [
       "<div>\n",
       "<style scoped>\n",
       "    .dataframe tbody tr th:only-of-type {\n",
       "        vertical-align: middle;\n",
       "    }\n",
       "\n",
       "    .dataframe tbody tr th {\n",
       "        vertical-align: top;\n",
       "    }\n",
       "\n",
       "    .dataframe thead th {\n",
       "        text-align: right;\n",
       "    }\n",
       "</style>\n",
       "<table border=\"1\" class=\"dataframe\">\n",
       "  <thead>\n",
       "    <tr style=\"text-align: right;\">\n",
       "      <th></th>\n",
       "      <th>Количество просрочников</th>\n",
       "      <th>Общее количество заемщиков</th>\n",
       "      <th>%</th>\n",
       "    </tr>\n",
       "    <tr>\n",
       "      <th>total_income_category</th>\n",
       "      <th></th>\n",
       "      <th></th>\n",
       "      <th></th>\n",
       "    </tr>\n",
       "  </thead>\n",
       "  <tbody>\n",
       "    <tr>\n",
       "      <th>D</th>\n",
       "      <td>21</td>\n",
       "      <td>349</td>\n",
       "      <td>6.02</td>\n",
       "    </tr>\n",
       "    <tr>\n",
       "      <th>B</th>\n",
       "      <td>354</td>\n",
       "      <td>5014</td>\n",
       "      <td>7.06</td>\n",
       "    </tr>\n",
       "    <tr>\n",
       "      <th>A</th>\n",
       "      <td>2</td>\n",
       "      <td>25</td>\n",
       "      <td>8.00</td>\n",
       "    </tr>\n",
       "    <tr>\n",
       "      <th>C</th>\n",
       "      <td>1353</td>\n",
       "      <td>15921</td>\n",
       "      <td>8.50</td>\n",
       "    </tr>\n",
       "    <tr>\n",
       "      <th>E</th>\n",
       "      <td>2</td>\n",
       "      <td>22</td>\n",
       "      <td>9.09</td>\n",
       "    </tr>\n",
       "  </tbody>\n",
       "</table>\n",
       "</div>"
      ],
      "text/plain": [
       "                       Количество просрочников  Общее количество заемщиков  \\\n",
       "total_income_category                                                        \n",
       "D                                           21                         349   \n",
       "B                                          354                        5014   \n",
       "A                                            2                          25   \n",
       "C                                         1353                       15921   \n",
       "E                                            2                          22   \n",
       "\n",
       "                          %  \n",
       "total_income_category        \n",
       "D                      6.02  \n",
       "B                      7.06  \n",
       "A                      8.00  \n",
       "C                      8.50  \n",
       "E                      9.09  "
      ]
     },
     "execution_count": 31,
     "metadata": {},
     "output_type": "execute_result"
    }
   ],
   "source": [
    "data_income = rate(data,'total_income_category')\n",
    "data_income.columns = ['Количество просрочников', 'Общее количество заемщиков', '%']\n",
    "data_income.sort_values(by='%', ascending=True)"
   ]
  },
  {
   "cell_type": "markdown",
   "id": "18074fad",
   "metadata": {},
   "source": [
    "* 0–30000 — 'E';\n",
    "* 30001–50000 — 'D';\n",
    "* 50001–200000 — 'C';\n",
    "* 200001–1000000 — 'B';\n",
    "* 1000001 и выше — 'A'."
   ]
  },
  {
   "cell_type": "code",
   "execution_count": 33,
   "id": "c603b997",
   "metadata": {},
   "outputs": [
    {
     "data": {
      "image/png": "[encoded data removed]",
      "text/plain": [
       "<Figure size 432x288 with 1 Axes>"
      ]
     },
     "metadata": {
      "needs_background": "light"
     },
     "output_type": "display_data"
    }
   ],
   "source": [
    "sns.barplot(x=data_income.index, y=data_income['%'])\n",
    "plt.xticks(rotation=45, ha='right')\n",
    "plt.title('Зависимость между уровнем дохода и возвратом кредита в срок')\n",
    "plt.xlabel('Диапазон зарплат')\n",
    "plt.ylabel('Доля просрочки в %')\n",
    "plt.show()"
   ]
  },
  {
   "cell_type": "markdown",
   "id": "6dd14b57",
   "metadata": {
    "deletable": false,
    "id": "6dd14b57"
   },
   "source": [
    "**Вывод:** Наиболее дисциплинированными заемщиками являются клиенты с уровнем дохода от 30 до 50 тр.,хотя в целом явной зависимости между уровнем дохода и наличием просроченной задолженности не наблюдается"
   ]
  },
  {
   "cell_type": "markdown",
   "id": "1dcc9b12",
   "metadata": {
    "deletable": false,
    "editable": false,
    "id": "1dcc9b12"
   },
   "source": [
    "#### 3.4 Как разные цели кредита влияют на его возврат в срок?"
   ]
  },
  {
   "cell_type": "code",
   "execution_count": 34,
   "id": "c602bc8b",
   "metadata": {
    "deletable": false,
    "id": "c602bc8b"
   },
   "outputs": [
    {
     "data": {
      "text/html": [
       "<div>\n",
       "<style scoped>\n",
       "    .dataframe tbody tr th:only-of-type {\n",
       "        vertical-align: middle;\n",
       "    }\n",
       "\n",
       "    .dataframe tbody tr th {\n",
       "        vertical-align: top;\n",
       "    }\n",
       "\n",
       "    .dataframe thead th {\n",
       "        text-align: right;\n",
       "    }\n",
       "</style>\n",
       "<table border=\"1\" class=\"dataframe\">\n",
       "  <thead>\n",
       "    <tr style=\"text-align: right;\">\n",
       "      <th></th>\n",
       "      <th>Количество просрочников</th>\n",
       "      <th>Общее количество заемщиков</th>\n",
       "      <th>%</th>\n",
       "    </tr>\n",
       "    <tr>\n",
       "      <th>purpose_category</th>\n",
       "      <th></th>\n",
       "      <th></th>\n",
       "      <th></th>\n",
       "    </tr>\n",
       "  </thead>\n",
       "  <tbody>\n",
       "    <tr>\n",
       "      <th>операции с недвижимостью</th>\n",
       "      <td>780</td>\n",
       "      <td>10751</td>\n",
       "      <td>7.26</td>\n",
       "    </tr>\n",
       "    <tr>\n",
       "      <th>проведение свадьбы</th>\n",
       "      <td>183</td>\n",
       "      <td>2313</td>\n",
       "      <td>7.91</td>\n",
       "    </tr>\n",
       "    <tr>\n",
       "      <th>получение образования</th>\n",
       "      <td>369</td>\n",
       "      <td>3988</td>\n",
       "      <td>9.25</td>\n",
       "    </tr>\n",
       "    <tr>\n",
       "      <th>операции с автомобилем</th>\n",
       "      <td>400</td>\n",
       "      <td>4279</td>\n",
       "      <td>9.35</td>\n",
       "    </tr>\n",
       "  </tbody>\n",
       "</table>\n",
       "</div>"
      ],
      "text/plain": [
       "                          Количество просрочников  Общее количество заемщиков  \\\n",
       "purpose_category                                                                \n",
       "операции с недвижимостью                      780                       10751   \n",
       "проведение свадьбы                            183                        2313   \n",
       "получение образования                         369                        3988   \n",
       "операции с автомобилем                        400                        4279   \n",
       "\n",
       "                             %  \n",
       "purpose_category                \n",
       "операции с недвижимостью  7.26  \n",
       "проведение свадьбы        7.91  \n",
       "получение образования     9.25  \n",
       "операции с автомобилем    9.35  "
      ]
     },
     "execution_count": 34,
     "metadata": {},
     "output_type": "execute_result"
    }
   ],
   "source": [
    "data_purpose = rate(data,'purpose_category')\n",
    "data_purpose.columns = ['Количество просрочников', 'Общее количество заемщиков', '%']\n",
    "data_purpose.sort_values(by='%',ascending=True) # Ваш код будет здесь. Вы можете создавать новые ячейки."
   ]
  },
  {
   "cell_type": "markdown",
   "id": "cf05ed63",
   "metadata": {
    "deletable": false,
    "id": "cf05ed63"
   },
   "source": [
    "**Вывод:** Займы по операциям с недвижимостью составляют 50% от общего количества и при этом заемщики ответственнее подходят к выплатам. Займы по автокредитам имеют наибольшую долю задолженностей. Важно обратить внимание на кредит на образование так как он несет высокие риски не возврата, что, видимо, связанно с проблемами трудоустройства после обучения."
   ]
  },
  {
   "cell_type": "code",
   "execution_count": 35,
   "id": "d481d9e4",
   "metadata": {},
   "outputs": [
    {
     "data": {
      "image/png": "[encoded data removed]",
      "text/plain": [
       "<Figure size 432x288 with 1 Axes>"
      ]
     },
     "metadata": {
      "needs_background": "light"
     },
     "output_type": "display_data"
    }
   ],
   "source": [
    "sns.barplot(x=data_purpose.index, y=data_purpose['%'])\n",
    "plt.xticks(rotation=45, ha='right')\n",
    "plt.title('Зависимость между целем кредита и возвратом кредита в срок')\n",
    "plt.xlabel('Цель кредита')\n",
    "plt.ylabel('Доля просрочки в %')\n",
    "plt.show()"
   ]
  },
  {
   "cell_type": "markdown",
   "id": "46c1f10b",
   "metadata": {
    "deletable": false,
    "editable": false,
    "id": "46c1f10b"
   },
   "source": [
    "#### 3.5 Приведите возможные причины появления пропусков в исходных данных."
   ]
  },
  {
   "cell_type": "markdown",
   "id": "3697d2a9",
   "metadata": {
    "deletable": false,
    "id": "3697d2a9"
   },
   "source": [
    "*Ответ:* Судя по количеству недостающих данных, кажется, что отсутствие данных связано с человеческим фактором - оператор не внес размер дохода и стаж заемщика или какой-то определенный контрагент не собирает эти данные. Возможно, при более глубоком анализе можно будет обнаружить, что пропуски связаны с какой-то определенной категорией (например, заемщики по образовательным кредитам, которые не имеют стажа и дохода).\n",
    "\n",
    "Причина пропуска может быть технологической - это сбой работы БД при выгрузке, сбой работы приложений, при внесении данных в базу, неудачная миграция данных в процессе переноса данных или обновления АБС."
   ]
  },
  {
   "cell_type": "markdown",
   "id": "3137d257",
   "metadata": {
    "deletable": false,
    "editable": false,
    "id": "3137d257"
   },
   "source": [
    "#### 3.6 Объясните, почему заполнить пропуски медианным значением — лучшее решение для количественных переменных."
   ]
  },
  {
   "cell_type": "markdown",
   "id": "cf40012a",
   "metadata": {
    "deletable": false,
    "id": "cf40012a"
   },
   "source": [
    "*Ответ:* замена пустых ячеек на медианное значение является оптимальным. Таким образом мы сохраняем остальные данные в этимх строках и не вносим искажения в общую статистику по пустым ячейкам."
   ]
  },
  {
   "cell_type": "markdown",
   "id": "db9bee0e",
   "metadata": {},
   "source": [
    "*Ответ:*\n",
    "\n",
    "Когда мы обнаружили пустые значения можно сделать несколько действий с этими значениями.\n",
    "\n",
    "* Ничего не делать\n",
    "Тогда эти значения будут мешать операциям с ячейками и искажать данные. Например, если мы захотим посчитать средний стаж по определенной группе, нам надо будет поделить общий стаж на количество людей. При этом, мы ошибемся не посчитав пустые ячейки. Таким образом среднее значение будет отличаться от реального.\n",
    "\n",
    "* Удалить строки с пустыми значениями\n",
    "Это сделать можно, если нет никаких разумных подходов по заполнению этих пустых значений и удаление такого количества данных не скажется на общие посчеты\n",
    "\n",
    "* Заменить значения на определенные, заранее заданные\n",
    "Для этого необходимо определиться, на что меняем пустые значения. Пустые значения можно заменить медианным или среднеарифметическим значением. Среднеарифметическое значение чувствительно к пиковым и экстремальным значениям в выборке и не всегда отображает реальность. В то же время медианное значение не искажает картину распределения по пользователям. Например, если в выборке появится несколько людей с экстремально высокими или низкими показателями, они не повлияют (или не значительно повлияют) на медианное значение, когда среднеарифметическое значение может резко вырасти или уменьшиться. Среднее арифметическое может совпадать с медианой только в симметричных выборках, что на практике встречается крайне редко.\n",
    "\n",
    "Таким образом, замена пустых ячеек на медианное значение является оптимальным. Таким образом мы сохраняем остальные данные в этимх строках и не вносим искажения в общую статистику по пустым ячейкам."
   ]
  },
  {
   "cell_type": "markdown",
   "id": "57bc304e",
   "metadata": {
    "deletable": false,
    "editable": false,
    "id": "57bc304e"
   },
   "source": [
    "### Шаг 4: общий вывод."
   ]
  },
  {
   "cell_type": "markdown",
   "id": "1ab75d1c",
   "metadata": {
    "deletable": false,
    "id": "1ab75d1c"
   },
   "source": [
    "В целях снижения уровня просроченных кредитов рекомендуем Заказчику пересмотреть скоринговую политику в отношении следующих групп клиентов:\n",
    "\n",
    "* клиентов с детьми;\n",
    "* не женатых/холостых, а также клиентов, проживающих в гражданском браке;\n",
    "* клиентов, подающих заявку на автокредитование."
   ]
  },
  {
   "cell_type": "markdown",
   "id": "6b11f52a",
   "metadata": {},
   "source": [
    "Для улучшения системы скоринга клиентов была проанализирована выборка текущих клиентов и их задолженностей по платежам.\n",
    "\n",
    "Для анализа был получен датафрейм содержащий 21525 записей и 12 столбцов:\n",
    "\n",
    "Описание данных\n",
    "* children — количество детей в семье\n",
    "* days_employed — общий трудовой стаж в днях\n",
    "* dob_years — возраст клиента в годах\n",
    "* education — уровень образования клиента\n",
    "* education_id — идентификатор уровня образования\n",
    "* family_status — семейное положение\n",
    "* family_status_id — идентификатор семейного положения\n",
    "* gender — пол клиента\n",
    "* income_type — тип занятости\n",
    "* debt — имел ли задолженность по возврату кредитов\n",
    "* total_income — ежемесячный доход\n",
    "* purpose — цель получения кредита\n",
    "\n",
    "В столбцах days_employed и  total_income было обнаружено по 2174 пропущенных значения.\n",
    "Пропущенные значения в total_income заменили на медианный доходо среди всех записей с тем же типом.\n",
    "Аномальные значения (отрицательный трудовой стаж) в days_employed замениили на положительные значения.\n",
    "\n",
    "У двух типов (безработные и пенсионеры) получились аномально большие значения трудового стажа. Исправить такие значения сложно, поэтому оставили их без изменений, принимая во внимание,что эти столбцы не понадобятся для целей исследования.\n",
    "\n",
    "В столбце children были обнаружены два аномальных значения -1 и 20 - исключили их.\n",
    "\n",
    "Пропуски в столбце days_employed заменили медианными значениями каждого типа занятости income_type.\n",
    "\n",
    "Произвели замену вещественного типа данных в столбце total_income на целочисленный с помощью метода astype().\n",
    "\n",
    "Обработали неявные дубликаты в столбце education. В этом столбце есть одни и те же значения, но записанные по-разному: с использованием заглавных и строчных букв. Привели их к нижнему регистру. Оставшиеся явные дубликаты - удалили из выборки.\n",
    "\n",
    "Cоздаkb в датафрейме data столбец total_income_category с категориями по диапазонам зарплат:\n",
    "\n",
    "0–30000 — 'E';\n",
    "30001–50000 — 'D';\n",
    "50001–200000 — 'C';\n",
    "200001–1000000 — 'B';\n",
    "1000001 и выше — 'A'.\n",
    "\n",
    "\n",
    "Привели разномастные варианты целей кредита (purpose) к 4:\n",
    "* 'операции с автомобилем',\n",
    "* 'операции с недвижимостью',\n",
    "* 'проведение свадьбы',\n",
    "* 'получение образования'.\n",
    "\n",
    "Для тоого, чтобы ранжировать категории по возрастанию риска невозврата (или просрочек) по кредиту, необходимо сгруппировать клиентов по искомым категориям, посчитать их просрочки и найти процент клиентов от текущей группы, которые имеют задолженность.\n",
    "\n",
    "В рамках анализа были проверены следующие гипотезы:\n",
    "\n",
    "*Есть ли зависимость между количеством детей и возвратом кредита в срок?*\n",
    "\n",
    "В рамках данного исследования не удалось оценить группы клиентов с 4 и 5 детьми - выборка оказалась слишком малой для анализа.\n",
    "\n",
    "Заемщики без детей выплачивают кредиты исправнее, чем заемщики с детьми.Несмотря на максимальное количество клиентов с просроченными кредитами у которых нет детей, доля их в сравнении с иными категориями клиентов меньшая и составляет 7,54 %, в то время как доли просроченных кредитов у клиентов имеющих от 1 до 4 детей - от 8,18 % до 9,76 %. В силу малого количества попавших в выборку клиентов с 5-ю детьми, данные по ним можно нивелировать.\n",
    "\n",
    "\n",
    "\n",
    "*Есть ли зависимость между семейным положением и возвратом кредита в срок?*\n",
    "\n",
    "По результатам проверки данной гипотезы выявлена следующая закономерность - меньше всего просрочек по кредитам у вдов/вдовцев (6.62%), больше всего у клиентов, не состоящих в отношениях (9.76%). Самой массовой категорией являются клиенты в браке, процент просрочек по данной категории составляет 7.56%\n",
    "\n",
    "\n",
    "\n",
    "*Есть ли зависимость между уровнем дохода и возвратом кредита в срок?*\n",
    "\n",
    "По результатам проверки данной гипотезы выявлена следующая закономерность - меньше всего просрочек по кредитам у клиентов с уровнем дохода от 30 000 до 50 000 руб в месяц (6.02%), больше всего у клиентов с уровнем дохода от 50 000 до 200 000 - 8,5%\n",
    "\n",
    "Категория клиентов с экстремальными значениями доходов (ниже 30 000 руб или выше 1 000 000 руб) являются слишком малой. Достоверно говорить о вероятностях просрочек от этих клиентов нельзя.\n",
    "\n",
    "\n",
    "\n",
    "*Как разные цели кредита влияют на его возврат в срок?*\n",
    "\n",
    "По результатам проверки данной гипотезы выявлена следующая закономерность - меньше всего просрочек по кредитам по займам на недвижимость (7.26%), больше всего по займам на автомобиль (9.35%). Самой массовой категорией являются займы на недвижимость\n",
    "Важно обратить внимание на кредит на образование так как он несет высокие риски не возврата, что, видимо, связанно с проблемами трудоустройства после обучения.\n",
    "\n",
    "\n",
    "\n",
    "Помимо проведенного анализа, было бы неплохо еще провести анализ по количеству дней просрочки и объемам просрочек. Этот анализ позволит определить более точно, какая группа, с точки зрения задолженности порождает наибольшие финансовые проблемы. Данные можно использовать для скоринга."
   ]
  }
 ],
 "metadata": {
  "ExecuteTimeLog": [
   {
    "duration": 9,
    "start_time": "2023-06-07T15:17:01.859Z"
   },
   {
    "duration": 3,
    "start_time": "2023-06-07T15:18:12.103Z"
   },
   {
    "duration": 45,
    "start_time": "2023-06-07T15:19:17.233Z"
   },
   {
    "duration": 505,
    "start_time": "2023-06-07T15:19:37.012Z"
   },
   {
    "duration": 22,
    "start_time": "2023-06-07T15:19:37.519Z"
   },
   {
    "duration": 27,
    "start_time": "2023-06-07T15:19:37.542Z"
   },
   {
    "duration": 9,
    "start_time": "2023-06-07T15:19:37.571Z"
   },
   {
    "duration": 41,
    "start_time": "2023-06-07T15:19:37.581Z"
   },
   {
    "duration": 3,
    "start_time": "2023-06-07T15:19:37.624Z"
   },
   {
    "duration": 14,
    "start_time": "2023-06-07T15:19:37.629Z"
   },
   {
    "duration": 8,
    "start_time": "2023-06-07T15:19:37.645Z"
   },
   {
    "duration": 11,
    "start_time": "2023-06-07T15:19:37.654Z"
   },
   {
    "duration": 7,
    "start_time": "2023-06-07T15:19:37.668Z"
   },
   {
    "duration": 35,
    "start_time": "2023-06-07T15:19:37.676Z"
   },
   {
    "duration": 10,
    "start_time": "2023-06-07T15:19:37.713Z"
   },
   {
    "duration": 27,
    "start_time": "2023-06-07T15:19:37.725Z"
   },
   {
    "duration": 18,
    "start_time": "2023-06-07T15:19:37.754Z"
   },
   {
    "duration": 34,
    "start_time": "2023-06-07T15:19:37.774Z"
   },
   {
    "duration": 18,
    "start_time": "2023-06-07T15:19:37.810Z"
   },
   {
    "duration": 4,
    "start_time": "2023-06-07T15:19:37.829Z"
   },
   {
    "duration": 12,
    "start_time": "2023-06-07T15:19:37.835Z"
   },
   {
    "duration": 7,
    "start_time": "2023-06-07T15:19:37.850Z"
   },
   {
    "duration": 3,
    "start_time": "2023-06-07T15:19:37.860Z"
   },
   {
    "duration": 10,
    "start_time": "2023-06-07T15:19:37.865Z"
   },
   {
    "duration": 3,
    "start_time": "2023-06-07T15:19:37.877Z"
   },
   {
    "duration": 15,
    "start_time": "2023-06-07T15:19:37.882Z"
   },
   {
    "duration": 2,
    "start_time": "2023-06-07T15:19:37.899Z"
   },
   {
    "duration": 8,
    "start_time": "2023-06-07T15:19:37.903Z"
   },
   {
    "duration": 3,
    "start_time": "2023-06-07T15:19:37.951Z"
   },
   {
    "duration": 444,
    "start_time": "2023-06-07T15:23:47.199Z"
   },
   {
    "duration": 22,
    "start_time": "2023-06-07T15:23:47.645Z"
   },
   {
    "duration": 15,
    "start_time": "2023-06-07T15:23:47.669Z"
   },
   {
    "duration": 9,
    "start_time": "2023-06-07T15:23:47.686Z"
   },
   {
    "duration": 55,
    "start_time": "2023-06-07T15:23:47.697Z"
   },
   {
    "duration": 3,
    "start_time": "2023-06-07T15:23:47.754Z"
   },
   {
    "duration": 9,
    "start_time": "2023-06-07T15:23:47.759Z"
   },
   {
    "duration": 4,
    "start_time": "2023-06-07T15:23:47.769Z"
   },
   {
    "duration": 8,
    "start_time": "2023-06-07T15:23:47.774Z"
   },
   {
    "duration": 5,
    "start_time": "2023-06-07T15:23:47.784Z"
   },
   {
    "duration": 60,
    "start_time": "2023-06-07T15:23:47.790Z"
   },
   {
    "duration": 8,
    "start_time": "2023-06-07T15:23:47.852Z"
   },
   {
    "duration": 6,
    "start_time": "2023-06-07T15:23:47.862Z"
   },
   {
    "duration": 34,
    "start_time": "2023-06-07T15:23:47.869Z"
   },
   {
    "duration": 21,
    "start_time": "2023-06-07T15:23:47.905Z"
   },
   {
    "duration": 19,
    "start_time": "2023-06-07T15:23:47.928Z"
   },
   {
    "duration": 4,
    "start_time": "2023-06-07T15:23:47.949Z"
   },
   {
    "duration": 12,
    "start_time": "2023-06-07T15:23:47.955Z"
   },
   {
    "duration": 7,
    "start_time": "2023-06-07T15:23:47.968Z"
   },
   {
    "duration": 3,
    "start_time": "2023-06-07T15:23:47.977Z"
   },
   {
    "duration": 9,
    "start_time": "2023-06-07T15:23:47.982Z"
   },
   {
    "duration": 2,
    "start_time": "2023-06-07T15:23:47.993Z"
   },
   {
    "duration": 19,
    "start_time": "2023-06-07T15:23:47.997Z"
   },
   {
    "duration": 32,
    "start_time": "2023-06-07T15:23:48.018Z"
   },
   {
    "duration": 5,
    "start_time": "2023-06-07T15:23:48.052Z"
   },
   {
    "duration": 8,
    "start_time": "2023-06-07T15:23:48.059Z"
   },
   {
    "duration": 4,
    "start_time": "2023-06-07T15:24:13.830Z"
   },
   {
    "duration": 13,
    "start_time": "2023-06-07T15:24:16.236Z"
   },
   {
    "duration": 3,
    "start_time": "2023-06-07T15:24:36.029Z"
   },
   {
    "duration": 472,
    "start_time": "2023-06-07T15:24:48.344Z"
   },
   {
    "duration": 21,
    "start_time": "2023-06-07T15:24:48.818Z"
   },
   {
    "duration": 13,
    "start_time": "2023-06-07T15:24:48.840Z"
   },
   {
    "duration": 9,
    "start_time": "2023-06-07T15:24:48.854Z"
   },
   {
    "duration": 32,
    "start_time": "2023-06-07T15:24:48.864Z"
   },
   {
    "duration": 3,
    "start_time": "2023-06-07T15:24:48.898Z"
   },
   {
    "duration": 10,
    "start_time": "2023-06-07T15:24:48.903Z"
   },
   {
    "duration": 4,
    "start_time": "2023-06-07T15:24:48.914Z"
   },
   {
    "duration": 7,
    "start_time": "2023-06-07T15:24:48.950Z"
   },
   {
    "duration": 4,
    "start_time": "2023-06-07T15:24:48.960Z"
   },
   {
    "duration": 32,
    "start_time": "2023-06-07T15:24:48.966Z"
   },
   {
    "duration": 11,
    "start_time": "2023-06-07T15:24:49.000Z"
   },
   {
    "duration": 8,
    "start_time": "2023-06-07T15:24:49.012Z"
   },
   {
    "duration": 38,
    "start_time": "2023-06-07T15:24:49.021Z"
   },
   {
    "duration": 26,
    "start_time": "2023-06-07T15:24:49.060Z"
   },
   {
    "duration": 23,
    "start_time": "2023-06-07T15:24:49.088Z"
   },
   {
    "duration": 4,
    "start_time": "2023-06-07T15:24:49.113Z"
   },
   {
    "duration": 12,
    "start_time": "2023-06-07T15:24:49.119Z"
   },
   {
    "duration": 22,
    "start_time": "2023-06-07T15:24:49.133Z"
   },
   {
    "duration": 4,
    "start_time": "2023-06-07T15:24:49.157Z"
   },
   {
    "duration": 9,
    "start_time": "2023-06-07T15:24:49.163Z"
   },
   {
    "duration": 3,
    "start_time": "2023-06-07T15:24:49.173Z"
   },
   {
    "duration": 15,
    "start_time": "2023-06-07T15:24:49.178Z"
   },
   {
    "duration": 3,
    "start_time": "2023-06-07T15:24:49.194Z"
   },
   {
    "duration": 6,
    "start_time": "2023-06-07T15:24:49.198Z"
   },
   {
    "duration": 6,
    "start_time": "2023-06-07T15:24:49.205Z"
   },
   {
    "duration": 4,
    "start_time": "2023-06-07T15:25:08.628Z"
   },
   {
    "duration": 14,
    "start_time": "2023-06-07T15:25:09.403Z"
   },
   {
    "duration": 14,
    "start_time": "2023-06-07T15:25:29.010Z"
   },
   {
    "duration": 3,
    "start_time": "2023-06-07T15:27:26.687Z"
   },
   {
    "duration": 59,
    "start_time": "2023-06-07T15:27:26.886Z"
   },
   {
    "duration": 3,
    "start_time": "2023-06-07T15:28:28.006Z"
   },
   {
    "duration": 13,
    "start_time": "2023-06-07T15:28:28.784Z"
   },
   {
    "duration": 3,
    "start_time": "2023-06-07T15:32:11.593Z"
   },
   {
    "duration": 13,
    "start_time": "2023-06-07T15:32:12.355Z"
   },
   {
    "duration": 1006,
    "start_time": "2023-06-07T15:33:44.698Z"
   },
   {
    "duration": 47,
    "start_time": "2023-06-07T15:37:16.285Z"
   },
   {
    "duration": 17,
    "start_time": "2023-06-07T15:37:24.588Z"
   },
   {
    "duration": 1217,
    "start_time": "2023-06-07T15:37:42.283Z"
   },
   {
    "duration": 20,
    "start_time": "2023-06-07T15:37:43.502Z"
   },
   {
    "duration": 19,
    "start_time": "2023-06-07T15:37:43.524Z"
   },
   {
    "duration": 12,
    "start_time": "2023-06-07T15:37:43.551Z"
   },
   {
    "duration": 36,
    "start_time": "2023-06-07T15:37:43.564Z"
   },
   {
    "duration": 3,
    "start_time": "2023-06-07T15:37:43.602Z"
   },
   {
    "duration": 24,
    "start_time": "2023-06-07T15:37:43.606Z"
   },
   {
    "duration": 20,
    "start_time": "2023-06-07T15:37:43.631Z"
   },
   {
    "duration": 15,
    "start_time": "2023-06-07T15:37:43.653Z"
   },
   {
    "duration": 16,
    "start_time": "2023-06-07T15:37:43.672Z"
   },
   {
    "duration": 35,
    "start_time": "2023-06-07T15:37:43.689Z"
   },
   {
    "duration": 10,
    "start_time": "2023-06-07T15:37:43.726Z"
   },
   {
    "duration": 14,
    "start_time": "2023-06-07T15:37:43.738Z"
   },
   {
    "duration": 27,
    "start_time": "2023-06-07T15:37:43.754Z"
   },
   {
    "duration": 31,
    "start_time": "2023-06-07T15:37:43.783Z"
   },
   {
    "duration": 18,
    "start_time": "2023-06-07T15:37:43.816Z"
   },
   {
    "duration": 4,
    "start_time": "2023-06-07T15:37:43.836Z"
   },
   {
    "duration": 19,
    "start_time": "2023-06-07T15:37:43.842Z"
   },
   {
    "duration": 6,
    "start_time": "2023-06-07T15:37:43.863Z"
   },
   {
    "duration": 4,
    "start_time": "2023-06-07T15:37:43.871Z"
   },
   {
    "duration": 11,
    "start_time": "2023-06-07T15:37:43.877Z"
   },
   {
    "duration": 4,
    "start_time": "2023-06-07T15:37:43.890Z"
   },
   {
    "duration": 18,
    "start_time": "2023-06-07T15:37:43.896Z"
   },
   {
    "duration": 131,
    "start_time": "2023-06-07T15:37:43.915Z"
   },
   {
    "duration": 0,
    "start_time": "2023-06-07T15:37:44.050Z"
   },
   {
    "duration": 1,
    "start_time": "2023-06-07T15:37:44.051Z"
   },
   {
    "duration": 0,
    "start_time": "2023-06-07T15:37:44.053Z"
   },
   {
    "duration": 12,
    "start_time": "2023-06-07T15:38:27.888Z"
   },
   {
    "duration": 17,
    "start_time": "2023-06-07T15:40:01.309Z"
   },
   {
    "duration": 1167,
    "start_time": "2023-06-07T15:40:13.684Z"
   },
   {
    "duration": 21,
    "start_time": "2023-06-07T15:40:14.853Z"
   },
   {
    "duration": 15,
    "start_time": "2023-06-07T15:40:14.876Z"
   },
   {
    "duration": 10,
    "start_time": "2023-06-07T15:40:14.894Z"
   },
   {
    "duration": 58,
    "start_time": "2023-06-07T15:40:14.906Z"
   },
   {
    "duration": 5,
    "start_time": "2023-06-07T15:40:14.965Z"
   },
   {
    "duration": 9,
    "start_time": "2023-06-07T15:40:14.972Z"
   },
   {
    "duration": 5,
    "start_time": "2023-06-07T15:40:14.983Z"
   },
   {
    "duration": 8,
    "start_time": "2023-06-07T15:40:14.990Z"
   },
   {
    "duration": 5,
    "start_time": "2023-06-07T15:40:15.000Z"
   },
   {
    "duration": 67,
    "start_time": "2023-06-07T15:40:15.006Z"
   },
   {
    "duration": 10,
    "start_time": "2023-06-07T15:40:15.075Z"
   },
   {
    "duration": 10,
    "start_time": "2023-06-07T15:40:15.087Z"
   },
   {
    "duration": 17,
    "start_time": "2023-06-07T15:40:15.098Z"
   },
   {
    "duration": 20,
    "start_time": "2023-06-07T15:40:15.117Z"
   },
   {
    "duration": 19,
    "start_time": "2023-06-07T15:40:15.150Z"
   },
   {
    "duration": 3,
    "start_time": "2023-06-07T15:40:15.171Z"
   },
   {
    "duration": 12,
    "start_time": "2023-06-07T15:40:15.176Z"
   },
   {
    "duration": 11,
    "start_time": "2023-06-07T15:40:15.190Z"
   },
   {
    "duration": 8,
    "start_time": "2023-06-07T15:40:15.202Z"
   },
   {
    "duration": 12,
    "start_time": "2023-06-07T15:40:15.211Z"
   },
   {
    "duration": 25,
    "start_time": "2023-06-07T15:40:15.225Z"
   },
   {
    "duration": 29,
    "start_time": "2023-06-07T15:40:15.252Z"
   },
   {
    "duration": 103,
    "start_time": "2023-06-07T15:40:15.282Z"
   },
   {
    "duration": 0,
    "start_time": "2023-06-07T15:40:15.387Z"
   },
   {
    "duration": 0,
    "start_time": "2023-06-07T15:40:15.388Z"
   },
   {
    "duration": 0,
    "start_time": "2023-06-07T15:40:15.389Z"
   },
   {
    "duration": 378,
    "start_time": "2023-06-07T15:42:22.926Z"
   },
   {
    "duration": 860,
    "start_time": "2023-06-07T15:43:00.539Z"
   },
   {
    "duration": 735,
    "start_time": "2023-06-07T15:46:38.737Z"
   },
   {
    "duration": 12,
    "start_time": "2023-06-07T15:47:21.684Z"
   },
   {
    "duration": 14,
    "start_time": "2023-06-07T15:49:35.572Z"
   },
   {
    "duration": 376,
    "start_time": "2023-06-07T15:51:30.183Z"
   },
   {
    "duration": 16,
    "start_time": "2023-06-07T15:53:31.701Z"
   },
   {
    "duration": 15,
    "start_time": "2023-06-07T15:54:44.981Z"
   },
   {
    "duration": 69,
    "start_time": "2023-06-07T15:57:34.625Z"
   },
   {
    "duration": 107,
    "start_time": "2023-06-07T15:57:45.126Z"
   },
   {
    "duration": 1194,
    "start_time": "2023-06-07T15:58:07.238Z"
   },
   {
    "duration": 179,
    "start_time": "2023-06-07T15:58:30.895Z"
   },
   {
    "duration": 165,
    "start_time": "2023-06-07T15:58:48.192Z"
   },
   {
    "duration": 1259,
    "start_time": "2023-06-07T16:00:35.925Z"
   },
   {
    "duration": 20,
    "start_time": "2023-06-07T16:00:37.186Z"
   },
   {
    "duration": 17,
    "start_time": "2023-06-07T16:00:37.208Z"
   },
   {
    "duration": 24,
    "start_time": "2023-06-07T16:00:37.227Z"
   },
   {
    "duration": 34,
    "start_time": "2023-06-07T16:00:37.252Z"
   },
   {
    "duration": 3,
    "start_time": "2023-06-07T16:00:37.288Z"
   },
   {
    "duration": 14,
    "start_time": "2023-06-07T16:00:37.293Z"
   },
   {
    "duration": 12,
    "start_time": "2023-06-07T16:00:37.309Z"
   },
   {
    "duration": 9,
    "start_time": "2023-06-07T16:00:37.323Z"
   },
   {
    "duration": 5,
    "start_time": "2023-06-07T16:00:37.349Z"
   },
   {
    "duration": 34,
    "start_time": "2023-06-07T16:00:37.356Z"
   },
   {
    "duration": 9,
    "start_time": "2023-06-07T16:00:37.392Z"
   },
   {
    "duration": 4,
    "start_time": "2023-06-07T16:00:37.402Z"
   },
   {
    "duration": 13,
    "start_time": "2023-06-07T16:00:37.407Z"
   },
   {
    "duration": 44,
    "start_time": "2023-06-07T16:00:37.422Z"
   },
   {
    "duration": 19,
    "start_time": "2023-06-07T16:00:37.468Z"
   },
   {
    "duration": 4,
    "start_time": "2023-06-07T16:00:37.488Z"
   },
   {
    "duration": 15,
    "start_time": "2023-06-07T16:00:37.494Z"
   },
   {
    "duration": 18,
    "start_time": "2023-06-07T16:00:37.511Z"
   },
   {
    "duration": 19,
    "start_time": "2023-06-07T16:00:37.531Z"
   },
   {
    "duration": 22,
    "start_time": "2023-06-07T16:00:37.552Z"
   },
   {
    "duration": 9,
    "start_time": "2023-06-07T16:00:37.576Z"
   },
   {
    "duration": 32,
    "start_time": "2023-06-07T16:00:37.587Z"
   },
   {
    "duration": 1263,
    "start_time": "2023-06-07T16:00:37.621Z"
   },
   {
    "duration": 0,
    "start_time": "2023-06-07T16:00:38.886Z"
   },
   {
    "duration": 0,
    "start_time": "2023-06-07T16:00:38.887Z"
   },
   {
    "duration": 0,
    "start_time": "2023-06-07T16:00:38.888Z"
   },
   {
    "duration": 1201,
    "start_time": "2023-06-07T16:01:12.049Z"
   },
   {
    "duration": 18,
    "start_time": "2023-06-07T16:01:13.252Z"
   },
   {
    "duration": 15,
    "start_time": "2023-06-07T16:01:13.272Z"
   },
   {
    "duration": 9,
    "start_time": "2023-06-07T16:01:13.288Z"
   },
   {
    "duration": 59,
    "start_time": "2023-06-07T16:01:13.299Z"
   },
   {
    "duration": 3,
    "start_time": "2023-06-07T16:01:13.360Z"
   },
   {
    "duration": 10,
    "start_time": "2023-06-07T16:01:13.364Z"
   },
   {
    "duration": 5,
    "start_time": "2023-06-07T16:01:13.375Z"
   },
   {
    "duration": 8,
    "start_time": "2023-06-07T16:01:13.382Z"
   },
   {
    "duration": 8,
    "start_time": "2023-06-07T16:01:13.393Z"
   },
   {
    "duration": 64,
    "start_time": "2023-06-07T16:01:13.402Z"
   },
   {
    "duration": 9,
    "start_time": "2023-06-07T16:01:13.468Z"
   },
   {
    "duration": 8,
    "start_time": "2023-06-07T16:01:13.478Z"
   },
   {
    "duration": 12,
    "start_time": "2023-06-07T16:01:13.487Z"
   },
   {
    "duration": 20,
    "start_time": "2023-06-07T16:01:13.500Z"
   },
   {
    "duration": 44,
    "start_time": "2023-06-07T16:01:13.521Z"
   },
   {
    "duration": 3,
    "start_time": "2023-06-07T16:01:13.567Z"
   },
   {
    "duration": 15,
    "start_time": "2023-06-07T16:01:13.572Z"
   },
   {
    "duration": 10,
    "start_time": "2023-06-07T16:01:13.588Z"
   },
   {
    "duration": 4,
    "start_time": "2023-06-07T16:01:13.599Z"
   },
   {
    "duration": 9,
    "start_time": "2023-06-07T16:01:13.604Z"
   },
   {
    "duration": 4,
    "start_time": "2023-06-07T16:01:13.614Z"
   },
   {
    "duration": 40,
    "start_time": "2023-06-07T16:01:13.619Z"
   },
   {
    "duration": 160,
    "start_time": "2023-06-07T16:01:13.661Z"
   },
   {
    "duration": 3,
    "start_time": "2023-06-07T16:01:13.823Z"
   },
   {
    "duration": 4,
    "start_time": "2023-06-07T16:01:13.827Z"
   },
   {
    "duration": 4,
    "start_time": "2023-06-07T16:01:13.833Z"
   },
   {
    "duration": 125,
    "start_time": "2023-06-07T16:15:21.251Z"
   },
   {
    "duration": 120,
    "start_time": "2023-06-07T16:20:43.520Z"
   },
   {
    "duration": 18,
    "start_time": "2023-06-07T16:26:11.688Z"
   },
   {
    "duration": 107,
    "start_time": "2023-06-07T16:26:47.598Z"
   },
   {
    "duration": 18,
    "start_time": "2023-06-07T16:29:04.911Z"
   },
   {
    "duration": 19,
    "start_time": "2023-06-07T16:31:51.489Z"
   },
   {
    "duration": 21,
    "start_time": "2023-06-07T16:32:36.314Z"
   },
   {
    "duration": 1229,
    "start_time": "2023-06-07T16:33:25.549Z"
   },
   {
    "duration": 21,
    "start_time": "2023-06-07T16:33:26.780Z"
   },
   {
    "duration": 16,
    "start_time": "2023-06-07T16:33:26.802Z"
   },
   {
    "duration": 19,
    "start_time": "2023-06-07T16:33:26.820Z"
   },
   {
    "duration": 42,
    "start_time": "2023-06-07T16:33:26.840Z"
   },
   {
    "duration": 3,
    "start_time": "2023-06-07T16:33:26.884Z"
   },
   {
    "duration": 12,
    "start_time": "2023-06-07T16:33:26.889Z"
   },
   {
    "duration": 4,
    "start_time": "2023-06-07T16:33:26.902Z"
   },
   {
    "duration": 9,
    "start_time": "2023-06-07T16:33:26.908Z"
   },
   {
    "duration": 31,
    "start_time": "2023-06-07T16:33:26.920Z"
   },
   {
    "duration": 34,
    "start_time": "2023-06-07T16:33:26.953Z"
   },
   {
    "duration": 9,
    "start_time": "2023-06-07T16:33:26.989Z"
   },
   {
    "duration": 4,
    "start_time": "2023-06-07T16:33:27.000Z"
   },
   {
    "duration": 11,
    "start_time": "2023-06-07T16:33:27.005Z"
   },
   {
    "duration": 45,
    "start_time": "2023-06-07T16:33:27.018Z"
   },
   {
    "duration": 17,
    "start_time": "2023-06-07T16:33:27.064Z"
   },
   {
    "duration": 4,
    "start_time": "2023-06-07T16:33:27.083Z"
   },
   {
    "duration": 30,
    "start_time": "2023-06-07T16:33:27.088Z"
   },
   {
    "duration": 6,
    "start_time": "2023-06-07T16:33:27.119Z"
   },
   {
    "duration": 15,
    "start_time": "2023-06-07T16:33:27.127Z"
   },
   {
    "duration": 17,
    "start_time": "2023-06-07T16:33:27.143Z"
   },
   {
    "duration": 3,
    "start_time": "2023-06-07T16:33:27.161Z"
   },
   {
    "duration": 20,
    "start_time": "2023-06-07T16:33:27.166Z"
   },
   {
    "duration": 125,
    "start_time": "2023-06-07T16:33:27.187Z"
   },
   {
    "duration": 130,
    "start_time": "2023-06-07T16:33:27.314Z"
   },
   {
    "duration": 0,
    "start_time": "2023-06-07T16:33:27.445Z"
   },
   {
    "duration": 0,
    "start_time": "2023-06-07T16:33:27.450Z"
   },
   {
    "duration": 17,
    "start_time": "2023-06-07T16:33:59.021Z"
   },
   {
    "duration": 18,
    "start_time": "2023-06-07T16:34:55.447Z"
   },
   {
    "duration": 17,
    "start_time": "2023-06-07T16:35:40.143Z"
   },
   {
    "duration": 18,
    "start_time": "2023-06-07T16:36:18.114Z"
   },
   {
    "duration": 18,
    "start_time": "2023-06-07T16:36:47.597Z"
   },
   {
    "duration": 19,
    "start_time": "2023-06-07T16:37:16.480Z"
   },
   {
    "duration": 13,
    "start_time": "2023-06-07T16:38:58.820Z"
   },
   {
    "duration": 122,
    "start_time": "2023-06-07T16:39:24.801Z"
   },
   {
    "duration": 18,
    "start_time": "2023-06-07T16:39:50.442Z"
   },
   {
    "duration": 1190,
    "start_time": "2023-06-07T16:45:42.577Z"
   },
   {
    "duration": 21,
    "start_time": "2023-06-07T16:45:43.769Z"
   },
   {
    "duration": 14,
    "start_time": "2023-06-07T16:45:43.792Z"
   },
   {
    "duration": 9,
    "start_time": "2023-06-07T16:45:43.808Z"
   },
   {
    "duration": 54,
    "start_time": "2023-06-07T16:45:43.819Z"
   },
   {
    "duration": 3,
    "start_time": "2023-06-07T16:45:43.875Z"
   },
   {
    "duration": 16,
    "start_time": "2023-06-07T16:45:43.880Z"
   },
   {
    "duration": 6,
    "start_time": "2023-06-07T16:45:43.898Z"
   },
   {
    "duration": 10,
    "start_time": "2023-06-07T16:45:43.905Z"
   },
   {
    "duration": 7,
    "start_time": "2023-06-07T16:45:43.917Z"
   },
   {
    "duration": 49,
    "start_time": "2023-06-07T16:45:43.925Z"
   },
   {
    "duration": 9,
    "start_time": "2023-06-07T16:45:43.975Z"
   },
   {
    "duration": 3,
    "start_time": "2023-06-07T16:45:43.986Z"
   },
   {
    "duration": 12,
    "start_time": "2023-06-07T16:45:43.992Z"
   },
   {
    "duration": 20,
    "start_time": "2023-06-07T16:45:44.005Z"
   },
   {
    "duration": 21,
    "start_time": "2023-06-07T16:45:44.049Z"
   },
   {
    "duration": 5,
    "start_time": "2023-06-07T16:45:44.072Z"
   },
   {
    "duration": 24,
    "start_time": "2023-06-07T16:45:44.078Z"
   },
   {
    "duration": 8,
    "start_time": "2023-06-07T16:45:44.104Z"
   },
   {
    "duration": 5,
    "start_time": "2023-06-07T16:45:44.114Z"
   },
   {
    "duration": 37,
    "start_time": "2023-06-07T16:45:44.120Z"
   },
   {
    "duration": 5,
    "start_time": "2023-06-07T16:45:44.159Z"
   },
   {
    "duration": 23,
    "start_time": "2023-06-07T16:45:44.166Z"
   },
   {
    "duration": 147,
    "start_time": "2023-06-07T16:45:44.191Z"
   },
   {
    "duration": 126,
    "start_time": "2023-06-07T16:45:44.340Z"
   },
   {
    "duration": 0,
    "start_time": "2023-06-07T16:45:44.468Z"
   },
   {
    "duration": 0,
    "start_time": "2023-06-07T16:45:44.469Z"
   },
   {
    "duration": 18,
    "start_time": "2023-06-07T16:46:04.403Z"
   },
   {
    "duration": 16,
    "start_time": "2023-06-07T16:50:12.583Z"
   },
   {
    "duration": 19,
    "start_time": "2023-06-07T16:50:42.389Z"
   },
   {
    "duration": 18,
    "start_time": "2023-06-07T16:51:02.905Z"
   },
   {
    "duration": 16,
    "start_time": "2023-06-07T16:52:11.722Z"
   },
   {
    "duration": 1245,
    "start_time": "2023-06-07T16:52:19.949Z"
   },
   {
    "duration": 22,
    "start_time": "2023-06-07T16:52:21.196Z"
   },
   {
    "duration": 26,
    "start_time": "2023-06-07T16:52:21.219Z"
   },
   {
    "duration": 11,
    "start_time": "2023-06-07T16:52:21.250Z"
   },
   {
    "duration": 43,
    "start_time": "2023-06-07T16:52:21.262Z"
   },
   {
    "duration": 3,
    "start_time": "2023-06-07T16:52:21.307Z"
   },
   {
    "duration": 31,
    "start_time": "2023-06-07T16:52:21.312Z"
   },
   {
    "duration": 22,
    "start_time": "2023-06-07T16:52:21.345Z"
   },
   {
    "duration": 29,
    "start_time": "2023-06-07T16:52:21.369Z"
   },
   {
    "duration": 5,
    "start_time": "2023-06-07T16:52:21.400Z"
   },
   {
    "duration": 63,
    "start_time": "2023-06-07T16:52:21.406Z"
   },
   {
    "duration": 10,
    "start_time": "2023-06-07T16:52:21.470Z"
   },
   {
    "duration": 19,
    "start_time": "2023-06-07T16:52:21.482Z"
   },
   {
    "duration": 55,
    "start_time": "2023-06-07T16:52:21.504Z"
   },
   {
    "duration": 47,
    "start_time": "2023-06-07T16:52:21.561Z"
   },
   {
    "duration": 24,
    "start_time": "2023-06-07T16:52:21.610Z"
   },
   {
    "duration": 15,
    "start_time": "2023-06-07T16:52:21.636Z"
   },
   {
    "duration": 45,
    "start_time": "2023-06-07T16:52:21.653Z"
   },
   {
    "duration": 8,
    "start_time": "2023-06-07T16:52:21.700Z"
   },
   {
    "duration": 19,
    "start_time": "2023-06-07T16:52:21.710Z"
   },
   {
    "duration": 32,
    "start_time": "2023-06-07T16:52:21.731Z"
   },
   {
    "duration": 10,
    "start_time": "2023-06-07T16:52:21.765Z"
   },
   {
    "duration": 33,
    "start_time": "2023-06-07T16:52:21.777Z"
   },
   {
    "duration": 140,
    "start_time": "2023-06-07T16:52:21.812Z"
   },
   {
    "duration": 18,
    "start_time": "2023-06-07T16:52:21.954Z"
   },
   {
    "duration": 4,
    "start_time": "2023-06-07T16:52:21.974Z"
   },
   {
    "duration": 32,
    "start_time": "2023-06-07T16:52:21.980Z"
   },
   {
    "duration": 14,
    "start_time": "2023-06-07T16:53:21.256Z"
   },
   {
    "duration": 1221,
    "start_time": "2023-06-07T16:54:11.160Z"
   },
   {
    "duration": 20,
    "start_time": "2023-06-07T16:54:12.383Z"
   },
   {
    "duration": 15,
    "start_time": "2023-06-07T16:54:12.404Z"
   },
   {
    "duration": 30,
    "start_time": "2023-06-07T16:54:12.421Z"
   },
   {
    "duration": 39,
    "start_time": "2023-06-07T16:54:12.453Z"
   },
   {
    "duration": 5,
    "start_time": "2023-06-07T16:54:12.495Z"
   },
   {
    "duration": 11,
    "start_time": "2023-06-07T16:54:12.502Z"
   },
   {
    "duration": 5,
    "start_time": "2023-06-07T16:54:12.515Z"
   },
   {
    "duration": 10,
    "start_time": "2023-06-07T16:54:12.550Z"
   },
   {
    "duration": 5,
    "start_time": "2023-06-07T16:54:12.562Z"
   },
   {
    "duration": 41,
    "start_time": "2023-06-07T16:54:12.569Z"
   },
   {
    "duration": 10,
    "start_time": "2023-06-07T16:54:12.612Z"
   },
   {
    "duration": 26,
    "start_time": "2023-06-07T16:54:12.624Z"
   },
   {
    "duration": 15,
    "start_time": "2023-06-07T16:54:12.652Z"
   },
   {
    "duration": 20,
    "start_time": "2023-06-07T16:54:12.669Z"
   },
   {
    "duration": 25,
    "start_time": "2023-06-07T16:54:12.691Z"
   },
   {
    "duration": 3,
    "start_time": "2023-06-07T16:54:12.718Z"
   },
   {
    "duration": 37,
    "start_time": "2023-06-07T16:54:12.723Z"
   },
   {
    "duration": 6,
    "start_time": "2023-06-07T16:54:12.762Z"
   },
   {
    "duration": 3,
    "start_time": "2023-06-07T16:54:12.770Z"
   },
   {
    "duration": 11,
    "start_time": "2023-06-07T16:54:12.775Z"
   },
   {
    "duration": 5,
    "start_time": "2023-06-07T16:54:12.788Z"
   },
   {
    "duration": 18,
    "start_time": "2023-06-07T16:54:12.794Z"
   },
   {
    "duration": 171,
    "start_time": "2023-06-07T16:54:12.814Z"
   },
   {
    "duration": 18,
    "start_time": "2023-06-07T16:54:12.987Z"
   },
   {
    "duration": 3,
    "start_time": "2023-06-07T16:54:13.007Z"
   },
   {
    "duration": 4,
    "start_time": "2023-06-07T16:54:13.012Z"
   },
   {
    "duration": 14,
    "start_time": "2023-06-07T16:54:42.433Z"
   },
   {
    "duration": 13,
    "start_time": "2023-06-07T16:55:06.062Z"
   },
   {
    "duration": 1218,
    "start_time": "2023-06-07T16:55:30.510Z"
   },
   {
    "duration": 22,
    "start_time": "2023-06-07T16:55:31.731Z"
   },
   {
    "duration": 17,
    "start_time": "2023-06-07T16:55:31.755Z"
   },
   {
    "duration": 29,
    "start_time": "2023-06-07T16:55:31.775Z"
   },
   {
    "duration": 59,
    "start_time": "2023-06-07T16:55:31.806Z"
   },
   {
    "duration": 4,
    "start_time": "2023-06-07T16:55:31.867Z"
   },
   {
    "duration": 15,
    "start_time": "2023-06-07T16:55:31.873Z"
   },
   {
    "duration": 5,
    "start_time": "2023-06-07T16:55:31.890Z"
   },
   {
    "duration": 11,
    "start_time": "2023-06-07T16:55:31.897Z"
   },
   {
    "duration": 6,
    "start_time": "2023-06-07T16:55:31.911Z"
   },
   {
    "duration": 59,
    "start_time": "2023-06-07T16:55:31.919Z"
   },
   {
    "duration": 10,
    "start_time": "2023-06-07T16:55:31.980Z"
   },
   {
    "duration": 4,
    "start_time": "2023-06-07T16:55:31.991Z"
   },
   {
    "duration": 13,
    "start_time": "2023-06-07T16:55:31.996Z"
   },
   {
    "duration": 47,
    "start_time": "2023-06-07T16:55:32.011Z"
   },
   {
    "duration": 25,
    "start_time": "2023-06-07T16:55:32.060Z"
   },
   {
    "duration": 4,
    "start_time": "2023-06-07T16:55:32.087Z"
   },
   {
    "duration": 21,
    "start_time": "2023-06-07T16:55:32.093Z"
   },
   {
    "duration": 7,
    "start_time": "2023-06-07T16:55:32.116Z"
   },
   {
    "duration": 5,
    "start_time": "2023-06-07T16:55:32.150Z"
   },
   {
    "duration": 9,
    "start_time": "2023-06-07T16:55:32.157Z"
   },
   {
    "duration": 5,
    "start_time": "2023-06-07T16:55:32.168Z"
   },
   {
    "duration": 21,
    "start_time": "2023-06-07T16:55:32.176Z"
   },
   {
    "duration": 154,
    "start_time": "2023-06-07T16:55:32.199Z"
   },
   {
    "duration": 17,
    "start_time": "2023-06-07T16:55:32.354Z"
   },
   {
    "duration": 2,
    "start_time": "2023-06-07T16:55:32.373Z"
   },
   {
    "duration": 5,
    "start_time": "2023-06-07T16:55:32.377Z"
   },
   {
    "duration": 1366,
    "start_time": "2023-06-07T16:56:51.538Z"
   },
   {
    "duration": 20,
    "start_time": "2023-06-07T16:56:52.906Z"
   },
   {
    "duration": 23,
    "start_time": "2023-06-07T16:56:52.928Z"
   },
   {
    "duration": 10,
    "start_time": "2023-06-07T16:56:52.954Z"
   },
   {
    "duration": 34,
    "start_time": "2023-06-07T16:56:52.966Z"
   },
   {
    "duration": 4,
    "start_time": "2023-06-07T16:56:53.002Z"
   },
   {
    "duration": 22,
    "start_time": "2023-06-07T16:56:53.008Z"
   },
   {
    "duration": 5,
    "start_time": "2023-06-07T16:56:53.050Z"
   },
   {
    "duration": 8,
    "start_time": "2023-06-07T16:56:53.057Z"
   },
   {
    "duration": 4,
    "start_time": "2023-06-07T16:56:53.068Z"
   },
   {
    "duration": 34,
    "start_time": "2023-06-07T16:56:53.074Z"
   },
   {
    "duration": 10,
    "start_time": "2023-06-07T16:56:53.110Z"
   },
   {
    "duration": 4,
    "start_time": "2023-06-07T16:56:53.151Z"
   },
   {
    "duration": 11,
    "start_time": "2023-06-07T16:56:53.157Z"
   },
   {
    "duration": 20,
    "start_time": "2023-06-07T16:56:53.170Z"
   },
   {
    "duration": 18,
    "start_time": "2023-06-07T16:56:53.192Z"
   },
   {
    "duration": 3,
    "start_time": "2023-06-07T16:56:53.212Z"
   },
   {
    "duration": 16,
    "start_time": "2023-06-07T16:56:53.249Z"
   },
   {
    "duration": 7,
    "start_time": "2023-06-07T16:56:53.268Z"
   },
   {
    "duration": 5,
    "start_time": "2023-06-07T16:56:53.277Z"
   },
   {
    "duration": 15,
    "start_time": "2023-06-07T16:56:53.284Z"
   },
   {
    "duration": 4,
    "start_time": "2023-06-07T16:56:53.301Z"
   },
   {
    "duration": 140,
    "start_time": "2023-06-07T16:56:53.307Z"
   },
   {
    "duration": 0,
    "start_time": "2023-06-07T16:56:53.449Z"
   },
   {
    "duration": 0,
    "start_time": "2023-06-07T16:56:53.451Z"
   },
   {
    "duration": 0,
    "start_time": "2023-06-07T16:56:53.452Z"
   },
   {
    "duration": 0,
    "start_time": "2023-06-07T16:56:53.453Z"
   },
   {
    "duration": 4,
    "start_time": "2023-06-07T16:57:56.020Z"
   },
   {
    "duration": 1198,
    "start_time": "2023-06-07T16:58:06.201Z"
   },
   {
    "duration": 20,
    "start_time": "2023-06-07T16:58:07.401Z"
   },
   {
    "duration": 28,
    "start_time": "2023-06-07T16:58:07.423Z"
   },
   {
    "duration": 11,
    "start_time": "2023-06-07T16:58:07.454Z"
   },
   {
    "duration": 39,
    "start_time": "2023-06-07T16:58:07.468Z"
   },
   {
    "duration": 6,
    "start_time": "2023-06-07T16:58:07.509Z"
   },
   {
    "duration": 34,
    "start_time": "2023-06-07T16:58:07.517Z"
   },
   {
    "duration": 5,
    "start_time": "2023-06-07T16:58:07.552Z"
   },
   {
    "duration": 9,
    "start_time": "2023-06-07T16:58:07.559Z"
   },
   {
    "duration": 5,
    "start_time": "2023-06-07T16:58:07.571Z"
   },
   {
    "duration": 75,
    "start_time": "2023-06-07T16:58:07.578Z"
   },
   {
    "duration": 13,
    "start_time": "2023-06-07T16:58:07.655Z"
   },
   {
    "duration": 16,
    "start_time": "2023-06-07T16:58:07.670Z"
   },
   {
    "duration": 18,
    "start_time": "2023-06-07T16:58:07.687Z"
   },
   {
    "duration": 29,
    "start_time": "2023-06-07T16:58:07.708Z"
   },
   {
    "duration": 19,
    "start_time": "2023-06-07T16:58:07.750Z"
   },
   {
    "duration": 4,
    "start_time": "2023-06-07T16:58:07.771Z"
   },
   {
    "duration": 18,
    "start_time": "2023-06-07T16:58:07.777Z"
   },
   {
    "duration": 7,
    "start_time": "2023-06-07T16:58:07.797Z"
   },
   {
    "duration": 4,
    "start_time": "2023-06-07T16:58:07.806Z"
   },
   {
    "duration": 44,
    "start_time": "2023-06-07T16:58:07.812Z"
   },
   {
    "duration": 5,
    "start_time": "2023-06-07T16:58:07.858Z"
   },
   {
    "duration": 131,
    "start_time": "2023-06-07T16:58:07.864Z"
   },
   {
    "duration": 0,
    "start_time": "2023-06-07T16:58:07.997Z"
   },
   {
    "duration": 0,
    "start_time": "2023-06-07T16:58:07.998Z"
   },
   {
    "duration": 0,
    "start_time": "2023-06-07T16:58:07.999Z"
   },
   {
    "duration": 1,
    "start_time": "2023-06-07T16:58:07.999Z"
   },
   {
    "duration": 1238,
    "start_time": "2023-06-07T16:58:26.831Z"
   },
   {
    "duration": 21,
    "start_time": "2023-06-07T16:58:28.072Z"
   },
   {
    "duration": 17,
    "start_time": "2023-06-07T16:58:28.095Z"
   },
   {
    "duration": 10,
    "start_time": "2023-06-07T16:58:28.115Z"
   },
   {
    "duration": 56,
    "start_time": "2023-06-07T16:58:28.126Z"
   },
   {
    "duration": 4,
    "start_time": "2023-06-07T16:58:28.184Z"
   },
   {
    "duration": 12,
    "start_time": "2023-06-07T16:58:28.189Z"
   },
   {
    "duration": 6,
    "start_time": "2023-06-07T16:58:28.202Z"
   },
   {
    "duration": 9,
    "start_time": "2023-06-07T16:58:28.210Z"
   },
   {
    "duration": 5,
    "start_time": "2023-06-07T16:58:28.250Z"
   },
   {
    "duration": 45,
    "start_time": "2023-06-07T16:58:28.257Z"
   },
   {
    "duration": 10,
    "start_time": "2023-06-07T16:58:28.303Z"
   },
   {
    "duration": 4,
    "start_time": "2023-06-07T16:58:28.315Z"
   },
   {
    "duration": 30,
    "start_time": "2023-06-07T16:58:28.320Z"
   },
   {
    "duration": 19,
    "start_time": "2023-06-07T16:58:28.351Z"
   },
   {
    "duration": 16,
    "start_time": "2023-06-07T16:58:28.372Z"
   },
   {
    "duration": 4,
    "start_time": "2023-06-07T16:58:28.389Z"
   },
   {
    "duration": 13,
    "start_time": "2023-06-07T16:58:28.394Z"
   },
   {
    "duration": 6,
    "start_time": "2023-06-07T16:58:28.408Z"
   },
   {
    "duration": 4,
    "start_time": "2023-06-07T16:58:28.415Z"
   },
   {
    "duration": 41,
    "start_time": "2023-06-07T16:58:28.420Z"
   },
   {
    "duration": 5,
    "start_time": "2023-06-07T16:58:28.463Z"
   },
   {
    "duration": 15,
    "start_time": "2023-06-07T16:58:28.469Z"
   },
   {
    "duration": 137,
    "start_time": "2023-06-07T16:58:28.486Z"
   },
   {
    "duration": 33,
    "start_time": "2023-06-07T16:58:28.625Z"
   },
   {
    "duration": 3,
    "start_time": "2023-06-07T16:58:28.659Z"
   },
   {
    "duration": 5,
    "start_time": "2023-06-07T16:58:28.664Z"
   },
   {
    "duration": 1194,
    "start_time": "2023-06-07T16:59:47.171Z"
   },
   {
    "duration": 19,
    "start_time": "2023-06-07T16:59:48.367Z"
   },
   {
    "duration": 15,
    "start_time": "2023-06-07T16:59:48.387Z"
   },
   {
    "duration": 9,
    "start_time": "2023-06-07T16:59:48.403Z"
   },
   {
    "duration": 59,
    "start_time": "2023-06-07T16:59:48.413Z"
   },
   {
    "duration": 4,
    "start_time": "2023-06-07T16:59:48.474Z"
   },
   {
    "duration": 10,
    "start_time": "2023-06-07T16:59:48.479Z"
   },
   {
    "duration": 4,
    "start_time": "2023-06-07T16:59:48.490Z"
   },
   {
    "duration": 8,
    "start_time": "2023-06-07T16:59:48.496Z"
   },
   {
    "duration": 5,
    "start_time": "2023-06-07T16:59:48.506Z"
   },
   {
    "duration": 59,
    "start_time": "2023-06-07T16:59:48.513Z"
   },
   {
    "duration": 9,
    "start_time": "2023-06-07T16:59:48.574Z"
   },
   {
    "duration": 4,
    "start_time": "2023-06-07T16:59:48.584Z"
   },
   {
    "duration": 11,
    "start_time": "2023-06-07T16:59:48.589Z"
   },
   {
    "duration": 19,
    "start_time": "2023-06-07T16:59:48.602Z"
   },
   {
    "duration": 42,
    "start_time": "2023-06-07T16:59:48.623Z"
   },
   {
    "duration": 3,
    "start_time": "2023-06-07T16:59:48.667Z"
   },
   {
    "duration": 14,
    "start_time": "2023-06-07T16:59:48.672Z"
   },
   {
    "duration": 5,
    "start_time": "2023-06-07T16:59:48.688Z"
   },
   {
    "duration": 3,
    "start_time": "2023-06-07T16:59:48.695Z"
   },
   {
    "duration": 10,
    "start_time": "2023-06-07T16:59:48.699Z"
   },
   {
    "duration": 4,
    "start_time": "2023-06-07T16:59:48.710Z"
   },
   {
    "duration": 40,
    "start_time": "2023-06-07T16:59:48.715Z"
   },
   {
    "duration": 140,
    "start_time": "2023-06-07T16:59:48.757Z"
   },
   {
    "duration": 18,
    "start_time": "2023-06-07T16:59:48.898Z"
   },
   {
    "duration": 2,
    "start_time": "2023-06-07T16:59:48.917Z"
   },
   {
    "duration": 4,
    "start_time": "2023-06-07T16:59:48.921Z"
   },
   {
    "duration": 157,
    "start_time": "2023-06-07T17:00:49.977Z"
   },
   {
    "duration": 1267,
    "start_time": "2023-06-07T17:01:05.531Z"
   },
   {
    "duration": 124,
    "start_time": "2023-06-07T17:01:21.159Z"
   },
   {
    "duration": 17,
    "start_time": "2023-06-07T17:03:19.676Z"
   },
   {
    "duration": 16,
    "start_time": "2023-06-07T17:03:49.177Z"
   },
   {
    "duration": 18,
    "start_time": "2023-06-07T17:03:59.006Z"
   },
   {
    "duration": 18,
    "start_time": "2023-06-07T17:04:06.781Z"
   },
   {
    "duration": 15,
    "start_time": "2023-06-07T17:07:46.605Z"
   },
   {
    "duration": 1172,
    "start_time": "2023-06-07T17:07:56.882Z"
   },
   {
    "duration": 21,
    "start_time": "2023-06-07T17:07:58.056Z"
   },
   {
    "duration": 23,
    "start_time": "2023-06-07T17:07:58.079Z"
   },
   {
    "duration": 10,
    "start_time": "2023-06-07T17:07:58.104Z"
   },
   {
    "duration": 62,
    "start_time": "2023-06-07T17:07:58.115Z"
   },
   {
    "duration": 3,
    "start_time": "2023-06-07T17:07:58.179Z"
   },
   {
    "duration": 16,
    "start_time": "2023-06-07T17:07:58.184Z"
   },
   {
    "duration": 6,
    "start_time": "2023-06-07T17:07:58.202Z"
   },
   {
    "duration": 17,
    "start_time": "2023-06-07T17:07:58.210Z"
   },
   {
    "duration": 21,
    "start_time": "2023-06-07T17:07:58.231Z"
   },
   {
    "duration": 37,
    "start_time": "2023-06-07T17:07:58.254Z"
   },
   {
    "duration": 13,
    "start_time": "2023-06-07T17:07:58.294Z"
   },
   {
    "duration": 4,
    "start_time": "2023-06-07T17:07:58.309Z"
   },
   {
    "duration": 50,
    "start_time": "2023-06-07T17:07:58.315Z"
   },
   {
    "duration": 29,
    "start_time": "2023-06-07T17:07:58.367Z"
   },
   {
    "duration": 26,
    "start_time": "2023-06-07T17:07:58.398Z"
   },
   {
    "duration": 5,
    "start_time": "2023-06-07T17:07:58.426Z"
   },
   {
    "duration": 12,
    "start_time": "2023-06-07T17:07:58.451Z"
   },
   {
    "duration": 8,
    "start_time": "2023-06-07T17:07:58.465Z"
   },
   {
    "duration": 5,
    "start_time": "2023-06-07T17:07:58.475Z"
   },
   {
    "duration": 9,
    "start_time": "2023-06-07T17:07:58.482Z"
   },
   {
    "duration": 5,
    "start_time": "2023-06-07T17:07:58.493Z"
   },
   {
    "duration": 55,
    "start_time": "2023-06-07T17:07:58.500Z"
   },
   {
    "duration": 141,
    "start_time": "2023-06-07T17:07:58.557Z"
   },
   {
    "duration": 17,
    "start_time": "2023-06-07T17:07:58.700Z"
   },
   {
    "duration": 6,
    "start_time": "2023-06-07T17:07:58.719Z"
   },
   {
    "duration": 10,
    "start_time": "2023-06-07T17:07:58.726Z"
   },
   {
    "duration": 23,
    "start_time": "2023-06-07T17:08:53.076Z"
   },
   {
    "duration": 18,
    "start_time": "2023-06-07T17:09:26.684Z"
   },
   {
    "duration": 23,
    "start_time": "2023-06-07T17:10:15.088Z"
   },
   {
    "duration": 107,
    "start_time": "2023-06-07T17:11:34.575Z"
   },
   {
    "duration": 43,
    "start_time": "2023-06-07T17:11:54.833Z"
   },
   {
    "duration": 15,
    "start_time": "2023-06-07T17:12:57.448Z"
   },
   {
    "duration": 102,
    "start_time": "2023-06-07T17:13:43.951Z"
   },
   {
    "duration": 5,
    "start_time": "2023-06-07T17:14:00.042Z"
   },
   {
    "duration": 19,
    "start_time": "2023-06-07T17:14:07.897Z"
   },
   {
    "duration": 1236,
    "start_time": "2023-06-07T17:14:33.207Z"
   },
   {
    "duration": 25,
    "start_time": "2023-06-07T17:14:34.445Z"
   },
   {
    "duration": 25,
    "start_time": "2023-06-07T17:14:34.472Z"
   },
   {
    "duration": 14,
    "start_time": "2023-06-07T17:14:34.500Z"
   },
   {
    "duration": 74,
    "start_time": "2023-06-07T17:14:34.515Z"
   },
   {
    "duration": 5,
    "start_time": "2023-06-07T17:14:34.591Z"
   },
   {
    "duration": 24,
    "start_time": "2023-06-07T17:14:34.598Z"
   },
   {
    "duration": 27,
    "start_time": "2023-06-07T17:14:34.624Z"
   },
   {
    "duration": 12,
    "start_time": "2023-06-07T17:14:34.653Z"
   },
   {
    "duration": 6,
    "start_time": "2023-06-07T17:14:34.668Z"
   },
   {
    "duration": 51,
    "start_time": "2023-06-07T17:14:34.676Z"
   },
   {
    "duration": 26,
    "start_time": "2023-06-07T17:14:34.729Z"
   },
   {
    "duration": 4,
    "start_time": "2023-06-07T17:14:34.758Z"
   },
   {
    "duration": 19,
    "start_time": "2023-06-07T17:14:34.763Z"
   },
   {
    "duration": 26,
    "start_time": "2023-06-07T17:14:34.784Z"
   },
   {
    "duration": 54,
    "start_time": "2023-06-07T17:14:34.812Z"
   },
   {
    "duration": 4,
    "start_time": "2023-06-07T17:14:34.868Z"
   },
   {
    "duration": 11,
    "start_time": "2023-06-07T17:14:34.873Z"
   },
   {
    "duration": 6,
    "start_time": "2023-06-07T17:14:34.886Z"
   },
   {
    "duration": 5,
    "start_time": "2023-06-07T17:14:34.894Z"
   },
   {
    "duration": 14,
    "start_time": "2023-06-07T17:14:34.900Z"
   },
   {
    "duration": 37,
    "start_time": "2023-06-07T17:14:34.916Z"
   },
   {
    "duration": 113,
    "start_time": "2023-06-07T17:14:34.955Z"
   },
   {
    "duration": 0,
    "start_time": "2023-06-07T17:14:35.069Z"
   },
   {
    "duration": 0,
    "start_time": "2023-06-07T17:14:35.071Z"
   },
   {
    "duration": 0,
    "start_time": "2023-06-07T17:14:35.072Z"
   },
   {
    "duration": 0,
    "start_time": "2023-06-07T17:14:35.073Z"
   },
   {
    "duration": 4,
    "start_time": "2023-06-07T17:15:07.943Z"
   },
   {
    "duration": 20,
    "start_time": "2023-06-07T17:15:08.643Z"
   },
   {
    "duration": 181,
    "start_time": "2023-06-07T17:21:19.679Z"
   },
   {
    "duration": 25,
    "start_time": "2023-06-07T17:22:12.110Z"
   },
   {
    "duration": 19,
    "start_time": "2023-06-07T17:22:56.633Z"
   },
   {
    "duration": 20,
    "start_time": "2023-06-07T17:23:42.860Z"
   },
   {
    "duration": 197,
    "start_time": "2023-06-07T17:23:46.080Z"
   },
   {
    "duration": 13,
    "start_time": "2023-06-07T17:24:28.705Z"
   },
   {
    "duration": 20,
    "start_time": "2023-06-07T17:30:47.237Z"
   },
   {
    "duration": 18,
    "start_time": "2023-06-07T17:31:57.501Z"
   },
   {
    "duration": 4,
    "start_time": "2023-06-07T17:32:37.665Z"
   },
   {
    "duration": 25,
    "start_time": "2023-06-07T17:32:38.539Z"
   },
   {
    "duration": 124,
    "start_time": "2023-06-07T17:32:42.026Z"
   },
   {
    "duration": 1232,
    "start_time": "2023-06-07T17:32:49.629Z"
   },
   {
    "duration": 19,
    "start_time": "2023-06-07T17:32:50.863Z"
   },
   {
    "duration": 15,
    "start_time": "2023-06-07T17:32:50.883Z"
   },
   {
    "duration": 9,
    "start_time": "2023-06-07T17:32:50.900Z"
   },
   {
    "duration": 58,
    "start_time": "2023-06-07T17:32:50.910Z"
   },
   {
    "duration": 3,
    "start_time": "2023-06-07T17:32:50.970Z"
   },
   {
    "duration": 14,
    "start_time": "2023-06-07T17:32:50.975Z"
   },
   {
    "duration": 6,
    "start_time": "2023-06-07T17:32:50.991Z"
   },
   {
    "duration": 19,
    "start_time": "2023-06-07T17:32:50.998Z"
   },
   {
    "duration": 13,
    "start_time": "2023-06-07T17:32:51.019Z"
   },
   {
    "duration": 38,
    "start_time": "2023-06-07T17:32:51.034Z"
   },
   {
    "duration": 10,
    "start_time": "2023-06-07T17:32:51.074Z"
   },
   {
    "duration": 12,
    "start_time": "2023-06-07T17:32:51.085Z"
   },
   {
    "duration": 21,
    "start_time": "2023-06-07T17:32:51.099Z"
   },
   {
    "duration": 23,
    "start_time": "2023-06-07T17:32:51.122Z"
   },
   {
    "duration": 18,
    "start_time": "2023-06-07T17:32:51.149Z"
   },
   {
    "duration": 4,
    "start_time": "2023-06-07T17:32:51.169Z"
   },
   {
    "duration": 13,
    "start_time": "2023-06-07T17:32:51.174Z"
   },
   {
    "duration": 6,
    "start_time": "2023-06-07T17:32:51.188Z"
   },
   {
    "duration": 16,
    "start_time": "2023-06-07T17:32:51.195Z"
   },
   {
    "duration": 11,
    "start_time": "2023-06-07T17:32:51.213Z"
   },
   {
    "duration": 12,
    "start_time": "2023-06-07T17:32:51.225Z"
   },
   {
    "duration": 125,
    "start_time": "2023-06-07T17:32:51.238Z"
   },
   {
    "duration": 0,
    "start_time": "2023-06-07T17:32:51.365Z"
   },
   {
    "duration": 0,
    "start_time": "2023-06-07T17:32:51.367Z"
   },
   {
    "duration": 0,
    "start_time": "2023-06-07T17:32:51.368Z"
   },
   {
    "duration": 0,
    "start_time": "2023-06-07T17:32:51.370Z"
   },
   {
    "duration": 4,
    "start_time": "2023-06-07T17:33:13.444Z"
   },
   {
    "duration": 19,
    "start_time": "2023-06-07T17:33:14.748Z"
   },
   {
    "duration": 123,
    "start_time": "2023-06-07T17:33:17.812Z"
   },
   {
    "duration": 18,
    "start_time": "2023-06-07T17:33:21.606Z"
   },
   {
    "duration": 17,
    "start_time": "2023-06-07T17:34:06.625Z"
   },
   {
    "duration": 17,
    "start_time": "2023-06-07T17:34:28.059Z"
   },
   {
    "duration": 17,
    "start_time": "2023-06-07T17:34:46.298Z"
   },
   {
    "duration": 15,
    "start_time": "2023-06-07T17:36:35.179Z"
   },
   {
    "duration": 19,
    "start_time": "2023-06-07T17:37:49.559Z"
   },
   {
    "duration": 21,
    "start_time": "2023-06-07T17:38:13.243Z"
   },
   {
    "duration": 21,
    "start_time": "2023-06-07T17:38:36.478Z"
   },
   {
    "duration": 21,
    "start_time": "2023-06-07T17:38:56.524Z"
   },
   {
    "duration": 167,
    "start_time": "2023-06-07T17:39:13.231Z"
   },
   {
    "duration": 1307,
    "start_time": "2023-06-07T17:40:59.430Z"
   },
   {
    "duration": 188,
    "start_time": "2023-06-07T17:41:15.578Z"
   },
   {
    "duration": 180,
    "start_time": "2023-06-07T17:42:52.135Z"
   },
   {
    "duration": 136,
    "start_time": "2023-06-07T17:45:10.421Z"
   },
   {
    "duration": 19,
    "start_time": "2023-06-07T17:46:59.093Z"
   },
   {
    "duration": 1175,
    "start_time": "2023-06-07T17:47:46.287Z"
   },
   {
    "duration": 19,
    "start_time": "2023-06-07T17:47:47.464Z"
   },
   {
    "duration": 15,
    "start_time": "2023-06-07T17:47:47.484Z"
   },
   {
    "duration": 15,
    "start_time": "2023-06-07T17:47:47.501Z"
   },
   {
    "duration": 77,
    "start_time": "2023-06-07T17:47:47.519Z"
   },
   {
    "duration": 3,
    "start_time": "2023-06-07T17:47:47.598Z"
   },
   {
    "duration": 10,
    "start_time": "2023-06-07T17:47:47.603Z"
   },
   {
    "duration": 4,
    "start_time": "2023-06-07T17:47:47.614Z"
   },
   {
    "duration": 31,
    "start_time": "2023-06-07T17:47:47.619Z"
   },
   {
    "duration": 4,
    "start_time": "2023-06-07T17:47:47.652Z"
   },
   {
    "duration": 40,
    "start_time": "2023-06-07T17:47:47.658Z"
   },
   {
    "duration": 9,
    "start_time": "2023-06-07T17:47:47.699Z"
   },
   {
    "duration": 12,
    "start_time": "2023-06-07T17:47:47.709Z"
   },
   {
    "duration": 16,
    "start_time": "2023-06-07T17:47:47.724Z"
   },
   {
    "duration": 27,
    "start_time": "2023-06-07T17:47:47.741Z"
   },
   {
    "duration": 18,
    "start_time": "2023-06-07T17:47:47.770Z"
   },
   {
    "duration": 4,
    "start_time": "2023-06-07T17:47:47.790Z"
   },
   {
    "duration": 20,
    "start_time": "2023-06-07T17:47:47.796Z"
   },
   {
    "duration": 6,
    "start_time": "2023-06-07T17:47:47.818Z"
   },
   {
    "duration": 28,
    "start_time": "2023-06-07T17:47:47.825Z"
   },
   {
    "duration": 12,
    "start_time": "2023-06-07T17:47:47.855Z"
   },
   {
    "duration": 4,
    "start_time": "2023-06-07T17:47:47.869Z"
   },
   {
    "duration": 25,
    "start_time": "2023-06-07T17:47:47.875Z"
   },
   {
    "duration": 166,
    "start_time": "2023-06-07T17:47:47.903Z"
   },
   {
    "duration": 18,
    "start_time": "2023-06-07T17:47:48.071Z"
   },
   {
    "duration": 138,
    "start_time": "2023-06-07T17:47:48.091Z"
   },
   {
    "duration": 33,
    "start_time": "2023-06-07T17:47:48.231Z"
   },
   {
    "duration": 5,
    "start_time": "2023-06-07T17:47:48.267Z"
   },
   {
    "duration": 5,
    "start_time": "2023-06-07T17:47:48.274Z"
   },
   {
    "duration": 124,
    "start_time": "2023-06-07T17:49:00.089Z"
   },
   {
    "duration": 135,
    "start_time": "2023-06-07T17:49:47.677Z"
   },
   {
    "duration": 1360,
    "start_time": "2023-06-07T17:50:03.713Z"
   },
   {
    "duration": 1133,
    "start_time": "2023-06-07T17:50:33.820Z"
   },
   {
    "duration": 612,
    "start_time": "2023-06-07T17:50:55.825Z"
   },
   {
    "duration": 29,
    "start_time": "2023-06-07T17:53:03.054Z"
   },
   {
    "duration": 20,
    "start_time": "2023-06-07T17:53:56.776Z"
   },
   {
    "duration": 193,
    "start_time": "2023-06-07T17:54:43.943Z"
   },
   {
    "duration": 128,
    "start_time": "2023-06-07T17:56:07.356Z"
   },
   {
    "duration": 17,
    "start_time": "2023-06-07T17:56:46.652Z"
   },
   {
    "duration": 19,
    "start_time": "2023-06-07T17:57:05.383Z"
   },
   {
    "duration": 15,
    "start_time": "2023-06-07T18:02:48.264Z"
   },
   {
    "duration": 12,
    "start_time": "2023-06-07T18:03:16.340Z"
   },
   {
    "duration": 11,
    "start_time": "2023-06-07T18:03:53.241Z"
   },
   {
    "duration": 1251,
    "start_time": "2023-06-07T18:04:05.410Z"
   },
   {
    "duration": 15,
    "start_time": "2023-06-07T18:04:21.257Z"
   },
   {
    "duration": 1202,
    "start_time": "2023-06-07T18:05:09.939Z"
   },
   {
    "duration": 132,
    "start_time": "2023-06-07T18:05:22.289Z"
   },
   {
    "duration": 1230,
    "start_time": "2023-06-07T18:06:17.932Z"
   },
   {
    "duration": 20,
    "start_time": "2023-06-07T18:06:19.164Z"
   },
   {
    "duration": 14,
    "start_time": "2023-06-07T18:06:19.186Z"
   },
   {
    "duration": 9,
    "start_time": "2023-06-07T18:06:19.202Z"
   },
   {
    "duration": 61,
    "start_time": "2023-06-07T18:06:19.213Z"
   },
   {
    "duration": 4,
    "start_time": "2023-06-07T18:06:19.277Z"
   },
   {
    "duration": 11,
    "start_time": "2023-06-07T18:06:19.283Z"
   },
   {
    "duration": 6,
    "start_time": "2023-06-07T18:06:19.296Z"
   },
   {
    "duration": 24,
    "start_time": "2023-06-07T18:06:19.304Z"
   },
   {
    "duration": 20,
    "start_time": "2023-06-07T18:06:19.331Z"
   },
   {
    "duration": 50,
    "start_time": "2023-06-07T18:06:19.354Z"
   },
   {
    "duration": 15,
    "start_time": "2023-06-07T18:06:19.406Z"
   },
   {
    "duration": 27,
    "start_time": "2023-06-07T18:06:19.423Z"
   },
   {
    "duration": 18,
    "start_time": "2023-06-07T18:06:19.452Z"
   },
   {
    "duration": 26,
    "start_time": "2023-06-07T18:06:19.472Z"
   },
   {
    "duration": 17,
    "start_time": "2023-06-07T18:06:19.500Z"
   },
   {
    "duration": 4,
    "start_time": "2023-06-07T18:06:19.519Z"
   },
   {
    "duration": 27,
    "start_time": "2023-06-07T18:06:19.524Z"
   },
   {
    "duration": 7,
    "start_time": "2023-06-07T18:06:19.553Z"
   },
   {
    "duration": 4,
    "start_time": "2023-06-07T18:06:19.562Z"
   },
   {
    "duration": 25,
    "start_time": "2023-06-07T18:06:19.568Z"
   },
   {
    "duration": 13,
    "start_time": "2023-06-07T18:06:19.595Z"
   },
   {
    "duration": 16,
    "start_time": "2023-06-07T18:06:19.610Z"
   },
   {
    "duration": 157,
    "start_time": "2023-06-07T18:06:19.628Z"
   },
   {
    "duration": 18,
    "start_time": "2023-06-07T18:06:19.787Z"
   },
   {
    "duration": 169,
    "start_time": "2023-06-07T18:06:19.807Z"
   },
   {
    "duration": 3,
    "start_time": "2023-06-07T18:06:19.977Z"
   },
   {
    "duration": 4,
    "start_time": "2023-06-07T18:06:19.983Z"
   },
   {
    "duration": 116,
    "start_time": "2023-06-07T18:07:30.951Z"
   },
   {
    "duration": 27,
    "start_time": "2023-06-07T18:08:30.031Z"
   },
   {
    "duration": 10,
    "start_time": "2023-06-07T18:08:52.754Z"
   },
   {
    "duration": 1205,
    "start_time": "2023-06-07T18:09:28.798Z"
   },
   {
    "duration": 11,
    "start_time": "2023-06-07T18:09:45.936Z"
   },
   {
    "duration": 1254,
    "start_time": "2023-06-07T18:10:08.736Z"
   },
   {
    "duration": 203,
    "start_time": "2023-06-07T18:10:24.142Z"
   },
   {
    "duration": 1148,
    "start_time": "2023-06-07T18:11:15.008Z"
   },
   {
    "duration": 17,
    "start_time": "2023-06-07T18:11:48.619Z"
   },
   {
    "duration": 185,
    "start_time": "2023-06-07T18:13:26.813Z"
   },
   {
    "duration": 76,
    "start_time": "2023-06-07T18:14:07.005Z"
   },
   {
    "duration": 137,
    "start_time": "2023-06-07T18:14:27.383Z"
   },
   {
    "duration": 186,
    "start_time": "2023-06-07T18:14:41.882Z"
   },
   {
    "duration": 162,
    "start_time": "2023-06-07T18:15:04.015Z"
   },
   {
    "duration": 169,
    "start_time": "2023-06-07T18:17:21.792Z"
   },
   {
    "duration": 162,
    "start_time": "2023-06-07T18:17:43.647Z"
   },
   {
    "duration": 243,
    "start_time": "2023-06-07T18:18:58.247Z"
   },
   {
    "duration": 125,
    "start_time": "2023-06-07T18:19:36.302Z"
   },
   {
    "duration": 191,
    "start_time": "2023-06-07T18:20:34.984Z"
   },
   {
    "duration": 90,
    "start_time": "2023-06-07T18:24:46.627Z"
   },
   {
    "duration": 53,
    "start_time": "2023-06-08T12:59:17.782Z"
   },
   {
    "duration": 1621,
    "start_time": "2023-06-08T12:59:31.759Z"
   },
   {
    "duration": 20,
    "start_time": "2023-06-08T12:59:33.383Z"
   },
   {
    "duration": 24,
    "start_time": "2023-06-08T12:59:33.404Z"
   },
   {
    "duration": 8,
    "start_time": "2023-06-08T12:59:33.431Z"
   },
   {
    "duration": 33,
    "start_time": "2023-06-08T12:59:33.440Z"
   },
   {
    "duration": 4,
    "start_time": "2023-06-08T12:59:33.474Z"
   },
   {
    "duration": 9,
    "start_time": "2023-06-08T12:59:33.479Z"
   },
   {
    "duration": 4,
    "start_time": "2023-06-08T12:59:33.490Z"
   },
   {
    "duration": 22,
    "start_time": "2023-06-08T12:59:33.495Z"
   },
   {
    "duration": 11,
    "start_time": "2023-06-08T12:59:33.519Z"
   },
   {
    "duration": 31,
    "start_time": "2023-06-08T12:59:33.531Z"
   },
   {
    "duration": 9,
    "start_time": "2023-06-08T12:59:33.563Z"
   },
   {
    "duration": 4,
    "start_time": "2023-06-08T12:59:33.573Z"
   },
   {
    "duration": 14,
    "start_time": "2023-06-08T12:59:33.578Z"
   },
   {
    "duration": 46,
    "start_time": "2023-06-08T12:59:33.593Z"
   },
   {
    "duration": 15,
    "start_time": "2023-06-08T12:59:33.641Z"
   },
   {
    "duration": 3,
    "start_time": "2023-06-08T12:59:33.658Z"
   },
   {
    "duration": 14,
    "start_time": "2023-06-08T12:59:33.663Z"
   },
   {
    "duration": 6,
    "start_time": "2023-06-08T12:59:33.678Z"
   },
   {
    "duration": 4,
    "start_time": "2023-06-08T12:59:33.686Z"
   },
   {
    "duration": 36,
    "start_time": "2023-06-08T12:59:33.691Z"
   },
   {
    "duration": 4,
    "start_time": "2023-06-08T12:59:33.731Z"
   },
   {
    "duration": 16,
    "start_time": "2023-06-08T12:59:33.736Z"
   },
   {
    "duration": 132,
    "start_time": "2023-06-08T12:59:33.754Z"
   },
   {
    "duration": 19,
    "start_time": "2023-06-08T12:59:33.888Z"
   },
   {
    "duration": 122,
    "start_time": "2023-06-08T12:59:33.921Z"
   },
   {
    "duration": 0,
    "start_time": "2023-06-08T12:59:34.045Z"
   },
   {
    "duration": 1,
    "start_time": "2023-06-08T12:59:34.046Z"
   },
   {
    "duration": 16,
    "start_time": "2023-06-08T13:01:04.583Z"
   },
   {
    "duration": 16,
    "start_time": "2023-06-08T13:01:09.398Z"
   },
   {
    "duration": 17,
    "start_time": "2023-06-08T13:01:27.174Z"
   },
   {
    "duration": 1419,
    "start_time": "2023-06-08T13:02:15.027Z"
   },
   {
    "duration": 18,
    "start_time": "2023-06-08T13:02:16.447Z"
   },
   {
    "duration": 23,
    "start_time": "2023-06-08T13:02:16.467Z"
   },
   {
    "duration": 8,
    "start_time": "2023-06-08T13:02:16.492Z"
   },
   {
    "duration": 47,
    "start_time": "2023-06-08T13:02:16.501Z"
   },
   {
    "duration": 4,
    "start_time": "2023-06-08T13:02:16.549Z"
   },
   {
    "duration": 9,
    "start_time": "2023-06-08T13:02:16.554Z"
   },
   {
    "duration": 5,
    "start_time": "2023-06-08T13:02:16.565Z"
   },
   {
    "duration": 6,
    "start_time": "2023-06-08T13:02:16.572Z"
   },
   {
    "duration": 4,
    "start_time": "2023-06-08T13:02:16.581Z"
   },
   {
    "duration": 38,
    "start_time": "2023-06-08T13:02:16.615Z"
   },
   {
    "duration": 8,
    "start_time": "2023-06-08T13:02:16.655Z"
   },
   {
    "duration": 6,
    "start_time": "2023-06-08T13:02:16.664Z"
   },
   {
    "duration": 16,
    "start_time": "2023-06-08T13:02:16.671Z"
   },
   {
    "duration": 39,
    "start_time": "2023-06-08T13:02:16.688Z"
   },
   {
    "duration": 24,
    "start_time": "2023-06-08T13:02:16.730Z"
   },
   {
    "duration": 5,
    "start_time": "2023-06-08T13:02:16.756Z"
   },
   {
    "duration": 19,
    "start_time": "2023-06-08T13:02:16.762Z"
   },
   {
    "duration": 26,
    "start_time": "2023-06-08T13:02:16.783Z"
   },
   {
    "duration": 18,
    "start_time": "2023-06-08T13:02:16.810Z"
   },
   {
    "duration": 26,
    "start_time": "2023-06-08T13:02:16.829Z"
   },
   {
    "duration": 5,
    "start_time": "2023-06-08T13:02:16.857Z"
   },
   {
    "duration": 16,
    "start_time": "2023-06-08T13:02:16.863Z"
   },
   {
    "duration": 111,
    "start_time": "2023-06-08T13:02:16.880Z"
   },
   {
    "duration": 15,
    "start_time": "2023-06-08T13:02:16.992Z"
   },
   {
    "duration": 126,
    "start_time": "2023-06-08T13:02:17.009Z"
   },
   {
    "duration": 0,
    "start_time": "2023-06-08T13:02:17.136Z"
   },
   {
    "duration": 0,
    "start_time": "2023-06-08T13:02:17.138Z"
   },
   {
    "duration": 28,
    "start_time": "2023-06-08T13:03:22.981Z"
   },
   {
    "duration": 20,
    "start_time": "2023-06-08T13:04:52.622Z"
   },
   {
    "duration": 10,
    "start_time": "2023-06-08T13:05:22.471Z"
   },
   {
    "duration": 124,
    "start_time": "2023-06-08T13:05:42.814Z"
   },
   {
    "duration": 120,
    "start_time": "2023-06-08T13:06:15.044Z"
   },
   {
    "duration": 1672,
    "start_time": "2023-06-08T13:07:00.138Z"
   },
   {
    "duration": 40,
    "start_time": "2023-06-08T13:07:01.812Z"
   },
   {
    "duration": 75,
    "start_time": "2023-06-08T13:07:01.854Z"
   },
   {
    "duration": 46,
    "start_time": "2023-06-08T13:07:01.937Z"
   },
   {
    "duration": 78,
    "start_time": "2023-06-08T13:07:01.985Z"
   },
   {
    "duration": 4,
    "start_time": "2023-06-08T13:07:02.064Z"
   },
   {
    "duration": 35,
    "start_time": "2023-06-08T13:07:02.069Z"
   },
   {
    "duration": 29,
    "start_time": "2023-06-08T13:07:02.106Z"
   },
   {
    "duration": 55,
    "start_time": "2023-06-08T13:07:02.137Z"
   },
   {
    "duration": 42,
    "start_time": "2023-06-08T13:07:02.194Z"
   },
   {
    "duration": 192,
    "start_time": "2023-06-08T13:07:02.237Z"
   },
   {
    "duration": 43,
    "start_time": "2023-06-08T13:07:02.432Z"
   },
   {
    "duration": 28,
    "start_time": "2023-06-08T13:07:02.476Z"
   },
   {
    "duration": 41,
    "start_time": "2023-06-08T13:07:02.505Z"
   },
   {
    "duration": 35,
    "start_time": "2023-06-08T13:07:02.548Z"
   },
   {
    "duration": 66,
    "start_time": "2023-06-08T13:07:02.584Z"
   },
   {
    "duration": 24,
    "start_time": "2023-06-08T13:07:02.652Z"
   },
   {
    "duration": 25,
    "start_time": "2023-06-08T13:07:02.677Z"
   },
   {
    "duration": 32,
    "start_time": "2023-06-08T13:07:02.704Z"
   },
   {
    "duration": 27,
    "start_time": "2023-06-08T13:07:02.738Z"
   },
   {
    "duration": 33,
    "start_time": "2023-06-08T13:07:02.767Z"
   },
   {
    "duration": 30,
    "start_time": "2023-06-08T13:07:02.802Z"
   },
   {
    "duration": 25,
    "start_time": "2023-06-08T13:07:02.833Z"
   },
   {
    "duration": 140,
    "start_time": "2023-06-08T13:07:02.860Z"
   },
   {
    "duration": 26,
    "start_time": "2023-06-08T13:07:03.002Z"
   },
   {
    "duration": 16,
    "start_time": "2023-06-08T13:07:03.030Z"
   },
   {
    "duration": 32,
    "start_time": "2023-06-08T13:07:03.048Z"
   },
   {
    "duration": 61,
    "start_time": "2023-06-08T13:07:03.084Z"
   },
   {
    "duration": 16,
    "start_time": "2023-06-08T13:09:14.628Z"
   },
   {
    "duration": 115,
    "start_time": "2023-06-08T13:10:33.526Z"
   },
   {
    "duration": 14,
    "start_time": "2023-06-08T13:10:47.694Z"
   },
   {
    "duration": 22,
    "start_time": "2023-06-08T13:11:05.655Z"
   },
   {
    "duration": 14,
    "start_time": "2023-06-08T13:11:21.259Z"
   },
   {
    "duration": 10,
    "start_time": "2023-06-08T13:11:51.544Z"
   },
   {
    "duration": 15,
    "start_time": "2023-06-08T13:12:08.052Z"
   },
   {
    "duration": 95,
    "start_time": "2023-06-08T13:13:46.303Z"
   },
   {
    "duration": 1172,
    "start_time": "2023-06-08T13:14:35.976Z"
   },
   {
    "duration": 3,
    "start_time": "2023-06-08T13:15:34.676Z"
   },
   {
    "duration": 97,
    "start_time": "2023-06-08T13:18:27.214Z"
   },
   {
    "duration": 3,
    "start_time": "2023-06-08T13:18:59.886Z"
   },
   {
    "duration": 15,
    "start_time": "2023-06-08T13:23:52.366Z"
   },
   {
    "duration": 16,
    "start_time": "2023-06-08T13:25:02.239Z"
   },
   {
    "duration": 1128,
    "start_time": "2023-06-08T13:25:40.679Z"
   },
   {
    "duration": 26,
    "start_time": "2023-06-08T13:25:41.809Z"
   },
   {
    "duration": 14,
    "start_time": "2023-06-08T13:25:41.837Z"
   },
   {
    "duration": 8,
    "start_time": "2023-06-08T13:25:41.854Z"
   },
   {
    "duration": 41,
    "start_time": "2023-06-08T13:25:41.864Z"
   },
   {
    "duration": 22,
    "start_time": "2023-06-08T13:25:41.907Z"
   },
   {
    "duration": 21,
    "start_time": "2023-06-08T13:25:41.931Z"
   },
   {
    "duration": 5,
    "start_time": "2023-06-08T13:25:41.953Z"
   },
   {
    "duration": 22,
    "start_time": "2023-06-08T13:25:41.959Z"
   },
   {
    "duration": 13,
    "start_time": "2023-06-08T13:25:41.983Z"
   },
   {
    "duration": 40,
    "start_time": "2023-06-08T13:25:41.997Z"
   },
   {
    "duration": 9,
    "start_time": "2023-06-08T13:25:42.038Z"
   },
   {
    "duration": 4,
    "start_time": "2023-06-08T13:25:42.048Z"
   },
   {
    "duration": 14,
    "start_time": "2023-06-08T13:25:42.053Z"
   },
   {
    "duration": 19,
    "start_time": "2023-06-08T13:25:42.068Z"
   },
   {
    "duration": 40,
    "start_time": "2023-06-08T13:25:42.089Z"
   },
   {
    "duration": 4,
    "start_time": "2023-06-08T13:25:42.131Z"
   },
   {
    "duration": 11,
    "start_time": "2023-06-08T13:25:42.136Z"
   },
   {
    "duration": 5,
    "start_time": "2023-06-08T13:25:42.149Z"
   },
   {
    "duration": 7,
    "start_time": "2023-06-08T13:25:42.156Z"
   },
   {
    "duration": 12,
    "start_time": "2023-06-08T13:25:42.165Z"
   },
   {
    "duration": 3,
    "start_time": "2023-06-08T13:25:42.179Z"
   },
   {
    "duration": 14,
    "start_time": "2023-06-08T13:25:42.184Z"
   },
   {
    "duration": 138,
    "start_time": "2023-06-08T13:25:42.199Z"
   },
   {
    "duration": 16,
    "start_time": "2023-06-08T13:25:42.338Z"
   },
   {
    "duration": 2,
    "start_time": "2023-06-08T13:25:42.356Z"
   },
   {
    "duration": 17,
    "start_time": "2023-06-08T13:25:42.359Z"
   },
   {
    "duration": 3,
    "start_time": "2023-06-08T13:25:42.379Z"
   },
   {
    "duration": 38,
    "start_time": "2023-06-08T13:25:42.383Z"
   },
   {
    "duration": 17,
    "start_time": "2023-06-08T13:29:25.187Z"
   },
   {
    "duration": 111,
    "start_time": "2023-06-08T13:31:17.527Z"
   },
   {
    "duration": 56,
    "start_time": "2023-06-08T13:39:23.491Z"
   },
   {
    "duration": 1281,
    "start_time": "2023-06-08T13:52:03.633Z"
   },
   {
    "duration": 19,
    "start_time": "2023-06-08T13:52:04.916Z"
   },
   {
    "duration": 27,
    "start_time": "2023-06-08T13:52:04.936Z"
   },
   {
    "duration": 40,
    "start_time": "2023-06-08T13:52:04.965Z"
   },
   {
    "duration": 32,
    "start_time": "2023-06-08T13:52:05.008Z"
   },
   {
    "duration": 3,
    "start_time": "2023-06-08T13:52:05.042Z"
   },
   {
    "duration": 30,
    "start_time": "2023-06-08T13:52:05.046Z"
   },
   {
    "duration": 21,
    "start_time": "2023-06-08T13:52:05.080Z"
   },
   {
    "duration": 19,
    "start_time": "2023-06-08T13:52:05.103Z"
   },
   {
    "duration": 16,
    "start_time": "2023-06-08T13:52:05.124Z"
   },
   {
    "duration": 47,
    "start_time": "2023-06-08T13:52:05.141Z"
   },
   {
    "duration": 13,
    "start_time": "2023-06-08T13:52:05.190Z"
   },
   {
    "duration": 13,
    "start_time": "2023-06-08T13:52:05.206Z"
   },
   {
    "duration": 26,
    "start_time": "2023-06-08T13:52:05.222Z"
   },
   {
    "duration": 26,
    "start_time": "2023-06-08T13:52:05.250Z"
   },
   {
    "duration": 22,
    "start_time": "2023-06-08T13:52:05.279Z"
   },
   {
    "duration": 4,
    "start_time": "2023-06-08T13:52:05.304Z"
   },
   {
    "duration": 35,
    "start_time": "2023-06-08T13:52:05.310Z"
   },
   {
    "duration": 26,
    "start_time": "2023-06-08T13:52:05.347Z"
   },
   {
    "duration": 16,
    "start_time": "2023-06-08T13:52:05.375Z"
   },
   {
    "duration": 41,
    "start_time": "2023-06-08T13:52:05.398Z"
   },
   {
    "duration": 31,
    "start_time": "2023-06-08T13:52:05.440Z"
   },
   {
    "duration": 34,
    "start_time": "2023-06-08T13:52:05.473Z"
   },
   {
    "duration": 146,
    "start_time": "2023-06-08T13:52:05.508Z"
   },
   {
    "duration": 17,
    "start_time": "2023-06-08T13:52:05.655Z"
   },
   {
    "duration": 4,
    "start_time": "2023-06-08T13:52:05.674Z"
   },
   {
    "duration": 27,
    "start_time": "2023-06-08T13:52:05.679Z"
   },
   {
    "duration": 2,
    "start_time": "2023-06-08T13:52:05.707Z"
   },
   {
    "duration": 21,
    "start_time": "2023-06-08T13:52:05.711Z"
   },
   {
    "duration": 155,
    "start_time": "2023-06-08T14:19:16.595Z"
   },
   {
    "duration": 1892,
    "start_time": "2023-06-08T14:25:31.988Z"
   },
   {
    "duration": 118,
    "start_time": "2023-06-08T14:25:53.272Z"
   },
   {
    "duration": 106,
    "start_time": "2023-06-08T14:26:17.715Z"
   },
   {
    "duration": 14,
    "start_time": "2023-06-08T14:29:49.153Z"
   },
   {
    "duration": 137,
    "start_time": "2023-06-08T14:30:05.517Z"
   },
   {
    "duration": 119,
    "start_time": "2023-06-08T14:34:44.307Z"
   },
   {
    "duration": 115,
    "start_time": "2023-06-08T14:35:01.882Z"
   },
   {
    "duration": 147,
    "start_time": "2023-06-08T14:37:22.962Z"
   },
   {
    "duration": 79,
    "start_time": "2023-06-11T10:31:39.978Z"
   },
   {
    "duration": 73,
    "start_time": "2023-06-11T10:31:53.765Z"
   },
   {
    "duration": 589,
    "start_time": "2023-06-11T10:34:28.095Z"
   },
   {
    "duration": 1151,
    "start_time": "2023-06-11T10:34:57.146Z"
   },
   {
    "duration": 16,
    "start_time": "2023-06-11T10:34:58.299Z"
   },
   {
    "duration": 13,
    "start_time": "2023-06-11T10:34:58.316Z"
   },
   {
    "duration": 15,
    "start_time": "2023-06-11T10:34:58.330Z"
   },
   {
    "duration": 27,
    "start_time": "2023-06-11T10:34:58.346Z"
   },
   {
    "duration": 2,
    "start_time": "2023-06-11T10:34:58.375Z"
   },
   {
    "duration": 8,
    "start_time": "2023-06-11T10:34:58.379Z"
   },
   {
    "duration": 17,
    "start_time": "2023-06-11T10:34:58.389Z"
   },
   {
    "duration": 5,
    "start_time": "2023-06-11T10:34:58.408Z"
   },
   {
    "duration": 4,
    "start_time": "2023-06-11T10:34:58.415Z"
   },
   {
    "duration": 29,
    "start_time": "2023-06-11T10:34:58.421Z"
   },
   {
    "duration": 7,
    "start_time": "2023-06-11T10:34:58.452Z"
   },
   {
    "duration": 4,
    "start_time": "2023-06-11T10:34:58.460Z"
   },
   {
    "duration": 11,
    "start_time": "2023-06-11T10:34:58.466Z"
   },
   {
    "duration": 39,
    "start_time": "2023-06-11T10:34:58.478Z"
   },
   {
    "duration": 14,
    "start_time": "2023-06-11T10:34:58.519Z"
   },
   {
    "duration": 3,
    "start_time": "2023-06-11T10:34:58.535Z"
   },
   {
    "duration": 13,
    "start_time": "2023-06-11T10:34:58.539Z"
   },
   {
    "duration": 16,
    "start_time": "2023-06-11T10:34:58.553Z"
   },
   {
    "duration": 9,
    "start_time": "2023-06-11T10:34:58.571Z"
   },
   {
    "duration": 11,
    "start_time": "2023-06-11T10:34:58.582Z"
   },
   {
    "duration": 13,
    "start_time": "2023-06-11T10:34:58.595Z"
   },
   {
    "duration": 34,
    "start_time": "2023-06-11T10:34:58.610Z"
   },
   {
    "duration": 107,
    "start_time": "2023-06-11T10:34:58.645Z"
   },
   {
    "duration": 145,
    "start_time": "2023-06-11T10:34:58.753Z"
   },
   {
    "duration": 118,
    "start_time": "2023-06-11T10:34:58.900Z"
   },
   {
    "duration": 15,
    "start_time": "2023-06-11T10:34:59.019Z"
   },
   {
    "duration": 2,
    "start_time": "2023-06-11T10:34:59.036Z"
   },
   {
    "duration": 159,
    "start_time": "2023-06-11T10:34:59.039Z"
   },
   {
    "duration": 15,
    "start_time": "2023-06-11T10:34:59.199Z"
   },
   {
    "duration": 118,
    "start_time": "2023-06-11T10:34:59.215Z"
   },
   {
    "duration": 33,
    "start_time": "2023-06-11T10:34:59.334Z"
   },
   {
    "duration": 112,
    "start_time": "2023-06-11T10:35:39.541Z"
   },
   {
    "duration": 119,
    "start_time": "2023-06-11T10:50:31.140Z"
   },
   {
    "duration": 104,
    "start_time": "2023-06-11T11:03:34.674Z"
   },
   {
    "duration": 106,
    "start_time": "2023-06-11T11:04:10.285Z"
   },
   {
    "duration": 123,
    "start_time": "2023-06-11T11:06:15.764Z"
   },
   {
    "duration": 171,
    "start_time": "2023-06-11T11:07:18.731Z"
   },
   {
    "duration": 104,
    "start_time": "2023-06-11T11:07:31.167Z"
   },
   {
    "duration": 71,
    "start_time": "2023-06-11T11:08:48.398Z"
   },
   {
    "duration": 1229,
    "start_time": "2023-06-11T19:19:12.431Z"
   },
   {
    "duration": 20,
    "start_time": "2023-06-11T19:19:13.662Z"
   },
   {
    "duration": 15,
    "start_time": "2023-06-11T19:19:13.683Z"
   },
   {
    "duration": 9,
    "start_time": "2023-06-11T19:19:13.700Z"
   },
   {
    "duration": 58,
    "start_time": "2023-06-11T19:19:13.711Z"
   },
   {
    "duration": 3,
    "start_time": "2023-06-11T19:19:13.771Z"
   },
   {
    "duration": 14,
    "start_time": "2023-06-11T19:19:13.776Z"
   },
   {
    "duration": 5,
    "start_time": "2023-06-11T19:19:13.791Z"
   },
   {
    "duration": 6,
    "start_time": "2023-06-11T19:19:13.797Z"
   },
   {
    "duration": 4,
    "start_time": "2023-06-11T19:19:13.806Z"
   },
   {
    "duration": 71,
    "start_time": "2023-06-11T19:19:13.812Z"
   },
   {
    "duration": 10,
    "start_time": "2023-06-11T19:19:13.884Z"
   },
   {
    "duration": 6,
    "start_time": "2023-06-11T19:19:13.895Z"
   },
   {
    "duration": 17,
    "start_time": "2023-06-11T19:19:13.903Z"
   },
   {
    "duration": 35,
    "start_time": "2023-06-11T19:19:13.921Z"
   },
   {
    "duration": 17,
    "start_time": "2023-06-11T19:19:13.958Z"
   },
   {
    "duration": 4,
    "start_time": "2023-06-11T19:19:13.976Z"
   },
   {
    "duration": 15,
    "start_time": "2023-06-11T19:19:13.982Z"
   },
   {
    "duration": 6,
    "start_time": "2023-06-11T19:19:13.999Z"
   },
   {
    "duration": 3,
    "start_time": "2023-06-11T19:19:14.007Z"
   },
   {
    "duration": 39,
    "start_time": "2023-06-11T19:19:14.011Z"
   },
   {
    "duration": 4,
    "start_time": "2023-06-11T19:19:14.052Z"
   },
   {
    "duration": 18,
    "start_time": "2023-06-11T19:19:14.058Z"
   },
   {
    "duration": 188,
    "start_time": "2023-06-11T19:19:14.079Z"
   },
   {
    "duration": 190,
    "start_time": "2023-06-11T19:19:14.269Z"
   },
   {
    "duration": 145,
    "start_time": "2023-06-11T19:19:14.462Z"
   },
   {
    "duration": 17,
    "start_time": "2023-06-11T19:19:14.608Z"
   },
   {
    "duration": 2,
    "start_time": "2023-06-11T19:19:14.629Z"
   },
   {
    "duration": 188,
    "start_time": "2023-06-11T19:19:14.633Z"
   },
   {
    "duration": 152,
    "start_time": "2023-06-11T19:19:14.822Z"
   },
   {
    "duration": 17,
    "start_time": "2023-06-11T19:19:14.975Z"
   },
   {
    "duration": 3,
    "start_time": "2023-06-11T19:19:14.993Z"
   },
   {
    "duration": 153,
    "start_time": "2023-06-11T19:19:14.997Z"
   },
   {
    "duration": 17,
    "start_time": "2023-06-11T19:19:15.152Z"
   },
   {
    "duration": 173,
    "start_time": "2023-06-11T19:19:15.171Z"
   }
  ],
  "colab": {
   "provenance": []
  },
  "kernelspec": {
   "display_name": "Python 3 (ipykernel)",
   "language": "python",
   "name": "python3"
  },
  "language_info": {
   "codemirror_mode": {
    "name": "ipython",
    "version": 3
   },
   "file_extension": ".py",
   "mimetype": "text/x-python",
   "name": "python",
   "nbconvert_exporter": "python",
   "pygments_lexer": "ipython3",
   "version": "3.10.9"
  },
  "toc": {
   "base_numbering": 1,
   "nav_menu": {},
   "number_sections": true,
   "sideBar": true,
   "skip_h1_title": true,
   "title_cell": "Table of Contents",
   "title_sidebar": "Contents",
   "toc_cell": false,
   "toc_position": {
    "height": "calc(100% - 180px)",
    "left": "10px",
    "top": "150px",
    "width": "207.943px"
   },
   "toc_section_display": true,
   "toc_window_display": true
  }
 },
 "nbformat": 4,
 "nbformat_minor": 5
}
